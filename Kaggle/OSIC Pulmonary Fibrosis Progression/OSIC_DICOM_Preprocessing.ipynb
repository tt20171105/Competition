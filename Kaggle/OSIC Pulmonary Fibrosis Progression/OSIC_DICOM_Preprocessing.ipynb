{
 "cells": [
  {
   "cell_type": "code",
   "execution_count": 1,
   "metadata": {
    "execution": {
     "iopub.execute_input": "2020-09-16T13:11:06.526171Z",
     "iopub.status.busy": "2020-09-16T13:11:06.525379Z",
     "iopub.status.idle": "2020-09-16T13:12:20.422868Z",
     "shell.execute_reply": "2020-09-16T13:12:20.422131Z"
    },
    "papermill": {
     "duration": 73.915313,
     "end_time": "2020-09-16T13:12:20.423003",
     "exception": false,
     "start_time": "2020-09-16T13:11:06.507690",
     "status": "completed"
    },
    "tags": []
   },
   "outputs": [
    {
     "name": "stdout",
     "output_type": "stream",
     "text": [
      "Collecting package metadata (current_repodata.json): - \b\b\\ \b\b| \b\b/ \b\b- \b\b\\ \b\b| \b\b/ \b\b- \b\b\\ \b\b| \b\b/ \b\b- \b\b\\ \b\b| \b\b/ \b\b- \b\b\\ \b\b| \b\b/ \b\b- \b\b\\ \b\b| \b\b/ \b\b- \b\b\\ \b\b| \b\b/ \b\b- \b\b\\ \b\b| \b\b/ \b\b- \b\b\\ \b\b| \b\b/ \b\b- \b\b\\ \b\b| \b\b/ \b\b- \b\b\\ \b\b| \b\b/ \b\b- \b\b\\ \b\b| \b\b/ \b\b- \b\b\\ \b\b| \b\b/ \b\b- \b\b\\ \b\b| \b\b/ \b\b- \b\b\\ \b\b| \b\b/ \b\b- \b\b\\ \b\b| \b\b/ \b\b- \b\b\\ \b\b| \b\b/ \b\b- \b\b\\ \b\b| \b\b/ \b\b- \b\b\\ \b\b| \b\b/ \b\b- \b\b\\ \b\b| \b\b/ \b\b- \b\b\\ \b\b| \b\b/ \b\b- \b\b\\ \b\b| \b\b/ \b\b- \b\b\\ \b\b| \b\b/ \b\b- \b\b\\ \b\b| \b\b/ \b\b- \b\b\\ \b\b| \b\b/ \b\b- \b\b\\ \b\b| \b\b/ \b\b- \b\b\\ \b\b| \b\b/ \b\b- \b\b\\ \b\b| \b\b/ \b\b- \b\b\\ \b\b| \b\b/ \b\b- \b\b\\ \b\b| \b\b/ \b\b- \b\b\\ \b\b| \b\bdone\r\n",
      "Solving environment: - \b\b\\ \b\b| \b\b/ \b\b- \b\b\\ \b\b| \b\b/ \b\b- \b\b\\ \b\b| \b\b/ \b\b- \b\b\\ \b\b| \b\b/ \b\b- \b\b\\ \b\b| \b\b/ \b\b- \b\b\\ \b\b| \b\b/ \b\b- \b\b\\ \b\b| \b\b/ \b\b- \b\b\\ \b\b| \b\b/ \b\b- \b\b\\ \b\b| \b\b/ \b\b- \b\b\\ \b\b| \b\b/ \b\b- \b\b\\ \b\b| \b\b/ \b\b- \b\b\\ \b\b| \b\b/ \b\b- \b\b\\ \b\b| \b\b/ \b\b- \b\b\\ \b\b| \b\b/ \b\b- \b\b\\ \b\b| \b\b/ \b\b- \b\b\\ \b\b| \b\b/ \b\b- \b\b\\ \b\b| \b\b/ \b\b- \b\b\\ \b\b| \b\b/ \b\b- \b\b\\ \b\b| \b\b/ \b\b- \b\b\\ \b\b| \b\b/ \b\b- \b\b\\ \b\b| \b\b/ \b\b- \b\b\\ \b\b| \b\b/ \b\b- \b\b\\ \b\b| \b\b/ \b\b- \b\b\\ \b\b| \b\b/ \b\b- \b\b\\ \b\b| \b\b/ \b\b- \b\b\\ \b\b| \b\b/ \b\b- \b\b\\ \b\b| \b\b/ \b\b- \b\b\\ \b\b| \b\b/ \b\b- \b\b\\ \b\b| \b\bdone\r\n",
      "\r\n",
      "## Package Plan ##\r\n",
      "\r\n",
      "  environment location: /opt/conda\r\n",
      "\r\n",
      "  added / updated specs:\r\n",
      "    - gdcm\r\n",
      "\r\n",
      "\r\n",
      "The following packages will be downloaded:\r\n",
      "\r\n",
      "    package                    |            build\r\n",
      "    ---------------------------|-----------------\r\n",
      "    conda-4.8.5                |   py37hc8dfbb8_1         3.0 MB  conda-forge\r\n",
      "    gdcm-2.8.9                 |   py37h71b2a6d_0         3.4 MB  conda-forge\r\n",
      "    libjpeg-turbo-2.0.3        |       h516909a_1        1022 KB  conda-forge\r\n",
      "    ------------------------------------------------------------\r\n",
      "                                           Total:         7.5 MB\r\n",
      "\r\n",
      "The following NEW packages will be INSTALLED:\r\n",
      "\r\n",
      "  gdcm               conda-forge/linux-64::gdcm-2.8.9-py37h71b2a6d_0\r\n",
      "  libjpeg-turbo      conda-forge/linux-64::libjpeg-turbo-2.0.3-h516909a_1\r\n",
      "\r\n",
      "The following packages will be UPDATED:\r\n",
      "\r\n",
      "  conda                                4.8.3-py37hc8dfbb8_1 --> 4.8.5-py37hc8dfbb8_1\r\n",
      "\r\n",
      "\r\n",
      "\r\n",
      "Downloading and Extracting Packages\r\n",
      "gdcm-2.8.9           | 3.4 MB    | ##################################### | 100% \r\n",
      "libjpeg-turbo-2.0.3  | 1022 KB   | ##################################### | 100% \r\n",
      "conda-4.8.5          | 3.0 MB    | ##################################### | 100% \r\n",
      "Preparing transaction: - \b\bdone\r\n",
      "Verifying transaction: | \b\b/ \b\bdone\r\n",
      "Executing transaction: \\ \b\b| \b\b/ \b\b- \b\b\\ \b\b| \b\b/ \b\b- \b\b\\ \b\b| \b\b/ \b\b- \b\b\\ \b\b| \b\b/ \b\b- \b\b\\ \b\b| \b\b/ \b\b- \b\b\\ \b\b| \b\b/ \b\b- \b\b\\ \b\b| \b\bdone\r\n"
     ]
    }
   ],
   "source": [
    "!conda install -c conda-forge gdcm -y"
   ]
  },
  {
   "cell_type": "code",
   "execution_count": 2,
   "metadata": {
    "_cell_guid": "b1076dfc-b9ad-4769-8c92-a6c4dae69d19",
    "_kg_hide-input": true,
    "_uuid": "8f2839f25d086af736a60e9eeb907d3b93b6e0e5",
    "execution": {
     "iopub.execute_input": "2020-09-16T13:12:20.674330Z",
     "iopub.status.busy": "2020-09-16T13:12:20.673247Z",
     "iopub.status.idle": "2020-09-16T13:12:22.421422Z",
     "shell.execute_reply": "2020-09-16T13:12:22.420711Z"
    },
    "papermill": {
     "duration": 1.877537,
     "end_time": "2020-09-16T13:12:22.421573",
     "exception": false,
     "start_time": "2020-09-16T13:12:20.544036",
     "status": "completed"
    },
    "tags": []
   },
   "outputs": [],
   "source": [
    "import gc\n",
    "import pydicom\n",
    "import scipy.ndimage\n",
    "import numpy as np \n",
    "import pandas as pd \n",
    "import matplotlib.pyplot as plt\n",
    "from os import listdir, mkdir\n",
    "from PIL import Image\n",
    "from tqdm import tqdm\n",
    "from datetime import datetime\n",
    "from scipy.stats import describe\n",
    "from scipy.ndimage import binary_fill_holes\n",
    "from sklearn.cluster import KMeans, MiniBatchKMeans\n",
    "from skimage import measure, morphology\n",
    "from skimage.filters import threshold_otsu, median\n",
    "from skimage.segmentation import clear_border\n",
    "\n",
    "import warnings\n",
    "warnings.filterwarnings(\"ignore\", category=DeprecationWarning)\n",
    "warnings.filterwarnings(\"ignore\", category=UserWarning)\n",
    "warnings.filterwarnings(\"ignore\", category=FutureWarning)"
   ]
  },
  {
   "cell_type": "code",
   "execution_count": 3,
   "metadata": {
    "execution": {
     "iopub.execute_input": "2020-09-16T13:12:22.678356Z",
     "iopub.status.busy": "2020-09-16T13:12:22.677383Z",
     "iopub.status.idle": "2020-09-16T13:12:22.679937Z",
     "shell.execute_reply": "2020-09-16T13:12:22.680461Z"
    },
    "papermill": {
     "duration": 0.14027,
     "end_time": "2020-09-16T13:12:22.680649",
     "exception": false,
     "start_time": "2020-09-16T13:12:22.540379",
     "status": "completed"
    },
    "tags": []
   },
   "outputs": [],
   "source": [
    "def get_slice_thickness(s0, s1):\n",
    "    if \"ImagePositionPatient\" in s0.dir():\n",
    "        return np.abs(s0.ImagePositionPatient[2] - s1.ImagePositionPatient[2])\n",
    "    if \"SliceLocation\" in s0.dir():\n",
    "        return np.abs(s0.SliceLocation - s1.SliceLocation)\n",
    "    return s0.SliceThickness\n",
    "\n",
    "def load_scans(dcm_path):\n",
    "    files     = listdir(dcm_path)\n",
    "    file_nums = [np.int(file.split(\".\")[0]) for file in files]\n",
    "    sorted_file_nums = np.sort(file_nums)[::-1]\n",
    "    slices = [pydicom.dcmread(dcm_path + \"/\" + str(file_num) + \".dcm\" ) for file_num in sorted_file_nums]\n",
    "    st     = get_slice_thickness(slices[0],slices[1])\n",
    "    images = np.stack([file.pixel_array for file in slices])\n",
    "    images = images.astype(np.int16)\n",
    "    return slices, images, st, slices[0].PixelSpacing\n",
    "\n",
    "def transform_to_hu(slices):\n",
    "    images = np.stack([file.pixel_array for file in slices])\n",
    "    images = images.astype(np.int16)\n",
    "\n",
    "    # convert ouside pixel-values to air:\n",
    "    # I'm using <= -1000 to be sure that other defaults are captured as well\n",
    "    images[images <= -1000] = 0\n",
    "    \n",
    "    # convert to HU\n",
    "    for n in range(len(slices)):\n",
    "        intercept = slices[n].RescaleIntercept\n",
    "        slope     = slices[n].RescaleSlope\n",
    "        if slope != 1:\n",
    "            images[n] = slope * images[n].astype(np.float64)\n",
    "            images[n] = images[n].astype(np.int16)\n",
    "        images[n] += np.int16(intercept)\n",
    "    \n",
    "    return np.array(images, dtype=np.int16)"
   ]
  },
  {
   "cell_type": "code",
   "execution_count": 4,
   "metadata": {
    "execution": {
     "iopub.execute_input": "2020-09-16T13:12:22.965770Z",
     "iopub.status.busy": "2020-09-16T13:12:22.950033Z",
     "iopub.status.idle": "2020-09-16T13:12:22.968778Z",
     "shell.execute_reply": "2020-09-16T13:12:22.968178Z"
    },
    "papermill": {
     "duration": 0.169129,
     "end_time": "2020-09-16T13:12:22.968907",
     "exception": false,
     "start_time": "2020-09-16T13:12:22.799778",
     "status": "completed"
    },
    "tags": []
   },
   "outputs": [],
   "source": [
    "def lung_segment_type1(img):\n",
    "    if len(np.unique(img))==1:\n",
    "        lungs  = np.zeros_like(img)\n",
    "    else:\n",
    "        thresh = threshold_otsu(img)\n",
    "        binary = img <= thresh\n",
    "        lungs  = median(clear_border(binary))\n",
    "        lungs  = morphology.binary_closing(lungs, selem=morphology.disk(7))\n",
    "        lungs  = binary_fill_holes(lungs)\n",
    "\n",
    "    final = lungs*img\n",
    "    final[final == 0] = np.min(img)\n",
    "\n",
    "    return final, lungs\n",
    "\n",
    "def lung_segment_type2(img):\n",
    "    binary_image = np.array(img > -320, dtype=np.int8)+1\n",
    "    labels = measure.label(binary_image)\n",
    "\n",
    "    background_label_1 = labels[0,0]\n",
    "    background_label_2 = labels[0,-1]\n",
    "    background_label_3 = labels[-1,0]\n",
    "    background_label_4 = labels[-1,-1]\n",
    "\n",
    "    #Fill the air around the person\n",
    "    binary_image[background_label_1 == labels] = 2\n",
    "    binary_image[background_label_2 == labels] = 2\n",
    "    binary_image[background_label_3 == labels] = 2\n",
    "    binary_image[background_label_4 == labels] = 2\n",
    "\n",
    "    #We have a lot of remaining small signals outside of the lungs that need to be removed. \n",
    "    #In our competition closing is superior to fill_lungs \n",
    "    binary_image = morphology.closing(binary_image, selem=morphology.disk(4))\n",
    "\n",
    "    binary_image -= 1 #Make the image actual binary\n",
    "    binary_image = 1-binary_image # Invert it, lungs are now 1\n",
    "\n",
    "    return binary_image*img, binary_image\n",
    "\n",
    "def lung_segment_type3(img):\n",
    "    img_org = img.copy()\n",
    "    row_size, col_size = img.shape\n",
    "    img = (img-np.mean(img))/np.std(img)\n",
    "    # Find the average pixel value near the lungs to renormalize washed out images\n",
    "    middle = img[int(col_size/5):int(col_size/5*4),int(row_size/5):int(row_size/5*4)] \n",
    "    mean   = np.mean(middle)  \n",
    "    max    = np.max(img)\n",
    "    min    = np.min(img)\n",
    "    \n",
    "    # To improve threshold finding, I'm moving the underflow and overflow on the pixel spectrum\n",
    "    img[img==max]=mean\n",
    "    img[img==min]=mean\n",
    "    \n",
    "    # Using Kmeans to separate foreground (soft tissue / bone) and background (lung/air)\n",
    "    kmeans  = MiniBatchKMeans(n_clusters=2,batch_size=3000).fit(middle.reshape(-1,1))\n",
    "    centers = sorted(kmeans.cluster_centers_.flatten())\n",
    "    threshold  = np.mean(centers)\n",
    "    thresh_img = np.where(img<threshold,1.0,0.0)  # threshold the image\n",
    "\n",
    "    # First erode away the finer elements, then dilate to include some of the pixels surrounding the lung.  \n",
    "    # We don't want to accidentally clip the lung.\n",
    "    eroded   = morphology.erosion(thresh_img,np.ones([3,3]))\n",
    "    dilation = morphology.dilation(eroded,np.ones([8,8]))\n",
    "\n",
    "    labels      = measure.label(dilation) # Different labels are displayed in different colors\n",
    "    label_vals  = np.unique(labels)\n",
    "    regions     = measure.regionprops(labels)\n",
    "\n",
    "    good_labels = []\n",
    "    for prop in regions:\n",
    "        B = prop.bbox\n",
    "        if B[2]-B[0]<row_size/10*9 and B[3]-B[1]<col_size/10*9 and B[0]>row_size/5 and B[2]<col_size/5*4:\n",
    "            good_labels.append(prop.label)\n",
    "    mask    = np.ndarray([row_size,col_size],dtype=np.int8)\n",
    "    mask[:] = 0\n",
    "\n",
    "    # After just the lungs are left, we do another large dilation in order to fill in and out the lung mask \n",
    "    for N in good_labels:\n",
    "        mask = mask + np.where(labels==N,1,0)\n",
    "    mask = morphology.dilation(mask,np.ones([10,10])) # one last dilation\n",
    "    \n",
    "    return img_org*mask, mask\n",
    "\n",
    "def lung_segment_stack(imgs, method=\"type1\"):\n",
    "    masks    = np.empty_like(imgs)\n",
    "    segments = np.empty_like(imgs)\n",
    "\n",
    "    for i, img in enumerate(imgs):\n",
    "        if   method==\"type1\":\n",
    "            seg, mask = lung_segment_type1(img)\n",
    "        elif method==\"type2\":\n",
    "            seg, mask = lung_segment_type2(img)\n",
    "        elif method==\"type3\":\n",
    "            seg, mask = lung_segment_type3(img)\n",
    "        segments[i,:,:] = seg\n",
    "        masks[i,:,:]    = mask\n",
    "        \n",
    "    return segments, masks\n",
    "\n",
    "def lung_volume(st, ps, masks):\n",
    "    return np.round(np.sum(masks) * st * ps[0] * ps[1], 3)\n",
    "\n",
    "def hist_analysis(segmented):\n",
    "    values = segmented.flatten()\n",
    "    values = values[values >= -1000]\n",
    "    stats  = describe(values)\n",
    "    return stats.mean, stats.variance, stats.skewness, stats.kurtosis\n",
    "\n",
    "def chest_measurements(ps, masks):\n",
    "    middle_slice = masks[len(masks)//2]\n",
    "    lung_area    = np.round(np.sum(middle_slice.flatten()) * ps[0] * ps[1], 3)\n",
    "    conv_h = morphology.convex_hull_image(middle_slice)\n",
    "    props  = measure.regionprops(measure.label(conv_h))\n",
    "    chest_diameter = np.round(props[0].major_axis_length, 3)\n",
    "    chest_circ     = np.round(props[0].perimeter, 3)\n",
    "    return lung_area, chest_diameter, chest_circ"
   ]
  },
  {
   "cell_type": "code",
   "execution_count": 5,
   "metadata": {
    "execution": {
     "iopub.execute_input": "2020-09-16T13:12:23.225454Z",
     "iopub.status.busy": "2020-09-16T13:12:23.224474Z",
     "iopub.status.idle": "2020-09-16T13:12:23.227590Z",
     "shell.execute_reply": "2020-09-16T13:12:23.227007Z"
    },
    "papermill": {
     "duration": 0.138868,
     "end_time": "2020-09-16T13:12:23.227718",
     "exception": false,
     "start_time": "2020-09-16T13:12:23.088850",
     "status": "completed"
    },
    "tags": []
   },
   "outputs": [],
   "source": [
    "def resize_scan(scan, new_shape):\n",
    "    # read slice as 32 bit signed integers\n",
    "    img = Image.fromarray(scan, mode=\"I\")\n",
    "    # do the resizing\n",
    "    img = img.resize(new_shape, resample=Image.LANCZOS)\n",
    "    # convert back to 16 bit integers\n",
    "    resized_scan = np.array(img, dtype=np.int16)\n",
    "    return resized_scan\n",
    "\n",
    "def crop_scan(scan):\n",
    "    img = Image.fromarray(scan, mode=\"I\")\n",
    "    \n",
    "    left = (scan.shape[0]-512)/2\n",
    "    right = (scan.shape[0]+512)/2\n",
    "    top = (scan.shape[1]-512)/2\n",
    "    bottom = (scan.shape[1]+512)/2\n",
    "\n",
    "    img = img.crop((left, top, right, bottom))\n",
    "    # convert back to 16 bit integers\n",
    "    cropped_scan = np.array(img, dtype=np.int16)\n",
    "    return cropped_scan\n",
    "\n",
    "def crop_and_resize(scan, new_shape):\n",
    "    img = Image.fromarray(scan, mode=\"I\")\n",
    "    \n",
    "    left = (scan.shape[0]-512)/2\n",
    "    right = (scan.shape[0]+512)/2\n",
    "    top = (scan.shape[1]-512)/2\n",
    "    bottom = (scan.shape[1]+512)/2\n",
    "    \n",
    "    img = img.crop((left, top, right, bottom))\n",
    "    img = img.resize(new_shape, resample=Image.LANCZOS)\n",
    "    \n",
    "    cropped_resized_scan = np.array(img, dtype=np.int16)\n",
    "    return cropped_resized_scan"
   ]
  },
  {
   "cell_type": "code",
   "execution_count": 6,
   "metadata": {
    "_kg_hide-input": true,
    "execution": {
     "iopub.execute_input": "2020-09-16T13:12:23.481679Z",
     "iopub.status.busy": "2020-09-16T13:12:23.480764Z",
     "iopub.status.idle": "2020-09-16T13:12:23.485193Z",
     "shell.execute_reply": "2020-09-16T13:12:23.484633Z"
    },
    "papermill": {
     "duration": 0.138101,
     "end_time": "2020-09-16T13:12:23.485323",
     "exception": false,
     "start_time": "2020-09-16T13:12:23.347222",
     "status": "completed"
    },
    "tags": []
   },
   "outputs": [],
   "source": [
    "def preprocess_to_hu_scans(path, my_shape, output_dir):\n",
    "    \n",
    "    for i, patient in enumerate(tqdm(listdir(path))):\n",
    "        scans    = load_scans(path + \"/\" + patient + \"/\")\n",
    "        hu_scans = transform_to_hu(scans) \n",
    "        prepared_scans = np.zeros((hu_scans.shape[0], my_shape[0], my_shape[1]),\n",
    "                                  dtype=np.int16)\n",
    "        # if squared:\n",
    "        if hu_scans.shape[1] == hu_scans.shape[2]:\n",
    "            \n",
    "            # if size is as desired\n",
    "            if hu_scans.shape[1] == my_shape[0]:\n",
    "                continue\n",
    "            # else resize:\n",
    "            else:\n",
    "               # as we have not converted to jpeg to keep all information, we need to do a workaround\n",
    "                hu_scans = hu_scans.astype(np.int32)\n",
    "                for s in range(hu_scans.shape[0]): \n",
    "                    prepared_scans[s] = resize_scan(hu_scans[s,:,:], my_shape)\n",
    "\n",
    "        # if non-squared - do a center crop to 512, 512 and then resize to desired shape\n",
    "        else:\n",
    "            hu_scans = hu_scans.astype(np.int32)\n",
    "            for s in range(hu_scans.shape[0]):\n",
    "                # if desired shape is 512x512:\n",
    "                if my_shape[0]==512:\n",
    "                    prepared_scans[s] = crop_scan(hu_scans[s,:,:])\n",
    "                else:\n",
    "                    prepared_scans[s] = crop_and_resize(hu_scans[s,:,:], my_shape)\n",
    "                \n",
    "        # save the prepared scans of patient:\n",
    "        np.save(output_dir + \"/\" + patient + '_hu_scans', prepared_scans)"
   ]
  },
  {
   "cell_type": "code",
   "execution_count": 7,
   "metadata": {
    "execution": {
     "iopub.execute_input": "2020-09-16T13:12:23.736719Z",
     "iopub.status.busy": "2020-09-16T13:12:23.735951Z",
     "iopub.status.idle": "2020-09-16T13:12:23.739304Z",
     "shell.execute_reply": "2020-09-16T13:12:23.738676Z"
    },
    "papermill": {
     "duration": 0.134589,
     "end_time": "2020-09-16T13:12:23.739424",
     "exception": false,
     "start_time": "2020-09-16T13:12:23.604835",
     "status": "completed"
    },
    "tags": []
   },
   "outputs": [],
   "source": [
    "def resize_image(images, resized_shape):\n",
    "    images         = images.astype(np.int32)\n",
    "    resized_images = np.zeros((images.shape[0], resized_shape[0], resized_shape[1]),\n",
    "                              dtype=np.int16)\n",
    "    # if squared:\n",
    "    if images.shape[1] == images.shape[2]:\n",
    "        # if size is not as desired\n",
    "        if images.shape[1] == resized_shape[0]:\n",
    "            return images\n",
    "        # else resize:\n",
    "        else:\n",
    "            for s in range(images.shape[0]):\n",
    "                resized_images[s] = resize_scan(images[s,:,:], resized_shape)\n",
    "\n",
    "    # if non-squared - do a center crop to 512, 512 and then resize to desired shape\n",
    "    else:\n",
    "        for s in range(images.shape[0]):\n",
    "            # if desired shape is 512x512:\n",
    "            if resized_shape[0]==512:\n",
    "                resized_images[s] = crop_scan(images[s,:,:])\n",
    "            else:\n",
    "                resized_images[s] = crop_and_resize(images[s,:,:], resized_shape)\n",
    "    return resized_images"
   ]
  },
  {
   "cell_type": "code",
   "execution_count": 8,
   "metadata": {
    "execution": {
     "iopub.execute_input": "2020-09-16T13:12:23.994209Z",
     "iopub.status.busy": "2020-09-16T13:12:23.993391Z",
     "iopub.status.idle": "2020-09-16T13:12:23.996218Z",
     "shell.execute_reply": "2020-09-16T13:12:23.996757Z"
    },
    "papermill": {
     "duration": 0.137586,
     "end_time": "2020-09-16T13:12:23.996945",
     "exception": false,
     "start_time": "2020-09-16T13:12:23.859359",
     "status": "completed"
    },
    "tags": []
   },
   "outputs": [],
   "source": [
    "def calculate_lung_area(path, method=\"type1\", resize_shape=(512,512)):\n",
    "    dicom_data = []\n",
    "    for i, patient in enumerate(tqdm(listdir(path))):\n",
    "        scans, images, st, ps = load_scans(path + \"/\" + patient + \"/\")\n",
    "        if method in (\"type1\",\"type2\"):\n",
    "            images = transform_to_hu(scans)\n",
    "\n",
    "        images = resize_image(images, resize_shape)\n",
    "        segmented, masks = lung_segment_stack(images, method)\n",
    "        del scans, images\n",
    "        gc.collect()\n",
    "\n",
    "        vol = lung_volume(st, ps, masks)\n",
    "        m,v,s,k = hist_analysis(segmented)\n",
    "        lung_area, chest_diameter, chest_circ = chest_measurements(ps, masks)\n",
    "        del segmented, masks\n",
    "        gc.collect()\n",
    "\n",
    "        dicom_data.append([patient, vol, m, v, s, k, \n",
    "                           lung_area, chest_diameter, chest_circ])\n",
    "        \n",
    "    cols = [\"patient\",\"volume\",\"mean\",\"variance\",\"skewness\",\"kurtosis\",\n",
    "            \"lung_area\",\"chest_diameter\",\"chest_circ\"]\n",
    "    return pd.DataFrame(dicom_data, columns=cols)"
   ]
  },
  {
   "cell_type": "code",
   "execution_count": 9,
   "metadata": {
    "execution": {
     "iopub.execute_input": "2020-09-16T13:12:24.246285Z",
     "iopub.status.busy": "2020-09-16T13:12:24.245219Z",
     "iopub.status.idle": "2020-09-16T13:12:24.248744Z",
     "shell.execute_reply": "2020-09-16T13:12:24.248009Z"
    },
    "papermill": {
     "duration": 0.130113,
     "end_time": "2020-09-16T13:12:24.248876",
     "exception": false,
     "start_time": "2020-09-16T13:12:24.118763",
     "status": "completed"
    },
    "tags": []
   },
   "outputs": [],
   "source": [
    "basepath = \"../input/osic-pulmonary-fibrosis-progression/train\""
   ]
  },
  {
   "cell_type": "code",
   "execution_count": 10,
   "metadata": {
    "execution": {
     "iopub.execute_input": "2020-09-16T13:12:24.496421Z",
     "iopub.status.busy": "2020-09-16T13:12:24.495490Z",
     "iopub.status.idle": "2020-09-16T13:38:48.529063Z",
     "shell.execute_reply": "2020-09-16T13:38:48.529881Z"
    },
    "papermill": {
     "duration": 1584.160581,
     "end_time": "2020-09-16T13:38:48.530115",
     "exception": false,
     "start_time": "2020-09-16T13:12:24.369534",
     "status": "completed"
    },
    "tags": []
   },
   "outputs": [
    {
     "name": "stderr",
     "output_type": "stream",
     "text": [
      "100%|██████████| 176/176 [26:24<00:00,  9.00s/it]"
     ]
    },
    {
     "name": "stdout",
     "output_type": "stream",
     "text": [
      "CPU times: user 23min 34s, sys: 1min 28s, total: 25min 2s\n",
      "Wall time: 26min 24s\n"
     ]
    },
    {
     "name": "stderr",
     "output_type": "stream",
     "text": [
      "\n"
     ]
    }
   ],
   "source": [
    "%%time\n",
    "df = calculate_lung_area(basepath, \"type1\", (256,256))"
   ]
  },
  {
   "cell_type": "code",
   "execution_count": 11,
   "metadata": {
    "execution": {
     "iopub.execute_input": "2020-09-16T13:38:48.975083Z",
     "iopub.status.busy": "2020-09-16T13:38:48.970451Z",
     "iopub.status.idle": "2020-09-16T13:38:48.988083Z",
     "shell.execute_reply": "2020-09-16T13:38:48.987434Z"
    },
    "papermill": {
     "duration": 0.224946,
     "end_time": "2020-09-16T13:38:48.988204",
     "exception": false,
     "start_time": "2020-09-16T13:38:48.763258",
     "status": "completed"
    },
    "tags": []
   },
   "outputs": [
    {
     "data": {
      "text/html": [
       "<div>\n",
       "<style scoped>\n",
       "    .dataframe tbody tr th:only-of-type {\n",
       "        vertical-align: middle;\n",
       "    }\n",
       "\n",
       "    .dataframe tbody tr th {\n",
       "        vertical-align: top;\n",
       "    }\n",
       "\n",
       "    .dataframe thead th {\n",
       "        text-align: right;\n",
       "    }\n",
       "</style>\n",
       "<table border=\"1\" class=\"dataframe\">\n",
       "  <thead>\n",
       "    <tr style=\"text-align: right;\">\n",
       "      <th></th>\n",
       "      <th>patient</th>\n",
       "      <th>volume</th>\n",
       "      <th>mean</th>\n",
       "      <th>variance</th>\n",
       "      <th>skewness</th>\n",
       "      <th>kurtosis</th>\n",
       "      <th>lung_area</th>\n",
       "      <th>chest_diameter</th>\n",
       "      <th>chest_circ</th>\n",
       "    </tr>\n",
       "  </thead>\n",
       "  <tbody>\n",
       "    <tr>\n",
       "      <th>0</th>\n",
       "      <td>ID00123637202217151272140</td>\n",
       "      <td>567435.130</td>\n",
       "      <td>-637.928942</td>\n",
       "      <td>58488.331748</td>\n",
       "      <td>1.307111</td>\n",
       "      <td>1.252924</td>\n",
       "      <td>5580.778</td>\n",
       "      <td>208.639</td>\n",
       "      <td>625.889</td>\n",
       "    </tr>\n",
       "    <tr>\n",
       "      <th>1</th>\n",
       "      <td>ID00407637202308788732304</td>\n",
       "      <td>828860.474</td>\n",
       "      <td>-735.302917</td>\n",
       "      <td>54572.450836</td>\n",
       "      <td>1.985335</td>\n",
       "      <td>3.937870</td>\n",
       "      <td>5505.371</td>\n",
       "      <td>166.293</td>\n",
       "      <td>471.463</td>\n",
       "    </tr>\n",
       "    <tr>\n",
       "      <th>2</th>\n",
       "      <td>ID00023637202179104603099</td>\n",
       "      <td>659613.819</td>\n",
       "      <td>-739.666131</td>\n",
       "      <td>51671.589128</td>\n",
       "      <td>1.856592</td>\n",
       "      <td>3.422155</td>\n",
       "      <td>5027.508</td>\n",
       "      <td>212.359</td>\n",
       "      <td>674.458</td>\n",
       "    </tr>\n",
       "    <tr>\n",
       "      <th>3</th>\n",
       "      <td>ID00267637202270790561585</td>\n",
       "      <td>813490.234</td>\n",
       "      <td>-625.407140</td>\n",
       "      <td>50376.678410</td>\n",
       "      <td>1.165050</td>\n",
       "      <td>1.569063</td>\n",
       "      <td>3555.469</td>\n",
       "      <td>209.455</td>\n",
       "      <td>634.617</td>\n",
       "    </tr>\n",
       "    <tr>\n",
       "      <th>4</th>\n",
       "      <td>ID00224637202259281193413</td>\n",
       "      <td>227540.329</td>\n",
       "      <td>-730.186856</td>\n",
       "      <td>55789.200738</td>\n",
       "      <td>2.056116</td>\n",
       "      <td>4.102675</td>\n",
       "      <td>7663.482</td>\n",
       "      <td>191.707</td>\n",
       "      <td>554.818</td>\n",
       "    </tr>\n",
       "  </tbody>\n",
       "</table>\n",
       "</div>"
      ],
      "text/plain": [
       "                     patient      volume        mean      variance  skewness  \\\n",
       "0  ID00123637202217151272140  567435.130 -637.928942  58488.331748  1.307111   \n",
       "1  ID00407637202308788732304  828860.474 -735.302917  54572.450836  1.985335   \n",
       "2  ID00023637202179104603099  659613.819 -739.666131  51671.589128  1.856592   \n",
       "3  ID00267637202270790561585  813490.234 -625.407140  50376.678410  1.165050   \n",
       "4  ID00224637202259281193413  227540.329 -730.186856  55789.200738  2.056116   \n",
       "\n",
       "   kurtosis  lung_area  chest_diameter  chest_circ  \n",
       "0  1.252924   5580.778         208.639     625.889  \n",
       "1  3.937870   5505.371         166.293     471.463  \n",
       "2  3.422155   5027.508         212.359     674.458  \n",
       "3  1.569063   3555.469         209.455     634.617  \n",
       "4  4.102675   7663.482         191.707     554.818  "
      ]
     },
     "execution_count": 11,
     "metadata": {},
     "output_type": "execute_result"
    }
   ],
   "source": [
    "df.head()"
   ]
  },
  {
   "cell_type": "code",
   "execution_count": 12,
   "metadata": {
    "execution": {
     "iopub.execute_input": "2020-09-16T13:38:49.376898Z",
     "iopub.status.busy": "2020-09-16T13:38:49.375842Z",
     "iopub.status.idle": "2020-09-16T13:38:49.584655Z",
     "shell.execute_reply": "2020-09-16T13:38:49.583875Z"
    },
    "papermill": {
     "duration": 0.404737,
     "end_time": "2020-09-16T13:38:49.584780",
     "exception": false,
     "start_time": "2020-09-16T13:38:49.180043",
     "status": "completed"
    },
    "tags": []
   },
   "outputs": [],
   "source": [
    "df.to_csv(\"./dicom_data.csv\", index=False)"
   ]
  },
  {
   "cell_type": "code",
   "execution_count": 13,
   "metadata": {
    "_kg_hide-input": true,
    "execution": {
     "iopub.execute_input": "2020-09-16T13:38:49.979254Z",
     "iopub.status.busy": "2020-09-16T13:38:49.978477Z",
     "iopub.status.idle": "2020-09-16T13:38:49.981599Z",
     "shell.execute_reply": "2020-09-16T13:38:49.980985Z"
    },
    "papermill": {
     "duration": 0.203089,
     "end_time": "2020-09-16T13:38:49.981730",
     "exception": false,
     "start_time": "2020-09-16T13:38:49.778641",
     "status": "completed"
    },
    "tags": []
   },
   "outputs": [],
   "source": [
    "generate   = False\n",
    "output_dir = \"scans_512x512\"\n",
    "my_shape   = (512, 512)\n",
    "if generate:\n",
    "    mkdir(output_dir)\n",
    "    preprocess_to_hu_scans(basepath, my_shape, output_dir)"
   ]
  }
 ],
 "metadata": {
  "kernelspec": {
   "display_name": "Python 3",
   "language": "python",
   "name": "python3"
  },
  "language_info": {
   "codemirror_mode": {
    "name": "ipython",
    "version": 3
   },
   "file_extension": ".py",
   "mimetype": "text/x-python",
   "name": "python",
   "nbconvert_exporter": "python",
   "pygments_lexer": "ipython3",
   "version": "3.7.6"
  },
  "papermill": {
   "duration": 1668.237869,
   "end_time": "2020-09-16T13:38:50.287070",
   "environment_variables": {},
   "exception": null,
   "input_path": "__notebook__.ipynb",
   "output_path": "__notebook__.ipynb",
   "parameters": {},
   "start_time": "2020-09-16T13:11:02.049201",
   "version": "2.1.0"
  }
 },
 "nbformat": 4,
 "nbformat_minor": 4
}
