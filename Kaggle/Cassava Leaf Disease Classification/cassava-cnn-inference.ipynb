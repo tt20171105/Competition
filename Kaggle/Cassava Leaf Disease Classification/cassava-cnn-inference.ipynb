{
 "cells": [
  {
   "cell_type": "code",
   "execution_count": 1,
   "metadata": {
    "execution": {
     "iopub.execute_input": "2021-02-18T14:43:24.543975Z",
     "iopub.status.busy": "2021-02-18T14:43:24.543209Z",
     "iopub.status.idle": "2021-02-18T14:45:22.132905Z",
     "shell.execute_reply": "2021-02-18T14:45:22.131261Z"
    },
    "papermill": {
     "duration": 117.617869,
     "end_time": "2021-02-18T14:45:22.133040",
     "exception": false,
     "start_time": "2021-02-18T14:43:24.515171",
     "status": "completed"
    },
    "tags": []
   },
   "outputs": [
    {
     "name": "stdout",
     "output_type": "stream",
     "text": [
      "Found existing installation: fastai 2.0.19\r\n",
      "Uninstalling fastai-2.0.19:\r\n",
      "  Successfully uninstalled fastai-2.0.19\r\n",
      "Processing /kaggle/input/packages/torch-1.7.1-cp37-cp37m-manylinux1_x86_64.whl\r\n",
      "Requirement already satisfied: numpy in /opt/conda/lib/python3.7/site-packages (from torch==1.7.1) (1.18.5)\r\n",
      "Requirement already satisfied: typing-extensions in /opt/conda/lib/python3.7/site-packages (from torch==1.7.1) (3.7.4.1)\r\n",
      "Installing collected packages: torch\r\n",
      "  Attempting uninstall: torch\r\n",
      "    Found existing installation: torch 1.6.0\r\n",
      "    Uninstalling torch-1.6.0:\r\n",
      "      Successfully uninstalled torch-1.6.0\r\n",
      "Successfully installed torch-1.7.1\r\n",
      "Processing /kaggle/input/packages/torchvision-0.8.2-cp37-cp37m-manylinux1_x86_64.whl\r\n",
      "Requirement already satisfied: torch==1.7.1 in /opt/conda/lib/python3.7/site-packages (from torchvision==0.8.2) (1.7.1)\r\n",
      "Requirement already satisfied: pillow>=4.1.1 in /opt/conda/lib/python3.7/site-packages (from torchvision==0.8.2) (8.0.1)\r\n",
      "Requirement already satisfied: numpy in /opt/conda/lib/python3.7/site-packages (from torchvision==0.8.2) (1.18.5)\r\n",
      "Requirement already satisfied: typing-extensions in /opt/conda/lib/python3.7/site-packages (from torch==1.7.1->torchvision==0.8.2) (3.7.4.1)\r\n",
      "Installing collected packages: torchvision\r\n",
      "  Attempting uninstall: torchvision\r\n",
      "    Found existing installation: torchvision 0.7.0\r\n",
      "    Uninstalling torchvision-0.7.0:\r\n",
      "      Successfully uninstalled torchvision-0.7.0\r\n",
      "Successfully installed torchvision-0.8.2\r\n"
     ]
    }
   ],
   "source": [
    "# Uninstall fastai for solving dependence problems\n",
    "!pip uninstall fastai -y\n",
    "# Install packages without internet\n",
    "!pip install ../input/packages/torch-1.7.1-cp37-cp37m-manylinux1_x86_64.whl\n",
    "!pip install ../input/packages/torchvision-0.8.2-cp37-cp37m-manylinux1_x86_64.whl"
   ]
  },
  {
   "cell_type": "code",
   "execution_count": 2,
   "metadata": {
    "execution": {
     "iopub.execute_input": "2021-02-18T14:45:22.185011Z",
     "iopub.status.busy": "2021-02-18T14:45:22.184128Z",
     "iopub.status.idle": "2021-02-18T14:45:23.254430Z",
     "shell.execute_reply": "2021-02-18T14:45:23.253001Z"
    },
    "papermill": {
     "duration": 1.098638,
     "end_time": "2021-02-18T14:45:23.254548",
     "exception": false,
     "start_time": "2021-02-18T14:45:22.155910",
     "status": "completed"
    },
    "tags": []
   },
   "outputs": [],
   "source": [
    "import sys\n",
    "sys.path.append('../input/pytorch-image-models/pytorch-image-models-master')\n",
    "sys.path.append('../input/repvggmodels/')\n",
    "sys.path.append('../input/vision-transformer-pytorch/VisionTransformer-Pytorch')\n",
    "\n",
    "import timm\n",
    "from repvgg import RepVGG, create_RepVGG_B3g4, create_RepVGG_B3, repvgg_model_convert\n",
    "from vision_transformer_pytorch import VisionTransformer"
   ]
  },
  {
   "cell_type": "code",
   "execution_count": 3,
   "metadata": {
    "_cell_guid": "b1076dfc-b9ad-4769-8c92-a6c4dae69d19",
    "_uuid": "8f2839f25d086af736a60e9eeb907d3b93b6e0e5",
    "execution": {
     "iopub.execute_input": "2021-02-18T14:45:23.312956Z",
     "iopub.status.busy": "2021-02-18T14:45:23.312276Z",
     "iopub.status.idle": "2021-02-18T14:45:32.964162Z",
     "shell.execute_reply": "2021-02-18T14:45:32.962887Z"
    },
    "papermill": {
     "duration": 9.687475,
     "end_time": "2021-02-18T14:45:32.964326",
     "exception": false,
     "start_time": "2021-02-18T14:45:23.276851",
     "status": "completed"
    },
    "tags": []
   },
   "outputs": [
    {
     "name": "stderr",
     "output_type": "stream",
     "text": [
      "\u001b[34m\u001b[1mwandb\u001b[0m: \u001b[33mWARNING\u001b[0m W&B installed but not logged in.  Run `wandb login` or set the WANDB_API_KEY env variable.\n"
     ]
    }
   ],
   "source": [
    "import os\n",
    "import cv2\n",
    "import time\n",
    "import random\n",
    "import joblib\n",
    "import sklearn\n",
    "import warnings\n",
    "import multiprocessing\n",
    "import numpy as np\n",
    "import pandas as pd\n",
    "import matplotlib.pyplot as plt\n",
    "from PIL import Image\n",
    "from glob import glob\n",
    "from tqdm import tqdm\n",
    "from pathlib import Path\n",
    "from datetime import datetime\n",
    "from skimage import io\n",
    "from sklearn import metrics\n",
    "from sklearn.svm import SVC\n",
    "from sklearn.ensemble import RandomForestClassifier\n",
    "from sklearn.model_selection import train_test_split, GroupKFold, StratifiedKFold\n",
    "from sklearn.metrics import roc_auc_score, log_loss\n",
    "from IPython.display import display\n",
    "from catalyst.data.sampler import BalanceClassSampler\n",
    "\n",
    "import torch\n",
    "import torch.nn.functional as F\n",
    "import torchvision\n",
    "from torch import nn\n",
    "from torch.cuda.amp import autocast, GradScaler\n",
    "from torch.utils.data import Dataset,DataLoader\n",
    "from torch.utils.data.sampler import SequentialSampler, RandomSampler\n",
    "from torch.nn.modules.loss import _WeightedLoss\n",
    "from torchvision import models\n",
    "from torchvision import transforms\n",
    "\n",
    "from albumentations.pytorch import ToTensor, ToTensorV2\n",
    "from albumentations import (\n",
    "    HorizontalFlip, VerticalFlip, IAAPerspective, ShiftScaleRotate, CLAHE, RandomRotate90,\n",
    "    Transpose, ShiftScaleRotate, Blur, OpticalDistortion, GridDistortion, HueSaturationValue,\n",
    "    IAAAdditiveGaussianNoise, GaussNoise, MotionBlur, MedianBlur, IAAPiecewiseAffine, RandomResizedCrop,\n",
    "    IAASharpen, IAAEmboss, RandomBrightnessContrast, Flip, OneOf, Compose, Normalize, Cutout, CoarseDropout,\n",
    "    ShiftScaleRotate, CenterCrop, Resize)\n",
    "\n",
    "pd.set_option(\"max_rows\", 100)"
   ]
  },
  {
   "cell_type": "code",
   "execution_count": 4,
   "metadata": {
    "execution": {
     "iopub.execute_input": "2021-02-18T14:45:33.021485Z",
     "iopub.status.busy": "2021-02-18T14:45:33.020210Z",
     "iopub.status.idle": "2021-02-18T14:45:33.024714Z",
     "shell.execute_reply": "2021-02-18T14:45:33.024151Z"
    },
    "papermill": {
     "duration": 0.035421,
     "end_time": "2021-02-18T14:45:33.024809",
     "exception": false,
     "start_time": "2021-02-18T14:45:32.989388",
     "status": "completed"
    },
    "tags": []
   },
   "outputs": [],
   "source": [
    "def seed_everything(seed):\n",
    "    random.seed(seed)\n",
    "    os.environ['PYTHONHASHSEED'] = str(seed)\n",
    "    np.random.seed(seed)\n",
    "    torch.manual_seed(seed)\n",
    "    torch.cuda.manual_seed(seed)\n",
    "    torch.backends.cudnn.deterministic = True\n",
    "    torch.backends.cudnn.benchmark = True\n",
    "    \n",
    "seed_everything(42)"
   ]
  },
  {
   "cell_type": "code",
   "execution_count": 5,
   "metadata": {
    "execution": {
     "iopub.execute_input": "2021-02-18T14:45:33.077443Z",
     "iopub.status.busy": "2021-02-18T14:45:33.076775Z",
     "iopub.status.idle": "2021-02-18T14:45:33.084601Z",
     "shell.execute_reply": "2021-02-18T14:45:33.083833Z"
    },
    "papermill": {
     "duration": 0.036768,
     "end_time": "2021-02-18T14:45:33.084739",
     "exception": false,
     "start_time": "2021-02-18T14:45:33.047971",
     "status": "completed"
    },
    "tags": []
   },
   "outputs": [],
   "source": [
    "CFG = {\n",
    "    'seed'       : 42,\n",
    "    'fold'       : 0 if len(os.listdir('../input/cassava-leaf-disease-classification/test_images/'))==1 else 99,\n",
    "    'tta'        : 1 if len(os.listdir('../input/cassava-leaf-disease-classification/test_images/'))==1 else 4,\n",
    "    'img_size'   : 400,\n",
    "    'valid_bs'   : 32,\n",
    "    'num_workers': multiprocessing.cpu_count(),\n",
    "    'device'     : \"cuda:0\" if torch.cuda.is_available() else \"cpu\"}"
   ]
  },
  {
   "cell_type": "code",
   "execution_count": 6,
   "metadata": {
    "execution": {
     "iopub.execute_input": "2021-02-18T14:45:33.137062Z",
     "iopub.status.busy": "2021-02-18T14:45:33.136480Z",
     "iopub.status.idle": "2021-02-18T14:45:33.141102Z",
     "shell.execute_reply": "2021-02-18T14:45:33.140607Z"
    },
    "papermill": {
     "duration": 0.032701,
     "end_time": "2021-02-18T14:45:33.141212",
     "exception": false,
     "start_time": "2021-02-18T14:45:33.108511",
     "status": "completed"
    },
    "tags": []
   },
   "outputs": [],
   "source": [
    "def get_img(path):\n",
    "    im_bgr = cv2.imread(path)\n",
    "    im_rgb = im_bgr[:, :, ::-1]\n",
    "    return im_rgb"
   ]
  },
  {
   "cell_type": "markdown",
   "metadata": {
    "papermill": {
     "duration": 0.023329,
     "end_time": "2021-02-18T14:45:33.188388",
     "exception": false,
     "start_time": "2021-02-18T14:45:33.165059",
     "status": "completed"
    },
    "tags": []
   },
   "source": [
    "# Make a model with noise and clean models"
   ]
  },
  {
   "cell_type": "code",
   "execution_count": 7,
   "metadata": {
    "execution": {
     "iopub.execute_input": "2021-02-18T14:45:33.245323Z",
     "iopub.status.busy": "2021-02-18T14:45:33.244645Z",
     "iopub.status.idle": "2021-02-18T14:45:33.249122Z",
     "shell.execute_reply": "2021-02-18T14:45:33.248620Z"
    },
    "papermill": {
     "duration": 0.036672,
     "end_time": "2021-02-18T14:45:33.249230",
     "exception": false,
     "start_time": "2021-02-18T14:45:33.212558",
     "status": "completed"
    },
    "tags": []
   },
   "outputs": [],
   "source": [
    "class CassavaDataset(Dataset):\n",
    "    def __init__(self, df, data_root, \n",
    "                 transforms=None, \n",
    "                 output_label=True):\n",
    "        super().__init__()\n",
    "        self.df = df.reset_index(drop=True).copy()\n",
    "        self.transforms  = transforms\n",
    "        self.data_root   = data_root\n",
    "        self.output_label  = output_label\n",
    "        \n",
    "    def __len__(self):\n",
    "        return self.df.shape[0]\n",
    "    \n",
    "    def __getitem__(self, index: int):\n",
    "        img = get_img(f\"{self.data_root}/{self.df.loc[index]['image_id']}\")\n",
    "        if self.transforms:\n",
    "            img = self.transforms(image=img)['image']\n",
    "        return img"
   ]
  },
  {
   "cell_type": "code",
   "execution_count": 8,
   "metadata": {
    "execution": {
     "iopub.execute_input": "2021-02-18T14:45:33.307514Z",
     "iopub.status.busy": "2021-02-18T14:45:33.306802Z",
     "iopub.status.idle": "2021-02-18T14:45:33.310908Z",
     "shell.execute_reply": "2021-02-18T14:45:33.310400Z"
    },
    "papermill": {
     "duration": 0.037121,
     "end_time": "2021-02-18T14:45:33.311000",
     "exception": false,
     "start_time": "2021-02-18T14:45:33.273879",
     "status": "completed"
    },
    "tags": []
   },
   "outputs": [],
   "source": [
    "def get_inference_transforms():\n",
    "    return Compose([\n",
    "            RandomResizedCrop(CFG['img_size'], CFG['img_size']),\n",
    "            Transpose(p=0.5),\n",
    "            HorizontalFlip(p=0.5),\n",
    "            VerticalFlip(p=0.5),\n",
    "            HueSaturationValue(hue_shift_limit=0.2, sat_shift_limit=0.2, val_shift_limit=0.2, p=0.5),\n",
    "            RandomBrightnessContrast(brightness_limit=(-0.1,0.1), contrast_limit=(-0.1, 0.1), p=0.5),\n",
    "            Normalize(mean=[0.485, 0.456, 0.406], std=[0.229, 0.224, 0.225], max_pixel_value=255.0, p=1.0),\n",
    "            ToTensorV2(p=1.0),\n",
    "        ], p=1.)"
   ]
  },
  {
   "cell_type": "code",
   "execution_count": 9,
   "metadata": {
    "execution": {
     "iopub.execute_input": "2021-02-18T14:45:33.372634Z",
     "iopub.status.busy": "2021-02-18T14:45:33.365753Z",
     "iopub.status.idle": "2021-02-18T14:45:33.374900Z",
     "shell.execute_reply": "2021-02-18T14:45:33.375399Z"
    },
    "papermill": {
     "duration": 0.041069,
     "end_time": "2021-02-18T14:45:33.375508",
     "exception": false,
     "start_time": "2021-02-18T14:45:33.334439",
     "status": "completed"
    },
    "tags": []
   },
   "outputs": [],
   "source": [
    "class FFN(nn.Module):\n",
    "    def __init__(self, backbone=None):\n",
    "        super(FFN, self).__init__()\n",
    "        self.backbone = backbone\n",
    "        self.lr1      = nn.Linear(1000, 256)\n",
    "        self.relu     = nn.ReLU()\n",
    "        self.dropout  = nn.Dropout(0.5)\n",
    "        self.lr2      = nn.Linear(256, 5)\n",
    "        \n",
    "    def forward(self, x):\n",
    "        x = self.backbone(x)\n",
    "        x = self.relu(self.lr1(x))\n",
    "        x = self.dropout(x)\n",
    "        x = self.lr2(x)\n",
    "        return x\n",
    "    \n",
    "class ViT(nn.Module):\n",
    "    def __init__(self, backbone=None):\n",
    "        super(ViT, self).__init__()\n",
    "        self.model = backbone\n",
    "        \n",
    "    def forward(self, x):\n",
    "        x = self.model(x)\n",
    "        return x\n",
    "    \n",
    "class EfficientNet(nn.Module):\n",
    "    def __init__(self, backbone=None):\n",
    "        super(EfficientNet, self).__init__()\n",
    "        self.model = timm.create_model(\"tf_efficientnet_b4_ns\", pretrained=False)\n",
    "        n_features = self.model.classifier.in_features\n",
    "        self.model.classifier = nn.Linear(n_features, 5)\n",
    "        \n",
    "    def forward(self, x):\n",
    "        x = self.model(x)\n",
    "        return x"
   ]
  },
  {
   "cell_type": "code",
   "execution_count": 10,
   "metadata": {
    "execution": {
     "iopub.execute_input": "2021-02-18T14:45:33.431588Z",
     "iopub.status.busy": "2021-02-18T14:45:33.430892Z",
     "iopub.status.idle": "2021-02-18T14:45:33.434966Z",
     "shell.execute_reply": "2021-02-18T14:45:33.434470Z"
    },
    "papermill": {
     "duration": 0.035518,
     "end_time": "2021-02-18T14:45:33.435052",
     "exception": false,
     "start_time": "2021-02-18T14:45:33.399534",
     "status": "completed"
    },
    "tags": []
   },
   "outputs": [],
   "source": [
    "def inference_one_epoch(model, data_loader, device):\n",
    "    model.eval()\n",
    "\n",
    "    image_preds_all = []\n",
    "    pbar = tqdm(enumerate(data_loader), total=len(data_loader))\n",
    "    for step, (imgs) in pbar:\n",
    "        imgs = imgs.to(device).float()\n",
    "        image_preds = model(imgs)\n",
    "        image_preds_all += [torch.softmax(image_preds, 1).detach().cpu().numpy()]\n",
    "        \n",
    "    image_preds_all = np.concatenate(image_preds_all, axis=0)\n",
    "    return image_preds_all"
   ]
  },
  {
   "cell_type": "code",
   "execution_count": 11,
   "metadata": {
    "execution": {
     "iopub.execute_input": "2021-02-18T14:45:33.499833Z",
     "iopub.status.busy": "2021-02-18T14:45:33.499102Z",
     "iopub.status.idle": "2021-02-18T14:45:33.502960Z",
     "shell.execute_reply": "2021-02-18T14:45:33.502492Z"
    },
    "papermill": {
     "duration": 0.043587,
     "end_time": "2021-02-18T14:45:33.503049",
     "exception": false,
     "start_time": "2021-02-18T14:45:33.459462",
     "status": "completed"
    },
    "tags": []
   },
   "outputs": [],
   "source": [
    "def predict(df, data_path, model_name, model_path, backbone, load=True, ef_fold=None):\n",
    "    results = np.zeros((len(os.listdir(data_path)), 5))\n",
    "    models  = [m for m in os.listdir(model_path) if m.find(\"csv\")==-1]\n",
    "    if ef_fold is not None:\n",
    "        models = [m for m in models if -1 < m.find(f\"_0_{ef_fold}\")]\n",
    "    for model_file in models:\n",
    "        device  = torch.device(CFG['device'])\n",
    "        dataset = CassavaDataset(df, data_path, transforms=get_inference_transforms(), output_label=False)\n",
    "\n",
    "        data_loader = torch.utils.data.DataLoader(\n",
    "            dataset, \n",
    "            batch_size =CFG['valid_bs'],\n",
    "            num_workers=CFG['num_workers'],\n",
    "            shuffle=False,\n",
    "            pin_memory=False)\n",
    "\n",
    "        model = model_name(backbone)\n",
    "        if load:\n",
    "            if CFG['device'] == \"cpu\":\n",
    "                model.load_state_dict(torch.load(f\"{model_path}{model_file}\", map_location=\"cpu\"))\n",
    "            else:\n",
    "                model.load_state_dict(torch.load(f\"{model_path}{model_file}\"))\n",
    "        if backbone is not None:\n",
    "            backbone.to(device)\n",
    "        model.to(device)\n",
    "\n",
    "        preds = []\n",
    "        with torch.no_grad():\n",
    "            for _ in range(CFG['tta']):\n",
    "                preds += [(1/CFG['tta'])*inference_one_epoch(model, data_loader, device)]\n",
    "        preds    = np.sum(preds, 0)\n",
    "        results += preds\n",
    "        del model\n",
    "        torch.cuda.empty_cache()\n",
    "        \n",
    "        if CFG['fold'] == 0:\n",
    "            return results\n",
    "        \n",
    "    return results / len(models)"
   ]
  },
  {
   "cell_type": "code",
   "execution_count": 12,
   "metadata": {
    "execution": {
     "iopub.execute_input": "2021-02-18T14:45:33.559487Z",
     "iopub.status.busy": "2021-02-18T14:45:33.558884Z",
     "iopub.status.idle": "2021-02-18T14:52:19.556853Z",
     "shell.execute_reply": "2021-02-18T14:52:19.556008Z"
    },
    "papermill": {
     "duration": 406.029321,
     "end_time": "2021-02-18T14:52:19.556975",
     "exception": false,
     "start_time": "2021-02-18T14:45:33.527654",
     "status": "completed"
    },
    "tags": []
   },
   "outputs": [
    {
     "name": "stderr",
     "output_type": "stream",
     "text": [
      "100%|██████████| 669/669 [06:35<00:00,  1.69it/s]\n"
     ]
    }
   ],
   "source": [
    "train      = pd.read_csv('../input/cassava-leaf-disease-classification/train.csv')\n",
    "train_path = '../input/cassava-leaf-disease-classification/train_images/'\n",
    "model_path = '../input/cassava-models-trained-with-noise-labels/'\n",
    "backbone   = create_RepVGG_B3g4(deploy=True)\n",
    "\n",
    "results_from_noise_model = predict(train, train_path, FFN, model_path, backbone)"
   ]
  },
  {
   "cell_type": "code",
   "execution_count": 13,
   "metadata": {
    "execution": {
     "iopub.execute_input": "2021-02-18T14:52:20.050426Z",
     "iopub.status.busy": "2021-02-18T14:52:20.049805Z",
     "iopub.status.idle": "2021-02-18T14:58:18.078263Z",
     "shell.execute_reply": "2021-02-18T14:58:18.078788Z"
    },
    "papermill": {
     "duration": 358.277583,
     "end_time": "2021-02-18T14:58:18.078935",
     "exception": false,
     "start_time": "2021-02-18T14:52:19.801352",
     "status": "completed"
    },
    "tags": []
   },
   "outputs": [
    {
     "name": "stderr",
     "output_type": "stream",
     "text": [
      "100%|██████████| 669/669 [05:53<00:00,  1.89it/s]\n"
     ]
    }
   ],
   "source": [
    "model_path = '../input/cassava-noised-label-data/'\n",
    "backbone   = create_RepVGG_B3g4(deploy=True)\n",
    "\n",
    "results_from_clean_model = predict(train, train_path, FFN, model_path, backbone)"
   ]
  },
  {
   "cell_type": "code",
   "execution_count": 14,
   "metadata": {
    "execution": {
     "iopub.execute_input": "2021-02-18T14:58:19.030336Z",
     "iopub.status.busy": "2021-02-18T14:58:19.029639Z",
     "iopub.status.idle": "2021-02-18T14:58:19.079439Z",
     "shell.execute_reply": "2021-02-18T14:58:19.080007Z"
    },
    "papermill": {
     "duration": 0.529901,
     "end_time": "2021-02-18T14:58:19.080145",
     "exception": false,
     "start_time": "2021-02-18T14:58:18.550244",
     "status": "completed"
    },
    "tags": []
   },
   "outputs": [
    {
     "name": "stdout",
     "output_type": "stream",
     "text": [
      "(21397, 15)\n"
     ]
    },
    {
     "data": {
      "text/html": [
       "<div>\n",
       "<style scoped>\n",
       "    .dataframe tbody tr th:only-of-type {\n",
       "        vertical-align: middle;\n",
       "    }\n",
       "\n",
       "    .dataframe tbody tr th {\n",
       "        vertical-align: top;\n",
       "    }\n",
       "\n",
       "    .dataframe thead th {\n",
       "        text-align: right;\n",
       "    }\n",
       "</style>\n",
       "<table border=\"1\" class=\"dataframe\">\n",
       "  <thead>\n",
       "    <tr style=\"text-align: right;\">\n",
       "      <th></th>\n",
       "      <th>l0_noise</th>\n",
       "      <th>l1_noise</th>\n",
       "      <th>l2_noise</th>\n",
       "      <th>l3_noise</th>\n",
       "      <th>l4_noise</th>\n",
       "      <th>l0_clean</th>\n",
       "      <th>l1_clean</th>\n",
       "      <th>l2_clean</th>\n",
       "      <th>l3_clean</th>\n",
       "      <th>l4_clean</th>\n",
       "      <th>pred_noise</th>\n",
       "      <th>pred_clean</th>\n",
       "      <th>diff_noise_proba</th>\n",
       "      <th>diff_clean_proba</th>\n",
       "      <th>label</th>\n",
       "    </tr>\n",
       "  </thead>\n",
       "  <tbody>\n",
       "    <tr>\n",
       "      <th>0</th>\n",
       "      <td>0.863532</td>\n",
       "      <td>0.041206</td>\n",
       "      <td>0.027994</td>\n",
       "      <td>0.001638</td>\n",
       "      <td>0.065630</td>\n",
       "      <td>1.716995e-01</td>\n",
       "      <td>0.028918</td>\n",
       "      <td>0.754741</td>\n",
       "      <td>0.003274</td>\n",
       "      <td>4.136809e-02</td>\n",
       "      <td>0</td>\n",
       "      <td>2</td>\n",
       "      <td>0.691832</td>\n",
       "      <td>0.726747</td>\n",
       "      <td>0</td>\n",
       "    </tr>\n",
       "    <tr>\n",
       "      <th>1</th>\n",
       "      <td>0.004477</td>\n",
       "      <td>0.031961</td>\n",
       "      <td>0.005028</td>\n",
       "      <td>0.953340</td>\n",
       "      <td>0.005195</td>\n",
       "      <td>3.250370e-07</td>\n",
       "      <td>0.000802</td>\n",
       "      <td>0.000023</td>\n",
       "      <td>0.999173</td>\n",
       "      <td>7.283189e-07</td>\n",
       "      <td>3</td>\n",
       "      <td>3</td>\n",
       "      <td>-0.045833</td>\n",
       "      <td>0.045833</td>\n",
       "      <td>3</td>\n",
       "    </tr>\n",
       "    <tr>\n",
       "      <th>2</th>\n",
       "      <td>0.008027</td>\n",
       "      <td>0.040088</td>\n",
       "      <td>0.014453</td>\n",
       "      <td>0.044168</td>\n",
       "      <td>0.893264</td>\n",
       "      <td>7.758388e-03</td>\n",
       "      <td>0.039392</td>\n",
       "      <td>0.007170</td>\n",
       "      <td>0.014944</td>\n",
       "      <td>9.307355e-01</td>\n",
       "      <td>4</td>\n",
       "      <td>4</td>\n",
       "      <td>-0.037471</td>\n",
       "      <td>0.037471</td>\n",
       "      <td>1</td>\n",
       "    </tr>\n",
       "    <tr>\n",
       "      <th>3</th>\n",
       "      <td>0.000558</td>\n",
       "      <td>0.990621</td>\n",
       "      <td>0.000922</td>\n",
       "      <td>0.001199</td>\n",
       "      <td>0.006700</td>\n",
       "      <td>1.411741e-03</td>\n",
       "      <td>0.977580</td>\n",
       "      <td>0.002137</td>\n",
       "      <td>0.013113</td>\n",
       "      <td>5.758080e-03</td>\n",
       "      <td>1</td>\n",
       "      <td>1</td>\n",
       "      <td>0.013041</td>\n",
       "      <td>-0.013041</td>\n",
       "      <td>1</td>\n",
       "    </tr>\n",
       "    <tr>\n",
       "      <th>4</th>\n",
       "      <td>0.000548</td>\n",
       "      <td>0.000283</td>\n",
       "      <td>0.000363</td>\n",
       "      <td>0.997288</td>\n",
       "      <td>0.001518</td>\n",
       "      <td>5.281977e-07</td>\n",
       "      <td>0.000018</td>\n",
       "      <td>0.000008</td>\n",
       "      <td>0.999967</td>\n",
       "      <td>6.404779e-06</td>\n",
       "      <td>3</td>\n",
       "      <td>3</td>\n",
       "      <td>-0.002679</td>\n",
       "      <td>0.002679</td>\n",
       "      <td>3</td>\n",
       "    </tr>\n",
       "  </tbody>\n",
       "</table>\n",
       "</div>"
      ],
      "text/plain": [
       "   l0_noise  l1_noise  l2_noise  l3_noise  l4_noise      l0_clean  l1_clean  \\\n",
       "0  0.863532  0.041206  0.027994  0.001638  0.065630  1.716995e-01  0.028918   \n",
       "1  0.004477  0.031961  0.005028  0.953340  0.005195  3.250370e-07  0.000802   \n",
       "2  0.008027  0.040088  0.014453  0.044168  0.893264  7.758388e-03  0.039392   \n",
       "3  0.000558  0.990621  0.000922  0.001199  0.006700  1.411741e-03  0.977580   \n",
       "4  0.000548  0.000283  0.000363  0.997288  0.001518  5.281977e-07  0.000018   \n",
       "\n",
       "   l2_clean  l3_clean      l4_clean  pred_noise  pred_clean  diff_noise_proba  \\\n",
       "0  0.754741  0.003274  4.136809e-02           0           2          0.691832   \n",
       "1  0.000023  0.999173  7.283189e-07           3           3         -0.045833   \n",
       "2  0.007170  0.014944  9.307355e-01           4           4         -0.037471   \n",
       "3  0.002137  0.013113  5.758080e-03           1           1          0.013041   \n",
       "4  0.000008  0.999967  6.404779e-06           3           3         -0.002679   \n",
       "\n",
       "   diff_clean_proba  label  \n",
       "0          0.726747      0  \n",
       "1          0.045833      3  \n",
       "2          0.037471      1  \n",
       "3         -0.013041      1  \n",
       "4          0.002679      3  "
      ]
     },
     "execution_count": 14,
     "metadata": {},
     "output_type": "execute_result"
    }
   ],
   "source": [
    "df_noise = pd.DataFrame(results_from_noise_model, columns=[f\"l{l}_noise\" for l in range(5)])\n",
    "df_clean = pd.DataFrame(results_from_clean_model, columns=[f\"l{l}_clean\" for l in range(5)])\n",
    "df_all_labels = pd.concat([df_noise, df_clean], axis=1)\n",
    "\n",
    "# Feature engineering\n",
    "df_all_labels[\"pred_noise\"] = np.argmax(results_from_noise_model, 1)\n",
    "df_all_labels[\"pred_clean\"] = np.argmax(results_from_clean_model, 1)\n",
    "df_all_labels[\"diff_noise_proba\"] = np.max(results_from_noise_model, 1) - (results_from_clean_model * np.identity(5)[np.argmax(results_from_noise_model, 1)]).sum(1)\n",
    "df_all_labels[\"diff_clean_proba\"] = np.max(results_from_clean_model, 1) - (results_from_noise_model * np.identity(5)[np.argmax(results_from_clean_model, 1)]).sum(1)\n",
    "df_all_labels[\"label\"] = train.label\n",
    "\n",
    "print(df_all_labels.shape)\n",
    "df_all_labels.head(5)"
   ]
  },
  {
   "cell_type": "code",
   "execution_count": 15,
   "metadata": {
    "execution": {
     "iopub.execute_input": "2021-02-18T14:58:20.231474Z",
     "iopub.status.busy": "2021-02-18T14:58:20.229544Z",
     "iopub.status.idle": "2021-02-18T14:58:20.234588Z",
     "shell.execute_reply": "2021-02-18T14:58:20.235067Z"
    },
    "papermill": {
     "duration": 0.496994,
     "end_time": "2021-02-18T14:58:20.235207",
     "exception": false,
     "start_time": "2021-02-18T14:58:19.738213",
     "status": "completed"
    },
    "tags": []
   },
   "outputs": [
    {
     "name": "stdout",
     "output_type": "stream",
     "text": [
      "0.8880216852829836\n",
      "0.8784876384539889\n"
     ]
    }
   ],
   "source": [
    "def show_accuracy(p, l):\n",
    "    if p.ndim==2:\n",
    "        print(np.sum(np.argmax(p, 1) == np.array(l)) / l.shape[0])\n",
    "    else:\n",
    "        print(np.sum(p == np.array(l)) / l.shape[0])\n",
    "\n",
    "show_accuracy(results_from_noise_model, train.label)\n",
    "show_accuracy(results_from_clean_model, train.label)"
   ]
  },
  {
   "cell_type": "code",
   "execution_count": 16,
   "metadata": {
    "execution": {
     "iopub.execute_input": "2021-02-18T14:58:21.183855Z",
     "iopub.status.busy": "2021-02-18T14:58:21.183249Z",
     "iopub.status.idle": "2021-02-18T14:58:21.922019Z",
     "shell.execute_reply": "2021-02-18T14:58:21.921122Z"
    },
    "papermill": {
     "duration": 1.216734,
     "end_time": "2021-02-18T14:58:21.922125",
     "exception": false,
     "start_time": "2021-02-18T14:58:20.705391",
     "status": "completed"
    },
    "tags": []
   },
   "outputs": [
    {
     "name": "stdout",
     "output_type": "stream",
     "text": [
      "(1985, 15)\n"
     ]
    },
    {
     "data": {
      "text/plain": [
       "RandomForestClassifier(max_depth=10, min_samples_leaf=10, n_estimators=200,\n",
       "                       random_state=42)"
      ]
     },
     "execution_count": 16,
     "metadata": {},
     "output_type": "execute_result"
    }
   ],
   "source": [
    "df_miss = df_all_labels[df_all_labels.pred_noise != df_all_labels.pred_clean]\n",
    "print(df_miss.shape)\n",
    "X_train, X_test, y_train, y_test = train_test_split(np.array(df_miss.drop(\"label\", axis=1)), np.array(df_miss.label),\n",
    "                                                    test_size=0.3, random_state=42, stratify=np.array(df_miss.label))\n",
    "rfc = RandomForestClassifier(n_estimators=200, max_depth=10, min_samples_leaf=10, random_state=42)\n",
    "rfc.fit(X_train, y_train)"
   ]
  },
  {
   "cell_type": "code",
   "execution_count": 17,
   "metadata": {
    "execution": {
     "iopub.execute_input": "2021-02-18T14:58:22.872009Z",
     "iopub.status.busy": "2021-02-18T14:58:22.871130Z",
     "iopub.status.idle": "2021-02-18T14:58:22.936342Z",
     "shell.execute_reply": "2021-02-18T14:58:22.936864Z"
    },
    "papermill": {
     "duration": 0.544452,
     "end_time": "2021-02-18T14:58:22.936985",
     "exception": false,
     "start_time": "2021-02-18T14:58:22.392533",
     "status": "completed"
    },
    "tags": []
   },
   "outputs": [
    {
     "name": "stdout",
     "output_type": "stream",
     "text": [
      "0.9734542225545637\n"
     ]
    }
   ],
   "source": [
    "df_all_labels.loc[df_all_labels.pred_noise != df_all_labels.pred_clean, \"label\"] = rfc.predict(df_miss.drop(\"label\", axis=1))\n",
    "preds_with_rfc = df_all_labels.label\n",
    "show_accuracy(preds_with_rfc, train.label)"
   ]
  },
  {
   "cell_type": "markdown",
   "metadata": {
    "papermill": {
     "duration": 0.468669,
     "end_time": "2021-02-18T14:58:23.877311",
     "exception": false,
     "start_time": "2021-02-18T14:58:23.408642",
     "status": "completed"
    },
    "tags": []
   },
   "source": [
    "# Inference"
   ]
  },
  {
   "cell_type": "code",
   "execution_count": 18,
   "metadata": {
    "execution": {
     "iopub.execute_input": "2021-02-18T14:58:24.824845Z",
     "iopub.status.busy": "2021-02-18T14:58:24.824161Z",
     "iopub.status.idle": "2021-02-18T14:58:26.552379Z",
     "shell.execute_reply": "2021-02-18T14:58:26.553043Z"
    },
    "papermill": {
     "duration": 2.204988,
     "end_time": "2021-02-18T14:58:26.553237",
     "exception": false,
     "start_time": "2021-02-18T14:58:24.348249",
     "status": "completed"
    },
    "tags": []
   },
   "outputs": [
    {
     "name": "stderr",
     "output_type": "stream",
     "text": [
      "100%|██████████| 1/1 [00:00<00:00,  1.31it/s]\n"
     ]
    }
   ],
   "source": [
    "test_path  = '../input/cassava-leaf-disease-classification/test_images/'\n",
    "test = pd.DataFrame()\n",
    "test['image_id'] = list(os.listdir(test_path))\n",
    "model_path = '../input/cassava-models-trained-with-noise-labels/'\n",
    "backbone   = create_RepVGG_B3g4(deploy=True)\n",
    "\n",
    "results_from_noise_model = predict(test, test_path, FFN, model_path, backbone)"
   ]
  },
  {
   "cell_type": "code",
   "execution_count": 19,
   "metadata": {
    "execution": {
     "iopub.execute_input": "2021-02-18T14:58:27.506557Z",
     "iopub.status.busy": "2021-02-18T14:58:27.505757Z",
     "iopub.status.idle": "2021-02-18T14:58:28.526724Z",
     "shell.execute_reply": "2021-02-18T14:58:28.527412Z"
    },
    "papermill": {
     "duration": 1.500494,
     "end_time": "2021-02-18T14:58:28.527580",
     "exception": false,
     "start_time": "2021-02-18T14:58:27.027086",
     "status": "completed"
    },
    "tags": []
   },
   "outputs": [
    {
     "name": "stderr",
     "output_type": "stream",
     "text": [
      "100%|██████████| 1/1 [00:00<00:00, 10.80it/s]\n"
     ]
    }
   ],
   "source": [
    "model_path = '../input/cassava-noised-label-data/'\n",
    "backbone   = create_RepVGG_B3g4(deploy=True)\n",
    "\n",
    "results_from_clean_model = predict(test, test_path, FFN, model_path, backbone)"
   ]
  },
  {
   "cell_type": "code",
   "execution_count": 20,
   "metadata": {
    "execution": {
     "iopub.execute_input": "2021-02-18T14:58:29.484345Z",
     "iopub.status.busy": "2021-02-18T14:58:29.483510Z",
     "iopub.status.idle": "2021-02-18T14:58:33.637526Z",
     "shell.execute_reply": "2021-02-18T14:58:33.638204Z"
    },
    "papermill": {
     "duration": 4.635863,
     "end_time": "2021-02-18T14:58:33.638440",
     "exception": false,
     "start_time": "2021-02-18T14:58:29.002577",
     "status": "completed"
    },
    "tags": []
   },
   "outputs": [
    {
     "name": "stderr",
     "output_type": "stream",
     "text": [
      "100%|██████████| 1/1 [00:00<00:00,  1.87it/s]\n"
     ]
    }
   ],
   "source": [
    "model_path = '../input/../input/cassava-pytorch-efficientnet-baseline-models/'\n",
    "backbone   = None\n",
    "\n",
    "results_from_effnet = predict(test, test_path, EfficientNet, model_path, backbone, ef_fold=9)"
   ]
  },
  {
   "cell_type": "code",
   "execution_count": 21,
   "metadata": {
    "execution": {
     "iopub.execute_input": "2021-02-18T14:58:34.618556Z",
     "iopub.status.busy": "2021-02-18T14:58:34.617609Z",
     "iopub.status.idle": "2021-02-18T14:58:40.197903Z",
     "shell.execute_reply": "2021-02-18T14:58:40.198643Z"
    },
    "papermill": {
     "duration": 6.075308,
     "end_time": "2021-02-18T14:58:40.198807",
     "exception": false,
     "start_time": "2021-02-18T14:58:34.123499",
     "status": "completed"
    },
    "tags": []
   },
   "outputs": [
    {
     "name": "stderr",
     "output_type": "stream",
     "text": [
      "100%|██████████| 1/1 [00:00<00:00,  8.41it/s]\n"
     ]
    }
   ],
   "source": [
    "model_path = '../input/vit-model-1/'\n",
    "backbone   = VisionTransformer.from_name('ViT-B_16', num_classes=5)\n",
    "backbone.load_state_dict(torch.load(model_path+\"/ViT-B_16.pt\"))\n",
    "\n",
    "CFG[\"img_size\"] = 384\n",
    "\n",
    "results_from_vit = predict(test, test_path, ViT, model_path, backbone, load=False)"
   ]
  },
  {
   "cell_type": "code",
   "execution_count": 22,
   "metadata": {
    "execution": {
     "iopub.execute_input": "2021-02-18T14:58:41.177440Z",
     "iopub.status.busy": "2021-02-18T14:58:41.176528Z",
     "iopub.status.idle": "2021-02-18T14:58:41.209567Z",
     "shell.execute_reply": "2021-02-18T14:58:41.208210Z"
    },
    "papermill": {
     "duration": 0.537054,
     "end_time": "2021-02-18T14:58:41.209726",
     "exception": false,
     "start_time": "2021-02-18T14:58:40.672672",
     "status": "completed"
    },
    "tags": []
   },
   "outputs": [
    {
     "name": "stdout",
     "output_type": "stream",
     "text": [
      "(1, 14)\n"
     ]
    },
    {
     "data": {
      "text/html": [
       "<div>\n",
       "<style scoped>\n",
       "    .dataframe tbody tr th:only-of-type {\n",
       "        vertical-align: middle;\n",
       "    }\n",
       "\n",
       "    .dataframe tbody tr th {\n",
       "        vertical-align: top;\n",
       "    }\n",
       "\n",
       "    .dataframe thead th {\n",
       "        text-align: right;\n",
       "    }\n",
       "</style>\n",
       "<table border=\"1\" class=\"dataframe\">\n",
       "  <thead>\n",
       "    <tr style=\"text-align: right;\">\n",
       "      <th></th>\n",
       "      <th>l0_noise</th>\n",
       "      <th>l1_noise</th>\n",
       "      <th>l2_noise</th>\n",
       "      <th>l3_noise</th>\n",
       "      <th>l4_noise</th>\n",
       "      <th>l0_clean</th>\n",
       "      <th>l1_clean</th>\n",
       "      <th>l2_clean</th>\n",
       "      <th>l3_clean</th>\n",
       "      <th>l4_clean</th>\n",
       "      <th>pred_noise</th>\n",
       "      <th>pred_clean</th>\n",
       "      <th>diff_noise_proba</th>\n",
       "      <th>diff_clean_proba</th>\n",
       "    </tr>\n",
       "  </thead>\n",
       "  <tbody>\n",
       "    <tr>\n",
       "      <th>0</th>\n",
       "      <td>0.008613</td>\n",
       "      <td>0.010346</td>\n",
       "      <td>0.131948</td>\n",
       "      <td>0.000946</td>\n",
       "      <td>0.848147</td>\n",
       "      <td>0.009265</td>\n",
       "      <td>0.00341</td>\n",
       "      <td>0.098546</td>\n",
       "      <td>0.005546</td>\n",
       "      <td>0.883233</td>\n",
       "      <td>4</td>\n",
       "      <td>4</td>\n",
       "      <td>-0.035086</td>\n",
       "      <td>0.035086</td>\n",
       "    </tr>\n",
       "  </tbody>\n",
       "</table>\n",
       "</div>"
      ],
      "text/plain": [
       "   l0_noise  l1_noise  l2_noise  l3_noise  l4_noise  l0_clean  l1_clean  \\\n",
       "0  0.008613  0.010346  0.131948  0.000946  0.848147  0.009265   0.00341   \n",
       "\n",
       "   l2_clean  l3_clean  l4_clean  pred_noise  pred_clean  diff_noise_proba  \\\n",
       "0  0.098546  0.005546  0.883233           4           4         -0.035086   \n",
       "\n",
       "   diff_clean_proba  \n",
       "0          0.035086  "
      ]
     },
     "execution_count": 22,
     "metadata": {},
     "output_type": "execute_result"
    }
   ],
   "source": [
    "col_noise = [f\"l{l}_noise\" for l in range(5)]\n",
    "col_clean = [f\"l{l}_clean\" for l in range(5)]\n",
    "df_noise  = pd.DataFrame(results_from_noise_model, columns=col_noise)\n",
    "df_clean  = pd.DataFrame(results_from_clean_model, columns=col_clean)\n",
    "df_all_labels = pd.concat([df_noise, df_clean], axis=1)\n",
    "\n",
    "# Feature engineering\n",
    "df_all_labels[\"pred_noise\"] = np.argmax(results_from_noise_model, 1)\n",
    "df_all_labels[\"pred_clean\"] = np.argmax(results_from_clean_model, 1)\n",
    "df_all_labels[\"diff_noise_proba\"] = np.max(results_from_noise_model, 1) - (results_from_clean_model * np.identity(5)[np.argmax(results_from_noise_model, 1)]).sum(1)\n",
    "df_all_labels[\"diff_clean_proba\"] = np.max(results_from_clean_model, 1) - (results_from_noise_model * np.identity(5)[np.argmax(results_from_clean_model, 1)]).sum(1)\n",
    "\n",
    "print(df_all_labels.shape)\n",
    "df_all_labels.head(5)"
   ]
  },
  {
   "cell_type": "code",
   "execution_count": 23,
   "metadata": {
    "execution": {
     "iopub.execute_input": "2021-02-18T14:58:42.373463Z",
     "iopub.status.busy": "2021-02-18T14:58:42.372827Z",
     "iopub.status.idle": "2021-02-18T14:58:42.376509Z",
     "shell.execute_reply": "2021-02-18T14:58:42.377167Z"
    },
    "papermill": {
     "duration": 0.501832,
     "end_time": "2021-02-18T14:58:42.377355",
     "exception": false,
     "start_time": "2021-02-18T14:58:41.875523",
     "status": "completed"
    },
    "tags": []
   },
   "outputs": [],
   "source": [
    "df_miss = df_all_labels[df_all_labels.pred_noise != df_all_labels.pred_clean]\n",
    "if 0 < df_miss.shape[0]:\n",
    "    df_all_labels.loc[df_all_labels.pred_noise != df_all_labels.pred_clean, col_noise] = rfc.predict_proba(df_miss)\n",
    "    \n",
    "preds_final = 0.3*np.array(df_all_labels[col_noise]) + 0.3*np.array(df_all_labels[col_clean]) + 0.2*results_from_effnet * 0.2*results_from_vit"
   ]
  },
  {
   "cell_type": "code",
   "execution_count": 24,
   "metadata": {
    "execution": {
     "iopub.execute_input": "2021-02-18T14:58:43.608644Z",
     "iopub.status.busy": "2021-02-18T14:58:43.607728Z",
     "iopub.status.idle": "2021-02-18T14:58:43.615637Z",
     "shell.execute_reply": "2021-02-18T14:58:43.616658Z"
    },
    "papermill": {
     "duration": 0.709344,
     "end_time": "2021-02-18T14:58:43.616813",
     "exception": false,
     "start_time": "2021-02-18T14:58:42.907469",
     "status": "completed"
    },
    "tags": []
   },
   "outputs": [
    {
     "data": {
      "text/html": [
       "<div>\n",
       "<style scoped>\n",
       "    .dataframe tbody tr th:only-of-type {\n",
       "        vertical-align: middle;\n",
       "    }\n",
       "\n",
       "    .dataframe tbody tr th {\n",
       "        vertical-align: top;\n",
       "    }\n",
       "\n",
       "    .dataframe thead th {\n",
       "        text-align: right;\n",
       "    }\n",
       "</style>\n",
       "<table border=\"1\" class=\"dataframe\">\n",
       "  <thead>\n",
       "    <tr style=\"text-align: right;\">\n",
       "      <th></th>\n",
       "      <th>image_id</th>\n",
       "      <th>label</th>\n",
       "    </tr>\n",
       "  </thead>\n",
       "  <tbody>\n",
       "    <tr>\n",
       "      <th>0</th>\n",
       "      <td>2216849948.jpg</td>\n",
       "      <td>4</td>\n",
       "    </tr>\n",
       "  </tbody>\n",
       "</table>\n",
       "</div>"
      ],
      "text/plain": [
       "         image_id  label\n",
       "0  2216849948.jpg      4"
      ]
     },
     "execution_count": 24,
     "metadata": {},
     "output_type": "execute_result"
    }
   ],
   "source": [
    "test['label'] = np.argmax(preds_final, 1)\n",
    "test.head()"
   ]
  },
  {
   "cell_type": "code",
   "execution_count": 25,
   "metadata": {
    "execution": {
     "iopub.execute_input": "2021-02-18T14:58:44.662880Z",
     "iopub.status.busy": "2021-02-18T14:58:44.662219Z",
     "iopub.status.idle": "2021-02-18T14:58:44.976145Z",
     "shell.execute_reply": "2021-02-18T14:58:44.975591Z"
    },
    "papermill": {
     "duration": 0.795589,
     "end_time": "2021-02-18T14:58:44.976294",
     "exception": false,
     "start_time": "2021-02-18T14:58:44.180705",
     "status": "completed"
    },
    "tags": []
   },
   "outputs": [],
   "source": [
    "test.to_csv('submission.csv', index=False)"
   ]
  }
 ],
 "metadata": {
  "kernelspec": {
   "display_name": "Python 3",
   "language": "python",
   "name": "python3"
  },
  "language_info": {
   "codemirror_mode": {
    "name": "ipython",
    "version": 3
   },
   "file_extension": ".py",
   "mimetype": "text/x-python",
   "name": "python",
   "nbconvert_exporter": "python",
   "pygments_lexer": "ipython3",
   "version": "3.7.6"
  },
  "papermill": {
   "duration": 926.405436,
   "end_time": "2021-02-18T14:58:46.537666",
   "environment_variables": {},
   "exception": null,
   "input_path": "__notebook__.ipynb",
   "output_path": "__notebook__.ipynb",
   "parameters": {},
   "start_time": "2021-02-18T14:43:20.132230",
   "version": "2.1.0"
  }
 },
 "nbformat": 4,
 "nbformat_minor": 4
}
