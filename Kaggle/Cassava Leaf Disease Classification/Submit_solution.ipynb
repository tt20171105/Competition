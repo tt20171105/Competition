{
 "cells": [
  {
   "cell_type": "markdown",
   "metadata": {
    "papermill": {
     "duration": 0.020163,
     "end_time": "2021-02-19T18:48:26.184248",
     "exception": false,
     "start_time": "2021-02-19T18:48:26.164085",
     "status": "completed"
    },
    "tags": []
   },
   "source": [
    "- Thanks for Organizers and congrats to all kagglers. This is my first time of image competition, and I have learned a lot in this competition. I could not get high socre this time, however, I wanted to share my solution for helping anyone to find a new idea. \n",
    "\n",
    "- My solution is consisted of three parts.  \n",
    " **Part 1** - Make a clean model with expected clean data.  \n",
    " https://www.kaggle.com/ttkagglett/cassava-cnn-training-with-pre-trained-weights  \n",
    " **Part 2** - Make a noise model with clean data and labels that clean model inferenced.  \n",
    " https://www.kaggle.com/ttkagglett/cassava-cnn-training-with-noise-labels  \n",
    " **Part 3** - Inference with clean model and noise model  \n",
    " this notebook. I added a ViT model from public to ensemble them.\n",
    " \n",
    "- I tried Self-Supervised Learning, however, that does not work for me in this copmpetition.  \n",
    "  Notebook is here. If there are any mistakes, please feel free to let me know with comments.  \n",
    "  https://www.kaggle.com/ttkagglett/cassava-byol-training\n",
    "  \n",
    "- Finally, I got some amazing ideas from the following notebook. Thanks.  \n",
    "  https://www.kaggle.com/khyeh0719/pytorch-efficientnet-baseline-train-amp-aug  \n",
    "  https://www.kaggle.com/szuzhangzhi/vision-transformer-vit-cuda-as-usual"
   ]
  },
  {
   "cell_type": "code",
   "execution_count": 1,
   "metadata": {
    "execution": {
     "iopub.execute_input": "2021-02-19T18:48:26.234048Z",
     "iopub.status.busy": "2021-02-19T18:48:26.233044Z",
     "iopub.status.idle": "2021-02-19T18:50:23.586036Z",
     "shell.execute_reply": "2021-02-19T18:50:23.585022Z"
    },
    "papermill": {
     "duration": 117.382519,
     "end_time": "2021-02-19T18:50:23.586170",
     "exception": false,
     "start_time": "2021-02-19T18:48:26.203651",
     "status": "completed"
    },
    "tags": []
   },
   "outputs": [
    {
     "name": "stdout",
     "output_type": "stream",
     "text": [
      "Found existing installation: fastai 2.0.19\r\n",
      "Uninstalling fastai-2.0.19:\r\n",
      "  Successfully uninstalled fastai-2.0.19\r\n",
      "Processing /kaggle/input/packages/torch-1.7.1-cp37-cp37m-manylinux1_x86_64.whl\r\n",
      "Requirement already satisfied: numpy in /opt/conda/lib/python3.7/site-packages (from torch==1.7.1) (1.18.5)\r\n",
      "Requirement already satisfied: typing-extensions in /opt/conda/lib/python3.7/site-packages (from torch==1.7.1) (3.7.4.1)\r\n",
      "Installing collected packages: torch\r\n",
      "  Attempting uninstall: torch\r\n",
      "    Found existing installation: torch 1.6.0\r\n",
      "    Uninstalling torch-1.6.0:\r\n",
      "      Successfully uninstalled torch-1.6.0\r\n",
      "Successfully installed torch-1.7.1\r\n",
      "Processing /kaggle/input/packages/torchvision-0.8.2-cp37-cp37m-manylinux1_x86_64.whl\r\n",
      "Requirement already satisfied: pillow>=4.1.1 in /opt/conda/lib/python3.7/site-packages (from torchvision==0.8.2) (8.0.1)\r\n",
      "Requirement already satisfied: numpy in /opt/conda/lib/python3.7/site-packages (from torchvision==0.8.2) (1.18.5)\r\n",
      "Requirement already satisfied: torch==1.7.1 in /opt/conda/lib/python3.7/site-packages (from torchvision==0.8.2) (1.7.1)\r\n",
      "Requirement already satisfied: typing-extensions in /opt/conda/lib/python3.7/site-packages (from torch==1.7.1->torchvision==0.8.2) (3.7.4.1)\r\n",
      "Installing collected packages: torchvision\r\n",
      "  Attempting uninstall: torchvision\r\n",
      "    Found existing installation: torchvision 0.7.0\r\n",
      "    Uninstalling torchvision-0.7.0:\r\n",
      "      Successfully uninstalled torchvision-0.7.0\r\n",
      "Successfully installed torchvision-0.8.2\r\n"
     ]
    }
   ],
   "source": [
    "# Uninstall fastai for solving dependence problems\n",
    "!pip uninstall fastai -y\n",
    "# Install packages without internet\n",
    "!pip install ../input/packages/torch-1.7.1-cp37-cp37m-manylinux1_x86_64.whl\n",
    "!pip install ../input/packages/torchvision-0.8.2-cp37-cp37m-manylinux1_x86_64.whl"
   ]
  },
  {
   "cell_type": "code",
   "execution_count": 2,
   "metadata": {
    "execution": {
     "iopub.execute_input": "2021-02-19T18:50:23.637521Z",
     "iopub.status.busy": "2021-02-19T18:50:23.636598Z",
     "iopub.status.idle": "2021-02-19T18:50:24.202806Z",
     "shell.execute_reply": "2021-02-19T18:50:24.201941Z"
    },
    "papermill": {
     "duration": 0.593829,
     "end_time": "2021-02-19T18:50:24.202945",
     "exception": false,
     "start_time": "2021-02-19T18:50:23.609116",
     "status": "completed"
    },
    "tags": []
   },
   "outputs": [],
   "source": [
    "import sys\n",
    "sys.path.append('../input/repvggmodels/')\n",
    "sys.path.append('../input/vision-transformer-pytorch/VisionTransformer-Pytorch')\n",
    "\n",
    "from repvgg import RepVGG, create_RepVGG_B3g4, create_RepVGG_B3, repvgg_model_convert\n",
    "from vision_transformer_pytorch import VisionTransformer"
   ]
  },
  {
   "cell_type": "code",
   "execution_count": 3,
   "metadata": {
    "_cell_guid": "b1076dfc-b9ad-4769-8c92-a6c4dae69d19",
    "_uuid": "8f2839f25d086af736a60e9eeb907d3b93b6e0e5",
    "execution": {
     "iopub.execute_input": "2021-02-19T18:50:24.262053Z",
     "iopub.status.busy": "2021-02-19T18:50:24.261266Z",
     "iopub.status.idle": "2021-02-19T18:50:33.935014Z",
     "shell.execute_reply": "2021-02-19T18:50:33.934289Z"
    },
    "papermill": {
     "duration": 9.709521,
     "end_time": "2021-02-19T18:50:33.935141",
     "exception": false,
     "start_time": "2021-02-19T18:50:24.225620",
     "status": "completed"
    },
    "tags": []
   },
   "outputs": [
    {
     "name": "stderr",
     "output_type": "stream",
     "text": [
      "\u001b[34m\u001b[1mwandb\u001b[0m: \u001b[33mWARNING\u001b[0m W&B installed but not logged in.  Run `wandb login` or set the WANDB_API_KEY env variable.\n"
     ]
    }
   ],
   "source": [
    "import os\n",
    "import cv2\n",
    "import time\n",
    "import random\n",
    "import joblib\n",
    "import sklearn\n",
    "import warnings\n",
    "import multiprocessing\n",
    "import numpy as np\n",
    "import pandas as pd\n",
    "import matplotlib.pyplot as plt\n",
    "from PIL import Image\n",
    "from glob import glob\n",
    "from tqdm import tqdm\n",
    "from pathlib import Path\n",
    "from datetime import datetime\n",
    "from skimage import io\n",
    "from sklearn import metrics\n",
    "from sklearn.svm import SVC\n",
    "from sklearn.ensemble import RandomForestClassifier\n",
    "from sklearn.model_selection import train_test_split, GroupKFold, StratifiedKFold\n",
    "from sklearn.metrics import roc_auc_score, log_loss\n",
    "from IPython.display import display\n",
    "from catalyst.data.sampler import BalanceClassSampler\n",
    "\n",
    "import torch\n",
    "import torch.nn.functional as F\n",
    "import torchvision\n",
    "from torch import nn\n",
    "from torch.cuda.amp import autocast, GradScaler\n",
    "from torch.utils.data import Dataset,DataLoader\n",
    "from torch.utils.data.sampler import SequentialSampler, RandomSampler\n",
    "from torch.nn.modules.loss import _WeightedLoss\n",
    "from torchvision import models\n",
    "from torchvision import transforms\n",
    "\n",
    "from albumentations.pytorch import ToTensor, ToTensorV2\n",
    "from albumentations import (\n",
    "    HorizontalFlip, VerticalFlip, IAAPerspective, ShiftScaleRotate, CLAHE, RandomRotate90,\n",
    "    Transpose, ShiftScaleRotate, Blur, OpticalDistortion, GridDistortion, HueSaturationValue,\n",
    "    IAAAdditiveGaussianNoise, GaussNoise, MotionBlur, MedianBlur, IAAPiecewiseAffine, RandomResizedCrop,\n",
    "    IAASharpen, IAAEmboss, RandomBrightnessContrast, Flip, OneOf, Compose, Normalize, Cutout, CoarseDropout,\n",
    "    ShiftScaleRotate, CenterCrop, Resize)\n",
    "\n",
    "pd.set_option(\"max_rows\", 100)"
   ]
  },
  {
   "cell_type": "code",
   "execution_count": 4,
   "metadata": {
    "execution": {
     "iopub.execute_input": "2021-02-19T18:50:33.988864Z",
     "iopub.status.busy": "2021-02-19T18:50:33.987471Z",
     "iopub.status.idle": "2021-02-19T18:50:33.992088Z",
     "shell.execute_reply": "2021-02-19T18:50:33.991558Z"
    },
    "papermill": {
     "duration": 0.034075,
     "end_time": "2021-02-19T18:50:33.992182",
     "exception": false,
     "start_time": "2021-02-19T18:50:33.958107",
     "status": "completed"
    },
    "tags": []
   },
   "outputs": [],
   "source": [
    "def seed_everything(seed):\n",
    "    random.seed(seed)\n",
    "    os.environ['PYTHONHASHSEED'] = str(seed)\n",
    "    np.random.seed(seed)\n",
    "    torch.manual_seed(seed)\n",
    "    torch.cuda.manual_seed(seed)\n",
    "    torch.backends.cudnn.deterministic = True\n",
    "    torch.backends.cudnn.benchmark = True\n",
    "    \n",
    "seed_everything(42)"
   ]
  },
  {
   "cell_type": "code",
   "execution_count": 5,
   "metadata": {
    "execution": {
     "iopub.execute_input": "2021-02-19T18:50:34.043141Z",
     "iopub.status.busy": "2021-02-19T18:50:34.042577Z",
     "iopub.status.idle": "2021-02-19T18:50:34.054257Z",
     "shell.execute_reply": "2021-02-19T18:50:34.053738Z"
    },
    "papermill": {
     "duration": 0.040169,
     "end_time": "2021-02-19T18:50:34.054397",
     "exception": false,
     "start_time": "2021-02-19T18:50:34.014228",
     "status": "completed"
    },
    "tags": []
   },
   "outputs": [],
   "source": [
    "CFG = {\n",
    "    'seed'       : 42,\n",
    "    'fold'       : 0 if len(os.listdir('../input/cassava-leaf-disease-classification/test_images/'))==1 else 99,\n",
    "    'tta'        : 1 if len(os.listdir('../input/cassava-leaf-disease-classification/test_images/'))==1 else 4,\n",
    "    'img_size'   : 400,\n",
    "    'valid_bs'   : 32,\n",
    "    'num_workers': multiprocessing.cpu_count(),\n",
    "    'device'     : \"cuda:0\" if torch.cuda.is_available() else \"cpu\"}"
   ]
  },
  {
   "cell_type": "code",
   "execution_count": 6,
   "metadata": {
    "execution": {
     "iopub.execute_input": "2021-02-19T18:50:34.107273Z",
     "iopub.status.busy": "2021-02-19T18:50:34.106298Z",
     "iopub.status.idle": "2021-02-19T18:50:34.110656Z",
     "shell.execute_reply": "2021-02-19T18:50:34.111429Z"
    },
    "papermill": {
     "duration": 0.033989,
     "end_time": "2021-02-19T18:50:34.111610",
     "exception": false,
     "start_time": "2021-02-19T18:50:34.077621",
     "status": "completed"
    },
    "tags": []
   },
   "outputs": [],
   "source": [
    "def get_img(path):\n",
    "    im_bgr = cv2.imread(path)\n",
    "    im_rgb = im_bgr[:, :, ::-1]\n",
    "    return im_rgb"
   ]
  },
  {
   "cell_type": "markdown",
   "metadata": {
    "papermill": {
     "duration": 0.030439,
     "end_time": "2021-02-19T18:50:34.176608",
     "exception": false,
     "start_time": "2021-02-19T18:50:34.146169",
     "status": "completed"
    },
    "tags": []
   },
   "source": [
    "# Make a model with noise and clean models"
   ]
  },
  {
   "cell_type": "code",
   "execution_count": 7,
   "metadata": {
    "execution": {
     "iopub.execute_input": "2021-02-19T18:50:34.232962Z",
     "iopub.status.busy": "2021-02-19T18:50:34.232163Z",
     "iopub.status.idle": "2021-02-19T18:50:34.236050Z",
     "shell.execute_reply": "2021-02-19T18:50:34.235551Z"
    },
    "papermill": {
     "duration": 0.03636,
     "end_time": "2021-02-19T18:50:34.236160",
     "exception": false,
     "start_time": "2021-02-19T18:50:34.199800",
     "status": "completed"
    },
    "tags": []
   },
   "outputs": [],
   "source": [
    "class CassavaDataset(Dataset):\n",
    "    def __init__(self, df, data_root, \n",
    "                 transforms=None, \n",
    "                 output_label=True):\n",
    "        super().__init__()\n",
    "        self.df = df.reset_index(drop=True).copy()\n",
    "        self.transforms  = transforms\n",
    "        self.data_root   = data_root\n",
    "        self.output_label  = output_label\n",
    "        \n",
    "    def __len__(self):\n",
    "        return self.df.shape[0]\n",
    "    \n",
    "    def __getitem__(self, index: int):\n",
    "        img = get_img(f\"{self.data_root}/{self.df.loc[index]['image_id']}\")\n",
    "        if self.transforms:\n",
    "            img = self.transforms(image=img)['image']\n",
    "        return img"
   ]
  },
  {
   "cell_type": "code",
   "execution_count": 8,
   "metadata": {
    "execution": {
     "iopub.execute_input": "2021-02-19T18:50:34.293259Z",
     "iopub.status.busy": "2021-02-19T18:50:34.291594Z",
     "iopub.status.idle": "2021-02-19T18:50:34.294200Z",
     "shell.execute_reply": "2021-02-19T18:50:34.294751Z"
    },
    "papermill": {
     "duration": 0.035101,
     "end_time": "2021-02-19T18:50:34.294871",
     "exception": false,
     "start_time": "2021-02-19T18:50:34.259770",
     "status": "completed"
    },
    "tags": []
   },
   "outputs": [],
   "source": [
    "def get_inference_transforms():\n",
    "    return Compose([\n",
    "            RandomResizedCrop(CFG['img_size'], CFG['img_size']),\n",
    "            Transpose(p=0.5),\n",
    "            HorizontalFlip(p=0.5),\n",
    "            VerticalFlip(p=0.5),\n",
    "            HueSaturationValue(hue_shift_limit=0.2, sat_shift_limit=0.2, val_shift_limit=0.2, p=0.5),\n",
    "            RandomBrightnessContrast(brightness_limit=(-0.1,0.1), contrast_limit=(-0.1, 0.1), p=0.5),\n",
    "            Normalize(mean=[0.485, 0.456, 0.406], std=[0.229, 0.224, 0.225], max_pixel_value=255.0, p=1.0),\n",
    "            ToTensorV2(p=1.0),\n",
    "        ], p=1.)"
   ]
  },
  {
   "cell_type": "code",
   "execution_count": 9,
   "metadata": {
    "execution": {
     "iopub.execute_input": "2021-02-19T18:50:34.354285Z",
     "iopub.status.busy": "2021-02-19T18:50:34.352713Z",
     "iopub.status.idle": "2021-02-19T18:50:34.355460Z",
     "shell.execute_reply": "2021-02-19T18:50:34.355919Z"
    },
    "papermill": {
     "duration": 0.037866,
     "end_time": "2021-02-19T18:50:34.356032",
     "exception": false,
     "start_time": "2021-02-19T18:50:34.318166",
     "status": "completed"
    },
    "tags": []
   },
   "outputs": [],
   "source": [
    "class FFN(nn.Module):\n",
    "    def __init__(self, backbone=None):\n",
    "        super(FFN, self).__init__()\n",
    "        self.backbone = backbone\n",
    "        self.lr1      = nn.Linear(1000, 256)\n",
    "        self.relu     = nn.ReLU()\n",
    "        self.dropout  = nn.Dropout(0.5)\n",
    "        self.lr2      = nn.Linear(256, 5)\n",
    "        \n",
    "    def forward(self, x):\n",
    "        x = self.backbone(x)\n",
    "        x = self.relu(self.lr1(x))\n",
    "        x = self.dropout(x)\n",
    "        x = self.lr2(x)\n",
    "        return x\n",
    "    \n",
    "class ViT(nn.Module):\n",
    "    def __init__(self, backbone=None):\n",
    "        super(ViT, self).__init__()\n",
    "        self.backbone = backbone\n",
    "        \n",
    "    def forward(self, x):\n",
    "        x = self.backbone(x)\n",
    "        return x"
   ]
  },
  {
   "cell_type": "code",
   "execution_count": 10,
   "metadata": {
    "execution": {
     "iopub.execute_input": "2021-02-19T18:50:34.411773Z",
     "iopub.status.busy": "2021-02-19T18:50:34.411070Z",
     "iopub.status.idle": "2021-02-19T18:50:34.415058Z",
     "shell.execute_reply": "2021-02-19T18:50:34.414539Z"
    },
    "papermill": {
     "duration": 0.034403,
     "end_time": "2021-02-19T18:50:34.415146",
     "exception": false,
     "start_time": "2021-02-19T18:50:34.380743",
     "status": "completed"
    },
    "tags": []
   },
   "outputs": [],
   "source": [
    "def inference_one_epoch(model, data_loader, device):\n",
    "    model.eval()\n",
    "\n",
    "    image_preds_all = []\n",
    "    pbar = tqdm(enumerate(data_loader), total=len(data_loader))\n",
    "    for step, (imgs) in pbar:\n",
    "        imgs = imgs.to(device).float()\n",
    "        image_preds = model(imgs)\n",
    "        image_preds_all += [torch.softmax(image_preds, 1).detach().cpu().numpy()]\n",
    "        \n",
    "    image_preds_all = np.concatenate(image_preds_all, axis=0)\n",
    "    return image_preds_all"
   ]
  },
  {
   "cell_type": "code",
   "execution_count": 11,
   "metadata": {
    "execution": {
     "iopub.execute_input": "2021-02-19T18:50:34.480554Z",
     "iopub.status.busy": "2021-02-19T18:50:34.478621Z",
     "iopub.status.idle": "2021-02-19T18:50:34.481348Z",
     "shell.execute_reply": "2021-02-19T18:50:34.481896Z"
    },
    "papermill": {
     "duration": 0.043054,
     "end_time": "2021-02-19T18:50:34.482009",
     "exception": false,
     "start_time": "2021-02-19T18:50:34.438955",
     "status": "completed"
    },
    "tags": []
   },
   "outputs": [],
   "source": [
    "def predict(df, data_path, model_name, model_path, backbone, load=True):\n",
    "    results = np.zeros((len(os.listdir(data_path)), 5))\n",
    "    models  = [m for m in os.listdir(model_path) if m.find(\"csv\")==-1]\n",
    "    for model_file in models:\n",
    "        device  = torch.device(CFG['device'])\n",
    "        dataset = CassavaDataset(df, data_path, transforms=get_inference_transforms(), output_label=False)\n",
    "\n",
    "        data_loader = torch.utils.data.DataLoader(\n",
    "            dataset, \n",
    "            batch_size =CFG['valid_bs'],\n",
    "            num_workers=CFG['num_workers'],\n",
    "            shuffle=False,\n",
    "            pin_memory=False)\n",
    "\n",
    "        model = model_name(backbone)\n",
    "        if load:\n",
    "            if CFG['device'] == \"cpu\":\n",
    "                model.load_state_dict(torch.load(f\"{model_path}{model_file}\", map_location=\"cpu\"))\n",
    "            else:\n",
    "                model.load_state_dict(torch.load(f\"{model_path}{model_file}\"))\n",
    "        backbone.to(device)\n",
    "        model.to(device)\n",
    "\n",
    "        preds = []\n",
    "        with torch.no_grad():\n",
    "            for _ in range(CFG['tta']):\n",
    "                preds += [(1/CFG['tta'])*inference_one_epoch(model, data_loader, device)]\n",
    "        preds    = np.sum(preds, 0)\n",
    "        results += preds\n",
    "        del model\n",
    "        torch.cuda.empty_cache()\n",
    "        \n",
    "        if CFG['fold'] == 0:\n",
    "            return results\n",
    "        \n",
    "    return results / len(models)"
   ]
  },
  {
   "cell_type": "code",
   "execution_count": 12,
   "metadata": {
    "execution": {
     "iopub.execute_input": "2021-02-19T18:50:34.539700Z",
     "iopub.status.busy": "2021-02-19T18:50:34.539001Z",
     "iopub.status.idle": "2021-02-19T18:57:40.455297Z",
     "shell.execute_reply": "2021-02-19T18:57:40.455819Z"
    },
    "papermill": {
     "duration": 425.949695,
     "end_time": "2021-02-19T18:57:40.455978",
     "exception": false,
     "start_time": "2021-02-19T18:50:34.506283",
     "status": "completed"
    },
    "tags": []
   },
   "outputs": [
    {
     "name": "stderr",
     "output_type": "stream",
     "text": [
      "100%|██████████| 669/669 [06:54<00:00,  1.62it/s]\n"
     ]
    }
   ],
   "source": [
    "train      = pd.read_csv('../input/cassava-leaf-disease-classification/train.csv')\n",
    "train_path = '../input/cassava-leaf-disease-classification/train_images/'\n",
    "model_path = '../input/cassava-models-trained-with-noise-labels/'\n",
    "backbone   = create_RepVGG_B3g4(deploy=True)\n",
    "\n",
    "results_from_noise_model = predict(train, train_path, FFN, model_path, backbone)"
   ]
  },
  {
   "cell_type": "code",
   "execution_count": 13,
   "metadata": {
    "execution": {
     "iopub.execute_input": "2021-02-19T18:57:40.972948Z",
     "iopub.status.busy": "2021-02-19T18:57:40.972164Z",
     "iopub.status.idle": "2021-02-19T19:03:54.573561Z",
     "shell.execute_reply": "2021-02-19T19:03:54.573004Z"
    },
    "papermill": {
     "duration": 373.865906,
     "end_time": "2021-02-19T19:03:54.573690",
     "exception": false,
     "start_time": "2021-02-19T18:57:40.707784",
     "status": "completed"
    },
    "tags": []
   },
   "outputs": [
    {
     "name": "stderr",
     "output_type": "stream",
     "text": [
      "100%|██████████| 669/669 [06:08<00:00,  1.82it/s]\n"
     ]
    }
   ],
   "source": [
    "model_path = '../input/cassava-noised-label-data/'\n",
    "backbone   = create_RepVGG_B3g4(deploy=True)\n",
    "\n",
    "results_from_clean_model = predict(train, train_path, FFN, model_path, backbone)"
   ]
  },
  {
   "cell_type": "code",
   "execution_count": 14,
   "metadata": {
    "execution": {
     "iopub.execute_input": "2021-02-19T19:03:55.574740Z",
     "iopub.status.busy": "2021-02-19T19:03:55.569543Z",
     "iopub.status.idle": "2021-02-19T19:03:55.618576Z",
     "shell.execute_reply": "2021-02-19T19:03:55.618076Z"
    },
    "papermill": {
     "duration": 0.525859,
     "end_time": "2021-02-19T19:03:55.618691",
     "exception": false,
     "start_time": "2021-02-19T19:03:55.092832",
     "status": "completed"
    },
    "tags": []
   },
   "outputs": [
    {
     "name": "stdout",
     "output_type": "stream",
     "text": [
      "(21397, 14)\n",
      "[0, 3, 1, 1, 3]\n"
     ]
    },
    {
     "data": {
      "text/html": [
       "<div>\n",
       "<style scoped>\n",
       "    .dataframe tbody tr th:only-of-type {\n",
       "        vertical-align: middle;\n",
       "    }\n",
       "\n",
       "    .dataframe tbody tr th {\n",
       "        vertical-align: top;\n",
       "    }\n",
       "\n",
       "    .dataframe thead th {\n",
       "        text-align: right;\n",
       "    }\n",
       "</style>\n",
       "<table border=\"1\" class=\"dataframe\">\n",
       "  <thead>\n",
       "    <tr style=\"text-align: right;\">\n",
       "      <th></th>\n",
       "      <th>l0_noise</th>\n",
       "      <th>l1_noise</th>\n",
       "      <th>l2_noise</th>\n",
       "      <th>l3_noise</th>\n",
       "      <th>l4_noise</th>\n",
       "      <th>l0_clean</th>\n",
       "      <th>l1_clean</th>\n",
       "      <th>l2_clean</th>\n",
       "      <th>l3_clean</th>\n",
       "      <th>l4_clean</th>\n",
       "      <th>pred_noise</th>\n",
       "      <th>pred_clean</th>\n",
       "      <th>diff_noise_proba</th>\n",
       "      <th>diff_clean_proba</th>\n",
       "    </tr>\n",
       "  </thead>\n",
       "  <tbody>\n",
       "    <tr>\n",
       "      <th>0</th>\n",
       "      <td>0.863532</td>\n",
       "      <td>0.041206</td>\n",
       "      <td>0.027994</td>\n",
       "      <td>0.001638</td>\n",
       "      <td>0.065630</td>\n",
       "      <td>1.716995e-01</td>\n",
       "      <td>0.028918</td>\n",
       "      <td>0.754741</td>\n",
       "      <td>0.003274</td>\n",
       "      <td>4.136809e-02</td>\n",
       "      <td>0</td>\n",
       "      <td>2</td>\n",
       "      <td>0.691832</td>\n",
       "      <td>0.726747</td>\n",
       "    </tr>\n",
       "    <tr>\n",
       "      <th>1</th>\n",
       "      <td>0.004477</td>\n",
       "      <td>0.031961</td>\n",
       "      <td>0.005028</td>\n",
       "      <td>0.953340</td>\n",
       "      <td>0.005195</td>\n",
       "      <td>3.250370e-07</td>\n",
       "      <td>0.000802</td>\n",
       "      <td>0.000023</td>\n",
       "      <td>0.999173</td>\n",
       "      <td>7.283189e-07</td>\n",
       "      <td>3</td>\n",
       "      <td>3</td>\n",
       "      <td>-0.045833</td>\n",
       "      <td>0.045833</td>\n",
       "    </tr>\n",
       "    <tr>\n",
       "      <th>2</th>\n",
       "      <td>0.008027</td>\n",
       "      <td>0.040088</td>\n",
       "      <td>0.014453</td>\n",
       "      <td>0.044168</td>\n",
       "      <td>0.893264</td>\n",
       "      <td>7.758388e-03</td>\n",
       "      <td>0.039392</td>\n",
       "      <td>0.007170</td>\n",
       "      <td>0.014944</td>\n",
       "      <td>9.307355e-01</td>\n",
       "      <td>4</td>\n",
       "      <td>4</td>\n",
       "      <td>-0.037471</td>\n",
       "      <td>0.037471</td>\n",
       "    </tr>\n",
       "    <tr>\n",
       "      <th>3</th>\n",
       "      <td>0.000558</td>\n",
       "      <td>0.990621</td>\n",
       "      <td>0.000922</td>\n",
       "      <td>0.001199</td>\n",
       "      <td>0.006700</td>\n",
       "      <td>1.411741e-03</td>\n",
       "      <td>0.977580</td>\n",
       "      <td>0.002137</td>\n",
       "      <td>0.013113</td>\n",
       "      <td>5.758080e-03</td>\n",
       "      <td>1</td>\n",
       "      <td>1</td>\n",
       "      <td>0.013041</td>\n",
       "      <td>-0.013041</td>\n",
       "    </tr>\n",
       "    <tr>\n",
       "      <th>4</th>\n",
       "      <td>0.000548</td>\n",
       "      <td>0.000283</td>\n",
       "      <td>0.000363</td>\n",
       "      <td>0.997288</td>\n",
       "      <td>0.001518</td>\n",
       "      <td>5.281977e-07</td>\n",
       "      <td>0.000018</td>\n",
       "      <td>0.000008</td>\n",
       "      <td>0.999967</td>\n",
       "      <td>6.404779e-06</td>\n",
       "      <td>3</td>\n",
       "      <td>3</td>\n",
       "      <td>-0.002679</td>\n",
       "      <td>0.002679</td>\n",
       "    </tr>\n",
       "  </tbody>\n",
       "</table>\n",
       "</div>"
      ],
      "text/plain": [
       "   l0_noise  l1_noise  l2_noise  l3_noise  l4_noise      l0_clean  l1_clean  \\\n",
       "0  0.863532  0.041206  0.027994  0.001638  0.065630  1.716995e-01  0.028918   \n",
       "1  0.004477  0.031961  0.005028  0.953340  0.005195  3.250370e-07  0.000802   \n",
       "2  0.008027  0.040088  0.014453  0.044168  0.893264  7.758388e-03  0.039392   \n",
       "3  0.000558  0.990621  0.000922  0.001199  0.006700  1.411741e-03  0.977580   \n",
       "4  0.000548  0.000283  0.000363  0.997288  0.001518  5.281977e-07  0.000018   \n",
       "\n",
       "   l2_clean  l3_clean      l4_clean  pred_noise  pred_clean  diff_noise_proba  \\\n",
       "0  0.754741  0.003274  4.136809e-02           0           2          0.691832   \n",
       "1  0.000023  0.999173  7.283189e-07           3           3         -0.045833   \n",
       "2  0.007170  0.014944  9.307355e-01           4           4         -0.037471   \n",
       "3  0.002137  0.013113  5.758080e-03           1           1          0.013041   \n",
       "4  0.000008  0.999967  6.404779e-06           3           3         -0.002679   \n",
       "\n",
       "   diff_clean_proba  \n",
       "0          0.726747  \n",
       "1          0.045833  \n",
       "2          0.037471  \n",
       "3         -0.013041  \n",
       "4          0.002679  "
      ]
     },
     "execution_count": 14,
     "metadata": {},
     "output_type": "execute_result"
    }
   ],
   "source": [
    "df_noise = pd.DataFrame(results_from_noise_model, columns=[f\"l{l}_noise\" for l in range(5)])\n",
    "df_clean = pd.DataFrame(results_from_clean_model, columns=[f\"l{l}_clean\" for l in range(5)])\n",
    "df_all_labels = pd.concat([df_noise, df_clean], axis=1)\n",
    "\n",
    "# Feature engineering\n",
    "df_all_labels[\"pred_noise\"] = np.argmax(results_from_noise_model, 1)\n",
    "df_all_labels[\"pred_clean\"] = np.argmax(results_from_clean_model, 1)\n",
    "df_all_labels[\"diff_noise_proba\"] = np.max(results_from_noise_model, 1) - (results_from_clean_model * np.identity(5)[np.argmax(results_from_noise_model, 1)]).sum(1)\n",
    "df_all_labels[\"diff_clean_proba\"] = np.max(results_from_clean_model, 1) - (results_from_noise_model * np.identity(5)[np.argmax(results_from_clean_model, 1)]).sum(1)\n",
    "\n",
    "print(df_all_labels.shape)\n",
    "print(list(train.label[:5]))\n",
    "df_all_labels.head(5)"
   ]
  },
  {
   "cell_type": "code",
   "execution_count": 15,
   "metadata": {
    "execution": {
     "iopub.execute_input": "2021-02-19T19:03:56.578269Z",
     "iopub.status.busy": "2021-02-19T19:03:56.576924Z",
     "iopub.status.idle": "2021-02-19T19:03:56.583546Z",
     "shell.execute_reply": "2021-02-19T19:03:56.582943Z"
    },
    "papermill": {
     "duration": 0.489504,
     "end_time": "2021-02-19T19:03:56.583678",
     "exception": false,
     "start_time": "2021-02-19T19:03:56.094174",
     "status": "completed"
    },
    "tags": []
   },
   "outputs": [
    {
     "name": "stdout",
     "output_type": "stream",
     "text": [
      "0.8880216852829836\n",
      "0.8784876384539889\n"
     ]
    }
   ],
   "source": [
    "def show_accuracy(p, l):\n",
    "    if p.ndim==2:\n",
    "        print(np.sum(np.argmax(p, 1) == np.array(l)) / l.shape[0])\n",
    "    else:\n",
    "        print(np.sum(p == np.array(l)) / l.shape[0])\n",
    "\n",
    "show_accuracy(results_from_noise_model, train.label)\n",
    "show_accuracy(results_from_clean_model, train.label)"
   ]
  },
  {
   "cell_type": "markdown",
   "metadata": {
    "papermill": {
     "duration": 0.480655,
     "end_time": "2021-02-19T19:03:57.539784",
     "exception": false,
     "start_time": "2021-02-19T19:03:57.059129",
     "status": "completed"
    },
    "tags": []
   },
   "source": [
    "I tried three patterns(SVM/Random Forest/LightGBM). The best private socre came from RF."
   ]
  },
  {
   "cell_type": "code",
   "execution_count": 16,
   "metadata": {
    "execution": {
     "iopub.execute_input": "2021-02-19T19:03:58.493782Z",
     "iopub.status.busy": "2021-02-19T19:03:58.492695Z",
     "iopub.status.idle": "2021-02-19T19:04:04.671565Z",
     "shell.execute_reply": "2021-02-19T19:04:04.672717Z"
    },
    "papermill": {
     "duration": 6.657226,
     "end_time": "2021-02-19T19:04:04.672906",
     "exception": false,
     "start_time": "2021-02-19T19:03:58.015680",
     "status": "completed"
    },
    "tags": []
   },
   "outputs": [
    {
     "name": "stdout",
     "output_type": "stream",
     "text": [
      "0.897196261682243\n"
     ]
    }
   ],
   "source": [
    "X_train, X_test, y_train, y_test = train_test_split(np.array(df_all_labels), np.array(train.label),\n",
    "                                                    test_size=0.3, random_state=42, stratify=np.array(train.label))\n",
    "rfc = RandomForestClassifier(n_estimators=200, max_depth=10, min_samples_leaf=10, random_state=42)\n",
    "rfc.fit(X_train, y_train)\n",
    "preds_with_rfc = rfc.predict(X_test)\n",
    "show_accuracy(preds_with_rfc, y_test)"
   ]
  },
  {
   "cell_type": "markdown",
   "metadata": {
    "papermill": {
     "duration": 0.504747,
     "end_time": "2021-02-19T19:04:06.204802",
     "exception": false,
     "start_time": "2021-02-19T19:04:05.700055",
     "status": "completed"
    },
    "tags": []
   },
   "source": [
    "# Inference"
   ]
  },
  {
   "cell_type": "code",
   "execution_count": 17,
   "metadata": {
    "execution": {
     "iopub.execute_input": "2021-02-19T19:04:07.182662Z",
     "iopub.status.busy": "2021-02-19T19:04:07.181945Z",
     "iopub.status.idle": "2021-02-19T19:04:08.923461Z",
     "shell.execute_reply": "2021-02-19T19:04:08.922929Z"
    },
    "papermill": {
     "duration": 2.231378,
     "end_time": "2021-02-19T19:04:08.923580",
     "exception": false,
     "start_time": "2021-02-19T19:04:06.692202",
     "status": "completed"
    },
    "tags": []
   },
   "outputs": [
    {
     "name": "stderr",
     "output_type": "stream",
     "text": [
      "100%|██████████| 1/1 [00:00<00:00,  1.34it/s]\n"
     ]
    }
   ],
   "source": [
    "test_path  = '../input/cassava-leaf-disease-classification/test_images/'\n",
    "test = pd.DataFrame()\n",
    "test['image_id'] = list(os.listdir(test_path))\n",
    "model_path = '../input/cassava-models-trained-with-noise-labels/'\n",
    "backbone   = create_RepVGG_B3g4(deploy=True)\n",
    "\n",
    "results_from_noise_model = predict(test, test_path, FFN, model_path, backbone)"
   ]
  },
  {
   "cell_type": "code",
   "execution_count": 18,
   "metadata": {
    "execution": {
     "iopub.execute_input": "2021-02-19T19:04:09.884090Z",
     "iopub.status.busy": "2021-02-19T19:04:09.882716Z",
     "iopub.status.idle": "2021-02-19T19:04:10.926552Z",
     "shell.execute_reply": "2021-02-19T19:04:10.927010Z"
    },
    "papermill": {
     "duration": 1.521983,
     "end_time": "2021-02-19T19:04:10.927149",
     "exception": false,
     "start_time": "2021-02-19T19:04:09.405166",
     "status": "completed"
    },
    "tags": []
   },
   "outputs": [
    {
     "name": "stderr",
     "output_type": "stream",
     "text": [
      "100%|██████████| 1/1 [00:00<00:00, 10.61it/s]\n"
     ]
    }
   ],
   "source": [
    "model_path = '../input/cassava-noised-label-data/'\n",
    "backbone   = create_RepVGG_B3g4(deploy=True)\n",
    "\n",
    "results_from_clean_model = predict(test, test_path, FFN, model_path, backbone)"
   ]
  },
  {
   "cell_type": "code",
   "execution_count": 19,
   "metadata": {
    "execution": {
     "iopub.execute_input": "2021-02-19T19:04:11.925780Z",
     "iopub.status.busy": "2021-02-19T19:04:11.924922Z",
     "iopub.status.idle": "2021-02-19T19:04:17.740640Z",
     "shell.execute_reply": "2021-02-19T19:04:17.741095Z"
    },
    "papermill": {
     "duration": 6.31221,
     "end_time": "2021-02-19T19:04:17.741240",
     "exception": false,
     "start_time": "2021-02-19T19:04:11.429030",
     "status": "completed"
    },
    "tags": []
   },
   "outputs": [
    {
     "name": "stderr",
     "output_type": "stream",
     "text": [
      "100%|██████████| 1/1 [00:00<00:00,  7.10it/s]\n"
     ]
    }
   ],
   "source": [
    "model_path = '../input/vit-model-1/'\n",
    "backbone   = VisionTransformer.from_name('ViT-B_16', num_classes=5)\n",
    "backbone.load_state_dict(torch.load(model_path+\"/ViT-B_16.pt\"))\n",
    "\n",
    "CFG[\"img_size\"] = 384\n",
    "\n",
    "results_from_vit = predict(test, test_path, ViT, model_path, backbone, load=False)"
   ]
  },
  {
   "cell_type": "code",
   "execution_count": 20,
   "metadata": {
    "execution": {
     "iopub.execute_input": "2021-02-19T19:04:18.744751Z",
     "iopub.status.busy": "2021-02-19T19:04:18.743867Z",
     "iopub.status.idle": "2021-02-19T19:04:18.747309Z",
     "shell.execute_reply": "2021-02-19T19:04:18.746823Z"
    },
    "papermill": {
     "duration": 0.518278,
     "end_time": "2021-02-19T19:04:18.747457",
     "exception": false,
     "start_time": "2021-02-19T19:04:18.229179",
     "status": "completed"
    },
    "tags": []
   },
   "outputs": [],
   "source": [
    "def expand_ndim2(ar):\n",
    "    if ar.ndim==1:\n",
    "        return ar.reshape(-1,1)\n",
    "    return ar\n",
    "\n",
    "ar_pred_noise = np.argmax(results_from_noise_model, 1)\n",
    "ar_pred_clean = np.argmax(results_from_clean_model, 1)\n",
    "ar_diff_noise_proba = np.max(results_from_noise_model, 1) - (results_from_clean_model * np.identity(5)[np.argmax(results_from_noise_model, 1)]).sum(1)\n",
    "ar_diff_clean_proba = np.max(results_from_clean_model, 1) - (results_from_noise_model * np.identity(5)[np.argmax(results_from_clean_model, 1)]).sum(1)\n",
    "\n",
    "ar_pred_noise = expand_ndim2(ar_pred_noise)\n",
    "ar_pred_clean = expand_ndim2(ar_pred_clean)\n",
    "ar_diff_noise_proba = expand_ndim2(ar_diff_noise_proba)\n",
    "ar_diff_clean_proba = expand_ndim2(ar_diff_clean_proba)\n",
    "                             \n",
    "ar_all_labels = np.hstack([results_from_noise_model, results_from_clean_model, \n",
    "                           ar_pred_noise, ar_pred_clean, ar_diff_noise_proba, ar_diff_clean_proba])\n",
    "\n",
    "# Make final result\n",
    "preds_final   = 0.6*rfc.predict_proba(ar_all_labels) + 0.4*results_from_vit"
   ]
  },
  {
   "cell_type": "code",
   "execution_count": 21,
   "metadata": {
    "execution": {
     "iopub.execute_input": "2021-02-19T19:04:19.704008Z",
     "iopub.status.busy": "2021-02-19T19:04:19.703127Z",
     "iopub.status.idle": "2021-02-19T19:04:19.708998Z",
     "shell.execute_reply": "2021-02-19T19:04:19.708447Z"
    },
    "papermill": {
     "duration": 0.486019,
     "end_time": "2021-02-19T19:04:19.709117",
     "exception": false,
     "start_time": "2021-02-19T19:04:19.223098",
     "status": "completed"
    },
    "tags": []
   },
   "outputs": [
    {
     "data": {
      "text/html": [
       "<div>\n",
       "<style scoped>\n",
       "    .dataframe tbody tr th:only-of-type {\n",
       "        vertical-align: middle;\n",
       "    }\n",
       "\n",
       "    .dataframe tbody tr th {\n",
       "        vertical-align: top;\n",
       "    }\n",
       "\n",
       "    .dataframe thead th {\n",
       "        text-align: right;\n",
       "    }\n",
       "</style>\n",
       "<table border=\"1\" class=\"dataframe\">\n",
       "  <thead>\n",
       "    <tr style=\"text-align: right;\">\n",
       "      <th></th>\n",
       "      <th>image_id</th>\n",
       "      <th>label</th>\n",
       "    </tr>\n",
       "  </thead>\n",
       "  <tbody>\n",
       "    <tr>\n",
       "      <th>0</th>\n",
       "      <td>2216849948.jpg</td>\n",
       "      <td>4</td>\n",
       "    </tr>\n",
       "  </tbody>\n",
       "</table>\n",
       "</div>"
      ],
      "text/plain": [
       "         image_id  label\n",
       "0  2216849948.jpg      4"
      ]
     },
     "execution_count": 21,
     "metadata": {},
     "output_type": "execute_result"
    }
   ],
   "source": [
    "test['label'] = np.argmax(preds_final, 1)\n",
    "test.head()"
   ]
  },
  {
   "cell_type": "code",
   "execution_count": 22,
   "metadata": {
    "execution": {
     "iopub.execute_input": "2021-02-19T19:04:20.714362Z",
     "iopub.status.busy": "2021-02-19T19:04:20.713407Z",
     "iopub.status.idle": "2021-02-19T19:04:21.193489Z",
     "shell.execute_reply": "2021-02-19T19:04:21.192533Z"
    },
    "papermill": {
     "duration": 0.99631,
     "end_time": "2021-02-19T19:04:21.193607",
     "exception": false,
     "start_time": "2021-02-19T19:04:20.197297",
     "status": "completed"
    },
    "tags": []
   },
   "outputs": [],
   "source": [
    "test.to_csv('submission.csv', index=False)"
   ]
  }
 ],
 "metadata": {
  "kernelspec": {
   "display_name": "Python 3",
   "language": "python",
   "name": "python3"
  },
  "language_info": {
   "codemirror_mode": {
    "name": "ipython",
    "version": 3
   },
   "file_extension": ".py",
   "mimetype": "text/x-python",
   "name": "python",
   "nbconvert_exporter": "python",
   "pygments_lexer": "ipython3",
   "version": "3.7.6"
  },
  "papermill": {
   "duration": 961.541743,
   "end_time": "2021-02-19T19:04:23.147545",
   "environment_variables": {},
   "exception": null,
   "input_path": "__notebook__.ipynb",
   "output_path": "__notebook__.ipynb",
   "parameters": {},
   "start_time": "2021-02-19T18:48:21.605802",
   "version": "2.1.0"
  }
 },
 "nbformat": 4,
 "nbformat_minor": 4
}
