{
 "cells": [
  {
   "cell_type": "code",
   "execution_count": 1,
   "id": "fcb634c2",
   "metadata": {
    "_cell_guid": "b1076dfc-b9ad-4769-8c92-a6c4dae69d19",
    "_uuid": "8f2839f25d086af736a60e9eeb907d3b93b6e0e5",
    "execution": {
     "iopub.execute_input": "2022-01-08T14:57:09.895612Z",
     "iopub.status.busy": "2022-01-08T14:57:09.894079Z",
     "iopub.status.idle": "2022-01-08T14:57:09.903706Z",
     "shell.execute_reply": "2022-01-08T14:57:09.903100Z",
     "shell.execute_reply.started": "2022-01-08T14:49:00.046451Z"
    },
    "papermill": {
     "duration": 0.028273,
     "end_time": "2022-01-08T14:57:09.903837",
     "exception": false,
     "start_time": "2022-01-08T14:57:09.875564",
     "status": "completed"
    },
    "tags": []
   },
   "outputs": [],
   "source": [
    "import sys\n",
    "sys.path.append('../input/timm-pytorch-image-models/pytorch-image-models-master')\n",
    "sys.path.append('../input/pytorch-optimizers/')"
   ]
  },
  {
   "cell_type": "code",
   "execution_count": 2,
   "id": "113cf16e",
   "metadata": {
    "execution": {
     "iopub.execute_input": "2022-01-08T14:57:09.933170Z",
     "iopub.status.busy": "2022-01-08T14:57:09.932612Z",
     "iopub.status.idle": "2022-01-08T14:57:18.053014Z",
     "shell.execute_reply": "2022-01-08T14:57:18.052540Z",
     "shell.execute_reply.started": "2022-01-08T14:49:02.197107Z"
    },
    "papermill": {
     "duration": 8.137856,
     "end_time": "2022-01-08T14:57:18.053149",
     "exception": false,
     "start_time": "2022-01-08T14:57:09.915293",
     "status": "completed"
    },
    "tags": []
   },
   "outputs": [],
   "source": [
    "import os\n",
    "import gc\n",
    "import cv2\n",
    "import copy\n",
    "import time\n",
    "import yaml\n",
    "import random\n",
    "import shutil\n",
    "import warnings\n",
    "import subprocess\n",
    "import numpy as np\n",
    "import pandas as pd\n",
    "import matplotlib.pyplot as plt\n",
    "from glob import glob as glob_file\n",
    "from tqdm import tqdm\n",
    "from PIL import Image, ImageDraw\n",
    "from shutil import copyfile\n",
    "from IPython.core.display import Video, display\n",
    "from sklearn.metrics import mean_squared_error\n",
    "from sklearn.model_selection import train_test_split, KFold, GroupKFold, StratifiedKFold\n",
    "\n",
    "import timm\n",
    "import torch\n",
    "from fastai.vision.all import *\n",
    "\n",
    "warnings.simplefilter('ignore')\n",
    "pd.set_option(\"max_columns\", 150)\n",
    "pd.set_option('display.max_rows', 150)"
   ]
  },
  {
   "cell_type": "code",
   "execution_count": 3,
   "id": "29b63c3f",
   "metadata": {
    "execution": {
     "iopub.execute_input": "2022-01-08T14:57:18.081343Z",
     "iopub.status.busy": "2022-01-08T14:57:18.079752Z",
     "iopub.status.idle": "2022-01-08T14:57:18.081945Z",
     "shell.execute_reply": "2022-01-08T14:57:18.082414Z",
     "shell.execute_reply.started": "2022-01-08T14:49:10.810478Z"
    },
    "papermill": {
     "duration": 0.017736,
     "end_time": "2022-01-08T14:57:18.082566",
     "exception": false,
     "start_time": "2022-01-08T14:57:18.064830",
     "status": "completed"
    },
    "tags": []
   },
   "outputs": [],
   "source": [
    "# https://github.com/rwightman/pytorch-image-models/blob/master/results/results-imagenet.csv\n",
    "# timm.list_models(pretrained=True)"
   ]
  },
  {
   "cell_type": "markdown",
   "id": "189b4d53",
   "metadata": {
    "papermill": {
     "duration": 0.011162,
     "end_time": "2022-01-08T14:57:18.105183",
     "exception": false,
     "start_time": "2022-01-08T14:57:18.094021",
     "status": "completed"
    },
    "tags": []
   },
   "source": [
    "# Configuration"
   ]
  },
  {
   "cell_type": "code",
   "execution_count": 4,
   "id": "f0f74382",
   "metadata": {
    "execution": {
     "iopub.execute_input": "2022-01-08T14:57:18.138602Z",
     "iopub.status.busy": "2022-01-08T14:57:18.137800Z",
     "iopub.status.idle": "2022-01-08T14:57:18.141061Z",
     "shell.execute_reply": "2022-01-08T14:57:18.141478Z",
     "shell.execute_reply.started": "2022-01-08T14:49:10.819525Z"
    },
    "papermill": {
     "duration": 0.025313,
     "end_time": "2022-01-08T14:57:18.141606",
     "exception": false,
     "start_time": "2022-01-08T14:57:18.116293",
     "status": "completed"
    },
    "tags": []
   },
   "outputs": [
    {
     "data": {
      "text/plain": [
       "{'save_prev': [True, ['petfinder_*.pth']],\n",
       " 'seed': 42,\n",
       " 'device': 'cuda:0',\n",
       " 'input_img': '../input/petfinder-pawpularity-score/train/',\n",
       " 'input_path': '../input/petfinder-smogn-dataset/train_drop_duplicated.csv',\n",
       " 'output_path': './',\n",
       " 'pretrain': '../input/petfinder-fastai-semisupervised-models/petfinder_beit_binary_ss_fastai_4.pth',\n",
       " 'save_name': 'petfinder_beit_binary_fastai_ss',\n",
       " 'model': 'beit_base_patch16_384',\n",
       " 'loss': 'binary',\n",
       " 'size': 384,\n",
       " 'fold': 4,\n",
       " 'batch_size': 16,\n",
       " 'epochs': 15,\n",
       " 'n_data': 480,\n",
       " 'mixup_ratio': 0,\n",
       " 'lr': 1e-06,\n",
       " 'accum_iter': 2,\n",
       " 'early_stopping': 3,\n",
       " 'verbose_step': 1,\n",
       " 'num_workers': 4}"
      ]
     },
     "execution_count": 4,
     "metadata": {},
     "output_type": "execute_result"
    }
   ],
   "source": [
    "CFG = {\n",
    "    \"save_prev\"     : [True, [\"petfinder_*.pth\"]],\n",
    "    \"seed\"          : 42,\n",
    "    'device'        : \"cuda:0\" if torch.cuda.is_available() else \"cpu\",\n",
    "    \"input_img\"     : '../input/petfinder-pawpularity-score/train/',\n",
    "    \"input_path\"    : '../input/petfinder-smogn-dataset/train_drop_duplicated.csv',\n",
    "    \"output_path\"   : './',\n",
    "    \"pretrain\"      : \"../input/petfinder-fastai-semisupervised-models/petfinder_beit_binary_ss_fastai_4.pth\",\n",
    "    \"save_name\"     : \"petfinder_beit_binary_fastai_ss\",\n",
    "    \"model\"         : \"beit_base_patch16_384\",  # swin_large_patch4_window12_384_in22k\n",
    "    \"loss\"          : \"binary\",\n",
    "    \"size\"          : 384,\n",
    "    \"fold\"          : 4,\n",
    "    \"batch_size\"    : 16,\n",
    "    \"epochs\"        : 15,\n",
    "    \"n_data\"        : 16*30,  # Batch * step\n",
    "    \"mixup_ratio\"   : 0,\n",
    "    \"lr\"            : 1e-6,\n",
    "    \"accum_iter\"    : 2,\n",
    "    'early_stopping': 3,\n",
    "    'verbose_step'  : 1,\n",
    "    \"num_workers\"   : 4\n",
    "}\n",
    "\n",
    "CFG"
   ]
  },
  {
   "cell_type": "code",
   "execution_count": 5,
   "id": "eccc0ade",
   "metadata": {
    "execution": {
     "iopub.execute_input": "2022-01-08T14:57:18.174300Z",
     "iopub.status.busy": "2022-01-08T14:57:18.173401Z",
     "iopub.status.idle": "2022-01-08T14:57:18.175149Z",
     "shell.execute_reply": "2022-01-08T14:57:18.175724Z",
     "shell.execute_reply.started": "2022-01-08T14:49:10.836840Z"
    },
    "papermill": {
     "duration": 0.022363,
     "end_time": "2022-01-08T14:57:18.175880",
     "exception": false,
     "start_time": "2022-01-08T14:57:18.153517",
     "status": "completed"
    },
    "tags": []
   },
   "outputs": [],
   "source": [
    "def get_img(path):\n",
    "    im_bgr = cv2.imread(path)\n",
    "    im_rgb = im_bgr[:, :, ::-1]\n",
    "    return im_rgb\n",
    "\n",
    "def sigmoid(a):\n",
    "    return 1 / (1 + np.exp(-a))\n",
    "\n",
    "def softmax(x):\n",
    "    max = np.max(x,axis=1,keepdims=True)\n",
    "    e_x = np.exp(x - max)\n",
    "    sum = np.sum(e_x,axis=1,keepdims=True)\n",
    "    return e_x / sum \n",
    "\n",
    "def seed_everything(seed = 42):\n",
    "    '''Sets the seed of the entire notebook so results are the same every time we run.\n",
    "    This is for REPRODUCIBILITY.'''\n",
    "    np.random.seed(seed)\n",
    "    random.seed(seed)\n",
    "    torch.manual_seed(seed)\n",
    "    torch.cuda.manual_seed(seed)\n",
    "    # When running on the CuDNN backend, two further options must be set\n",
    "    torch.backends.cudnn.deterministic = True\n",
    "    torch.backends.cudnn.benchmark = False\n",
    "    # Set a fixed value for the hash seed\n",
    "    os.environ['PYTHONHASHSEED'] = str(seed)\n",
    "    \n",
    "seed_everything(CFG[\"seed\"])"
   ]
  },
  {
   "cell_type": "code",
   "execution_count": 6,
   "id": "b4a562ac",
   "metadata": {
    "execution": {
     "iopub.execute_input": "2022-01-08T14:57:18.205317Z",
     "iopub.status.busy": "2022-01-08T14:57:18.204735Z",
     "iopub.status.idle": "2022-01-08T14:58:16.396970Z",
     "shell.execute_reply": "2022-01-08T14:58:16.396158Z"
    },
    "papermill": {
     "duration": 58.209619,
     "end_time": "2022-01-08T14:58:16.397162",
     "exception": false,
     "start_time": "2022-01-08T14:57:18.187543",
     "status": "completed"
    },
    "tags": []
   },
   "outputs": [
    {
     "name": "stdout",
     "output_type": "stream",
     "text": [
      "petfinder_beit_binary_fastai_3.pth\n",
      "petfinder_swin384_binary_fastai_1.pth\n",
      "petfinder_swin384_binary_fastai_0.pth\n",
      "petfinder_beit_binary_fastai_0.pth\n",
      "petfinder_swin384_binary_fastai_2.pth\n",
      "petfinder_beit_binary_fastai_2.pth\n",
      "petfinder_swin384_binary_fastai_3.pth\n",
      "petfinder_beit_binary_fastai_1.pth\n"
     ]
    }
   ],
   "source": [
    "if CFG['save_prev'][0]:\n",
    "    for file_pattern in CFG['save_prev'][1]:\n",
    "        for f in glob_file(f\"../input/petfinder-fastai-models-pseudolabel-3/{file_pattern}\"):\n",
    "            filename = os.path.basename(f)\n",
    "            print(filename)\n",
    "            !cp {f} ./{filename}"
   ]
  },
  {
   "cell_type": "markdown",
   "id": "dbc9e395",
   "metadata": {
    "papermill": {
     "duration": 0.014658,
     "end_time": "2022-01-08T14:58:16.429599",
     "exception": false,
     "start_time": "2022-01-08T14:58:16.414941",
     "status": "completed"
    },
    "tags": []
   },
   "source": [
    "# Load data"
   ]
  },
  {
   "cell_type": "code",
   "execution_count": 7,
   "id": "81a20bdc",
   "metadata": {
    "execution": {
     "iopub.execute_input": "2022-01-08T14:58:16.469648Z",
     "iopub.status.busy": "2022-01-08T14:58:16.468295Z",
     "iopub.status.idle": "2022-01-08T14:58:16.565202Z",
     "shell.execute_reply": "2022-01-08T14:58:16.565731Z",
     "shell.execute_reply.started": "2022-01-08T14:49:19.917568Z"
    },
    "papermill": {
     "duration": 0.12186,
     "end_time": "2022-01-08T14:58:16.565908",
     "exception": false,
     "start_time": "2022-01-08T14:58:16.444048",
     "status": "completed"
    },
    "tags": []
   },
   "outputs": [
    {
     "name": "stdout",
     "output_type": "stream",
     "text": [
      "['Subject Focus', 'Eyes', 'Face', 'Near', 'Action', 'Accessory', 'Group', 'Collage', 'Human', 'Occlusion', 'Info', 'Blur']\n",
      "(9860, 17)\n"
     ]
    },
    {
     "data": {
      "text/html": [
       "<div>\n",
       "<style scoped>\n",
       "    .dataframe tbody tr th:only-of-type {\n",
       "        vertical-align: middle;\n",
       "    }\n",
       "\n",
       "    .dataframe tbody tr th {\n",
       "        vertical-align: top;\n",
       "    }\n",
       "\n",
       "    .dataframe thead th {\n",
       "        text-align: right;\n",
       "    }\n",
       "</style>\n",
       "<table border=\"1\" class=\"dataframe\">\n",
       "  <thead>\n",
       "    <tr style=\"text-align: right;\">\n",
       "      <th></th>\n",
       "      <th>Id</th>\n",
       "      <th>Subject Focus</th>\n",
       "      <th>Eyes</th>\n",
       "      <th>Face</th>\n",
       "      <th>Near</th>\n",
       "      <th>Action</th>\n",
       "      <th>Accessory</th>\n",
       "      <th>Group</th>\n",
       "      <th>Collage</th>\n",
       "      <th>Human</th>\n",
       "      <th>Occlusion</th>\n",
       "      <th>Info</th>\n",
       "      <th>Blur</th>\n",
       "      <th>Pawpularity</th>\n",
       "      <th>path</th>\n",
       "      <th>Pawclass</th>\n",
       "      <th>bins</th>\n",
       "    </tr>\n",
       "  </thead>\n",
       "  <tbody>\n",
       "    <tr>\n",
       "      <th>0</th>\n",
       "      <td>0007de18844b0dbbb5e1f607da0606e0</td>\n",
       "      <td>0</td>\n",
       "      <td>1</td>\n",
       "      <td>1</td>\n",
       "      <td>1</td>\n",
       "      <td>0</td>\n",
       "      <td>0</td>\n",
       "      <td>1</td>\n",
       "      <td>0</td>\n",
       "      <td>0</td>\n",
       "      <td>0</td>\n",
       "      <td>0</td>\n",
       "      <td>0</td>\n",
       "      <td>63</td>\n",
       "      <td>../input/petfinder-pawpularity-score/train/0007de18844b0dbbb5e1f607da0606e0.jpg</td>\n",
       "      <td>0.63</td>\n",
       "      <td>26</td>\n",
       "    </tr>\n",
       "    <tr>\n",
       "      <th>1</th>\n",
       "      <td>0009c66b9439883ba2750fb825e1d7db</td>\n",
       "      <td>0</td>\n",
       "      <td>1</td>\n",
       "      <td>1</td>\n",
       "      <td>0</td>\n",
       "      <td>0</td>\n",
       "      <td>0</td>\n",
       "      <td>0</td>\n",
       "      <td>0</td>\n",
       "      <td>0</td>\n",
       "      <td>0</td>\n",
       "      <td>0</td>\n",
       "      <td>0</td>\n",
       "      <td>42</td>\n",
       "      <td>../input/petfinder-pawpularity-score/train/0009c66b9439883ba2750fb825e1d7db.jpg</td>\n",
       "      <td>0.42</td>\n",
       "      <td>17</td>\n",
       "    </tr>\n",
       "  </tbody>\n",
       "</table>\n",
       "</div>"
      ],
      "text/plain": [
       "                                 Id  Subject Focus  Eyes  Face  Near  Action  \\\n",
       "0  0007de18844b0dbbb5e1f607da0606e0              0     1     1     1       0   \n",
       "1  0009c66b9439883ba2750fb825e1d7db              0     1     1     0       0   \n",
       "\n",
       "   Accessory  Group  Collage  Human  Occlusion  Info  Blur  Pawpularity  \\\n",
       "0          0      1        0      0          0     0     0           63   \n",
       "1          0      0        0      0          0     0     0           42   \n",
       "\n",
       "                                                                              path  \\\n",
       "0  ../input/petfinder-pawpularity-score/train/0007de18844b0dbbb5e1f607da0606e0.jpg   \n",
       "1  ../input/petfinder-pawpularity-score/train/0009c66b9439883ba2750fb825e1d7db.jpg   \n",
       "\n",
       "   Pawclass  bins  \n",
       "0      0.63    26  \n",
       "1      0.42    17  "
      ]
     },
     "execution_count": 7,
     "metadata": {},
     "output_type": "execute_result"
    }
   ],
   "source": [
    "df_train = pd.read_csv(CFG['input_path'])\n",
    "df_train[\"path\"] = [f\"{CFG['input_img']}{i}.jpg\" for i in df_train.Id]\n",
    "df_train[\"Pawclass\"] = df_train.Pawpularity / 100\n",
    "\n",
    "num_bins = int(np.ceil(2*((len(df_train))**(1./3))))\n",
    "df_train['bins'] = pd.cut(df_train['Pawclass'], bins=num_bins, labels=False)\n",
    "\n",
    "meta_features = [c for c in df_train.columns if c not in [\"Id\",\"path\", \"Pawpularity\",\"Pawclass\",\"bins\"]]\n",
    "\n",
    "print(meta_features)\n",
    "print(df_train.shape)\n",
    "df_train.head(2)"
   ]
  },
  {
   "cell_type": "code",
   "execution_count": 8,
   "id": "3729586a",
   "metadata": {
    "execution": {
     "iopub.execute_input": "2022-01-08T14:58:16.608172Z",
     "iopub.status.busy": "2022-01-08T14:58:16.607317Z",
     "iopub.status.idle": "2022-01-08T14:58:16.628669Z",
     "shell.execute_reply": "2022-01-08T14:58:16.629171Z",
     "shell.execute_reply.started": "2022-01-08T14:49:20.019347Z"
    },
    "papermill": {
     "duration": 0.043933,
     "end_time": "2022-01-08T14:58:16.629369",
     "exception": false,
     "start_time": "2022-01-08T14:58:16.585436",
     "status": "completed"
    },
    "tags": []
   },
   "outputs": [
    {
     "data": {
      "text/plain": [
       "3    2465\n",
       "1    2465\n",
       "2    2465\n",
       "0    2465\n",
       "Name: fold, dtype: int64"
      ]
     },
     "execution_count": 8,
     "metadata": {},
     "output_type": "execute_result"
    }
   ],
   "source": [
    "kfold = StratifiedKFold(n_splits=CFG['fold'], random_state=CFG[\"seed\"], shuffle=True)\n",
    "df_train[\"fold\"] = 0\n",
    "for i, (_, train_index) in enumerate(kfold.split(df_train.index, df_train['bins'])):\n",
    "    df_train.loc[train_index, \"fold\"] = i\n",
    "df_train['fold'] = df_train['fold'].astype('int')\n",
    "\n",
    "df_train.fold.value_counts()"
   ]
  },
  {
   "cell_type": "code",
   "execution_count": 9,
   "id": "f14ca44f",
   "metadata": {
    "execution": {
     "iopub.execute_input": "2022-01-08T14:58:16.663795Z",
     "iopub.status.busy": "2022-01-08T14:58:16.663010Z",
     "iopub.status.idle": "2022-01-08T14:58:17.134469Z",
     "shell.execute_reply": "2022-01-08T14:58:17.133973Z",
     "shell.execute_reply.started": "2022-01-08T14:49:20.228070Z"
    },
    "papermill": {
     "duration": 0.489517,
     "end_time": "2022-01-08T14:58:17.134603",
     "exception": false,
     "start_time": "2022-01-08T14:58:16.645086",
     "status": "completed"
    },
    "tags": []
   },
   "outputs": [
    {
     "data": {
      "text/plain": [
       "<AxesSubplot:>"
      ]
     },
     "execution_count": 9,
     "metadata": {},
     "output_type": "execute_result"
    },
    {
     "data": {
      "image/png": "[encoded data removed]",
      "text/plain": [
       "<Figure size 432x288 with 1 Axes>"
      ]
     },
     "metadata": {
      "needs_background": "light"
     },
     "output_type": "display_data"
    }
   ],
   "source": [
    "df_train.Pawpularity.hist(bins=100)"
   ]
  },
  {
   "cell_type": "markdown",
   "id": "b946d5e9",
   "metadata": {
    "papermill": {
     "duration": 0.015174,
     "end_time": "2022-01-08T14:58:17.165787",
     "exception": false,
     "start_time": "2022-01-08T14:58:17.150613",
     "status": "completed"
    },
    "tags": []
   },
   "source": [
    "# Define model"
   ]
  },
  {
   "cell_type": "code",
   "execution_count": 10,
   "id": "0f227215",
   "metadata": {
    "execution": {
     "iopub.execute_input": "2022-01-08T14:58:17.204590Z",
     "iopub.status.busy": "2022-01-08T14:58:17.203728Z",
     "iopub.status.idle": "2022-01-08T14:58:17.205472Z",
     "shell.execute_reply": "2022-01-08T14:58:17.205952Z",
     "shell.execute_reply.started": "2022-01-08T14:49:20.736434Z"
    },
    "papermill": {
     "duration": 0.024759,
     "end_time": "2022-01-08T14:58:17.206080",
     "exception": false,
     "start_time": "2022-01-08T14:58:17.181321",
     "status": "completed"
    },
    "tags": []
   },
   "outputs": [],
   "source": [
    "def prepare_dataloader(df, fold):\n",
    "    df = df.copy()\n",
    "    df['is_valid'] = (df['fold'] == fold)\n",
    "    \n",
    "    label_col  = \"Pawclass\" if CFG[\"loss\"] == \"binary\" else \"Pawpularity\"\n",
    "    dataloader = ImageDataLoaders.from_df(\n",
    "        df,\n",
    "        valid_col='is_valid',\n",
    "        seed=CFG[\"seed\"],\n",
    "        fn_col='path',\n",
    "        label_col=label_col,\n",
    "        y_block=RegressionBlock,\n",
    "        bs=CFG['batch_size'],\n",
    "        n=CFG[\"n_data\"],\n",
    "        shuffle=True,\n",
    "        num_workers=CFG['num_workers'],\n",
    "        item_tfms=Resize(CFG['size']),\n",
    "        batch_tfms=setup_aug_tfms([Brightness(), Contrast(), Hue(), Saturation()])\n",
    "    )\n",
    "    return dataloader\n",
    "\n",
    "def petfinder_rmse(input,target):\n",
    "    return 100*torch.sqrt(F.mse_loss(F.sigmoid(input.flatten()), target))"
   ]
  },
  {
   "cell_type": "code",
   "execution_count": 11,
   "id": "8306746c",
   "metadata": {
    "execution": {
     "iopub.execute_input": "2022-01-08T14:58:17.247660Z",
     "iopub.status.busy": "2022-01-08T14:58:17.246769Z",
     "iopub.status.idle": "2022-01-08T14:58:17.248562Z",
     "shell.execute_reply": "2022-01-08T14:58:17.249056Z",
     "shell.execute_reply.started": "2022-01-08T14:49:20.940521Z"
    },
    "papermill": {
     "duration": 0.027861,
     "end_time": "2022-01-08T14:58:17.249194",
     "exception": false,
     "start_time": "2022-01-08T14:58:17.221333",
     "status": "completed"
    },
    "tags": []
   },
   "outputs": [],
   "source": [
    "class Model(nn.Module):\n",
    "    def __init__(self, model_name, pretrained=True):\n",
    "        super().__init__()\n",
    "        self.model = timm.create_model(model_name, pretrained=pretrained, in_chans=3)\n",
    "        self.n_features = self.model.classifier.in_features\n",
    "        self.model.classifier = nn.Linear(self.n_features, 1)\n",
    "\n",
    "    def forward(self, x):\n",
    "        output = self.model(x)\n",
    "        return output\n",
    "\n",
    "class TransformerModel(nn.Module):\n",
    "    def __init__(self, model_name, pretrained=True):\n",
    "        super().__init__()\n",
    "        self.model   = timm.create_model(model_name, pretrained=pretrained, num_classes=0, in_chans=3)\n",
    "        num_features = self.model.num_features\n",
    "        self.linear  = nn.Linear(num_features, 1)\n",
    "\n",
    "    def forward(self, x):\n",
    "        x = self.model(x)\n",
    "        output = self.linear(x)\n",
    "        return output\n",
    "\n",
    "def get_learner(df, fold):\n",
    "    dataloader = prepare_dataloader(df, fold)\n",
    "    if CFG['pretrain'] is None:\n",
    "        model = TransformerModel(CFG[\"model\"], pretrained=True)\n",
    "    else:\n",
    "        model = TransformerModel(CFG[\"model\"], pretrained=False)\n",
    "        model.load_state_dict(torch.load(CFG['pretrain']))\n",
    "    learner = Learner(\n",
    "        dataloader,\n",
    "        model,\n",
    "        loss_func=BCEWithLogitsLossFlat(),\n",
    "        metrics=AccumMetric(petfinder_rmse)).to_fp16()\n",
    "    return learner"
   ]
  },
  {
   "cell_type": "code",
   "execution_count": 12,
   "id": "ca6ead0c",
   "metadata": {
    "execution": {
     "iopub.execute_input": "2022-01-08T14:58:17.283210Z",
     "iopub.status.busy": "2022-01-08T14:58:17.282442Z",
     "iopub.status.idle": "2022-01-08T14:58:17.285608Z",
     "shell.execute_reply": "2022-01-08T14:58:17.286060Z",
     "shell.execute_reply.started": "2022-01-08T14:49:21.344905Z"
    },
    "papermill": {
     "duration": 0.021583,
     "end_time": "2022-01-08T14:58:17.286186",
     "exception": false,
     "start_time": "2022-01-08T14:58:17.264603",
     "status": "completed"
    },
    "tags": []
   },
   "outputs": [],
   "source": [
    "# Ref: https://fastai1.fast.ai/callbacks.lr_finder.html\n",
    "# get_learner(df_train, fold=0).lr_find(end_lr=3e-2)"
   ]
  },
  {
   "cell_type": "markdown",
   "id": "ad349414",
   "metadata": {
    "papermill": {
     "duration": 0.01504,
     "end_time": "2022-01-08T14:58:17.316455",
     "exception": false,
     "start_time": "2022-01-08T14:58:17.301415",
     "status": "completed"
    },
    "tags": []
   },
   "source": [
    "# Run training"
   ]
  },
  {
   "cell_type": "code",
   "execution_count": 13,
   "id": "07a8ec47",
   "metadata": {
    "execution": {
     "iopub.execute_input": "2022-01-08T14:58:25.512734Z",
     "iopub.status.busy": "2022-01-08T14:58:25.511509Z",
     "iopub.status.idle": "2022-01-08T15:54:07.255890Z",
     "shell.execute_reply": "2022-01-08T15:54:07.255005Z",
     "shell.execute_reply.started": "2022-01-08T14:49:22.985115Z"
    },
    "papermill": {
     "duration": 3349.924013,
     "end_time": "2022-01-08T15:54:07.256039",
     "exception": false,
     "start_time": "2022-01-08T14:58:17.332026",
     "status": "completed"
    },
    "tags": []
   },
   "outputs": [
    {
     "data": {
      "text/html": [
       "<table border=\"1\" class=\"dataframe\">\n",
       "  <thead>\n",
       "    <tr style=\"text-align: left;\">\n",
       "      <th>epoch</th>\n",
       "      <th>train_loss</th>\n",
       "      <th>valid_loss</th>\n",
       "      <th>petfinder_rmse</th>\n",
       "      <th>time</th>\n",
       "    </tr>\n",
       "  </thead>\n",
       "  <tbody>\n",
       "    <tr>\n",
       "      <td>0</td>\n",
       "      <td>0.636058</td>\n",
       "      <td>0.635259</td>\n",
       "      <td>16.963036</td>\n",
       "      <td>01:43</td>\n",
       "    </tr>\n",
       "    <tr>\n",
       "      <td>1</td>\n",
       "      <td>0.635614</td>\n",
       "      <td>0.635205</td>\n",
       "      <td>16.956238</td>\n",
       "      <td>01:36</td>\n",
       "    </tr>\n",
       "    <tr>\n",
       "      <td>2</td>\n",
       "      <td>0.635462</td>\n",
       "      <td>0.635070</td>\n",
       "      <td>16.937347</td>\n",
       "      <td>01:36</td>\n",
       "    </tr>\n",
       "    <tr>\n",
       "      <td>3</td>\n",
       "      <td>0.634356</td>\n",
       "      <td>0.634854</td>\n",
       "      <td>16.907143</td>\n",
       "      <td>01:37</td>\n",
       "    </tr>\n",
       "    <tr>\n",
       "      <td>4</td>\n",
       "      <td>0.634063</td>\n",
       "      <td>0.634750</td>\n",
       "      <td>16.894197</td>\n",
       "      <td>01:37</td>\n",
       "    </tr>\n",
       "    <tr>\n",
       "      <td>5</td>\n",
       "      <td>0.631774</td>\n",
       "      <td>0.634762</td>\n",
       "      <td>16.894608</td>\n",
       "      <td>01:37</td>\n",
       "    </tr>\n",
       "    <tr>\n",
       "      <td>6</td>\n",
       "      <td>0.630543</td>\n",
       "      <td>0.634639</td>\n",
       "      <td>16.879330</td>\n",
       "      <td>01:37</td>\n",
       "    </tr>\n",
       "    <tr>\n",
       "      <td>7</td>\n",
       "      <td>0.628986</td>\n",
       "      <td>0.634599</td>\n",
       "      <td>16.873354</td>\n",
       "      <td>01:37</td>\n",
       "    </tr>\n",
       "    <tr>\n",
       "      <td>8</td>\n",
       "      <td>0.627766</td>\n",
       "      <td>0.634641</td>\n",
       "      <td>16.879152</td>\n",
       "      <td>01:37</td>\n",
       "    </tr>\n",
       "    <tr>\n",
       "      <td>9</td>\n",
       "      <td>0.627319</td>\n",
       "      <td>0.634654</td>\n",
       "      <td>16.880669</td>\n",
       "      <td>01:37</td>\n",
       "    </tr>\n",
       "    <tr>\n",
       "      <td>10</td>\n",
       "      <td>0.625716</td>\n",
       "      <td>0.634669</td>\n",
       "      <td>16.882694</td>\n",
       "      <td>01:36</td>\n",
       "    </tr>\n",
       "  </tbody>\n",
       "</table>"
      ],
      "text/plain": [
       "<IPython.core.display.HTML object>"
      ]
     },
     "metadata": {},
     "output_type": "display_data"
    },
    {
     "name": "stdout",
     "output_type": "stream",
     "text": [
      "Better model found at epoch 0 with valid_loss value: 0.6352587342262268.\n",
      "Better model found at epoch 1 with valid_loss value: 0.6352049708366394.\n",
      "Better model found at epoch 2 with valid_loss value: 0.6350699067115784.\n",
      "Better model found at epoch 3 with valid_loss value: 0.6348538398742676.\n",
      "Better model found at epoch 4 with valid_loss value: 0.6347501873970032.\n",
      "Better model found at epoch 6 with valid_loss value: 0.6346392631530762.\n",
      "Better model found at epoch 7 with valid_loss value: 0.6345986723899841.\n",
      "No improvement since epoch 7: early stopping\n"
     ]
    },
    {
     "data": {
      "text/html": [
       "<table border=\"1\" class=\"dataframe\">\n",
       "  <thead>\n",
       "    <tr style=\"text-align: left;\">\n",
       "      <th>epoch</th>\n",
       "      <th>train_loss</th>\n",
       "      <th>valid_loss</th>\n",
       "      <th>petfinder_rmse</th>\n",
       "      <th>time</th>\n",
       "    </tr>\n",
       "  </thead>\n",
       "  <tbody>\n",
       "    <tr>\n",
       "      <td>0</td>\n",
       "      <td>0.637664</td>\n",
       "      <td>0.637103</td>\n",
       "      <td>17.167109</td>\n",
       "      <td>01:36</td>\n",
       "    </tr>\n",
       "    <tr>\n",
       "      <td>1</td>\n",
       "      <td>0.636978</td>\n",
       "      <td>0.637104</td>\n",
       "      <td>17.168051</td>\n",
       "      <td>01:36</td>\n",
       "    </tr>\n",
       "    <tr>\n",
       "      <td>2</td>\n",
       "      <td>0.637271</td>\n",
       "      <td>0.637078</td>\n",
       "      <td>17.165855</td>\n",
       "      <td>01:36</td>\n",
       "    </tr>\n",
       "    <tr>\n",
       "      <td>3</td>\n",
       "      <td>0.636748</td>\n",
       "      <td>0.637105</td>\n",
       "      <td>17.170425</td>\n",
       "      <td>01:37</td>\n",
       "    </tr>\n",
       "    <tr>\n",
       "      <td>4</td>\n",
       "      <td>0.636047</td>\n",
       "      <td>0.637099</td>\n",
       "      <td>17.170509</td>\n",
       "      <td>01:36</td>\n",
       "    </tr>\n",
       "    <tr>\n",
       "      <td>5</td>\n",
       "      <td>0.634378</td>\n",
       "      <td>0.637214</td>\n",
       "      <td>17.186441</td>\n",
       "      <td>01:37</td>\n",
       "    </tr>\n",
       "  </tbody>\n",
       "</table>"
      ],
      "text/plain": [
       "<IPython.core.display.HTML object>"
      ]
     },
     "metadata": {},
     "output_type": "display_data"
    },
    {
     "name": "stdout",
     "output_type": "stream",
     "text": [
      "Better model found at epoch 0 with valid_loss value: 0.6371031403541565.\n",
      "Better model found at epoch 2 with valid_loss value: 0.6370782852172852.\n",
      "No improvement since epoch 2: early stopping\n"
     ]
    },
    {
     "data": {
      "text/html": [
       "<table border=\"1\" class=\"dataframe\">\n",
       "  <thead>\n",
       "    <tr style=\"text-align: left;\">\n",
       "      <th>epoch</th>\n",
       "      <th>train_loss</th>\n",
       "      <th>valid_loss</th>\n",
       "      <th>petfinder_rmse</th>\n",
       "      <th>time</th>\n",
       "    </tr>\n",
       "  </thead>\n",
       "  <tbody>\n",
       "    <tr>\n",
       "      <td>0</td>\n",
       "      <td>0.637843</td>\n",
       "      <td>0.631324</td>\n",
       "      <td>16.355164</td>\n",
       "      <td>01:37</td>\n",
       "    </tr>\n",
       "    <tr>\n",
       "      <td>1</td>\n",
       "      <td>0.637311</td>\n",
       "      <td>0.631346</td>\n",
       "      <td>16.361294</td>\n",
       "      <td>01:37</td>\n",
       "    </tr>\n",
       "    <tr>\n",
       "      <td>2</td>\n",
       "      <td>0.636902</td>\n",
       "      <td>0.631466</td>\n",
       "      <td>16.382530</td>\n",
       "      <td>01:37</td>\n",
       "    </tr>\n",
       "    <tr>\n",
       "      <td>3</td>\n",
       "      <td>0.636450</td>\n",
       "      <td>0.631413</td>\n",
       "      <td>16.375559</td>\n",
       "      <td>01:37</td>\n",
       "    </tr>\n",
       "  </tbody>\n",
       "</table>"
      ],
      "text/plain": [
       "<IPython.core.display.HTML object>"
      ]
     },
     "metadata": {},
     "output_type": "display_data"
    },
    {
     "name": "stdout",
     "output_type": "stream",
     "text": [
      "Better model found at epoch 0 with valid_loss value: 0.6313235759735107.\n",
      "No improvement since epoch 0: early stopping\n"
     ]
    },
    {
     "data": {
      "text/html": [
       "<table border=\"1\" class=\"dataframe\">\n",
       "  <thead>\n",
       "    <tr style=\"text-align: left;\">\n",
       "      <th>epoch</th>\n",
       "      <th>train_loss</th>\n",
       "      <th>valid_loss</th>\n",
       "      <th>petfinder_rmse</th>\n",
       "      <th>time</th>\n",
       "    </tr>\n",
       "  </thead>\n",
       "  <tbody>\n",
       "    <tr>\n",
       "      <td>0</td>\n",
       "      <td>0.638000</td>\n",
       "      <td>0.635559</td>\n",
       "      <td>16.986294</td>\n",
       "      <td>01:36</td>\n",
       "    </tr>\n",
       "    <tr>\n",
       "      <td>1</td>\n",
       "      <td>0.636873</td>\n",
       "      <td>0.635533</td>\n",
       "      <td>16.984787</td>\n",
       "      <td>01:37</td>\n",
       "    </tr>\n",
       "    <tr>\n",
       "      <td>2</td>\n",
       "      <td>0.637713</td>\n",
       "      <td>0.635414</td>\n",
       "      <td>16.969286</td>\n",
       "      <td>01:37</td>\n",
       "    </tr>\n",
       "    <tr>\n",
       "      <td>3</td>\n",
       "      <td>0.636200</td>\n",
       "      <td>0.635333</td>\n",
       "      <td>16.958403</td>\n",
       "      <td>01:36</td>\n",
       "    </tr>\n",
       "    <tr>\n",
       "      <td>4</td>\n",
       "      <td>0.635683</td>\n",
       "      <td>0.635298</td>\n",
       "      <td>16.955257</td>\n",
       "      <td>01:36</td>\n",
       "    </tr>\n",
       "    <tr>\n",
       "      <td>5</td>\n",
       "      <td>0.634838</td>\n",
       "      <td>0.635178</td>\n",
       "      <td>16.937729</td>\n",
       "      <td>01:36</td>\n",
       "    </tr>\n",
       "    <tr>\n",
       "      <td>6</td>\n",
       "      <td>0.633318</td>\n",
       "      <td>0.635176</td>\n",
       "      <td>16.939219</td>\n",
       "      <td>01:36</td>\n",
       "    </tr>\n",
       "    <tr>\n",
       "      <td>7</td>\n",
       "      <td>0.631666</td>\n",
       "      <td>0.635157</td>\n",
       "      <td>16.936455</td>\n",
       "      <td>01:36</td>\n",
       "    </tr>\n",
       "    <tr>\n",
       "      <td>8</td>\n",
       "      <td>0.630993</td>\n",
       "      <td>0.635185</td>\n",
       "      <td>16.940811</td>\n",
       "      <td>01:36</td>\n",
       "    </tr>\n",
       "    <tr>\n",
       "      <td>9</td>\n",
       "      <td>0.629289</td>\n",
       "      <td>0.635101</td>\n",
       "      <td>16.928591</td>\n",
       "      <td>01:36</td>\n",
       "    </tr>\n",
       "    <tr>\n",
       "      <td>10</td>\n",
       "      <td>0.629200</td>\n",
       "      <td>0.635108</td>\n",
       "      <td>16.929817</td>\n",
       "      <td>01:36</td>\n",
       "    </tr>\n",
       "    <tr>\n",
       "      <td>11</td>\n",
       "      <td>0.628576</td>\n",
       "      <td>0.635116</td>\n",
       "      <td>16.931032</td>\n",
       "      <td>01:36</td>\n",
       "    </tr>\n",
       "    <tr>\n",
       "      <td>12</td>\n",
       "      <td>0.628266</td>\n",
       "      <td>0.635115</td>\n",
       "      <td>16.930834</td>\n",
       "      <td>01:36</td>\n",
       "    </tr>\n",
       "  </tbody>\n",
       "</table>"
      ],
      "text/plain": [
       "<IPython.core.display.HTML object>"
      ]
     },
     "metadata": {},
     "output_type": "display_data"
    },
    {
     "name": "stdout",
     "output_type": "stream",
     "text": [
      "Better model found at epoch 0 with valid_loss value: 0.6355589628219604.\n",
      "Better model found at epoch 1 with valid_loss value: 0.6355332136154175.\n",
      "Better model found at epoch 2 with valid_loss value: 0.6354138255119324.\n",
      "Better model found at epoch 3 with valid_loss value: 0.6353327035903931.\n",
      "Better model found at epoch 4 with valid_loss value: 0.6352983713150024.\n",
      "Better model found at epoch 5 with valid_loss value: 0.6351780891418457.\n",
      "Better model found at epoch 6 with valid_loss value: 0.6351755261421204.\n",
      "Better model found at epoch 7 with valid_loss value: 0.6351571679115295.\n",
      "Better model found at epoch 9 with valid_loss value: 0.6351014971733093.\n",
      "No improvement since epoch 9: early stopping\n"
     ]
    }
   ],
   "source": [
    "all_preds = []\n",
    "\n",
    "for fold in range(CFG[\"fold\"]):\n",
    "    learn = get_learner(df_train, fold)\n",
    "    learn.fit_one_cycle(\n",
    "        CFG[\"epochs\"],\n",
    "        CFG[\"lr\"],\n",
    "        cbs=[SaveModelCallback(),\n",
    "             EarlyStoppingCallback(monitor='petfinder_rmse',\n",
    "                                   comp=np.less,\n",
    "                                   patience=CFG['early_stopping'])]\n",
    "    )\n",
    "    shutil.move(\"./models/model.pth\", f\"{CFG['output_path']}{CFG['save_name']}_{fold}.pth\")\n",
    "    \n",
    "    del learn\n",
    "    torch.cuda.empty_cache()\n",
    "    gc.collect()\n",
    "    \n",
    "!rm -rf ./models"
   ]
  }
 ],
 "metadata": {
  "kernelspec": {
   "display_name": "Python 3",
   "language": "python",
   "name": "python3"
  },
  "language_info": {
   "codemirror_mode": {
    "name": "ipython",
    "version": 3
   },
   "file_extension": ".py",
   "mimetype": "text/x-python",
   "name": "python",
   "nbconvert_exporter": "python",
   "pygments_lexer": "ipython3",
   "version": "3.7.10"
  },
  "papermill": {
   "default_parameters": {},
   "duration": 3427.817019,
   "end_time": "2022-01-08T15:54:09.993615",
   "environment_variables": {},
   "exception": null,
   "input_path": "__notebook__.ipynb",
   "output_path": "__notebook__.ipynb",
   "parameters": {},
   "start_time": "2022-01-08T14:57:02.176596",
   "version": "2.3.3"
  }
 },
 "nbformat": 4,
 "nbformat_minor": 5
}
