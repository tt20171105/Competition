{
 "cells": [
  {
   "cell_type": "code",
   "execution_count": 1,
   "id": "a6df5bf8",
   "metadata": {
    "_cell_guid": "b1076dfc-b9ad-4769-8c92-a6c4dae69d19",
    "_uuid": "8f2839f25d086af736a60e9eeb907d3b93b6e0e5",
    "execution": {
     "iopub.execute_input": "2021-12-30T08:27:35.515507Z",
     "iopub.status.busy": "2021-12-30T08:27:35.513724Z",
     "iopub.status.idle": "2021-12-30T08:27:45.580735Z",
     "shell.execute_reply": "2021-12-30T08:27:45.580005Z",
     "shell.execute_reply.started": "2021-12-30T08:17:44.767156Z"
    },
    "papermill": {
     "duration": 10.090215,
     "end_time": "2021-12-30T08:27:45.580892",
     "exception": false,
     "start_time": "2021-12-30T08:27:35.490677",
     "status": "completed"
    },
    "tags": []
   },
   "outputs": [
    {
     "name": "stdout",
     "output_type": "stream",
     "text": [
      "Collecting smogn\r\n",
      "  Downloading smogn-0.1.2-py3-none-any.whl (30 kB)\r\n",
      "Requirement already satisfied: tqdm in /opt/conda/lib/python3.7/site-packages (from smogn) (4.62.3)\r\n",
      "Requirement already satisfied: numpy in /opt/conda/lib/python3.7/site-packages (from smogn) (1.19.5)\r\n",
      "Requirement already satisfied: pandas in /opt/conda/lib/python3.7/site-packages (from smogn) (1.3.3)\r\n",
      "Requirement already satisfied: python-dateutil>=2.7.3 in /opt/conda/lib/python3.7/site-packages (from pandas->smogn) (2.8.0)\r\n",
      "Requirement already satisfied: pytz>=2017.3 in /opt/conda/lib/python3.7/site-packages (from pandas->smogn) (2021.1)\r\n",
      "Requirement already satisfied: six>=1.5 in /opt/conda/lib/python3.7/site-packages (from python-dateutil>=2.7.3->pandas->smogn) (1.16.0)\r\n",
      "Installing collected packages: smogn\r\n",
      "Successfully installed smogn-0.1.2\r\n",
      "\u001b[33mWARNING: Running pip as the 'root' user can result in broken permissions and conflicting behaviour with the system package manager. It is recommended to use a virtual environment instead: https://pip.pypa.io/warnings/venv\u001b[0m\r\n"
     ]
    }
   ],
   "source": [
    "!pip install smogn"
   ]
  },
  {
   "cell_type": "code",
   "execution_count": 2,
   "id": "474eaff8",
   "metadata": {
    "execution": {
     "iopub.execute_input": "2021-12-30T08:27:45.631086Z",
     "iopub.status.busy": "2021-12-30T08:27:45.630075Z",
     "iopub.status.idle": "2021-12-30T08:27:47.747629Z",
     "shell.execute_reply": "2021-12-30T08:27:47.746877Z",
     "shell.execute_reply.started": "2021-12-30T08:17:54.632893Z"
    },
    "papermill": {
     "duration": 2.146166,
     "end_time": "2021-12-30T08:27:47.747777",
     "exception": false,
     "start_time": "2021-12-30T08:27:45.601611",
     "status": "completed"
    },
    "tags": []
   },
   "outputs": [],
   "source": [
    "import os\n",
    "import smogn\n",
    "import torch\n",
    "import imagehash\n",
    "import numpy as np\n",
    "import pandas as pd\n",
    "import matplotlib.pyplot as plt\n",
    "from glob import glob\n",
    "from tqdm import tqdm\n",
    "from PIL import Image, ImageDraw\n",
    "from concurrent.futures import ThreadPoolExecutor\n",
    "from sklearn.model_selection import StratifiedKFold\n",
    "\n",
    "pd.set_option(\"max_columns\", 150)\n",
    "pd.set_option('display.max_rows', 150)"
   ]
  },
  {
   "cell_type": "code",
   "execution_count": 3,
   "id": "94799943",
   "metadata": {
    "execution": {
     "iopub.execute_input": "2021-12-30T08:27:47.794410Z",
     "iopub.status.busy": "2021-12-30T08:27:47.793415Z",
     "iopub.status.idle": "2021-12-30T08:27:47.796261Z",
     "shell.execute_reply": "2021-12-30T08:27:47.795676Z",
     "shell.execute_reply.started": "2021-12-30T08:17:56.608666Z"
    },
    "papermill": {
     "duration": 0.028297,
     "end_time": "2021-12-30T08:27:47.796403",
     "exception": false,
     "start_time": "2021-12-30T08:27:47.768106",
     "status": "completed"
    },
    "tags": []
   },
   "outputs": [],
   "source": [
    "# If False, load and write the same data retrieved from previous version.\n",
    "MAKE_DROP_DUPLICATED_DATA = False\n",
    "MAKE_SMOGN_WITH100        = False\n",
    "MAKE_SMOGN_UNDER_ADD100   = False\n",
    "MAKE_SMOGN_FOLDS          = True\n",
    "MAKE_SMOGN_PSEUDOLABEL    = True"
   ]
  },
  {
   "cell_type": "code",
   "execution_count": 4,
   "id": "4e2644dd",
   "metadata": {
    "execution": {
     "iopub.execute_input": "2021-12-30T08:27:47.839762Z",
     "iopub.status.busy": "2021-12-30T08:27:47.838759Z",
     "iopub.status.idle": "2021-12-30T08:27:47.909402Z",
     "shell.execute_reply": "2021-12-30T08:27:47.908692Z",
     "shell.execute_reply.started": "2021-12-30T08:17:56.616260Z"
    },
    "papermill": {
     "duration": 0.093447,
     "end_time": "2021-12-30T08:27:47.909548",
     "exception": false,
     "start_time": "2021-12-30T08:27:47.816101",
     "status": "completed"
    },
    "tags": []
   },
   "outputs": [
    {
     "data": {
      "text/plain": [
       "(9912, 15)"
      ]
     },
     "execution_count": 4,
     "metadata": {},
     "output_type": "execute_result"
    }
   ],
   "source": [
    "df_train = pd.read_csv(\"../input/petfinder-pawpularity-score/train.csv\")\n",
    "df_train[\"path\"] = [f\"../input/petfinder-pawpularity-score/train/{i}.jpg\" for i in df_train.Id]\n",
    "\n",
    "df_train.shape"
   ]
  },
  {
   "cell_type": "markdown",
   "id": "a31a0181",
   "metadata": {
    "papermill": {
     "duration": 0.020367,
     "end_time": "2021-12-30T08:27:47.950865",
     "exception": false,
     "start_time": "2021-12-30T08:27:47.930498",
     "status": "completed"
    },
    "tags": []
   },
   "source": [
    "# Remove mislabeled data"
   ]
  },
  {
   "cell_type": "code",
   "execution_count": 5,
   "id": "59e4846f",
   "metadata": {
    "execution": {
     "iopub.execute_input": "2021-12-30T08:27:48.000078Z",
     "iopub.status.busy": "2021-12-30T08:27:47.999384Z",
     "iopub.status.idle": "2021-12-30T08:27:48.001319Z",
     "shell.execute_reply": "2021-12-30T08:27:48.001851Z",
     "shell.execute_reply.started": "2021-12-30T08:17:56.682991Z"
    },
    "papermill": {
     "duration": 0.030594,
     "end_time": "2021-12-30T08:27:48.002028",
     "exception": false,
     "start_time": "2021-12-30T08:27:47.971434",
     "status": "completed"
    },
    "tags": []
   },
   "outputs": [],
   "source": [
    "if MAKE_DROP_DUPLICATED_DATA:\n",
    "    funcs = [imagehash.average_hash,\n",
    "             imagehash.phash,\n",
    "             imagehash.dhash,\n",
    "             imagehash.whash]\n",
    "    def run_hash(path):\n",
    "        image = Image.open(path)\n",
    "        return list(np.array([f(image).hash for f in funcs]).reshape(256))\n",
    "\n",
    "    # Extract some samples from external data for accerarating.\n",
    "    paths = list(df_train.path)\n",
    "    print(len(paths))\n",
    "\n",
    "    with ThreadPoolExecutor(4) as e:\n",
    "        hashes = e.map(run_hash, paths)\n",
    "    hashes = [r for r in hashes]"
   ]
  },
  {
   "cell_type": "code",
   "execution_count": 6,
   "id": "fee7ea95",
   "metadata": {
    "execution": {
     "iopub.execute_input": "2021-12-30T08:27:48.049399Z",
     "iopub.status.busy": "2021-12-30T08:27:48.046423Z",
     "iopub.status.idle": "2021-12-30T08:27:48.051051Z",
     "shell.execute_reply": "2021-12-30T08:27:48.051582Z",
     "shell.execute_reply.started": "2021-12-30T08:17:56.689354Z"
    },
    "papermill": {
     "duration": 0.028597,
     "end_time": "2021-12-30T08:27:48.051750",
     "exception": false,
     "start_time": "2021-12-30T08:27:48.023153",
     "status": "completed"
    },
    "tags": []
   },
   "outputs": [],
   "source": [
    "if MAKE_DROP_DUPLICATED_DATA:\n",
    "    hashes_all = torch.Tensor(np.array(hashes).astype(int))\n",
    "    sims = np.array([(hashes_all[i] == hashes_all).sum(dim=1).cpu().numpy()/256 for i in range(hashes_all.shape[0])])\n",
    "    print(sims.shape)"
   ]
  },
  {
   "cell_type": "code",
   "execution_count": 7,
   "id": "c2685a65",
   "metadata": {
    "execution": {
     "iopub.execute_input": "2021-12-30T08:27:48.096426Z",
     "iopub.status.busy": "2021-12-30T08:27:48.095452Z",
     "iopub.status.idle": "2021-12-30T08:27:48.100983Z",
     "shell.execute_reply": "2021-12-30T08:27:48.102046Z",
     "shell.execute_reply.started": "2021-12-30T08:17:56.702033Z"
    },
    "papermill": {
     "duration": 0.030433,
     "end_time": "2021-12-30T08:27:48.102239",
     "exception": false,
     "start_time": "2021-12-30T08:27:48.071806",
     "status": "completed"
    },
    "tags": []
   },
   "outputs": [],
   "source": [
    "if MAKE_DROP_DUPLICATED_DATA:\n",
    "    match_patterns = {}\n",
    "    for i in range(sims.shape[0]):\n",
    "        similar = np.where(sims[i]>0.95)[0]\n",
    "        if 1 < len(similar):\n",
    "            this_paw = df_train.loc[i, \"Pawpularity\"]\n",
    "            sim_idxes = [s for s in similar if s != i]\n",
    "            match_patterns[i] = sim_idxes\n",
    "    print(len(match_patterns))"
   ]
  },
  {
   "cell_type": "code",
   "execution_count": 8,
   "id": "844343fe",
   "metadata": {
    "execution": {
     "iopub.execute_input": "2021-12-30T08:27:48.150057Z",
     "iopub.status.busy": "2021-12-30T08:27:48.149359Z",
     "iopub.status.idle": "2021-12-30T08:27:48.248537Z",
     "shell.execute_reply": "2021-12-30T08:27:48.249046Z",
     "shell.execute_reply.started": "2021-12-30T08:17:56.711649Z"
    },
    "papermill": {
     "duration": 0.126414,
     "end_time": "2021-12-30T08:27:48.249274",
     "exception": false,
     "start_time": "2021-12-30T08:27:48.122860",
     "status": "completed"
    },
    "tags": []
   },
   "outputs": [
    {
     "name": "stdout",
     "output_type": "stream",
     "text": [
      "(9860, 14)\n"
     ]
    }
   ],
   "source": [
    "if MAKE_DROP_DUPLICATED_DATA:\n",
    "    df_train_drop_duplicated = df_train.drop(list(match_patterns.keys())).reset_index(drop=True)\n",
    "    df_train_drop_duplicated.drop(\"path\", axis=1, inplace=True)\n",
    "else:\n",
    "    df_train_drop_duplicated = pd.read_csv(\"../input/petfinder-smogn-dataset/train_drop_duplicated.csv\")\n",
    "    \n",
    "print(df_train_drop_duplicated.shape)\n",
    "df_train_drop_duplicated.to_csv(\"./train_drop_duplicated.csv\", index=False)"
   ]
  },
  {
   "cell_type": "code",
   "execution_count": 9,
   "id": "8e6bca44",
   "metadata": {
    "execution": {
     "iopub.execute_input": "2021-12-30T08:27:48.294536Z",
     "iopub.status.busy": "2021-12-30T08:27:48.293882Z",
     "iopub.status.idle": "2021-12-30T08:27:48.749737Z",
     "shell.execute_reply": "2021-12-30T08:27:48.749206Z",
     "shell.execute_reply.started": "2021-12-30T08:17:56.788181Z"
    },
    "papermill": {
     "duration": 0.47967,
     "end_time": "2021-12-30T08:27:48.749886",
     "exception": false,
     "start_time": "2021-12-30T08:27:48.270216",
     "status": "completed"
    },
    "tags": []
   },
   "outputs": [
    {
     "data": {
      "text/plain": [
       "<AxesSubplot:>"
      ]
     },
     "execution_count": 9,
     "metadata": {},
     "output_type": "execute_result"
    },
    {
     "data": {
      "image/png": "[encoded data removed]",
      "text/plain": [
       "<Figure size 432x288 with 1 Axes>"
      ]
     },
     "metadata": {
      "needs_background": "light"
     },
     "output_type": "display_data"
    }
   ],
   "source": [
    "df_train_drop_duplicated.Pawpularity.hist(bins=100)"
   ]
  },
  {
   "cell_type": "markdown",
   "id": "1b3fe9b2",
   "metadata": {
    "papermill": {
     "duration": 0.020747,
     "end_time": "2021-12-30T08:27:48.791791",
     "exception": false,
     "start_time": "2021-12-30T08:27:48.771044",
     "status": "completed"
    },
    "tags": []
   },
   "source": [
    "# Make new data"
   ]
  },
  {
   "cell_type": "code",
   "execution_count": 10,
   "id": "a081f1ed",
   "metadata": {
    "execution": {
     "iopub.execute_input": "2021-12-30T08:27:48.837770Z",
     "iopub.status.busy": "2021-12-30T08:27:48.837093Z",
     "iopub.status.idle": "2021-12-30T08:27:48.931843Z",
     "shell.execute_reply": "2021-12-30T08:27:48.931062Z",
     "shell.execute_reply.started": "2021-12-30T08:17:57.193250Z"
    },
    "papermill": {
     "duration": 0.118937,
     "end_time": "2021-12-30T08:27:48.932003",
     "exception": false,
     "start_time": "2021-12-30T08:27:48.813066",
     "status": "completed"
    },
    "tags": []
   },
   "outputs": [
    {
     "name": "stdout",
     "output_type": "stream",
     "text": [
      "(8259, 14)\n"
     ]
    }
   ],
   "source": [
    "if MAKE_SMOGN_WITH100:\n",
    "    df_train_smogn_with100 = smogn.smoter(data=df_train_drop_duplicated, y='Pawpularity')\n",
    "else:\n",
    "    df_train_smogn_with100 = pd.read_csv(\"../input/petfinder-smogn-dataset/train_smogn_with100.csv\")\n",
    "\n",
    "print(df_train_smogn_with100.shape)\n",
    "df_train_smogn_with100.to_csv(\"./train_smogn_with100.csv\", index=False)"
   ]
  },
  {
   "cell_type": "code",
   "execution_count": 11,
   "id": "faec246a",
   "metadata": {
    "execution": {
     "iopub.execute_input": "2021-12-30T08:27:48.983548Z",
     "iopub.status.busy": "2021-12-30T08:27:48.982852Z",
     "iopub.status.idle": "2021-12-30T08:27:49.159017Z",
     "shell.execute_reply": "2021-12-30T08:27:49.158423Z",
     "shell.execute_reply.started": "2021-12-30T08:17:57.254421Z"
    },
    "papermill": {
     "duration": 0.205475,
     "end_time": "2021-12-30T08:27:49.159178",
     "exception": false,
     "start_time": "2021-12-30T08:27:48.953703",
     "status": "completed"
    },
    "tags": []
   },
   "outputs": [
    {
     "name": "stdout",
     "output_type": "stream",
     "text": [
      "(8101, 14)\n",
      "(8389, 14)\n"
     ]
    }
   ],
   "source": [
    "if MAKE_SMOGN_UNDER_ADD100:\n",
    "    df_train_100      = df_train_drop_duplicated[df_train_drop_duplicated.Pawpularity == 100].reset_index(drop=True)\n",
    "    print(df_train_100.shape)\n",
    "\n",
    "    df_train_under100 = df_train_drop_duplicated[df_train_drop_duplicated.Pawpularity  < 100].reset_index(drop=True)\n",
    "    print(df_train_under100.shape)\n",
    "\n",
    "    df_train_smogn_under100 = smogn.smoter(data=df_train_under100, y='Pawpularity')\n",
    "    df_train_smogn_add100   = pd.concat([df_train_smogn_under100, df_train_100]).reset_index(drop=True)\n",
    "else:\n",
    "    df_train_smogn_under100 = pd.read_csv(\"../input/petfinder-smogn-dataset/train_smogn_under100.csv\")\n",
    "    df_train_smogn_add100   = pd.read_csv(\"../input/petfinder-smogn-dataset/train_smogn_add100.csv\")\n",
    "    \n",
    "print(df_train_smogn_under100.shape)\n",
    "print(df_train_smogn_add100.shape)\n",
    "df_train_smogn_under100.to_csv(\"./train_smogn_under100.csv\", index=False)\n",
    "df_train_smogn_add100.to_csv(\"./train_smogn_add100.csv\", index=False)"
   ]
  },
  {
   "cell_type": "code",
   "execution_count": 12,
   "id": "84dc2c35",
   "metadata": {
    "execution": {
     "iopub.execute_input": "2021-12-30T08:27:49.207282Z",
     "iopub.status.busy": "2021-12-30T08:27:49.206587Z",
     "iopub.status.idle": "2021-12-30T08:27:49.633988Z",
     "shell.execute_reply": "2021-12-30T08:27:49.634491Z",
     "shell.execute_reply.started": "2021-12-30T08:17:58.307921Z"
    },
    "papermill": {
     "duration": 0.452398,
     "end_time": "2021-12-30T08:27:49.634668",
     "exception": false,
     "start_time": "2021-12-30T08:27:49.182270",
     "status": "completed"
    },
    "tags": []
   },
   "outputs": [
    {
     "data": {
      "text/plain": [
       "<AxesSubplot:>"
      ]
     },
     "execution_count": 12,
     "metadata": {},
     "output_type": "execute_result"
    },
    {
     "data": {
      "image/png": "[encoded data removed]",
      "text/plain": [
       "<Figure size 432x288 with 1 Axes>"
      ]
     },
     "metadata": {
      "needs_background": "light"
     },
     "output_type": "display_data"
    }
   ],
   "source": [
    "df_train_smogn_with100.Pawpularity.hist(bins=100)"
   ]
  },
  {
   "cell_type": "code",
   "execution_count": 13,
   "id": "838ca484",
   "metadata": {
    "execution": {
     "iopub.execute_input": "2021-12-30T08:27:49.709851Z",
     "iopub.status.busy": "2021-12-30T08:27:49.687080Z",
     "iopub.status.idle": "2021-12-30T08:27:50.101412Z",
     "shell.execute_reply": "2021-12-30T08:27:50.100724Z",
     "shell.execute_reply.started": "2021-12-30T08:17:58.671924Z"
    },
    "papermill": {
     "duration": 0.443387,
     "end_time": "2021-12-30T08:27:50.101569",
     "exception": false,
     "start_time": "2021-12-30T08:27:49.658182",
     "status": "completed"
    },
    "tags": []
   },
   "outputs": [
    {
     "data": {
      "text/plain": [
       "<AxesSubplot:>"
      ]
     },
     "execution_count": 13,
     "metadata": {},
     "output_type": "execute_result"
    },
    {
     "data": {
      "image/png": "[encoded data removed]",
      "text/plain": [
       "<Figure size 432x288 with 1 Axes>"
      ]
     },
     "metadata": {
      "needs_background": "light"
     },
     "output_type": "display_data"
    }
   ],
   "source": [
    "df_train_smogn_under100.Pawpularity.hist(bins=100)"
   ]
  },
  {
   "cell_type": "code",
   "execution_count": 14,
   "id": "c9160e67",
   "metadata": {
    "execution": {
     "iopub.execute_input": "2021-12-30T08:27:50.152762Z",
     "iopub.status.busy": "2021-12-30T08:27:50.151804Z",
     "iopub.status.idle": "2021-12-30T08:27:50.685424Z",
     "shell.execute_reply": "2021-12-30T08:27:50.685879Z",
     "shell.execute_reply.started": "2021-12-30T08:17:59.029876Z"
    },
    "papermill": {
     "duration": 0.560663,
     "end_time": "2021-12-30T08:27:50.686056",
     "exception": false,
     "start_time": "2021-12-30T08:27:50.125393",
     "status": "completed"
    },
    "tags": []
   },
   "outputs": [
    {
     "data": {
      "text/plain": [
       "<AxesSubplot:>"
      ]
     },
     "execution_count": 14,
     "metadata": {},
     "output_type": "execute_result"
    },
    {
     "data": {
      "image/png": "[encoded data removed]",
      "text/plain": [
       "<Figure size 432x288 with 1 Axes>"
      ]
     },
     "metadata": {
      "needs_background": "light"
     },
     "output_type": "display_data"
    }
   ],
   "source": [
    "df_train_smogn_add100.Pawpularity.hist(bins=100)"
   ]
  },
  {
   "cell_type": "code",
   "execution_count": 15,
   "id": "f8005cdb",
   "metadata": {
    "execution": {
     "iopub.execute_input": "2021-12-30T08:27:50.739112Z",
     "iopub.status.busy": "2021-12-30T08:27:50.737882Z",
     "iopub.status.idle": "2021-12-30T08:27:50.751592Z",
     "shell.execute_reply": "2021-12-30T08:27:50.752169Z",
     "shell.execute_reply.started": "2021-12-30T08:18:03.789380Z"
    },
    "papermill": {
     "duration": 0.041749,
     "end_time": "2021-12-30T08:27:50.752339",
     "exception": false,
     "start_time": "2021-12-30T08:27:50.710590",
     "status": "completed"
    },
    "tags": []
   },
   "outputs": [],
   "source": [
    "df_fold  = df_train_drop_duplicated.copy()\n",
    "df_fold[\"Pawclass\"] = df_fold.Pawpularity / 100\n",
    "\n",
    "num_bins = int(np.ceil(2*((len(df_fold))**(1./3))))\n",
    "df_fold['bins'] = pd.cut(df_fold['Pawclass'], bins=num_bins, labels=False)"
   ]
  },
  {
   "cell_type": "code",
   "execution_count": 16,
   "id": "44e8c9ac",
   "metadata": {
    "execution": {
     "iopub.execute_input": "2021-12-30T08:27:50.810361Z",
     "iopub.status.busy": "2021-12-30T08:27:50.809659Z",
     "iopub.status.idle": "2021-12-30T08:27:50.827355Z",
     "shell.execute_reply": "2021-12-30T08:27:50.827891Z",
     "shell.execute_reply.started": "2021-12-30T08:18:04.245488Z"
    },
    "papermill": {
     "duration": 0.051011,
     "end_time": "2021-12-30T08:27:50.828068",
     "exception": false,
     "start_time": "2021-12-30T08:27:50.777057",
     "status": "completed"
    },
    "tags": []
   },
   "outputs": [
    {
     "data": {
      "text/plain": [
       "3    2465\n",
       "1    2465\n",
       "2    2465\n",
       "0    2465\n",
       "Name: fold, dtype: int64"
      ]
     },
     "execution_count": 16,
     "metadata": {},
     "output_type": "execute_result"
    }
   ],
   "source": [
    "kfold = StratifiedKFold(n_splits=4, random_state=42, shuffle=True)\n",
    "df_fold[\"fold\"] = 0\n",
    "for i, (_, train_index) in enumerate(kfold.split(df_fold.index, df_fold['bins'])):\n",
    "    df_fold.loc[train_index, \"fold\"] = i\n",
    "df_fold['fold'] = df_fold['fold'].astype('int')\n",
    "\n",
    "df_fold.fold.value_counts()"
   ]
  },
  {
   "cell_type": "code",
   "execution_count": 17,
   "id": "72b2bd8b",
   "metadata": {
    "execution": {
     "iopub.execute_input": "2021-12-30T08:27:50.881910Z",
     "iopub.status.busy": "2021-12-30T08:27:50.881256Z",
     "iopub.status.idle": "2021-12-30T09:31:41.188667Z",
     "shell.execute_reply": "2021-12-30T09:31:41.189281Z",
     "shell.execute_reply.started": "2021-12-30T08:25:21.544589Z"
    },
    "papermill": {
     "duration": 3830.336346,
     "end_time": "2021-12-30T09:31:41.189526",
     "exception": false,
     "start_time": "2021-12-30T08:27:50.853180",
     "status": "completed"
    },
    "tags": []
   },
   "outputs": [
    {
     "name": "stdout",
     "output_type": "stream",
     "text": [
      "Running with fold 0...\n"
     ]
    },
    {
     "name": "stderr",
     "output_type": "stream",
     "text": [
      "/opt/conda/lib/python3.7/site-packages/pandas/core/indexing.py:1773: SettingWithCopyWarning: \n",
      "A value is trying to be set on a copy of a slice from a DataFrame.\n",
      "Try using .loc[row_indexer,col_indexer] = value instead\n",
      "\n",
      "See the caveats in the documentation: https://pandas.pydata.org/pandas-docs/stable/user_guide/indexing.html#returning-a-view-versus-a-copy\n",
      "  self._setitem_single_column(ilocs[0], value, pi)\n",
      "dist_matrix: 100%|##########| 1101/1101 [15:33<00:00,  1.18it/s]\n",
      "synth_matrix: 100%|##########| 1101/1101 [00:08<00:00, 134.55it/s]\n",
      "r_index: 100%|##########| 285/285 [00:01<00:00, 264.41it/s]\n"
     ]
    },
    {
     "name": "stdout",
     "output_type": "stream",
     "text": [
      "Fold 0 has 6294 training data and 2465 validation data\n",
      "-----------------------------------\n",
      "Running with fold 1...\n"
     ]
    },
    {
     "name": "stderr",
     "output_type": "stream",
     "text": [
      "dist_matrix: 100%|##########| 1103/1103 [15:42<00:00,  1.17it/s]\n",
      "synth_matrix: 100%|##########| 1103/1103 [00:08<00:00, 132.60it/s]\n",
      "r_index: 100%|##########| 279/279 [00:01<00:00, 268.33it/s]\n"
     ]
    },
    {
     "name": "stdout",
     "output_type": "stream",
     "text": [
      "Fold 1 has 6291 training data and 2465 validation data\n",
      "-----------------------------------\n",
      "Running with fold 2...\n"
     ]
    },
    {
     "name": "stderr",
     "output_type": "stream",
     "text": [
      "dist_matrix: 100%|##########| 1104/1104 [15:55<00:00,  1.16it/s]\n",
      "synth_matrix: 100%|##########| 1104/1104 [00:08<00:00, 132.83it/s]\n",
      "r_index: 100%|##########| 277/277 [00:01<00:00, 261.86it/s]\n"
     ]
    },
    {
     "name": "stdout",
     "output_type": "stream",
     "text": [
      "Fold 2 has 6290 training data and 2465 validation data\n",
      "-----------------------------------\n",
      "Running with fold 3...\n"
     ]
    },
    {
     "name": "stderr",
     "output_type": "stream",
     "text": [
      "dist_matrix: 100%|##########| 1105/1105 [15:55<00:00,  1.16it/s]\n",
      "synth_matrix: 100%|##########| 1105/1105 [00:08<00:00, 131.63it/s]\n",
      "r_index: 100%|##########| 275/275 [00:01<00:00, 260.00it/s]\n"
     ]
    },
    {
     "name": "stdout",
     "output_type": "stream",
     "text": [
      "Fold 3 has 6290 training data and 2465 validation data\n",
      "-----------------------------------\n",
      "(35025, 16)\n",
      "CPU times: user 1h 3min 48s, sys: 3.61 s, total: 1h 3min 52s\n",
      "Wall time: 1h 3min 50s\n"
     ]
    }
   ],
   "source": [
    "%%time\n",
    "if MAKE_SMOGN_FOLDS:\n",
    "    df_smogn_fold = pd.DataFrame()\n",
    "    for fold in range(4):\n",
    "        print(f\"Running with fold {fold}...\")\n",
    "        df_train = df_fold[df_fold.fold != fold]\n",
    "        df_train_under100 = df_train[df_train.Pawpularity <  100].reset_index(drop=True)\n",
    "        df_train_only100  = df_train[df_train.Pawpularity == 100].reset_index(drop=True)\n",
    "        df_valid = df_fold[df_fold.fold == fold].reset_index(drop=True)\n",
    "        df_train_smogn = smogn.smoter(data=df_train_under100.copy(), y='Pawpularity')\n",
    "        df_train_smogn[\"fold\"]  = fold\n",
    "        df_train_smogn[\"train\"] = 1\n",
    "        df_train_only100[\"fold\"]  = fold\n",
    "        df_train_only100[\"train\"] = 1\n",
    "        df_valid[\"train\"] = 0\n",
    "        df_smogn_fold = df_smogn_fold.append(pd.concat([df_train_smogn, df_train_only100, df_valid]))\n",
    "        print(f\"Fold {fold} has {df_train_smogn.shape[0] + df_train_only100.shape[0]} training data and {df_valid.shape[0]} validation data\")\n",
    "        print(\"-----------------------------------\")\n",
    "    df_smogn_fold = df_smogn_fold.drop([\"Pawclass\",\"bins\"], axis=1).reset_index(drop=True)\n",
    "else:\n",
    "    df_smogn_fold = pd.read_csv(\"../input/petfinder-smogn-dataset/train_smogn_fold4.csv\")\n",
    "    \n",
    "print(df_smogn_fold.shape)\n",
    "df_smogn_fold.to_csv(\"./train_smogn_fold4.csv\", index=False)"
   ]
  },
  {
   "cell_type": "code",
   "execution_count": 18,
   "id": "edd3d4c6",
   "metadata": {
    "execution": {
     "iopub.execute_input": "2021-12-30T09:31:44.212429Z",
     "iopub.status.busy": "2021-12-30T09:31:44.211729Z",
     "iopub.status.idle": "2021-12-30T09:31:44.622888Z",
     "shell.execute_reply": "2021-12-30T09:31:44.623397Z",
     "shell.execute_reply.started": "2021-12-30T08:26:19.658062Z"
    },
    "papermill": {
     "duration": 1.965959,
     "end_time": "2021-12-30T09:31:44.623576",
     "exception": false,
     "start_time": "2021-12-30T09:31:42.657617",
     "status": "completed"
    },
    "tags": []
   },
   "outputs": [
    {
     "data": {
      "text/plain": [
       "<AxesSubplot:>"
      ]
     },
     "execution_count": 18,
     "metadata": {},
     "output_type": "execute_result"
    },
    {
     "data": {
      "image/png": "[encoded data removed]",
      "text/plain": [
       "<Figure size 432x288 with 1 Axes>"
      ]
     },
     "metadata": {
      "needs_background": "light"
     },
     "output_type": "display_data"
    }
   ],
   "source": [
    "df_smogn_fold[(df_smogn_fold.fold == 0)&(df_smogn_fold.train == 1)].Pawpularity.hist(bins=100)"
   ]
  },
  {
   "cell_type": "code",
   "execution_count": 19,
   "id": "9ce49859",
   "metadata": {
    "execution": {
     "iopub.execute_input": "2021-12-30T09:31:47.641519Z",
     "iopub.status.busy": "2021-12-30T09:31:47.640732Z",
     "iopub.status.idle": "2021-12-30T15:11:54.344033Z",
     "shell.execute_reply": "2021-12-30T15:11:54.344622Z",
     "shell.execute_reply.started": "2021-12-30T08:24:14.321111Z"
    },
    "papermill": {
     "duration": 20408.19632,
     "end_time": "2021-12-30T15:11:54.344823",
     "exception": false,
     "start_time": "2021-12-30T09:31:46.148503",
     "status": "completed"
    },
    "tags": []
   },
   "outputs": [
    {
     "name": "stderr",
     "output_type": "stream",
     "text": [
      "dist_matrix: 100%|##########| 8169/8169 [5:39:23<00:00,  2.49s/it]\n",
      "synth_matrix: 100%|##########| 8169/8169 [00:14<00:00, 578.12it/s]\n",
      "r_index: 100%|##########| 4649/4649 [00:04<00:00, 1134.27it/s]\n"
     ]
    },
    {
     "name": "stdout",
     "output_type": "stream",
     "text": [
      "(50142, 2)\n"
     ]
    }
   ],
   "source": [
    "if MAKE_SMOGN_PSEUDOLABEL:\n",
    "    df_train_pseudo = pd.read_csv(\"../input/petfinder-pseudolabel-dataset/train.csv\")\n",
    "    df_train_smogn_pseudo = smogn.smoter(data=df_train_pseudo.copy(), y='Pawpularity')\n",
    "else:\n",
    "    df_train_smogn_pseudo = pd.read_csv(\"../input/petfinder-smogn-dataset/train_smogn_pseudolabel.csv\")\n",
    "\n",
    "print(df_train_smogn_pseudo.shape)\n",
    "df_train_smogn_pseudo.to_csv(\"./train_smogn_pseudolabel.csv\", index=False)"
   ]
  },
  {
   "cell_type": "code",
   "execution_count": 20,
   "id": "cec7454f",
   "metadata": {
    "execution": {
     "iopub.execute_input": "2021-12-30T15:12:02.444964Z",
     "iopub.status.busy": "2021-12-30T15:12:02.444328Z",
     "iopub.status.idle": "2021-12-30T15:12:02.887062Z",
     "shell.execute_reply": "2021-12-30T15:12:02.886483Z",
     "shell.execute_reply.started": "2021-12-30T08:26:55.015319Z"
    },
    "papermill": {
     "duration": 4.449384,
     "end_time": "2021-12-30T15:12:02.887223",
     "exception": false,
     "start_time": "2021-12-30T15:11:58.437839",
     "status": "completed"
    },
    "tags": []
   },
   "outputs": [
    {
     "data": {
      "text/plain": [
       "<AxesSubplot:>"
      ]
     },
     "execution_count": 20,
     "metadata": {},
     "output_type": "execute_result"
    },
    {
     "data": {
      "image/png": "[encoded data removed]",
      "text/plain": [
       "<Figure size 432x288 with 1 Axes>"
      ]
     },
     "metadata": {
      "needs_background": "light"
     },
     "output_type": "display_data"
    }
   ],
   "source": [
    "df_train_smogn_pseudo.Pawpularity.hist(bins=100)"
   ]
  }
 ],
 "metadata": {
  "kernelspec": {
   "display_name": "Python 3",
   "language": "python",
   "name": "python3"
  },
  "language_info": {
   "codemirror_mode": {
    "name": "ipython",
    "version": 3
   },
   "file_extension": ".py",
   "mimetype": "text/x-python",
   "name": "python",
   "nbconvert_exporter": "python",
   "pygments_lexer": "ipython3",
   "version": "3.7.10"
  },
  "papermill": {
   "default_parameters": {},
   "duration": 24281.564948,
   "end_time": "2021-12-30T15:12:07.968221",
   "environment_variables": {},
   "exception": null,
   "input_path": "__notebook__.ipynb",
   "output_path": "__notebook__.ipynb",
   "parameters": {},
   "start_time": "2021-12-30T08:27:26.403273",
   "version": "2.3.3"
  }
 },
 "nbformat": 4,
 "nbformat_minor": 5
}
