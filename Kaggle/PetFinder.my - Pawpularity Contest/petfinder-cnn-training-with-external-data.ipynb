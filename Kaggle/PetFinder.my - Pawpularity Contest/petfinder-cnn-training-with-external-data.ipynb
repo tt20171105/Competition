{
 "cells": [
  {
   "cell_type": "code",
   "execution_count": 1,
   "id": "ea3f5d87",
   "metadata": {
    "_cell_guid": "b1076dfc-b9ad-4769-8c92-a6c4dae69d19",
    "_uuid": "8f2839f25d086af736a60e9eeb907d3b93b6e0e5",
    "execution": {
     "iopub.execute_input": "2021-12-13T14:27:32.509986Z",
     "iopub.status.busy": "2021-12-13T14:27:32.508555Z",
     "iopub.status.idle": "2021-12-13T14:27:32.519823Z",
     "shell.execute_reply": "2021-12-13T14:27:32.520421Z",
     "shell.execute_reply.started": "2021-12-13T14:24:20.924524Z"
    },
    "papermill": {
     "duration": 0.04251,
     "end_time": "2021-12-13T14:27:32.520817",
     "exception": false,
     "start_time": "2021-12-13T14:27:32.478307",
     "status": "completed"
    },
    "tags": []
   },
   "outputs": [],
   "source": [
    "import sys\n",
    "sys.path.append('../input/timm-pytorch-image-models/pytorch-image-models-master')\n",
    "sys.path.append('../input/pytorch-optimizers/')"
   ]
  },
  {
   "cell_type": "code",
   "execution_count": 2,
   "id": "e0229584",
   "metadata": {
    "execution": {
     "iopub.execute_input": "2021-12-13T14:27:32.575671Z",
     "iopub.status.busy": "2021-12-13T14:27:32.574936Z",
     "iopub.status.idle": "2021-12-13T14:27:43.573969Z",
     "shell.execute_reply": "2021-12-13T14:27:43.574514Z",
     "shell.execute_reply.started": "2021-12-13T14:24:21.836756Z"
    },
    "papermill": {
     "duration": 11.026143,
     "end_time": "2021-12-13T14:27:43.574742",
     "exception": false,
     "start_time": "2021-12-13T14:27:32.548599",
     "status": "completed"
    },
    "tags": []
   },
   "outputs": [],
   "source": [
    "import os\n",
    "import gc\n",
    "import cv2\n",
    "import copy\n",
    "import time\n",
    "import yaml\n",
    "import random\n",
    "import shutil\n",
    "import warnings\n",
    "import imagehash\n",
    "import subprocess\n",
    "import numpy as np\n",
    "import pandas as pd\n",
    "import matplotlib.pyplot as plt\n",
    "from glob import glob\n",
    "from tqdm import tqdm\n",
    "from PIL import Image, ImageDraw\n",
    "from shutil import copyfile\n",
    "from IPython.core.display import Video, display\n",
    "from concurrent.futures import ThreadPoolExecutor\n",
    "from sklearn.metrics import mean_squared_error\n",
    "from sklearn.model_selection import train_test_split, KFold, GroupKFold, StratifiedKFold\n",
    "\n",
    "import timm\n",
    "import torch\n",
    "import torch.nn.functional as F\n",
    "import torchvision\n",
    "from torch import nn\n",
    "from torch.cuda.amp import autocast, GradScaler\n",
    "from torch.utils.data import Dataset,DataLoader\n",
    "from torch.utils.data.sampler import SequentialSampler, RandomSampler\n",
    "from torch.optim.lr_scheduler import CosineAnnealingLR\n",
    "from torch.nn.modules.loss import _WeightedLoss\n",
    "from torchvision import models, transforms\n",
    "from torch_optimizer.radam import RAdam\n",
    "\n",
    "from albumentations.pytorch import ToTensorV2\n",
    "from albumentations import (\n",
    "    HorizontalFlip, VerticalFlip, IAAPerspective, ShiftScaleRotate, CLAHE, RandomRotate90,\n",
    "    Transpose, ShiftScaleRotate, Blur, OpticalDistortion, GridDistortion, HueSaturationValue,\n",
    "    IAAAdditiveGaussianNoise, GaussNoise, MotionBlur, MedianBlur, IAAPiecewiseAffine, RandomResizedCrop,\n",
    "    IAASharpen, IAAEmboss, RandomBrightnessContrast, Flip, OneOf, Compose, Normalize, Cutout, CoarseDropout,\n",
    "    ShiftScaleRotate, CenterCrop, Resize, Rotate, RandomRotate90, RGBShift, ChannelShuffle)\n",
    "\n",
    "warnings.simplefilter('ignore')\n",
    "pd.set_option(\"max_columns\", 150)\n",
    "pd.set_option('display.max_rows', 150)"
   ]
  },
  {
   "cell_type": "markdown",
   "id": "1d3111a7",
   "metadata": {
    "papermill": {
     "duration": 0.02363,
     "end_time": "2021-12-13T14:27:43.623815",
     "exception": false,
     "start_time": "2021-12-13T14:27:43.600185",
     "status": "completed"
    },
    "tags": []
   },
   "source": [
    "# Configuration"
   ]
  },
  {
   "cell_type": "code",
   "execution_count": 3,
   "id": "b5fbdab1",
   "metadata": {
    "execution": {
     "iopub.execute_input": "2021-12-13T14:27:43.680902Z",
     "iopub.status.busy": "2021-12-13T14:27:43.680107Z",
     "iopub.status.idle": "2021-12-13T14:27:43.686707Z",
     "shell.execute_reply": "2021-12-13T14:27:43.687378Z",
     "shell.execute_reply.started": "2021-12-13T14:24:30.937840Z"
    },
    "papermill": {
     "duration": 0.040273,
     "end_time": "2021-12-13T14:27:43.687568",
     "exception": false,
     "start_time": "2021-12-13T14:27:43.647295",
     "status": "completed"
    },
    "tags": []
   },
   "outputs": [
    {
     "data": {
      "text/plain": [
       "{'make_dataset': True,\n",
       " 'num_of_use': 22000,\n",
       " 'thrs_sim': 0.75,\n",
       " 'seed': 42,\n",
       " 'device': 'cpu',\n",
       " 'input_img': '../input/petfinder-pawpularity-score/train/',\n",
       " 'input_path': '../input/petfinder-pawpularity-score/train.csv',\n",
       " 'input_eimg': '../input/petfinder-adoption-prediction/train_images/',\n",
       " 'input_epath': '../input/petfinder-adoption-prediction/train/train.csv',\n",
       " 'output_path': './',\n",
       " 'model': 'tf_efficientnetv2_s_in21k',\n",
       " 'size': 512,\n",
       " 'batch_size': 32,\n",
       " 'epochs': 10,\n",
       " 'T_0': 20,\n",
       " 'lr': 0.001,\n",
       " 'momentum': 0.9,\n",
       " 'weight_decay': 0.0001,\n",
       " 'accum_iter': 2,\n",
       " 'early_stopping': 10,\n",
       " 'verbose_step': 1,\n",
       " 'num_workers': 4}"
      ]
     },
     "execution_count": 3,
     "metadata": {},
     "output_type": "execute_result"
    }
   ],
   "source": [
    "CFG = {\n",
    "    \"make_dataset\": True,\n",
    "    \"num_of_use\"  : 22000,\n",
    "    \"thrs_sim\"    : 0.75,\n",
    "    \"seed\"        : 42,\n",
    "    'device'      : \"cuda:0\" if torch.cuda.is_available() else \"cpu\",\n",
    "    \"input_img\"   : '../input/petfinder-pawpularity-score/train/',\n",
    "    \"input_path\"  : '../input/petfinder-pawpularity-score/train.csv',\n",
    "    \"input_eimg\"  : '../input/petfinder-adoption-prediction/train_images/',\n",
    "    \"input_epath\" : '../input/petfinder-adoption-prediction/train/train.csv',\n",
    "    \"output_path\" : './',\n",
    "    \"model\"       : \"tf_efficientnetv2_s_in21k\",\n",
    "    \"size\"        : 512,\n",
    "    \"batch_size\"  : 32,\n",
    "    \"epochs\"      : 10,\n",
    "    'T_0'         : 20,\n",
    "    \"lr\"          : 0.001,\n",
    "    'momentum'    : 0.9,\n",
    "    'weight_decay': 1e-4,\n",
    "    \"accum_iter\"  : 2,\n",
    "    'early_stopping': 10,\n",
    "    'verbose_step'  : 1,\n",
    "    \"num_workers\"   : 4\n",
    "}\n",
    "\n",
    "CFG"
   ]
  },
  {
   "cell_type": "code",
   "execution_count": 4,
   "id": "f5e28b4a",
   "metadata": {
    "execution": {
     "iopub.execute_input": "2021-12-13T14:27:43.742346Z",
     "iopub.status.busy": "2021-12-13T14:27:43.741637Z",
     "iopub.status.idle": "2021-12-13T14:27:43.753750Z",
     "shell.execute_reply": "2021-12-13T14:27:43.754343Z",
     "shell.execute_reply.started": "2021-12-13T14:24:31.005258Z"
    },
    "papermill": {
     "duration": 0.040967,
     "end_time": "2021-12-13T14:27:43.754624",
     "exception": false,
     "start_time": "2021-12-13T14:27:43.713657",
     "status": "completed"
    },
    "tags": []
   },
   "outputs": [],
   "source": [
    "def get_img(path):\n",
    "    im_bgr = cv2.imread(path)\n",
    "    im_rgb = im_bgr[:, :, ::-1]\n",
    "    return im_rgb\n",
    "\n",
    "def sigmoid(a):\n",
    "    return 1 / (1 + np.exp(-a))\n",
    "\n",
    "def softmax(x):\n",
    "    max = np.max(x,axis=1,keepdims=True)\n",
    "    e_x = np.exp(x - max)\n",
    "    sum = np.sum(e_x,axis=1,keepdims=True)\n",
    "    return e_x / sum \n",
    "\n",
    "def seed_everything(seed = 42):\n",
    "    '''Sets the seed of the entire notebook so results are the same every time we run.\n",
    "    This is for REPRODUCIBILITY.'''\n",
    "    np.random.seed(seed)\n",
    "    random.seed(seed)\n",
    "    torch.manual_seed(seed)\n",
    "    torch.cuda.manual_seed(seed)\n",
    "    # When running on the CuDNN backend, two further options must be set\n",
    "    torch.backends.cudnn.deterministic = True\n",
    "    torch.backends.cudnn.benchmark = False\n",
    "    # Set a fixed value for the hash seed\n",
    "    os.environ['PYTHONHASHSEED'] = str(seed)\n",
    "    \n",
    "seed_everything(CFG[\"seed\"])"
   ]
  },
  {
   "cell_type": "markdown",
   "id": "ed1561b5",
   "metadata": {
    "papermill": {
     "duration": 0.024199,
     "end_time": "2021-12-13T14:27:43.803522",
     "exception": false,
     "start_time": "2021-12-13T14:27:43.779323",
     "status": "completed"
    },
    "tags": []
   },
   "source": [
    "# Calculate the similarity with imagehash "
   ]
  },
  {
   "cell_type": "code",
   "execution_count": 5,
   "id": "cbe480be",
   "metadata": {
    "execution": {
     "iopub.execute_input": "2021-12-13T14:27:43.856776Z",
     "iopub.status.busy": "2021-12-13T14:27:43.856048Z",
     "iopub.status.idle": "2021-12-13T14:27:43.997807Z",
     "shell.execute_reply": "2021-12-13T14:27:43.997172Z",
     "shell.execute_reply.started": "2021-12-13T14:24:31.024917Z"
    },
    "papermill": {
     "duration": 0.169093,
     "end_time": "2021-12-13T14:27:43.997975",
     "exception": false,
     "start_time": "2021-12-13T14:27:43.828882",
     "status": "completed"
    },
    "tags": []
   },
   "outputs": [
    {
     "name": "stdout",
     "output_type": "stream",
     "text": [
      "(3536, 15)\n"
     ]
    },
    {
     "data": {
      "text/html": [
       "<div>\n",
       "<style scoped>\n",
       "    .dataframe tbody tr th:only-of-type {\n",
       "        vertical-align: middle;\n",
       "    }\n",
       "\n",
       "    .dataframe tbody tr th {\n",
       "        vertical-align: top;\n",
       "    }\n",
       "\n",
       "    .dataframe thead th {\n",
       "        text-align: right;\n",
       "    }\n",
       "</style>\n",
       "<table border=\"1\" class=\"dataframe\">\n",
       "  <thead>\n",
       "    <tr style=\"text-align: right;\">\n",
       "      <th></th>\n",
       "      <th>Id</th>\n",
       "      <th>Subject Focus</th>\n",
       "      <th>Eyes</th>\n",
       "      <th>Face</th>\n",
       "      <th>Near</th>\n",
       "      <th>Action</th>\n",
       "      <th>Accessory</th>\n",
       "      <th>Group</th>\n",
       "      <th>Collage</th>\n",
       "      <th>Human</th>\n",
       "      <th>Occlusion</th>\n",
       "      <th>Info</th>\n",
       "      <th>Blur</th>\n",
       "      <th>Pawpularity</th>\n",
       "      <th>path</th>\n",
       "    </tr>\n",
       "  </thead>\n",
       "  <tbody>\n",
       "    <tr>\n",
       "      <th>0</th>\n",
       "      <td>0007de18844b0dbbb5e1f607da0606e0</td>\n",
       "      <td>0</td>\n",
       "      <td>1</td>\n",
       "      <td>1</td>\n",
       "      <td>1</td>\n",
       "      <td>0</td>\n",
       "      <td>0</td>\n",
       "      <td>1</td>\n",
       "      <td>0</td>\n",
       "      <td>0</td>\n",
       "      <td>0</td>\n",
       "      <td>0</td>\n",
       "      <td>0</td>\n",
       "      <td>63</td>\n",
       "      <td>../input/petfinder-pawpularity-score/train/000...</td>\n",
       "    </tr>\n",
       "    <tr>\n",
       "      <th>1</th>\n",
       "      <td>0018df346ac9c1d8413cfcc888ca8246</td>\n",
       "      <td>0</td>\n",
       "      <td>1</td>\n",
       "      <td>1</td>\n",
       "      <td>1</td>\n",
       "      <td>0</td>\n",
       "      <td>0</td>\n",
       "      <td>0</td>\n",
       "      <td>0</td>\n",
       "      <td>0</td>\n",
       "      <td>0</td>\n",
       "      <td>0</td>\n",
       "      <td>0</td>\n",
       "      <td>15</td>\n",
       "      <td>../input/petfinder-pawpularity-score/train/001...</td>\n",
       "    </tr>\n",
       "    <tr>\n",
       "      <th>2</th>\n",
       "      <td>001dc955e10590d3ca4673f034feeef2</td>\n",
       "      <td>0</td>\n",
       "      <td>0</td>\n",
       "      <td>0</td>\n",
       "      <td>1</td>\n",
       "      <td>0</td>\n",
       "      <td>0</td>\n",
       "      <td>1</td>\n",
       "      <td>0</td>\n",
       "      <td>0</td>\n",
       "      <td>0</td>\n",
       "      <td>0</td>\n",
       "      <td>0</td>\n",
       "      <td>72</td>\n",
       "      <td>../input/petfinder-pawpularity-score/train/001...</td>\n",
       "    </tr>\n",
       "    <tr>\n",
       "      <th>3</th>\n",
       "      <td>001dd4f6fafb890610b1635f967ea081</td>\n",
       "      <td>0</td>\n",
       "      <td>0</td>\n",
       "      <td>1</td>\n",
       "      <td>0</td>\n",
       "      <td>0</td>\n",
       "      <td>0</td>\n",
       "      <td>0</td>\n",
       "      <td>0</td>\n",
       "      <td>0</td>\n",
       "      <td>0</td>\n",
       "      <td>0</td>\n",
       "      <td>1</td>\n",
       "      <td>74</td>\n",
       "      <td>../input/petfinder-pawpularity-score/train/001...</td>\n",
       "    </tr>\n",
       "    <tr>\n",
       "      <th>4</th>\n",
       "      <td>0042bc5bada6d1cf8951f8f9f0d399fa</td>\n",
       "      <td>0</td>\n",
       "      <td>1</td>\n",
       "      <td>1</td>\n",
       "      <td>1</td>\n",
       "      <td>0</td>\n",
       "      <td>0</td>\n",
       "      <td>0</td>\n",
       "      <td>0</td>\n",
       "      <td>0</td>\n",
       "      <td>0</td>\n",
       "      <td>0</td>\n",
       "      <td>0</td>\n",
       "      <td>53</td>\n",
       "      <td>../input/petfinder-pawpularity-score/train/004...</td>\n",
       "    </tr>\n",
       "  </tbody>\n",
       "</table>\n",
       "</div>"
      ],
      "text/plain": [
       "                                 Id  Subject Focus  Eyes  Face  Near  Action  \\\n",
       "0  0007de18844b0dbbb5e1f607da0606e0              0     1     1     1       0   \n",
       "1  0018df346ac9c1d8413cfcc888ca8246              0     1     1     1       0   \n",
       "2  001dc955e10590d3ca4673f034feeef2              0     0     0     1       0   \n",
       "3  001dd4f6fafb890610b1635f967ea081              0     0     1     0       0   \n",
       "4  0042bc5bada6d1cf8951f8f9f0d399fa              0     1     1     1       0   \n",
       "\n",
       "   Accessory  Group  Collage  Human  Occlusion  Info  Blur  Pawpularity  \\\n",
       "0          0      1        0      0          0     0     0           63   \n",
       "1          0      0        0      0          0     0     0           15   \n",
       "2          0      1        0      0          0     0     0           72   \n",
       "3          0      0        0      0          0     0     1           74   \n",
       "4          0      0        0      0          0     0     0           53   \n",
       "\n",
       "                                                path  \n",
       "0  ../input/petfinder-pawpularity-score/train/000...  \n",
       "1  ../input/petfinder-pawpularity-score/train/001...  \n",
       "2  ../input/petfinder-pawpularity-score/train/001...  \n",
       "3  ../input/petfinder-pawpularity-score/train/001...  \n",
       "4  ../input/petfinder-pawpularity-score/train/004...  "
      ]
     },
     "execution_count": 5,
     "metadata": {},
     "output_type": "execute_result"
    }
   ],
   "source": [
    "df_train = pd.read_csv(CFG['input_path'])\n",
    "df_train = df_train[(df_train.Pawpularity <= 20)|(50 <= df_train.Pawpularity)].reset_index(drop=True)\n",
    "df_train[\"path\"] = [f\"{CFG['input_img']}{i}.jpg\" for i in df_train.Id]\n",
    "\n",
    "print(df_train.shape)\n",
    "df_train.head()"
   ]
  },
  {
   "cell_type": "code",
   "execution_count": 6,
   "id": "f98cd26b",
   "metadata": {
    "execution": {
     "iopub.execute_input": "2021-12-13T14:27:44.052420Z",
     "iopub.status.busy": "2021-12-13T14:27:44.051701Z",
     "iopub.status.idle": "2021-12-13T14:33:37.727435Z",
     "shell.execute_reply": "2021-12-13T14:33:37.728051Z",
     "shell.execute_reply.started": "2021-12-13T14:24:31.092389Z"
    },
    "papermill": {
     "duration": 353.704609,
     "end_time": "2021-12-13T14:33:37.728262",
     "exception": false,
     "start_time": "2021-12-13T14:27:44.023653",
     "status": "completed"
    },
    "tags": []
   },
   "outputs": [
    {
     "name": "stdout",
     "output_type": "stream",
     "text": [
      "25536\n",
      "CPU times: user 13min 32s, sys: 36.7 s, total: 14min 9s\n",
      "Wall time: 5min 53s\n"
     ]
    }
   ],
   "source": [
    "%%time\n",
    "if CFG[\"make_dataset\"]:\n",
    "    funcs = [imagehash.average_hash,\n",
    "             imagehash.phash,\n",
    "             imagehash.dhash,\n",
    "             imagehash.whash]\n",
    "    def run_hash(path):\n",
    "        image = Image.open(path)\n",
    "        return list(np.array([f(image).hash for f in funcs]).reshape(256))\n",
    "\n",
    "    # Extract some samples from external data for accerarating.\n",
    "    ext_paths = glob(CFG[\"input_eimg\"]+'*')\n",
    "    random.shuffle(ext_paths)\n",
    "    paths = list(df_train.path) + ext_paths[:CFG['num_of_use']]\n",
    "    print(len(paths))\n",
    "\n",
    "    with ThreadPoolExecutor(CFG[\"num_workers\"]) as e:\n",
    "        hashes = e.map(run_hash, paths)\n",
    "    hashes = [r for r in hashes]"
   ]
  },
  {
   "cell_type": "code",
   "execution_count": 7,
   "id": "d1aaab70",
   "metadata": {
    "execution": {
     "iopub.execute_input": "2021-12-13T14:33:38.681703Z",
     "iopub.status.busy": "2021-12-13T14:33:38.680269Z",
     "iopub.status.idle": "2021-12-13T14:44:28.027179Z",
     "shell.execute_reply": "2021-12-13T14:44:28.027786Z",
     "shell.execute_reply.started": "2021-12-13T14:24:31.102893Z"
    },
    "papermill": {
     "duration": 650.272565,
     "end_time": "2021-12-13T14:44:28.027983",
     "exception": false,
     "start_time": "2021-12-13T14:33:37.755418",
     "status": "completed"
    },
    "tags": []
   },
   "outputs": [
    {
     "name": "stdout",
     "output_type": "stream",
     "text": [
      "(25536, 25536)\n",
      "CPU times: user 9min 16s, sys: 11min 24s, total: 20min 41s\n",
      "Wall time: 10min 50s\n"
     ]
    }
   ],
   "source": [
    "%%time\n",
    "if CFG[\"make_dataset\"]:\n",
    "    hashes_all = torch.Tensor(np.array(hashes).astype(int)).to(CFG[\"device\"])\n",
    "    sims = np.array([(hashes_all[i] == hashes_all).sum(dim=1).cpu().numpy()/256 for i in range(hashes_all.shape[0])])\n",
    "\n",
    "    print(sims.shape)"
   ]
  },
  {
   "cell_type": "code",
   "execution_count": 8,
   "id": "71970c7b",
   "metadata": {
    "execution": {
     "iopub.execute_input": "2021-12-13T14:44:28.091202Z",
     "iopub.status.busy": "2021-12-13T14:44:28.090109Z",
     "iopub.status.idle": "2021-12-13T14:44:41.595188Z",
     "shell.execute_reply": "2021-12-13T14:44:41.594577Z",
     "shell.execute_reply.started": "2021-12-13T14:24:54.092233Z"
    },
    "papermill": {
     "duration": 13.540615,
     "end_time": "2021-12-13T14:44:41.595358",
     "exception": false,
     "start_time": "2021-12-13T14:44:28.054743",
     "status": "completed"
    },
    "tags": []
   },
   "outputs": [],
   "source": [
    "if CFG[\"make_dataset\"]:\n",
    "    last = len(df_train.path)\n",
    "\n",
    "    res  = []\n",
    "    for e_idx in range(last, last+CFG[\"num_of_use\"]):\n",
    "        vec = sims[e_idx][:last]\n",
    "        sim_idxs = np.where(vec > CFG[\"thrs_sim\"])[0]\n",
    "        if len(sim_idxs) == 0 or max(vec) == 1:\n",
    "            continue\n",
    "        ids = [os.path.basename(paths[i])[:-4] for i in sim_idxs]\n",
    "        score = df_train[df_train.Id.isin(ids)].Pawpularity.mean()\n",
    "        res.append([paths[e_idx], score, len(sim_idxs), max(vec)])\n",
    "\n",
    "    df_external_train = pd.DataFrame(res, columns=[\"path\", \"Pawpularity\", \"num\", \"max_sim\"])\n",
    "else:\n",
    "    df_external_train = pd.read_csv(\"../input/petfinder-cnn-models-with-external-data/external_train.csv\")\n",
    "\n",
    "df_external_train.to_csv(\"./external_train.csv\", index=False)"
   ]
  },
  {
   "cell_type": "code",
   "execution_count": 9,
   "id": "9cb38831",
   "metadata": {
    "execution": {
     "iopub.execute_input": "2021-12-13T14:44:41.660055Z",
     "iopub.status.busy": "2021-12-13T14:44:41.659306Z",
     "iopub.status.idle": "2021-12-13T14:44:41.665103Z",
     "shell.execute_reply": "2021-12-13T14:44:41.664494Z",
     "shell.execute_reply.started": "2021-12-13T14:24:56.038426Z"
    },
    "papermill": {
     "duration": 0.043689,
     "end_time": "2021-12-13T14:44:41.665259",
     "exception": false,
     "start_time": "2021-12-13T14:44:41.621570",
     "status": "completed"
    },
    "tags": []
   },
   "outputs": [
    {
     "name": "stdout",
     "output_type": "stream",
     "text": [
      "(5102, 4)\n"
     ]
    },
    {
     "data": {
      "text/html": [
       "<div>\n",
       "<style scoped>\n",
       "    .dataframe tbody tr th:only-of-type {\n",
       "        vertical-align: middle;\n",
       "    }\n",
       "\n",
       "    .dataframe tbody tr th {\n",
       "        vertical-align: top;\n",
       "    }\n",
       "\n",
       "    .dataframe thead th {\n",
       "        text-align: right;\n",
       "    }\n",
       "</style>\n",
       "<table border=\"1\" class=\"dataframe\">\n",
       "  <thead>\n",
       "    <tr style=\"text-align: right;\">\n",
       "      <th></th>\n",
       "      <th>path</th>\n",
       "      <th>Pawpularity</th>\n",
       "      <th>num</th>\n",
       "      <th>max_sim</th>\n",
       "    </tr>\n",
       "  </thead>\n",
       "  <tbody>\n",
       "    <tr>\n",
       "      <th>0</th>\n",
       "      <td>../input/petfinder-adoption-prediction/train_i...</td>\n",
       "      <td>50.00</td>\n",
       "      <td>1</td>\n",
       "      <td>0.765625</td>\n",
       "    </tr>\n",
       "    <tr>\n",
       "      <th>1</th>\n",
       "      <td>../input/petfinder-adoption-prediction/train_i...</td>\n",
       "      <td>15.00</td>\n",
       "      <td>1</td>\n",
       "      <td>0.773438</td>\n",
       "    </tr>\n",
       "    <tr>\n",
       "      <th>2</th>\n",
       "      <td>../input/petfinder-adoption-prediction/train_i...</td>\n",
       "      <td>16.50</td>\n",
       "      <td>2</td>\n",
       "      <td>0.757812</td>\n",
       "    </tr>\n",
       "    <tr>\n",
       "      <th>3</th>\n",
       "      <td>../input/petfinder-adoption-prediction/train_i...</td>\n",
       "      <td>60.25</td>\n",
       "      <td>4</td>\n",
       "      <td>0.796875</td>\n",
       "    </tr>\n",
       "    <tr>\n",
       "      <th>4</th>\n",
       "      <td>../input/petfinder-adoption-prediction/train_i...</td>\n",
       "      <td>92.00</td>\n",
       "      <td>1</td>\n",
       "      <td>0.757812</td>\n",
       "    </tr>\n",
       "  </tbody>\n",
       "</table>\n",
       "</div>"
      ],
      "text/plain": [
       "                                                path  Pawpularity  num  \\\n",
       "0  ../input/petfinder-adoption-prediction/train_i...        50.00    1   \n",
       "1  ../input/petfinder-adoption-prediction/train_i...        15.00    1   \n",
       "2  ../input/petfinder-adoption-prediction/train_i...        16.50    2   \n",
       "3  ../input/petfinder-adoption-prediction/train_i...        60.25    4   \n",
       "4  ../input/petfinder-adoption-prediction/train_i...        92.00    1   \n",
       "\n",
       "    max_sim  \n",
       "0  0.765625  \n",
       "1  0.773438  \n",
       "2  0.757812  \n",
       "3  0.796875  \n",
       "4  0.757812  "
      ]
     },
     "execution_count": 9,
     "metadata": {},
     "output_type": "execute_result"
    }
   ],
   "source": [
    "print(df_external_train.shape)\n",
    "df_external_train.head()"
   ]
  },
  {
   "cell_type": "code",
   "execution_count": 10,
   "id": "113f0946",
   "metadata": {
    "execution": {
     "iopub.execute_input": "2021-12-13T14:44:41.721950Z",
     "iopub.status.busy": "2021-12-13T14:44:41.721230Z",
     "iopub.status.idle": "2021-12-13T14:44:42.287642Z",
     "shell.execute_reply": "2021-12-13T14:44:42.286811Z",
     "shell.execute_reply.started": "2021-12-13T14:24:59.212276Z"
    },
    "papermill": {
     "duration": 0.595638,
     "end_time": "2021-12-13T14:44:42.287823",
     "exception": false,
     "start_time": "2021-12-13T14:44:41.692185",
     "status": "completed"
    },
    "tags": []
   },
   "outputs": [
    {
     "data": {
      "text/plain": [
       "<AxesSubplot:>"
      ]
     },
     "execution_count": 10,
     "metadata": {},
     "output_type": "execute_result"
    },
    {
     "data": {
      "image/png": "[encoded data removed]",
      "text/plain": [
       "<Figure size 432x288 with 1 Axes>"
      ]
     },
     "metadata": {
      "needs_background": "light"
     },
     "output_type": "display_data"
    }
   ],
   "source": [
    "df_external_train.Pawpularity.hist(bins=100)"
   ]
  },
  {
   "cell_type": "markdown",
   "id": "45db71cb",
   "metadata": {
    "papermill": {
     "duration": 0.027398,
     "end_time": "2021-12-13T14:44:42.343450",
     "exception": false,
     "start_time": "2021-12-13T14:44:42.316052",
     "status": "completed"
    },
    "tags": []
   },
   "source": [
    "# Load data and run pre-processing"
   ]
  },
  {
   "cell_type": "code",
   "execution_count": 11,
   "id": "de402447",
   "metadata": {
    "execution": {
     "iopub.execute_input": "2021-12-13T14:44:42.407943Z",
     "iopub.status.busy": "2021-12-13T14:44:42.407169Z",
     "iopub.status.idle": "2021-12-13T14:44:42.446528Z",
     "shell.execute_reply": "2021-12-13T14:44:42.445915Z",
     "shell.execute_reply.started": "2021-12-13T14:25:03.308624Z"
    },
    "papermill": {
     "duration": 0.074311,
     "end_time": "2021-12-13T14:44:42.446706",
     "exception": false,
     "start_time": "2021-12-13T14:44:42.372395",
     "status": "completed"
    },
    "tags": []
   },
   "outputs": [
    {
     "name": "stdout",
     "output_type": "stream",
     "text": [
      "(9912, 15)\n"
     ]
    },
    {
     "data": {
      "text/html": [
       "<div>\n",
       "<style scoped>\n",
       "    .dataframe tbody tr th:only-of-type {\n",
       "        vertical-align: middle;\n",
       "    }\n",
       "\n",
       "    .dataframe tbody tr th {\n",
       "        vertical-align: top;\n",
       "    }\n",
       "\n",
       "    .dataframe thead th {\n",
       "        text-align: right;\n",
       "    }\n",
       "</style>\n",
       "<table border=\"1\" class=\"dataframe\">\n",
       "  <thead>\n",
       "    <tr style=\"text-align: right;\">\n",
       "      <th></th>\n",
       "      <th>Id</th>\n",
       "      <th>Subject Focus</th>\n",
       "      <th>Eyes</th>\n",
       "      <th>Face</th>\n",
       "      <th>Near</th>\n",
       "      <th>Action</th>\n",
       "      <th>Accessory</th>\n",
       "      <th>Group</th>\n",
       "      <th>Collage</th>\n",
       "      <th>Human</th>\n",
       "      <th>Occlusion</th>\n",
       "      <th>Info</th>\n",
       "      <th>Blur</th>\n",
       "      <th>Pawpularity</th>\n",
       "      <th>path</th>\n",
       "    </tr>\n",
       "  </thead>\n",
       "  <tbody>\n",
       "    <tr>\n",
       "      <th>0</th>\n",
       "      <td>0007de18844b0dbbb5e1f607da0606e0</td>\n",
       "      <td>0</td>\n",
       "      <td>1</td>\n",
       "      <td>1</td>\n",
       "      <td>1</td>\n",
       "      <td>0</td>\n",
       "      <td>0</td>\n",
       "      <td>1</td>\n",
       "      <td>0</td>\n",
       "      <td>0</td>\n",
       "      <td>0</td>\n",
       "      <td>0</td>\n",
       "      <td>0</td>\n",
       "      <td>63</td>\n",
       "      <td>../input/petfinder-pawpularity-score/train/000...</td>\n",
       "    </tr>\n",
       "    <tr>\n",
       "      <th>1</th>\n",
       "      <td>0009c66b9439883ba2750fb825e1d7db</td>\n",
       "      <td>0</td>\n",
       "      <td>1</td>\n",
       "      <td>1</td>\n",
       "      <td>0</td>\n",
       "      <td>0</td>\n",
       "      <td>0</td>\n",
       "      <td>0</td>\n",
       "      <td>0</td>\n",
       "      <td>0</td>\n",
       "      <td>0</td>\n",
       "      <td>0</td>\n",
       "      <td>0</td>\n",
       "      <td>42</td>\n",
       "      <td>../input/petfinder-pawpularity-score/train/000...</td>\n",
       "    </tr>\n",
       "  </tbody>\n",
       "</table>\n",
       "</div>"
      ],
      "text/plain": [
       "                                 Id  Subject Focus  Eyes  Face  Near  Action  \\\n",
       "0  0007de18844b0dbbb5e1f607da0606e0              0     1     1     1       0   \n",
       "1  0009c66b9439883ba2750fb825e1d7db              0     1     1     0       0   \n",
       "\n",
       "   Accessory  Group  Collage  Human  Occlusion  Info  Blur  Pawpularity  \\\n",
       "0          0      1        0      0          0     0     0           63   \n",
       "1          0      0        0      0          0     0     0           42   \n",
       "\n",
       "                                                path  \n",
       "0  ../input/petfinder-pawpularity-score/train/000...  \n",
       "1  ../input/petfinder-pawpularity-score/train/000...  "
      ]
     },
     "execution_count": 11,
     "metadata": {},
     "output_type": "execute_result"
    }
   ],
   "source": [
    "df_train = pd.read_csv(CFG['input_path'])\n",
    "df_train[\"path\"] = [f\"{CFG['input_img']}{i}.jpg\" for i in df_train.Id]\n",
    "\n",
    "print(df_train.shape)\n",
    "df_train.head(2)"
   ]
  },
  {
   "cell_type": "code",
   "execution_count": 12,
   "id": "31756ac7",
   "metadata": {
    "execution": {
     "iopub.execute_input": "2021-12-13T14:44:42.513375Z",
     "iopub.status.busy": "2021-12-13T14:44:42.512664Z",
     "iopub.status.idle": "2021-12-13T14:44:42.524406Z",
     "shell.execute_reply": "2021-12-13T14:44:42.523808Z",
     "shell.execute_reply.started": "2021-12-13T14:25:04.947031Z"
    },
    "papermill": {
     "duration": 0.048561,
     "end_time": "2021-12-13T14:44:42.524583",
     "exception": false,
     "start_time": "2021-12-13T14:44:42.476022",
     "status": "completed"
    },
    "tags": []
   },
   "outputs": [],
   "source": [
    "df_train = pd.concat([df_train, df_external_train]).reset_index(drop=True)\n",
    "df_train = df_train[[\"path\",\"Pawpularity\"]]\n",
    "df_train[\"Pawclass\"] = df_train.Pawpularity / 100"
   ]
  },
  {
   "cell_type": "code",
   "execution_count": 13,
   "id": "386bfe4d",
   "metadata": {
    "execution": {
     "iopub.execute_input": "2021-12-13T14:44:42.591126Z",
     "iopub.status.busy": "2021-12-13T14:44:42.590400Z",
     "iopub.status.idle": "2021-12-13T14:44:42.606233Z",
     "shell.execute_reply": "2021-12-13T14:44:42.605555Z",
     "shell.execute_reply.started": "2021-12-13T14:25:06.994356Z"
    },
    "papermill": {
     "duration": 0.052331,
     "end_time": "2021-12-13T14:44:42.606432",
     "exception": false,
     "start_time": "2021-12-13T14:44:42.554101",
     "status": "completed"
    },
    "tags": []
   },
   "outputs": [
    {
     "data": {
      "text/html": [
       "<div>\n",
       "<style scoped>\n",
       "    .dataframe tbody tr th:only-of-type {\n",
       "        vertical-align: middle;\n",
       "    }\n",
       "\n",
       "    .dataframe tbody tr th {\n",
       "        vertical-align: top;\n",
       "    }\n",
       "\n",
       "    .dataframe thead th {\n",
       "        text-align: right;\n",
       "    }\n",
       "</style>\n",
       "<table border=\"1\" class=\"dataframe\">\n",
       "  <thead>\n",
       "    <tr style=\"text-align: right;\">\n",
       "      <th></th>\n",
       "      <th>Pawpularity</th>\n",
       "      <th>Pawclass</th>\n",
       "    </tr>\n",
       "  </thead>\n",
       "  <tbody>\n",
       "    <tr>\n",
       "      <th>count</th>\n",
       "      <td>15014.000000</td>\n",
       "      <td>15014.000000</td>\n",
       "    </tr>\n",
       "    <tr>\n",
       "      <th>mean</th>\n",
       "      <td>41.749347</td>\n",
       "      <td>0.417493</td>\n",
       "    </tr>\n",
       "    <tr>\n",
       "      <th>std</th>\n",
       "      <td>23.414051</td>\n",
       "      <td>0.234141</td>\n",
       "    </tr>\n",
       "    <tr>\n",
       "      <th>min</th>\n",
       "      <td>1.000000</td>\n",
       "      <td>0.010000</td>\n",
       "    </tr>\n",
       "    <tr>\n",
       "      <th>25%</th>\n",
       "      <td>25.000000</td>\n",
       "      <td>0.250000</td>\n",
       "    </tr>\n",
       "    <tr>\n",
       "      <th>50%</th>\n",
       "      <td>37.000000</td>\n",
       "      <td>0.370000</td>\n",
       "    </tr>\n",
       "    <tr>\n",
       "      <th>75%</th>\n",
       "      <td>56.000000</td>\n",
       "      <td>0.560000</td>\n",
       "    </tr>\n",
       "    <tr>\n",
       "      <th>max</th>\n",
       "      <td>100.000000</td>\n",
       "      <td>1.000000</td>\n",
       "    </tr>\n",
       "  </tbody>\n",
       "</table>\n",
       "</div>"
      ],
      "text/plain": [
       "        Pawpularity      Pawclass\n",
       "count  15014.000000  15014.000000\n",
       "mean      41.749347      0.417493\n",
       "std       23.414051      0.234141\n",
       "min        1.000000      0.010000\n",
       "25%       25.000000      0.250000\n",
       "50%       37.000000      0.370000\n",
       "75%       56.000000      0.560000\n",
       "max      100.000000      1.000000"
      ]
     },
     "execution_count": 13,
     "metadata": {},
     "output_type": "execute_result"
    }
   ],
   "source": [
    "df_train.describe()"
   ]
  },
  {
   "cell_type": "code",
   "execution_count": 14,
   "id": "932d2136",
   "metadata": {
    "execution": {
     "iopub.execute_input": "2021-12-13T14:44:42.698182Z",
     "iopub.status.busy": "2021-12-13T14:44:42.693609Z",
     "iopub.status.idle": "2021-12-13T14:44:43.172387Z",
     "shell.execute_reply": "2021-12-13T14:44:43.172935Z",
     "shell.execute_reply.started": "2021-12-13T14:25:07.609172Z"
    },
    "papermill": {
     "duration": 0.536968,
     "end_time": "2021-12-13T14:44:43.173132",
     "exception": false,
     "start_time": "2021-12-13T14:44:42.636164",
     "status": "completed"
    },
    "tags": []
   },
   "outputs": [
    {
     "data": {
      "text/plain": [
       "<AxesSubplot:>"
      ]
     },
     "execution_count": 14,
     "metadata": {},
     "output_type": "execute_result"
    },
    {
     "data": {
      "image/png": "[encoded data removed]",
      "text/plain": [
       "<Figure size 432x288 with 1 Axes>"
      ]
     },
     "metadata": {
      "needs_background": "light"
     },
     "output_type": "display_data"
    }
   ],
   "source": [
    "df_train.Pawpularity.hist(bins=100)"
   ]
  },
  {
   "cell_type": "markdown",
   "id": "ba0de2c8",
   "metadata": {
    "papermill": {
     "duration": 0.03136,
     "end_time": "2021-12-13T14:44:43.235232",
     "exception": false,
     "start_time": "2021-12-13T14:44:43.203872",
     "status": "completed"
    },
    "tags": []
   },
   "source": [
    "# Define model"
   ]
  },
  {
   "cell_type": "code",
   "execution_count": 15,
   "id": "5140c36f",
   "metadata": {
    "execution": {
     "iopub.execute_input": "2021-12-13T14:44:43.307407Z",
     "iopub.status.busy": "2021-12-13T14:44:43.306669Z",
     "iopub.status.idle": "2021-12-13T14:44:43.310097Z",
     "shell.execute_reply": "2021-12-13T14:44:43.309473Z",
     "shell.execute_reply.started": "2021-12-13T14:25:09.349807Z"
    },
    "papermill": {
     "duration": 0.044353,
     "end_time": "2021-12-13T14:44:43.310259",
     "exception": false,
     "start_time": "2021-12-13T14:44:43.265906",
     "status": "completed"
    },
    "tags": []
   },
   "outputs": [],
   "source": [
    "class Model(nn.Module):\n",
    "    def __init__(self, model_name, pretrained=True):\n",
    "        super().__init__()\n",
    "        self.model = timm.create_model(model_name, pretrained=pretrained, in_chans=3)\n",
    "        self.n_features = self.model.classifier.in_features\n",
    "        self.model.classifier = nn.Linear(self.n_features, 1)\n",
    "\n",
    "    def forward(self, x):\n",
    "        output = self.model(x)\n",
    "        return output\n",
    "    \n",
    "class SwinModel(nn.Module):\n",
    "    def __init__(self, model_name, pretrained=True):\n",
    "        super().__init__()\n",
    "        self.model   = timm.create_model(model_name, pretrained=pretrained, num_classes=0, in_chans=3)\n",
    "        num_features = self.model.num_features\n",
    "        self.linear  = nn.Linear(num_features, 1)\n",
    "\n",
    "    def forward(self, x):\n",
    "        x = self.model(x)\n",
    "        output = self.linear(x)\n",
    "        return output"
   ]
  },
  {
   "cell_type": "code",
   "execution_count": 16,
   "id": "84dd5387",
   "metadata": {
    "execution": {
     "iopub.execute_input": "2021-12-13T14:44:43.385550Z",
     "iopub.status.busy": "2021-12-13T14:44:43.375015Z",
     "iopub.status.idle": "2021-12-13T14:44:43.387784Z",
     "shell.execute_reply": "2021-12-13T14:44:43.388354Z",
     "shell.execute_reply.started": "2021-12-13T14:25:09.863987Z"
    },
    "papermill": {
     "duration": 0.047191,
     "end_time": "2021-12-13T14:44:43.388605",
     "exception": false,
     "start_time": "2021-12-13T14:44:43.341414",
     "status": "completed"
    },
    "tags": []
   },
   "outputs": [],
   "source": [
    "class PetFinderDataset(Dataset):\n",
    "    def __init__(self, df_img, df_meta, transforms=None, train=True, output_meta=True, output_label=True):\n",
    "        super().__init__()\n",
    "        self.df_img  = df_img.reset_index(drop=True).copy()\n",
    "        self.df_meta = None if df_meta is None else df_meta.reset_index(drop=True).copy()\n",
    "        self.transforms   = transforms\n",
    "        self.train        = train\n",
    "        self.output_meta  = output_meta\n",
    "        self.output_label = output_label\n",
    "        \n",
    "    def __len__(self):\n",
    "        return self.df_img.shape[0]\n",
    "    \n",
    "    def __getitem__(self, index: int):\n",
    "        img  = get_img(self.df_img.loc[index].path)\n",
    "        y    = torch.from_numpy(np.array(self.df_img.loc[index].Pawclass))  # Pawpularity\n",
    "        if self.output_meta:\n",
    "            meta = torch.from_numpy(np.array(self.df_meta.loc[index], dtype=float))\n",
    "        if self.transforms:\n",
    "            if self.train:\n",
    "                img = self.transforms(image=img)['image']\n",
    "            else:\n",
    "                h, w, _ = img.shape\n",
    "                trans = self.transforms(h, w)\n",
    "                img   = trans(image=img)['image']\n",
    "        if self.output_label:\n",
    "            if self.output_meta:\n",
    "                return img, meta, y\n",
    "            else:\n",
    "                return img, y\n",
    "        if self.output_meta:\n",
    "            return img, meta\n",
    "        return img"
   ]
  },
  {
   "cell_type": "code",
   "execution_count": 17,
   "id": "8f3f4bac",
   "metadata": {
    "execution": {
     "iopub.execute_input": "2021-12-13T14:44:43.460052Z",
     "iopub.status.busy": "2021-12-13T14:44:43.458914Z",
     "iopub.status.idle": "2021-12-13T14:44:43.467401Z",
     "shell.execute_reply": "2021-12-13T14:44:43.468038Z",
     "shell.execute_reply.started": "2021-12-13T14:25:10.385317Z"
    },
    "papermill": {
     "duration": 0.048843,
     "end_time": "2021-12-13T14:44:43.468231",
     "exception": false,
     "start_time": "2021-12-13T14:44:43.419388",
     "status": "completed"
    },
    "tags": []
   },
   "outputs": [],
   "source": [
    "def get_train_transforms():\n",
    "    return Compose([\n",
    "        RandomResizedCrop(CFG['size'], CFG['size'], p=1.0),\n",
    "        HorizontalFlip(p=0.5),\n",
    "        MotionBlur(p=0.5),\n",
    "        HueSaturationValue(hue_shift_limit=0.2, sat_shift_limit=0.2, val_shift_limit=0.2, p=0.5),\n",
    "        RandomBrightnessContrast(brightness_limit=(-0.1,0.1), contrast_limit=(-0.1, 0.1), p=0.5),\n",
    "        Normalize(mean=[0.485, 0.456, 0.406], std=[0.229, 0.224, 0.225], max_pixel_value=255.0, p=1.0),\n",
    "        ToTensorV2(p=1.0)], p=1.0)\n",
    "  \n",
    "def get_valid_transforms(h, w):\n",
    "    h = int(CFG[\"size\"]*1.2) if int(CFG[\"size\"]*1.2) < h else h\n",
    "    w = int(CFG[\"size\"]*1.2) if int(CFG[\"size\"]*1.2) < w else w\n",
    "    return Compose([\n",
    "        CenterCrop(h, w, p=1.0),\n",
    "        Resize(CFG['size'], CFG['size'], p=1.0),\n",
    "        Normalize(mean=[0.485, 0.456, 0.406], std=[0.229, 0.224, 0.225], max_pixel_value=255.0, p=1.0),\n",
    "        ToTensorV2(p=1.0)], p=1.0)\n",
    "\n",
    "def prepare_dataloader(train, train_meta, valid, valid_meta):\n",
    "    train_ds = PetFinderDataset(train, train_meta, transforms=get_train_transforms(), output_meta=False)\n",
    "    valid_ds = PetFinderDataset(valid, valid_meta, transforms=get_valid_transforms, train=False, output_meta=False)\n",
    "    train_loader = torch.utils.data.DataLoader(train_ds,\n",
    "                                               batch_size=CFG['batch_size'],\n",
    "                                               drop_last=False,\n",
    "                                               pin_memory=False,\n",
    "                                               shuffle=True,\n",
    "                                               num_workers=CFG['num_workers'])\n",
    "    val_loader = torch.utils.data.DataLoader(valid_ds,\n",
    "                                             batch_size=CFG['batch_size'],\n",
    "                                             pin_memory=False,\n",
    "                                             shuffle=False,\n",
    "                                             num_workers=CFG['num_workers'])\n",
    "    return train_loader, val_loader"
   ]
  },
  {
   "cell_type": "code",
   "execution_count": 18,
   "id": "be906d9c",
   "metadata": {
    "execution": {
     "iopub.execute_input": "2021-12-13T14:44:43.534019Z",
     "iopub.status.busy": "2021-12-13T14:44:43.532881Z",
     "iopub.status.idle": "2021-12-13T14:44:43.553519Z",
     "shell.execute_reply": "2021-12-13T14:44:43.554122Z",
     "shell.execute_reply.started": "2021-12-13T14:25:11.001692Z"
    },
    "papermill": {
     "duration": 0.054957,
     "end_time": "2021-12-13T14:44:43.554323",
     "exception": false,
     "start_time": "2021-12-13T14:44:43.499366",
     "status": "completed"
    },
    "tags": []
   },
   "outputs": [],
   "source": [
    "def train_one_epoch(epoch, model, loss_fn, optimizer, train_loader, device, scheduler=None, schd_batch_update=False):\n",
    "    model.train()\n",
    "\n",
    "    t = time.time()\n",
    "    running_loss = None\n",
    "    mean_loss    = 0\n",
    "\n",
    "    pbar = tqdm(enumerate(train_loader), total=len(train_loader))\n",
    "    for step, (imgs, targets) in pbar:\n",
    "        imgs    = imgs.to(device).float()\n",
    "        targets = targets.reshape(-1,1).to(device).float()\n",
    "\n",
    "        with autocast():\n",
    "            img_preds = model(imgs)\n",
    "            loss = loss_fn(img_preds, targets) / CFG['accum_iter']\n",
    "        scaler.scale(loss).backward()\n",
    "\n",
    "        if running_loss is None:\n",
    "            running_loss = loss.item()\n",
    "        else:\n",
    "            running_loss = running_loss * .99 + loss.item() * .01\n",
    "        mean_loss += loss.item()\n",
    "\n",
    "        if ((step + 1) %  CFG['accum_iter'] == 0) or ((step + 1) == len(train_loader)):\n",
    "            scaler.step(optimizer)\n",
    "            scaler.update()\n",
    "            optimizer.zero_grad() \n",
    "            if scheduler is not None and schd_batch_update:\n",
    "                scheduler.step()\n",
    "\n",
    "        if ((step + 1) % CFG['verbose_step'] == 0) or ((step + 1) == len(train_loader)):\n",
    "            description = f'epoch {epoch} loss: {running_loss:.4f}'\n",
    "            pbar.set_description(description)\n",
    "                \n",
    "    if scheduler is not None and not schd_batch_update:\n",
    "        scheduler.step()\n",
    "    return mean_loss/len(train_loader)\n",
    "        \n",
    "def valid_one_epoch(epoch, model, loss_fn, val_loader, device, scheduler=None, schd_loss_update=False):\n",
    "    model.eval()\n",
    "\n",
    "    t = time.time()\n",
    "    loss_sum   = 0\n",
    "    sample_num = 0\n",
    "    img_preds_all = []\n",
    "    img_truth_all = []\n",
    "    \n",
    "    pbar = tqdm(enumerate(val_loader), total=len(val_loader))\n",
    "    for step, (imgs, targets) in pbar:\n",
    "        imgs    = imgs.to(device)\n",
    "        targets = targets.reshape(-1,1).to(device).float()\n",
    "        \n",
    "        img_preds = model(imgs)\n",
    "        img_preds_all += [img_preds.detach().cpu().numpy()]\n",
    "        img_truth_all += [targets.detach().cpu().numpy()]\n",
    "        \n",
    "        loss = loss_fn(img_preds, targets)\n",
    "        loss_sum   += loss.item()*targets.shape[0]\n",
    "        sample_num += targets.shape[0]  \n",
    "\n",
    "        if ((step + 1) % CFG['verbose_step'] == 0) or ((step + 1) == len(val_loader)):\n",
    "            description = f'epoch {epoch} loss: {loss_sum/sample_num:.4f}'\n",
    "            pbar.set_description(description)\n",
    "            \n",
    "    img_preds_all = (sigmoid(np.concatenate(img_preds_all))*100).astype(int)\n",
    "    img_truth_all = (np.concatenate(img_truth_all)*100).astype(int)\n",
    "    #img_preds_all = np.concatenate(img_preds_all)\n",
    "    #img_truth_all = np.concatenate(img_truth_all)\n",
    "    rmse = np.sqrt(mean_squared_error(img_preds_all, img_truth_all))\n",
    "    print('validation rmse = {:.6f}'.format(rmse))\n",
    "    \n",
    "    if scheduler is not None:\n",
    "        if schd_loss_update:\n",
    "            scheduler.step(loss_sum/sample_num)\n",
    "        else:\n",
    "            scheduler.step()\n",
    "    return rmse, loss_sum/sample_num,  [img_preds_all, img_truth_all]"
   ]
  },
  {
   "cell_type": "code",
   "execution_count": 19,
   "id": "5af01dea",
   "metadata": {
    "execution": {
     "iopub.execute_input": "2021-12-13T14:44:43.619366Z",
     "iopub.status.busy": "2021-12-13T14:44:43.618300Z",
     "iopub.status.idle": "2021-12-13T14:44:43.626616Z",
     "shell.execute_reply": "2021-12-13T14:44:43.627271Z",
     "shell.execute_reply.started": "2021-12-13T14:25:11.705612Z"
    },
    "papermill": {
     "duration": 0.042357,
     "end_time": "2021-12-13T14:44:43.627467",
     "exception": false,
     "start_time": "2021-12-13T14:44:43.585110",
     "status": "completed"
    },
    "tags": []
   },
   "outputs": [],
   "source": [
    "def sgd_optimizer(model, lr, momentum, weight_decay):\n",
    "    params = []\n",
    "    for key, value in model.named_parameters():\n",
    "        if not value.requires_grad:\n",
    "            continue\n",
    "        apply_weight_decay = weight_decay\n",
    "        apply_lr = lr\n",
    "        if 'bias' in key or 'bn' in key:\n",
    "            apply_weight_decay = 0\n",
    "        if 'bias' in key:\n",
    "            apply_lr = 2 * lr       # Just a Caffe-style common practice. Made no difference.\n",
    "        params += [{'params': [value], 'lr': apply_lr, 'weight_decay': apply_weight_decay}]\n",
    "    optimizer = torch.optim.SGD(params, lr, momentum=momentum)\n",
    "    return optimizer\n",
    "\n",
    "class RMSELoss(nn.Module):\n",
    "    def __init__(self):\n",
    "        super().__init__()\n",
    "        self.mse = nn.MSELoss()\n",
    "        \n",
    "    def forward(self, yhat, y):\n",
    "        return torch.sqrt(self.mse(yhat, y))"
   ]
  },
  {
   "cell_type": "markdown",
   "id": "ee6df87f",
   "metadata": {
    "papermill": {
     "duration": 0.031012,
     "end_time": "2021-12-13T14:44:43.689066",
     "exception": false,
     "start_time": "2021-12-13T14:44:43.658054",
     "status": "completed"
    },
    "tags": []
   },
   "source": [
    "# Run training"
   ]
  },
  {
   "cell_type": "code",
   "execution_count": 20,
   "id": "785590f2",
   "metadata": {
    "execution": {
     "iopub.execute_input": "2021-12-13T14:44:43.754765Z",
     "iopub.status.busy": "2021-12-13T14:44:43.753654Z",
     "iopub.status.idle": "2021-12-13T14:44:43.764931Z",
     "shell.execute_reply": "2021-12-13T14:44:43.765564Z",
     "shell.execute_reply.started": "2021-12-13T14:25:13.872585Z"
    },
    "papermill": {
     "duration": 0.045639,
     "end_time": "2021-12-13T14:44:43.765768",
     "exception": false,
     "start_time": "2021-12-13T14:44:43.720129",
     "status": "completed"
    },
    "tags": []
   },
   "outputs": [
    {
     "name": "stdout",
     "output_type": "stream",
     "text": [
      "(10509, 3) (4505, 3)\n"
     ]
    }
   ],
   "source": [
    "train, valid = train_test_split(df_train, test_size=0.3, random_state=CFG[\"seed\"])\n",
    "train = train.reset_index(drop=True)\n",
    "valid = valid.reset_index(drop=True)\n",
    "\n",
    "print(train.shape, valid.shape)"
   ]
  },
  {
   "cell_type": "code",
   "execution_count": 21,
   "id": "2e7bec6e",
   "metadata": {
    "execution": {
     "iopub.execute_input": "2021-12-13T14:44:43.830541Z",
     "iopub.status.busy": "2021-12-13T14:44:43.829430Z",
     "iopub.status.idle": "2021-12-13T14:44:43.841760Z",
     "shell.execute_reply": "2021-12-13T14:44:43.842376Z",
     "shell.execute_reply.started": "2021-12-13T14:25:20.222765Z"
    },
    "papermill": {
     "duration": 0.046627,
     "end_time": "2021-12-13T14:44:43.842570",
     "exception": false,
     "start_time": "2021-12-13T14:44:43.795943",
     "status": "completed"
    },
    "tags": []
   },
   "outputs": [],
   "source": [
    "if not CFG[\"make_dataset\"]:\n",
    "    train_loader, val_loader = prepare_dataloader(train, None, valid, None)\n",
    "\n",
    "    not_improved_cnt = 0\n",
    "    best_rmse  = 999\n",
    "    best_epoch = 0\n",
    "    histories  = {}\n",
    "\n",
    "    device    = torch.device(CFG['device'])\n",
    "    model     = Model(CFG[\"model\"])\n",
    "    model.to(device)\n",
    "    scaler    = GradScaler()\n",
    "    #optimizer = sgd_optimizer(model, CFG['lr'], CFG['momentum'], CFG['weight_decay'])\n",
    "    #scheduler = CosineAnnealingLR(optimizer=optimizer, T_max=CFG['T_0'])\n",
    "    optimizer = RAdam(model.parameters(), lr=CFG['lr'], weight_decay=CFG['weight_decay'])\n",
    "    scheduler = None\n",
    "    #loss      = RMSELoss().to(device)\n",
    "    loss      = nn.BCEWithLogitsLoss().to(device)\n",
    "\n",
    "    for epoch in range(CFG['epochs']):\n",
    "        train_loss = train_one_epoch(epoch, model, loss, optimizer, train_loader, device, scheduler=scheduler, schd_batch_update=False)\n",
    "\n",
    "        with torch.no_grad():\n",
    "            rmse, valid_loss, hist = valid_one_epoch(epoch, model, loss, val_loader, device, scheduler=None, schd_loss_update=False)\n",
    "        histories[epoch] = [train_loss, valid_loss, rmse, hist]\n",
    "\n",
    "        if rmse < best_rmse:\n",
    "            print('Best model will be saved to output path after completing this fold')\n",
    "            best_model = copy.deepcopy(model)\n",
    "            best_rmse  = rmse\n",
    "            best_epoch = epoch\n",
    "            not_improved_cnt = 0\n",
    "        elif CFG['early_stopping'] == not_improved_cnt:\n",
    "            print(\"Met early stopping.\")\n",
    "            break\n",
    "        else:\n",
    "            not_improved_cnt += 1\n",
    "\n",
    "    torch.save(best_model.state_dict(), f\"{CFG['output_path']}petfinder_swin_binary_external.pt\")\n",
    "\n",
    "    del model, optimizer, train_loader, val_loader, scaler\n",
    "    torch.cuda.empty_cache()"
   ]
  },
  {
   "cell_type": "code",
   "execution_count": 22,
   "id": "64967873",
   "metadata": {
    "execution": {
     "iopub.execute_input": "2021-12-13T14:44:43.907464Z",
     "iopub.status.busy": "2021-12-13T14:44:43.906353Z",
     "iopub.status.idle": "2021-12-13T14:44:43.911350Z",
     "shell.execute_reply": "2021-12-13T14:44:43.912030Z",
     "shell.execute_reply.started": "2021-12-02T14:10:20.96402Z"
    },
    "papermill": {
     "duration": 0.03856,
     "end_time": "2021-12-13T14:44:43.912210",
     "exception": false,
     "start_time": "2021-12-13T14:44:43.873650",
     "status": "completed"
    },
    "tags": []
   },
   "outputs": [],
   "source": [
    "if not CFG[\"make_dataset\"]:\n",
    "    # Plot last epoch result\n",
    "    pred, gt = histories[best_epoch][3:][0]\n",
    "    plt.scatter(x=pred, y=gt)\n",
    "    plt.show()"
   ]
  }
 ],
 "metadata": {
  "kernelspec": {
   "display_name": "Python 3",
   "language": "python",
   "name": "python3"
  },
  "language_info": {
   "codemirror_mode": {
    "name": "ipython",
    "version": 3
   },
   "file_extension": ".py",
   "mimetype": "text/x-python",
   "name": "python",
   "nbconvert_exporter": "python",
   "pygments_lexer": "ipython3",
   "version": "3.7.10"
  },
  "papermill": {
   "default_parameters": {},
   "duration": 1045.345571,
   "end_time": "2021-12-13T14:44:47.093210",
   "environment_variables": {},
   "exception": null,
   "input_path": "__notebook__.ipynb",
   "output_path": "__notebook__.ipynb",
   "parameters": {},
   "start_time": "2021-12-13T14:27:21.747639",
   "version": "2.3.3"
  }
 },
 "nbformat": 4,
 "nbformat_minor": 5
}
