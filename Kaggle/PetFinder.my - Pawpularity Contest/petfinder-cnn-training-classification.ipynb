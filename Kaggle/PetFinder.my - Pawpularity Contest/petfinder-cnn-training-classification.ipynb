{
 "cells": [
  {
   "cell_type": "code",
   "execution_count": 1,
   "id": "0629c3cf",
   "metadata": {
    "_cell_guid": "b1076dfc-b9ad-4769-8c92-a6c4dae69d19",
    "_uuid": "8f2839f25d086af736a60e9eeb907d3b93b6e0e5",
    "execution": {
     "iopub.execute_input": "2021-11-30T05:00:57.232102Z",
     "iopub.status.busy": "2021-11-30T05:00:57.231294Z",
     "iopub.status.idle": "2021-11-30T05:00:57.235976Z",
     "shell.execute_reply": "2021-11-30T05:00:57.235453Z",
     "shell.execute_reply.started": "2021-11-30T04:58:10.913445Z"
    },
    "papermill": {
     "duration": 0.035702,
     "end_time": "2021-11-30T05:00:57.236102",
     "exception": false,
     "start_time": "2021-11-30T05:00:57.200400",
     "status": "completed"
    },
    "tags": []
   },
   "outputs": [],
   "source": [
    "import sys\n",
    "sys.path.append('../input/timm-pytorch-image-models/pytorch-image-models-master')\n",
    "sys.path.append('../input/pytorch-optimizers/')"
   ]
  },
  {
   "cell_type": "code",
   "execution_count": 2,
   "id": "13d8e704",
   "metadata": {
    "execution": {
     "iopub.execute_input": "2021-11-30T05:00:57.279876Z",
     "iopub.status.busy": "2021-11-30T05:00:57.279317Z",
     "iopub.status.idle": "2021-11-30T05:01:06.637113Z",
     "shell.execute_reply": "2021-11-30T05:01:06.638583Z",
     "shell.execute_reply.started": "2021-11-30T04:58:10.944302Z"
    },
    "papermill": {
     "duration": 9.385465,
     "end_time": "2021-11-30T05:01:06.638812",
     "exception": false,
     "start_time": "2021-11-30T05:00:57.253347",
     "status": "completed"
    },
    "tags": []
   },
   "outputs": [],
   "source": [
    "import os\n",
    "import gc\n",
    "import cv2\n",
    "import copy\n",
    "import time\n",
    "import yaml\n",
    "import random\n",
    "import shutil\n",
    "import warnings\n",
    "import subprocess\n",
    "import numpy as np\n",
    "import pandas as pd\n",
    "import matplotlib.pyplot as plt\n",
    "from glob import glob\n",
    "from tqdm import tqdm\n",
    "from PIL import Image, ImageDraw\n",
    "from shutil import copyfile\n",
    "from IPython.core.display import Video, display\n",
    "from sklearn.metrics import confusion_matrix, mean_squared_error, recall_score, precision_score\n",
    "from sklearn.model_selection import train_test_split, KFold, GroupKFold, StratifiedKFold\n",
    "\n",
    "import timm\n",
    "import torch\n",
    "import torch.nn.functional as F\n",
    "import torchvision\n",
    "from torch import nn\n",
    "from torch.cuda.amp import autocast, GradScaler\n",
    "from torch.utils.data import Dataset,DataLoader\n",
    "from torch.utils.data.sampler import SequentialSampler, RandomSampler\n",
    "from torch.optim.lr_scheduler import CosineAnnealingLR\n",
    "from torch.nn.modules.loss import _WeightedLoss\n",
    "from torchvision import models, transforms\n",
    "from torch_optimizer.radam import RAdam\n",
    "\n",
    "from albumentations.pytorch import ToTensorV2\n",
    "from albumentations import (\n",
    "    HorizontalFlip, VerticalFlip, IAAPerspective, ShiftScaleRotate, CLAHE, RandomRotate90,\n",
    "    Transpose, ShiftScaleRotate, Blur, OpticalDistortion, GridDistortion, HueSaturationValue,\n",
    "    IAAAdditiveGaussianNoise, GaussNoise, MotionBlur, MedianBlur, IAAPiecewiseAffine, RandomResizedCrop,\n",
    "    IAASharpen, IAAEmboss, RandomBrightnessContrast, Flip, OneOf, Compose, Normalize, Cutout, CoarseDropout,\n",
    "    ShiftScaleRotate, CenterCrop, Resize, Rotate, RandomRotate90, RGBShift, ChannelShuffle)\n",
    "\n",
    "warnings.simplefilter('ignore')\n",
    "pd.set_option(\"max_columns\", 150)\n",
    "pd.set_option('display.max_rows', 150)"
   ]
  },
  {
   "cell_type": "markdown",
   "id": "830fdb54",
   "metadata": {
    "papermill": {
     "duration": 0.02975,
     "end_time": "2021-11-30T05:01:06.702701",
     "exception": false,
     "start_time": "2021-11-30T05:01:06.672951",
     "status": "completed"
    },
    "tags": []
   },
   "source": [
    "# Configuration"
   ]
  },
  {
   "cell_type": "code",
   "execution_count": 3,
   "id": "f0804c82",
   "metadata": {
    "execution": {
     "iopub.execute_input": "2021-11-30T05:01:06.818131Z",
     "iopub.status.busy": "2021-11-30T05:01:06.817301Z",
     "iopub.status.idle": "2021-11-30T05:01:06.829884Z",
     "shell.execute_reply": "2021-11-30T05:01:06.830929Z",
     "shell.execute_reply.started": "2021-11-30T04:58:19.999917Z"
    },
    "papermill": {
     "duration": 0.101686,
     "end_time": "2021-11-30T05:01:06.831156",
     "exception": false,
     "start_time": "2021-11-30T05:01:06.729470",
     "status": "completed"
    },
    "tags": []
   },
   "outputs": [
    {
     "data": {
      "text/plain": [
       "{'save_prev': False,\n",
       " 'seed': 42,\n",
       " 'device': 'cuda:0',\n",
       " 'input_img': '../input/petfinder-pawpularity-score/train/',\n",
       " 'input_path': '../input/petfinder-pawpularity-score/train.csv',\n",
       " 'output_path': './',\n",
       " 'model': 'swin_large_patch4_window7_224_in22k',\n",
       " 'size': 224,\n",
       " 'batch_size': 32,\n",
       " 'epochs': 5,\n",
       " 'T_0': 20,\n",
       " 'lr': 0.001,\n",
       " 'momentum': 0.9,\n",
       " 'weight_decay': 0.0001,\n",
       " 'accum_iter': 2,\n",
       " 'early_stopping': 10,\n",
       " 'verbose_step': 1,\n",
       " 'num_workers': 4}"
      ]
     },
     "execution_count": 3,
     "metadata": {},
     "output_type": "execute_result"
    }
   ],
   "source": [
    "CFG = {\n",
    "    \"save_prev\"   : False,\n",
    "    \"seed\"        : 42,\n",
    "    'device'      : \"cuda:0\" if torch.cuda.is_available() else \"cpu\",\n",
    "    \"input_img\"   : '../input/petfinder-pawpularity-score/train/',\n",
    "    \"input_path\"  : '../input/petfinder-pawpularity-score/train.csv',\n",
    "    \"output_path\" : './',\n",
    "    \"model\"       : \"swin_large_patch4_window7_224_in22k\",\n",
    "    \"size\"        : 224,\n",
    "    \"batch_size\"  : 32,\n",
    "    \"epochs\"      : 5,\n",
    "    'T_0'         : 20,\n",
    "    \"lr\"          : 0.001,\n",
    "    'momentum'    : 0.9,\n",
    "    'weight_decay': 1e-4,\n",
    "    \"accum_iter\"  : 2,\n",
    "    'early_stopping': 10,\n",
    "    'verbose_step'  : 1,\n",
    "    \"num_workers\"   : 4\n",
    "}\n",
    "\n",
    "CFG"
   ]
  },
  {
   "cell_type": "code",
   "execution_count": 4,
   "id": "ada7f283",
   "metadata": {
    "execution": {
     "iopub.execute_input": "2021-11-30T05:01:06.898060Z",
     "iopub.status.busy": "2021-11-30T05:01:06.897253Z",
     "iopub.status.idle": "2021-11-30T05:01:06.907407Z",
     "shell.execute_reply": "2021-11-30T05:01:06.908477Z",
     "shell.execute_reply.started": "2021-11-30T04:58:20.055760Z"
    },
    "papermill": {
     "duration": 0.049286,
     "end_time": "2021-11-30T05:01:06.908669",
     "exception": false,
     "start_time": "2021-11-30T05:01:06.859383",
     "status": "completed"
    },
    "tags": []
   },
   "outputs": [],
   "source": [
    "def get_img(path):\n",
    "    im_bgr = cv2.imread(path)\n",
    "    im_rgb = im_bgr[:, :, ::-1]\n",
    "    return im_rgb\n",
    "\n",
    "def seed_everything(seed = 42):\n",
    "    '''Sets the seed of the entire notebook so results are the same every time we run.\n",
    "    This is for REPRODUCIBILITY.'''\n",
    "    np.random.seed(seed)\n",
    "    random.seed(seed)\n",
    "    torch.manual_seed(seed)\n",
    "    torch.cuda.manual_seed(seed)\n",
    "    # When running on the CuDNN backend, two further options must be set\n",
    "    torch.backends.cudnn.deterministic = True\n",
    "    torch.backends.cudnn.benchmark = False\n",
    "    # Set a fixed value for the hash seed\n",
    "    os.environ['PYTHONHASHSEED'] = str(seed)\n",
    "    \n",
    "seed_everything(CFG[\"seed\"])"
   ]
  },
  {
   "cell_type": "code",
   "execution_count": 5,
   "id": "8afac28d",
   "metadata": {
    "execution": {
     "iopub.execute_input": "2021-11-30T05:01:06.972678Z",
     "iopub.status.busy": "2021-11-30T05:01:06.971837Z",
     "iopub.status.idle": "2021-11-30T05:01:06.974018Z",
     "shell.execute_reply": "2021-11-30T05:01:06.973374Z",
     "shell.execute_reply.started": "2021-11-30T04:58:20.073128Z"
    },
    "papermill": {
     "duration": 0.036065,
     "end_time": "2021-11-30T05:01:06.974156",
     "exception": false,
     "start_time": "2021-11-30T05:01:06.938091",
     "status": "completed"
    },
    "tags": []
   },
   "outputs": [],
   "source": [
    "if CFG['save_prev']:\n",
    "    !cp ../input/petfinder-cnn-classification-models/* ./"
   ]
  },
  {
   "cell_type": "markdown",
   "id": "3817d0e4",
   "metadata": {
    "papermill": {
     "duration": 0.02696,
     "end_time": "2021-11-30T05:01:07.028370",
     "exception": false,
     "start_time": "2021-11-30T05:01:07.001410",
     "status": "completed"
    },
    "tags": []
   },
   "source": [
    "# Load data"
   ]
  },
  {
   "cell_type": "code",
   "execution_count": 6,
   "id": "13c37fee",
   "metadata": {
    "execution": {
     "iopub.execute_input": "2021-11-30T05:01:07.092823Z",
     "iopub.status.busy": "2021-11-30T05:01:07.092039Z",
     "iopub.status.idle": "2021-11-30T05:01:07.175751Z",
     "shell.execute_reply": "2021-11-30T05:01:07.176422Z",
     "shell.execute_reply.started": "2021-11-30T04:58:20.080514Z"
    },
    "papermill": {
     "duration": 0.120844,
     "end_time": "2021-11-30T05:01:07.176631",
     "exception": false,
     "start_time": "2021-11-30T05:01:07.055787",
     "status": "completed"
    },
    "tags": []
   },
   "outputs": [
    {
     "name": "stdout",
     "output_type": "stream",
     "text": [
      "2    4830\n",
      "1    2182\n",
      "3    1655\n",
      "4     596\n",
      "6     288\n",
      "5     190\n",
      "0     171\n",
      "Name: Pawclass, dtype: int64\n",
      "['Subject Focus', 'Eyes', 'Face', 'Near', 'Action', 'Accessory', 'Group', 'Collage', 'Human', 'Occlusion', 'Info', 'Blur']\n",
      "(9912, 16)\n"
     ]
    },
    {
     "data": {
      "text/html": [
       "<div>\n",
       "<style scoped>\n",
       "    .dataframe tbody tr th:only-of-type {\n",
       "        vertical-align: middle;\n",
       "    }\n",
       "\n",
       "    .dataframe tbody tr th {\n",
       "        vertical-align: top;\n",
       "    }\n",
       "\n",
       "    .dataframe thead th {\n",
       "        text-align: right;\n",
       "    }\n",
       "</style>\n",
       "<table border=\"1\" class=\"dataframe\">\n",
       "  <thead>\n",
       "    <tr style=\"text-align: right;\">\n",
       "      <th></th>\n",
       "      <th>Id</th>\n",
       "      <th>Subject Focus</th>\n",
       "      <th>Eyes</th>\n",
       "      <th>Face</th>\n",
       "      <th>Near</th>\n",
       "      <th>Action</th>\n",
       "      <th>Accessory</th>\n",
       "      <th>Group</th>\n",
       "      <th>Collage</th>\n",
       "      <th>Human</th>\n",
       "      <th>Occlusion</th>\n",
       "      <th>Info</th>\n",
       "      <th>Blur</th>\n",
       "      <th>Pawpularity</th>\n",
       "      <th>path</th>\n",
       "      <th>Pawclass</th>\n",
       "    </tr>\n",
       "  </thead>\n",
       "  <tbody>\n",
       "    <tr>\n",
       "      <th>0</th>\n",
       "      <td>0007de18844b0dbbb5e1f607da0606e0</td>\n",
       "      <td>0</td>\n",
       "      <td>1</td>\n",
       "      <td>1</td>\n",
       "      <td>1</td>\n",
       "      <td>0</td>\n",
       "      <td>0</td>\n",
       "      <td>1</td>\n",
       "      <td>0</td>\n",
       "      <td>0</td>\n",
       "      <td>0</td>\n",
       "      <td>0</td>\n",
       "      <td>0</td>\n",
       "      <td>63</td>\n",
       "      <td>../input/petfinder-pawpularity-score/train/000...</td>\n",
       "      <td>3</td>\n",
       "    </tr>\n",
       "    <tr>\n",
       "      <th>1</th>\n",
       "      <td>0009c66b9439883ba2750fb825e1d7db</td>\n",
       "      <td>0</td>\n",
       "      <td>1</td>\n",
       "      <td>1</td>\n",
       "      <td>0</td>\n",
       "      <td>0</td>\n",
       "      <td>0</td>\n",
       "      <td>0</td>\n",
       "      <td>0</td>\n",
       "      <td>0</td>\n",
       "      <td>0</td>\n",
       "      <td>0</td>\n",
       "      <td>0</td>\n",
       "      <td>42</td>\n",
       "      <td>../input/petfinder-pawpularity-score/train/000...</td>\n",
       "      <td>2</td>\n",
       "    </tr>\n",
       "  </tbody>\n",
       "</table>\n",
       "</div>"
      ],
      "text/plain": [
       "                                 Id  Subject Focus  Eyes  Face  Near  Action  \\\n",
       "0  0007de18844b0dbbb5e1f607da0606e0              0     1     1     1       0   \n",
       "1  0009c66b9439883ba2750fb825e1d7db              0     1     1     0       0   \n",
       "\n",
       "   Accessory  Group  Collage  Human  Occlusion  Info  Blur  Pawpularity  \\\n",
       "0          0      1        0      0          0     0     0           63   \n",
       "1          0      0        0      0          0     0     0           42   \n",
       "\n",
       "                                                path  Pawclass  \n",
       "0  ../input/petfinder-pawpularity-score/train/000...         3  \n",
       "1  ../input/petfinder-pawpularity-score/train/000...         2  "
      ]
     },
     "execution_count": 6,
     "metadata": {},
     "output_type": "execute_result"
    }
   ],
   "source": [
    "df_train = pd.read_csv(CFG['input_path'])\n",
    "df_train[\"path\"]     = [f\"{CFG['input_img']}{i}.jpg\" for i in df_train.Id]\n",
    "df_train[\"Pawclass\"] = 9\n",
    "df_train.loc[df_train.Pawpularity<4,   \"Pawclass\"] = 0\n",
    "df_train.loc[( 4<=df_train.Pawpularity)&(df_train.Pawpularity<25),  \"Pawclass\"] = 1\n",
    "df_train.loc[(25<=df_train.Pawpularity)&(df_train.Pawpularity<45),  \"Pawclass\"] = 2\n",
    "df_train.loc[(45<=df_train.Pawpularity)&(df_train.Pawpularity<65),  \"Pawclass\"] = 3\n",
    "df_train.loc[(65<=df_train.Pawpularity)&(df_train.Pawpularity<85),  \"Pawclass\"] = 4\n",
    "df_train.loc[(85<=df_train.Pawpularity)&(df_train.Pawpularity<=99), \"Pawclass\"] = 5\n",
    "df_train.loc[df_train.Pawpularity==100, \"Pawclass\"] = 6\n",
    "#df_train = df_train[df_train.Pawclass != 9].reset_index(drop=True)\n",
    "\n",
    "meta_features = [c for c in df_train.columns if c not in [\"Id\",\"path\", \"Pawpularity\",\"Pawclass\"]]\n",
    "\n",
    "print(df_train.Pawclass.value_counts())\n",
    "print(meta_features)\n",
    "print(df_train.shape)\n",
    "df_train.head(2)"
   ]
  },
  {
   "cell_type": "code",
   "execution_count": 7,
   "id": "f5c602fe",
   "metadata": {
    "execution": {
     "iopub.execute_input": "2021-11-30T05:01:07.239459Z",
     "iopub.status.busy": "2021-11-30T05:01:07.238755Z",
     "iopub.status.idle": "2021-11-30T05:01:07.241588Z",
     "shell.execute_reply": "2021-11-30T05:01:07.241991Z",
     "shell.execute_reply.started": "2021-11-30T04:58:20.150571Z"
    },
    "papermill": {
     "duration": 0.036463,
     "end_time": "2021-11-30T05:01:07.242119",
     "exception": false,
     "start_time": "2021-11-30T05:01:07.205656",
     "status": "completed"
    },
    "tags": []
   },
   "outputs": [
    {
     "data": {
      "text/html": [
       "<div>\n",
       "<style scoped>\n",
       "    .dataframe tbody tr th:only-of-type {\n",
       "        vertical-align: middle;\n",
       "    }\n",
       "\n",
       "    .dataframe tbody tr th {\n",
       "        vertical-align: top;\n",
       "    }\n",
       "\n",
       "    .dataframe thead th {\n",
       "        text-align: right;\n",
       "    }\n",
       "</style>\n",
       "<table border=\"1\" class=\"dataframe\">\n",
       "  <thead>\n",
       "    <tr style=\"text-align: right;\">\n",
       "      <th></th>\n",
       "      <th>label</th>\n",
       "      <th>Pawclass</th>\n",
       "      <th>weight</th>\n",
       "    </tr>\n",
       "  </thead>\n",
       "  <tbody>\n",
       "    <tr>\n",
       "      <th>0</th>\n",
       "      <td>0</td>\n",
       "      <td>171</td>\n",
       "      <td>57.964912</td>\n",
       "    </tr>\n",
       "    <tr>\n",
       "      <th>1</th>\n",
       "      <td>1</td>\n",
       "      <td>2182</td>\n",
       "      <td>4.542621</td>\n",
       "    </tr>\n",
       "    <tr>\n",
       "      <th>2</th>\n",
       "      <td>2</td>\n",
       "      <td>4830</td>\n",
       "      <td>2.052174</td>\n",
       "    </tr>\n",
       "    <tr>\n",
       "      <th>3</th>\n",
       "      <td>3</td>\n",
       "      <td>1655</td>\n",
       "      <td>5.989124</td>\n",
       "    </tr>\n",
       "    <tr>\n",
       "      <th>4</th>\n",
       "      <td>4</td>\n",
       "      <td>596</td>\n",
       "      <td>16.630872</td>\n",
       "    </tr>\n",
       "    <tr>\n",
       "      <th>5</th>\n",
       "      <td>5</td>\n",
       "      <td>190</td>\n",
       "      <td>52.168421</td>\n",
       "    </tr>\n",
       "    <tr>\n",
       "      <th>6</th>\n",
       "      <td>6</td>\n",
       "      <td>288</td>\n",
       "      <td>34.416667</td>\n",
       "    </tr>\n",
       "  </tbody>\n",
       "</table>\n",
       "</div>"
      ],
      "text/plain": [
       "   label  Pawclass     weight\n",
       "0      0       171  57.964912\n",
       "1      1      2182   4.542621\n",
       "2      2      4830   2.052174\n",
       "3      3      1655   5.989124\n",
       "4      4       596  16.630872\n",
       "5      5       190  52.168421\n",
       "6      6       288  34.416667"
      ]
     },
     "execution_count": 7,
     "metadata": {},
     "output_type": "execute_result"
    }
   ],
   "source": [
    "df_class_weights = pd.DataFrame(df_train.Pawclass.value_counts()).reset_index()\n",
    "df_class_weights.columns = [\"label\",\"Pawclass\"]\n",
    "df_class_weights[\"weight\"] = 1 / (df_class_weights.Pawclass / df_class_weights.Pawclass.sum())\n",
    "df_class_weights.weight  = df_class_weights.weight\n",
    "#_min = df_class_weight.weights.min()\n",
    "#_max = df_class_weight.weights.max()\n",
    "#df_class_weights.weight = (df_class_weights.weight - _min) / (_max - _min) *100 + 1\n",
    "df_class_weights = df_class_weights.sort_values(\"label\").reset_index(drop=True)\n",
    "df_class_weights"
   ]
  },
  {
   "cell_type": "code",
   "execution_count": 8,
   "id": "fc643cf9",
   "metadata": {
    "execution": {
     "iopub.execute_input": "2021-11-30T05:01:07.284387Z",
     "iopub.status.busy": "2021-11-30T05:01:07.283559Z",
     "iopub.status.idle": "2021-11-30T05:01:07.329553Z",
     "shell.execute_reply": "2021-11-30T05:01:07.328763Z",
     "shell.execute_reply.started": "2021-11-30T04:58:20.170268Z"
    },
    "papermill": {
     "duration": 0.068825,
     "end_time": "2021-11-30T05:01:07.329686",
     "exception": false,
     "start_time": "2021-11-30T05:01:07.260861",
     "status": "completed"
    },
    "tags": []
   },
   "outputs": [
    {
     "data": {
      "text/html": [
       "<div>\n",
       "<style scoped>\n",
       "    .dataframe tbody tr th:only-of-type {\n",
       "        vertical-align: middle;\n",
       "    }\n",
       "\n",
       "    .dataframe tbody tr th {\n",
       "        vertical-align: top;\n",
       "    }\n",
       "\n",
       "    .dataframe thead th {\n",
       "        text-align: right;\n",
       "    }\n",
       "</style>\n",
       "<table border=\"1\" class=\"dataframe\">\n",
       "  <thead>\n",
       "    <tr style=\"text-align: right;\">\n",
       "      <th></th>\n",
       "      <th>Subject Focus</th>\n",
       "      <th>Eyes</th>\n",
       "      <th>Face</th>\n",
       "      <th>Near</th>\n",
       "      <th>Action</th>\n",
       "      <th>Accessory</th>\n",
       "      <th>Group</th>\n",
       "      <th>Collage</th>\n",
       "      <th>Human</th>\n",
       "      <th>Occlusion</th>\n",
       "      <th>Info</th>\n",
       "      <th>Blur</th>\n",
       "      <th>Pawpularity</th>\n",
       "      <th>Pawclass</th>\n",
       "    </tr>\n",
       "  </thead>\n",
       "  <tbody>\n",
       "    <tr>\n",
       "      <th>count</th>\n",
       "      <td>9912.000000</td>\n",
       "      <td>9912.000000</td>\n",
       "      <td>9912.000000</td>\n",
       "      <td>9912.000000</td>\n",
       "      <td>9912.000000</td>\n",
       "      <td>9912.000000</td>\n",
       "      <td>9912.000000</td>\n",
       "      <td>9912.000000</td>\n",
       "      <td>9912.000000</td>\n",
       "      <td>9912.000000</td>\n",
       "      <td>9912.000000</td>\n",
       "      <td>9912.000000</td>\n",
       "      <td>9912.000000</td>\n",
       "      <td>9912.000000</td>\n",
       "    </tr>\n",
       "    <tr>\n",
       "      <th>mean</th>\n",
       "      <td>0.027643</td>\n",
       "      <td>0.772599</td>\n",
       "      <td>0.903955</td>\n",
       "      <td>0.861582</td>\n",
       "      <td>0.009988</td>\n",
       "      <td>0.067797</td>\n",
       "      <td>0.129338</td>\n",
       "      <td>0.049637</td>\n",
       "      <td>0.166263</td>\n",
       "      <td>0.172014</td>\n",
       "      <td>0.061239</td>\n",
       "      <td>0.070420</td>\n",
       "      <td>38.039044</td>\n",
       "      <td>2.206316</td>\n",
       "    </tr>\n",
       "    <tr>\n",
       "      <th>std</th>\n",
       "      <td>0.163957</td>\n",
       "      <td>0.419175</td>\n",
       "      <td>0.294668</td>\n",
       "      <td>0.345356</td>\n",
       "      <td>0.099444</td>\n",
       "      <td>0.251409</td>\n",
       "      <td>0.335591</td>\n",
       "      <td>0.217204</td>\n",
       "      <td>0.372335</td>\n",
       "      <td>0.377411</td>\n",
       "      <td>0.239780</td>\n",
       "      <td>0.255866</td>\n",
       "      <td>20.591990</td>\n",
       "      <td>1.136487</td>\n",
       "    </tr>\n",
       "    <tr>\n",
       "      <th>min</th>\n",
       "      <td>0.000000</td>\n",
       "      <td>0.000000</td>\n",
       "      <td>0.000000</td>\n",
       "      <td>0.000000</td>\n",
       "      <td>0.000000</td>\n",
       "      <td>0.000000</td>\n",
       "      <td>0.000000</td>\n",
       "      <td>0.000000</td>\n",
       "      <td>0.000000</td>\n",
       "      <td>0.000000</td>\n",
       "      <td>0.000000</td>\n",
       "      <td>0.000000</td>\n",
       "      <td>1.000000</td>\n",
       "      <td>0.000000</td>\n",
       "    </tr>\n",
       "    <tr>\n",
       "      <th>25%</th>\n",
       "      <td>0.000000</td>\n",
       "      <td>1.000000</td>\n",
       "      <td>1.000000</td>\n",
       "      <td>1.000000</td>\n",
       "      <td>0.000000</td>\n",
       "      <td>0.000000</td>\n",
       "      <td>0.000000</td>\n",
       "      <td>0.000000</td>\n",
       "      <td>0.000000</td>\n",
       "      <td>0.000000</td>\n",
       "      <td>0.000000</td>\n",
       "      <td>0.000000</td>\n",
       "      <td>25.000000</td>\n",
       "      <td>2.000000</td>\n",
       "    </tr>\n",
       "    <tr>\n",
       "      <th>50%</th>\n",
       "      <td>0.000000</td>\n",
       "      <td>1.000000</td>\n",
       "      <td>1.000000</td>\n",
       "      <td>1.000000</td>\n",
       "      <td>0.000000</td>\n",
       "      <td>0.000000</td>\n",
       "      <td>0.000000</td>\n",
       "      <td>0.000000</td>\n",
       "      <td>0.000000</td>\n",
       "      <td>0.000000</td>\n",
       "      <td>0.000000</td>\n",
       "      <td>0.000000</td>\n",
       "      <td>33.000000</td>\n",
       "      <td>2.000000</td>\n",
       "    </tr>\n",
       "    <tr>\n",
       "      <th>75%</th>\n",
       "      <td>0.000000</td>\n",
       "      <td>1.000000</td>\n",
       "      <td>1.000000</td>\n",
       "      <td>1.000000</td>\n",
       "      <td>0.000000</td>\n",
       "      <td>0.000000</td>\n",
       "      <td>0.000000</td>\n",
       "      <td>0.000000</td>\n",
       "      <td>0.000000</td>\n",
       "      <td>0.000000</td>\n",
       "      <td>0.000000</td>\n",
       "      <td>0.000000</td>\n",
       "      <td>46.000000</td>\n",
       "      <td>3.000000</td>\n",
       "    </tr>\n",
       "    <tr>\n",
       "      <th>max</th>\n",
       "      <td>1.000000</td>\n",
       "      <td>1.000000</td>\n",
       "      <td>1.000000</td>\n",
       "      <td>1.000000</td>\n",
       "      <td>1.000000</td>\n",
       "      <td>1.000000</td>\n",
       "      <td>1.000000</td>\n",
       "      <td>1.000000</td>\n",
       "      <td>1.000000</td>\n",
       "      <td>1.000000</td>\n",
       "      <td>1.000000</td>\n",
       "      <td>1.000000</td>\n",
       "      <td>100.000000</td>\n",
       "      <td>6.000000</td>\n",
       "    </tr>\n",
       "  </tbody>\n",
       "</table>\n",
       "</div>"
      ],
      "text/plain": [
       "       Subject Focus         Eyes         Face         Near       Action  \\\n",
       "count    9912.000000  9912.000000  9912.000000  9912.000000  9912.000000   \n",
       "mean        0.027643     0.772599     0.903955     0.861582     0.009988   \n",
       "std         0.163957     0.419175     0.294668     0.345356     0.099444   \n",
       "min         0.000000     0.000000     0.000000     0.000000     0.000000   \n",
       "25%         0.000000     1.000000     1.000000     1.000000     0.000000   \n",
       "50%         0.000000     1.000000     1.000000     1.000000     0.000000   \n",
       "75%         0.000000     1.000000     1.000000     1.000000     0.000000   \n",
       "max         1.000000     1.000000     1.000000     1.000000     1.000000   \n",
       "\n",
       "         Accessory        Group      Collage        Human    Occlusion  \\\n",
       "count  9912.000000  9912.000000  9912.000000  9912.000000  9912.000000   \n",
       "mean      0.067797     0.129338     0.049637     0.166263     0.172014   \n",
       "std       0.251409     0.335591     0.217204     0.372335     0.377411   \n",
       "min       0.000000     0.000000     0.000000     0.000000     0.000000   \n",
       "25%       0.000000     0.000000     0.000000     0.000000     0.000000   \n",
       "50%       0.000000     0.000000     0.000000     0.000000     0.000000   \n",
       "75%       0.000000     0.000000     0.000000     0.000000     0.000000   \n",
       "max       1.000000     1.000000     1.000000     1.000000     1.000000   \n",
       "\n",
       "              Info         Blur  Pawpularity     Pawclass  \n",
       "count  9912.000000  9912.000000  9912.000000  9912.000000  \n",
       "mean      0.061239     0.070420    38.039044     2.206316  \n",
       "std       0.239780     0.255866    20.591990     1.136487  \n",
       "min       0.000000     0.000000     1.000000     0.000000  \n",
       "25%       0.000000     0.000000    25.000000     2.000000  \n",
       "50%       0.000000     0.000000    33.000000     2.000000  \n",
       "75%       0.000000     0.000000    46.000000     3.000000  \n",
       "max       1.000000     1.000000   100.000000     6.000000  "
      ]
     },
     "execution_count": 8,
     "metadata": {},
     "output_type": "execute_result"
    }
   ],
   "source": [
    "df_train.describe()"
   ]
  },
  {
   "cell_type": "code",
   "execution_count": 9,
   "id": "7d01d617",
   "metadata": {
    "execution": {
     "iopub.execute_input": "2021-11-30T05:01:07.372326Z",
     "iopub.status.busy": "2021-11-30T05:01:07.371665Z",
     "iopub.status.idle": "2021-11-30T05:01:07.787632Z",
     "shell.execute_reply": "2021-11-30T05:01:07.788092Z",
     "shell.execute_reply.started": "2021-11-30T04:58:20.222598Z"
    },
    "papermill": {
     "duration": 0.43892,
     "end_time": "2021-11-30T05:01:07.788269",
     "exception": false,
     "start_time": "2021-11-30T05:01:07.349349",
     "status": "completed"
    },
    "tags": []
   },
   "outputs": [
    {
     "data": {
      "text/plain": [
       "<AxesSubplot:>"
      ]
     },
     "execution_count": 9,
     "metadata": {},
     "output_type": "execute_result"
    },
    {
     "data": {
      "image/png": "[encoded data removed]",
      "text/plain": [
       "<Figure size 432x288 with 1 Axes>"
      ]
     },
     "metadata": {
      "needs_background": "light"
     },
     "output_type": "display_data"
    }
   ],
   "source": [
    "df_train.Pawpularity.hist(bins=100)"
   ]
  },
  {
   "cell_type": "markdown",
   "id": "e4eb061c",
   "metadata": {
    "papermill": {
     "duration": 0.019232,
     "end_time": "2021-11-30T05:01:07.827102",
     "exception": false,
     "start_time": "2021-11-30T05:01:07.807870",
     "status": "completed"
    },
    "tags": []
   },
   "source": [
    "# Define model"
   ]
  },
  {
   "cell_type": "code",
   "execution_count": 10,
   "id": "630c19c6",
   "metadata": {
    "execution": {
     "iopub.execute_input": "2021-11-30T05:01:07.869841Z",
     "iopub.status.busy": "2021-11-30T05:01:07.869050Z",
     "iopub.status.idle": "2021-11-30T05:01:07.875169Z",
     "shell.execute_reply": "2021-11-30T05:01:07.874742Z",
     "shell.execute_reply.started": "2021-11-30T04:58:20.623534Z"
    },
    "papermill": {
     "duration": 0.028204,
     "end_time": "2021-11-30T05:01:07.875300",
     "exception": false,
     "start_time": "2021-11-30T05:01:07.847096",
     "status": "completed"
    },
    "tags": []
   },
   "outputs": [],
   "source": [
    "class SwinModel(nn.Module):\n",
    "    def __init__(self, model_name, pretrained=True):\n",
    "        super().__init__()\n",
    "        self.model   = timm.create_model(model_name, pretrained=pretrained, num_classes=0, in_chans=3)\n",
    "        num_features = self.model.num_features\n",
    "        self.linear  = nn.Linear(num_features, 7)\n",
    "\n",
    "    def forward(self, x):\n",
    "        x = self.model(x)\n",
    "        output = self.linear(x)\n",
    "        return output"
   ]
  },
  {
   "cell_type": "code",
   "execution_count": 11,
   "id": "c5e962a5",
   "metadata": {
    "execution": {
     "iopub.execute_input": "2021-11-30T05:01:07.923249Z",
     "iopub.status.busy": "2021-11-30T05:01:07.921438Z",
     "iopub.status.idle": "2021-11-30T05:01:07.923864Z",
     "shell.execute_reply": "2021-11-30T05:01:07.924324Z",
     "shell.execute_reply.started": "2021-11-30T04:58:20.632474Z"
    },
    "papermill": {
     "duration": 0.029843,
     "end_time": "2021-11-30T05:01:07.924453",
     "exception": false,
     "start_time": "2021-11-30T05:01:07.894610",
     "status": "completed"
    },
    "tags": []
   },
   "outputs": [],
   "source": [
    "class PetFinderDataset(Dataset):\n",
    "    def __init__(self, df, transforms=None, train=True, output_label=True):\n",
    "        super().__init__()\n",
    "        self.df = df.reset_index(drop=True).copy()\n",
    "        self.transforms   = transforms\n",
    "        self.train        = train\n",
    "        self.output_label = output_label\n",
    "        \n",
    "    def __len__(self):\n",
    "        return self.df.shape[0]\n",
    "    \n",
    "    def __getitem__(self, index: int):\n",
    "        img  = get_img(self.df.loc[index].path)\n",
    "        y    = torch.from_numpy(np.array(self.df.loc[index].Pawclass))\n",
    "        if self.transforms:\n",
    "            if self.train:\n",
    "                img = self.transforms(image=img)['image']\n",
    "            else:\n",
    "                h, w, _ = img.shape\n",
    "                trans = self.transforms(h, w)\n",
    "                img   = trans(image=img)['image']\n",
    "        if self.output_label:\n",
    "            return img, y\n",
    "        return img"
   ]
  },
  {
   "cell_type": "code",
   "execution_count": 12,
   "id": "9943b77d",
   "metadata": {
    "execution": {
     "iopub.execute_input": "2021-11-30T05:01:07.971526Z",
     "iopub.status.busy": "2021-11-30T05:01:07.970721Z",
     "iopub.status.idle": "2021-11-30T05:01:07.975246Z",
     "shell.execute_reply": "2021-11-30T05:01:07.974791Z",
     "shell.execute_reply.started": "2021-11-30T04:58:20.643498Z"
    },
    "papermill": {
     "duration": 0.031475,
     "end_time": "2021-11-30T05:01:07.975360",
     "exception": false,
     "start_time": "2021-11-30T05:01:07.943885",
     "status": "completed"
    },
    "tags": []
   },
   "outputs": [],
   "source": [
    "def get_train_transforms():\n",
    "    return Compose([\n",
    "        RandomResizedCrop(CFG['size'], CFG['size'], p=1.0),\n",
    "        HorizontalFlip(p=0.5),\n",
    "        MotionBlur(p=0.5),\n",
    "        HueSaturationValue(hue_shift_limit=0.2, sat_shift_limit=0.2, val_shift_limit=0.2, p=0.5),\n",
    "        RandomBrightnessContrast(brightness_limit=(-0.1,0.1), contrast_limit=(-0.1, 0.1), p=0.5),\n",
    "        Normalize(mean=[0.485, 0.456, 0.406], std=[0.229, 0.224, 0.225], max_pixel_value=255.0, p=1.0),\n",
    "        ToTensorV2(p=1.0)], p=1.0)\n",
    "  \n",
    "def get_valid_transforms(h, w):\n",
    "    h = int(CFG[\"size\"]*1.2) if int(CFG[\"size\"]*1.2) < h else h\n",
    "    w = int(CFG[\"size\"]*1.2) if int(CFG[\"size\"]*1.2) < w else w\n",
    "    return Compose([\n",
    "        CenterCrop(h, w, p=1.0),\n",
    "        Resize(CFG['size'], CFG['size'], p=1.0),\n",
    "        Normalize(mean=[0.485, 0.456, 0.406], std=[0.229, 0.224, 0.225], max_pixel_value=255.0, p=1.0),\n",
    "        ToTensorV2(p=1.0)], p=1.0)"
   ]
  },
  {
   "cell_type": "code",
   "execution_count": 13,
   "id": "c2b36c2c",
   "metadata": {
    "execution": {
     "iopub.execute_input": "2021-11-30T05:01:08.020909Z",
     "iopub.status.busy": "2021-11-30T05:01:08.019914Z",
     "iopub.status.idle": "2021-11-30T05:01:08.021755Z",
     "shell.execute_reply": "2021-11-30T05:01:08.022257Z",
     "shell.execute_reply.started": "2021-11-30T04:58:20.656746Z"
    },
    "papermill": {
     "duration": 0.027602,
     "end_time": "2021-11-30T05:01:08.022378",
     "exception": false,
     "start_time": "2021-11-30T05:01:07.994776",
     "status": "completed"
    },
    "tags": []
   },
   "outputs": [],
   "source": [
    "def prepare_dataloader(train, valid):\n",
    "    train_ds = PetFinderDataset(train, transforms=get_train_transforms())\n",
    "    valid_ds = PetFinderDataset(valid, transforms=get_valid_transforms, train=False)\n",
    "    train_loader = torch.utils.data.DataLoader(train_ds,\n",
    "                                               batch_size=CFG['batch_size'],\n",
    "                                               drop_last=False,\n",
    "                                               pin_memory=False,\n",
    "                                               shuffle=True,\n",
    "                                               num_workers=CFG['num_workers'])\n",
    "    val_loader = torch.utils.data.DataLoader(valid_ds,\n",
    "                                             batch_size=CFG['batch_size'],\n",
    "                                             pin_memory=False,\n",
    "                                             shuffle=False,\n",
    "                                             num_workers=CFG['num_workers'])\n",
    "    return train_loader, val_loader"
   ]
  },
  {
   "cell_type": "code",
   "execution_count": 14,
   "id": "1e1f5252",
   "metadata": {
    "execution": {
     "iopub.execute_input": "2021-11-30T05:01:08.077589Z",
     "iopub.status.busy": "2021-11-30T05:01:08.076867Z",
     "iopub.status.idle": "2021-11-30T05:01:08.079366Z",
     "shell.execute_reply": "2021-11-30T05:01:08.078871Z",
     "shell.execute_reply.started": "2021-11-30T04:58:20.665613Z"
    },
    "papermill": {
     "duration": 0.038049,
     "end_time": "2021-11-30T05:01:08.079517",
     "exception": false,
     "start_time": "2021-11-30T05:01:08.041468",
     "status": "completed"
    },
    "tags": []
   },
   "outputs": [],
   "source": [
    "def train_one_epoch(epoch, model, loss_fn, optimizer, train_loader, device, scheduler=None, schd_batch_update=False):\n",
    "    model.train()\n",
    "\n",
    "    t = time.time()\n",
    "    running_loss = None\n",
    "    mean_loss    = 0\n",
    "\n",
    "    pbar = tqdm(enumerate(train_loader), total=len(train_loader))\n",
    "    for step, (imgs, scores) in pbar:\n",
    "        imgs   = imgs.to(device).float()\n",
    "        scores = scores.to(device).long()\n",
    "\n",
    "        with autocast():\n",
    "            img_preds = model(imgs)\n",
    "            loss = loss_fn(img_preds, scores)\n",
    "            scaler.scale(loss).backward()\n",
    "\n",
    "            if running_loss is None:\n",
    "                running_loss = loss.item()\n",
    "            else:\n",
    "                running_loss = running_loss * .99 + loss.item() * .01\n",
    "            mean_loss += loss.item()\n",
    "\n",
    "            if ((step + 1) %  CFG['accum_iter'] == 0) or ((step + 1) == len(train_loader)):\n",
    "                scaler.step(optimizer)\n",
    "                scaler.update()\n",
    "                optimizer.zero_grad() \n",
    "                if scheduler is not None and schd_batch_update:\n",
    "                    scheduler.step()\n",
    "\n",
    "            if ((step + 1) % CFG['verbose_step'] == 0) or ((step + 1) == len(train_loader)):\n",
    "                description = f'epoch {epoch} loss: {running_loss:.4f}'\n",
    "                pbar.set_description(description)\n",
    "                \n",
    "    if scheduler is not None and not schd_batch_update:\n",
    "        scheduler.step()\n",
    "    return mean_loss/len(train_loader)\n",
    "        \n",
    "def valid_one_epoch(epoch, model, loss_fn, val_loader, device, scheduler=None, schd_loss_update=False):\n",
    "    model.eval()\n",
    "\n",
    "    t = time.time()\n",
    "    loss_sum   = 0\n",
    "    sample_num = 0\n",
    "    img_preds_all = []\n",
    "    img_truth_all = []\n",
    "    \n",
    "    pbar = tqdm(enumerate(val_loader), total=len(val_loader))\n",
    "    for step, (imgs, scores) in pbar:\n",
    "        imgs   = imgs.to(device)\n",
    "        scores = scores.to(device).long()\n",
    "        \n",
    "        img_preds = model(imgs)\n",
    "        img_preds_all += [np.argmax(img_preds.detach().cpu().numpy(), 1)]\n",
    "        img_truth_all += [scores.detach().cpu().numpy()]\n",
    "        \n",
    "        loss = loss_fn(img_preds, scores)\n",
    "        loss_sum   += loss.item()*scores.shape[0]\n",
    "        sample_num += scores.shape[0]  \n",
    "\n",
    "        if ((step + 1) % CFG['verbose_step'] == 0) or ((step + 1) == len(val_loader)):\n",
    "            description = f'epoch {epoch} loss: {loss_sum/sample_num:.4f}'\n",
    "            pbar.set_description(description)\n",
    "            \n",
    "    img_preds_all = np.concatenate(img_preds_all)\n",
    "    img_truth_all = np.concatenate(img_truth_all)\n",
    "    score = precision_score(img_truth_all, img_preds_all, average=None).mean()\n",
    "    print('validation precision = {:.6f}'.format(score))    \n",
    "    if scheduler is not None:\n",
    "        if schd_loss_update:\n",
    "            scheduler.step(loss_sum/sample_num)\n",
    "        else:\n",
    "            scheduler.step()\n",
    "    return score, loss_sum/sample_num,  [img_preds_all, img_truth_all]"
   ]
  },
  {
   "cell_type": "code",
   "execution_count": 15,
   "id": "c30c9dfc",
   "metadata": {
    "execution": {
     "iopub.execute_input": "2021-11-30T05:01:08.123928Z",
     "iopub.status.busy": "2021-11-30T05:01:08.123182Z",
     "iopub.status.idle": "2021-11-30T05:01:08.125190Z",
     "shell.execute_reply": "2021-11-30T05:01:08.125600Z",
     "shell.execute_reply.started": "2021-11-30T04:58:20.686428Z"
    },
    "papermill": {
     "duration": 0.027047,
     "end_time": "2021-11-30T05:01:08.125722",
     "exception": false,
     "start_time": "2021-11-30T05:01:08.098675",
     "status": "completed"
    },
    "tags": []
   },
   "outputs": [],
   "source": [
    "def sgd_optimizer(model, lr, momentum, weight_decay):\n",
    "    params = []\n",
    "    for key, value in model.named_parameters():\n",
    "        if not value.requires_grad:\n",
    "            continue\n",
    "        apply_weight_decay = weight_decay\n",
    "        apply_lr = lr\n",
    "        if 'bias' in key or 'bn' in key:\n",
    "            apply_weight_decay = 0\n",
    "        if 'bias' in key:\n",
    "            apply_lr = 2 * lr       # Just a Caffe-style common practice. Made no difference.\n",
    "        params += [{'params': [value], 'lr': apply_lr, 'weight_decay': apply_weight_decay}]\n",
    "    optimizer = torch.optim.SGD(params, lr, momentum=momentum)\n",
    "    return optimizer"
   ]
  },
  {
   "cell_type": "code",
   "execution_count": 16,
   "id": "33749abb",
   "metadata": {
    "execution": {
     "iopub.execute_input": "2021-11-30T05:01:08.173497Z",
     "iopub.status.busy": "2021-11-30T05:01:08.172741Z",
     "iopub.status.idle": "2021-11-30T05:01:08.174666Z",
     "shell.execute_reply": "2021-11-30T05:01:08.175072Z",
     "shell.execute_reply.started": "2021-11-30T04:58:20.697779Z"
    },
    "papermill": {
     "duration": 0.029872,
     "end_time": "2021-11-30T05:01:08.175188",
     "exception": false,
     "start_time": "2021-11-30T05:01:08.145316",
     "status": "completed"
    },
    "tags": []
   },
   "outputs": [],
   "source": [
    "# https://www.kaggle.com/c/petfinder-pawpularity-score/discussion/284412\n",
    "class FocalCosineLoss(nn.Module):\n",
    "    def __init__(self, weight=None, alpha=1, gamma=2, xent=.1):\n",
    "        super(FocalCosineLoss, self).__init__()\n",
    "        self.weight = None if weight is None else torch.Tensor(weight).to(CFG[\"device\"])\n",
    "        self.alpha  = alpha\n",
    "        self.gamma  = gamma\n",
    "        self.xent   = xent\n",
    "        self.y      = torch.Tensor([1]).to(CFG[\"device\"])\n",
    "\n",
    "    def forward(self, input, target, reduction=\"mean\"):\n",
    "        cosine_loss = F.cosine_embedding_loss(input, F.one_hot(target, num_classes=input.size(-1)), self.y, reduction=reduction)\n",
    "        cent_loss   = F.cross_entropy(F.normalize(input), target, weight=self.weight, reduce=False)\n",
    "        pt = torch.exp(-cent_loss)\n",
    "        focal_loss  = self.alpha * (1-pt)**self.gamma * cent_loss\n",
    "        if reduction == \"mean\":\n",
    "            focal_loss = torch.mean(focal_loss)\n",
    "        return cosine_loss + self.xent * focal_loss"
   ]
  },
  {
   "cell_type": "markdown",
   "id": "dd9676f3",
   "metadata": {
    "papermill": {
     "duration": 0.020518,
     "end_time": "2021-11-30T05:01:08.215849",
     "exception": false,
     "start_time": "2021-11-30T05:01:08.195331",
     "status": "completed"
    },
    "tags": []
   },
   "source": [
    "# Run training"
   ]
  },
  {
   "cell_type": "code",
   "execution_count": 17,
   "id": "3bdebb6d",
   "metadata": {
    "execution": {
     "iopub.execute_input": "2021-11-30T05:01:08.265963Z",
     "iopub.status.busy": "2021-11-30T05:01:08.265085Z",
     "iopub.status.idle": "2021-11-30T05:01:08.270084Z",
     "shell.execute_reply": "2021-11-30T05:01:08.269654Z",
     "shell.execute_reply.started": "2021-11-30T04:58:20.711740Z"
    },
    "papermill": {
     "duration": 0.033943,
     "end_time": "2021-11-30T05:01:08.270203",
     "exception": false,
     "start_time": "2021-11-30T05:01:08.236260",
     "status": "completed"
    },
    "tags": []
   },
   "outputs": [
    {
     "name": "stdout",
     "output_type": "stream",
     "text": [
      "(6938, 16) (2974, 16)\n"
     ]
    }
   ],
   "source": [
    "train, valid = train_test_split(df_train, test_size=0.3, random_state=CFG[\"seed\"])\n",
    "train = train.reset_index(drop=True)\n",
    "valid = valid.reset_index(drop=True)\n",
    "\n",
    "print(train.shape, valid.shape)"
   ]
  },
  {
   "cell_type": "code",
   "execution_count": 18,
   "id": "bda5c83e",
   "metadata": {
    "execution": {
     "iopub.execute_input": "2021-11-30T05:01:08.328656Z",
     "iopub.status.busy": "2021-11-30T05:01:08.313005Z",
     "iopub.status.idle": "2021-11-30T05:01:08.456266Z",
     "shell.execute_reply": "2021-11-30T05:01:08.456849Z",
     "shell.execute_reply.started": "2021-11-30T04:58:20.727765Z"
    },
    "papermill": {
     "duration": 0.167409,
     "end_time": "2021-11-30T05:01:08.457034",
     "exception": false,
     "start_time": "2021-11-30T05:01:08.289625",
     "status": "completed"
    },
    "tags": []
   },
   "outputs": [
    {
     "name": "stdout",
     "output_type": "stream",
     "text": [
      "(11725, 16) (2974, 16)\n"
     ]
    },
    {
     "data": {
      "text/plain": [
       "3    1755\n",
       "5    1729\n",
       "2    1693\n",
       "6    1678\n",
       "0    1673\n",
       "4    1661\n",
       "1    1536\n",
       "Name: Pawclass, dtype: int64"
      ]
     },
     "execution_count": 18,
     "metadata": {},
     "output_type": "execute_result"
    }
   ],
   "source": [
    "n_max = train.Pawclass.value_counts().max()\n",
    "train_new = pd.DataFrame()\n",
    "for l in train.Pawclass.unique():\n",
    "    df_this = train[train.Pawclass==l]\n",
    "    num = int(round(n_max / df_this.shape[0],0))\n",
    "    for i in range(num):\n",
    "        train_new = train_new.append(df_this)\n",
    "train = train_new.copy()\n",
    "train = train.sample(n=int(train.shape[0]/2)).reset_index(drop=True)\n",
    "\n",
    "print(train.shape, valid.shape)\n",
    "train.Pawclass.value_counts()"
   ]
  },
  {
   "cell_type": "code",
   "execution_count": 19,
   "id": "e9a96453",
   "metadata": {
    "execution": {
     "iopub.execute_input": "2021-11-30T05:01:08.508973Z",
     "iopub.status.busy": "2021-11-30T05:01:08.500572Z",
     "iopub.status.idle": "2021-11-30T05:48:53.994613Z",
     "shell.execute_reply": "2021-11-30T05:48:53.993697Z",
     "shell.execute_reply.started": "2021-11-30T04:58:20.876583Z"
    },
    "papermill": {
     "duration": 2865.516797,
     "end_time": "2021-11-30T05:48:53.994770",
     "exception": false,
     "start_time": "2021-11-30T05:01:08.477973",
     "status": "completed"
    },
    "tags": []
   },
   "outputs": [
    {
     "name": "stderr",
     "output_type": "stream",
     "text": [
      "Downloading: \"https://github.com/SwinTransformer/storage/releases/download/v1.0.0/swin_large_patch4_window7_224_22k.pth\" to /root/.cache/torch/hub/checkpoints/swin_large_patch4_window7_224_22k.pth\n",
      "epoch 0 loss: 0.7505: 100%|██████████| 367/367 [08:30<00:00,  1.39s/it]\n",
      "epoch 0 loss: 0.7527: 100%|██████████| 93/93 [00:46<00:00,  2.02it/s]"
     ]
    },
    {
     "name": "stdout",
     "output_type": "stream",
     "text": [
      "validation precision = 0.147685\n",
      "Best model will be saved to output path after completing this fold\n"
     ]
    },
    {
     "name": "stderr",
     "output_type": "stream",
     "text": [
      "\n",
      "epoch 1 loss: 0.6916: 100%|██████████| 367/367 [08:23<00:00,  1.37s/it]\n",
      "epoch 1 loss: 0.7517: 100%|██████████| 93/93 [00:44<00:00,  2.09it/s]\n"
     ]
    },
    {
     "name": "stdout",
     "output_type": "stream",
     "text": [
      "validation precision = 0.182050\n",
      "Best model will be saved to output path after completing this fold\n"
     ]
    },
    {
     "name": "stderr",
     "output_type": "stream",
     "text": [
      "epoch 2 loss: 0.6543: 100%|██████████| 367/367 [08:24<00:00,  1.37s/it]\n",
      "epoch 2 loss: 0.7559: 100%|██████████| 93/93 [00:44<00:00,  2.09it/s]"
     ]
    },
    {
     "name": "stdout",
     "output_type": "stream",
     "text": [
      "validation precision = 0.179668\n"
     ]
    },
    {
     "name": "stderr",
     "output_type": "stream",
     "text": [
      "\n",
      "epoch 3 loss: 0.6074: 100%|██████████| 367/367 [08:24<00:00,  1.37s/it]\n",
      "epoch 3 loss: 0.7589: 100%|██████████| 93/93 [00:44<00:00,  2.09it/s]\n"
     ]
    },
    {
     "name": "stdout",
     "output_type": "stream",
     "text": [
      "validation precision = 0.183036\n",
      "Best model will be saved to output path after completing this fold\n"
     ]
    },
    {
     "name": "stderr",
     "output_type": "stream",
     "text": [
      "epoch 4 loss: 0.5888: 100%|██████████| 367/367 [08:24<00:00,  1.38s/it]\n",
      "epoch 4 loss: 0.7425: 100%|██████████| 93/93 [00:44<00:00,  2.08it/s]\n"
     ]
    },
    {
     "name": "stdout",
     "output_type": "stream",
     "text": [
      "validation precision = 0.195355\n",
      "Best model will be saved to output path after completing this fold\n"
     ]
    }
   ],
   "source": [
    "train_loader, val_loader = prepare_dataloader(train, valid)\n",
    "\n",
    "not_improved_cnt = 0\n",
    "best_score = 0\n",
    "best_epoch = 0\n",
    "histories  = {}\n",
    "\n",
    "device    = torch.device(CFG['device'])\n",
    "model     = SwinModel(CFG[\"model\"])\n",
    "model.to(device)\n",
    "scaler    = GradScaler()\n",
    "optimizer = sgd_optimizer(model, CFG['lr'], CFG['momentum'], CFG['weight_decay'])\n",
    "scheduler = CosineAnnealingLR(optimizer=optimizer, T_max=CFG['T_0'])\n",
    "#loss      = FocalCosineLoss(weight=df_class_weights.weight).to(device)\n",
    "loss      = FocalCosineLoss().to(device)\n",
    "\n",
    "for epoch in range(CFG['epochs']):\n",
    "    train_loss = train_one_epoch(epoch, model, loss, optimizer, train_loader, device, scheduler=scheduler, schd_batch_update=False)\n",
    "\n",
    "    with torch.no_grad():\n",
    "        score, valid_loss, hist = valid_one_epoch(epoch, model, loss, val_loader, device, scheduler=None, schd_loss_update=False)\n",
    "    histories[epoch] = [train_loss, valid_loss, score, hist]\n",
    "        \n",
    "    if best_score < score:\n",
    "        print('Best model will be saved to output path after completing this fold')\n",
    "        best_model = copy.deepcopy(model)\n",
    "        best_score = score\n",
    "        best_epoch = epoch\n",
    "        not_improved_cnt = 0\n",
    "    elif CFG['early_stopping'] == not_improved_cnt:\n",
    "        print(\"Met early stopping.\")\n",
    "        break\n",
    "    else:\n",
    "        not_improved_cnt += 1\n",
    "\n",
    "torch.save(best_model.state_dict(), f\"{CFG['output_path']}petfinder_swin_classification.pt\")\n",
    "\n",
    "del model, optimizer, train_loader, val_loader, scaler\n",
    "torch.cuda.empty_cache()"
   ]
  },
  {
   "cell_type": "code",
   "execution_count": 20,
   "id": "bb5172cb",
   "metadata": {
    "execution": {
     "iopub.execute_input": "2021-11-30T05:48:56.507264Z",
     "iopub.status.busy": "2021-11-30T05:48:56.506299Z",
     "iopub.status.idle": "2021-11-30T05:48:56.515522Z",
     "shell.execute_reply": "2021-11-30T05:48:56.514956Z",
     "shell.execute_reply.started": "2021-11-30T05:00:39.062508Z"
    },
    "papermill": {
     "duration": 1.304102,
     "end_time": "2021-11-30T05:48:56.515663",
     "exception": false,
     "start_time": "2021-11-30T05:48:55.211561",
     "status": "completed"
    },
    "tags": []
   },
   "outputs": [
    {
     "data": {
      "text/plain": [
       "(array([0.17777778, 0.18914729, 0.27820069, 0.08853119, 0.24731183,\n",
       "        0.23333333, 0.35416667]),\n",
       " array([0.01526718, 0.31606218, 0.55833333, 0.18965517, 0.09090909,\n",
       "        0.03535354, 0.16190476]),\n",
       " 0.22406696738867593,\n",
       " 0.1953550350932624)"
      ]
     },
     "execution_count": 20,
     "metadata": {},
     "output_type": "execute_result"
    }
   ],
   "source": [
    "pred, gt = histories[best_epoch][3:][0]\n",
    "r = recall_score(gt, pred, average=None)\n",
    "p = precision_score(gt, pred, average=None)\n",
    "\n",
    "r, p, r.mean(), p.mean()"
   ]
  },
  {
   "cell_type": "code",
   "execution_count": 21,
   "id": "71054e8e",
   "metadata": {
    "execution": {
     "iopub.execute_input": "2021-11-30T05:48:59.044068Z",
     "iopub.status.busy": "2021-11-30T05:48:59.043262Z",
     "iopub.status.idle": "2021-11-30T05:48:59.058445Z",
     "shell.execute_reply": "2021-11-30T05:48:59.058872Z",
     "shell.execute_reply.started": "2021-11-30T05:00:39.064767Z"
    },
    "papermill": {
     "duration": 1.23372,
     "end_time": "2021-11-30T05:48:59.059029",
     "exception": false,
     "start_time": "2021-11-30T05:48:57.825309",
     "status": "completed"
    },
    "tags": []
   },
   "outputs": [
    {
     "data": {
      "text/html": [
       "<div>\n",
       "<style scoped>\n",
       "    .dataframe tbody tr th:only-of-type {\n",
       "        vertical-align: middle;\n",
       "    }\n",
       "\n",
       "    .dataframe tbody tr th {\n",
       "        vertical-align: top;\n",
       "    }\n",
       "\n",
       "    .dataframe thead th {\n",
       "        text-align: right;\n",
       "    }\n",
       "</style>\n",
       "<table border=\"1\" class=\"dataframe\">\n",
       "  <thead>\n",
       "    <tr style=\"text-align: right;\">\n",
       "      <th></th>\n",
       "      <th>pred0</th>\n",
       "      <th>pred1</th>\n",
       "      <th>pred2</th>\n",
       "      <th>pred3</th>\n",
       "      <th>pred4</th>\n",
       "      <th>pred5</th>\n",
       "      <th>pred6</th>\n",
       "    </tr>\n",
       "  </thead>\n",
       "  <tbody>\n",
       "    <tr>\n",
       "      <th>gt0</th>\n",
       "      <td>8</td>\n",
       "      <td>6</td>\n",
       "      <td>12</td>\n",
       "      <td>1</td>\n",
       "      <td>3</td>\n",
       "      <td>13</td>\n",
       "      <td>2</td>\n",
       "    </tr>\n",
       "    <tr>\n",
       "      <th>gt1</th>\n",
       "      <td>118</td>\n",
       "      <td>122</td>\n",
       "      <td>201</td>\n",
       "      <td>39</td>\n",
       "      <td>83</td>\n",
       "      <td>57</td>\n",
       "      <td>25</td>\n",
       "    </tr>\n",
       "    <tr>\n",
       "      <th>gt2</th>\n",
       "      <td>246</td>\n",
       "      <td>214</td>\n",
       "      <td>402</td>\n",
       "      <td>128</td>\n",
       "      <td>228</td>\n",
       "      <td>163</td>\n",
       "      <td>64</td>\n",
       "    </tr>\n",
       "    <tr>\n",
       "      <th>gt3</th>\n",
       "      <td>102</td>\n",
       "      <td>31</td>\n",
       "      <td>74</td>\n",
       "      <td>44</td>\n",
       "      <td>113</td>\n",
       "      <td>90</td>\n",
       "      <td>43</td>\n",
       "    </tr>\n",
       "    <tr>\n",
       "      <th>gt4</th>\n",
       "      <td>34</td>\n",
       "      <td>6</td>\n",
       "      <td>24</td>\n",
       "      <td>15</td>\n",
       "      <td>46</td>\n",
       "      <td>37</td>\n",
       "      <td>24</td>\n",
       "    </tr>\n",
       "    <tr>\n",
       "      <th>gt5</th>\n",
       "      <td>6</td>\n",
       "      <td>5</td>\n",
       "      <td>5</td>\n",
       "      <td>2</td>\n",
       "      <td>10</td>\n",
       "      <td>14</td>\n",
       "      <td>18</td>\n",
       "    </tr>\n",
       "    <tr>\n",
       "      <th>gt6</th>\n",
       "      <td>10</td>\n",
       "      <td>2</td>\n",
       "      <td>2</td>\n",
       "      <td>3</td>\n",
       "      <td>23</td>\n",
       "      <td>22</td>\n",
       "      <td>34</td>\n",
       "    </tr>\n",
       "  </tbody>\n",
       "</table>\n",
       "</div>"
      ],
      "text/plain": [
       "     pred0  pred1  pred2  pred3  pred4  pred5  pred6\n",
       "gt0      8      6     12      1      3     13      2\n",
       "gt1    118    122    201     39     83     57     25\n",
       "gt2    246    214    402    128    228    163     64\n",
       "gt3    102     31     74     44    113     90     43\n",
       "gt4     34      6     24     15     46     37     24\n",
       "gt5      6      5      5      2     10     14     18\n",
       "gt6     10      2      2      3     23     22     34"
      ]
     },
     "execution_count": 21,
     "metadata": {},
     "output_type": "execute_result"
    }
   ],
   "source": [
    "n_max = df_train.Pawclass.max()+1\n",
    "df = pd.DataFrame(confusion_matrix(gt, pred, labels=list(np.arange(0,n_max))))\n",
    "df.columns = [f\"pred{i}\" for i in range(n_max)]\n",
    "df.index   = [f\"gt{i}\" for i in range(n_max)]\n",
    "df"
   ]
  }
 ],
 "metadata": {
  "kernelspec": {
   "display_name": "Python 3",
   "language": "python",
   "name": "python3"
  },
  "language_info": {
   "codemirror_mode": {
    "name": "ipython",
    "version": 3
   },
   "file_extension": ".py",
   "mimetype": "text/x-python",
   "name": "python",
   "nbconvert_exporter": "python",
   "pygments_lexer": "ipython3",
   "version": "3.7.10"
  },
  "papermill": {
   "default_parameters": {},
   "duration": 2893.715042,
   "end_time": "2021-11-30T05:49:03.315091",
   "environment_variables": {},
   "exception": null,
   "input_path": "__notebook__.ipynb",
   "output_path": "__notebook__.ipynb",
   "parameters": {},
   "start_time": "2021-11-30T05:00:49.600049",
   "version": "2.3.3"
  }
 },
 "nbformat": 4,
 "nbformat_minor": 5
}
