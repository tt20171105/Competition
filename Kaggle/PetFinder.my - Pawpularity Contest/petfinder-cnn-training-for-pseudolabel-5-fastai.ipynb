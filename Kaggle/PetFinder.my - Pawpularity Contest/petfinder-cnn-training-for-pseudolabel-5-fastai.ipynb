{
 "cells": [
  {
   "cell_type": "code",
   "execution_count": 1,
   "id": "6277bb37",
   "metadata": {
    "_cell_guid": "b1076dfc-b9ad-4769-8c92-a6c4dae69d19",
    "_uuid": "8f2839f25d086af736a60e9eeb907d3b93b6e0e5",
    "execution": {
     "iopub.execute_input": "2022-01-09T13:39:31.026303Z",
     "iopub.status.busy": "2022-01-09T13:39:31.024787Z",
     "iopub.status.idle": "2022-01-09T13:39:31.033690Z",
     "shell.execute_reply": "2022-01-09T13:39:31.034101Z",
     "shell.execute_reply.started": "2022-01-09T13:11:27.165435Z"
    },
    "papermill": {
     "duration": 0.028089,
     "end_time": "2022-01-09T13:39:31.034350",
     "exception": false,
     "start_time": "2022-01-09T13:39:31.006261",
     "status": "completed"
    },
    "tags": []
   },
   "outputs": [],
   "source": [
    "import sys\n",
    "sys.path.append('../input/timm-pytorch-image-models/pytorch-image-models-master')\n",
    "sys.path.append('../input/pytorch-optimizers/')"
   ]
  },
  {
   "cell_type": "code",
   "execution_count": 2,
   "id": "86151eb0",
   "metadata": {
    "execution": {
     "iopub.execute_input": "2022-01-09T13:39:31.063534Z",
     "iopub.status.busy": "2022-01-09T13:39:31.062880Z",
     "iopub.status.idle": "2022-01-09T13:39:39.182417Z",
     "shell.execute_reply": "2022-01-09T13:39:39.181853Z",
     "shell.execute_reply.started": "2022-01-09T13:11:27.404421Z"
    },
    "papermill": {
     "duration": 8.136805,
     "end_time": "2022-01-09T13:39:39.182554",
     "exception": false,
     "start_time": "2022-01-09T13:39:31.045749",
     "status": "completed"
    },
    "tags": []
   },
   "outputs": [],
   "source": [
    "import os\n",
    "import gc\n",
    "import cv2\n",
    "import copy\n",
    "import time\n",
    "import yaml\n",
    "import random\n",
    "import shutil\n",
    "import warnings\n",
    "import subprocess\n",
    "import numpy as np\n",
    "import pandas as pd\n",
    "import matplotlib.pyplot as plt\n",
    "from glob import glob as glob_file\n",
    "from tqdm import tqdm\n",
    "from PIL import Image, ImageDraw\n",
    "from shutil import copyfile\n",
    "from IPython.core.display import Video, display\n",
    "from sklearn.metrics import mean_squared_error\n",
    "from sklearn.model_selection import train_test_split, KFold, GroupKFold, StratifiedKFold\n",
    "\n",
    "import timm\n",
    "import torch\n",
    "from fastai.vision.all import *\n",
    "\n",
    "warnings.simplefilter('ignore')\n",
    "pd.set_option(\"max_columns\", 150)\n",
    "pd.set_option('display.max_rows', 150)"
   ]
  },
  {
   "cell_type": "code",
   "execution_count": 3,
   "id": "2228dffc",
   "metadata": {
    "execution": {
     "iopub.execute_input": "2022-01-09T13:39:39.210015Z",
     "iopub.status.busy": "2022-01-09T13:39:39.209169Z",
     "iopub.status.idle": "2022-01-09T13:39:39.211608Z",
     "shell.execute_reply": "2022-01-09T13:39:39.211199Z",
     "shell.execute_reply.started": "2022-01-09T13:11:34.676460Z"
    },
    "papermill": {
     "duration": 0.017263,
     "end_time": "2022-01-09T13:39:39.211726",
     "exception": false,
     "start_time": "2022-01-09T13:39:39.194463",
     "status": "completed"
    },
    "tags": []
   },
   "outputs": [],
   "source": [
    "# https://github.com/rwightman/pytorch-image-models/blob/master/results/results-imagenet.csv\n",
    "# timm.list_models(pretrained=True)"
   ]
  },
  {
   "cell_type": "markdown",
   "id": "8c2780ee",
   "metadata": {
    "papermill": {
     "duration": 0.01114,
     "end_time": "2022-01-09T13:39:39.233897",
     "exception": false,
     "start_time": "2022-01-09T13:39:39.222757",
     "status": "completed"
    },
    "tags": []
   },
   "source": [
    "# Configuration"
   ]
  },
  {
   "cell_type": "code",
   "execution_count": 4,
   "id": "3bd23dcd",
   "metadata": {
    "execution": {
     "iopub.execute_input": "2022-01-09T13:39:39.266651Z",
     "iopub.status.busy": "2022-01-09T13:39:39.263691Z",
     "iopub.status.idle": "2022-01-09T13:39:39.269180Z",
     "shell.execute_reply": "2022-01-09T13:39:39.269676Z",
     "shell.execute_reply.started": "2022-01-09T13:11:34.681068Z"
    },
    "papermill": {
     "duration": 0.024833,
     "end_time": "2022-01-09T13:39:39.269798",
     "exception": false,
     "start_time": "2022-01-09T13:39:39.244965",
     "status": "completed"
    },
    "tags": []
   },
   "outputs": [
    {
     "data": {
      "text/plain": [
       "{'save_prev': [True, ['petfinder_*.pth']],\n",
       " 'seed': 42,\n",
       " 'device': 'cuda:0',\n",
       " 'input_img': '../input/petfinder-pawpularity-score/train/',\n",
       " 'input_path': '../input/petfinder-smogn-dataset/train_drop_duplicated.csv',\n",
       " 'output_path': './',\n",
       " 'pretrain': None,\n",
       " 'save_name': 'petfinder_swin_binary_fastai_highlr',\n",
       " 'model': 'swin_large_patch4_window7_224',\n",
       " 'loss': 'binary',\n",
       " 'size': 224,\n",
       " 'fold': 4,\n",
       " 'batch_size': 32,\n",
       " 'epochs': 10,\n",
       " 'n_data': None,\n",
       " 'mixup_ratio': 0,\n",
       " 'lr': 4e-05,\n",
       " 'accum_iter': 2,\n",
       " 'early_stopping': 3,\n",
       " 'verbose_step': 1,\n",
       " 'num_workers': 4}"
      ]
     },
     "execution_count": 4,
     "metadata": {},
     "output_type": "execute_result"
    }
   ],
   "source": [
    "CFG = {\n",
    "    \"save_prev\"     : [True, [\"petfinder_*.pth\"]],\n",
    "    \"seed\"          : 42,\n",
    "    'device'        : \"cuda:0\" if torch.cuda.is_available() else \"cpu\",\n",
    "    \"input_img\"     : '../input/petfinder-pawpularity-score/train/',\n",
    "    \"input_path\"    : '../input/petfinder-smogn-dataset/train_drop_duplicated.csv',\n",
    "    \"output_path\"   : './',\n",
    "    \"pretrain\"      : None,\n",
    "    \"save_name\"     : \"petfinder_swin_binary_fastai_highlr\",\n",
    "    \"model\"         : \"swin_large_patch4_window7_224\",\n",
    "    \"loss\"          : \"binary\",\n",
    "    \"size\"          : 224,\n",
    "    \"fold\"          : 4,\n",
    "    \"batch_size\"    : 32,\n",
    "    \"epochs\"        : 10,\n",
    "    \"n_data\"        : None,  # Batch * step\n",
    "    \"mixup_ratio\"   : 0,\n",
    "    \"lr\"            : 4e-5,\n",
    "    \"accum_iter\"    : 2,\n",
    "    'early_stopping': 3,\n",
    "    'verbose_step'  : 1,\n",
    "    \"num_workers\"   : 4\n",
    "}\n",
    "\n",
    "CFG"
   ]
  },
  {
   "cell_type": "code",
   "execution_count": 5,
   "id": "6d750bca",
   "metadata": {
    "execution": {
     "iopub.execute_input": "2022-01-09T13:39:39.301270Z",
     "iopub.status.busy": "2022-01-09T13:39:39.300486Z",
     "iopub.status.idle": "2022-01-09T13:39:39.302392Z",
     "shell.execute_reply": "2022-01-09T13:39:39.303093Z",
     "shell.execute_reply.started": "2022-01-09T13:11:34.701070Z"
    },
    "papermill": {
     "duration": 0.021925,
     "end_time": "2022-01-09T13:39:39.303252",
     "exception": false,
     "start_time": "2022-01-09T13:39:39.281327",
     "status": "completed"
    },
    "tags": []
   },
   "outputs": [],
   "source": [
    "def get_img(path):\n",
    "    im_bgr = cv2.imread(path)\n",
    "    im_rgb = im_bgr[:, :, ::-1]\n",
    "    return im_rgb\n",
    "\n",
    "def sigmoid(a):\n",
    "    return 1 / (1 + np.exp(-a))\n",
    "\n",
    "def softmax(x):\n",
    "    max = np.max(x,axis=1,keepdims=True)\n",
    "    e_x = np.exp(x - max)\n",
    "    sum = np.sum(e_x,axis=1,keepdims=True)\n",
    "    return e_x / sum \n",
    "\n",
    "def seed_everything(seed = 42):\n",
    "    '''Sets the seed of the entire notebook so results are the same every time we run.\n",
    "    This is for REPRODUCIBILITY.'''\n",
    "    np.random.seed(seed)\n",
    "    random.seed(seed)\n",
    "    torch.manual_seed(seed)\n",
    "    torch.cuda.manual_seed(seed)\n",
    "    # When running on the CuDNN backend, two further options must be set\n",
    "    torch.backends.cudnn.deterministic = True\n",
    "    torch.backends.cudnn.benchmark = False\n",
    "    # Set a fixed value for the hash seed\n",
    "    os.environ['PYTHONHASHSEED'] = str(seed)\n",
    "    \n",
    "seed_everything(CFG[\"seed\"])"
   ]
  },
  {
   "cell_type": "code",
   "execution_count": 6,
   "id": "f31b68b3",
   "metadata": {
    "execution": {
     "iopub.execute_input": "2022-01-09T13:39:39.331357Z",
     "iopub.status.busy": "2022-01-09T13:39:39.330831Z",
     "iopub.status.idle": "2022-01-09T13:39:54.246871Z",
     "shell.execute_reply": "2022-01-09T13:39:54.246400Z",
     "shell.execute_reply.started": "2022-01-09T13:11:34.714443Z"
    },
    "papermill": {
     "duration": 14.9323,
     "end_time": "2022-01-09T13:39:54.247004",
     "exception": false,
     "start_time": "2022-01-09T13:39:39.314704",
     "status": "completed"
    },
    "tags": []
   },
   "outputs": [
    {
     "name": "stdout",
     "output_type": "stream",
     "text": [
      "petfinder_beit_binary_fastai_ss_0.pth\n",
      "petfinder_beit_binary_fastai_ss_2.pth\n",
      "petfinder_beit_binary_fastai_ss_1.pth\n",
      "petfinder_beit_binary_fastai_ss_3.pth\n"
     ]
    }
   ],
   "source": [
    "if CFG['save_prev'][0]:\n",
    "    for file_pattern in CFG['save_prev'][1]:\n",
    "        for f in glob_file(f\"../input/petfinder-fastai-models-pseudolabel-5/{file_pattern}\"):\n",
    "            filename = os.path.basename(f)\n",
    "            print(filename)\n",
    "            !cp {f} ./{filename}"
   ]
  },
  {
   "cell_type": "markdown",
   "id": "538610df",
   "metadata": {
    "papermill": {
     "duration": 0.015592,
     "end_time": "2022-01-09T13:39:54.275658",
     "exception": false,
     "start_time": "2022-01-09T13:39:54.260066",
     "status": "completed"
    },
    "tags": []
   },
   "source": [
    "# Load data"
   ]
  },
  {
   "cell_type": "code",
   "execution_count": 7,
   "id": "e0ea1f95",
   "metadata": {
    "execution": {
     "iopub.execute_input": "2022-01-09T13:39:56.769530Z",
     "iopub.status.busy": "2022-01-09T13:39:56.768877Z",
     "iopub.status.idle": "2022-01-09T13:39:56.836751Z",
     "shell.execute_reply": "2022-01-09T13:39:56.837362Z",
     "shell.execute_reply.started": "2022-01-09T13:11:51.838548Z"
    },
    "papermill": {
     "duration": 0.089348,
     "end_time": "2022-01-09T13:39:56.837528",
     "exception": false,
     "start_time": "2022-01-09T13:39:56.748180",
     "status": "completed"
    },
    "tags": []
   },
   "outputs": [
    {
     "name": "stdout",
     "output_type": "stream",
     "text": [
      "['Subject Focus', 'Eyes', 'Face', 'Near', 'Action', 'Accessory', 'Group', 'Collage', 'Human', 'Occlusion', 'Info', 'Blur']\n",
      "(9860, 17)\n"
     ]
    },
    {
     "data": {
      "text/html": [
       "<div>\n",
       "<style scoped>\n",
       "    .dataframe tbody tr th:only-of-type {\n",
       "        vertical-align: middle;\n",
       "    }\n",
       "\n",
       "    .dataframe tbody tr th {\n",
       "        vertical-align: top;\n",
       "    }\n",
       "\n",
       "    .dataframe thead th {\n",
       "        text-align: right;\n",
       "    }\n",
       "</style>\n",
       "<table border=\"1\" class=\"dataframe\">\n",
       "  <thead>\n",
       "    <tr style=\"text-align: right;\">\n",
       "      <th></th>\n",
       "      <th>Id</th>\n",
       "      <th>Subject Focus</th>\n",
       "      <th>Eyes</th>\n",
       "      <th>Face</th>\n",
       "      <th>Near</th>\n",
       "      <th>Action</th>\n",
       "      <th>Accessory</th>\n",
       "      <th>Group</th>\n",
       "      <th>Collage</th>\n",
       "      <th>Human</th>\n",
       "      <th>Occlusion</th>\n",
       "      <th>Info</th>\n",
       "      <th>Blur</th>\n",
       "      <th>Pawpularity</th>\n",
       "      <th>path</th>\n",
       "      <th>Pawclass</th>\n",
       "      <th>bins</th>\n",
       "    </tr>\n",
       "  </thead>\n",
       "  <tbody>\n",
       "    <tr>\n",
       "      <th>0</th>\n",
       "      <td>0007de18844b0dbbb5e1f607da0606e0</td>\n",
       "      <td>0</td>\n",
       "      <td>1</td>\n",
       "      <td>1</td>\n",
       "      <td>1</td>\n",
       "      <td>0</td>\n",
       "      <td>0</td>\n",
       "      <td>1</td>\n",
       "      <td>0</td>\n",
       "      <td>0</td>\n",
       "      <td>0</td>\n",
       "      <td>0</td>\n",
       "      <td>0</td>\n",
       "      <td>63</td>\n",
       "      <td>../input/petfinder-pawpularity-score/train/0007de18844b0dbbb5e1f607da0606e0.jpg</td>\n",
       "      <td>0.63</td>\n",
       "      <td>26</td>\n",
       "    </tr>\n",
       "    <tr>\n",
       "      <th>1</th>\n",
       "      <td>0009c66b9439883ba2750fb825e1d7db</td>\n",
       "      <td>0</td>\n",
       "      <td>1</td>\n",
       "      <td>1</td>\n",
       "      <td>0</td>\n",
       "      <td>0</td>\n",
       "      <td>0</td>\n",
       "      <td>0</td>\n",
       "      <td>0</td>\n",
       "      <td>0</td>\n",
       "      <td>0</td>\n",
       "      <td>0</td>\n",
       "      <td>0</td>\n",
       "      <td>42</td>\n",
       "      <td>../input/petfinder-pawpularity-score/train/0009c66b9439883ba2750fb825e1d7db.jpg</td>\n",
       "      <td>0.42</td>\n",
       "      <td>17</td>\n",
       "    </tr>\n",
       "  </tbody>\n",
       "</table>\n",
       "</div>"
      ],
      "text/plain": [
       "                                 Id  Subject Focus  Eyes  Face  Near  Action  \\\n",
       "0  0007de18844b0dbbb5e1f607da0606e0              0     1     1     1       0   \n",
       "1  0009c66b9439883ba2750fb825e1d7db              0     1     1     0       0   \n",
       "\n",
       "   Accessory  Group  Collage  Human  Occlusion  Info  Blur  Pawpularity  \\\n",
       "0          0      1        0      0          0     0     0           63   \n",
       "1          0      0        0      0          0     0     0           42   \n",
       "\n",
       "                                                                              path  \\\n",
       "0  ../input/petfinder-pawpularity-score/train/0007de18844b0dbbb5e1f607da0606e0.jpg   \n",
       "1  ../input/petfinder-pawpularity-score/train/0009c66b9439883ba2750fb825e1d7db.jpg   \n",
       "\n",
       "   Pawclass  bins  \n",
       "0      0.63    26  \n",
       "1      0.42    17  "
      ]
     },
     "execution_count": 7,
     "metadata": {},
     "output_type": "execute_result"
    }
   ],
   "source": [
    "df_train = pd.read_csv(CFG['input_path'])\n",
    "df_train[\"path\"] = [f\"{CFG['input_img']}{i}.jpg\" for i in df_train.Id]\n",
    "df_train[\"Pawclass\"] = df_train.Pawpularity / 100\n",
    "\n",
    "num_bins = int(np.ceil(2*((len(df_train))**(1./3))))\n",
    "df_train['bins'] = pd.cut(df_train['Pawclass'], bins=num_bins, labels=False)\n",
    "\n",
    "meta_features = [c for c in df_train.columns if c not in [\"Id\",\"path\", \"Pawpularity\",\"Pawclass\",\"bins\"]]\n",
    "\n",
    "print(meta_features)\n",
    "print(df_train.shape)\n",
    "df_train.head(2)"
   ]
  },
  {
   "cell_type": "code",
   "execution_count": 8,
   "id": "857fadbe",
   "metadata": {
    "execution": {
     "iopub.execute_input": "2022-01-09T13:39:56.872677Z",
     "iopub.status.busy": "2022-01-09T13:39:56.872068Z",
     "iopub.status.idle": "2022-01-09T13:39:56.888455Z",
     "shell.execute_reply": "2022-01-09T13:39:56.887992Z",
     "shell.execute_reply.started": "2022-01-09T13:11:51.914351Z"
    },
    "papermill": {
     "duration": 0.037152,
     "end_time": "2022-01-09T13:39:56.888565",
     "exception": false,
     "start_time": "2022-01-09T13:39:56.851413",
     "status": "completed"
    },
    "tags": []
   },
   "outputs": [
    {
     "data": {
      "text/plain": [
       "3    2465\n",
       "1    2465\n",
       "2    2465\n",
       "0    2465\n",
       "Name: fold, dtype: int64"
      ]
     },
     "execution_count": 8,
     "metadata": {},
     "output_type": "execute_result"
    }
   ],
   "source": [
    "kfold = StratifiedKFold(n_splits=CFG['fold'], random_state=CFG[\"seed\"], shuffle=True)\n",
    "df_train[\"fold\"] = 0\n",
    "for i, (_, train_index) in enumerate(kfold.split(df_train.index, df_train['bins'])):\n",
    "    df_train.loc[train_index, \"fold\"] = i\n",
    "df_train['fold'] = df_train['fold'].astype('int')\n",
    "\n",
    "df_train.fold.value_counts()"
   ]
  },
  {
   "cell_type": "code",
   "execution_count": 9,
   "id": "ebafafe6",
   "metadata": {
    "execution": {
     "iopub.execute_input": "2022-01-09T13:39:56.919728Z",
     "iopub.status.busy": "2022-01-09T13:39:56.919119Z",
     "iopub.status.idle": "2022-01-09T13:39:57.331364Z",
     "shell.execute_reply": "2022-01-09T13:39:57.331781Z",
     "shell.execute_reply.started": "2022-01-09T13:11:51.940028Z"
    },
    "papermill": {
     "duration": 0.429709,
     "end_time": "2022-01-09T13:39:57.331935",
     "exception": false,
     "start_time": "2022-01-09T13:39:56.902226",
     "status": "completed"
    },
    "tags": []
   },
   "outputs": [
    {
     "data": {
      "text/plain": [
       "<AxesSubplot:>"
      ]
     },
     "execution_count": 9,
     "metadata": {},
     "output_type": "execute_result"
    },
    {
     "data": {
      "image/png": "[encoded data removed]",
      "text/plain": [
       "<Figure size 432x288 with 1 Axes>"
      ]
     },
     "metadata": {
      "needs_background": "light"
     },
     "output_type": "display_data"
    }
   ],
   "source": [
    "df_train.Pawpularity.hist(bins=100)"
   ]
  },
  {
   "cell_type": "markdown",
   "id": "bf7caa9a",
   "metadata": {
    "papermill": {
     "duration": 0.01413,
     "end_time": "2022-01-09T13:39:57.360408",
     "exception": false,
     "start_time": "2022-01-09T13:39:57.346278",
     "status": "completed"
    },
    "tags": []
   },
   "source": [
    "# Define model"
   ]
  },
  {
   "cell_type": "code",
   "execution_count": 10,
   "id": "2f45b02a",
   "metadata": {
    "execution": {
     "iopub.execute_input": "2022-01-09T13:39:57.397815Z",
     "iopub.status.busy": "2022-01-09T13:39:57.397020Z",
     "iopub.status.idle": "2022-01-09T13:39:57.399018Z",
     "shell.execute_reply": "2022-01-09T13:39:57.399461Z",
     "shell.execute_reply.started": "2022-01-09T13:11:52.364996Z"
    },
    "papermill": {
     "duration": 0.024583,
     "end_time": "2022-01-09T13:39:57.399587",
     "exception": false,
     "start_time": "2022-01-09T13:39:57.375004",
     "status": "completed"
    },
    "tags": []
   },
   "outputs": [],
   "source": [
    "def prepare_dataloader(df, fold):\n",
    "    df = df.copy()\n",
    "    df['is_valid'] = (df['fold'] == fold)\n",
    "    \n",
    "    label_col  = \"Pawclass\" if CFG[\"loss\"] == \"binary\" else \"Pawpularity\"\n",
    "    dataloader = ImageDataLoaders.from_df(\n",
    "        df,\n",
    "        valid_col='is_valid',\n",
    "        seed=CFG[\"seed\"],\n",
    "        fn_col='path',\n",
    "        label_col=label_col,\n",
    "        y_block=RegressionBlock,\n",
    "        bs=CFG['batch_size'],\n",
    "        n=CFG[\"n_data\"],\n",
    "        shuffle=True,\n",
    "        num_workers=CFG['num_workers'],\n",
    "        item_tfms=Resize(CFG['size']),\n",
    "        batch_tfms=setup_aug_tfms([Brightness(), Contrast(), Hue(), Saturation(), Flip()])\n",
    "    )\n",
    "    return dataloader\n",
    "\n",
    "def petfinder_rmse(input, target):\n",
    "    return 100*torch.sqrt(F.mse_loss(F.sigmoid(input.flatten()), target))"
   ]
  },
  {
   "cell_type": "code",
   "execution_count": 11,
   "id": "1e8e1502",
   "metadata": {
    "execution": {
     "iopub.execute_input": "2022-01-09T13:39:57.437303Z",
     "iopub.status.busy": "2022-01-09T13:39:57.436509Z",
     "iopub.status.idle": "2022-01-09T13:39:57.441901Z",
     "shell.execute_reply": "2022-01-09T13:39:57.441431Z",
     "shell.execute_reply.started": "2022-01-09T13:11:52.375643Z"
    },
    "papermill": {
     "duration": 0.027409,
     "end_time": "2022-01-09T13:39:57.442005",
     "exception": false,
     "start_time": "2022-01-09T13:39:57.414596",
     "status": "completed"
    },
    "tags": []
   },
   "outputs": [],
   "source": [
    "class Model(nn.Module):\n",
    "    def __init__(self, model_name, pretrained=True):\n",
    "        super().__init__()\n",
    "        self.model = timm.create_model(model_name, pretrained=pretrained, in_chans=3)\n",
    "        self.n_features = self.model.classifier.in_features\n",
    "        self.model.classifier = nn.Linear(self.n_features, 1)\n",
    "\n",
    "    def forward(self, x):\n",
    "        output = self.model(x)\n",
    "        return output\n",
    "\n",
    "class TransformerModel(nn.Module):\n",
    "    def __init__(self, model_name, pretrained=True):\n",
    "        super().__init__()\n",
    "        self.model   = timm.create_model(model_name, pretrained=pretrained, num_classes=0, in_chans=3)\n",
    "        num_features = self.model.num_features\n",
    "        self.linear  = nn.Linear(num_features, 1)\n",
    "\n",
    "    def forward(self, x):\n",
    "        x = self.model(x)\n",
    "        output = self.linear(x)\n",
    "        return output\n",
    "\n",
    "def get_learner(df, fold):\n",
    "    dataloader = prepare_dataloader(df, fold)\n",
    "    if CFG['pretrain'] is None:\n",
    "        model = TransformerModel(CFG[\"model\"], pretrained=True)\n",
    "    else:\n",
    "        model = TransformerModel(CFG[\"model\"], pretrained=False)\n",
    "        model.load_state_dict(torch.load(CFG['pretrain']))\n",
    "    learner = Learner(\n",
    "        dataloader,\n",
    "        model,\n",
    "        loss_func=BCEWithLogitsLossFlat(),\n",
    "        metrics=AccumMetric(petfinder_rmse)).to_fp16()\n",
    "    return learner"
   ]
  },
  {
   "cell_type": "code",
   "execution_count": 12,
   "id": "58138247",
   "metadata": {
    "execution": {
     "iopub.execute_input": "2022-01-09T13:39:57.474282Z",
     "iopub.status.busy": "2022-01-09T13:39:57.473615Z",
     "iopub.status.idle": "2022-01-09T13:39:57.476177Z",
     "shell.execute_reply": "2022-01-09T13:39:57.475731Z",
     "shell.execute_reply.started": "2022-01-09T13:11:52.388492Z"
    },
    "papermill": {
     "duration": 0.019972,
     "end_time": "2022-01-09T13:39:57.476285",
     "exception": false,
     "start_time": "2022-01-09T13:39:57.456313",
     "status": "completed"
    },
    "tags": []
   },
   "outputs": [],
   "source": [
    "# Ref: https://fastai1.fast.ai/callbacks.lr_finder.html\n",
    "# get_learner(df_train, fold=0).lr_find(end_lr=3e-2)"
   ]
  },
  {
   "cell_type": "markdown",
   "id": "b36d9b54",
   "metadata": {
    "papermill": {
     "duration": 0.013984,
     "end_time": "2022-01-09T13:39:57.504515",
     "exception": false,
     "start_time": "2022-01-09T13:39:57.490531",
     "status": "completed"
    },
    "tags": []
   },
   "source": [
    "# Run training"
   ]
  },
  {
   "cell_type": "code",
   "execution_count": 13,
   "id": "7a7f0593",
   "metadata": {
    "execution": {
     "iopub.execute_input": "2022-01-09T13:39:57.541493Z",
     "iopub.status.busy": "2022-01-09T13:39:57.540357Z",
     "iopub.status.idle": "2022-01-09T16:25:49.558752Z",
     "shell.execute_reply": "2022-01-09T16:25:49.558088Z",
     "shell.execute_reply.started": "2022-01-09T13:11:52.399928Z"
    },
    "papermill": {
     "duration": 9952.039936,
     "end_time": "2022-01-09T16:25:49.558889",
     "exception": false,
     "start_time": "2022-01-09T13:39:57.518953",
     "status": "completed"
    },
    "tags": []
   },
   "outputs": [
    {
     "name": "stderr",
     "output_type": "stream",
     "text": [
      "Downloading: \"https://github.com/SwinTransformer/storage/releases/download/v1.0.0/swin_large_patch4_window7_224_22kto1k.pth\" to /root/.cache/torch/hub/checkpoints/swin_large_patch4_window7_224_22kto1k.pth\n"
     ]
    },
    {
     "data": {
      "text/html": [
       "<table border=\"1\" class=\"dataframe\">\n",
       "  <thead>\n",
       "    <tr style=\"text-align: left;\">\n",
       "      <th>epoch</th>\n",
       "      <th>train_loss</th>\n",
       "      <th>valid_loss</th>\n",
       "      <th>petfinder_rmse</th>\n",
       "      <th>time</th>\n",
       "    </tr>\n",
       "  </thead>\n",
       "  <tbody>\n",
       "    <tr>\n",
       "      <td>0</td>\n",
       "      <td>0.655301</td>\n",
       "      <td>0.648041</td>\n",
       "      <td>18.663654</td>\n",
       "      <td>06:24</td>\n",
       "    </tr>\n",
       "    <tr>\n",
       "      <td>1</td>\n",
       "      <td>0.642605</td>\n",
       "      <td>0.643304</td>\n",
       "      <td>18.045620</td>\n",
       "      <td>06:18</td>\n",
       "    </tr>\n",
       "    <tr>\n",
       "      <td>2</td>\n",
       "      <td>0.641127</td>\n",
       "      <td>0.642932</td>\n",
       "      <td>17.997547</td>\n",
       "      <td>06:18</td>\n",
       "    </tr>\n",
       "    <tr>\n",
       "      <td>3</td>\n",
       "      <td>0.631610</td>\n",
       "      <td>0.640866</td>\n",
       "      <td>17.712860</td>\n",
       "      <td>06:17</td>\n",
       "    </tr>\n",
       "    <tr>\n",
       "      <td>4</td>\n",
       "      <td>0.621383</td>\n",
       "      <td>0.645266</td>\n",
       "      <td>18.214741</td>\n",
       "      <td>06:17</td>\n",
       "    </tr>\n",
       "    <tr>\n",
       "      <td>5</td>\n",
       "      <td>0.614108</td>\n",
       "      <td>0.644932</td>\n",
       "      <td>18.174810</td>\n",
       "      <td>06:18</td>\n",
       "    </tr>\n",
       "    <tr>\n",
       "      <td>6</td>\n",
       "      <td>0.603189</td>\n",
       "      <td>0.649658</td>\n",
       "      <td>18.627205</td>\n",
       "      <td>06:17</td>\n",
       "    </tr>\n",
       "  </tbody>\n",
       "</table>"
      ],
      "text/plain": [
       "<IPython.core.display.HTML object>"
      ]
     },
     "metadata": {},
     "output_type": "display_data"
    },
    {
     "name": "stdout",
     "output_type": "stream",
     "text": [
      "Better model found at epoch 0 with valid_loss value: 0.6480409502983093.\n",
      "Better model found at epoch 1 with valid_loss value: 0.6433042287826538.\n",
      "Better model found at epoch 2 with valid_loss value: 0.6429319977760315.\n",
      "Better model found at epoch 3 with valid_loss value: 0.6408661603927612.\n",
      "No improvement since epoch 3: early stopping\n"
     ]
    },
    {
     "data": {
      "text/html": [
       "<table border=\"1\" class=\"dataframe\">\n",
       "  <thead>\n",
       "    <tr style=\"text-align: left;\">\n",
       "      <th>epoch</th>\n",
       "      <th>train_loss</th>\n",
       "      <th>valid_loss</th>\n",
       "      <th>petfinder_rmse</th>\n",
       "      <th>time</th>\n",
       "    </tr>\n",
       "  </thead>\n",
       "  <tbody>\n",
       "    <tr>\n",
       "      <td>0</td>\n",
       "      <td>0.655539</td>\n",
       "      <td>0.649081</td>\n",
       "      <td>18.741346</td>\n",
       "      <td>06:19</td>\n",
       "    </tr>\n",
       "    <tr>\n",
       "      <td>1</td>\n",
       "      <td>0.642538</td>\n",
       "      <td>0.644512</td>\n",
       "      <td>18.159796</td>\n",
       "      <td>06:18</td>\n",
       "    </tr>\n",
       "    <tr>\n",
       "      <td>2</td>\n",
       "      <td>0.637751</td>\n",
       "      <td>0.642660</td>\n",
       "      <td>17.903416</td>\n",
       "      <td>06:19</td>\n",
       "    </tr>\n",
       "    <tr>\n",
       "      <td>3</td>\n",
       "      <td>0.629578</td>\n",
       "      <td>0.644933</td>\n",
       "      <td>18.163332</td>\n",
       "      <td>06:18</td>\n",
       "    </tr>\n",
       "    <tr>\n",
       "      <td>4</td>\n",
       "      <td>0.621269</td>\n",
       "      <td>0.650248</td>\n",
       "      <td>18.742990</td>\n",
       "      <td>06:19</td>\n",
       "    </tr>\n",
       "    <tr>\n",
       "      <td>5</td>\n",
       "      <td>0.616725</td>\n",
       "      <td>0.653372</td>\n",
       "      <td>19.109955</td>\n",
       "      <td>06:17</td>\n",
       "    </tr>\n",
       "  </tbody>\n",
       "</table>"
      ],
      "text/plain": [
       "<IPython.core.display.HTML object>"
      ]
     },
     "metadata": {},
     "output_type": "display_data"
    },
    {
     "name": "stdout",
     "output_type": "stream",
     "text": [
      "Better model found at epoch 0 with valid_loss value: 0.6490808725357056.\n",
      "Better model found at epoch 1 with valid_loss value: 0.6445117592811584.\n",
      "Better model found at epoch 2 with valid_loss value: 0.6426600813865662.\n",
      "No improvement since epoch 2: early stopping\n"
     ]
    },
    {
     "data": {
      "text/html": [
       "<table border=\"1\" class=\"dataframe\">\n",
       "  <thead>\n",
       "    <tr style=\"text-align: left;\">\n",
       "      <th>epoch</th>\n",
       "      <th>train_loss</th>\n",
       "      <th>valid_loss</th>\n",
       "      <th>petfinder_rmse</th>\n",
       "      <th>time</th>\n",
       "    </tr>\n",
       "  </thead>\n",
       "  <tbody>\n",
       "    <tr>\n",
       "      <td>0</td>\n",
       "      <td>0.654948</td>\n",
       "      <td>0.646616</td>\n",
       "      <td>18.419357</td>\n",
       "      <td>06:19</td>\n",
       "    </tr>\n",
       "    <tr>\n",
       "      <td>1</td>\n",
       "      <td>0.645501</td>\n",
       "      <td>0.639620</td>\n",
       "      <td>17.480700</td>\n",
       "      <td>06:18</td>\n",
       "    </tr>\n",
       "    <tr>\n",
       "      <td>2</td>\n",
       "      <td>0.640445</td>\n",
       "      <td>0.638590</td>\n",
       "      <td>17.364540</td>\n",
       "      <td>06:20</td>\n",
       "    </tr>\n",
       "    <tr>\n",
       "      <td>3</td>\n",
       "      <td>0.635536</td>\n",
       "      <td>0.639025</td>\n",
       "      <td>17.415392</td>\n",
       "      <td>06:19</td>\n",
       "    </tr>\n",
       "    <tr>\n",
       "      <td>4</td>\n",
       "      <td>0.623237</td>\n",
       "      <td>0.641087</td>\n",
       "      <td>17.673813</td>\n",
       "      <td>06:19</td>\n",
       "    </tr>\n",
       "    <tr>\n",
       "      <td>5</td>\n",
       "      <td>0.614073</td>\n",
       "      <td>0.643220</td>\n",
       "      <td>17.853897</td>\n",
       "      <td>06:19</td>\n",
       "    </tr>\n",
       "  </tbody>\n",
       "</table>"
      ],
      "text/plain": [
       "<IPython.core.display.HTML object>"
      ]
     },
     "metadata": {},
     "output_type": "display_data"
    },
    {
     "name": "stdout",
     "output_type": "stream",
     "text": [
      "Better model found at epoch 0 with valid_loss value: 0.6466159224510193.\n",
      "Better model found at epoch 1 with valid_loss value: 0.6396198272705078.\n",
      "Better model found at epoch 2 with valid_loss value: 0.6385898590087891.\n",
      "No improvement since epoch 2: early stopping\n"
     ]
    },
    {
     "data": {
      "text/html": [
       "<table border=\"1\" class=\"dataframe\">\n",
       "  <thead>\n",
       "    <tr style=\"text-align: left;\">\n",
       "      <th>epoch</th>\n",
       "      <th>train_loss</th>\n",
       "      <th>valid_loss</th>\n",
       "      <th>petfinder_rmse</th>\n",
       "      <th>time</th>\n",
       "    </tr>\n",
       "  </thead>\n",
       "  <tbody>\n",
       "    <tr>\n",
       "      <td>0</td>\n",
       "      <td>0.659145</td>\n",
       "      <td>0.651218</td>\n",
       "      <td>19.038132</td>\n",
       "      <td>06:18</td>\n",
       "    </tr>\n",
       "    <tr>\n",
       "      <td>1</td>\n",
       "      <td>0.643750</td>\n",
       "      <td>0.643058</td>\n",
       "      <td>17.976254</td>\n",
       "      <td>06:18</td>\n",
       "    </tr>\n",
       "    <tr>\n",
       "      <td>2</td>\n",
       "      <td>0.637554</td>\n",
       "      <td>0.647459</td>\n",
       "      <td>18.455563</td>\n",
       "      <td>06:20</td>\n",
       "    </tr>\n",
       "    <tr>\n",
       "      <td>3</td>\n",
       "      <td>0.632921</td>\n",
       "      <td>0.642793</td>\n",
       "      <td>17.933588</td>\n",
       "      <td>06:18</td>\n",
       "    </tr>\n",
       "    <tr>\n",
       "      <td>4</td>\n",
       "      <td>0.621447</td>\n",
       "      <td>0.647500</td>\n",
       "      <td>18.457743</td>\n",
       "      <td>06:19</td>\n",
       "    </tr>\n",
       "    <tr>\n",
       "      <td>5</td>\n",
       "      <td>0.615975</td>\n",
       "      <td>0.649662</td>\n",
       "      <td>18.675034</td>\n",
       "      <td>06:18</td>\n",
       "    </tr>\n",
       "    <tr>\n",
       "      <td>6</td>\n",
       "      <td>0.605485</td>\n",
       "      <td>0.654211</td>\n",
       "      <td>19.177021</td>\n",
       "      <td>06:17</td>\n",
       "    </tr>\n",
       "  </tbody>\n",
       "</table>"
      ],
      "text/plain": [
       "<IPython.core.display.HTML object>"
      ]
     },
     "metadata": {},
     "output_type": "display_data"
    },
    {
     "name": "stdout",
     "output_type": "stream",
     "text": [
      "Better model found at epoch 0 with valid_loss value: 0.6512177586555481.\n",
      "Better model found at epoch 1 with valid_loss value: 0.6430580615997314.\n",
      "Better model found at epoch 3 with valid_loss value: 0.6427927613258362.\n",
      "No improvement since epoch 3: early stopping\n"
     ]
    }
   ],
   "source": [
    "all_preds = []\n",
    "\n",
    "for fold in range(CFG[\"fold\"]):\n",
    "    learn = get_learner(df_train, fold)\n",
    "    learn.fit_one_cycle(\n",
    "        CFG[\"epochs\"],\n",
    "        CFG[\"lr\"],\n",
    "        cbs=[SaveModelCallback(),\n",
    "             EarlyStoppingCallback(monitor='petfinder_rmse',\n",
    "                                   comp=np.less,\n",
    "                                   patience=CFG['early_stopping'])]\n",
    "    )\n",
    "    shutil.move(\"./models/model.pth\", f\"{CFG['output_path']}{CFG['save_name']}_{fold}.pth\")\n",
    "    \n",
    "    del learn\n",
    "    torch.cuda.empty_cache()\n",
    "    gc.collect()\n",
    "    \n",
    "!rm -rf ./models"
   ]
  }
 ],
 "metadata": {
  "kernelspec": {
   "display_name": "Python 3",
   "language": "python",
   "name": "python3"
  },
  "language_info": {
   "codemirror_mode": {
    "name": "ipython",
    "version": 3
   },
   "file_extension": ".py",
   "mimetype": "text/x-python",
   "name": "python",
   "nbconvert_exporter": "python",
   "pygments_lexer": "ipython3",
   "version": "3.7.10"
  },
  "papermill": {
   "default_parameters": {},
   "duration": 9989.36551,
   "end_time": "2022-01-09T16:25:52.430187",
   "environment_variables": {},
   "exception": null,
   "input_path": "__notebook__.ipynb",
   "output_path": "__notebook__.ipynb",
   "parameters": {},
   "start_time": "2022-01-09T13:39:23.064677",
   "version": "2.3.3"
  }
 },
 "nbformat": 4,
 "nbformat_minor": 5
}
