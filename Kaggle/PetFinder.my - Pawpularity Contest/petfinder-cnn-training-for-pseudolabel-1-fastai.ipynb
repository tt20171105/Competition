{
 "cells": [
  {
   "cell_type": "code",
   "execution_count": 1,
   "id": "760793fb",
   "metadata": {
    "_cell_guid": "b1076dfc-b9ad-4769-8c92-a6c4dae69d19",
    "_uuid": "8f2839f25d086af736a60e9eeb907d3b93b6e0e5",
    "execution": {
     "iopub.execute_input": "2022-01-05T04:39:52.473358Z",
     "iopub.status.busy": "2022-01-05T04:39:52.471653Z",
     "iopub.status.idle": "2022-01-05T04:39:52.482031Z",
     "shell.execute_reply": "2022-01-05T04:39:52.481431Z",
     "shell.execute_reply.started": "2022-01-05T04:25:03.187679Z"
    },
    "papermill": {
     "duration": 0.054271,
     "end_time": "2022-01-05T04:39:52.482170",
     "exception": false,
     "start_time": "2022-01-05T04:39:52.427899",
     "status": "completed"
    },
    "tags": []
   },
   "outputs": [],
   "source": [
    "import sys\n",
    "sys.path.append('../input/timm-pytorch-image-models/pytorch-image-models-master')\n",
    "sys.path.append('../input/pytorch-optimizers/')"
   ]
  },
  {
   "cell_type": "code",
   "execution_count": 2,
   "id": "2a3dd63a",
   "metadata": {
    "execution": {
     "iopub.execute_input": "2022-01-05T04:39:52.516566Z",
     "iopub.status.busy": "2022-01-05T04:39:52.515901Z",
     "iopub.status.idle": "2022-01-05T04:40:00.798971Z",
     "shell.execute_reply": "2022-01-05T04:40:00.798433Z",
     "shell.execute_reply.started": "2022-01-05T04:25:03.216101Z"
    },
    "papermill": {
     "duration": 8.302855,
     "end_time": "2022-01-05T04:40:00.799107",
     "exception": false,
     "start_time": "2022-01-05T04:39:52.496252",
     "status": "completed"
    },
    "tags": []
   },
   "outputs": [],
   "source": [
    "import os\n",
    "import gc\n",
    "import cv2\n",
    "import copy\n",
    "import time\n",
    "import yaml\n",
    "import random\n",
    "import shutil\n",
    "import warnings\n",
    "import subprocess\n",
    "import numpy as np\n",
    "import pandas as pd\n",
    "import matplotlib.pyplot as plt\n",
    "from glob import glob as glob_file\n",
    "from tqdm import tqdm\n",
    "from PIL import Image, ImageDraw\n",
    "from shutil import copyfile\n",
    "from IPython.core.display import Video, display\n",
    "from sklearn.metrics import mean_squared_error\n",
    "from sklearn.model_selection import train_test_split, KFold, GroupKFold, StratifiedKFold\n",
    "\n",
    "import timm\n",
    "import torch\n",
    "from fastai.vision.all import *\n",
    "\n",
    "warnings.simplefilter('ignore')\n",
    "pd.set_option(\"max_columns\", 150)\n",
    "pd.set_option('display.max_rows', 150)"
   ]
  },
  {
   "cell_type": "code",
   "execution_count": 3,
   "id": "2ac55cc4",
   "metadata": {
    "execution": {
     "iopub.execute_input": "2022-01-05T04:40:00.827588Z",
     "iopub.status.busy": "2022-01-05T04:40:00.826001Z",
     "iopub.status.idle": "2022-01-05T04:40:00.828202Z",
     "shell.execute_reply": "2022-01-05T04:40:00.828648Z",
     "shell.execute_reply.started": "2022-01-05T04:25:10.968656Z"
    },
    "papermill": {
     "duration": 0.018167,
     "end_time": "2022-01-05T04:40:00.828784",
     "exception": false,
     "start_time": "2022-01-05T04:40:00.810617",
     "status": "completed"
    },
    "tags": []
   },
   "outputs": [],
   "source": [
    "# https://github.com/rwightman/pytorch-image-models/blob/master/results/results-imagenet.csv\n",
    "# timm.list_models(pretrained=True)"
   ]
  },
  {
   "cell_type": "markdown",
   "id": "5c2a0f94",
   "metadata": {
    "papermill": {
     "duration": 0.011212,
     "end_time": "2022-01-05T04:40:00.851217",
     "exception": false,
     "start_time": "2022-01-05T04:40:00.840005",
     "status": "completed"
    },
    "tags": []
   },
   "source": [
    "# Configuration"
   ]
  },
  {
   "cell_type": "code",
   "execution_count": 4,
   "id": "411e0887",
   "metadata": {
    "execution": {
     "iopub.execute_input": "2022-01-05T04:40:00.885397Z",
     "iopub.status.busy": "2022-01-05T04:40:00.884618Z",
     "iopub.status.idle": "2022-01-05T04:40:00.888296Z",
     "shell.execute_reply": "2022-01-05T04:40:00.888834Z",
     "shell.execute_reply.started": "2022-01-05T04:25:10.975459Z"
    },
    "papermill": {
     "duration": 0.026458,
     "end_time": "2022-01-05T04:40:00.889003",
     "exception": false,
     "start_time": "2022-01-05T04:40:00.862545",
     "status": "completed"
    },
    "tags": []
   },
   "outputs": [
    {
     "data": {
      "text/plain": [
       "{'save_prev': [True, ['petfinder_*.pth']],\n",
       " 'seed': 42,\n",
       " 'device': 'cuda:0',\n",
       " 'input_img': '../input/petfinder-pawpularity-score/train/',\n",
       " 'input_path': '../input/petfinder-smogn-dataset/train_drop_duplicated.csv',\n",
       " 'output_path': './',\n",
       " 'pretrain': '../input/petfinder-fastai-semisupervised-models/petfinder_efnet_binary_ss_fastai_4.pth',\n",
       " 'save_name': 'petfinder_effnet_binary_fastai_ss',\n",
       " 'model': 'tf_efficientnet_b5_ns',\n",
       " 'loss': 'binary',\n",
       " 'size': 512,\n",
       " 'fold': 4,\n",
       " 'batch_size': 16,\n",
       " 'epochs': 15,\n",
       " 'n_data': 800,\n",
       " 'mixup_ratio': 0,\n",
       " 'lr': 1e-06,\n",
       " 'accum_iter': 2,\n",
       " 'early_stopping': 3,\n",
       " 'verbose_step': 1,\n",
       " 'num_workers': 4}"
      ]
     },
     "execution_count": 4,
     "metadata": {},
     "output_type": "execute_result"
    }
   ],
   "source": [
    "CFG = {\n",
    "    \"save_prev\"     : [True, [\"petfinder_*.pth\"]],\n",
    "    \"seed\"          : 42,\n",
    "    'device'        : \"cuda:0\" if torch.cuda.is_available() else \"cpu\",\n",
    "    \"input_img\"     : '../input/petfinder-pawpularity-score/train/',\n",
    "    \"input_path\"    : '../input/petfinder-smogn-dataset/train_drop_duplicated.csv',\n",
    "    \"output_path\"   : './',\n",
    "    \"pretrain\"      : \"../input/petfinder-fastai-semisupervised-models/petfinder_efnet_binary_ss_fastai_4.pth\",\n",
    "    \"save_name\"     : \"petfinder_effnet_binary_fastai_ss\",\n",
    "    \"model\"         : \"tf_efficientnet_b5_ns\",\n",
    "    \"loss\"          : \"binary\",\n",
    "    \"size\"          : 512,\n",
    "    \"fold\"          : 4,\n",
    "    \"batch_size\"    : 16,\n",
    "    \"epochs\"        : 15,\n",
    "    \"n_data\"        : 16*50,  # Batch * step\n",
    "    \"mixup_ratio\"   : 0,\n",
    "    \"lr\"            : 1e-6,\n",
    "    \"accum_iter\"    : 2,\n",
    "    'early_stopping': 3,\n",
    "    'verbose_step'  : 1,\n",
    "    \"num_workers\"   : 4\n",
    "}\n",
    "\n",
    "CFG"
   ]
  },
  {
   "cell_type": "code",
   "execution_count": 5,
   "id": "946c0fe5",
   "metadata": {
    "execution": {
     "iopub.execute_input": "2022-01-05T04:40:00.922347Z",
     "iopub.status.busy": "2022-01-05T04:40:00.921710Z",
     "iopub.status.idle": "2022-01-05T04:40:00.924819Z",
     "shell.execute_reply": "2022-01-05T04:40:00.924314Z",
     "shell.execute_reply.started": "2022-01-05T04:25:10.992984Z"
    },
    "papermill": {
     "duration": 0.023218,
     "end_time": "2022-01-05T04:40:00.924944",
     "exception": false,
     "start_time": "2022-01-05T04:40:00.901726",
     "status": "completed"
    },
    "tags": []
   },
   "outputs": [],
   "source": [
    "def get_img(path):\n",
    "    im_bgr = cv2.imread(path)\n",
    "    im_rgb = im_bgr[:, :, ::-1]\n",
    "    return im_rgb\n",
    "\n",
    "def sigmoid(a):\n",
    "    return 1 / (1 + np.exp(-a))\n",
    "\n",
    "def softmax(x):\n",
    "    max = np.max(x,axis=1,keepdims=True)\n",
    "    e_x = np.exp(x - max)\n",
    "    sum = np.sum(e_x,axis=1,keepdims=True)\n",
    "    return e_x / sum \n",
    "\n",
    "def seed_everything(seed = 42):\n",
    "    '''Sets the seed of the entire notebook so results are the same every time we run.\n",
    "    This is for REPRODUCIBILITY.'''\n",
    "    np.random.seed(seed)\n",
    "    random.seed(seed)\n",
    "    torch.manual_seed(seed)\n",
    "    torch.cuda.manual_seed(seed)\n",
    "    # When running on the CuDNN backend, two further options must be set\n",
    "    torch.backends.cudnn.deterministic = True\n",
    "    torch.backends.cudnn.benchmark = False\n",
    "    # Set a fixed value for the hash seed\n",
    "    os.environ['PYTHONHASHSEED'] = str(seed)\n",
    "    \n",
    "seed_everything(CFG[\"seed\"])"
   ]
  },
  {
   "cell_type": "code",
   "execution_count": 6,
   "id": "8e6fec41",
   "metadata": {
    "execution": {
     "iopub.execute_input": "2022-01-05T04:40:00.954284Z",
     "iopub.status.busy": "2022-01-05T04:40:00.953576Z",
     "iopub.status.idle": "2022-01-05T04:40:09.271989Z",
     "shell.execute_reply": "2022-01-05T04:40:09.271411Z",
     "shell.execute_reply.started": "2022-01-05T04:27:43.544687Z"
    },
    "papermill": {
     "duration": 8.335232,
     "end_time": "2022-01-05T04:40:09.272119",
     "exception": false,
     "start_time": "2022-01-05T04:40:00.936887",
     "status": "completed"
    },
    "tags": []
   },
   "outputs": [
    {
     "name": "stdout",
     "output_type": "stream",
     "text": [
      "petfinder_effnet_binary_fastai_1.pth\n",
      "petfinder_effnet_binary_fastai_3.pth\n",
      "petfinder_effnet_binary_fastai_0.pth\n",
      "petfinder_effnet_binary_fastai_2.pth\n"
     ]
    }
   ],
   "source": [
    "if CFG['save_prev'][0]:\n",
    "    for file_pattern in CFG['save_prev'][1]:\n",
    "        for f in glob_file(f\"../input/petfinder-fastai-models-pseudolabel-1/{file_pattern}\"):\n",
    "            filename = os.path.basename(f)\n",
    "            print(filename)\n",
    "            !cp {f} ./{filename}"
   ]
  },
  {
   "cell_type": "markdown",
   "id": "054d7c91",
   "metadata": {
    "papermill": {
     "duration": 0.012506,
     "end_time": "2022-01-05T04:40:09.297469",
     "exception": false,
     "start_time": "2022-01-05T04:40:09.284963",
     "status": "completed"
    },
    "tags": []
   },
   "source": [
    "# Load data"
   ]
  },
  {
   "cell_type": "code",
   "execution_count": 7,
   "id": "82808ff9",
   "metadata": {
    "execution": {
     "iopub.execute_input": "2022-01-05T04:40:09.331090Z",
     "iopub.status.busy": "2022-01-05T04:40:09.328310Z",
     "iopub.status.idle": "2022-01-05T04:40:09.399405Z",
     "shell.execute_reply": "2022-01-05T04:40:09.399828Z",
     "shell.execute_reply.started": "2022-01-05T04:27:52.430829Z"
    },
    "papermill": {
     "duration": 0.089975,
     "end_time": "2022-01-05T04:40:09.399986",
     "exception": false,
     "start_time": "2022-01-05T04:40:09.310011",
     "status": "completed"
    },
    "tags": []
   },
   "outputs": [
    {
     "name": "stdout",
     "output_type": "stream",
     "text": [
      "['Subject Focus', 'Eyes', 'Face', 'Near', 'Action', 'Accessory', 'Group', 'Collage', 'Human', 'Occlusion', 'Info', 'Blur']\n",
      "(9860, 17)\n"
     ]
    },
    {
     "data": {
      "text/html": [
       "<div>\n",
       "<style scoped>\n",
       "    .dataframe tbody tr th:only-of-type {\n",
       "        vertical-align: middle;\n",
       "    }\n",
       "\n",
       "    .dataframe tbody tr th {\n",
       "        vertical-align: top;\n",
       "    }\n",
       "\n",
       "    .dataframe thead th {\n",
       "        text-align: right;\n",
       "    }\n",
       "</style>\n",
       "<table border=\"1\" class=\"dataframe\">\n",
       "  <thead>\n",
       "    <tr style=\"text-align: right;\">\n",
       "      <th></th>\n",
       "      <th>Id</th>\n",
       "      <th>Subject Focus</th>\n",
       "      <th>Eyes</th>\n",
       "      <th>Face</th>\n",
       "      <th>Near</th>\n",
       "      <th>Action</th>\n",
       "      <th>Accessory</th>\n",
       "      <th>Group</th>\n",
       "      <th>Collage</th>\n",
       "      <th>Human</th>\n",
       "      <th>Occlusion</th>\n",
       "      <th>Info</th>\n",
       "      <th>Blur</th>\n",
       "      <th>Pawpularity</th>\n",
       "      <th>path</th>\n",
       "      <th>Pawclass</th>\n",
       "      <th>bins</th>\n",
       "    </tr>\n",
       "  </thead>\n",
       "  <tbody>\n",
       "    <tr>\n",
       "      <th>0</th>\n",
       "      <td>0007de18844b0dbbb5e1f607da0606e0</td>\n",
       "      <td>0</td>\n",
       "      <td>1</td>\n",
       "      <td>1</td>\n",
       "      <td>1</td>\n",
       "      <td>0</td>\n",
       "      <td>0</td>\n",
       "      <td>1</td>\n",
       "      <td>0</td>\n",
       "      <td>0</td>\n",
       "      <td>0</td>\n",
       "      <td>0</td>\n",
       "      <td>0</td>\n",
       "      <td>63</td>\n",
       "      <td>../input/petfinder-pawpularity-score/train/0007de18844b0dbbb5e1f607da0606e0.jpg</td>\n",
       "      <td>0.63</td>\n",
       "      <td>26</td>\n",
       "    </tr>\n",
       "    <tr>\n",
       "      <th>1</th>\n",
       "      <td>0009c66b9439883ba2750fb825e1d7db</td>\n",
       "      <td>0</td>\n",
       "      <td>1</td>\n",
       "      <td>1</td>\n",
       "      <td>0</td>\n",
       "      <td>0</td>\n",
       "      <td>0</td>\n",
       "      <td>0</td>\n",
       "      <td>0</td>\n",
       "      <td>0</td>\n",
       "      <td>0</td>\n",
       "      <td>0</td>\n",
       "      <td>0</td>\n",
       "      <td>42</td>\n",
       "      <td>../input/petfinder-pawpularity-score/train/0009c66b9439883ba2750fb825e1d7db.jpg</td>\n",
       "      <td>0.42</td>\n",
       "      <td>17</td>\n",
       "    </tr>\n",
       "  </tbody>\n",
       "</table>\n",
       "</div>"
      ],
      "text/plain": [
       "                                 Id  Subject Focus  Eyes  Face  Near  Action  \\\n",
       "0  0007de18844b0dbbb5e1f607da0606e0              0     1     1     1       0   \n",
       "1  0009c66b9439883ba2750fb825e1d7db              0     1     1     0       0   \n",
       "\n",
       "   Accessory  Group  Collage  Human  Occlusion  Info  Blur  Pawpularity  \\\n",
       "0          0      1        0      0          0     0     0           63   \n",
       "1          0      0        0      0          0     0     0           42   \n",
       "\n",
       "                                                                              path  \\\n",
       "0  ../input/petfinder-pawpularity-score/train/0007de18844b0dbbb5e1f607da0606e0.jpg   \n",
       "1  ../input/petfinder-pawpularity-score/train/0009c66b9439883ba2750fb825e1d7db.jpg   \n",
       "\n",
       "   Pawclass  bins  \n",
       "0      0.63    26  \n",
       "1      0.42    17  "
      ]
     },
     "execution_count": 7,
     "metadata": {},
     "output_type": "execute_result"
    }
   ],
   "source": [
    "df_train = pd.read_csv(CFG['input_path'])\n",
    "df_train[\"path\"] = [f\"{CFG['input_img']}{i}.jpg\" for i in df_train.Id]\n",
    "df_train[\"Pawclass\"] = df_train.Pawpularity / 100\n",
    "\n",
    "num_bins = int(np.ceil(2*((len(df_train))**(1./3))))\n",
    "df_train['bins'] = pd.cut(df_train['Pawclass'], bins=num_bins, labels=False)\n",
    "\n",
    "meta_features = [c for c in df_train.columns if c not in [\"Id\",\"path\", \"Pawpularity\",\"Pawclass\",\"bins\"]]\n",
    "\n",
    "print(meta_features)\n",
    "print(df_train.shape)\n",
    "df_train.head(2)"
   ]
  },
  {
   "cell_type": "code",
   "execution_count": 8,
   "id": "be8eb3f2",
   "metadata": {
    "execution": {
     "iopub.execute_input": "2022-01-05T04:40:09.433921Z",
     "iopub.status.busy": "2022-01-05T04:40:09.433013Z",
     "iopub.status.idle": "2022-01-05T04:40:09.450369Z",
     "shell.execute_reply": "2022-01-05T04:40:09.450786Z",
     "shell.execute_reply.started": "2022-01-05T04:27:52.506912Z"
    },
    "papermill": {
     "duration": 0.037388,
     "end_time": "2022-01-05T04:40:09.450923",
     "exception": false,
     "start_time": "2022-01-05T04:40:09.413535",
     "status": "completed"
    },
    "tags": []
   },
   "outputs": [
    {
     "data": {
      "text/plain": [
       "3    2465\n",
       "1    2465\n",
       "2    2465\n",
       "0    2465\n",
       "Name: fold, dtype: int64"
      ]
     },
     "execution_count": 8,
     "metadata": {},
     "output_type": "execute_result"
    }
   ],
   "source": [
    "kfold = StratifiedKFold(n_splits=CFG['fold'], random_state=CFG[\"seed\"], shuffle=True)\n",
    "df_train[\"fold\"] = 0\n",
    "for i, (_, train_index) in enumerate(kfold.split(df_train.index, df_train['bins'])):\n",
    "    df_train.loc[train_index, \"fold\"] = i\n",
    "df_train['fold'] = df_train['fold'].astype('int')\n",
    "\n",
    "df_train.fold.value_counts()"
   ]
  },
  {
   "cell_type": "code",
   "execution_count": 9,
   "id": "ab0bdf68",
   "metadata": {
    "execution": {
     "iopub.execute_input": "2022-01-05T04:40:09.482978Z",
     "iopub.status.busy": "2022-01-05T04:40:09.482357Z",
     "iopub.status.idle": "2022-01-05T04:40:09.894389Z",
     "shell.execute_reply": "2022-01-05T04:40:09.893906Z",
     "shell.execute_reply.started": "2022-01-05T04:27:52.533442Z"
    },
    "papermill": {
     "duration": 0.429429,
     "end_time": "2022-01-05T04:40:09.894530",
     "exception": false,
     "start_time": "2022-01-05T04:40:09.465101",
     "status": "completed"
    },
    "tags": []
   },
   "outputs": [
    {
     "data": {
      "text/plain": [
       "<AxesSubplot:>"
      ]
     },
     "execution_count": 9,
     "metadata": {},
     "output_type": "execute_result"
    },
    {
     "data": {
      "image/png": "[encoded data removed]",
      "text/plain": [
       "<Figure size 432x288 with 1 Axes>"
      ]
     },
     "metadata": {
      "needs_background": "light"
     },
     "output_type": "display_data"
    }
   ],
   "source": [
    "df_train.Pawpularity.hist(bins=100)"
   ]
  },
  {
   "cell_type": "markdown",
   "id": "3d5cf95a",
   "metadata": {
    "papermill": {
     "duration": 0.014098,
     "end_time": "2022-01-05T04:40:09.923344",
     "exception": false,
     "start_time": "2022-01-05T04:40:09.909246",
     "status": "completed"
    },
    "tags": []
   },
   "source": [
    "# Define model"
   ]
  },
  {
   "cell_type": "code",
   "execution_count": 10,
   "id": "6d363966",
   "metadata": {
    "execution": {
     "iopub.execute_input": "2022-01-05T04:40:09.960330Z",
     "iopub.status.busy": "2022-01-05T04:40:09.959480Z",
     "iopub.status.idle": "2022-01-05T04:40:09.961251Z",
     "shell.execute_reply": "2022-01-05T04:40:09.961725Z",
     "shell.execute_reply.started": "2022-01-05T04:27:52.944917Z"
    },
    "papermill": {
     "duration": 0.024171,
     "end_time": "2022-01-05T04:40:09.961853",
     "exception": false,
     "start_time": "2022-01-05T04:40:09.937682",
     "status": "completed"
    },
    "tags": []
   },
   "outputs": [],
   "source": [
    "def prepare_dataloader(df, fold):\n",
    "    df = df.copy()\n",
    "    df['is_valid'] = (df['fold'] == fold)\n",
    "    \n",
    "    label_col  = \"Pawclass\" if CFG[\"loss\"] == \"binary\" else \"Pawpularity\"\n",
    "    dataloader = ImageDataLoaders.from_df(\n",
    "        df,\n",
    "        valid_col='is_valid',\n",
    "        seed=CFG[\"seed\"],\n",
    "        fn_col='path',\n",
    "        label_col=label_col,\n",
    "        y_block=RegressionBlock,\n",
    "        bs=CFG['batch_size'],\n",
    "        n=CFG[\"n_data\"],\n",
    "        shuffle=True,\n",
    "        num_workers=CFG['num_workers'],\n",
    "        item_tfms=Resize(CFG['size']),\n",
    "        batch_tfms=setup_aug_tfms([Brightness(), Contrast(), Hue(), Saturation()])\n",
    "    )\n",
    "    return dataloader\n",
    "\n",
    "def petfinder_rmse(input,target):\n",
    "    return 100*torch.sqrt(F.mse_loss(F.sigmoid(input.flatten()), target))"
   ]
  },
  {
   "cell_type": "code",
   "execution_count": 11,
   "id": "a846cfe7",
   "metadata": {
    "execution": {
     "iopub.execute_input": "2022-01-05T04:40:10.003894Z",
     "iopub.status.busy": "2022-01-05T04:40:10.003024Z",
     "iopub.status.idle": "2022-01-05T04:40:10.005705Z",
     "shell.execute_reply": "2022-01-05T04:40:10.005177Z",
     "shell.execute_reply.started": "2022-01-05T04:27:52.954751Z"
    },
    "papermill": {
     "duration": 0.028675,
     "end_time": "2022-01-05T04:40:10.005833",
     "exception": false,
     "start_time": "2022-01-05T04:40:09.977158",
     "status": "completed"
    },
    "tags": []
   },
   "outputs": [],
   "source": [
    "class Model(nn.Module):\n",
    "    def __init__(self, model_name, pretrained=True):\n",
    "        super().__init__()\n",
    "        self.model = timm.create_model(model_name, pretrained=pretrained, in_chans=3)\n",
    "        self.n_features = self.model.classifier.in_features\n",
    "        self.model.classifier = nn.Linear(self.n_features, 1)\n",
    "\n",
    "    def forward(self, x):\n",
    "        output = self.model(x)\n",
    "        return output\n",
    "\n",
    "class SwinModel(nn.Module):\n",
    "    def __init__(self, model_name, pretrained=True):\n",
    "        super().__init__()\n",
    "        self.model   = timm.create_model(model_name, pretrained=pretrained, num_classes=0, in_chans=3)\n",
    "        num_features = self.model.num_features\n",
    "        self.linear  = nn.Linear(num_features, 1)\n",
    "\n",
    "    def forward(self, x):\n",
    "        x = self.model(x)\n",
    "        output = self.linear(x)\n",
    "        return output\n",
    "\n",
    "def get_learner(df, fold):\n",
    "    dataloader = prepare_dataloader(df, fold)\n",
    "    if CFG['pretrain'] is None:\n",
    "        model = Model(CFG[\"model\"], pretrained=True)\n",
    "    else:\n",
    "        model = Model(CFG[\"model\"], pretrained=False)\n",
    "        model.load_state_dict(torch.load(CFG['pretrain']))\n",
    "    learner = Learner(\n",
    "        dataloader,\n",
    "        model,\n",
    "        loss_func=BCEWithLogitsLossFlat(),\n",
    "        metrics=AccumMetric(petfinder_rmse)).to_fp16()\n",
    "    return learner"
   ]
  },
  {
   "cell_type": "code",
   "execution_count": 12,
   "id": "ec84f7a7",
   "metadata": {
    "execution": {
     "iopub.execute_input": "2022-01-05T04:40:10.040535Z",
     "iopub.status.busy": "2022-01-05T04:40:10.039702Z",
     "iopub.status.idle": "2022-01-05T04:40:10.041744Z",
     "shell.execute_reply": "2022-01-05T04:40:10.042180Z",
     "shell.execute_reply.started": "2022-01-05T04:27:52.968758Z"
    },
    "papermill": {
     "duration": 0.021389,
     "end_time": "2022-01-05T04:40:10.042306",
     "exception": false,
     "start_time": "2022-01-05T04:40:10.020917",
     "status": "completed"
    },
    "tags": []
   },
   "outputs": [],
   "source": [
    "# Ref: https://fastai1.fast.ai/callbacks.lr_finder.html\n",
    "# get_learner(df_train, fold=0).lr_find(end_lr=3e-2)"
   ]
  },
  {
   "cell_type": "markdown",
   "id": "015dab45",
   "metadata": {
    "papermill": {
     "duration": 0.014999,
     "end_time": "2022-01-05T04:40:10.072548",
     "exception": false,
     "start_time": "2022-01-05T04:40:10.057549",
     "status": "completed"
    },
    "tags": []
   },
   "source": [
    "# Run training"
   ]
  },
  {
   "cell_type": "code",
   "execution_count": 13,
   "id": "6871ed96",
   "metadata": {
    "execution": {
     "iopub.execute_input": "2022-01-05T04:40:10.112189Z",
     "iopub.status.busy": "2022-01-05T04:40:10.111301Z",
     "iopub.status.idle": "2022-01-05T06:46:57.335342Z",
     "shell.execute_reply": "2022-01-05T06:46:57.334397Z",
     "shell.execute_reply.started": "2022-01-05T04:27:52.978771Z"
    },
    "papermill": {
     "duration": 7607.247534,
     "end_time": "2022-01-05T06:46:57.335543",
     "exception": false,
     "start_time": "2022-01-05T04:40:10.088009",
     "status": "completed"
    },
    "tags": []
   },
   "outputs": [
    {
     "data": {
      "text/html": [
       "<table border=\"1\" class=\"dataframe\">\n",
       "  <thead>\n",
       "    <tr style=\"text-align: left;\">\n",
       "      <th>epoch</th>\n",
       "      <th>train_loss</th>\n",
       "      <th>valid_loss</th>\n",
       "      <th>petfinder_rmse</th>\n",
       "      <th>time</th>\n",
       "    </tr>\n",
       "  </thead>\n",
       "  <tbody>\n",
       "    <tr>\n",
       "      <td>0</td>\n",
       "      <td>0.637043</td>\n",
       "      <td>0.634985</td>\n",
       "      <td>16.917128</td>\n",
       "      <td>02:21</td>\n",
       "    </tr>\n",
       "    <tr>\n",
       "      <td>1</td>\n",
       "      <td>0.637347</td>\n",
       "      <td>0.634996</td>\n",
       "      <td>16.919142</td>\n",
       "      <td>02:12</td>\n",
       "    </tr>\n",
       "    <tr>\n",
       "      <td>2</td>\n",
       "      <td>0.636368</td>\n",
       "      <td>0.634927</td>\n",
       "      <td>16.909452</td>\n",
       "      <td>02:13</td>\n",
       "    </tr>\n",
       "    <tr>\n",
       "      <td>3</td>\n",
       "      <td>0.636239</td>\n",
       "      <td>0.634802</td>\n",
       "      <td>16.893499</td>\n",
       "      <td>02:12</td>\n",
       "    </tr>\n",
       "    <tr>\n",
       "      <td>4</td>\n",
       "      <td>0.635704</td>\n",
       "      <td>0.634701</td>\n",
       "      <td>16.879595</td>\n",
       "      <td>02:13</td>\n",
       "    </tr>\n",
       "    <tr>\n",
       "      <td>5</td>\n",
       "      <td>0.635591</td>\n",
       "      <td>0.634635</td>\n",
       "      <td>16.872259</td>\n",
       "      <td>02:13</td>\n",
       "    </tr>\n",
       "    <tr>\n",
       "      <td>6</td>\n",
       "      <td>0.635597</td>\n",
       "      <td>0.634413</td>\n",
       "      <td>16.841524</td>\n",
       "      <td>02:13</td>\n",
       "    </tr>\n",
       "    <tr>\n",
       "      <td>7</td>\n",
       "      <td>0.635673</td>\n",
       "      <td>0.634345</td>\n",
       "      <td>16.832867</td>\n",
       "      <td>02:13</td>\n",
       "    </tr>\n",
       "    <tr>\n",
       "      <td>8</td>\n",
       "      <td>0.636243</td>\n",
       "      <td>0.634393</td>\n",
       "      <td>16.839653</td>\n",
       "      <td>02:13</td>\n",
       "    </tr>\n",
       "    <tr>\n",
       "      <td>9</td>\n",
       "      <td>0.633447</td>\n",
       "      <td>0.634357</td>\n",
       "      <td>16.834600</td>\n",
       "      <td>02:12</td>\n",
       "    </tr>\n",
       "    <tr>\n",
       "      <td>10</td>\n",
       "      <td>0.633449</td>\n",
       "      <td>0.634299</td>\n",
       "      <td>16.825495</td>\n",
       "      <td>02:12</td>\n",
       "    </tr>\n",
       "    <tr>\n",
       "      <td>11</td>\n",
       "      <td>0.634941</td>\n",
       "      <td>0.634312</td>\n",
       "      <td>16.828323</td>\n",
       "      <td>02:13</td>\n",
       "    </tr>\n",
       "    <tr>\n",
       "      <td>12</td>\n",
       "      <td>0.635340</td>\n",
       "      <td>0.634182</td>\n",
       "      <td>16.810312</td>\n",
       "      <td>02:13</td>\n",
       "    </tr>\n",
       "    <tr>\n",
       "      <td>13</td>\n",
       "      <td>0.634985</td>\n",
       "      <td>0.634300</td>\n",
       "      <td>16.826641</td>\n",
       "      <td>02:12</td>\n",
       "    </tr>\n",
       "    <tr>\n",
       "      <td>14</td>\n",
       "      <td>0.633709</td>\n",
       "      <td>0.634340</td>\n",
       "      <td>16.832481</td>\n",
       "      <td>02:13</td>\n",
       "    </tr>\n",
       "  </tbody>\n",
       "</table>"
      ],
      "text/plain": [
       "<IPython.core.display.HTML object>"
      ]
     },
     "metadata": {},
     "output_type": "display_data"
    },
    {
     "name": "stdout",
     "output_type": "stream",
     "text": [
      "Better model found at epoch 0 with valid_loss value: 0.6349853277206421.\n",
      "Better model found at epoch 2 with valid_loss value: 0.6349267363548279.\n",
      "Better model found at epoch 3 with valid_loss value: 0.6348020434379578.\n",
      "Better model found at epoch 4 with valid_loss value: 0.6347007751464844.\n",
      "Better model found at epoch 5 with valid_loss value: 0.6346345543861389.\n",
      "Better model found at epoch 6 with valid_loss value: 0.6344127655029297.\n",
      "Better model found at epoch 7 with valid_loss value: 0.6343452334403992.\n",
      "Better model found at epoch 10 with valid_loss value: 0.63429856300354.\n",
      "Better model found at epoch 12 with valid_loss value: 0.6341819763183594.\n"
     ]
    },
    {
     "data": {
      "text/html": [
       "<table border=\"1\" class=\"dataframe\">\n",
       "  <thead>\n",
       "    <tr style=\"text-align: left;\">\n",
       "      <th>epoch</th>\n",
       "      <th>train_loss</th>\n",
       "      <th>valid_loss</th>\n",
       "      <th>petfinder_rmse</th>\n",
       "      <th>time</th>\n",
       "    </tr>\n",
       "  </thead>\n",
       "  <tbody>\n",
       "    <tr>\n",
       "      <td>0</td>\n",
       "      <td>0.637090</td>\n",
       "      <td>0.636475</td>\n",
       "      <td>17.075413</td>\n",
       "      <td>02:13</td>\n",
       "    </tr>\n",
       "    <tr>\n",
       "      <td>1</td>\n",
       "      <td>0.637862</td>\n",
       "      <td>0.636537</td>\n",
       "      <td>17.082491</td>\n",
       "      <td>02:12</td>\n",
       "    </tr>\n",
       "    <tr>\n",
       "      <td>2</td>\n",
       "      <td>0.638228</td>\n",
       "      <td>0.636265</td>\n",
       "      <td>17.048178</td>\n",
       "      <td>02:11</td>\n",
       "    </tr>\n",
       "    <tr>\n",
       "      <td>3</td>\n",
       "      <td>0.637939</td>\n",
       "      <td>0.636330</td>\n",
       "      <td>17.056971</td>\n",
       "      <td>02:13</td>\n",
       "    </tr>\n",
       "    <tr>\n",
       "      <td>4</td>\n",
       "      <td>0.636646</td>\n",
       "      <td>0.636489</td>\n",
       "      <td>17.078690</td>\n",
       "      <td>02:13</td>\n",
       "    </tr>\n",
       "    <tr>\n",
       "      <td>5</td>\n",
       "      <td>0.637285</td>\n",
       "      <td>0.636250</td>\n",
       "      <td>17.048088</td>\n",
       "      <td>02:12</td>\n",
       "    </tr>\n",
       "    <tr>\n",
       "      <td>6</td>\n",
       "      <td>0.636335</td>\n",
       "      <td>0.636130</td>\n",
       "      <td>17.031816</td>\n",
       "      <td>02:13</td>\n",
       "    </tr>\n",
       "    <tr>\n",
       "      <td>7</td>\n",
       "      <td>0.636097</td>\n",
       "      <td>0.636371</td>\n",
       "      <td>17.063511</td>\n",
       "      <td>02:12</td>\n",
       "    </tr>\n",
       "    <tr>\n",
       "      <td>8</td>\n",
       "      <td>0.636354</td>\n",
       "      <td>0.636337</td>\n",
       "      <td>17.059626</td>\n",
       "      <td>02:12</td>\n",
       "    </tr>\n",
       "    <tr>\n",
       "      <td>9</td>\n",
       "      <td>0.636688</td>\n",
       "      <td>0.636038</td>\n",
       "      <td>17.020403</td>\n",
       "      <td>02:12</td>\n",
       "    </tr>\n",
       "    <tr>\n",
       "      <td>10</td>\n",
       "      <td>0.634728</td>\n",
       "      <td>0.636093</td>\n",
       "      <td>17.027296</td>\n",
       "      <td>02:13</td>\n",
       "    </tr>\n",
       "    <tr>\n",
       "      <td>11</td>\n",
       "      <td>0.635812</td>\n",
       "      <td>0.636170</td>\n",
       "      <td>17.038914</td>\n",
       "      <td>02:13</td>\n",
       "    </tr>\n",
       "    <tr>\n",
       "      <td>12</td>\n",
       "      <td>0.635457</td>\n",
       "      <td>0.636076</td>\n",
       "      <td>17.025656</td>\n",
       "      <td>02:13</td>\n",
       "    </tr>\n",
       "  </tbody>\n",
       "</table>"
      ],
      "text/plain": [
       "<IPython.core.display.HTML object>"
      ]
     },
     "metadata": {},
     "output_type": "display_data"
    },
    {
     "name": "stdout",
     "output_type": "stream",
     "text": [
      "Better model found at epoch 0 with valid_loss value: 0.6364746689796448.\n",
      "Better model found at epoch 2 with valid_loss value: 0.6362650990486145.\n",
      "Better model found at epoch 5 with valid_loss value: 0.636250376701355.\n",
      "Better model found at epoch 6 with valid_loss value: 0.6361302137374878.\n",
      "Better model found at epoch 9 with valid_loss value: 0.6360381841659546.\n",
      "No improvement since epoch 9: early stopping\n"
     ]
    },
    {
     "data": {
      "text/html": [
       "<table border=\"1\" class=\"dataframe\">\n",
       "  <thead>\n",
       "    <tr style=\"text-align: left;\">\n",
       "      <th>epoch</th>\n",
       "      <th>train_loss</th>\n",
       "      <th>valid_loss</th>\n",
       "      <th>petfinder_rmse</th>\n",
       "      <th>time</th>\n",
       "    </tr>\n",
       "  </thead>\n",
       "  <tbody>\n",
       "    <tr>\n",
       "      <td>0</td>\n",
       "      <td>0.636789</td>\n",
       "      <td>0.631140</td>\n",
       "      <td>16.320730</td>\n",
       "      <td>02:13</td>\n",
       "    </tr>\n",
       "    <tr>\n",
       "      <td>1</td>\n",
       "      <td>0.638270</td>\n",
       "      <td>0.630912</td>\n",
       "      <td>16.292643</td>\n",
       "      <td>02:12</td>\n",
       "    </tr>\n",
       "    <tr>\n",
       "      <td>2</td>\n",
       "      <td>0.640310</td>\n",
       "      <td>0.630858</td>\n",
       "      <td>16.286602</td>\n",
       "      <td>02:12</td>\n",
       "    </tr>\n",
       "    <tr>\n",
       "      <td>3</td>\n",
       "      <td>0.640527</td>\n",
       "      <td>0.630769</td>\n",
       "      <td>16.272884</td>\n",
       "      <td>02:13</td>\n",
       "    </tr>\n",
       "    <tr>\n",
       "      <td>4</td>\n",
       "      <td>0.638347</td>\n",
       "      <td>0.630825</td>\n",
       "      <td>16.279636</td>\n",
       "      <td>02:13</td>\n",
       "    </tr>\n",
       "    <tr>\n",
       "      <td>5</td>\n",
       "      <td>0.638393</td>\n",
       "      <td>0.630876</td>\n",
       "      <td>16.288824</td>\n",
       "      <td>02:13</td>\n",
       "    </tr>\n",
       "    <tr>\n",
       "      <td>6</td>\n",
       "      <td>0.638608</td>\n",
       "      <td>0.630585</td>\n",
       "      <td>16.249084</td>\n",
       "      <td>02:12</td>\n",
       "    </tr>\n",
       "    <tr>\n",
       "      <td>7</td>\n",
       "      <td>0.636981</td>\n",
       "      <td>0.630624</td>\n",
       "      <td>16.256193</td>\n",
       "      <td>02:12</td>\n",
       "    </tr>\n",
       "    <tr>\n",
       "      <td>8</td>\n",
       "      <td>0.636265</td>\n",
       "      <td>0.630538</td>\n",
       "      <td>16.241451</td>\n",
       "      <td>02:11</td>\n",
       "    </tr>\n",
       "    <tr>\n",
       "      <td>9</td>\n",
       "      <td>0.637245</td>\n",
       "      <td>0.630517</td>\n",
       "      <td>16.241983</td>\n",
       "      <td>02:11</td>\n",
       "    </tr>\n",
       "    <tr>\n",
       "      <td>10</td>\n",
       "      <td>0.637547</td>\n",
       "      <td>0.630371</td>\n",
       "      <td>16.220860</td>\n",
       "      <td>02:12</td>\n",
       "    </tr>\n",
       "    <tr>\n",
       "      <td>11</td>\n",
       "      <td>0.636471</td>\n",
       "      <td>0.630446</td>\n",
       "      <td>16.228889</td>\n",
       "      <td>02:12</td>\n",
       "    </tr>\n",
       "    <tr>\n",
       "      <td>12</td>\n",
       "      <td>0.638203</td>\n",
       "      <td>0.630454</td>\n",
       "      <td>16.232998</td>\n",
       "      <td>02:12</td>\n",
       "    </tr>\n",
       "    <tr>\n",
       "      <td>13</td>\n",
       "      <td>0.637076</td>\n",
       "      <td>0.630399</td>\n",
       "      <td>16.225990</td>\n",
       "      <td>02:13</td>\n",
       "    </tr>\n",
       "  </tbody>\n",
       "</table>"
      ],
      "text/plain": [
       "<IPython.core.display.HTML object>"
      ]
     },
     "metadata": {},
     "output_type": "display_data"
    },
    {
     "name": "stdout",
     "output_type": "stream",
     "text": [
      "Better model found at epoch 0 with valid_loss value: 0.631140410900116.\n",
      "Better model found at epoch 1 with valid_loss value: 0.630911648273468.\n",
      "Better model found at epoch 2 with valid_loss value: 0.6308581233024597.\n",
      "Better model found at epoch 3 with valid_loss value: 0.6307692527770996.\n",
      "Better model found at epoch 6 with valid_loss value: 0.6305851340293884.\n",
      "Better model found at epoch 8 with valid_loss value: 0.6305384039878845.\n",
      "Better model found at epoch 9 with valid_loss value: 0.6305174827575684.\n",
      "Better model found at epoch 10 with valid_loss value: 0.6303712129592896.\n",
      "No improvement since epoch 10: early stopping\n"
     ]
    },
    {
     "data": {
      "text/html": [
       "<table border=\"1\" class=\"dataframe\">\n",
       "  <thead>\n",
       "    <tr style=\"text-align: left;\">\n",
       "      <th>epoch</th>\n",
       "      <th>train_loss</th>\n",
       "      <th>valid_loss</th>\n",
       "      <th>petfinder_rmse</th>\n",
       "      <th>time</th>\n",
       "    </tr>\n",
       "  </thead>\n",
       "  <tbody>\n",
       "    <tr>\n",
       "      <td>0</td>\n",
       "      <td>0.637489</td>\n",
       "      <td>0.635110</td>\n",
       "      <td>16.913961</td>\n",
       "      <td>02:13</td>\n",
       "    </tr>\n",
       "    <tr>\n",
       "      <td>1</td>\n",
       "      <td>0.636458</td>\n",
       "      <td>0.635094</td>\n",
       "      <td>16.913055</td>\n",
       "      <td>02:12</td>\n",
       "    </tr>\n",
       "    <tr>\n",
       "      <td>2</td>\n",
       "      <td>0.638649</td>\n",
       "      <td>0.634918</td>\n",
       "      <td>16.890318</td>\n",
       "      <td>02:12</td>\n",
       "    </tr>\n",
       "    <tr>\n",
       "      <td>3</td>\n",
       "      <td>0.638126</td>\n",
       "      <td>0.634797</td>\n",
       "      <td>16.874161</td>\n",
       "      <td>02:11</td>\n",
       "    </tr>\n",
       "    <tr>\n",
       "      <td>4</td>\n",
       "      <td>0.639368</td>\n",
       "      <td>0.634783</td>\n",
       "      <td>16.873316</td>\n",
       "      <td>02:11</td>\n",
       "    </tr>\n",
       "    <tr>\n",
       "      <td>5</td>\n",
       "      <td>0.638017</td>\n",
       "      <td>0.634715</td>\n",
       "      <td>16.864052</td>\n",
       "      <td>02:11</td>\n",
       "    </tr>\n",
       "    <tr>\n",
       "      <td>6</td>\n",
       "      <td>0.636554</td>\n",
       "      <td>0.634622</td>\n",
       "      <td>16.853086</td>\n",
       "      <td>02:12</td>\n",
       "    </tr>\n",
       "    <tr>\n",
       "      <td>7</td>\n",
       "      <td>0.635737</td>\n",
       "      <td>0.634610</td>\n",
       "      <td>16.849644</td>\n",
       "      <td>02:12</td>\n",
       "    </tr>\n",
       "    <tr>\n",
       "      <td>8</td>\n",
       "      <td>0.635236</td>\n",
       "      <td>0.634662</td>\n",
       "      <td>16.857853</td>\n",
       "      <td>02:11</td>\n",
       "    </tr>\n",
       "    <tr>\n",
       "      <td>9</td>\n",
       "      <td>0.634129</td>\n",
       "      <td>0.634621</td>\n",
       "      <td>16.851658</td>\n",
       "      <td>02:12</td>\n",
       "    </tr>\n",
       "    <tr>\n",
       "      <td>10</td>\n",
       "      <td>0.635720</td>\n",
       "      <td>0.634542</td>\n",
       "      <td>16.841404</td>\n",
       "      <td>02:12</td>\n",
       "    </tr>\n",
       "    <tr>\n",
       "      <td>11</td>\n",
       "      <td>0.636577</td>\n",
       "      <td>0.634493</td>\n",
       "      <td>16.835154</td>\n",
       "      <td>02:12</td>\n",
       "    </tr>\n",
       "    <tr>\n",
       "      <td>12</td>\n",
       "      <td>0.635561</td>\n",
       "      <td>0.634481</td>\n",
       "      <td>16.835020</td>\n",
       "      <td>02:12</td>\n",
       "    </tr>\n",
       "    <tr>\n",
       "      <td>13</td>\n",
       "      <td>0.635666</td>\n",
       "      <td>0.634422</td>\n",
       "      <td>16.826227</td>\n",
       "      <td>02:14</td>\n",
       "    </tr>\n",
       "    <tr>\n",
       "      <td>14</td>\n",
       "      <td>0.635835</td>\n",
       "      <td>0.634489</td>\n",
       "      <td>16.834755</td>\n",
       "      <td>02:13</td>\n",
       "    </tr>\n",
       "  </tbody>\n",
       "</table>"
      ],
      "text/plain": [
       "<IPython.core.display.HTML object>"
      ]
     },
     "metadata": {},
     "output_type": "display_data"
    },
    {
     "name": "stdout",
     "output_type": "stream",
     "text": [
      "Better model found at epoch 0 with valid_loss value: 0.6351096034049988.\n",
      "Better model found at epoch 1 with valid_loss value: 0.6350937485694885.\n",
      "Better model found at epoch 2 with valid_loss value: 0.6349181532859802.\n",
      "Better model found at epoch 3 with valid_loss value: 0.6347973942756653.\n",
      "Better model found at epoch 4 with valid_loss value: 0.6347833275794983.\n",
      "Better model found at epoch 5 with valid_loss value: 0.6347151398658752.\n",
      "Better model found at epoch 6 with valid_loss value: 0.6346219778060913.\n",
      "Better model found at epoch 7 with valid_loss value: 0.6346096396446228.\n",
      "Better model found at epoch 10 with valid_loss value: 0.6345424652099609.\n",
      "Better model found at epoch 11 with valid_loss value: 0.6344925761222839.\n",
      "Better model found at epoch 12 with valid_loss value: 0.634480893611908.\n",
      "Better model found at epoch 13 with valid_loss value: 0.6344224214553833.\n"
     ]
    }
   ],
   "source": [
    "all_preds = []\n",
    "\n",
    "for fold in range(CFG[\"fold\"]):\n",
    "    learn = get_learner(df_train, fold)\n",
    "    learn.fit_one_cycle(\n",
    "        CFG[\"epochs\"],\n",
    "        CFG[\"lr\"],\n",
    "        cbs=[SaveModelCallback(),\n",
    "             EarlyStoppingCallback(monitor='petfinder_rmse',\n",
    "                                   comp=np.less,\n",
    "                                   patience=CFG['early_stopping'])]\n",
    "    )\n",
    "    shutil.move(\"./models/model.pth\", f\"{CFG['output_path']}{CFG['save_name']}_{fold}.pth\")\n",
    "    \n",
    "    del learn\n",
    "    torch.cuda.empty_cache()\n",
    "    gc.collect()\n",
    "    \n",
    "!rm -rf ./models"
   ]
  }
 ],
 "metadata": {
  "kernelspec": {
   "display_name": "Python 3",
   "language": "python",
   "name": "python3"
  },
  "language_info": {
   "codemirror_mode": {
    "name": "ipython",
    "version": 3
   },
   "file_extension": ".py",
   "mimetype": "text/x-python",
   "name": "python",
   "nbconvert_exporter": "python",
   "pygments_lexer": "ipython3",
   "version": "3.7.10"
  },
  "papermill": {
   "default_parameters": {},
   "duration": 7635.617833,
   "end_time": "2022-01-05T06:47:00.362569",
   "environment_variables": {},
   "exception": null,
   "input_path": "__notebook__.ipynb",
   "output_path": "__notebook__.ipynb",
   "parameters": {},
   "start_time": "2022-01-05T04:39:44.744736",
   "version": "2.3.3"
  }
 },
 "nbformat": 4,
 "nbformat_minor": 5
}
