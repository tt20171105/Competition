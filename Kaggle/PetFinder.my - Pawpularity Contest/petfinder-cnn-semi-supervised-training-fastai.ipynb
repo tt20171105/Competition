{
 "cells": [
  {
   "cell_type": "code",
   "execution_count": 1,
   "id": "19627821",
   "metadata": {
    "_cell_guid": "b1076dfc-b9ad-4769-8c92-a6c4dae69d19",
    "_uuid": "8f2839f25d086af736a60e9eeb907d3b93b6e0e5",
    "execution": {
     "iopub.execute_input": "2022-01-09T14:26:31.900477Z",
     "iopub.status.busy": "2022-01-09T14:26:31.898981Z",
     "iopub.status.idle": "2022-01-09T14:26:31.908479Z",
     "shell.execute_reply": "2022-01-09T14:26:31.907908Z",
     "shell.execute_reply.started": "2022-01-09T14:23:55.354562Z"
    },
    "papermill": {
     "duration": 0.026901,
     "end_time": "2022-01-09T14:26:31.908617",
     "exception": false,
     "start_time": "2022-01-09T14:26:31.881716",
     "status": "completed"
    },
    "tags": []
   },
   "outputs": [],
   "source": [
    "import sys\n",
    "sys.path.append('../input/timm-pytorch-image-models/pytorch-image-models-master')\n",
    "sys.path.append('../input/pytorch-optimizers/')"
   ]
  },
  {
   "cell_type": "code",
   "execution_count": 2,
   "id": "292109cf",
   "metadata": {
    "execution": {
     "iopub.execute_input": "2022-01-09T14:26:31.936393Z",
     "iopub.status.busy": "2022-01-09T14:26:31.935720Z",
     "iopub.status.idle": "2022-01-09T14:26:40.179258Z",
     "shell.execute_reply": "2022-01-09T14:26:40.178746Z",
     "shell.execute_reply.started": "2022-01-09T14:23:55.377653Z"
    },
    "papermill": {
     "duration": 8.260381,
     "end_time": "2022-01-09T14:26:40.179396",
     "exception": false,
     "start_time": "2022-01-09T14:26:31.919015",
     "status": "completed"
    },
    "tags": []
   },
   "outputs": [],
   "source": [
    "import os\n",
    "import gc\n",
    "import cv2\n",
    "import copy\n",
    "import time\n",
    "import yaml\n",
    "import random\n",
    "import shutil\n",
    "import warnings\n",
    "import subprocess\n",
    "import numpy as np\n",
    "import pandas as pd\n",
    "import matplotlib.pyplot as plt\n",
    "from glob import glob as glob_file\n",
    "from tqdm import tqdm\n",
    "from PIL import Image, ImageDraw\n",
    "from shutil import copyfile\n",
    "from IPython.core.display import Video, display\n",
    "from sklearn.metrics import mean_squared_error\n",
    "from sklearn.model_selection import train_test_split, KFold, GroupKFold, StratifiedKFold\n",
    "\n",
    "import timm\n",
    "import torch\n",
    "from fastai.vision.all import *\n",
    "\n",
    "warnings.simplefilter('ignore')\n",
    "pd.set_option(\"max_columns\", 150)\n",
    "pd.set_option('display.max_rows', 150)"
   ]
  },
  {
   "cell_type": "markdown",
   "id": "6896ae06",
   "metadata": {
    "papermill": {
     "duration": 0.010001,
     "end_time": "2022-01-09T14:26:40.199817",
     "exception": false,
     "start_time": "2022-01-09T14:26:40.189816",
     "status": "completed"
    },
    "tags": []
   },
   "source": [
    "# Configuration"
   ]
  },
  {
   "cell_type": "code",
   "execution_count": 3,
   "id": "dc9eae27",
   "metadata": {
    "execution": {
     "iopub.execute_input": "2022-01-09T14:26:40.231495Z",
     "iopub.status.busy": "2022-01-09T14:26:40.230668Z",
     "iopub.status.idle": "2022-01-09T14:26:40.234334Z",
     "shell.execute_reply": "2022-01-09T14:26:40.234829Z",
     "shell.execute_reply.started": "2022-01-09T14:24:03.114109Z"
    },
    "papermill": {
     "duration": 0.024973,
     "end_time": "2022-01-09T14:26:40.234982",
     "exception": false,
     "start_time": "2022-01-09T14:26:40.210009",
     "status": "completed"
    },
    "tags": []
   },
   "outputs": [
    {
     "data": {
      "text/plain": [
       "{'save_prev': [True, ['petfinder_*4*']],\n",
       " 'seed': 42,\n",
       " 'device': 'cuda:0',\n",
       " 'input_trimg': '../input/petfinder-pawpularity-score/train/',\n",
       " 'input_trpath': '../input/petfinder-smogn-dataset/train_drop_duplicated.csv',\n",
       " 'input_eximg': '../input/petfinder-adoption-prediction/train_images/',\n",
       " 'input_expath': '../input/petfinder-pseudolabel-dataset/train.csv',\n",
       " 'output_path': './',\n",
       " 'save_name': 'petfinder_swin_rmse_ss_fastai',\n",
       " 'model': 'swin_large_patch4_window7_224_in22k',\n",
       " 'loss': 'rmse',\n",
       " 'size': 224,\n",
       " 'fold': 4,\n",
       " 'batch_size': 32,\n",
       " 'epochs': 5,\n",
       " 'n_data': 30000,\n",
       " 'mixup_ratio': 0,\n",
       " 'lr': 0.0001,\n",
       " 'early_stopping': 3,\n",
       " 'num_workers': 4}"
      ]
     },
     "execution_count": 3,
     "metadata": {},
     "output_type": "execute_result"
    }
   ],
   "source": [
    "CFG = {\n",
    "    \"save_prev\"     : [True, [\"petfinder_*4*\"]],\n",
    "    \"seed\"          : 42,\n",
    "    'device'        : \"cuda:0\" if torch.cuda.is_available() else \"cpu\",\n",
    "    \"input_trimg\"   : '../input/petfinder-pawpularity-score/train/',\n",
    "    \"input_trpath\"  : '../input/petfinder-smogn-dataset/train_drop_duplicated.csv',\n",
    "    \"input_eximg\"   : '../input/petfinder-adoption-prediction/train_images/',\n",
    "    \"input_expath\"  : '../input/petfinder-pseudolabel-dataset/train.csv',\n",
    "    \"output_path\"   : './',\n",
    "    \"save_name\"     : \"petfinder_swin_rmse_ss_fastai\",\n",
    "    \"model\"         : \"swin_large_patch4_window7_224_in22k\",\n",
    "    \"loss\"          : \"rmse\",\n",
    "    \"size\"          : 224,\n",
    "    \"fold\"          : 4,\n",
    "    \"batch_size\"    : 32,\n",
    "    \"epochs\"        : 5,\n",
    "    \"n_data\"        : 30000,\n",
    "    \"mixup_ratio\"   : 0,\n",
    "    \"lr\"            : 1e-4,\n",
    "    'early_stopping': 3,\n",
    "    \"num_workers\"   : 4\n",
    "}\n",
    "\n",
    "CFG"
   ]
  },
  {
   "cell_type": "code",
   "execution_count": 4,
   "id": "fba90d2e",
   "metadata": {
    "execution": {
     "iopub.execute_input": "2022-01-09T14:26:40.266737Z",
     "iopub.status.busy": "2022-01-09T14:26:40.265152Z",
     "iopub.status.idle": "2022-01-09T14:26:40.267346Z",
     "shell.execute_reply": "2022-01-09T14:26:40.267744Z",
     "shell.execute_reply.started": "2022-01-09T14:24:03.127901Z"
    },
    "papermill": {
     "duration": 0.02211,
     "end_time": "2022-01-09T14:26:40.267877",
     "exception": false,
     "start_time": "2022-01-09T14:26:40.245767",
     "status": "completed"
    },
    "tags": []
   },
   "outputs": [],
   "source": [
    "def get_img(path):\n",
    "    im_bgr = cv2.imread(path)\n",
    "    im_rgb = im_bgr[:, :, ::-1]\n",
    "    return im_rgb\n",
    "\n",
    "def sigmoid(a):\n",
    "    return 1 / (1 + np.exp(-a))\n",
    "\n",
    "def softmax(x):\n",
    "    max = np.max(x,axis=1,keepdims=True)\n",
    "    e_x = np.exp(x - max)\n",
    "    sum = np.sum(e_x,axis=1,keepdims=True)\n",
    "    return e_x / sum \n",
    "\n",
    "def seed_everything(seed = 42):\n",
    "    '''Sets the seed of the entire notebook so results are the same every time we run.\n",
    "    This is for REPRODUCIBILITY.'''\n",
    "    np.random.seed(seed)\n",
    "    random.seed(seed)\n",
    "    torch.manual_seed(seed)\n",
    "    torch.cuda.manual_seed(seed)\n",
    "    # When running on the CuDNN backend, two further options must be set\n",
    "    torch.backends.cudnn.deterministic = True\n",
    "    torch.backends.cudnn.benchmark = False\n",
    "    # Set a fixed value for the hash seed\n",
    "    os.environ['PYTHONHASHSEED'] = str(seed)\n",
    "    \n",
    "seed_everything(CFG[\"seed\"])"
   ]
  },
  {
   "cell_type": "code",
   "execution_count": 5,
   "id": "9a85d57d",
   "metadata": {
    "execution": {
     "iopub.execute_input": "2022-01-09T14:26:40.295320Z",
     "iopub.status.busy": "2022-01-09T14:26:40.294635Z",
     "iopub.status.idle": "2022-01-09T14:27:05.522835Z",
     "shell.execute_reply": "2022-01-09T14:27:05.521595Z",
     "shell.execute_reply.started": "2022-01-09T14:24:03.141715Z"
    },
    "papermill": {
     "duration": 25.244624,
     "end_time": "2022-01-09T14:27:05.522992",
     "exception": false,
     "start_time": "2022-01-09T14:26:40.278368",
     "status": "completed"
    },
    "tags": []
   },
   "outputs": [
    {
     "name": "stdout",
     "output_type": "stream",
     "text": [
      "petfinder_swin_binary_ss_fastai_smogn_4.pth\n",
      "petfinder_beit_binary_ss_fastai_4.pth\n",
      "petfinder_swin_binary_ss_fastai_4.pth\n",
      "petfinder_effnet_binary_ss_fastai_4.pth\n"
     ]
    }
   ],
   "source": [
    "if CFG['save_prev'][0]:\n",
    "    for file_pattern in CFG['save_prev'][1]:\n",
    "        for f in glob_file(f\"../input/petfinder-fastai-semisupervised-models/{file_pattern}\"):\n",
    "            filename = os.path.basename(f)\n",
    "            print(filename)\n",
    "            !cp {f} ./{filename.replace(\"efnet\",\"effnet\")}"
   ]
  },
  {
   "cell_type": "markdown",
   "id": "d2b58175",
   "metadata": {
    "papermill": {
     "duration": 0.011351,
     "end_time": "2022-01-09T14:27:05.546283",
     "exception": false,
     "start_time": "2022-01-09T14:27:05.534932",
     "status": "completed"
    },
    "tags": []
   },
   "source": [
    "# Load data"
   ]
  },
  {
   "cell_type": "code",
   "execution_count": 6,
   "id": "44b60f26",
   "metadata": {
    "execution": {
     "iopub.execute_input": "2022-01-09T14:27:05.577732Z",
     "iopub.status.busy": "2022-01-09T14:27:05.577094Z",
     "iopub.status.idle": "2022-01-09T14:27:05.761886Z",
     "shell.execute_reply": "2022-01-09T14:27:05.762405Z",
     "shell.execute_reply.started": "2022-01-09T14:24:24.250572Z"
    },
    "papermill": {
     "duration": 0.20481,
     "end_time": "2022-01-09T14:27:05.762566",
     "exception": false,
     "start_time": "2022-01-09T14:27:05.557756",
     "status": "completed"
    },
    "tags": []
   },
   "outputs": [
    {
     "name": "stdout",
     "output_type": "stream",
     "text": [
      "(9860, 16) (58311, 3)\n"
     ]
    },
    {
     "data": {
      "text/html": [
       "<div>\n",
       "<style scoped>\n",
       "    .dataframe tbody tr th:only-of-type {\n",
       "        vertical-align: middle;\n",
       "    }\n",
       "\n",
       "    .dataframe tbody tr th {\n",
       "        vertical-align: top;\n",
       "    }\n",
       "\n",
       "    .dataframe thead th {\n",
       "        text-align: right;\n",
       "    }\n",
       "</style>\n",
       "<table border=\"1\" class=\"dataframe\">\n",
       "  <thead>\n",
       "    <tr style=\"text-align: right;\">\n",
       "      <th></th>\n",
       "      <th>Id</th>\n",
       "      <th>Subject Focus</th>\n",
       "      <th>Eyes</th>\n",
       "      <th>Face</th>\n",
       "      <th>Near</th>\n",
       "      <th>Action</th>\n",
       "      <th>Accessory</th>\n",
       "      <th>Group</th>\n",
       "      <th>Collage</th>\n",
       "      <th>Human</th>\n",
       "      <th>Occlusion</th>\n",
       "      <th>Info</th>\n",
       "      <th>Blur</th>\n",
       "      <th>Pawpularity</th>\n",
       "      <th>path</th>\n",
       "      <th>Pawclass</th>\n",
       "    </tr>\n",
       "  </thead>\n",
       "  <tbody>\n",
       "    <tr>\n",
       "      <th>0</th>\n",
       "      <td>0007de18844b0dbbb5e1f607da0606e0</td>\n",
       "      <td>0</td>\n",
       "      <td>1</td>\n",
       "      <td>1</td>\n",
       "      <td>1</td>\n",
       "      <td>0</td>\n",
       "      <td>0</td>\n",
       "      <td>1</td>\n",
       "      <td>0</td>\n",
       "      <td>0</td>\n",
       "      <td>0</td>\n",
       "      <td>0</td>\n",
       "      <td>0</td>\n",
       "      <td>63</td>\n",
       "      <td>../input/petfinder-pawpularity-score/train/0007de18844b0dbbb5e1f607da0606e0.jpg</td>\n",
       "      <td>0.63</td>\n",
       "    </tr>\n",
       "    <tr>\n",
       "      <th>1</th>\n",
       "      <td>0009c66b9439883ba2750fb825e1d7db</td>\n",
       "      <td>0</td>\n",
       "      <td>1</td>\n",
       "      <td>1</td>\n",
       "      <td>0</td>\n",
       "      <td>0</td>\n",
       "      <td>0</td>\n",
       "      <td>0</td>\n",
       "      <td>0</td>\n",
       "      <td>0</td>\n",
       "      <td>0</td>\n",
       "      <td>0</td>\n",
       "      <td>0</td>\n",
       "      <td>42</td>\n",
       "      <td>../input/petfinder-pawpularity-score/train/0009c66b9439883ba2750fb825e1d7db.jpg</td>\n",
       "      <td>0.42</td>\n",
       "    </tr>\n",
       "  </tbody>\n",
       "</table>\n",
       "</div>"
      ],
      "text/plain": [
       "                                 Id  Subject Focus  Eyes  Face  Near  Action  \\\n",
       "0  0007de18844b0dbbb5e1f607da0606e0              0     1     1     1       0   \n",
       "1  0009c66b9439883ba2750fb825e1d7db              0     1     1     0       0   \n",
       "\n",
       "   Accessory  Group  Collage  Human  Occlusion  Info  Blur  Pawpularity  \\\n",
       "0          0      1        0      0          0     0     0           63   \n",
       "1          0      0        0      0          0     0     0           42   \n",
       "\n",
       "                                                                              path  \\\n",
       "0  ../input/petfinder-pawpularity-score/train/0007de18844b0dbbb5e1f607da0606e0.jpg   \n",
       "1  ../input/petfinder-pawpularity-score/train/0009c66b9439883ba2750fb825e1d7db.jpg   \n",
       "\n",
       "   Pawclass  \n",
       "0      0.63  \n",
       "1      0.42  "
      ]
     },
     "metadata": {},
     "output_type": "display_data"
    },
    {
     "data": {
      "text/html": [
       "<div>\n",
       "<style scoped>\n",
       "    .dataframe tbody tr th:only-of-type {\n",
       "        vertical-align: middle;\n",
       "    }\n",
       "\n",
       "    .dataframe tbody tr th {\n",
       "        vertical-align: top;\n",
       "    }\n",
       "\n",
       "    .dataframe thead th {\n",
       "        text-align: right;\n",
       "    }\n",
       "</style>\n",
       "<table border=\"1\" class=\"dataframe\">\n",
       "  <thead>\n",
       "    <tr style=\"text-align: right;\">\n",
       "      <th></th>\n",
       "      <th>path</th>\n",
       "      <th>Pawpularity</th>\n",
       "      <th>Pawclass</th>\n",
       "    </tr>\n",
       "  </thead>\n",
       "  <tbody>\n",
       "    <tr>\n",
       "      <th>0</th>\n",
       "      <td>../input/petfinder-adoption-prediction/train_images/cf8d949f9-2.jpg</td>\n",
       "      <td>33.240160</td>\n",
       "      <td>0.332402</td>\n",
       "    </tr>\n",
       "    <tr>\n",
       "      <th>1</th>\n",
       "      <td>../input/petfinder-adoption-prediction/train_images/61d4dc56b-12.jpg</td>\n",
       "      <td>23.821459</td>\n",
       "      <td>0.238215</td>\n",
       "    </tr>\n",
       "  </tbody>\n",
       "</table>\n",
       "</div>"
      ],
      "text/plain": [
       "                                                                   path  \\\n",
       "0   ../input/petfinder-adoption-prediction/train_images/cf8d949f9-2.jpg   \n",
       "1  ../input/petfinder-adoption-prediction/train_images/61d4dc56b-12.jpg   \n",
       "\n",
       "   Pawpularity  Pawclass  \n",
       "0    33.240160  0.332402  \n",
       "1    23.821459  0.238215  "
      ]
     },
     "metadata": {},
     "output_type": "display_data"
    }
   ],
   "source": [
    "df_train = pd.read_csv(CFG['input_trpath'])\n",
    "df_train[\"path\"] = [f\"{CFG['input_trimg']}{i}.jpg\" for i in df_train.Id]\n",
    "df_train[\"Pawclass\"] = df_train.Pawpularity / 100\n",
    "\n",
    "df_exdata = pd.read_csv(CFG['input_expath'])\n",
    "df_exdata[\"Pawclass\"] = df_exdata.Pawpularity / 100\n",
    "\n",
    "print(df_train.shape, df_exdata.shape)\n",
    "display(df_train.head(2))\n",
    "display(df_exdata.head(2))"
   ]
  },
  {
   "cell_type": "code",
   "execution_count": 7,
   "id": "009ca91e",
   "metadata": {
    "execution": {
     "iopub.execute_input": "2022-01-09T14:27:06.708375Z",
     "iopub.status.busy": "2022-01-09T14:27:06.707521Z",
     "iopub.status.idle": "2022-01-09T14:27:07.138060Z",
     "shell.execute_reply": "2022-01-09T14:27:07.138453Z",
     "shell.execute_reply.started": "2022-01-09T14:24:24.443500Z"
    },
    "papermill": {
     "duration": 1.362141,
     "end_time": "2022-01-09T14:27:07.138609",
     "exception": false,
     "start_time": "2022-01-09T14:27:05.776468",
     "status": "completed"
    },
    "tags": []
   },
   "outputs": [
    {
     "data": {
      "text/plain": [
       "<AxesSubplot:>"
      ]
     },
     "execution_count": 7,
     "metadata": {},
     "output_type": "execute_result"
    },
    {
     "data": {
      "image/png": "[encoded data removed]",
      "text/plain": [
       "<Figure size 432x288 with 1 Axes>"
      ]
     },
     "metadata": {
      "needs_background": "light"
     },
     "output_type": "display_data"
    }
   ],
   "source": [
    "df_train.Pawpularity.hist(bins=100)"
   ]
  },
  {
   "cell_type": "code",
   "execution_count": 8,
   "id": "e7f46af2",
   "metadata": {
    "execution": {
     "iopub.execute_input": "2022-01-09T14:27:07.196301Z",
     "iopub.status.busy": "2022-01-09T14:27:07.195094Z",
     "iopub.status.idle": "2022-01-09T14:27:07.795802Z",
     "shell.execute_reply": "2022-01-09T14:27:07.797347Z",
     "shell.execute_reply.started": "2022-01-09T14:24:26.213341Z"
    },
    "papermill": {
     "duration": 0.645368,
     "end_time": "2022-01-09T14:27:07.797626",
     "exception": false,
     "start_time": "2022-01-09T14:27:07.152258",
     "status": "completed"
    },
    "tags": []
   },
   "outputs": [
    {
     "data": {
      "text/plain": [
       "<AxesSubplot:>"
      ]
     },
     "execution_count": 8,
     "metadata": {},
     "output_type": "execute_result"
    },
    {
     "data": {
      "image/png": "[encoded data removed]",
      "text/plain": [
       "<Figure size 432x288 with 1 Axes>"
      ]
     },
     "metadata": {
      "needs_background": "light"
     },
     "output_type": "display_data"
    }
   ],
   "source": [
    "df_exdata.Pawpularity.hist(bins=100)"
   ]
  },
  {
   "cell_type": "markdown",
   "id": "bf53f11a",
   "metadata": {
    "papermill": {
     "duration": 0.114808,
     "end_time": "2022-01-09T14:27:07.958908",
     "exception": false,
     "start_time": "2022-01-09T14:27:07.844100",
     "status": "completed"
    },
    "tags": []
   },
   "source": [
    "# Define model"
   ]
  },
  {
   "cell_type": "code",
   "execution_count": 9,
   "id": "ed619662",
   "metadata": {
    "execution": {
     "iopub.execute_input": "2022-01-09T14:27:08.104543Z",
     "iopub.status.busy": "2022-01-09T14:27:08.103429Z",
     "iopub.status.idle": "2022-01-09T14:27:08.107252Z",
     "shell.execute_reply": "2022-01-09T14:27:08.108502Z",
     "shell.execute_reply.started": "2022-01-09T14:24:30.689632Z"
    },
    "papermill": {
     "duration": 0.05763,
     "end_time": "2022-01-09T14:27:08.108752",
     "exception": false,
     "start_time": "2022-01-09T14:27:08.051122",
     "status": "completed"
    },
    "tags": []
   },
   "outputs": [],
   "source": [
    "def prepare_dataloader(df):\n",
    "    df = df.copy()\n",
    "    label_col  = \"Pawclass\" if CFG[\"loss\"] == \"binary\" else \"Pawpularity\"\n",
    "    dataloader = ImageDataLoaders.from_df(\n",
    "        df,\n",
    "        valid_pct=0,\n",
    "        seed=CFG[\"seed\"],\n",
    "        fn_col='path',\n",
    "        label_col=label_col,\n",
    "        y_block=RegressionBlock,\n",
    "        bs=CFG['batch_size'],\n",
    "        n=CFG[\"n_data\"],\n",
    "        shuffle=True,\n",
    "        num_workers=CFG['num_workers'],\n",
    "        item_tfms=Resize(CFG['size']),\n",
    "        batch_tfms=setup_aug_tfms([Brightness(), Contrast(), Hue(), Saturation(), Flip()])\n",
    "    )\n",
    "    return dataloader\n",
    "\n",
    "# def petfinder_rmse(input, target):\n",
    "#     return 100*torch.sqrt(F.mse_loss(F.sigmoid(input.flatten()), target))\n",
    "\n",
    "def petfinder_rmse(input, target):\n",
    "    return torch.sqrt(F.mse_loss(input.flatten(), target))\n",
    "\n",
    "class RMSELoss(nn.Module):\n",
    "    def __init__(self):\n",
    "        super().__init__()\n",
    "        self.mse = F.mse_loss\n",
    "        \n",
    "    def forward(self, yhat, y):\n",
    "        return torch.sqrt(self.mse(yhat.flatten(), y))"
   ]
  },
  {
   "cell_type": "code",
   "execution_count": 10,
   "id": "8e42ac5e",
   "metadata": {
    "execution": {
     "iopub.execute_input": "2022-01-09T14:27:08.167855Z",
     "iopub.status.busy": "2022-01-09T14:27:08.165910Z",
     "iopub.status.idle": "2022-01-09T14:27:08.171711Z",
     "shell.execute_reply": "2022-01-09T14:27:08.171220Z",
     "shell.execute_reply.started": "2022-01-09T14:24:30.700883Z"
    },
    "papermill": {
     "duration": 0.035518,
     "end_time": "2022-01-09T14:27:08.171892",
     "exception": false,
     "start_time": "2022-01-09T14:27:08.136374",
     "status": "completed"
    },
    "tags": []
   },
   "outputs": [],
   "source": [
    "class Model(nn.Module):\n",
    "    def __init__(self, model_name, pretrained=True):\n",
    "        super().__init__()\n",
    "        self.model = timm.create_model(model_name, pretrained=pretrained, in_chans=3)\n",
    "        self.n_features = self.model.classifier.in_features\n",
    "        self.model.classifier = nn.Linear(self.n_features, 1)\n",
    "\n",
    "    def forward(self, x):\n",
    "        output = self.model(x)\n",
    "        return output\n",
    "\n",
    "class TransformerModel(nn.Module):\n",
    "    def __init__(self, model_name, pretrained=True):\n",
    "        super().__init__()\n",
    "        self.model   = timm.create_model(model_name, pretrained=pretrained, num_classes=0, in_chans=3)\n",
    "        num_features = self.model.num_features\n",
    "        self.linear  = nn.Linear(num_features, 1)\n",
    "\n",
    "    def forward(self, x):\n",
    "        x = self.model(x)\n",
    "        output = self.linear(x)\n",
    "        return output\n",
    "\n",
    "def get_learner(df):\n",
    "    dataloader = prepare_dataloader(df)\n",
    "    if -1 < max(CFG[\"model\"].find(\"swin\"), CFG[\"model\"].find(\"beit\")):\n",
    "        model = TransformerModel(CFG[\"model\"], pretrained=True)\n",
    "    else:\n",
    "        model = Model(CFG[\"model\"], pretrained=True)\n",
    "    learner = Learner(\n",
    "        dataloader,\n",
    "        model,\n",
    "        loss_func=RMSELoss(),\n",
    "        metrics=AccumMetric(petfinder_rmse)).to_fp16()\n",
    "    return learner"
   ]
  },
  {
   "cell_type": "markdown",
   "id": "75e5dbba",
   "metadata": {
    "papermill": {
     "duration": 0.025792,
     "end_time": "2022-01-09T14:27:08.225146",
     "exception": false,
     "start_time": "2022-01-09T14:27:08.199354",
     "status": "completed"
    },
    "tags": []
   },
   "source": [
    "# Run training"
   ]
  },
  {
   "cell_type": "code",
   "execution_count": 11,
   "id": "75b841e5",
   "metadata": {
    "execution": {
     "iopub.execute_input": "2022-01-09T14:27:08.312622Z",
     "iopub.status.busy": "2022-01-09T14:27:08.311516Z",
     "iopub.status.idle": "2022-01-09T16:20:58.843088Z",
     "shell.execute_reply": "2022-01-09T16:20:58.843778Z",
     "shell.execute_reply.started": "2022-01-09T14:24:30.715653Z"
    },
    "papermill": {
     "duration": 6830.581631,
     "end_time": "2022-01-09T16:20:58.843996",
     "exception": false,
     "start_time": "2022-01-09T14:27:08.262365",
     "status": "completed"
    },
    "tags": []
   },
   "outputs": [
    {
     "name": "stderr",
     "output_type": "stream",
     "text": [
      "Downloading: \"https://github.com/SwinTransformer/storage/releases/download/v1.0.0/swin_large_patch4_window7_224_22k.pth\" to /root/.cache/torch/hub/checkpoints/swin_large_patch4_window7_224_22k.pth\n"
     ]
    },
    {
     "data": {
      "text/html": [
       "<table border=\"1\" class=\"dataframe\">\n",
       "  <thead>\n",
       "    <tr style=\"text-align: left;\">\n",
       "      <th>epoch</th>\n",
       "      <th>train_loss</th>\n",
       "      <th>valid_loss</th>\n",
       "      <th>petfinder_rmse</th>\n",
       "      <th>time</th>\n",
       "    </tr>\n",
       "  </thead>\n",
       "  <tbody>\n",
       "    <tr>\n",
       "      <td>0</td>\n",
       "      <td>9.567605</td>\n",
       "      <td>None</td>\n",
       "      <td>None</td>\n",
       "      <td>22:25</td>\n",
       "    </tr>\n",
       "    <tr>\n",
       "      <td>1</td>\n",
       "      <td>9.898477</td>\n",
       "      <td>None</td>\n",
       "      <td>None</td>\n",
       "      <td>22:23</td>\n",
       "    </tr>\n",
       "    <tr>\n",
       "      <td>2</td>\n",
       "      <td>9.238946</td>\n",
       "      <td>None</td>\n",
       "      <td>None</td>\n",
       "      <td>22:21</td>\n",
       "    </tr>\n",
       "    <tr>\n",
       "      <td>3</td>\n",
       "      <td>6.019960</td>\n",
       "      <td>None</td>\n",
       "      <td>None</td>\n",
       "      <td>22:21</td>\n",
       "    </tr>\n",
       "    <tr>\n",
       "      <td>4</td>\n",
       "      <td>4.538629</td>\n",
       "      <td>None</td>\n",
       "      <td>None</td>\n",
       "      <td>22:22</td>\n",
       "    </tr>\n",
       "  </tbody>\n",
       "</table>"
      ],
      "text/plain": [
       "<IPython.core.display.HTML object>"
      ]
     },
     "metadata": {},
     "output_type": "display_data"
    },
    {
     "data": {
      "text/plain": [
       "10624"
      ]
     },
     "execution_count": 11,
     "metadata": {},
     "output_type": "execute_result"
    }
   ],
   "source": [
    "learn = get_learner(df_exdata)\n",
    "learn.fit_one_cycle(\n",
    "    CFG[\"epochs\"],\n",
    "    CFG[\"lr\"],\n",
    "    cbs=[SaveModelCallback(every_epoch=True, fname=CFG['save_name'])]\n",
    ")\n",
    "\n",
    "!mv ./models/* {CFG['output_path']}\n",
    "!rm -rf ./models\n",
    "\n",
    "del learn\n",
    "torch.cuda.empty_cache()\n",
    "gc.collect()"
   ]
  }
 ],
 "metadata": {
  "kernelspec": {
   "display_name": "Python 3",
   "language": "python",
   "name": "python3"
  },
  "language_info": {
   "codemirror_mode": {
    "name": "ipython",
    "version": 3
   },
   "file_extension": ".py",
   "mimetype": "text/x-python",
   "name": "python",
   "nbconvert_exporter": "python",
   "pygments_lexer": "ipython3",
   "version": "3.7.10"
  },
  "papermill": {
   "default_parameters": {},
   "duration": 6878.405416,
   "end_time": "2022-01-09T16:21:02.442556",
   "environment_variables": {},
   "exception": null,
   "input_path": "__notebook__.ipynb",
   "output_path": "__notebook__.ipynb",
   "parameters": {},
   "start_time": "2022-01-09T14:26:24.037140",
   "version": "2.3.3"
  }
 },
 "nbformat": 4,
 "nbformat_minor": 5
}
