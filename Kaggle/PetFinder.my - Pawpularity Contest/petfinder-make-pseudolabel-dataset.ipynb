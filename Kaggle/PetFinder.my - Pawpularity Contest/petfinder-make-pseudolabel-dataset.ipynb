{
 "cells": [
  {
   "cell_type": "code",
   "execution_count": 1,
   "id": "0d0fbcc5",
   "metadata": {
    "_cell_guid": "b1076dfc-b9ad-4769-8c92-a6c4dae69d19",
    "_uuid": "8f2839f25d086af736a60e9eeb907d3b93b6e0e5",
    "execution": {
     "iopub.execute_input": "2021-12-27T14:06:29.739545Z",
     "iopub.status.busy": "2021-12-27T14:06:29.738622Z",
     "iopub.status.idle": "2021-12-27T14:06:29.742482Z",
     "shell.execute_reply": "2021-12-27T14:06:29.741977Z",
     "shell.execute_reply.started": "2021-12-27T14:01:26.893828Z"
    },
    "papermill": {
     "duration": 0.026262,
     "end_time": "2021-12-27T14:06:29.742612",
     "exception": false,
     "start_time": "2021-12-27T14:06:29.716350",
     "status": "completed"
    },
    "tags": []
   },
   "outputs": [],
   "source": [
    "import sys\n",
    "sys.path.append('../input/timm-pytorch-image-models/pytorch-image-models-master')\n",
    "sys.path.append('../input/pytorch-optimizers/')"
   ]
  },
  {
   "cell_type": "code",
   "execution_count": 2,
   "id": "9400a1ed",
   "metadata": {
    "execution": {
     "iopub.execute_input": "2021-12-27T14:06:29.769375Z",
     "iopub.status.busy": "2021-12-27T14:06:29.768778Z",
     "iopub.status.idle": "2021-12-27T14:06:38.205920Z",
     "shell.execute_reply": "2021-12-27T14:06:38.205453Z",
     "shell.execute_reply.started": "2021-12-27T14:01:27.333018Z"
    },
    "papermill": {
     "duration": 8.453034,
     "end_time": "2021-12-27T14:06:38.206089",
     "exception": false,
     "start_time": "2021-12-27T14:06:29.753055",
     "status": "completed"
    },
    "tags": []
   },
   "outputs": [],
   "source": [
    "import os\n",
    "import gc\n",
    "import cv2\n",
    "import copy\n",
    "import time\n",
    "import yaml\n",
    "import random\n",
    "import shutil\n",
    "import warnings\n",
    "import imagehash\n",
    "import subprocess\n",
    "import numpy as np\n",
    "import pandas as pd\n",
    "import matplotlib.pyplot as plt\n",
    "from glob import glob\n",
    "from tqdm import tqdm\n",
    "from PIL import Image, ImageDraw\n",
    "from shutil import copyfile\n",
    "from IPython.core.display import Video, display\n",
    "from concurrent.futures import ThreadPoolExecutor\n",
    "from sklearn.metrics import mean_squared_error\n",
    "from sklearn.model_selection import train_test_split, KFold, GroupKFold, StratifiedKFold\n",
    "\n",
    "import timm\n",
    "import torch\n",
    "from fastai.vision.all import *\n",
    "\n",
    "warnings.simplefilter('ignore')\n",
    "pd.set_option(\"max_columns\", 150)\n",
    "pd.set_option('display.max_rows', 150)"
   ]
  },
  {
   "cell_type": "markdown",
   "id": "41ee381c",
   "metadata": {
    "papermill": {
     "duration": 0.009736,
     "end_time": "2021-12-27T14:06:38.225986",
     "exception": false,
     "start_time": "2021-12-27T14:06:38.216250",
     "status": "completed"
    },
    "tags": []
   },
   "source": [
    "# Configuration"
   ]
  },
  {
   "cell_type": "code",
   "execution_count": 3,
   "id": "4c1da194",
   "metadata": {
    "execution": {
     "iopub.execute_input": "2021-12-27T14:06:38.257867Z",
     "iopub.status.busy": "2021-12-27T14:06:38.257172Z",
     "iopub.status.idle": "2021-12-27T14:06:38.260420Z",
     "shell.execute_reply": "2021-12-27T14:06:38.260826Z",
     "shell.execute_reply.started": "2021-12-27T14:01:36.980303Z"
    },
    "papermill": {
     "duration": 0.025232,
     "end_time": "2021-12-27T14:06:38.260965",
     "exception": false,
     "start_time": "2021-12-27T14:06:38.235733",
     "status": "completed"
    },
    "tags": []
   },
   "outputs": [
    {
     "data": {
      "text/plain": [
       "{'use_num': 99999,\n",
       " 'seed': 42,\n",
       " 'device': 'cuda:0',\n",
       " 'input_trimg': '../input/petfinder-pawpularity-score/train/',\n",
       " 'input_trpath': '../input/petfinder-pawpularity-score/train.csv',\n",
       " 'input_eximg': '../input/petfinder-adoption-prediction/train_images/',\n",
       " 'input_expath': '../input/petfinder-adoption-prediction/train/train.csv',\n",
       " 'output_path': './',\n",
       " 'models': [[512,\n",
       "   'tf_efficientnet_b5_ns',\n",
       "   '../input/petfinder-fastai-models-pseudolabel-1/petfinder_effnet_binary_fastai_0.pth'],\n",
       "  [512,\n",
       "   'tf_efficientnet_b5_ns',\n",
       "   '../input/petfinder-fastai-models-pseudolabel-1/petfinder_effnet_binary_fastai_1.pth'],\n",
       "  [512,\n",
       "   'tf_efficientnet_b5_ns',\n",
       "   '../input/petfinder-fastai-models-pseudolabel-1/petfinder_effnet_binary_fastai_2.pth'],\n",
       "  [512,\n",
       "   'tf_efficientnet_b5_ns',\n",
       "   '../input/petfinder-fastai-models-pseudolabel-1/petfinder_effnet_binary_fastai_3.pth'],\n",
       "  [224,\n",
       "   'swin_large_patch4_window7_224_in22k',\n",
       "   '../input/petfinder-fastai-models-pseudolabel-2/petfinder_swin_binary_fastai_0.pth'],\n",
       "  [224,\n",
       "   'swin_large_patch4_window7_224_in22k',\n",
       "   '../input/petfinder-fastai-models-pseudolabel-2/petfinder_swin_binary_fastai_1.pth'],\n",
       "  [224,\n",
       "   'swin_large_patch4_window7_224_in22k',\n",
       "   '../input/petfinder-fastai-models-pseudolabel-2/petfinder_swin_binary_fastai_2.pth'],\n",
       "  [224,\n",
       "   'swin_large_patch4_window7_224_in22k',\n",
       "   '../input/petfinder-fastai-models-pseudolabel-2/petfinder_swin_binary_fastai_3.pth']],\n",
       " 'tta': 2,\n",
       " 'batch_size': 128,\n",
       " 'num_workers': 4}"
      ]
     },
     "execution_count": 3,
     "metadata": {},
     "output_type": "execute_result"
    }
   ],
   "source": [
    "CFG = {\n",
    "    \"use_num\"     : 99999,\n",
    "    \"seed\"        : 42,\n",
    "    'device'      : \"cuda:0\" if torch.cuda.is_available() else \"cpu\",\n",
    "    \"input_trimg\" : '../input/petfinder-pawpularity-score/train/',\n",
    "    \"input_trpath\": '../input/petfinder-pawpularity-score/train.csv',\n",
    "    \"input_eximg\" : '../input/petfinder-adoption-prediction/train_images/',\n",
    "    \"input_expath\": '../input/petfinder-adoption-prediction/train/train.csv',\n",
    "    \"output_path\" : './',\n",
    "    \"models\"      : [[512, \"tf_efficientnet_b5_ns\", \"../input/petfinder-fastai-models-pseudolabel-1/petfinder_effnet_binary_fastai_0.pth\"],\n",
    "                     [512, \"tf_efficientnet_b5_ns\", \"../input/petfinder-fastai-models-pseudolabel-1/petfinder_effnet_binary_fastai_1.pth\"],\n",
    "                     [512, \"tf_efficientnet_b5_ns\", \"../input/petfinder-fastai-models-pseudolabel-1/petfinder_effnet_binary_fastai_2.pth\"],\n",
    "                     [512, \"tf_efficientnet_b5_ns\", \"../input/petfinder-fastai-models-pseudolabel-1/petfinder_effnet_binary_fastai_3.pth\"],\n",
    "                     [224, \"swin_large_patch4_window7_224_in22k\", \"../input/petfinder-fastai-models-pseudolabel-2/petfinder_swin_binary_fastai_0.pth\"],\n",
    "                     [224, \"swin_large_patch4_window7_224_in22k\", \"../input/petfinder-fastai-models-pseudolabel-2/petfinder_swin_binary_fastai_1.pth\"],\n",
    "                     [224, \"swin_large_patch4_window7_224_in22k\", \"../input/petfinder-fastai-models-pseudolabel-2/petfinder_swin_binary_fastai_2.pth\"],\n",
    "                     [224, \"swin_large_patch4_window7_224_in22k\", \"../input/petfinder-fastai-models-pseudolabel-2/petfinder_swin_binary_fastai_3.pth\"]],\n",
    "    \"tta\"         : 2,\n",
    "    \"batch_size\"  : 128,\n",
    "    \"num_workers\" : 4\n",
    "}\n",
    "\n",
    "CFG"
   ]
  },
  {
   "cell_type": "code",
   "execution_count": 4,
   "id": "e61de39c",
   "metadata": {
    "execution": {
     "iopub.execute_input": "2021-12-27T14:06:38.289530Z",
     "iopub.status.busy": "2021-12-27T14:06:38.288999Z",
     "iopub.status.idle": "2021-12-27T14:06:38.291395Z",
     "shell.execute_reply": "2021-12-27T14:06:38.291774Z",
     "shell.execute_reply.started": "2021-12-27T14:01:36.999171Z"
    },
    "papermill": {
     "duration": 0.020614,
     "end_time": "2021-12-27T14:06:38.291892",
     "exception": false,
     "start_time": "2021-12-27T14:06:38.271278",
     "status": "completed"
    },
    "tags": []
   },
   "outputs": [],
   "source": [
    "def get_img(path):\n",
    "    im_bgr = cv2.imread(path)\n",
    "    im_rgb = im_bgr[:, :, ::-1]\n",
    "    return im_rgb\n",
    "\n",
    "def sigmoid(a):\n",
    "    return 1 / (1 + np.exp(-a))\n",
    "\n",
    "def softmax(x):\n",
    "    max = np.max(x,axis=1,keepdims=True)\n",
    "    e_x = np.exp(x - max)\n",
    "    sum = np.sum(e_x,axis=1,keepdims=True)\n",
    "    return e_x / sum \n",
    "\n",
    "def seed_everything(seed = 42):\n",
    "    '''Sets the seed of the entire notebook so results are the same every time we run.\n",
    "    This is for REPRODUCIBILITY.'''\n",
    "    np.random.seed(seed)\n",
    "    random.seed(seed)\n",
    "    torch.manual_seed(seed)\n",
    "    torch.cuda.manual_seed(seed)\n",
    "    # When running on the CuDNN backend, two further options must be set\n",
    "    torch.backends.cudnn.deterministic = True\n",
    "    torch.backends.cudnn.benchmark = False\n",
    "    # Set a fixed value for the hash seed\n",
    "    os.environ['PYTHONHASHSEED'] = str(seed)\n",
    "    \n",
    "seed_everything(CFG[\"seed\"])"
   ]
  },
  {
   "cell_type": "code",
   "execution_count": 5,
   "id": "e3a9b40a",
   "metadata": {
    "execution": {
     "iopub.execute_input": "2021-12-27T14:06:38.314997Z",
     "iopub.status.busy": "2021-12-27T14:06:38.314189Z",
     "iopub.status.idle": "2021-12-27T14:06:39.820223Z",
     "shell.execute_reply": "2021-12-27T14:06:39.820854Z",
     "shell.execute_reply.started": "2021-12-27T14:02:23.603213Z"
    },
    "papermill": {
     "duration": 1.51913,
     "end_time": "2021-12-27T14:06:39.821119",
     "exception": false,
     "start_time": "2021-12-27T14:06:38.301989",
     "status": "completed"
    },
    "tags": []
   },
   "outputs": [
    {
     "name": "stdout",
     "output_type": "stream",
     "text": [
      "(58311, 2)\n"
     ]
    },
    {
     "data": {
      "text/html": [
       "<div>\n",
       "<style scoped>\n",
       "    .dataframe tbody tr th:only-of-type {\n",
       "        vertical-align: middle;\n",
       "    }\n",
       "\n",
       "    .dataframe tbody tr th {\n",
       "        vertical-align: top;\n",
       "    }\n",
       "\n",
       "    .dataframe thead th {\n",
       "        text-align: right;\n",
       "    }\n",
       "</style>\n",
       "<table border=\"1\" class=\"dataframe\">\n",
       "  <thead>\n",
       "    <tr style=\"text-align: right;\">\n",
       "      <th></th>\n",
       "      <th>path</th>\n",
       "      <th>Pawpularity</th>\n",
       "    </tr>\n",
       "  </thead>\n",
       "  <tbody>\n",
       "    <tr>\n",
       "      <th>0</th>\n",
       "      <td>../input/petfinder-adoption-prediction/train_images/cf8d949f9-2.jpg</td>\n",
       "      <td>0</td>\n",
       "    </tr>\n",
       "    <tr>\n",
       "      <th>1</th>\n",
       "      <td>../input/petfinder-adoption-prediction/train_images/61d4dc56b-12.jpg</td>\n",
       "      <td>0</td>\n",
       "    </tr>\n",
       "    <tr>\n",
       "      <th>2</th>\n",
       "      <td>../input/petfinder-adoption-prediction/train_images/53923463d-9.jpg</td>\n",
       "      <td>0</td>\n",
       "    </tr>\n",
       "    <tr>\n",
       "      <th>3</th>\n",
       "      <td>../input/petfinder-adoption-prediction/train_images/0173c456c-8.jpg</td>\n",
       "      <td>0</td>\n",
       "    </tr>\n",
       "    <tr>\n",
       "      <th>4</th>\n",
       "      <td>../input/petfinder-adoption-prediction/train_images/fa7c7d1be-3.jpg</td>\n",
       "      <td>0</td>\n",
       "    </tr>\n",
       "  </tbody>\n",
       "</table>\n",
       "</div>"
      ],
      "text/plain": [
       "                                                                   path  \\\n",
       "0   ../input/petfinder-adoption-prediction/train_images/cf8d949f9-2.jpg   \n",
       "1  ../input/petfinder-adoption-prediction/train_images/61d4dc56b-12.jpg   \n",
       "2   ../input/petfinder-adoption-prediction/train_images/53923463d-9.jpg   \n",
       "3   ../input/petfinder-adoption-prediction/train_images/0173c456c-8.jpg   \n",
       "4   ../input/petfinder-adoption-prediction/train_images/fa7c7d1be-3.jpg   \n",
       "\n",
       "   Pawpularity  \n",
       "0            0  \n",
       "1            0  \n",
       "2            0  \n",
       "3            0  \n",
       "4            0  "
      ]
     },
     "execution_count": 5,
     "metadata": {},
     "output_type": "execute_result"
    }
   ],
   "source": [
    "df_exdata = pd.DataFrame([f\"{CFG['input_eximg']}{i}\" for i in os.listdir(CFG['input_eximg'])], columns=[\"path\"])\n",
    "df_exdata[\"Pawpularity\"] = 0  # Dummy\n",
    "if  CFG[\"use_num\"] < df_exdata.shape[0]:\n",
    "    df_exdata = df_exdata.sample(CFG[\"use_num\"]).reset_index(drop=True)\n",
    "\n",
    "print(df_exdata.shape)\n",
    "df_exdata.head()"
   ]
  },
  {
   "cell_type": "code",
   "execution_count": 6,
   "id": "37e8dd28",
   "metadata": {
    "execution": {
     "iopub.execute_input": "2021-12-27T14:06:39.857819Z",
     "iopub.status.busy": "2021-12-27T14:06:39.857170Z",
     "iopub.status.idle": "2021-12-27T14:06:39.859815Z",
     "shell.execute_reply": "2021-12-27T14:06:39.859413Z",
     "shell.execute_reply.started": "2021-12-27T14:02:29.783699Z"
    },
    "papermill": {
     "duration": 0.021455,
     "end_time": "2021-12-27T14:06:39.859924",
     "exception": false,
     "start_time": "2021-12-27T14:06:39.838469",
     "status": "completed"
    },
    "tags": []
   },
   "outputs": [],
   "source": [
    "class Model(nn.Module):\n",
    "    def __init__(self, model_name, pretrained=True):\n",
    "        super().__init__()\n",
    "        self.model = timm.create_model(model_name, pretrained=pretrained, in_chans=3)\n",
    "        self.n_features = self.model.classifier.in_features\n",
    "        self.model.classifier = nn.Linear(self.n_features, 1)\n",
    "\n",
    "    def forward(self, x):\n",
    "        output = self.model(x)\n",
    "        return output\n",
    "\n",
    "class SwinModel(nn.Module):\n",
    "    def __init__(self, model_name, pretrained=True):\n",
    "        super().__init__()\n",
    "        self.model   = timm.create_model(model_name, pretrained=pretrained, num_classes=0, in_chans=3)\n",
    "        num_features = self.model.num_features\n",
    "        self.linear  = nn.Linear(num_features, 1)\n",
    "\n",
    "    def forward(self, x):\n",
    "        x = self.model(x)\n",
    "        output = self.linear(x)\n",
    "        return output"
   ]
  },
  {
   "cell_type": "code",
   "execution_count": 7,
   "id": "dd96cc2d",
   "metadata": {
    "execution": {
     "iopub.execute_input": "2021-12-27T14:06:39.896197Z",
     "iopub.status.busy": "2021-12-27T14:06:39.895492Z",
     "iopub.status.idle": "2021-12-27T14:06:39.899337Z",
     "shell.execute_reply": "2021-12-27T14:06:39.898665Z",
     "shell.execute_reply.started": "2021-12-27T14:02:30.210899Z"
    },
    "papermill": {
     "duration": 0.028764,
     "end_time": "2021-12-27T14:06:39.899451",
     "exception": false,
     "start_time": "2021-12-27T14:06:39.870687",
     "status": "completed"
    },
    "tags": []
   },
   "outputs": [],
   "source": [
    "def prepare_dataloader(df, size):\n",
    "    df = df.copy()\n",
    "    label_col  = \"Pawpularity\"\n",
    "    dataloader = ImageDataLoaders.from_df(\n",
    "        df,\n",
    "        valid_pct=0.2,  # Dummy\n",
    "        seed=CFG[\"seed\"],\n",
    "        fn_col='path',\n",
    "        label_col=label_col,\n",
    "        y_block=RegressionBlock,\n",
    "        bs=CFG['batch_size'],\n",
    "        num_workers=CFG['num_workers'],\n",
    "        item_tfms=Resize(size),\n",
    "        batch_tfms=setup_aug_tfms([Brightness(), Contrast(), Hue(), Saturation()])\n",
    "    )\n",
    "    return dataloader\n",
    "\n",
    "def petfinder_rmse(input,target):\n",
    "    return 100*torch.sqrt(F.mse_loss(F.sigmoid(input.flatten()), target))"
   ]
  },
  {
   "cell_type": "code",
   "execution_count": 8,
   "id": "2155008d",
   "metadata": {
    "execution": {
     "iopub.execute_input": "2021-12-27T14:06:39.926772Z",
     "iopub.status.busy": "2021-12-27T14:06:39.926030Z",
     "iopub.status.idle": "2021-12-27T14:06:39.928501Z",
     "shell.execute_reply": "2021-12-27T14:06:39.928063Z",
     "shell.execute_reply.started": "2021-12-27T14:02:30.769696Z"
    },
    "papermill": {
     "duration": 0.018355,
     "end_time": "2021-12-27T14:06:39.928604",
     "exception": false,
     "start_time": "2021-12-27T14:06:39.910249",
     "status": "completed"
    },
    "tags": []
   },
   "outputs": [],
   "source": [
    "def get_learner(df, size, model, model_path):\n",
    "    dataloader = prepare_dataloader(df, size)\n",
    "    if -1 < model.find(\"swin\"):\n",
    "        model = SwinModel(model, pretrained=False)\n",
    "    else:\n",
    "        model = Model(model, pretrained=False)\n",
    "    model.load_state_dict(torch.load(model_path))\n",
    "    learner = Learner(\n",
    "        dataloader,\n",
    "        model,\n",
    "        loss_func=BCEWithLogitsLossFlat(),\n",
    "        metrics=petfinder_rmse).to_fp16()\n",
    "    return learner, dataloader"
   ]
  },
  {
   "cell_type": "code",
   "execution_count": 9,
   "id": "2c3c566a",
   "metadata": {
    "execution": {
     "iopub.execute_input": "2021-12-27T14:06:39.955932Z",
     "iopub.status.busy": "2021-12-27T14:06:39.955168Z",
     "iopub.status.idle": "2021-12-27T20:05:11.154665Z",
     "shell.execute_reply": "2021-12-27T20:05:11.154199Z",
     "shell.execute_reply.started": "2021-12-27T14:02:32.402335Z"
    },
    "papermill": {
     "duration": 21511.215447,
     "end_time": "2021-12-27T20:05:11.154806",
     "exception": false,
     "start_time": "2021-12-27T14:06:39.939359",
     "status": "completed"
    },
    "tags": []
   },
   "outputs": [
    {
     "data": {
      "text/html": [
       "\n",
       "    <div>\n",
       "        <style>\n",
       "            /* Turns off some styling */\n",
       "            progress {\n",
       "                /* gets rid of default border in Firefox and Opera. */\n",
       "                border: none;\n",
       "                /* Needs to be in here for Safari polyfill so background images work as expected. */\n",
       "                background-size: auto;\n",
       "            }\n",
       "            .progress-bar-interrupted, .progress-bar-interrupted::-webkit-progress-bar {\n",
       "                background: #F44336;\n",
       "            }\n",
       "        </style>\n",
       "      <progress value='0' class='' max='1' style='width:300px; height:20px; vertical-align: middle;'></progress>\n",
       "      \n",
       "    </div>\n",
       "    \n"
      ],
      "text/plain": [
       "<IPython.core.display.HTML object>"
      ]
     },
     "metadata": {},
     "output_type": "display_data"
    },
    {
     "data": {
      "text/html": [],
      "text/plain": [
       "<IPython.core.display.HTML object>"
      ]
     },
     "metadata": {},
     "output_type": "display_data"
    },
    {
     "data": {
      "text/html": [
       "\n",
       "    <div>\n",
       "        <style>\n",
       "            /* Turns off some styling */\n",
       "            progress {\n",
       "                /* gets rid of default border in Firefox and Opera. */\n",
       "                border: none;\n",
       "                /* Needs to be in here for Safari polyfill so background images work as expected. */\n",
       "                background-size: auto;\n",
       "            }\n",
       "            .progress-bar-interrupted, .progress-bar-interrupted::-webkit-progress-bar {\n",
       "                background: #F44336;\n",
       "            }\n",
       "        </style>\n",
       "      <progress value='0' class='' max='1' style='width:300px; height:20px; vertical-align: middle;'></progress>\n",
       "      \n",
       "    </div>\n",
       "    \n"
      ],
      "text/plain": [
       "<IPython.core.display.HTML object>"
      ]
     },
     "metadata": {},
     "output_type": "display_data"
    },
    {
     "data": {
      "text/html": [],
      "text/plain": [
       "<IPython.core.display.HTML object>"
      ]
     },
     "metadata": {},
     "output_type": "display_data"
    },
    {
     "data": {
      "text/html": [
       "\n",
       "    <div>\n",
       "        <style>\n",
       "            /* Turns off some styling */\n",
       "            progress {\n",
       "                /* gets rid of default border in Firefox and Opera. */\n",
       "                border: none;\n",
       "                /* Needs to be in here for Safari polyfill so background images work as expected. */\n",
       "                background-size: auto;\n",
       "            }\n",
       "            .progress-bar-interrupted, .progress-bar-interrupted::-webkit-progress-bar {\n",
       "                background: #F44336;\n",
       "            }\n",
       "        </style>\n",
       "      <progress value='0' class='' max='1' style='width:300px; height:20px; vertical-align: middle;'></progress>\n",
       "      \n",
       "    </div>\n",
       "    \n"
      ],
      "text/plain": [
       "<IPython.core.display.HTML object>"
      ]
     },
     "metadata": {},
     "output_type": "display_data"
    },
    {
     "data": {
      "text/html": [],
      "text/plain": [
       "<IPython.core.display.HTML object>"
      ]
     },
     "metadata": {},
     "output_type": "display_data"
    },
    {
     "data": {
      "text/html": [
       "\n",
       "    <div>\n",
       "        <style>\n",
       "            /* Turns off some styling */\n",
       "            progress {\n",
       "                /* gets rid of default border in Firefox and Opera. */\n",
       "                border: none;\n",
       "                /* Needs to be in here for Safari polyfill so background images work as expected. */\n",
       "                background-size: auto;\n",
       "            }\n",
       "            .progress-bar-interrupted, .progress-bar-interrupted::-webkit-progress-bar {\n",
       "                background: #F44336;\n",
       "            }\n",
       "        </style>\n",
       "      <progress value='0' class='' max='1' style='width:300px; height:20px; vertical-align: middle;'></progress>\n",
       "      \n",
       "    </div>\n",
       "    \n"
      ],
      "text/plain": [
       "<IPython.core.display.HTML object>"
      ]
     },
     "metadata": {},
     "output_type": "display_data"
    },
    {
     "data": {
      "text/html": [],
      "text/plain": [
       "<IPython.core.display.HTML object>"
      ]
     },
     "metadata": {},
     "output_type": "display_data"
    },
    {
     "data": {
      "text/html": [
       "\n",
       "    <div>\n",
       "        <style>\n",
       "            /* Turns off some styling */\n",
       "            progress {\n",
       "                /* gets rid of default border in Firefox and Opera. */\n",
       "                border: none;\n",
       "                /* Needs to be in here for Safari polyfill so background images work as expected. */\n",
       "                background-size: auto;\n",
       "            }\n",
       "            .progress-bar-interrupted, .progress-bar-interrupted::-webkit-progress-bar {\n",
       "                background: #F44336;\n",
       "            }\n",
       "        </style>\n",
       "      <progress value='0' class='' max='1' style='width:300px; height:20px; vertical-align: middle;'></progress>\n",
       "      \n",
       "    </div>\n",
       "    \n"
      ],
      "text/plain": [
       "<IPython.core.display.HTML object>"
      ]
     },
     "metadata": {},
     "output_type": "display_data"
    },
    {
     "data": {
      "text/html": [],
      "text/plain": [
       "<IPython.core.display.HTML object>"
      ]
     },
     "metadata": {},
     "output_type": "display_data"
    },
    {
     "data": {
      "text/html": [
       "\n",
       "    <div>\n",
       "        <style>\n",
       "            /* Turns off some styling */\n",
       "            progress {\n",
       "                /* gets rid of default border in Firefox and Opera. */\n",
       "                border: none;\n",
       "                /* Needs to be in here for Safari polyfill so background images work as expected. */\n",
       "                background-size: auto;\n",
       "            }\n",
       "            .progress-bar-interrupted, .progress-bar-interrupted::-webkit-progress-bar {\n",
       "                background: #F44336;\n",
       "            }\n",
       "        </style>\n",
       "      <progress value='0' class='' max='1' style='width:300px; height:20px; vertical-align: middle;'></progress>\n",
       "      \n",
       "    </div>\n",
       "    \n"
      ],
      "text/plain": [
       "<IPython.core.display.HTML object>"
      ]
     },
     "metadata": {},
     "output_type": "display_data"
    },
    {
     "data": {
      "text/html": [],
      "text/plain": [
       "<IPython.core.display.HTML object>"
      ]
     },
     "metadata": {},
     "output_type": "display_data"
    },
    {
     "data": {
      "text/html": [
       "\n",
       "    <div>\n",
       "        <style>\n",
       "            /* Turns off some styling */\n",
       "            progress {\n",
       "                /* gets rid of default border in Firefox and Opera. */\n",
       "                border: none;\n",
       "                /* Needs to be in here for Safari polyfill so background images work as expected. */\n",
       "                background-size: auto;\n",
       "            }\n",
       "            .progress-bar-interrupted, .progress-bar-interrupted::-webkit-progress-bar {\n",
       "                background: #F44336;\n",
       "            }\n",
       "        </style>\n",
       "      <progress value='0' class='' max='1' style='width:300px; height:20px; vertical-align: middle;'></progress>\n",
       "      \n",
       "    </div>\n",
       "    \n"
      ],
      "text/plain": [
       "<IPython.core.display.HTML object>"
      ]
     },
     "metadata": {},
     "output_type": "display_data"
    },
    {
     "data": {
      "text/html": [],
      "text/plain": [
       "<IPython.core.display.HTML object>"
      ]
     },
     "metadata": {},
     "output_type": "display_data"
    },
    {
     "data": {
      "text/html": [
       "\n",
       "    <div>\n",
       "        <style>\n",
       "            /* Turns off some styling */\n",
       "            progress {\n",
       "                /* gets rid of default border in Firefox and Opera. */\n",
       "                border: none;\n",
       "                /* Needs to be in here for Safari polyfill so background images work as expected. */\n",
       "                background-size: auto;\n",
       "            }\n",
       "            .progress-bar-interrupted, .progress-bar-interrupted::-webkit-progress-bar {\n",
       "                background: #F44336;\n",
       "            }\n",
       "        </style>\n",
       "      <progress value='0' class='' max='1' style='width:300px; height:20px; vertical-align: middle;'></progress>\n",
       "      \n",
       "    </div>\n",
       "    \n"
      ],
      "text/plain": [
       "<IPython.core.display.HTML object>"
      ]
     },
     "metadata": {},
     "output_type": "display_data"
    },
    {
     "data": {
      "text/html": [],
      "text/plain": [
       "<IPython.core.display.HTML object>"
      ]
     },
     "metadata": {},
     "output_type": "display_data"
    }
   ],
   "source": [
    "all_res = []\n",
    "for size, model, model_path in CFG['models']:\n",
    "    learn, data_loader = get_learner(df_exdata, size, model, model_path)\n",
    "    data_loader = data_loader.test_dl(df_exdata)\n",
    "    res, _ = learn.tta(dl=data_loader, n=CFG[\"tta\"], beta=0)\n",
    "    res    = res.detach().numpy()\n",
    "    if -1 < model_path.find(\"binary\"):\n",
    "        res = res*100\n",
    "    all_res.append(res)\n",
    "\n",
    "    del learn, data_loader"
   ]
  },
  {
   "cell_type": "code",
   "execution_count": 10,
   "id": "19083e5e",
   "metadata": {
    "execution": {
     "iopub.execute_input": "2021-12-27T20:05:11.198758Z",
     "iopub.status.busy": "2021-12-27T20:05:11.197854Z",
     "iopub.status.idle": "2021-12-27T20:05:11.212026Z",
     "shell.execute_reply": "2021-12-27T20:05:11.211575Z",
     "shell.execute_reply.started": "2021-12-27T14:01:38.703042Z"
    },
    "papermill": {
     "duration": 0.038114,
     "end_time": "2021-12-27T20:05:11.212144",
     "exception": false,
     "start_time": "2021-12-27T20:05:11.174030",
     "status": "completed"
    },
    "tags": []
   },
   "outputs": [],
   "source": [
    "df_pseudolabel = pd.DataFrame(np.array(all_res).reshape(len(CFG[\"models\"]),-1)).T\n",
    "df_exdata[\"Pawpularity\"] = df_pseudolabel.mean(1)"
   ]
  },
  {
   "cell_type": "code",
   "execution_count": 11,
   "id": "36680d5f",
   "metadata": {
    "execution": {
     "iopub.execute_input": "2021-12-27T20:05:11.257468Z",
     "iopub.status.busy": "2021-12-27T20:05:11.256466Z",
     "iopub.status.idle": "2021-12-27T20:05:11.261085Z",
     "shell.execute_reply": "2021-12-27T20:05:11.261520Z",
     "shell.execute_reply.started": "2021-12-27T14:01:38.705796Z"
    },
    "papermill": {
     "duration": 0.031067,
     "end_time": "2021-12-27T20:05:11.261650",
     "exception": false,
     "start_time": "2021-12-27T20:05:11.230583",
     "status": "completed"
    },
    "tags": []
   },
   "outputs": [
    {
     "name": "stdout",
     "output_type": "stream",
     "text": [
      "(58311, 2)\n"
     ]
    },
    {
     "data": {
      "text/html": [
       "<div>\n",
       "<style scoped>\n",
       "    .dataframe tbody tr th:only-of-type {\n",
       "        vertical-align: middle;\n",
       "    }\n",
       "\n",
       "    .dataframe tbody tr th {\n",
       "        vertical-align: top;\n",
       "    }\n",
       "\n",
       "    .dataframe thead th {\n",
       "        text-align: right;\n",
       "    }\n",
       "</style>\n",
       "<table border=\"1\" class=\"dataframe\">\n",
       "  <thead>\n",
       "    <tr style=\"text-align: right;\">\n",
       "      <th></th>\n",
       "      <th>path</th>\n",
       "      <th>Pawpularity</th>\n",
       "    </tr>\n",
       "  </thead>\n",
       "  <tbody>\n",
       "    <tr>\n",
       "      <th>0</th>\n",
       "      <td>../input/petfinder-adoption-prediction/train_images/cf8d949f9-2.jpg</td>\n",
       "      <td>33.240162</td>\n",
       "    </tr>\n",
       "    <tr>\n",
       "      <th>1</th>\n",
       "      <td>../input/petfinder-adoption-prediction/train_images/61d4dc56b-12.jpg</td>\n",
       "      <td>23.821459</td>\n",
       "    </tr>\n",
       "    <tr>\n",
       "      <th>2</th>\n",
       "      <td>../input/petfinder-adoption-prediction/train_images/53923463d-9.jpg</td>\n",
       "      <td>33.153225</td>\n",
       "    </tr>\n",
       "    <tr>\n",
       "      <th>3</th>\n",
       "      <td>../input/petfinder-adoption-prediction/train_images/0173c456c-8.jpg</td>\n",
       "      <td>27.282467</td>\n",
       "    </tr>\n",
       "    <tr>\n",
       "      <th>4</th>\n",
       "      <td>../input/petfinder-adoption-prediction/train_images/fa7c7d1be-3.jpg</td>\n",
       "      <td>42.298103</td>\n",
       "    </tr>\n",
       "  </tbody>\n",
       "</table>\n",
       "</div>"
      ],
      "text/plain": [
       "                                                                   path  \\\n",
       "0   ../input/petfinder-adoption-prediction/train_images/cf8d949f9-2.jpg   \n",
       "1  ../input/petfinder-adoption-prediction/train_images/61d4dc56b-12.jpg   \n",
       "2   ../input/petfinder-adoption-prediction/train_images/53923463d-9.jpg   \n",
       "3   ../input/petfinder-adoption-prediction/train_images/0173c456c-8.jpg   \n",
       "4   ../input/petfinder-adoption-prediction/train_images/fa7c7d1be-3.jpg   \n",
       "\n",
       "   Pawpularity  \n",
       "0    33.240162  \n",
       "1    23.821459  \n",
       "2    33.153225  \n",
       "3    27.282467  \n",
       "4    42.298103  "
      ]
     },
     "execution_count": 11,
     "metadata": {},
     "output_type": "execute_result"
    }
   ],
   "source": [
    "print(df_exdata.shape)\n",
    "df_exdata.head()"
   ]
  },
  {
   "cell_type": "code",
   "execution_count": 12,
   "id": "112affd3",
   "metadata": {
    "execution": {
     "iopub.execute_input": "2021-12-27T20:05:11.306073Z",
     "iopub.status.busy": "2021-12-27T20:05:11.305385Z",
     "iopub.status.idle": "2021-12-27T20:05:11.742163Z",
     "shell.execute_reply": "2021-12-27T20:05:11.741429Z",
     "shell.execute_reply.started": "2021-12-27T14:01:38.708435Z"
    },
    "papermill": {
     "duration": 0.460393,
     "end_time": "2021-12-27T20:05:11.742302",
     "exception": false,
     "start_time": "2021-12-27T20:05:11.281909",
     "status": "completed"
    },
    "tags": []
   },
   "outputs": [
    {
     "data": {
      "text/plain": [
       "<AxesSubplot:>"
      ]
     },
     "execution_count": 12,
     "metadata": {},
     "output_type": "execute_result"
    },
    {
     "data": {
      "image/png": "[encoded data removed]",
      "text/plain": [
       "<Figure size 432x288 with 1 Axes>"
      ]
     },
     "metadata": {
      "needs_background": "light"
     },
     "output_type": "display_data"
    }
   ],
   "source": [
    "df_exdata.Pawpularity.hist(bins=100)"
   ]
  },
  {
   "cell_type": "code",
   "execution_count": 13,
   "id": "1c1d330a",
   "metadata": {
    "execution": {
     "iopub.execute_input": "2021-12-27T20:05:11.784751Z",
     "iopub.status.busy": "2021-12-27T20:05:11.783966Z",
     "iopub.status.idle": "2021-12-27T20:05:12.056930Z",
     "shell.execute_reply": "2021-12-27T20:05:12.056446Z",
     "shell.execute_reply.started": "2021-12-27T14:01:38.710816Z"
    },
    "papermill": {
     "duration": 0.29568,
     "end_time": "2021-12-27T20:05:12.057083",
     "exception": false,
     "start_time": "2021-12-27T20:05:11.761403",
     "status": "completed"
    },
    "tags": []
   },
   "outputs": [],
   "source": [
    "df_exdata.to_csv(\"train.csv\", index=False)"
   ]
  }
 ],
 "metadata": {
  "kernelspec": {
   "display_name": "Python 3",
   "language": "python",
   "name": "python3"
  },
  "language_info": {
   "codemirror_mode": {
    "name": "ipython",
    "version": 3
   },
   "file_extension": ".py",
   "mimetype": "text/x-python",
   "name": "python",
   "nbconvert_exporter": "python",
   "pygments_lexer": "ipython3",
   "version": "3.7.10"
  },
  "papermill": {
   "default_parameters": {},
   "duration": 21533.68853,
   "end_time": "2021-12-27T20:05:15.812501",
   "environment_variables": {},
   "exception": null,
   "input_path": "__notebook__.ipynb",
   "output_path": "__notebook__.ipynb",
   "parameters": {},
   "start_time": "2021-12-27T14:06:22.123971",
   "version": "2.3.3"
  }
 },
 "nbformat": 4,
 "nbformat_minor": 5
}
