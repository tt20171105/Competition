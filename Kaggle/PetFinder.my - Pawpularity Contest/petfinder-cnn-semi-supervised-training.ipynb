{
 "cells": [
  {
   "cell_type": "code",
   "execution_count": 1,
   "id": "b72ee836",
   "metadata": {
    "_cell_guid": "b1076dfc-b9ad-4769-8c92-a6c4dae69d19",
    "_uuid": "8f2839f25d086af736a60e9eeb907d3b93b6e0e5",
    "execution": {
     "iopub.execute_input": "2021-12-23T15:25:09.080721Z",
     "iopub.status.busy": "2021-12-23T15:25:09.079781Z",
     "iopub.status.idle": "2021-12-23T15:25:09.083363Z",
     "shell.execute_reply": "2021-12-23T15:25:09.083764Z",
     "shell.execute_reply.started": "2021-12-22T15:09:14.267674Z"
    },
    "papermill": {
     "duration": 0.030367,
     "end_time": "2021-12-23T15:25:09.084017",
     "exception": false,
     "start_time": "2021-12-23T15:25:09.053650",
     "status": "completed"
    },
    "tags": []
   },
   "outputs": [],
   "source": [
    "import sys\n",
    "sys.path.append('../input/timm-pytorch-image-models/pytorch-image-models-master')\n",
    "sys.path.append('../input/pytorch-optimizers/')"
   ]
  },
  {
   "cell_type": "code",
   "execution_count": 2,
   "id": "765d0a44",
   "metadata": {
    "execution": {
     "iopub.execute_input": "2021-12-23T15:25:09.122064Z",
     "iopub.status.busy": "2021-12-23T15:25:09.121360Z",
     "iopub.status.idle": "2021-12-23T15:25:18.279933Z",
     "shell.execute_reply": "2021-12-23T15:25:18.279434Z",
     "shell.execute_reply.started": "2021-12-22T15:09:14.296998Z"
    },
    "papermill": {
     "duration": 9.182452,
     "end_time": "2021-12-23T15:25:18.280058",
     "exception": false,
     "start_time": "2021-12-23T15:25:09.097606",
     "status": "completed"
    },
    "tags": []
   },
   "outputs": [],
   "source": [
    "import os\n",
    "import gc\n",
    "import cv2\n",
    "import copy\n",
    "import time\n",
    "import yaml\n",
    "import random\n",
    "import shutil\n",
    "import warnings\n",
    "import subprocess\n",
    "import numpy as np\n",
    "import pandas as pd\n",
    "import matplotlib.pyplot as plt\n",
    "from glob import glob\n",
    "from tqdm import tqdm\n",
    "from PIL import Image, ImageDraw\n",
    "from shutil import copyfile\n",
    "from IPython.core.display import Video, display\n",
    "from sklearn.metrics import mean_squared_error\n",
    "from sklearn.model_selection import train_test_split, KFold, GroupKFold, StratifiedKFold\n",
    "\n",
    "import timm\n",
    "import torch\n",
    "import torch.nn.functional as F\n",
    "import torchvision\n",
    "from torch import nn\n",
    "from torch.cuda.amp import autocast, GradScaler\n",
    "from torch.utils.data import Dataset,DataLoader\n",
    "from torch.utils.data.sampler import SequentialSampler, RandomSampler\n",
    "from torch.optim.lr_scheduler import CosineAnnealingLR\n",
    "from torch.nn.modules.loss import _WeightedLoss\n",
    "from torchvision import models, transforms\n",
    "from torch_optimizer.radam import RAdam\n",
    "\n",
    "from albumentations.pytorch import ToTensorV2\n",
    "from albumentations import (\n",
    "    HorizontalFlip, VerticalFlip, IAAPerspective, ShiftScaleRotate, CLAHE, RandomRotate90,\n",
    "    Transpose, ShiftScaleRotate, Blur, OpticalDistortion, GridDistortion, HueSaturationValue,\n",
    "    IAAAdditiveGaussianNoise, GaussNoise, MotionBlur, MedianBlur, IAAPiecewiseAffine, RandomResizedCrop,\n",
    "    IAASharpen, IAAEmboss, RandomBrightnessContrast, Flip, OneOf, Compose, Normalize, Cutout, CoarseDropout,\n",
    "    ShiftScaleRotate, CenterCrop, Resize, Rotate, RandomRotate90, RGBShift, ChannelShuffle)\n",
    "\n",
    "warnings.simplefilter('ignore')\n",
    "pd.set_option(\"max_columns\", 150)\n",
    "pd.set_option('display.max_rows', 150)"
   ]
  },
  {
   "cell_type": "markdown",
   "id": "fc935e7c",
   "metadata": {
    "papermill": {
     "duration": 0.013218,
     "end_time": "2021-12-23T15:25:18.306817",
     "exception": false,
     "start_time": "2021-12-23T15:25:18.293599",
     "status": "completed"
    },
    "tags": []
   },
   "source": [
    "# Configuration"
   ]
  },
  {
   "cell_type": "code",
   "execution_count": 3,
   "id": "0647ef3e",
   "metadata": {
    "execution": {
     "iopub.execute_input": "2021-12-23T15:25:18.379702Z",
     "iopub.status.busy": "2021-12-23T15:25:18.378805Z",
     "iopub.status.idle": "2021-12-23T15:25:18.389689Z",
     "shell.execute_reply": "2021-12-23T15:25:18.389153Z",
     "shell.execute_reply.started": "2021-12-22T15:09:23.714001Z"
    },
    "papermill": {
     "duration": 0.069568,
     "end_time": "2021-12-23T15:25:18.389823",
     "exception": false,
     "start_time": "2021-12-23T15:25:18.320255",
     "status": "completed"
    },
    "tags": []
   },
   "outputs": [
    {
     "data": {
      "text/plain": [
       "{'save_prev': [True, ['petfinder_*_type2_*.pt']],\n",
       " 'train_type': 2,\n",
       " 'seed': 42,\n",
       " 'device': 'cuda:0',\n",
       " 'input_trimg': '../input/petfinder-pawpularity-score/train/',\n",
       " 'input_trpath': '../input/petfinder-smogn-dataset/train_drop_duplicated.csv',\n",
       " 'input_eximg': '../input/petfinder-adoption-prediction/train_images/',\n",
       " 'input_expath': '../input/petfinder-pseudolabel-dataset/train.csv',\n",
       " 'output_path': './',\n",
       " 'save_name': 'petfinder_efnet_binary_ss_type2',\n",
       " 'model': 'tf_efficientnetv2_s_in21k',\n",
       " 'loss': 'binary',\n",
       " 'size': 224,\n",
       " 'fold': 4,\n",
       " 'break_fold': 99,\n",
       " 'batch_size': 32,\n",
       " 'epochs': 10,\n",
       " 'mixup_ratio': 0,\n",
       " 'T_0': 20,\n",
       " 'lr': 2e-05,\n",
       " 'momentum': 0.9,\n",
       " 'weight_decay': 0.0001,\n",
       " 'accum_iter': 2,\n",
       " 'early_stopping': 10,\n",
       " 'verbose_step': 1,\n",
       " 'num_workers': 4}"
      ]
     },
     "execution_count": 3,
     "metadata": {},
     "output_type": "execute_result"
    }
   ],
   "source": [
    "CFG = {\n",
    "    \"save_prev\"   : [True, [\"petfinder_*_type2_*.pt\", ]],\n",
    "    \"train_type\"  : 2,\n",
    "    \"seed\"        : 42,\n",
    "    'device'      : \"cuda:0\" if torch.cuda.is_available() else \"cpu\",\n",
    "    \"input_trimg\" : '../input/petfinder-pawpularity-score/train/',\n",
    "    \"input_trpath\": '../input/petfinder-smogn-dataset/train_drop_duplicated.csv',\n",
    "    \"input_eximg\" : '../input/petfinder-adoption-prediction/train_images/',\n",
    "    \"input_expath\": '../input/petfinder-pseudolabel-dataset/train.csv',\n",
    "    \"output_path\" : './',\n",
    "    \"save_name\"   : \"petfinder_efnet_binary_ss_type2\",\n",
    "    \"model\"       : \"tf_efficientnetv2_s_in21k\",\n",
    "    \"loss\"        : \"binary\",\n",
    "    \"size\"        : 224,\n",
    "    \"fold\"        : 4,\n",
    "    \"break_fold\"  : 99,\n",
    "    \"batch_size\"  : 32,\n",
    "    \"epochs\"      : 10,\n",
    "    \"mixup_ratio\" : 0,\n",
    "    'T_0'         : 20,\n",
    "    \"lr\"          : 2e-5,\n",
    "    'momentum'    : 0.9,\n",
    "    'weight_decay': 1e-4,\n",
    "    \"accum_iter\"  : 2,\n",
    "    'early_stopping': 10,\n",
    "    'verbose_step'  : 1,\n",
    "    \"num_workers\"   : 4\n",
    "}\n",
    "\n",
    "CFG"
   ]
  },
  {
   "cell_type": "code",
   "execution_count": 4,
   "id": "7f20e865",
   "metadata": {
    "execution": {
     "iopub.execute_input": "2021-12-23T15:25:18.426593Z",
     "iopub.status.busy": "2021-12-23T15:25:18.425962Z",
     "iopub.status.idle": "2021-12-23T15:25:18.436451Z",
     "shell.execute_reply": "2021-12-23T15:25:18.435992Z",
     "shell.execute_reply.started": "2021-12-22T15:09:23.770467Z"
    },
    "papermill": {
     "duration": 0.032474,
     "end_time": "2021-12-23T15:25:18.436569",
     "exception": false,
     "start_time": "2021-12-23T15:25:18.404095",
     "status": "completed"
    },
    "tags": []
   },
   "outputs": [],
   "source": [
    "def get_img(path):\n",
    "    im_bgr = cv2.imread(path)\n",
    "    im_rgb = im_bgr[:, :, ::-1]\n",
    "    return im_rgb\n",
    "\n",
    "def sigmoid(a):\n",
    "    return 1 / (1 + np.exp(-a))\n",
    "\n",
    "def softmax(x):\n",
    "    max = np.max(x,axis=1,keepdims=True)\n",
    "    e_x = np.exp(x - max)\n",
    "    sum = np.sum(e_x,axis=1,keepdims=True)\n",
    "    return e_x / sum \n",
    "\n",
    "def seed_everything(seed = 42):\n",
    "    '''Sets the seed of the entire notebook so results are the same every time we run.\n",
    "    This is for REPRODUCIBILITY.'''\n",
    "    np.random.seed(seed)\n",
    "    random.seed(seed)\n",
    "    torch.manual_seed(seed)\n",
    "    torch.cuda.manual_seed(seed)\n",
    "    # When running on the CuDNN backend, two further options must be set\n",
    "    torch.backends.cudnn.deterministic = True\n",
    "    torch.backends.cudnn.benchmark = False\n",
    "    # Set a fixed value for the hash seed\n",
    "    os.environ['PYTHONHASHSEED'] = str(seed)\n",
    "    \n",
    "seed_everything(CFG[\"seed\"])"
   ]
  },
  {
   "cell_type": "code",
   "execution_count": 5,
   "id": "71281010",
   "metadata": {
    "execution": {
     "iopub.execute_input": "2021-12-23T15:25:18.468822Z",
     "iopub.status.busy": "2021-12-23T15:25:18.468311Z",
     "iopub.status.idle": "2021-12-23T15:26:18.402057Z",
     "shell.execute_reply": "2021-12-23T15:26:18.410686Z",
     "shell.execute_reply.started": "2021-12-22T15:09:23.786686Z"
    },
    "papermill": {
     "duration": 59.961093,
     "end_time": "2021-12-23T15:26:18.411106",
     "exception": false,
     "start_time": "2021-12-23T15:25:18.450013",
     "status": "completed"
    },
    "tags": []
   },
   "outputs": [],
   "source": [
    "if CFG['save_prev'][0]:\n",
    "    for file_pattern in CFG['save_prev'][1]:\n",
    "        for f in glob(f\"../input/petfinder-semisupervised-models/{file_pattern}\"):\n",
    "            filename = os.path.basename(f)\n",
    "            !cp {f} ./{filename}"
   ]
  },
  {
   "cell_type": "markdown",
   "id": "6b150d0f",
   "metadata": {
    "papermill": {
     "duration": 2.223473,
     "end_time": "2021-12-23T15:26:20.752875",
     "exception": false,
     "start_time": "2021-12-23T15:26:18.529402",
     "status": "completed"
    },
    "tags": []
   },
   "source": [
    "# Load data"
   ]
  },
  {
   "cell_type": "code",
   "execution_count": 6,
   "id": "b3bbf972",
   "metadata": {
    "execution": {
     "iopub.execute_input": "2021-12-23T15:26:22.776940Z",
     "iopub.status.busy": "2021-12-23T15:26:22.773644Z",
     "iopub.status.idle": "2021-12-23T15:26:23.188350Z",
     "shell.execute_reply": "2021-12-23T15:26:23.189376Z",
     "shell.execute_reply.started": "2021-12-22T15:10:42.993076Z"
    },
    "papermill": {
     "duration": 0.482065,
     "end_time": "2021-12-23T15:26:23.194209",
     "exception": false,
     "start_time": "2021-12-23T15:26:22.712144",
     "status": "completed"
    },
    "tags": []
   },
   "outputs": [
    {
     "name": "stdout",
     "output_type": "stream",
     "text": [
      "(9860, 16) (25000, 3)\n"
     ]
    },
    {
     "data": {
      "text/html": [
       "<div>\n",
       "<style scoped>\n",
       "    .dataframe tbody tr th:only-of-type {\n",
       "        vertical-align: middle;\n",
       "    }\n",
       "\n",
       "    .dataframe tbody tr th {\n",
       "        vertical-align: top;\n",
       "    }\n",
       "\n",
       "    .dataframe thead th {\n",
       "        text-align: right;\n",
       "    }\n",
       "</style>\n",
       "<table border=\"1\" class=\"dataframe\">\n",
       "  <thead>\n",
       "    <tr style=\"text-align: right;\">\n",
       "      <th></th>\n",
       "      <th>Id</th>\n",
       "      <th>Subject Focus</th>\n",
       "      <th>Eyes</th>\n",
       "      <th>Face</th>\n",
       "      <th>Near</th>\n",
       "      <th>Action</th>\n",
       "      <th>Accessory</th>\n",
       "      <th>Group</th>\n",
       "      <th>Collage</th>\n",
       "      <th>Human</th>\n",
       "      <th>Occlusion</th>\n",
       "      <th>Info</th>\n",
       "      <th>Blur</th>\n",
       "      <th>Pawpularity</th>\n",
       "      <th>path</th>\n",
       "      <th>Pawclass</th>\n",
       "    </tr>\n",
       "  </thead>\n",
       "  <tbody>\n",
       "    <tr>\n",
       "      <th>0</th>\n",
       "      <td>0007de18844b0dbbb5e1f607da0606e0</td>\n",
       "      <td>0</td>\n",
       "      <td>1</td>\n",
       "      <td>1</td>\n",
       "      <td>1</td>\n",
       "      <td>0</td>\n",
       "      <td>0</td>\n",
       "      <td>1</td>\n",
       "      <td>0</td>\n",
       "      <td>0</td>\n",
       "      <td>0</td>\n",
       "      <td>0</td>\n",
       "      <td>0</td>\n",
       "      <td>63</td>\n",
       "      <td>../input/petfinder-pawpularity-score/train/000...</td>\n",
       "      <td>0.63</td>\n",
       "    </tr>\n",
       "    <tr>\n",
       "      <th>1</th>\n",
       "      <td>0009c66b9439883ba2750fb825e1d7db</td>\n",
       "      <td>0</td>\n",
       "      <td>1</td>\n",
       "      <td>1</td>\n",
       "      <td>0</td>\n",
       "      <td>0</td>\n",
       "      <td>0</td>\n",
       "      <td>0</td>\n",
       "      <td>0</td>\n",
       "      <td>0</td>\n",
       "      <td>0</td>\n",
       "      <td>0</td>\n",
       "      <td>0</td>\n",
       "      <td>42</td>\n",
       "      <td>../input/petfinder-pawpularity-score/train/000...</td>\n",
       "      <td>0.42</td>\n",
       "    </tr>\n",
       "  </tbody>\n",
       "</table>\n",
       "</div>"
      ],
      "text/plain": [
       "                                 Id  Subject Focus  Eyes  Face  Near  Action  \\\n",
       "0  0007de18844b0dbbb5e1f607da0606e0              0     1     1     1       0   \n",
       "1  0009c66b9439883ba2750fb825e1d7db              0     1     1     0       0   \n",
       "\n",
       "   Accessory  Group  Collage  Human  Occlusion  Info  Blur  Pawpularity  \\\n",
       "0          0      1        0      0          0     0     0           63   \n",
       "1          0      0        0      0          0     0     0           42   \n",
       "\n",
       "                                                path  Pawclass  \n",
       "0  ../input/petfinder-pawpularity-score/train/000...      0.63  \n",
       "1  ../input/petfinder-pawpularity-score/train/000...      0.42  "
      ]
     },
     "metadata": {},
     "output_type": "display_data"
    },
    {
     "data": {
      "text/html": [
       "<div>\n",
       "<style scoped>\n",
       "    .dataframe tbody tr th:only-of-type {\n",
       "        vertical-align: middle;\n",
       "    }\n",
       "\n",
       "    .dataframe tbody tr th {\n",
       "        vertical-align: top;\n",
       "    }\n",
       "\n",
       "    .dataframe thead th {\n",
       "        text-align: right;\n",
       "    }\n",
       "</style>\n",
       "<table border=\"1\" class=\"dataframe\">\n",
       "  <thead>\n",
       "    <tr style=\"text-align: right;\">\n",
       "      <th></th>\n",
       "      <th>path</th>\n",
       "      <th>Pawpularity</th>\n",
       "      <th>Pawclass</th>\n",
       "    </tr>\n",
       "  </thead>\n",
       "  <tbody>\n",
       "    <tr>\n",
       "      <th>0</th>\n",
       "      <td>../input/petfinder-adoption-prediction/train_i...</td>\n",
       "      <td>41.603810</td>\n",
       "      <td>0.416038</td>\n",
       "    </tr>\n",
       "    <tr>\n",
       "      <th>1</th>\n",
       "      <td>../input/petfinder-adoption-prediction/train_i...</td>\n",
       "      <td>39.878258</td>\n",
       "      <td>0.398783</td>\n",
       "    </tr>\n",
       "  </tbody>\n",
       "</table>\n",
       "</div>"
      ],
      "text/plain": [
       "                                                path  Pawpularity  Pawclass\n",
       "0  ../input/petfinder-adoption-prediction/train_i...    41.603810  0.416038\n",
       "1  ../input/petfinder-adoption-prediction/train_i...    39.878258  0.398783"
      ]
     },
     "metadata": {},
     "output_type": "display_data"
    }
   ],
   "source": [
    "df_train = pd.read_csv(CFG['input_trpath'])\n",
    "df_train[\"path\"] = [f\"{CFG['input_trimg']}{i}.jpg\" for i in df_train.Id]\n",
    "df_train[\"Pawclass\"] = df_train.Pawpularity / 100\n",
    "\n",
    "df_exdata = pd.read_csv(CFG['input_expath'])\n",
    "df_exdata[\"Pawclass\"] = df_exdata.Pawpularity / 100\n",
    "\n",
    "print(df_train.shape, df_exdata.shape)\n",
    "display(df_train.head(2))\n",
    "display(df_exdata.head(2))"
   ]
  },
  {
   "cell_type": "code",
   "execution_count": 7,
   "id": "36247908",
   "metadata": {
    "execution": {
     "iopub.execute_input": "2021-12-23T15:26:23.400293Z",
     "iopub.status.busy": "2021-12-23T15:26:23.396524Z",
     "iopub.status.idle": "2021-12-23T15:26:23.904868Z",
     "shell.execute_reply": "2021-12-23T15:26:23.905275Z",
     "shell.execute_reply.started": "2021-12-22T15:10:43.141413Z"
    },
    "papermill": {
     "duration": 0.656611,
     "end_time": "2021-12-23T15:26:23.905432",
     "exception": false,
     "start_time": "2021-12-23T15:26:23.248821",
     "status": "completed"
    },
    "tags": []
   },
   "outputs": [
    {
     "data": {
      "text/plain": [
       "<AxesSubplot:>"
      ]
     },
     "execution_count": 7,
     "metadata": {},
     "output_type": "execute_result"
    },
    {
     "data": {
      "image/png": "[encoded data removed]",
      "text/plain": [
       "<Figure size 432x288 with 1 Axes>"
      ]
     },
     "metadata": {
      "needs_background": "light"
     },
     "output_type": "display_data"
    }
   ],
   "source": [
    "df_train.Pawpularity.hist(bins=100)"
   ]
  },
  {
   "cell_type": "code",
   "execution_count": 8,
   "id": "1507f9d3",
   "metadata": {
    "execution": {
     "iopub.execute_input": "2021-12-23T15:26:40.091478Z",
     "iopub.status.busy": "2021-12-23T15:26:40.090544Z",
     "iopub.status.idle": "2021-12-23T15:26:40.553351Z",
     "shell.execute_reply": "2021-12-23T15:26:40.552868Z",
     "shell.execute_reply.started": "2021-12-22T15:10:46.500716Z"
    },
    "papermill": {
     "duration": 2.238259,
     "end_time": "2021-12-23T15:26:40.553490",
     "exception": false,
     "start_time": "2021-12-23T15:26:38.315231",
     "status": "completed"
    },
    "tags": []
   },
   "outputs": [
    {
     "data": {
      "text/plain": [
       "<AxesSubplot:>"
      ]
     },
     "execution_count": 8,
     "metadata": {},
     "output_type": "execute_result"
    },
    {
     "data": {
      "image/png": "[encoded data removed]",
      "text/plain": [
       "<Figure size 432x288 with 1 Axes>"
      ]
     },
     "metadata": {
      "needs_background": "light"
     },
     "output_type": "display_data"
    }
   ],
   "source": [
    "df_exdata.Pawpularity.hist(bins=100)"
   ]
  },
  {
   "cell_type": "markdown",
   "id": "7c5040e5",
   "metadata": {
    "papermill": {
     "duration": 1.004636,
     "end_time": "2021-12-23T15:26:43.095164",
     "exception": false,
     "start_time": "2021-12-23T15:26:42.090528",
     "status": "completed"
    },
    "tags": []
   },
   "source": [
    "# Define model"
   ]
  },
  {
   "cell_type": "code",
   "execution_count": 9,
   "id": "14e2695f",
   "metadata": {
    "execution": {
     "iopub.execute_input": "2021-12-23T15:26:43.138144Z",
     "iopub.status.busy": "2021-12-23T15:26:43.137496Z",
     "iopub.status.idle": "2021-12-23T15:26:43.139819Z",
     "shell.execute_reply": "2021-12-23T15:26:43.140265Z",
     "shell.execute_reply.started": "2021-12-22T15:10:48.913238Z"
    },
    "papermill": {
     "duration": 0.027246,
     "end_time": "2021-12-23T15:26:43.140404",
     "exception": false,
     "start_time": "2021-12-23T15:26:43.113158",
     "status": "completed"
    },
    "tags": []
   },
   "outputs": [],
   "source": [
    "class Model(nn.Module):\n",
    "    def __init__(self, model_name, pretrained=True):\n",
    "        super().__init__()\n",
    "        self.model = timm.create_model(model_name, pretrained=pretrained, in_chans=3)\n",
    "        self.n_features = self.model.classifier.in_features\n",
    "        self.model.classifier = nn.Linear(self.n_features, 1)\n",
    "\n",
    "    def forward(self, x):\n",
    "        output = self.model(x)\n",
    "        return output\n",
    "\n",
    "class SwinModel(nn.Module):\n",
    "    def __init__(self, model_name, pretrained=True):\n",
    "        super().__init__()\n",
    "        self.model   = timm.create_model(model_name, pretrained=pretrained, num_classes=0, in_chans=3)\n",
    "        num_features = self.model.num_features\n",
    "        self.linear  = nn.Linear(num_features, 1)\n",
    "\n",
    "    def forward(self, x):\n",
    "        x = self.model(x)\n",
    "        output = self.linear(x)\n",
    "        return output"
   ]
  },
  {
   "cell_type": "code",
   "execution_count": 10,
   "id": "4be890e6",
   "metadata": {
    "execution": {
     "iopub.execute_input": "2021-12-23T15:26:43.182351Z",
     "iopub.status.busy": "2021-12-23T15:26:43.180767Z",
     "iopub.status.idle": "2021-12-23T15:26:43.182961Z",
     "shell.execute_reply": "2021-12-23T15:26:43.183445Z",
     "shell.execute_reply.started": "2021-12-22T15:10:50.38669Z"
    },
    "papermill": {
     "duration": 0.027226,
     "end_time": "2021-12-23T15:26:43.183573",
     "exception": false,
     "start_time": "2021-12-23T15:26:43.156347",
     "status": "completed"
    },
    "tags": []
   },
   "outputs": [],
   "source": [
    "class PetFinderDataset(Dataset):\n",
    "    def __init__(self, df_img, transforms=None, train=True, output_label=True):\n",
    "        super().__init__()\n",
    "        self.df_img  = df_img.reset_index(drop=True).copy()\n",
    "        self.transforms   = transforms\n",
    "        self.train        = train\n",
    "        self.output_label = output_label\n",
    "        \n",
    "    def __len__(self):\n",
    "        return self.df_img.shape[0]\n",
    "    \n",
    "    def __getitem__(self, index: int):\n",
    "        img = get_img(self.df_img.loc[index].path)\n",
    "        if CFG[\"loss\"] == \"binary\":\n",
    "            y = torch.from_numpy(np.array(self.df_img.loc[index].Pawclass))\n",
    "        else:\n",
    "            y = torch.from_numpy(np.array(self.df_img.loc[index].Pawpularity))\n",
    "        if self.transforms:\n",
    "            if self.train:\n",
    "                img = self.transforms(image=img)['image']\n",
    "            else:\n",
    "                h, w, _ = img.shape\n",
    "                trans = self.transforms(h, w)\n",
    "                img   = trans(image=img)['image']\n",
    "        if self.output_label:\n",
    "            return img, y\n",
    "        return img"
   ]
  },
  {
   "cell_type": "code",
   "execution_count": 11,
   "id": "c1e5919d",
   "metadata": {
    "execution": {
     "iopub.execute_input": "2021-12-23T15:26:43.226813Z",
     "iopub.status.busy": "2021-12-23T15:26:43.226029Z",
     "iopub.status.idle": "2021-12-23T15:26:43.228042Z",
     "shell.execute_reply": "2021-12-23T15:26:43.228466Z",
     "shell.execute_reply.started": "2021-12-22T15:10:54.723491Z"
    },
    "papermill": {
     "duration": 0.0281,
     "end_time": "2021-12-23T15:26:43.228593",
     "exception": false,
     "start_time": "2021-12-23T15:26:43.200493",
     "status": "completed"
    },
    "tags": []
   },
   "outputs": [],
   "source": [
    "def get_train_transforms():\n",
    "    return Compose([\n",
    "        Resize(CFG['size'], CFG['size'], p=1.0),\n",
    "        HorizontalFlip(p=0.5),\n",
    "        HueSaturationValue(hue_shift_limit=0.2, sat_shift_limit=0.2, val_shift_limit=0.2, p=0.5),\n",
    "        RandomBrightnessContrast(brightness_limit=(-0.1,0.1), contrast_limit=(-0.1, 0.1), p=0.5),\n",
    "        Normalize(mean=[0.485, 0.456, 0.406], std=[0.229, 0.224, 0.225], max_pixel_value=255.0, p=1.0),\n",
    "        ToTensorV2(p=1.0)], p=1.0)\n",
    "\n",
    "#https://www.kaggle.com/heyytanay/definitive-pytorch-trainer-mixup-kfolds-w-b\n",
    "def mixup_augmentation(x:torch.Tensor, y:torch.Tensor, alpha:float = 1.0):\n",
    "    \"\"\"\n",
    "    Function which performs Mixup augmentation\n",
    "    \"\"\"\n",
    "    assert alpha > 0, \"Alpha must be greater than 0\"\n",
    "    assert x.shape[0] > 1, \"Need more than 1 sample to apply mixup\"\n",
    "\n",
    "    lam = np.random.beta(alpha, alpha)\n",
    "    rand_idx = torch.randperm(x.shape[0])\n",
    "    mixed_x  = lam * x + (1 - lam) * x[rand_idx, :]\n",
    "    target_a, target_b = y, y[rand_idx]\n",
    "    return mixed_x, target_a, target_b, lam\n",
    "\n",
    "def prepare_dataloader(train):\n",
    "    train_ds = PetFinderDataset(train, transforms=get_train_transforms())\n",
    "    train_loader = torch.utils.data.DataLoader(train_ds,\n",
    "                                               batch_size=CFG['batch_size'],\n",
    "                                               drop_last=False,\n",
    "                                               pin_memory=False,\n",
    "                                               shuffle=True,\n",
    "                                               num_workers=CFG['num_workers'])\n",
    "    return train_loader"
   ]
  },
  {
   "cell_type": "code",
   "execution_count": 12,
   "id": "b82ab636",
   "metadata": {
    "execution": {
     "iopub.execute_input": "2021-12-23T15:26:43.268184Z",
     "iopub.status.busy": "2021-12-23T15:26:43.267633Z",
     "iopub.status.idle": "2021-12-23T15:26:43.278155Z",
     "shell.execute_reply": "2021-12-23T15:26:43.277745Z",
     "shell.execute_reply.started": "2021-12-22T15:11:00.533533Z"
    },
    "papermill": {
     "duration": 0.03391,
     "end_time": "2021-12-23T15:26:43.278270",
     "exception": false,
     "start_time": "2021-12-23T15:26:43.244360",
     "status": "completed"
    },
    "tags": []
   },
   "outputs": [],
   "source": [
    "def train_one_epoch(epoch, model, loss_fn, optimizer, train_loader, device, scheduler=None, schd_batch_update=False):\n",
    "    model.train()\n",
    "\n",
    "    t = time.time()\n",
    "    running_loss  = None\n",
    "    mean_loss     = 0\n",
    "    img_preds_all = []\n",
    "    img_truth_all = []\n",
    "\n",
    "    pbar = tqdm(enumerate(train_loader), total=len(train_loader))\n",
    "    for step, (imgs, targets) in pbar:\n",
    "        imgs    = imgs.to(device).float()\n",
    "        targets = targets.reshape(-1,1).to(device).float()\n",
    "\n",
    "        if torch.rand(1)[0] < CFG[\"mixup_ratio\"]:\n",
    "            mix_img, tar_a, tar_b, lam = mixup_augmentation(imgs, targets, alpha=0.5)\n",
    "            with autocast():\n",
    "                img_preds = model(mix_img)\n",
    "                # Mixup loss calculation\n",
    "                loss_a = loss_fn(img_preds, tar_a)\n",
    "                loss_b = loss_fn(img_preds, tar_b)\n",
    "                loss = (loss_a * lam + (1 - lam) * loss_b) / CFG['accum_iter']\n",
    "        else:\n",
    "            with autocast():\n",
    "                img_preds = model(imgs)\n",
    "                loss = loss_fn(img_preds, targets) / CFG['accum_iter']\n",
    "        scaler.scale(loss).backward()\n",
    "\n",
    "        img_preds_all += [img_preds.detach().cpu().numpy()]\n",
    "        img_truth_all += [targets.detach().cpu().numpy()]\n",
    "        \n",
    "        if running_loss is None:\n",
    "            running_loss = loss.item()\n",
    "        else:\n",
    "            running_loss = running_loss * .99 + loss.item() * .01\n",
    "        mean_loss += loss.item()\n",
    "\n",
    "        if ((step + 1) %  CFG['accum_iter'] == 0) or ((step + 1) == len(train_loader)):\n",
    "            scaler.step(optimizer)\n",
    "            scaler.update()\n",
    "            optimizer.zero_grad() \n",
    "            if scheduler is not None and schd_batch_update:\n",
    "                scheduler.step()\n",
    "\n",
    "        if ((step + 1) % CFG['verbose_step'] == 0) or ((step + 1) == len(train_loader)):\n",
    "            description = f'epoch {epoch} loss: {running_loss:.4f}'\n",
    "            pbar.set_description(description)\n",
    "    \n",
    "    if CFG[\"loss\"] == \"binary\":\n",
    "        img_preds_all = (sigmoid(np.concatenate(img_preds_all))*100).astype(int)\n",
    "        img_truth_all = (np.concatenate(img_truth_all)*100).astype(int)\n",
    "    else:\n",
    "        img_preds_all = np.concatenate(img_preds_all)\n",
    "        img_truth_all = np.concatenate(img_truth_all)\n",
    "    rmse = np.sqrt(mean_squared_error(img_preds_all, img_truth_all))\n",
    "    print('Training rmse = {:.6f}'.format(rmse))\n",
    "\n",
    "    if scheduler is not None and not schd_batch_update:\n",
    "        scheduler.step()\n",
    "    return rmse, mean_loss/len(train_loader), [img_preds_all, img_truth_all]"
   ]
  },
  {
   "cell_type": "code",
   "execution_count": 13,
   "id": "9e1f337a",
   "metadata": {
    "execution": {
     "iopub.execute_input": "2021-12-23T15:26:43.317561Z",
     "iopub.status.busy": "2021-12-23T15:26:43.316829Z",
     "iopub.status.idle": "2021-12-23T15:26:43.318727Z",
     "shell.execute_reply": "2021-12-23T15:26:43.319199Z",
     "shell.execute_reply.started": "2021-12-22T15:11:07.351208Z"
    },
    "papermill": {
     "duration": 0.025265,
     "end_time": "2021-12-23T15:26:43.319323",
     "exception": false,
     "start_time": "2021-12-23T15:26:43.294058",
     "status": "completed"
    },
    "tags": []
   },
   "outputs": [],
   "source": [
    "def sgd_optimizer(model, lr, momentum, weight_decay):\n",
    "    params = []\n",
    "    for key, value in model.named_parameters():\n",
    "        if not value.requires_grad:\n",
    "            continue\n",
    "        apply_weight_decay = weight_decay\n",
    "        apply_lr = lr\n",
    "        if 'bias' in key or 'bn' in key:\n",
    "            apply_weight_decay = 0\n",
    "        if 'bias' in key:\n",
    "            apply_lr = 2 * lr       # Just a Caffe-style common practice. Made no difference.\n",
    "        params += [{'params': [value], 'lr': apply_lr, 'weight_decay': apply_weight_decay}]\n",
    "    optimizer = torch.optim.SGD(params, lr, momentum=momentum)\n",
    "    return optimizer\n",
    "\n",
    "class RMSELoss(nn.Module):\n",
    "    def __init__(self):\n",
    "        super().__init__()\n",
    "        self.mse = nn.MSELoss()\n",
    "        \n",
    "    def forward(self, yhat, y):\n",
    "        return torch.sqrt(self.mse(yhat, y))"
   ]
  },
  {
   "cell_type": "markdown",
   "id": "d00c95c5",
   "metadata": {
    "papermill": {
     "duration": 0.015765,
     "end_time": "2021-12-23T15:26:43.351767",
     "exception": false,
     "start_time": "2021-12-23T15:26:43.336002",
     "status": "completed"
    },
    "tags": []
   },
   "source": [
    "# Run training"
   ]
  },
  {
   "cell_type": "code",
   "execution_count": 14,
   "id": "bcc9a530",
   "metadata": {
    "execution": {
     "iopub.execute_input": "2021-12-23T15:26:43.399091Z",
     "iopub.status.busy": "2021-12-23T15:26:43.398451Z",
     "iopub.status.idle": "2021-12-23T16:13:10.225139Z",
     "shell.execute_reply": "2021-12-23T16:13:10.224448Z",
     "shell.execute_reply.started": "2021-12-22T15:11:14.867348Z"
    },
    "papermill": {
     "duration": 2786.857504,
     "end_time": "2021-12-23T16:13:10.225288",
     "exception": false,
     "start_time": "2021-12-23T15:26:43.367784",
     "status": "completed"
    },
    "tags": []
   },
   "outputs": [
    {
     "name": "stderr",
     "output_type": "stream",
     "text": [
      "Downloading: \"https://github.com/rwightman/pytorch-image-models/releases/download/v0.1-effv2-weights/tf_efficientnetv2_s_21k-6337ad01.pth\" to /root/.cache/torch/hub/checkpoints/tf_efficientnetv2_s_21k-6337ad01.pth\n"
     ]
    },
    {
     "name": "stdout",
     "output_type": "stream",
     "text": [
      "Training with epoch 0 started.\n",
      "Data size is 25000. All of data is pseudo labeled data.\n"
     ]
    },
    {
     "name": "stderr",
     "output_type": "stream",
     "text": [
      "epoch 0 loss: 0.3389: 100%|██████████| 782/782 [04:45<00:00,  2.74it/s]\n"
     ]
    },
    {
     "name": "stdout",
     "output_type": "stream",
     "text": [
      "Training rmse = 12.145674\n",
      "Training with epoch 1 started.\n",
      "Data size is 25000. All of data is pseudo labeled data.\n"
     ]
    },
    {
     "name": "stderr",
     "output_type": "stream",
     "text": [
      "epoch 1 loss: 0.3350: 100%|██████████| 782/782 [04:31<00:00,  2.88it/s]\n"
     ]
    },
    {
     "name": "stdout",
     "output_type": "stream",
     "text": [
      "Training rmse = 8.142599\n",
      "Training with epoch 2 started.\n",
      "Data size is 25000. All of data is pseudo labeled data.\n"
     ]
    },
    {
     "name": "stderr",
     "output_type": "stream",
     "text": [
      "epoch 2 loss: 0.3329: 100%|██████████| 782/782 [04:32<00:00,  2.87it/s]\n"
     ]
    },
    {
     "name": "stdout",
     "output_type": "stream",
     "text": [
      "Training rmse = 6.601106\n",
      "Training with epoch 3 started.\n",
      "Data size is 25000. All of data is pseudo labeled data.\n"
     ]
    },
    {
     "name": "stderr",
     "output_type": "stream",
     "text": [
      "epoch 3 loss: 0.3318: 100%|██████████| 782/782 [04:35<00:00,  2.84it/s]\n"
     ]
    },
    {
     "name": "stdout",
     "output_type": "stream",
     "text": [
      "Training rmse = 5.677905\n",
      "Training with epoch 4 started.\n",
      "Data size is 25000. All of data is pseudo labeled data.\n"
     ]
    },
    {
     "name": "stderr",
     "output_type": "stream",
     "text": [
      "epoch 4 loss: 0.3307: 100%|██████████| 782/782 [04:36<00:00,  2.82it/s]\n"
     ]
    },
    {
     "name": "stdout",
     "output_type": "stream",
     "text": [
      "Training rmse = 4.972512\n",
      "Training with epoch 5 started.\n",
      "Data size is 25000. All of data is pseudo labeled data.\n"
     ]
    },
    {
     "name": "stderr",
     "output_type": "stream",
     "text": [
      "epoch 5 loss: 0.3305: 100%|██████████| 782/782 [04:40<00:00,  2.79it/s]\n"
     ]
    },
    {
     "name": "stdout",
     "output_type": "stream",
     "text": [
      "Training rmse = 4.420380\n",
      "Training with epoch 6 started.\n",
      "Data size is 25000. All of data is pseudo labeled data.\n"
     ]
    },
    {
     "name": "stderr",
     "output_type": "stream",
     "text": [
      "epoch 6 loss: 0.3301: 100%|██████████| 782/782 [04:36<00:00,  2.83it/s]\n"
     ]
    },
    {
     "name": "stdout",
     "output_type": "stream",
     "text": [
      "Training rmse = 3.994902\n",
      "Training with epoch 7 started.\n",
      "Data size is 25000. All of data is pseudo labeled data.\n"
     ]
    },
    {
     "name": "stderr",
     "output_type": "stream",
     "text": [
      "epoch 7 loss: 0.3300: 100%|██████████| 782/782 [04:35<00:00,  2.84it/s]\n"
     ]
    },
    {
     "name": "stdout",
     "output_type": "stream",
     "text": [
      "Training rmse = 3.655418\n",
      "Training with epoch 8 started.\n",
      "Data size is 25000. All of data is pseudo labeled data.\n"
     ]
    },
    {
     "name": "stderr",
     "output_type": "stream",
     "text": [
      "epoch 8 loss: 0.3296: 100%|██████████| 782/782 [04:37<00:00,  2.82it/s]\n"
     ]
    },
    {
     "name": "stdout",
     "output_type": "stream",
     "text": [
      "Training rmse = 3.359178\n",
      "Training with epoch 9 started.\n",
      "Data size is 25000. All of data is pseudo labeled data.\n"
     ]
    },
    {
     "name": "stderr",
     "output_type": "stream",
     "text": [
      "epoch 9 loss: 0.3293: 100%|██████████| 782/782 [04:37<00:00,  2.81it/s]\n"
     ]
    },
    {
     "name": "stdout",
     "output_type": "stream",
     "text": [
      "Training rmse = 3.159665\n"
     ]
    }
   ],
   "source": [
    "not_improved_cnt = 0\n",
    "best_rmse  = 999\n",
    "best_epoch = 0\n",
    "histories  = {}\n",
    "device     = torch.device(CFG['device'])\n",
    "\n",
    "if -1 < CFG[\"model\"].find(\"swin\"):\n",
    "    model = SwinModel(CFG[\"model\"], pretrained=True)\n",
    "else:\n",
    "    model = Model(CFG[\"model\"], pretrained=True)\n",
    "model.to(device)\n",
    "scaler    = GradScaler()\n",
    "#optimizer = sgd_optimizer(model, CFG['lr'], CFG['momentum'], CFG['weight_decay'])\n",
    "#scheduler = CosineAnnealingLR(optimizer=optimizer, T_max=CFG['T_0'])\n",
    "optimizer = RAdam(model.parameters(), lr=CFG['lr'], weight_decay=CFG['weight_decay'])\n",
    "scheduler = None\n",
    "if CFG[\"loss\"] == \"binary\":\n",
    "    loss  = nn.BCEWithLogitsLoss().to(device)\n",
    "else:\n",
    "    loss  = RMSELoss().to(device)\n",
    "\n",
    "for epoch in range(CFG['epochs']):\n",
    "    print('Training with epoch {} started.'.format(epoch))\n",
    "    \n",
    "    target = \"Pawclass\" if CFG[\"loss\"] == \"binary\" else \"Pawpularity\"\n",
    "    # Ref: https://www.kaggle.com/c/tensorflow-speech-recognition-challenge/discussion/47722\n",
    "    if CFG[\"train_type\"] == 1:\n",
    "        n     = int(df_train.shape[0] * random.uniform(0.2, 0.35))\n",
    "        train = pd.concat([df_train[[\"path\",target]],\n",
    "                           df_exdata.sample(n)[[\"path\",target]]]).reset_index(drop=True)\n",
    "        print(f\"Data size is {train.shape[0]} including {train.shape[0]-df_train.shape[0]} pseudo labeled data.\")\n",
    "    else:\n",
    "        train = df_exdata.copy()\n",
    "        print(f\"Data size is {train.shape[0]}. All of data is pseudo labeled data.\")\n",
    "    train_loader = prepare_dataloader(train)\n",
    "    \n",
    "    rmse, train_loss, hist = train_one_epoch(epoch, model, loss, optimizer, train_loader, device, scheduler=scheduler, schd_batch_update=False)\n",
    "    histories[epoch] = [rmse, train_loss, hist]\n",
    "\n",
    "    torch.save(model.state_dict(), f\"{CFG['output_path']}{CFG['save_name']}_{epoch}.pt\")\n",
    "\n",
    "del model, optimizer, train_loader, scaler\n",
    "torch.cuda.empty_cache()"
   ]
  },
  {
   "cell_type": "code",
   "execution_count": 15,
   "id": "60df37b9",
   "metadata": {
    "execution": {
     "iopub.execute_input": "2021-12-23T16:13:19.112750Z",
     "iopub.status.busy": "2021-12-23T16:13:19.111852Z",
     "iopub.status.idle": "2021-12-23T16:13:19.307227Z",
     "shell.execute_reply": "2021-12-23T16:13:19.307661Z",
     "shell.execute_reply.started": "2021-12-22T15:13:43.277127Z"
    },
    "papermill": {
     "duration": 4.284025,
     "end_time": "2021-12-23T16:13:19.307812",
     "exception": false,
     "start_time": "2021-12-23T16:13:15.023787",
     "status": "completed"
    },
    "tags": []
   },
   "outputs": [
    {
     "data": {
      "image/png": "[encoded data removed]",
      "text/plain": [
       "<Figure size 432x288 with 1 Axes>"
      ]
     },
     "metadata": {
      "needs_background": "light"
     },
     "output_type": "display_data"
    }
   ],
   "source": [
    "rmse, _, (pred, gt) = histories[epoch]\n",
    "plt.scatter(x=pred, y=gt)\n",
    "plt.xticks(np.arange(0,101,10))\n",
    "plt.yticks(np.arange(0,101,10))\n",
    "plt.title(f\"best epoch {best_epoch}: rmse {round(rmse,5)}\")\n",
    "plt.show()"
   ]
  }
 ],
 "metadata": {
  "kernelspec": {
   "display_name": "Python 3",
   "language": "python",
   "name": "python3"
  },
  "language_info": {
   "codemirror_mode": {
    "name": "ipython",
    "version": 3
   },
   "file_extension": ".py",
   "mimetype": "text/x-python",
   "name": "python",
   "nbconvert_exporter": "python",
   "pygments_lexer": "ipython3",
   "version": "3.7.10"
  },
  "papermill": {
   "default_parameters": {},
   "duration": 2904.961912,
   "end_time": "2021-12-23T16:13:26.111518",
   "environment_variables": {},
   "exception": null,
   "input_path": "__notebook__.ipynb",
   "output_path": "__notebook__.ipynb",
   "parameters": {},
   "start_time": "2021-12-23T15:25:01.149606",
   "version": "2.3.3"
  }
 },
 "nbformat": 4,
 "nbformat_minor": 5
}
