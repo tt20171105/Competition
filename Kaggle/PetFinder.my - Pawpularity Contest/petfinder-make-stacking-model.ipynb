{
 "cells": [
  {
   "cell_type": "code",
   "execution_count": 1,
   "id": "1647d52a",
   "metadata": {
    "execution": {
     "iopub.execute_input": "2022-01-14T12:23:42.591924Z",
     "iopub.status.busy": "2022-01-14T12:23:42.590031Z",
     "iopub.status.idle": "2022-01-14T12:23:43.582409Z",
     "shell.execute_reply": "2022-01-14T12:23:43.581549Z",
     "shell.execute_reply.started": "2022-01-14T12:16:59.818949Z"
    },
    "papermill": {
     "duration": 1.010663,
     "end_time": "2022-01-14T12:23:43.582591",
     "exception": false,
     "start_time": "2022-01-14T12:23:42.571928",
     "status": "completed"
    },
    "tags": []
   },
   "outputs": [],
   "source": [
    "import os\n",
    "import pickle\n",
    "import itertools\n",
    "import numpy as np\n",
    "import pandas as pd\n",
    "import matplotlib.pyplot as plt\n",
    "from glob import glob\n",
    "from tqdm import tqdm\n",
    "from sklearn.metrics import mean_squared_error\n",
    "from sklearn.linear_model import Ridge, Lasso\n",
    "from sklearn.model_selection import StratifiedKFold\n",
    "\n",
    "pd.set_option(\"max_columns\", 150)\n",
    "pd.set_option('display.max_rows', 150)"
   ]
  },
  {
   "cell_type": "code",
   "execution_count": 2,
   "id": "948eea5a",
   "metadata": {
    "execution": {
     "iopub.execute_input": "2022-01-14T12:23:43.614664Z",
     "iopub.status.busy": "2022-01-14T12:23:43.613773Z",
     "iopub.status.idle": "2022-01-14T12:23:43.616584Z",
     "shell.execute_reply": "2022-01-14T12:23:43.616091Z",
     "shell.execute_reply.started": "2022-01-14T12:17:00.717286Z"
    },
    "papermill": {
     "duration": 0.021371,
     "end_time": "2022-01-14T12:23:43.616742",
     "exception": false,
     "start_time": "2022-01-14T12:23:43.595371",
     "status": "completed"
    },
    "tags": []
   },
   "outputs": [],
   "source": [
    "# This is based on the notebook below which has 17.84127 LB score.\n",
    "# https://www.kaggle.com/ttkagglett/petfinder-inference-with-fastai?scriptVersionId=84526827\n",
    "models = [\"petfinder_swin_binary_ss2_meta_0.pt\",\n",
    "          \"petfinder_effnet_binary_fastai_ss_0.pth\",\n",
    "          \"petfinder_beit_binary_fastai_0.pth\",\n",
    "          \"petfinder_vit_binary_fastai_mixup_0.pth\",\n",
    "          \"petfinder_swin384_binary_fastai_0.pth\",\n",
    "          \"petfinder_swin_binary_fastai_ss_0.pth\",\n",
    "          \"petfinder_swin_binary_fastai_ss_smogn_0.pth\"]\n",
    "\n",
    "# 17.81281 LB score.\n",
    "# https://www.kaggle.com/ttkagglett/petfinder-inference-with-fastai?scriptVersionId=85064330\n",
    "models = [\"petfinder_swin_binary_ss2_meta_0.pt\",\n",
    "          \"petfinder_effnet_binary_fastai_ss_0.pth\",\n",
    "          \"petfinder_beit_binary_fastai_0.pth\",\n",
    "          \"petfinder_vit_binary_fastai_mixup_0.pth\",\n",
    "          \"petfinder_cait_binary_fastai_mixup_0.pth\",\n",
    "          \"petfinder_swin_binary_fastai_highlr_0.pth\",\n",
    "          \"petfinder_swin_binary_fastai_ss_0.pth\"]\n",
    "\n",
    "# 17.83021 LB score\n",
    "# https://www.kaggle.com/ttkagglett/petfinder-inference-with-fastai?scriptVersionId=84974455\n",
    "models = [\"petfinder_swin_binary_ss2_meta_0.pt\",\n",
    "          \"petfinder_effnet_binary_fastai_ss_0.pth\",\n",
    "          \"petfinder_beit_binary_fastai_0.pth\",\n",
    "          \"petfinder_vit_binary_fastai_mixup_0.pth\",\n",
    "          \"petfinder_cait_binary_fastai_mixup_0.pth\",\n",
    "          \"petfinder_swin384_binary_fastai_0.pth\",\n",
    "          \"petfinder_swin_binary_fastai_ss_0.pth\"]"
   ]
  },
  {
   "cell_type": "code",
   "execution_count": null,
   "id": "5f2d5014",
   "metadata": {
    "execution": {
     "iopub.execute_input": "2022-01-14T12:21:33.412170Z",
     "iopub.status.busy": "2022-01-14T12:21:33.411889Z",
     "iopub.status.idle": "2022-01-14T12:21:33.475212Z",
     "shell.execute_reply": "2022-01-14T12:21:33.474472Z",
     "shell.execute_reply.started": "2022-01-14T12:21:33.412141Z"
    },
    "papermill": {
     "duration": 0.013327,
     "end_time": "2022-01-14T12:23:43.642220",
     "exception": false,
     "start_time": "2022-01-14T12:23:43.628893",
     "status": "completed"
    },
    "tags": []
   },
   "outputs": [],
   "source": []
  },
  {
   "cell_type": "code",
   "execution_count": 3,
   "id": "688820c2",
   "metadata": {
    "execution": {
     "iopub.execute_input": "2022-01-14T12:23:43.674583Z",
     "iopub.status.busy": "2022-01-14T12:23:43.673889Z",
     "iopub.status.idle": "2022-01-14T12:23:43.884027Z",
     "shell.execute_reply": "2022-01-14T12:23:43.884514Z",
     "shell.execute_reply.started": "2022-01-14T12:21:59.676040Z"
    },
    "papermill": {
     "duration": 0.23076,
     "end_time": "2022-01-14T12:23:43.884686",
     "exception": false,
     "start_time": "2022-01-14T12:23:43.653926",
     "status": "completed"
    },
    "tags": []
   },
   "outputs": [
    {
     "name": "stdout",
     "output_type": "stream",
     "text": [
      "(9860, 9)\n"
     ]
    },
    {
     "data": {
      "text/html": [
       "<div>\n",
       "<style scoped>\n",
       "    .dataframe tbody tr th:only-of-type {\n",
       "        vertical-align: middle;\n",
       "    }\n",
       "\n",
       "    .dataframe tbody tr th {\n",
       "        vertical-align: top;\n",
       "    }\n",
       "\n",
       "    .dataframe thead th {\n",
       "        text-align: right;\n",
       "    }\n",
       "</style>\n",
       "<table border=\"1\" class=\"dataframe\">\n",
       "  <thead>\n",
       "    <tr style=\"text-align: right;\">\n",
       "      <th></th>\n",
       "      <th>0</th>\n",
       "      <th>1</th>\n",
       "      <th>2</th>\n",
       "      <th>3</th>\n",
       "      <th>4</th>\n",
       "      <th>5</th>\n",
       "      <th>6</th>\n",
       "      <th>Id</th>\n",
       "      <th>Pawpularity</th>\n",
       "    </tr>\n",
       "  </thead>\n",
       "  <tbody>\n",
       "    <tr>\n",
       "      <th>0</th>\n",
       "      <td>41.957062</td>\n",
       "      <td>46.614700</td>\n",
       "      <td>44.142227</td>\n",
       "      <td>48.189121</td>\n",
       "      <td>37.696735</td>\n",
       "      <td>37.625309</td>\n",
       "      <td>43.749546</td>\n",
       "      <td>0007de18844b0dbbb5e1f607da0606e0</td>\n",
       "      <td>63</td>\n",
       "    </tr>\n",
       "    <tr>\n",
       "      <th>1</th>\n",
       "      <td>50.497047</td>\n",
       "      <td>45.938053</td>\n",
       "      <td>45.086411</td>\n",
       "      <td>41.967426</td>\n",
       "      <td>40.258675</td>\n",
       "      <td>47.329426</td>\n",
       "      <td>42.746258</td>\n",
       "      <td>0009c66b9439883ba2750fb825e1d7db</td>\n",
       "      <td>42</td>\n",
       "    </tr>\n",
       "  </tbody>\n",
       "</table>\n",
       "</div>"
      ],
      "text/plain": [
       "           0          1          2          3          4          5  \\\n",
       "0  41.957062  46.614700  44.142227  48.189121  37.696735  37.625309   \n",
       "1  50.497047  45.938053  45.086411  41.967426  40.258675  47.329426   \n",
       "\n",
       "           6                                Id  Pawpularity  \n",
       "0  43.749546  0007de18844b0dbbb5e1f607da0606e0           63  \n",
       "1  42.746258  0009c66b9439883ba2750fb825e1d7db           42  "
      ]
     },
     "execution_count": 3,
     "metadata": {},
     "output_type": "execute_result"
    }
   ],
   "source": [
    "df_train = pd.read_csv(\"../input/petfinder-pawpularity-score/train.csv\")\n",
    "#df_inference_result = pd.read_csv(\"../input/petfinder-inference-result-with-training-data/inference_result_tta2_bs1_score1784127.csv\")\n",
    "#df_inference_result = pd.read_csv(\"../input/petfinder-inference-result-with-training-data/inference_result_tta2_bs1_score1781281.csv\")\n",
    "df_inference_result_1 = pd.read_csv(\"../input/petfinder-inference-result-with-training-data/inference_result_tta2_bs1_score1784127.csv\")\n",
    "df_inference_result_2 = pd.read_csv(\"../input/petfinder-inference-result-with-training-data/inference_result_tta2_bs1_score1781281.csv\")\n",
    "df_inference_result   = df_inference_result_2.iloc[:, :5].join(df_inference_result_1.iloc[:, 4:6].rename(columns={\"4\":\"5\",\"5\":\"6\"})).join(df_inference_result_2[[\"order\",\"target\"]])\n",
    "df_inference_result[\"Id\"]          = df_train.Id\n",
    "df_inference_result[\"Pawpularity\"] = df_inference_result.target\n",
    "df_inference_result.drop([\"target\", \"order\"], axis=1, inplace=True)\n",
    "\n",
    "print(df_inference_result.shape)\n",
    "df_inference_result.head(2)"
   ]
  },
  {
   "cell_type": "code",
   "execution_count": 4,
   "id": "98703de9",
   "metadata": {
    "execution": {
     "iopub.execute_input": "2022-01-14T12:23:43.918657Z",
     "iopub.status.busy": "2022-01-14T12:23:43.917972Z",
     "iopub.status.idle": "2022-01-14T12:23:43.932106Z",
     "shell.execute_reply": "2022-01-14T12:23:43.932620Z",
     "shell.execute_reply.started": "2022-01-14T12:22:06.486442Z"
    },
    "papermill": {
     "duration": 0.035538,
     "end_time": "2022-01-14T12:23:43.932819",
     "exception": false,
     "start_time": "2022-01-14T12:23:43.897281",
     "status": "completed"
    },
    "tags": []
   },
   "outputs": [
    {
     "name": "stdout",
     "output_type": "stream",
     "text": [
      "0 17.3214 petfinder_swin_binary_ss2_meta_0.pt\n",
      "1 16.7795 petfinder_effnet_binary_fastai_ss_0.pth\n",
      "2 17.9336 petfinder_beit_binary_fastai_0.pth\n",
      "3 17.7364 petfinder_vit_binary_fastai_mixup_0.pth\n",
      "4 17.747 petfinder_cait_binary_fastai_mixup_0.pth\n",
      "5 18.0908 petfinder_swin384_binary_fastai_0.pth\n",
      "6 16.9573 petfinder_swin_binary_fastai_ss_0.pth\n",
      "Ensembled 17.1239\n"
     ]
    }
   ],
   "source": [
    "model_num = df_inference_result.shape[1] - 2\n",
    "\n",
    "for i in range(model_num):\n",
    "    y_hat = df_inference_result.iloc[:,i]\n",
    "    y     = df_inference_result.Pawpularity\n",
    "    rmse  = round(np.sqrt(mean_squared_error(y_hat, y)), 4)\n",
    "    print(i, rmse, models[i])\n",
    "    \n",
    "y_hat = df_inference_result.iloc[:,:model_num].mean(1)\n",
    "y     = df_inference_result.Pawpularity\n",
    "rmse  = round(np.sqrt(mean_squared_error(y_hat, y)), 4)\n",
    "print(\"Ensembled\", rmse)"
   ]
  },
  {
   "cell_type": "code",
   "execution_count": 5,
   "id": "0c4397f9",
   "metadata": {
    "execution": {
     "iopub.execute_input": "2022-01-14T12:23:43.979246Z",
     "iopub.status.busy": "2022-01-14T12:23:43.978496Z",
     "iopub.status.idle": "2022-01-14T12:23:44.931912Z",
     "shell.execute_reply": "2022-01-14T12:23:44.932892Z",
     "shell.execute_reply.started": "2022-01-14T12:22:11.097527Z"
    },
    "papermill": {
     "duration": 0.987513,
     "end_time": "2022-01-14T12:23:44.933183",
     "exception": false,
     "start_time": "2022-01-14T12:23:43.945670",
     "status": "completed"
    },
    "tags": []
   },
   "outputs": [],
   "source": [
    "all_rmses = []\n",
    "\n",
    "def predict(x, y):\n",
    "    model = Ridge().fit(x, y)\n",
    "    y_hat = model.predict(x)\n",
    "    return y_hat\n",
    "\n",
    "def all_rmse(n):\n",
    "    for c in itertools.combinations(range(0,7), n):\n",
    "        x     = df_inference_result.iloc[:,list(c)]\n",
    "        y_hat = x.mean(1)\n",
    "        y     = df_inference_result.Pawpularity\n",
    "        rmse  = round(np.sqrt(mean_squared_error(y_hat, y)), 4)\n",
    "        y_hat_ens = predict(x, y)\n",
    "        rmse_ens  = round(np.sqrt(mean_squared_error(y_hat_ens, y)), 4)\n",
    "        all_rmses.append([c, rmse, rmse_ens])\n",
    "    \n",
    "for i in range(1, 8):\n",
    "    all_rmse(i)"
   ]
  },
  {
   "cell_type": "code",
   "execution_count": 6,
   "id": "c5b99bad",
   "metadata": {
    "execution": {
     "iopub.execute_input": "2022-01-14T12:23:44.990839Z",
     "iopub.status.busy": "2022-01-14T12:23:44.989736Z",
     "iopub.status.idle": "2022-01-14T12:23:45.015178Z",
     "shell.execute_reply": "2022-01-14T12:23:45.016596Z",
     "shell.execute_reply.started": "2022-01-14T12:22:12.475902Z"
    },
    "papermill": {
     "duration": 0.060687,
     "end_time": "2022-01-14T12:23:45.016887",
     "exception": false,
     "start_time": "2022-01-14T12:23:44.956200",
     "status": "completed"
    },
    "tags": []
   },
   "outputs": [
    {
     "data": {
      "text/html": [
       "<div>\n",
       "<style scoped>\n",
       "    .dataframe tbody tr th:only-of-type {\n",
       "        vertical-align: middle;\n",
       "    }\n",
       "\n",
       "    .dataframe tbody tr th {\n",
       "        vertical-align: top;\n",
       "    }\n",
       "\n",
       "    .dataframe thead th {\n",
       "        text-align: right;\n",
       "    }\n",
       "</style>\n",
       "<table border=\"1\" class=\"dataframe\">\n",
       "  <thead>\n",
       "    <tr style=\"text-align: right;\">\n",
       "      <th></th>\n",
       "      <th>combination</th>\n",
       "      <th>rmse</th>\n",
       "      <th>rmse_ens</th>\n",
       "    </tr>\n",
       "  </thead>\n",
       "  <tbody>\n",
       "    <tr>\n",
       "      <th>126</th>\n",
       "      <td>(0, 1, 2, 3, 4, 5, 6)</td>\n",
       "      <td>17.1239</td>\n",
       "      <td>16.5943</td>\n",
       "    </tr>\n",
       "    <tr>\n",
       "      <th>122</th>\n",
       "      <td>(0, 1, 2, 4, 5, 6)</td>\n",
       "      <td>17.1129</td>\n",
       "      <td>16.5944</td>\n",
       "    </tr>\n",
       "    <tr>\n",
       "      <th>123</th>\n",
       "      <td>(0, 1, 3, 4, 5, 6)</td>\n",
       "      <td>17.0941</td>\n",
       "      <td>16.5964</td>\n",
       "    </tr>\n",
       "    <tr>\n",
       "      <th>107</th>\n",
       "      <td>(0, 1, 4, 5, 6)</td>\n",
       "      <td>17.0761</td>\n",
       "      <td>16.5966</td>\n",
       "    </tr>\n",
       "    <tr>\n",
       "      <th>116</th>\n",
       "      <td>(1, 2, 4, 5, 6)</td>\n",
       "      <td>17.1643</td>\n",
       "      <td>16.6023</td>\n",
       "    </tr>\n",
       "    <tr>\n",
       "      <th>125</th>\n",
       "      <td>(1, 2, 3, 4, 5, 6)</td>\n",
       "      <td>17.1697</td>\n",
       "      <td>16.6023</td>\n",
       "    </tr>\n",
       "    <tr>\n",
       "      <th>117</th>\n",
       "      <td>(1, 3, 4, 5, 6)</td>\n",
       "      <td>17.1391</td>\n",
       "      <td>16.6039</td>\n",
       "    </tr>\n",
       "    <tr>\n",
       "      <th>92</th>\n",
       "      <td>(1, 4, 5, 6)</td>\n",
       "      <td>17.1250</td>\n",
       "      <td>16.6039</td>\n",
       "    </tr>\n",
       "    <tr>\n",
       "      <th>119</th>\n",
       "      <td>(0, 1, 2, 3, 4, 5)</td>\n",
       "      <td>17.1827</td>\n",
       "      <td>16.6098</td>\n",
       "    </tr>\n",
       "    <tr>\n",
       "      <th>101</th>\n",
       "      <td>(0, 1, 2, 4, 5)</td>\n",
       "      <td>17.1810</td>\n",
       "      <td>16.6099</td>\n",
       "    </tr>\n",
       "  </tbody>\n",
       "</table>\n",
       "</div>"
      ],
      "text/plain": [
       "               combination     rmse  rmse_ens\n",
       "126  (0, 1, 2, 3, 4, 5, 6)  17.1239   16.5943\n",
       "122     (0, 1, 2, 4, 5, 6)  17.1129   16.5944\n",
       "123     (0, 1, 3, 4, 5, 6)  17.0941   16.5964\n",
       "107        (0, 1, 4, 5, 6)  17.0761   16.5966\n",
       "116        (1, 2, 4, 5, 6)  17.1643   16.6023\n",
       "125     (1, 2, 3, 4, 5, 6)  17.1697   16.6023\n",
       "117        (1, 3, 4, 5, 6)  17.1391   16.6039\n",
       "92            (1, 4, 5, 6)  17.1250   16.6039\n",
       "119     (0, 1, 2, 3, 4, 5)  17.1827   16.6098\n",
       "101        (0, 1, 2, 4, 5)  17.1810   16.6099"
      ]
     },
     "execution_count": 6,
     "metadata": {},
     "output_type": "execute_result"
    }
   ],
   "source": [
    "pd.DataFrame(all_rmses, columns=[\"combination\", \"rmse\", \"rmse_ens\"]).sort_values(\"rmse_ens\").head(10)"
   ]
  },
  {
   "cell_type": "code",
   "execution_count": 7,
   "id": "93d87354",
   "metadata": {
    "execution": {
     "iopub.execute_input": "2022-01-14T12:23:45.068133Z",
     "iopub.status.busy": "2022-01-14T12:23:45.067406Z",
     "iopub.status.idle": "2022-01-14T12:23:45.082178Z",
     "shell.execute_reply": "2022-01-14T12:23:45.083066Z",
     "shell.execute_reply.started": "2022-01-14T12:22:55.603153Z"
    },
    "papermill": {
     "duration": 0.042065,
     "end_time": "2022-01-14T12:23:45.083334",
     "exception": false,
     "start_time": "2022-01-14T12:23:45.041269",
     "status": "completed"
    },
    "tags": []
   },
   "outputs": [],
   "source": [
    "df_stacking_features = df_inference_result.copy()\n",
    "\n",
    "x = df_stacking_features.iloc[:,:model_num]\n",
    "y = df_stacking_features.Pawpularity\n",
    "model = Ridge().fit(x, y)\n",
    "\n",
    "df_stacking_features[\"ensembled\"]    = x.mean(1)\n",
    "df_stacking_features[\"inf_stacking\"] = model.predict(x)\n",
    "df_stacking_features[\"ens_diff\"]     = df_stacking_features.Pawpularity - df_stacking_features.ensembled\n",
    "df_stacking_features[\"ens_diff_abs\"] = np.abs(df_stacking_features.ens_diff)\n",
    "df_stacking_features[\"inf_diff\"]     = df_stacking_features.Pawpularity - df_stacking_features.inf_stacking\n",
    "df_stacking_features[\"inf_diff_abs\"] = np.abs(df_stacking_features.inf_diff)"
   ]
  },
  {
   "cell_type": "code",
   "execution_count": 8,
   "id": "d10bada3",
   "metadata": {
    "execution": {
     "iopub.execute_input": "2022-01-14T12:23:45.142428Z",
     "iopub.status.busy": "2022-01-14T12:23:45.141326Z",
     "iopub.status.idle": "2022-01-14T12:23:45.147398Z",
     "shell.execute_reply": "2022-01-14T12:23:45.148172Z",
     "shell.execute_reply.started": "2022-01-14T12:22:57.378584Z"
    },
    "papermill": {
     "duration": 0.041546,
     "end_time": "2022-01-14T12:23:45.148439",
     "exception": false,
     "start_time": "2022-01-14T12:23:45.106893",
     "status": "completed"
    },
    "tags": []
   },
   "outputs": [
    {
     "data": {
      "text/plain": [
       "16.59432950661851"
      ]
     },
     "execution_count": 8,
     "metadata": {},
     "output_type": "execute_result"
    }
   ],
   "source": [
    "np.sqrt(mean_squared_error(df_stacking_features.inf_stacking, df_stacking_features.Pawpularity))"
   ]
  },
  {
   "cell_type": "code",
   "execution_count": 9,
   "id": "3e2479b6",
   "metadata": {
    "execution": {
     "iopub.execute_input": "2022-01-14T12:23:45.201280Z",
     "iopub.status.busy": "2022-01-14T12:23:45.198628Z",
     "iopub.status.idle": "2022-01-14T12:23:45.609989Z",
     "shell.execute_reply": "2022-01-14T12:23:45.610490Z",
     "shell.execute_reply.started": "2022-01-14T12:22:58.966144Z"
    },
    "papermill": {
     "duration": 0.438043,
     "end_time": "2022-01-14T12:23:45.610659",
     "exception": false,
     "start_time": "2022-01-14T12:23:45.172616",
     "status": "completed"
    },
    "tags": []
   },
   "outputs": [
    {
     "data": {
      "image/png": "[encoded data removed]",
      "text/plain": [
       "<Figure size 432x288 with 1 Axes>"
      ]
     },
     "metadata": {
      "needs_background": "light"
     },
     "output_type": "display_data"
    }
   ],
   "source": [
    "df_stacking_features.plot(x=\"ensembled\", y=\"Pawpularity\", kind=\"scatter\")\n",
    "plt.xticks(np.arange(0,101,10))\n",
    "plt.yticks(np.arange(0,101,10))\n",
    "plt.show()"
   ]
  },
  {
   "cell_type": "code",
   "execution_count": 10,
   "id": "6ce7e61a",
   "metadata": {
    "execution": {
     "iopub.execute_input": "2022-01-14T12:23:45.647024Z",
     "iopub.status.busy": "2022-01-14T12:23:45.646326Z",
     "iopub.status.idle": "2022-01-14T12:23:45.894125Z",
     "shell.execute_reply": "2022-01-14T12:23:45.893523Z",
     "shell.execute_reply.started": "2022-01-14T12:23:00.887125Z"
    },
    "papermill": {
     "duration": 0.268538,
     "end_time": "2022-01-14T12:23:45.894271",
     "exception": false,
     "start_time": "2022-01-14T12:23:45.625733",
     "status": "completed"
    },
    "tags": []
   },
   "outputs": [
    {
     "data": {
      "image/png": "[encoded data removed]",
      "text/plain": [
       "<Figure size 432x288 with 1 Axes>"
      ]
     },
     "metadata": {
      "needs_background": "light"
     },
     "output_type": "display_data"
    }
   ],
   "source": [
    "df_stacking_features.plot(x=\"inf_stacking\", y=\"Pawpularity\", kind=\"scatter\")\n",
    "plt.xticks(np.arange(0,101,10))\n",
    "plt.yticks(np.arange(0,101,10))\n",
    "plt.show()"
   ]
  },
  {
   "cell_type": "code",
   "execution_count": 11,
   "id": "53ec0f04",
   "metadata": {
    "execution": {
     "iopub.execute_input": "2022-01-14T12:23:45.933314Z",
     "iopub.status.busy": "2022-01-14T12:23:45.932359Z",
     "iopub.status.idle": "2022-01-14T12:23:45.965600Z",
     "shell.execute_reply": "2022-01-14T12:23:45.964974Z",
     "shell.execute_reply.started": "2022-01-14T12:23:04.575029Z"
    },
    "papermill": {
     "duration": 0.054857,
     "end_time": "2022-01-14T12:23:45.965766",
     "exception": false,
     "start_time": "2022-01-14T12:23:45.910909",
     "status": "completed"
    },
    "tags": []
   },
   "outputs": [
    {
     "data": {
      "text/html": [
       "<div>\n",
       "<style scoped>\n",
       "    .dataframe tbody tr th:only-of-type {\n",
       "        vertical-align: middle;\n",
       "    }\n",
       "\n",
       "    .dataframe tbody tr th {\n",
       "        vertical-align: top;\n",
       "    }\n",
       "\n",
       "    .dataframe thead th {\n",
       "        text-align: right;\n",
       "    }\n",
       "</style>\n",
       "<table border=\"1\" class=\"dataframe\">\n",
       "  <thead>\n",
       "    <tr style=\"text-align: right;\">\n",
       "      <th></th>\n",
       "      <th>0</th>\n",
       "      <th>1</th>\n",
       "      <th>2</th>\n",
       "      <th>3</th>\n",
       "      <th>4</th>\n",
       "      <th>5</th>\n",
       "      <th>6</th>\n",
       "      <th>Id</th>\n",
       "      <th>Pawpularity</th>\n",
       "      <th>ensembled</th>\n",
       "      <th>inf_stacking</th>\n",
       "      <th>ens_diff</th>\n",
       "      <th>ens_diff_abs</th>\n",
       "      <th>inf_diff</th>\n",
       "      <th>inf_diff_abs</th>\n",
       "    </tr>\n",
       "  </thead>\n",
       "  <tbody>\n",
       "    <tr>\n",
       "      <th>6649</th>\n",
       "      <td>24.716824</td>\n",
       "      <td>28.635824</td>\n",
       "      <td>19.721439</td>\n",
       "      <td>31.457233</td>\n",
       "      <td>28.253004</td>\n",
       "      <td>30.569983</td>\n",
       "      <td>25.662157</td>\n",
       "      <td>ab5602ec4002932525238ec80e828d0e</td>\n",
       "      <td>27</td>\n",
       "      <td>27.002352</td>\n",
       "      <td>25.443084</td>\n",
       "      <td>-0.002352</td>\n",
       "      <td>0.002352</td>\n",
       "      <td>1.556916</td>\n",
       "      <td>1.556916</td>\n",
       "    </tr>\n",
       "    <tr>\n",
       "      <th>7948</th>\n",
       "      <td>36.794235</td>\n",
       "      <td>34.406227</td>\n",
       "      <td>42.447662</td>\n",
       "      <td>35.067051</td>\n",
       "      <td>37.844761</td>\n",
       "      <td>35.641132</td>\n",
       "      <td>36.778633</td>\n",
       "      <td>cde00d026a0b84ad613669a77e7ffa3e</td>\n",
       "      <td>37</td>\n",
       "      <td>36.997100</td>\n",
       "      <td>33.150889</td>\n",
       "      <td>0.002900</td>\n",
       "      <td>0.002900</td>\n",
       "      <td>3.849111</td>\n",
       "      <td>3.849111</td>\n",
       "    </tr>\n",
       "    <tr>\n",
       "      <th>35</th>\n",
       "      <td>28.472191</td>\n",
       "      <td>28.874481</td>\n",
       "      <td>33.165596</td>\n",
       "      <td>29.152584</td>\n",
       "      <td>28.717974</td>\n",
       "      <td>31.864256</td>\n",
       "      <td>29.800827</td>\n",
       "      <td>00dff6959ce41208a9e0528744162332</td>\n",
       "      <td>30</td>\n",
       "      <td>30.006844</td>\n",
       "      <td>26.474451</td>\n",
       "      <td>-0.006844</td>\n",
       "      <td>0.006844</td>\n",
       "      <td>3.525549</td>\n",
       "      <td>3.525549</td>\n",
       "    </tr>\n",
       "    <tr>\n",
       "      <th>5641</th>\n",
       "      <td>50.973442</td>\n",
       "      <td>37.622204</td>\n",
       "      <td>46.210899</td>\n",
       "      <td>33.178574</td>\n",
       "      <td>38.254650</td>\n",
       "      <td>38.740070</td>\n",
       "      <td>41.958870</td>\n",
       "      <td>9181e1bf5ac3f9c7cba4a7e5da000ac3</td>\n",
       "      <td>41</td>\n",
       "      <td>40.991244</td>\n",
       "      <td>39.447815</td>\n",
       "      <td>0.008756</td>\n",
       "      <td>0.008756</td>\n",
       "      <td>1.552185</td>\n",
       "      <td>1.552185</td>\n",
       "    </tr>\n",
       "    <tr>\n",
       "      <th>7293</th>\n",
       "      <td>25.029554</td>\n",
       "      <td>27.440994</td>\n",
       "      <td>27.939779</td>\n",
       "      <td>24.699207</td>\n",
       "      <td>32.850105</td>\n",
       "      <td>28.578627</td>\n",
       "      <td>29.523731</td>\n",
       "      <td>bbb00fee6bb0f7d4b67c93a214189819</td>\n",
       "      <td>28</td>\n",
       "      <td>28.008857</td>\n",
       "      <td>24.539742</td>\n",
       "      <td>-0.008857</td>\n",
       "      <td>0.008857</td>\n",
       "      <td>3.460258</td>\n",
       "      <td>3.460258</td>\n",
       "    </tr>\n",
       "    <tr>\n",
       "      <th>...</th>\n",
       "      <td>...</td>\n",
       "      <td>...</td>\n",
       "      <td>...</td>\n",
       "      <td>...</td>\n",
       "      <td>...</td>\n",
       "      <td>...</td>\n",
       "      <td>...</td>\n",
       "      <td>...</td>\n",
       "      <td>...</td>\n",
       "      <td>...</td>\n",
       "      <td>...</td>\n",
       "      <td>...</td>\n",
       "      <td>...</td>\n",
       "      <td>...</td>\n",
       "      <td>...</td>\n",
       "    </tr>\n",
       "    <tr>\n",
       "      <th>7985</th>\n",
       "      <td>75.111656</td>\n",
       "      <td>72.831299</td>\n",
       "      <td>70.872452</td>\n",
       "      <td>73.105026</td>\n",
       "      <td>80.912498</td>\n",
       "      <td>71.420937</td>\n",
       "      <td>76.506165</td>\n",
       "      <td>ced7ef91e2927cdd29f89db39373d656</td>\n",
       "      <td>5</td>\n",
       "      <td>74.394290</td>\n",
       "      <td>77.737730</td>\n",
       "      <td>-69.394290</td>\n",
       "      <td>69.394290</td>\n",
       "      <td>-72.737730</td>\n",
       "      <td>72.737730</td>\n",
       "    </tr>\n",
       "    <tr>\n",
       "      <th>8857</th>\n",
       "      <td>26.407980</td>\n",
       "      <td>27.227360</td>\n",
       "      <td>25.285435</td>\n",
       "      <td>28.007490</td>\n",
       "      <td>27.688641</td>\n",
       "      <td>23.663393</td>\n",
       "      <td>26.962589</td>\n",
       "      <td>e4ce3f83100dfb93941598570caf9829</td>\n",
       "      <td>96</td>\n",
       "      <td>26.463270</td>\n",
       "      <td>25.811288</td>\n",
       "      <td>69.536730</td>\n",
       "      <td>69.536730</td>\n",
       "      <td>70.188712</td>\n",
       "      <td>70.188712</td>\n",
       "    </tr>\n",
       "    <tr>\n",
       "      <th>2630</th>\n",
       "      <td>30.649137</td>\n",
       "      <td>30.514986</td>\n",
       "      <td>29.477453</td>\n",
       "      <td>32.586693</td>\n",
       "      <td>31.589771</td>\n",
       "      <td>26.559711</td>\n",
       "      <td>29.758656</td>\n",
       "      <td>43dd26a5de4bf886ec1043a4490d4f0d</td>\n",
       "      <td>100</td>\n",
       "      <td>30.162344</td>\n",
       "      <td>29.455683</td>\n",
       "      <td>69.837656</td>\n",
       "      <td>69.837656</td>\n",
       "      <td>70.544317</td>\n",
       "      <td>70.544317</td>\n",
       "    </tr>\n",
       "    <tr>\n",
       "      <th>2806</th>\n",
       "      <td>26.231915</td>\n",
       "      <td>25.982845</td>\n",
       "      <td>24.749958</td>\n",
       "      <td>28.512281</td>\n",
       "      <td>25.109922</td>\n",
       "      <td>24.310312</td>\n",
       "      <td>24.871679</td>\n",
       "      <td>4831f6e12c448078718a7688dd6ba901</td>\n",
       "      <td>96</td>\n",
       "      <td>25.681273</td>\n",
       "      <td>24.038327</td>\n",
       "      <td>70.318727</td>\n",
       "      <td>70.318727</td>\n",
       "      <td>71.961673</td>\n",
       "      <td>71.961673</td>\n",
       "    </tr>\n",
       "    <tr>\n",
       "      <th>2937</th>\n",
       "      <td>77.245583</td>\n",
       "      <td>70.354652</td>\n",
       "      <td>84.357140</td>\n",
       "      <td>81.397163</td>\n",
       "      <td>77.720284</td>\n",
       "      <td>70.138596</td>\n",
       "      <td>72.990501</td>\n",
       "      <td>4bc6822f43e2674e94d923decec43915</td>\n",
       "      <td>2</td>\n",
       "      <td>76.314845</td>\n",
       "      <td>74.136838</td>\n",
       "      <td>-74.314845</td>\n",
       "      <td>74.314845</td>\n",
       "      <td>-72.136838</td>\n",
       "      <td>72.136838</td>\n",
       "    </tr>\n",
       "  </tbody>\n",
       "</table>\n",
       "<p>9860 rows × 15 columns</p>\n",
       "</div>"
      ],
      "text/plain": [
       "              0          1          2          3          4          5  \\\n",
       "6649  24.716824  28.635824  19.721439  31.457233  28.253004  30.569983   \n",
       "7948  36.794235  34.406227  42.447662  35.067051  37.844761  35.641132   \n",
       "35    28.472191  28.874481  33.165596  29.152584  28.717974  31.864256   \n",
       "5641  50.973442  37.622204  46.210899  33.178574  38.254650  38.740070   \n",
       "7293  25.029554  27.440994  27.939779  24.699207  32.850105  28.578627   \n",
       "...         ...        ...        ...        ...        ...        ...   \n",
       "7985  75.111656  72.831299  70.872452  73.105026  80.912498  71.420937   \n",
       "8857  26.407980  27.227360  25.285435  28.007490  27.688641  23.663393   \n",
       "2630  30.649137  30.514986  29.477453  32.586693  31.589771  26.559711   \n",
       "2806  26.231915  25.982845  24.749958  28.512281  25.109922  24.310312   \n",
       "2937  77.245583  70.354652  84.357140  81.397163  77.720284  70.138596   \n",
       "\n",
       "              6                                Id  Pawpularity  ensembled  \\\n",
       "6649  25.662157  ab5602ec4002932525238ec80e828d0e           27  27.002352   \n",
       "7948  36.778633  cde00d026a0b84ad613669a77e7ffa3e           37  36.997100   \n",
       "35    29.800827  00dff6959ce41208a9e0528744162332           30  30.006844   \n",
       "5641  41.958870  9181e1bf5ac3f9c7cba4a7e5da000ac3           41  40.991244   \n",
       "7293  29.523731  bbb00fee6bb0f7d4b67c93a214189819           28  28.008857   \n",
       "...         ...                               ...          ...        ...   \n",
       "7985  76.506165  ced7ef91e2927cdd29f89db39373d656            5  74.394290   \n",
       "8857  26.962589  e4ce3f83100dfb93941598570caf9829           96  26.463270   \n",
       "2630  29.758656  43dd26a5de4bf886ec1043a4490d4f0d          100  30.162344   \n",
       "2806  24.871679  4831f6e12c448078718a7688dd6ba901           96  25.681273   \n",
       "2937  72.990501  4bc6822f43e2674e94d923decec43915            2  76.314845   \n",
       "\n",
       "      inf_stacking   ens_diff  ens_diff_abs   inf_diff  inf_diff_abs  \n",
       "6649     25.443084  -0.002352      0.002352   1.556916      1.556916  \n",
       "7948     33.150889   0.002900      0.002900   3.849111      3.849111  \n",
       "35       26.474451  -0.006844      0.006844   3.525549      3.525549  \n",
       "5641     39.447815   0.008756      0.008756   1.552185      1.552185  \n",
       "7293     24.539742  -0.008857      0.008857   3.460258      3.460258  \n",
       "...            ...        ...           ...        ...           ...  \n",
       "7985     77.737730 -69.394290     69.394290 -72.737730     72.737730  \n",
       "8857     25.811288  69.536730     69.536730  70.188712     70.188712  \n",
       "2630     29.455683  69.837656     69.837656  70.544317     70.544317  \n",
       "2806     24.038327  70.318727     70.318727  71.961673     71.961673  \n",
       "2937     74.136838 -74.314845     74.314845 -72.136838     72.136838  \n",
       "\n",
       "[9860 rows x 15 columns]"
      ]
     },
     "execution_count": 11,
     "metadata": {},
     "output_type": "execute_result"
    }
   ],
   "source": [
    "df_stacking_features.sort_values(\"ens_diff_abs\")"
   ]
  },
  {
   "cell_type": "code",
   "execution_count": 12,
   "id": "ec6cb6a4",
   "metadata": {
    "execution": {
     "iopub.execute_input": "2022-01-14T12:23:46.012195Z",
     "iopub.status.busy": "2022-01-14T12:23:46.011179Z",
     "iopub.status.idle": "2022-01-14T12:23:46.013750Z",
     "shell.execute_reply": "2022-01-14T12:23:46.013115Z",
     "shell.execute_reply.started": "2022-01-12T13:27:57.80908Z"
    },
    "papermill": {
     "duration": 0.026452,
     "end_time": "2022-01-14T12:23:46.013903",
     "exception": false,
     "start_time": "2022-01-14T12:23:45.987451",
     "status": "completed"
    },
    "tags": []
   },
   "outputs": [],
   "source": [
    "pickle.dump(model, open(\"./stacking_model.pickle\", 'wb'))"
   ]
  }
 ],
 "metadata": {
  "kernelspec": {
   "display_name": "Python 3",
   "language": "python",
   "name": "python3"
  },
  "language_info": {
   "codemirror_mode": {
    "name": "ipython",
    "version": 3
   },
   "file_extension": ".py",
   "mimetype": "text/x-python",
   "name": "python",
   "nbconvert_exporter": "python",
   "pygments_lexer": "ipython3",
   "version": "3.7.10"
  },
  "papermill": {
   "default_parameters": {},
   "duration": 12.917923,
   "end_time": "2022-01-14T12:23:46.644265",
   "environment_variables": {},
   "exception": null,
   "input_path": "__notebook__.ipynb",
   "output_path": "__notebook__.ipynb",
   "parameters": {},
   "start_time": "2022-01-14T12:23:33.726342",
   "version": "2.3.3"
  }
 },
 "nbformat": 4,
 "nbformat_minor": 5
}
