{
 "cells": [
  {
   "cell_type": "code",
   "execution_count": 1,
   "id": "e0dd0fe8",
   "metadata": {
    "_cell_guid": "b1076dfc-b9ad-4769-8c92-a6c4dae69d19",
    "_uuid": "8f2839f25d086af736a60e9eeb907d3b93b6e0e5",
    "execution": {
     "iopub.execute_input": "2021-12-19T15:47:40.764486Z",
     "iopub.status.busy": "2021-12-19T15:47:40.762978Z",
     "iopub.status.idle": "2021-12-19T15:47:40.772201Z",
     "shell.execute_reply": "2021-12-19T15:47:40.771620Z",
     "shell.execute_reply.started": "2021-12-19T15:23:49.687095Z"
    },
    "papermill": {
     "duration": 0.038474,
     "end_time": "2021-12-19T15:47:40.772335",
     "exception": false,
     "start_time": "2021-12-19T15:47:40.733861",
     "status": "completed"
    },
    "tags": []
   },
   "outputs": [],
   "source": [
    "import sys\n",
    "sys.path.append('../input/timm-pytorch-image-models/pytorch-image-models-master')\n",
    "sys.path.append('../input/pytorch-optimizers/')"
   ]
  },
  {
   "cell_type": "code",
   "execution_count": 2,
   "id": "deb71a1b",
   "metadata": {
    "execution": {
     "iopub.execute_input": "2021-12-19T15:47:40.827402Z",
     "iopub.status.busy": "2021-12-19T15:47:40.826800Z",
     "iopub.status.idle": "2021-12-19T15:47:49.482940Z",
     "shell.execute_reply": "2021-12-19T15:47:49.481983Z",
     "shell.execute_reply.started": "2021-12-19T15:23:49.712853Z"
    },
    "papermill": {
     "duration": 8.687075,
     "end_time": "2021-12-19T15:47:49.483090",
     "exception": false,
     "start_time": "2021-12-19T15:47:40.796015",
     "status": "completed"
    },
    "tags": []
   },
   "outputs": [],
   "source": [
    "import os\n",
    "import gc\n",
    "import cv2\n",
    "import copy\n",
    "import time\n",
    "import yaml\n",
    "import random\n",
    "import shutil\n",
    "import warnings\n",
    "import subprocess\n",
    "import numpy as np\n",
    "import pandas as pd\n",
    "import matplotlib.pyplot as plt\n",
    "from glob import glob\n",
    "from tqdm import tqdm\n",
    "from PIL import Image, ImageDraw\n",
    "from shutil import copyfile\n",
    "from IPython.core.display import Video, display\n",
    "from sklearn.metrics import mean_squared_error\n",
    "from sklearn.model_selection import train_test_split, KFold, GroupKFold, StratifiedKFold\n",
    "\n",
    "import timm\n",
    "import torch\n",
    "import torch.nn.functional as F\n",
    "import torchvision\n",
    "from torch import nn\n",
    "from torch.cuda.amp import autocast, GradScaler\n",
    "from torch.utils.data import Dataset,DataLoader\n",
    "from torch.utils.data.sampler import SequentialSampler, RandomSampler\n",
    "from torch.optim import Adam\n",
    "from torch.optim.lr_scheduler import CosineAnnealingLR\n",
    "from torch.nn.modules.loss import _WeightedLoss\n",
    "from torchvision import models, transforms\n",
    "from torch_optimizer.radam import RAdam\n",
    "\n",
    "from albumentations.pytorch import ToTensorV2\n",
    "from albumentations import (\n",
    "    HorizontalFlip, VerticalFlip, IAAPerspective, ShiftScaleRotate, CLAHE, RandomRotate90,\n",
    "    Transpose, ShiftScaleRotate, Blur, OpticalDistortion, GridDistortion, HueSaturationValue,\n",
    "    IAAAdditiveGaussianNoise, GaussNoise, MotionBlur, MedianBlur, IAAPiecewiseAffine, RandomResizedCrop,\n",
    "    IAASharpen, IAAEmboss, RandomBrightnessContrast, Flip, OneOf, Compose, Normalize, Cutout, CoarseDropout,\n",
    "    ShiftScaleRotate, CenterCrop, Resize, Rotate, RandomRotate90, RGBShift, ChannelShuffle)\n",
    "\n",
    "warnings.simplefilter('ignore')\n",
    "pd.set_option(\"max_columns\", 150)\n",
    "pd.set_option('display.max_rows', 150)"
   ]
  },
  {
   "cell_type": "code",
   "execution_count": 3,
   "id": "5d48edac",
   "metadata": {
    "execution": {
     "iopub.execute_input": "2021-12-19T15:47:49.531506Z",
     "iopub.status.busy": "2021-12-19T15:47:49.530634Z",
     "iopub.status.idle": "2021-12-19T15:47:49.532919Z",
     "shell.execute_reply": "2021-12-19T15:47:49.532381Z",
     "shell.execute_reply.started": "2021-12-19T15:23:58.722447Z"
    },
    "papermill": {
     "duration": 0.027939,
     "end_time": "2021-12-19T15:47:49.533041",
     "exception": false,
     "start_time": "2021-12-19T15:47:49.505102",
     "status": "completed"
    },
    "tags": []
   },
   "outputs": [],
   "source": [
    "#timm.list_models(pretrained=True)"
   ]
  },
  {
   "cell_type": "markdown",
   "id": "c4c0f69f",
   "metadata": {
    "papermill": {
     "duration": 0.021702,
     "end_time": "2021-12-19T15:47:49.576186",
     "exception": false,
     "start_time": "2021-12-19T15:47:49.554484",
     "status": "completed"
    },
    "tags": []
   },
   "source": [
    "# Configuration"
   ]
  },
  {
   "cell_type": "code",
   "execution_count": 4,
   "id": "28f9c547",
   "metadata": {
    "execution": {
     "iopub.execute_input": "2021-12-19T15:47:49.673928Z",
     "iopub.status.busy": "2021-12-19T15:47:49.668041Z",
     "iopub.status.idle": "2021-12-19T15:47:49.676876Z",
     "shell.execute_reply": "2021-12-19T15:47:49.677409Z",
     "shell.execute_reply.started": "2021-12-19T15:23:58.730391Z"
    },
    "papermill": {
     "duration": 0.078566,
     "end_time": "2021-12-19T15:47:49.677575",
     "exception": false,
     "start_time": "2021-12-19T15:47:49.599009",
     "status": "completed"
    },
    "tags": []
   },
   "outputs": [
    {
     "data": {
      "text/plain": [
       "{'save_prev': [True, ['petfinder_*.pt']],\n",
       " 'seed': 42,\n",
       " 'device': 'cuda:0',\n",
       " 'input_img': '../input/petfinder-pawpularity-score/train/',\n",
       " 'input_path': '../input/petfinder-smogn-dataset/train_drop_duplicated.csv',\n",
       " 'output_path': './',\n",
       " 'db_model': 'swin_large_patch4_window7_224_in22k',\n",
       " 'db_size': 224,\n",
       " 'pretrain': None,\n",
       " 'save_name': 'petfinder_swin_binary',\n",
       " 'model': 'swin_large_patch4_window7_224_in22k',\n",
       " 'loss': 'binary',\n",
       " 'size': 224,\n",
       " 'fold': 4,\n",
       " 'break_fold': 99,\n",
       " 'batch_size': 32,\n",
       " 'epochs': 10,\n",
       " 'mixup_ratio': 0,\n",
       " 'T_0': 20,\n",
       " 'lr': 2e-05,\n",
       " 'momentum': 0.9,\n",
       " 'weight_decay': 0.0001,\n",
       " 'accum_iter': 2,\n",
       " 'early_stopping': 10,\n",
       " 'verbose_step': 1,\n",
       " 'num_workers': 4}"
      ]
     },
     "execution_count": 4,
     "metadata": {},
     "output_type": "execute_result"
    }
   ],
   "source": [
    "CFG = {\n",
    "    \"save_prev\"   : [True, [\"petfinder_*.pt\"]],\n",
    "    \"seed\"        : 42,\n",
    "    'device'      : \"cuda:0\" if torch.cuda.is_available() else \"cpu\",\n",
    "    \"input_img\"   : '../input/petfinder-pawpularity-score/train/',\n",
    "    \"input_path\"  : '../input/petfinder-smogn-dataset/train_drop_duplicated.csv',\n",
    "    \"output_path\" : './',\n",
    "    \"db_model\"    : 'swin_large_patch4_window7_224_in22k',\n",
    "    \"db_size\"     : 224,\n",
    "    \"pretrain\"    : None, #\"petfinder_swin_binary_%d.pt\",\n",
    "    \"save_name\"   : \"petfinder_swin_binary\",\n",
    "    \"model\"       : \"swin_large_patch4_window7_224_in22k\", #tf_efficientnetv2_s_in21k, swin_large_patch4_window12_384_in22k\n",
    "    \"loss\"        : \"binary\",\n",
    "    \"size\"        : 224,\n",
    "    \"fold\"        : 4,\n",
    "    \"break_fold\"  : 99,\n",
    "    \"batch_size\"  : 32,\n",
    "    \"epochs\"      : 10,\n",
    "    \"mixup_ratio\" : 0,\n",
    "    'T_0'         : 20,\n",
    "    \"lr\"          : 2e-5, #0.001,\n",
    "    'momentum'    : 0.9,\n",
    "    'weight_decay': 1e-4,\n",
    "    \"accum_iter\"  : 2,\n",
    "    'early_stopping': 10,\n",
    "    'verbose_step'  : 1,\n",
    "    \"num_workers\"   : 4\n",
    "}\n",
    "\n",
    "CFG"
   ]
  },
  {
   "cell_type": "code",
   "execution_count": 5,
   "id": "e10942c8",
   "metadata": {
    "execution": {
     "iopub.execute_input": "2021-12-19T15:47:49.739122Z",
     "iopub.status.busy": "2021-12-19T15:47:49.738477Z",
     "iopub.status.idle": "2021-12-19T15:47:49.749657Z",
     "shell.execute_reply": "2021-12-19T15:47:49.749194Z",
     "shell.execute_reply.started": "2021-12-19T15:23:58.787592Z"
    },
    "papermill": {
     "duration": 0.045989,
     "end_time": "2021-12-19T15:47:49.749808",
     "exception": false,
     "start_time": "2021-12-19T15:47:49.703819",
     "status": "completed"
    },
    "tags": []
   },
   "outputs": [],
   "source": [
    "def get_img(path):\n",
    "    im_bgr = cv2.imread(path)\n",
    "    im_rgb = im_bgr[:, :, ::-1]\n",
    "    return im_rgb\n",
    "\n",
    "def sigmoid(a):\n",
    "    return 1 / (1 + np.exp(-a))\n",
    "\n",
    "def softmax(x):\n",
    "    max = np.max(x,axis=1,keepdims=True)\n",
    "    e_x = np.exp(x - max)\n",
    "    sum = np.sum(e_x,axis=1,keepdims=True)\n",
    "    return e_x / sum \n",
    "\n",
    "def seed_everything(seed = 42):\n",
    "    '''Sets the seed of the entire notebook so results are the same every time we run.\n",
    "    This is for REPRODUCIBILITY.'''\n",
    "    np.random.seed(seed)\n",
    "    random.seed(seed)\n",
    "    torch.manual_seed(seed)\n",
    "    torch.cuda.manual_seed(seed)\n",
    "    # When running on the CuDNN backend, two further options must be set\n",
    "    torch.backends.cudnn.deterministic = True\n",
    "    torch.backends.cudnn.benchmark = False\n",
    "    # Set a fixed value for the hash seed\n",
    "    os.environ['PYTHONHASHSEED'] = str(seed)\n",
    "    \n",
    "seed_everything(CFG[\"seed\"])"
   ]
  },
  {
   "cell_type": "code",
   "execution_count": 6,
   "id": "bbd08a6b",
   "metadata": {
    "execution": {
     "iopub.execute_input": "2021-12-19T15:47:49.805520Z",
     "iopub.status.busy": "2021-12-19T15:47:49.804927Z",
     "iopub.status.idle": "2021-12-19T15:49:20.462744Z",
     "shell.execute_reply": "2021-12-19T15:49:20.462102Z",
     "shell.execute_reply.started": "2021-12-19T15:23:58.802752Z"
    },
    "papermill": {
     "duration": 90.687561,
     "end_time": "2021-12-19T15:49:20.462891",
     "exception": false,
     "start_time": "2021-12-19T15:47:49.775330",
     "status": "completed"
    },
    "tags": []
   },
   "outputs": [],
   "source": [
    "if CFG['save_prev'][0]:\n",
    "    for file_pattern in CFG['save_prev'][1]:\n",
    "        for f in glob(f\"../input/petfinder-cnn-models/{file_pattern}\"):\n",
    "            !cp {f} ./"
   ]
  },
  {
   "cell_type": "markdown",
   "id": "1d0ac486",
   "metadata": {
    "papermill": {
     "duration": 0.096093,
     "end_time": "2021-12-19T15:49:22.197837",
     "exception": false,
     "start_time": "2021-12-19T15:49:22.101744",
     "status": "completed"
    },
    "tags": []
   },
   "source": [
    "# Load data"
   ]
  },
  {
   "cell_type": "code",
   "execution_count": 7,
   "id": "e48ce3fc",
   "metadata": {
    "execution": {
     "iopub.execute_input": "2021-12-19T15:49:24.420561Z",
     "iopub.status.busy": "2021-12-19T15:49:24.419699Z",
     "iopub.status.idle": "2021-12-19T15:49:24.625363Z",
     "shell.execute_reply": "2021-12-19T15:49:24.626051Z",
     "shell.execute_reply.started": "2021-12-19T15:25:39.621439Z"
    },
    "papermill": {
     "duration": 0.31525,
     "end_time": "2021-12-19T15:49:24.626289",
     "exception": false,
     "start_time": "2021-12-19T15:49:24.311039",
     "status": "completed"
    },
    "tags": []
   },
   "outputs": [
    {
     "name": "stdout",
     "output_type": "stream",
     "text": [
      "['Subject Focus', 'Eyes', 'Face', 'Near', 'Action', 'Accessory', 'Group', 'Collage', 'Human', 'Occlusion', 'Info', 'Blur']\n",
      "(9860, 16)\n"
     ]
    },
    {
     "data": {
      "text/html": [
       "<div>\n",
       "<style scoped>\n",
       "    .dataframe tbody tr th:only-of-type {\n",
       "        vertical-align: middle;\n",
       "    }\n",
       "\n",
       "    .dataframe tbody tr th {\n",
       "        vertical-align: top;\n",
       "    }\n",
       "\n",
       "    .dataframe thead th {\n",
       "        text-align: right;\n",
       "    }\n",
       "</style>\n",
       "<table border=\"1\" class=\"dataframe\">\n",
       "  <thead>\n",
       "    <tr style=\"text-align: right;\">\n",
       "      <th></th>\n",
       "      <th>Id</th>\n",
       "      <th>Subject Focus</th>\n",
       "      <th>Eyes</th>\n",
       "      <th>Face</th>\n",
       "      <th>Near</th>\n",
       "      <th>Action</th>\n",
       "      <th>Accessory</th>\n",
       "      <th>Group</th>\n",
       "      <th>Collage</th>\n",
       "      <th>Human</th>\n",
       "      <th>Occlusion</th>\n",
       "      <th>Info</th>\n",
       "      <th>Blur</th>\n",
       "      <th>Pawpularity</th>\n",
       "      <th>path</th>\n",
       "      <th>Pawclass</th>\n",
       "    </tr>\n",
       "  </thead>\n",
       "  <tbody>\n",
       "    <tr>\n",
       "      <th>0</th>\n",
       "      <td>0007de18844b0dbbb5e1f607da0606e0</td>\n",
       "      <td>0</td>\n",
       "      <td>1</td>\n",
       "      <td>1</td>\n",
       "      <td>1</td>\n",
       "      <td>0</td>\n",
       "      <td>0</td>\n",
       "      <td>1</td>\n",
       "      <td>0</td>\n",
       "      <td>0</td>\n",
       "      <td>0</td>\n",
       "      <td>0</td>\n",
       "      <td>0</td>\n",
       "      <td>63</td>\n",
       "      <td>../input/petfinder-pawpularity-score/train/000...</td>\n",
       "      <td>0.63</td>\n",
       "    </tr>\n",
       "    <tr>\n",
       "      <th>1</th>\n",
       "      <td>0009c66b9439883ba2750fb825e1d7db</td>\n",
       "      <td>0</td>\n",
       "      <td>1</td>\n",
       "      <td>1</td>\n",
       "      <td>0</td>\n",
       "      <td>0</td>\n",
       "      <td>0</td>\n",
       "      <td>0</td>\n",
       "      <td>0</td>\n",
       "      <td>0</td>\n",
       "      <td>0</td>\n",
       "      <td>0</td>\n",
       "      <td>0</td>\n",
       "      <td>42</td>\n",
       "      <td>../input/petfinder-pawpularity-score/train/000...</td>\n",
       "      <td>0.42</td>\n",
       "    </tr>\n",
       "  </tbody>\n",
       "</table>\n",
       "</div>"
      ],
      "text/plain": [
       "                                 Id  Subject Focus  Eyes  Face  Near  Action  \\\n",
       "0  0007de18844b0dbbb5e1f607da0606e0              0     1     1     1       0   \n",
       "1  0009c66b9439883ba2750fb825e1d7db              0     1     1     0       0   \n",
       "\n",
       "   Accessory  Group  Collage  Human  Occlusion  Info  Blur  Pawpularity  \\\n",
       "0          0      1        0      0          0     0     0           63   \n",
       "1          0      0        0      0          0     0     0           42   \n",
       "\n",
       "                                                path  Pawclass  \n",
       "0  ../input/petfinder-pawpularity-score/train/000...      0.63  \n",
       "1  ../input/petfinder-pawpularity-score/train/000...      0.42  "
      ]
     },
     "execution_count": 7,
     "metadata": {},
     "output_type": "execute_result"
    }
   ],
   "source": [
    "df_train = pd.read_csv(CFG['input_path'])\n",
    "df_train[\"path\"] = [f\"{CFG['input_img']}{i}.jpg\" for i in df_train.Id]\n",
    "df_train[\"Pawclass\"] = df_train.Pawpularity / 100\n",
    "\n",
    "meta_features = [c for c in df_train.columns if c not in [\"Id\",\"path\", \"Pawpularity\",\"Pawclass\"]]\n",
    "\n",
    "print(meta_features)\n",
    "print(df_train.shape)\n",
    "df_train.head(2)"
   ]
  },
  {
   "cell_type": "code",
   "execution_count": 8,
   "id": "e5075880",
   "metadata": {
    "execution": {
     "iopub.execute_input": "2021-12-19T15:49:24.818941Z",
     "iopub.status.busy": "2021-12-19T15:49:24.817987Z",
     "iopub.status.idle": "2021-12-19T15:49:24.906297Z",
     "shell.execute_reply": "2021-12-19T15:49:24.905541Z",
     "shell.execute_reply.started": "2021-12-19T15:25:39.768001Z"
    },
    "papermill": {
     "duration": 0.213441,
     "end_time": "2021-12-19T15:49:24.906422",
     "exception": false,
     "start_time": "2021-12-19T15:49:24.692981",
     "status": "completed"
    },
    "tags": []
   },
   "outputs": [
    {
     "data": {
      "text/html": [
       "<div>\n",
       "<style scoped>\n",
       "    .dataframe tbody tr th:only-of-type {\n",
       "        vertical-align: middle;\n",
       "    }\n",
       "\n",
       "    .dataframe tbody tr th {\n",
       "        vertical-align: top;\n",
       "    }\n",
       "\n",
       "    .dataframe thead th {\n",
       "        text-align: right;\n",
       "    }\n",
       "</style>\n",
       "<table border=\"1\" class=\"dataframe\">\n",
       "  <thead>\n",
       "    <tr style=\"text-align: right;\">\n",
       "      <th></th>\n",
       "      <th>Subject Focus</th>\n",
       "      <th>Eyes</th>\n",
       "      <th>Face</th>\n",
       "      <th>Near</th>\n",
       "      <th>Action</th>\n",
       "      <th>Accessory</th>\n",
       "      <th>Group</th>\n",
       "      <th>Collage</th>\n",
       "      <th>Human</th>\n",
       "      <th>Occlusion</th>\n",
       "      <th>Info</th>\n",
       "      <th>Blur</th>\n",
       "      <th>Pawpularity</th>\n",
       "      <th>Pawclass</th>\n",
       "    </tr>\n",
       "  </thead>\n",
       "  <tbody>\n",
       "    <tr>\n",
       "      <th>count</th>\n",
       "      <td>9860.000000</td>\n",
       "      <td>9860.000000</td>\n",
       "      <td>9860.000000</td>\n",
       "      <td>9860.000000</td>\n",
       "      <td>9860.000000</td>\n",
       "      <td>9860.000000</td>\n",
       "      <td>9860.000000</td>\n",
       "      <td>9860.000000</td>\n",
       "      <td>9860.000000</td>\n",
       "      <td>9860.000000</td>\n",
       "      <td>9860.000000</td>\n",
       "      <td>9860.000000</td>\n",
       "      <td>9860.000000</td>\n",
       "      <td>9860.000000</td>\n",
       "    </tr>\n",
       "    <tr>\n",
       "      <th>mean</th>\n",
       "      <td>0.027586</td>\n",
       "      <td>0.772008</td>\n",
       "      <td>0.903651</td>\n",
       "      <td>0.861460</td>\n",
       "      <td>0.009838</td>\n",
       "      <td>0.067647</td>\n",
       "      <td>0.129209</td>\n",
       "      <td>0.048479</td>\n",
       "      <td>0.165619</td>\n",
       "      <td>0.171197</td>\n",
       "      <td>0.060446</td>\n",
       "      <td>0.070791</td>\n",
       "      <td>38.066227</td>\n",
       "      <td>0.380662</td>\n",
       "    </tr>\n",
       "    <tr>\n",
       "      <th>std</th>\n",
       "      <td>0.163792</td>\n",
       "      <td>0.419559</td>\n",
       "      <td>0.295084</td>\n",
       "      <td>0.345483</td>\n",
       "      <td>0.098701</td>\n",
       "      <td>0.251152</td>\n",
       "      <td>0.335448</td>\n",
       "      <td>0.214786</td>\n",
       "      <td>0.371757</td>\n",
       "      <td>0.376700</td>\n",
       "      <td>0.238324</td>\n",
       "      <td>0.256489</td>\n",
       "      <td>20.612391</td>\n",
       "      <td>0.206124</td>\n",
       "    </tr>\n",
       "    <tr>\n",
       "      <th>min</th>\n",
       "      <td>0.000000</td>\n",
       "      <td>0.000000</td>\n",
       "      <td>0.000000</td>\n",
       "      <td>0.000000</td>\n",
       "      <td>0.000000</td>\n",
       "      <td>0.000000</td>\n",
       "      <td>0.000000</td>\n",
       "      <td>0.000000</td>\n",
       "      <td>0.000000</td>\n",
       "      <td>0.000000</td>\n",
       "      <td>0.000000</td>\n",
       "      <td>0.000000</td>\n",
       "      <td>1.000000</td>\n",
       "      <td>0.010000</td>\n",
       "    </tr>\n",
       "    <tr>\n",
       "      <th>25%</th>\n",
       "      <td>0.000000</td>\n",
       "      <td>1.000000</td>\n",
       "      <td>1.000000</td>\n",
       "      <td>1.000000</td>\n",
       "      <td>0.000000</td>\n",
       "      <td>0.000000</td>\n",
       "      <td>0.000000</td>\n",
       "      <td>0.000000</td>\n",
       "      <td>0.000000</td>\n",
       "      <td>0.000000</td>\n",
       "      <td>0.000000</td>\n",
       "      <td>0.000000</td>\n",
       "      <td>25.000000</td>\n",
       "      <td>0.250000</td>\n",
       "    </tr>\n",
       "    <tr>\n",
       "      <th>50%</th>\n",
       "      <td>0.000000</td>\n",
       "      <td>1.000000</td>\n",
       "      <td>1.000000</td>\n",
       "      <td>1.000000</td>\n",
       "      <td>0.000000</td>\n",
       "      <td>0.000000</td>\n",
       "      <td>0.000000</td>\n",
       "      <td>0.000000</td>\n",
       "      <td>0.000000</td>\n",
       "      <td>0.000000</td>\n",
       "      <td>0.000000</td>\n",
       "      <td>0.000000</td>\n",
       "      <td>33.000000</td>\n",
       "      <td>0.330000</td>\n",
       "    </tr>\n",
       "    <tr>\n",
       "      <th>75%</th>\n",
       "      <td>0.000000</td>\n",
       "      <td>1.000000</td>\n",
       "      <td>1.000000</td>\n",
       "      <td>1.000000</td>\n",
       "      <td>0.000000</td>\n",
       "      <td>0.000000</td>\n",
       "      <td>0.000000</td>\n",
       "      <td>0.000000</td>\n",
       "      <td>0.000000</td>\n",
       "      <td>0.000000</td>\n",
       "      <td>0.000000</td>\n",
       "      <td>0.000000</td>\n",
       "      <td>46.000000</td>\n",
       "      <td>0.460000</td>\n",
       "    </tr>\n",
       "    <tr>\n",
       "      <th>max</th>\n",
       "      <td>1.000000</td>\n",
       "      <td>1.000000</td>\n",
       "      <td>1.000000</td>\n",
       "      <td>1.000000</td>\n",
       "      <td>1.000000</td>\n",
       "      <td>1.000000</td>\n",
       "      <td>1.000000</td>\n",
       "      <td>1.000000</td>\n",
       "      <td>1.000000</td>\n",
       "      <td>1.000000</td>\n",
       "      <td>1.000000</td>\n",
       "      <td>1.000000</td>\n",
       "      <td>100.000000</td>\n",
       "      <td>1.000000</td>\n",
       "    </tr>\n",
       "  </tbody>\n",
       "</table>\n",
       "</div>"
      ],
      "text/plain": [
       "       Subject Focus         Eyes         Face         Near       Action  \\\n",
       "count    9860.000000  9860.000000  9860.000000  9860.000000  9860.000000   \n",
       "mean        0.027586     0.772008     0.903651     0.861460     0.009838   \n",
       "std         0.163792     0.419559     0.295084     0.345483     0.098701   \n",
       "min         0.000000     0.000000     0.000000     0.000000     0.000000   \n",
       "25%         0.000000     1.000000     1.000000     1.000000     0.000000   \n",
       "50%         0.000000     1.000000     1.000000     1.000000     0.000000   \n",
       "75%         0.000000     1.000000     1.000000     1.000000     0.000000   \n",
       "max         1.000000     1.000000     1.000000     1.000000     1.000000   \n",
       "\n",
       "         Accessory        Group      Collage        Human    Occlusion  \\\n",
       "count  9860.000000  9860.000000  9860.000000  9860.000000  9860.000000   \n",
       "mean      0.067647     0.129209     0.048479     0.165619     0.171197   \n",
       "std       0.251152     0.335448     0.214786     0.371757     0.376700   \n",
       "min       0.000000     0.000000     0.000000     0.000000     0.000000   \n",
       "25%       0.000000     0.000000     0.000000     0.000000     0.000000   \n",
       "50%       0.000000     0.000000     0.000000     0.000000     0.000000   \n",
       "75%       0.000000     0.000000     0.000000     0.000000     0.000000   \n",
       "max       1.000000     1.000000     1.000000     1.000000     1.000000   \n",
       "\n",
       "              Info         Blur  Pawpularity     Pawclass  \n",
       "count  9860.000000  9860.000000  9860.000000  9860.000000  \n",
       "mean      0.060446     0.070791    38.066227     0.380662  \n",
       "std       0.238324     0.256489    20.612391     0.206124  \n",
       "min       0.000000     0.000000     1.000000     0.010000  \n",
       "25%       0.000000     0.000000    25.000000     0.250000  \n",
       "50%       0.000000     0.000000    33.000000     0.330000  \n",
       "75%       0.000000     0.000000    46.000000     0.460000  \n",
       "max       1.000000     1.000000   100.000000     1.000000  "
      ]
     },
     "execution_count": 8,
     "metadata": {},
     "output_type": "execute_result"
    }
   ],
   "source": [
    "df_train.describe()"
   ]
  },
  {
   "cell_type": "code",
   "execution_count": 9,
   "id": "c0f4b818",
   "metadata": {
    "execution": {
     "iopub.execute_input": "2021-12-19T15:49:37.590481Z",
     "iopub.status.busy": "2021-12-19T15:49:37.589617Z",
     "iopub.status.idle": "2021-12-19T15:49:38.180440Z",
     "shell.execute_reply": "2021-12-19T15:49:38.180858Z",
     "shell.execute_reply.started": "2021-12-19T15:25:45.293344Z"
    },
    "papermill": {
     "duration": 2.345442,
     "end_time": "2021-12-19T15:49:38.181022",
     "exception": false,
     "start_time": "2021-12-19T15:49:35.835580",
     "status": "completed"
    },
    "tags": []
   },
   "outputs": [
    {
     "data": {
      "text/plain": [
       "<AxesSubplot:>"
      ]
     },
     "execution_count": 9,
     "metadata": {},
     "output_type": "execute_result"
    },
    {
     "data": {
      "image/png": "[encoded data removed]",
      "text/plain": [
       "<Figure size 432x288 with 1 Axes>"
      ]
     },
     "metadata": {
      "needs_background": "light"
     },
     "output_type": "display_data"
    }
   ],
   "source": [
    "df_train.Pawpularity.hist(bins=100)"
   ]
  },
  {
   "cell_type": "markdown",
   "id": "a4794089",
   "metadata": {
    "papermill": {
     "duration": 1.503725,
     "end_time": "2021-12-19T15:49:40.909200",
     "exception": false,
     "start_time": "2021-12-19T15:49:39.405475",
     "status": "completed"
    },
    "tags": []
   },
   "source": [
    "# Make dog and cat labels"
   ]
  },
  {
   "cell_type": "code",
   "execution_count": 10,
   "id": "caf5be32",
   "metadata": {
    "execution": {
     "iopub.execute_input": "2021-12-19T15:49:40.998192Z",
     "iopub.status.busy": "2021-12-19T15:49:40.997341Z",
     "iopub.status.idle": "2021-12-19T15:49:40.999789Z",
     "shell.execute_reply": "2021-12-19T15:49:40.999353Z",
     "shell.execute_reply.started": "2021-12-19T15:25:48.766245Z"
    },
    "papermill": {
     "duration": 0.033277,
     "end_time": "2021-12-19T15:49:40.999915",
     "exception": false,
     "start_time": "2021-12-19T15:49:40.966638",
     "status": "completed"
    },
    "tags": []
   },
   "outputs": [],
   "source": [
    "def load_model(path):\n",
    "    try:\n",
    "        checkpoint = torch.load(path, map_location='cpu')\n",
    "    except Exception as err:\n",
    "        print(err)\n",
    "        return None\n",
    "    model = models.densenet121(pretrained=False)\n",
    "    model.classifier = nn.Sequential(nn.Linear(1024, 512),\n",
    "                                 nn.ReLU(),\n",
    "                                 nn.Dropout(0.2),\n",
    "                                 nn.Linear(512, 256),\n",
    "                                 nn.ReLU(),\n",
    "                                 nn.Dropout(0.1),\n",
    "                                 nn.Linear(256, 2))\n",
    "    model.parameters = checkpoint['parameters']\n",
    "    model.load_state_dict(checkpoint['state_dict'])\n",
    "    return model"
   ]
  },
  {
   "cell_type": "code",
   "execution_count": 11,
   "id": "e91d167c",
   "metadata": {
    "execution": {
     "iopub.execute_input": "2021-12-19T15:49:41.054962Z",
     "iopub.status.busy": "2021-12-19T15:49:41.054248Z",
     "iopub.status.idle": "2021-12-19T15:49:41.056760Z",
     "shell.execute_reply": "2021-12-19T15:49:41.056299Z",
     "shell.execute_reply.started": "2021-12-19T15:25:56.200582Z"
    },
    "papermill": {
     "duration": 0.033242,
     "end_time": "2021-12-19T15:49:41.056868",
     "exception": false,
     "start_time": "2021-12-19T15:49:41.023626",
     "status": "completed"
    },
    "tags": []
   },
   "outputs": [],
   "source": [
    "def image_transform(imagepath):\n",
    "    test_transforms = transforms.Compose([transforms.Resize(255),\n",
    "                                          transforms.CenterCrop(224),\n",
    "                                          transforms.ToTensor(),\n",
    "                                          transforms.Normalize([0.485, 0.456, 0.406],\n",
    "                                                               [0.229, 0.224, 0.225])])\n",
    "    image = Image.open(imagepath)\n",
    "    imagetensor = test_transforms(image)\n",
    "    return imagetensor\n",
    "\n",
    "class PetFinderDataset(Dataset):\n",
    "    def __init__(self, df, transforms=None):\n",
    "        super().__init__()\n",
    "        self.df = df.reset_index(drop=True).copy()\n",
    "        self.transforms = transforms\n",
    "        \n",
    "    def __len__(self):\n",
    "        return self.df.shape[0]\n",
    "    \n",
    "    def __getitem__(self, index: int):\n",
    "        img = image_transform(self.df.loc[index].path)\n",
    "        return img"
   ]
  },
  {
   "cell_type": "code",
   "execution_count": 12,
   "id": "49eb6949",
   "metadata": {
    "execution": {
     "iopub.execute_input": "2021-12-19T15:49:41.110234Z",
     "iopub.status.busy": "2021-12-19T15:49:41.109475Z",
     "iopub.status.idle": "2021-12-19T15:49:41.111894Z",
     "shell.execute_reply": "2021-12-19T15:49:41.111458Z",
     "shell.execute_reply.started": "2021-12-19T15:25:59.849679Z"
    },
    "papermill": {
     "duration": 0.031506,
     "end_time": "2021-12-19T15:49:41.112016",
     "exception": false,
     "start_time": "2021-12-19T15:49:41.080510",
     "status": "completed"
    },
    "tags": []
   },
   "outputs": [],
   "source": [
    "def inference_one_epoch(model, data_loader, device):\n",
    "    model.eval()\n",
    "\n",
    "    image_preds_all = []\n",
    "    pbar = tqdm(enumerate(data_loader), total=len(data_loader))\n",
    "    for step, (imgs) in pbar:\n",
    "        imgs = imgs.to(device).float()\n",
    "        image_preds = model(imgs)\n",
    "        image_preds_all += [image_preds.detach().cpu().numpy()]\n",
    "        \n",
    "    image_preds_all = np.concatenate(image_preds_all, axis=0)\n",
    "    return image_preds_all"
   ]
  },
  {
   "cell_type": "code",
   "execution_count": 13,
   "id": "ac07a7ef",
   "metadata": {
    "execution": {
     "iopub.execute_input": "2021-12-19T15:49:41.163544Z",
     "iopub.status.busy": "2021-12-19T15:49:41.162661Z",
     "iopub.status.idle": "2021-12-19T15:52:14.565114Z",
     "shell.execute_reply": "2021-12-19T15:52:14.563784Z",
     "shell.execute_reply.started": "2021-12-19T15:26:05.336378Z"
    },
    "papermill": {
     "duration": 153.429534,
     "end_time": "2021-12-19T15:52:14.565241",
     "exception": false,
     "start_time": "2021-12-19T15:49:41.135707",
     "status": "completed"
    },
    "tags": []
   },
   "outputs": [
    {
     "name": "stderr",
     "output_type": "stream",
     "text": [
      "100%|██████████| 309/309 [02:26<00:00,  2.11it/s]\n"
     ]
    }
   ],
   "source": [
    "inference_ds = PetFinderDataset(df_train, transforms=None)\n",
    "data_loader  = torch.utils.data.DataLoader(inference_ds,\n",
    "                                           batch_size=CFG['batch_size'],\n",
    "                                           drop_last=False,\n",
    "                                           pin_memory=False,\n",
    "                                           shuffle=False,\n",
    "                                           num_workers=CFG['num_workers'])\n",
    "\n",
    "model = load_model(\"../input/cat-vs-dog-model/cat-v-dog-classifier-pytorch-master/models/catvdog.pth\")\n",
    "model.to(CFG[\"device\"])\n",
    "\n",
    "with torch.no_grad():\n",
    "    res_cat_dog = inference_one_epoch(model, data_loader, CFG[\"device\"])\n",
    "\n",
    "del model, inference_ds, data_loader\n",
    "torch.cuda.empty_cache()"
   ]
  },
  {
   "cell_type": "code",
   "execution_count": 14,
   "id": "23d21560",
   "metadata": {
    "execution": {
     "iopub.execute_input": "2021-12-19T15:52:14.761200Z",
     "iopub.status.busy": "2021-12-19T15:52:14.760543Z",
     "iopub.status.idle": "2021-12-19T15:52:14.779467Z",
     "shell.execute_reply": "2021-12-19T15:52:14.779910Z",
     "shell.execute_reply.started": "2021-12-19T15:28:34.722517Z"
    },
    "papermill": {
     "duration": 0.120053,
     "end_time": "2021-12-19T15:52:14.780078",
     "exception": false,
     "start_time": "2021-12-19T15:52:14.660025",
     "status": "completed"
    },
    "tags": []
   },
   "outputs": [
    {
     "name": "stdout",
     "output_type": "stream",
     "text": [
      "(9860, 18)\n"
     ]
    },
    {
     "data": {
      "text/html": [
       "<div>\n",
       "<style scoped>\n",
       "    .dataframe tbody tr th:only-of-type {\n",
       "        vertical-align: middle;\n",
       "    }\n",
       "\n",
       "    .dataframe tbody tr th {\n",
       "        vertical-align: top;\n",
       "    }\n",
       "\n",
       "    .dataframe thead th {\n",
       "        text-align: right;\n",
       "    }\n",
       "</style>\n",
       "<table border=\"1\" class=\"dataframe\">\n",
       "  <thead>\n",
       "    <tr style=\"text-align: right;\">\n",
       "      <th></th>\n",
       "      <th>Id</th>\n",
       "      <th>Subject Focus</th>\n",
       "      <th>Eyes</th>\n",
       "      <th>Face</th>\n",
       "      <th>Near</th>\n",
       "      <th>Action</th>\n",
       "      <th>Accessory</th>\n",
       "      <th>Group</th>\n",
       "      <th>Collage</th>\n",
       "      <th>Human</th>\n",
       "      <th>Occlusion</th>\n",
       "      <th>Info</th>\n",
       "      <th>Blur</th>\n",
       "      <th>Pawpularity</th>\n",
       "      <th>path</th>\n",
       "      <th>Pawclass</th>\n",
       "      <th>cat</th>\n",
       "      <th>dog</th>\n",
       "    </tr>\n",
       "  </thead>\n",
       "  <tbody>\n",
       "    <tr>\n",
       "      <th>0</th>\n",
       "      <td>0007de18844b0dbbb5e1f607da0606e0</td>\n",
       "      <td>0</td>\n",
       "      <td>1</td>\n",
       "      <td>1</td>\n",
       "      <td>1</td>\n",
       "      <td>0</td>\n",
       "      <td>0</td>\n",
       "      <td>1</td>\n",
       "      <td>0</td>\n",
       "      <td>0</td>\n",
       "      <td>0</td>\n",
       "      <td>0</td>\n",
       "      <td>0</td>\n",
       "      <td>63</td>\n",
       "      <td>../input/petfinder-pawpularity-score/train/000...</td>\n",
       "      <td>0.63</td>\n",
       "      <td>0.001196</td>\n",
       "      <td>0.998804</td>\n",
       "    </tr>\n",
       "    <tr>\n",
       "      <th>1</th>\n",
       "      <td>0009c66b9439883ba2750fb825e1d7db</td>\n",
       "      <td>0</td>\n",
       "      <td>1</td>\n",
       "      <td>1</td>\n",
       "      <td>0</td>\n",
       "      <td>0</td>\n",
       "      <td>0</td>\n",
       "      <td>0</td>\n",
       "      <td>0</td>\n",
       "      <td>0</td>\n",
       "      <td>0</td>\n",
       "      <td>0</td>\n",
       "      <td>0</td>\n",
       "      <td>42</td>\n",
       "      <td>../input/petfinder-pawpularity-score/train/000...</td>\n",
       "      <td>0.42</td>\n",
       "      <td>0.999829</td>\n",
       "      <td>0.000171</td>\n",
       "    </tr>\n",
       "  </tbody>\n",
       "</table>\n",
       "</div>"
      ],
      "text/plain": [
       "                                 Id  Subject Focus  Eyes  Face  Near  Action  \\\n",
       "0  0007de18844b0dbbb5e1f607da0606e0              0     1     1     1       0   \n",
       "1  0009c66b9439883ba2750fb825e1d7db              0     1     1     0       0   \n",
       "\n",
       "   Accessory  Group  Collage  Human  Occlusion  Info  Blur  Pawpularity  \\\n",
       "0          0      1        0      0          0     0     0           63   \n",
       "1          0      0        0      0          0     0     0           42   \n",
       "\n",
       "                                                path  Pawclass       cat  \\\n",
       "0  ../input/petfinder-pawpularity-score/train/000...      0.63  0.001196   \n",
       "1  ../input/petfinder-pawpularity-score/train/000...      0.42  0.999829   \n",
       "\n",
       "        dog  \n",
       "0  0.998804  \n",
       "1  0.000171  "
      ]
     },
     "execution_count": 14,
     "metadata": {},
     "output_type": "execute_result"
    }
   ],
   "source": [
    "df_train[[\"cat\",\"dog\"]] = softmax(res_cat_dog)\n",
    "meta_features += [\"cat\",\"dog\"]\n",
    "\n",
    "print(df_train.shape)\n",
    "df_train.head(2)"
   ]
  },
  {
   "cell_type": "markdown",
   "id": "cd88ed7d",
   "metadata": {
    "papermill": {
     "duration": 0.09603,
     "end_time": "2021-12-19T15:52:14.974223",
     "exception": false,
     "start_time": "2021-12-19T15:52:14.878193",
     "status": "completed"
    },
    "tags": []
   },
   "source": [
    "# Make dog breed for dog label"
   ]
  },
  {
   "cell_type": "code",
   "execution_count": 15,
   "id": "2e1b90c0",
   "metadata": {
    "execution": {
     "iopub.execute_input": "2021-12-19T15:52:15.176140Z",
     "iopub.status.busy": "2021-12-19T15:52:15.175283Z",
     "iopub.status.idle": "2021-12-19T15:52:15.177880Z",
     "shell.execute_reply": "2021-12-19T15:52:15.177420Z",
     "shell.execute_reply.started": "2021-12-19T15:28:34.746120Z"
    },
    "papermill": {
     "duration": 0.104049,
     "end_time": "2021-12-19T15:52:15.178001",
     "exception": false,
     "start_time": "2021-12-19T15:52:15.073952",
     "status": "completed"
    },
    "tags": []
   },
   "outputs": [],
   "source": [
    "class SwinModel(nn.Module):\n",
    "    def __init__(self, model_name, pretrained=True):\n",
    "        super().__init__()\n",
    "        self.model   = timm.create_model(model_name, pretrained=pretrained, num_classes=0, in_chans=3)\n",
    "        num_features = self.model.num_features\n",
    "        self.linear  = nn.Linear(num_features, 120)\n",
    "\n",
    "    def forward(self, x):\n",
    "        x = self.model(x)\n",
    "        output = self.linear(x)\n",
    "        return output"
   ]
  },
  {
   "cell_type": "code",
   "execution_count": 16,
   "id": "a60c7267",
   "metadata": {
    "execution": {
     "iopub.execute_input": "2021-12-19T15:52:15.379819Z",
     "iopub.status.busy": "2021-12-19T15:52:15.378963Z",
     "iopub.status.idle": "2021-12-19T15:52:15.380728Z",
     "shell.execute_reply": "2021-12-19T15:52:15.381233Z",
     "shell.execute_reply.started": "2021-12-19T15:28:34.755274Z"
    },
    "papermill": {
     "duration": 0.107291,
     "end_time": "2021-12-19T15:52:15.381363",
     "exception": false,
     "start_time": "2021-12-19T15:52:15.274072",
     "status": "completed"
    },
    "tags": []
   },
   "outputs": [],
   "source": [
    "class PetFinderDataset(Dataset):\n",
    "    def __init__(self, df, size, transforms=None):\n",
    "        super().__init__()\n",
    "        self.df   = df.reset_index(drop=True).copy()\n",
    "        self.size = size\n",
    "        self.transforms  = transforms\n",
    "        \n",
    "    def __len__(self):\n",
    "        return self.df.shape[0]\n",
    "    \n",
    "    def __getitem__(self, index: int):\n",
    "        img  = get_img(self.df.loc[index].path).copy()\n",
    "        if self.transforms:\n",
    "            h, w, _ = img.shape\n",
    "            trans = self.transforms(self.size, h, w)\n",
    "            img   = trans(image=img)['image']\n",
    "        return img\n",
    "    \n",
    "def get_inference_transforms(size, h, w):\n",
    "    h = int(size*1.2) if int(size*1.2) < h else h\n",
    "    w = int(size*1.2) if int(size*1.2) < w else w\n",
    "    return Compose([\n",
    "        CenterCrop(h, w, p=1.0),\n",
    "        Resize(size, size, p=1.0),\n",
    "        Normalize(mean=[0.485, 0.456, 0.406], std=[0.229, 0.224, 0.225], max_pixel_value=255.0, p=1.0),\n",
    "        ToTensorV2(p=1.0)], p=1.0)"
   ]
  },
  {
   "cell_type": "code",
   "execution_count": 17,
   "id": "e6d7644f",
   "metadata": {
    "execution": {
     "iopub.execute_input": "2021-12-19T15:52:15.578646Z",
     "iopub.status.busy": "2021-12-19T15:52:15.577787Z",
     "iopub.status.idle": "2021-12-19T15:52:15.579580Z",
     "shell.execute_reply": "2021-12-19T15:52:15.580016Z",
     "shell.execute_reply.started": "2021-12-19T15:28:34.771213Z"
    },
    "papermill": {
     "duration": 0.103529,
     "end_time": "2021-12-19T15:52:15.580151",
     "exception": false,
     "start_time": "2021-12-19T15:52:15.476622",
     "status": "completed"
    },
    "tags": []
   },
   "outputs": [],
   "source": [
    "def inference_one_epoch(model, data_loader, device):\n",
    "    model.eval()\n",
    "\n",
    "    image_preds_all = []\n",
    "    pbar = tqdm(enumerate(data_loader), total=len(data_loader))\n",
    "    for step, (imgs) in pbar:\n",
    "        imgs = imgs.to(device).float()\n",
    "        image_preds = model(imgs)\n",
    "        image_preds_all += [image_preds.detach().cpu().numpy()]\n",
    "        \n",
    "    image_preds_all = np.concatenate(image_preds_all, axis=0)\n",
    "    return image_preds_all"
   ]
  },
  {
   "cell_type": "code",
   "execution_count": 18,
   "id": "b4e5b399",
   "metadata": {
    "execution": {
     "iopub.execute_input": "2021-12-19T15:52:15.780371Z",
     "iopub.status.busy": "2021-12-19T15:52:15.779519Z",
     "iopub.status.idle": "2021-12-19T15:55:09.731635Z",
     "shell.execute_reply": "2021-12-19T15:55:09.732126Z",
     "shell.execute_reply.started": "2021-12-19T15:28:34.781349Z"
    },
    "papermill": {
     "duration": 174.055959,
     "end_time": "2021-12-19T15:55:09.732301",
     "exception": false,
     "start_time": "2021-12-19T15:52:15.676342",
     "status": "completed"
    },
    "tags": []
   },
   "outputs": [
    {
     "name": "stderr",
     "output_type": "stream",
     "text": [
      "100%|██████████| 309/309 [02:41<00:00,  1.91it/s]\n"
     ]
    }
   ],
   "source": [
    "inference_ds = PetFinderDataset(df_train, size=CFG[\"db_size\"], transforms=get_inference_transforms)\n",
    "data_loader  = torch.utils.data.DataLoader(inference_ds,\n",
    "                                           batch_size=CFG['batch_size'],\n",
    "                                           drop_last=False,\n",
    "                                           pin_memory=False,\n",
    "                                           shuffle=False,\n",
    "                                           num_workers=CFG['num_workers'])\n",
    "\n",
    "model = SwinModel(CFG['db_model'], pretrained=False)\n",
    "model.load_state_dict(torch.load(\"../input/petfinder-dogbreed-cnn-models/dogbreed_swin_binary.pt\"))\n",
    "model.to(CFG[\"device\"])\n",
    "\n",
    "with torch.no_grad():\n",
    "    res_dogbreed = inference_one_epoch(model, data_loader, CFG[\"device\"])\n",
    "\n",
    "del model, inference_ds, data_loader\n",
    "torch.cuda.empty_cache()"
   ]
  },
  {
   "cell_type": "code",
   "execution_count": 19,
   "id": "140d51bc",
   "metadata": {
    "execution": {
     "iopub.execute_input": "2021-12-19T15:55:10.089881Z",
     "iopub.status.busy": "2021-12-19T15:55:10.088740Z",
     "iopub.status.idle": "2021-12-19T15:55:10.222005Z",
     "shell.execute_reply": "2021-12-19T15:55:10.222432Z",
     "shell.execute_reply.started": "2021-12-19T15:31:24.043019Z"
    },
    "papermill": {
     "duration": 0.314377,
     "end_time": "2021-12-19T15:55:10.222581",
     "exception": false,
     "start_time": "2021-12-19T15:55:09.908204",
     "status": "completed"
    },
    "tags": []
   },
   "outputs": [
    {
     "name": "stdout",
     "output_type": "stream",
     "text": [
      "(9860, 120)\n"
     ]
    },
    {
     "data": {
      "text/html": [
       "<div>\n",
       "<style scoped>\n",
       "    .dataframe tbody tr th:only-of-type {\n",
       "        vertical-align: middle;\n",
       "    }\n",
       "\n",
       "    .dataframe tbody tr th {\n",
       "        vertical-align: top;\n",
       "    }\n",
       "\n",
       "    .dataframe thead th {\n",
       "        text-align: right;\n",
       "    }\n",
       "</style>\n",
       "<table border=\"1\" class=\"dataframe\">\n",
       "  <thead>\n",
       "    <tr style=\"text-align: right;\">\n",
       "      <th></th>\n",
       "      <th>db0</th>\n",
       "      <th>db1</th>\n",
       "      <th>db2</th>\n",
       "      <th>db3</th>\n",
       "      <th>db4</th>\n",
       "      <th>db5</th>\n",
       "      <th>db6</th>\n",
       "      <th>db7</th>\n",
       "      <th>db8</th>\n",
       "      <th>db9</th>\n",
       "      <th>db10</th>\n",
       "      <th>db11</th>\n",
       "      <th>db12</th>\n",
       "      <th>db13</th>\n",
       "      <th>db14</th>\n",
       "      <th>db15</th>\n",
       "      <th>db16</th>\n",
       "      <th>db17</th>\n",
       "      <th>db18</th>\n",
       "      <th>db19</th>\n",
       "      <th>db20</th>\n",
       "      <th>db21</th>\n",
       "      <th>db22</th>\n",
       "      <th>db23</th>\n",
       "      <th>db24</th>\n",
       "      <th>db25</th>\n",
       "      <th>db26</th>\n",
       "      <th>db27</th>\n",
       "      <th>db28</th>\n",
       "      <th>db29</th>\n",
       "      <th>db30</th>\n",
       "      <th>db31</th>\n",
       "      <th>db32</th>\n",
       "      <th>db33</th>\n",
       "      <th>db34</th>\n",
       "      <th>db35</th>\n",
       "      <th>db36</th>\n",
       "      <th>db37</th>\n",
       "      <th>db38</th>\n",
       "      <th>db39</th>\n",
       "      <th>db40</th>\n",
       "      <th>db41</th>\n",
       "      <th>db42</th>\n",
       "      <th>db43</th>\n",
       "      <th>db44</th>\n",
       "      <th>db45</th>\n",
       "      <th>db46</th>\n",
       "      <th>db47</th>\n",
       "      <th>db48</th>\n",
       "      <th>db49</th>\n",
       "      <th>db50</th>\n",
       "      <th>db51</th>\n",
       "      <th>db52</th>\n",
       "      <th>db53</th>\n",
       "      <th>db54</th>\n",
       "      <th>db55</th>\n",
       "      <th>db56</th>\n",
       "      <th>db57</th>\n",
       "      <th>db58</th>\n",
       "      <th>db59</th>\n",
       "      <th>db60</th>\n",
       "      <th>db61</th>\n",
       "      <th>db62</th>\n",
       "      <th>db63</th>\n",
       "      <th>db64</th>\n",
       "      <th>db65</th>\n",
       "      <th>db66</th>\n",
       "      <th>db67</th>\n",
       "      <th>db68</th>\n",
       "      <th>db69</th>\n",
       "      <th>db70</th>\n",
       "      <th>db71</th>\n",
       "      <th>db72</th>\n",
       "      <th>db73</th>\n",
       "      <th>db74</th>\n",
       "      <th>db75</th>\n",
       "      <th>db76</th>\n",
       "      <th>db77</th>\n",
       "      <th>db78</th>\n",
       "      <th>db79</th>\n",
       "      <th>db80</th>\n",
       "      <th>db81</th>\n",
       "      <th>db82</th>\n",
       "      <th>db83</th>\n",
       "      <th>db84</th>\n",
       "      <th>db85</th>\n",
       "      <th>db86</th>\n",
       "      <th>db87</th>\n",
       "      <th>db88</th>\n",
       "      <th>db89</th>\n",
       "      <th>db90</th>\n",
       "      <th>db91</th>\n",
       "      <th>db92</th>\n",
       "      <th>db93</th>\n",
       "      <th>db94</th>\n",
       "      <th>db95</th>\n",
       "      <th>db96</th>\n",
       "      <th>db97</th>\n",
       "      <th>db98</th>\n",
       "      <th>db99</th>\n",
       "      <th>db100</th>\n",
       "      <th>db101</th>\n",
       "      <th>db102</th>\n",
       "      <th>db103</th>\n",
       "      <th>db104</th>\n",
       "      <th>db105</th>\n",
       "      <th>db106</th>\n",
       "      <th>db107</th>\n",
       "      <th>db108</th>\n",
       "      <th>db109</th>\n",
       "      <th>db110</th>\n",
       "      <th>db111</th>\n",
       "      <th>db112</th>\n",
       "      <th>db113</th>\n",
       "      <th>db114</th>\n",
       "      <th>db115</th>\n",
       "      <th>db116</th>\n",
       "      <th>db117</th>\n",
       "      <th>db118</th>\n",
       "      <th>db119</th>\n",
       "    </tr>\n",
       "  </thead>\n",
       "  <tbody>\n",
       "    <tr>\n",
       "      <th>0</th>\n",
       "      <td>0.000002</td>\n",
       "      <td>0.000001</td>\n",
       "      <td>0.000021</td>\n",
       "      <td>0.000022</td>\n",
       "      <td>0.000339</td>\n",
       "      <td>0.000019</td>\n",
       "      <td>0.000022</td>\n",
       "      <td>0.000009</td>\n",
       "      <td>0.000017</td>\n",
       "      <td>0.000084</td>\n",
       "      <td>0.000005</td>\n",
       "      <td>0.000007</td>\n",
       "      <td>0.000019</td>\n",
       "      <td>0.000008</td>\n",
       "      <td>0.000101</td>\n",
       "      <td>0.000011</td>\n",
       "      <td>0.000088</td>\n",
       "      <td>0.000052</td>\n",
       "      <td>0.000003</td>\n",
       "      <td>0.000002</td>\n",
       "      <td>0.000002</td>\n",
       "      <td>0.000041</td>\n",
       "      <td>0.000021</td>\n",
       "      <td>0.000027</td>\n",
       "      <td>0.000038</td>\n",
       "      <td>0.000149</td>\n",
       "      <td>0.00003</td>\n",
       "      <td>0.000022</td>\n",
       "      <td>0.006871</td>\n",
       "      <td>0.000348</td>\n",
       "      <td>0.000155</td>\n",
       "      <td>0.00011</td>\n",
       "      <td>0.000022</td>\n",
       "      <td>0.000105</td>\n",
       "      <td>0.000246</td>\n",
       "      <td>0.000039</td>\n",
       "      <td>0.000051</td>\n",
       "      <td>0.001706</td>\n",
       "      <td>0.00004</td>\n",
       "      <td>0.000025</td>\n",
       "      <td>0.000044</td>\n",
       "      <td>0.000017</td>\n",
       "      <td>0.000015</td>\n",
       "      <td>0.00011</td>\n",
       "      <td>0.000532</td>\n",
       "      <td>0.000043</td>\n",
       "      <td>0.000069</td>\n",
       "      <td>0.000051</td>\n",
       "      <td>0.000016</td>\n",
       "      <td>0.03528</td>\n",
       "      <td>0.000006</td>\n",
       "      <td>0.000152</td>\n",
       "      <td>0.000163</td>\n",
       "      <td>0.000016</td>\n",
       "      <td>0.000036</td>\n",
       "      <td>0.000051</td>\n",
       "      <td>0.000016</td>\n",
       "      <td>0.000035</td>\n",
       "      <td>0.000003</td>\n",
       "      <td>0.000009</td>\n",
       "      <td>0.000005</td>\n",
       "      <td>0.000008</td>\n",
       "      <td>0.000011</td>\n",
       "      <td>0.000378</td>\n",
       "      <td>7.255213e-07</td>\n",
       "      <td>0.000018</td>\n",
       "      <td>0.000872</td>\n",
       "      <td>0.947656</td>\n",
       "      <td>0.000081</td>\n",
       "      <td>0.000061</td>\n",
       "      <td>0.000077</td>\n",
       "      <td>0.000082</td>\n",
       "      <td>0.000049</td>\n",
       "      <td>0.000058</td>\n",
       "      <td>0.00001</td>\n",
       "      <td>0.000008</td>\n",
       "      <td>0.000068</td>\n",
       "      <td>0.000004</td>\n",
       "      <td>0.000043</td>\n",
       "      <td>0.000018</td>\n",
       "      <td>0.000028</td>\n",
       "      <td>0.000022</td>\n",
       "      <td>0.000018</td>\n",
       "      <td>0.000064</td>\n",
       "      <td>0.00001</td>\n",
       "      <td>0.000026</td>\n",
       "      <td>0.000032</td>\n",
       "      <td>0.000092</td>\n",
       "      <td>0.000043</td>\n",
       "      <td>0.000136</td>\n",
       "      <td>0.000063</td>\n",
       "      <td>0.000636</td>\n",
       "      <td>0.000024</td>\n",
       "      <td>0.000048</td>\n",
       "      <td>0.000042</td>\n",
       "      <td>0.000041</td>\n",
       "      <td>0.000015</td>\n",
       "      <td>0.000016</td>\n",
       "      <td>0.000007</td>\n",
       "      <td>0.000017</td>\n",
       "      <td>0.000007</td>\n",
       "      <td>0.000054</td>\n",
       "      <td>0.000009</td>\n",
       "      <td>0.000121</td>\n",
       "      <td>0.000118</td>\n",
       "      <td>0.000018</td>\n",
       "      <td>0.000002</td>\n",
       "      <td>0.000011</td>\n",
       "      <td>0.000113</td>\n",
       "      <td>0.000042</td>\n",
       "      <td>0.000196</td>\n",
       "      <td>0.000014</td>\n",
       "      <td>0.000127</td>\n",
       "      <td>0.000029</td>\n",
       "      <td>0.000567</td>\n",
       "      <td>0.000021</td>\n",
       "      <td>0.000042</td>\n",
       "      <td>0.000056</td>\n",
       "      <td>0.000008</td>\n",
       "      <td>0.000011</td>\n",
       "    </tr>\n",
       "    <tr>\n",
       "      <th>1</th>\n",
       "      <td>0.000000</td>\n",
       "      <td>0.000000</td>\n",
       "      <td>0.000000</td>\n",
       "      <td>0.000000</td>\n",
       "      <td>0.000000</td>\n",
       "      <td>0.000000</td>\n",
       "      <td>0.000000</td>\n",
       "      <td>0.000000</td>\n",
       "      <td>0.000000</td>\n",
       "      <td>0.000000</td>\n",
       "      <td>0.000000</td>\n",
       "      <td>0.000000</td>\n",
       "      <td>0.000000</td>\n",
       "      <td>0.000000</td>\n",
       "      <td>0.000000</td>\n",
       "      <td>0.000000</td>\n",
       "      <td>0.000000</td>\n",
       "      <td>0.000000</td>\n",
       "      <td>0.000000</td>\n",
       "      <td>0.000000</td>\n",
       "      <td>0.000000</td>\n",
       "      <td>0.000000</td>\n",
       "      <td>0.000000</td>\n",
       "      <td>0.000000</td>\n",
       "      <td>0.000000</td>\n",
       "      <td>0.000000</td>\n",
       "      <td>0.00000</td>\n",
       "      <td>0.000000</td>\n",
       "      <td>0.000000</td>\n",
       "      <td>0.000000</td>\n",
       "      <td>0.000000</td>\n",
       "      <td>0.00000</td>\n",
       "      <td>0.000000</td>\n",
       "      <td>0.000000</td>\n",
       "      <td>0.000000</td>\n",
       "      <td>0.000000</td>\n",
       "      <td>0.000000</td>\n",
       "      <td>0.000000</td>\n",
       "      <td>0.00000</td>\n",
       "      <td>0.000000</td>\n",
       "      <td>0.000000</td>\n",
       "      <td>0.000000</td>\n",
       "      <td>0.000000</td>\n",
       "      <td>0.00000</td>\n",
       "      <td>0.000000</td>\n",
       "      <td>0.000000</td>\n",
       "      <td>0.000000</td>\n",
       "      <td>0.000000</td>\n",
       "      <td>0.000000</td>\n",
       "      <td>0.00000</td>\n",
       "      <td>0.000000</td>\n",
       "      <td>0.000000</td>\n",
       "      <td>0.000000</td>\n",
       "      <td>0.000000</td>\n",
       "      <td>0.000000</td>\n",
       "      <td>0.000000</td>\n",
       "      <td>0.000000</td>\n",
       "      <td>0.000000</td>\n",
       "      <td>0.000000</td>\n",
       "      <td>0.000000</td>\n",
       "      <td>0.000000</td>\n",
       "      <td>0.000000</td>\n",
       "      <td>0.000000</td>\n",
       "      <td>0.000000</td>\n",
       "      <td>0.000000e+00</td>\n",
       "      <td>0.000000</td>\n",
       "      <td>0.000000</td>\n",
       "      <td>0.000000</td>\n",
       "      <td>0.000000</td>\n",
       "      <td>0.000000</td>\n",
       "      <td>0.000000</td>\n",
       "      <td>0.000000</td>\n",
       "      <td>0.000000</td>\n",
       "      <td>0.000000</td>\n",
       "      <td>0.00000</td>\n",
       "      <td>0.000000</td>\n",
       "      <td>0.000000</td>\n",
       "      <td>0.000000</td>\n",
       "      <td>0.000000</td>\n",
       "      <td>0.000000</td>\n",
       "      <td>0.000000</td>\n",
       "      <td>0.000000</td>\n",
       "      <td>0.000000</td>\n",
       "      <td>0.000000</td>\n",
       "      <td>0.00000</td>\n",
       "      <td>0.000000</td>\n",
       "      <td>0.000000</td>\n",
       "      <td>0.000000</td>\n",
       "      <td>0.000000</td>\n",
       "      <td>0.000000</td>\n",
       "      <td>0.000000</td>\n",
       "      <td>0.000000</td>\n",
       "      <td>0.000000</td>\n",
       "      <td>0.000000</td>\n",
       "      <td>0.000000</td>\n",
       "      <td>0.000000</td>\n",
       "      <td>0.000000</td>\n",
       "      <td>0.000000</td>\n",
       "      <td>0.000000</td>\n",
       "      <td>0.000000</td>\n",
       "      <td>0.000000</td>\n",
       "      <td>0.000000</td>\n",
       "      <td>0.000000</td>\n",
       "      <td>0.000000</td>\n",
       "      <td>0.000000</td>\n",
       "      <td>0.000000</td>\n",
       "      <td>0.000000</td>\n",
       "      <td>0.000000</td>\n",
       "      <td>0.000000</td>\n",
       "      <td>0.000000</td>\n",
       "      <td>0.000000</td>\n",
       "      <td>0.000000</td>\n",
       "      <td>0.000000</td>\n",
       "      <td>0.000000</td>\n",
       "      <td>0.000000</td>\n",
       "      <td>0.000000</td>\n",
       "      <td>0.000000</td>\n",
       "      <td>0.000000</td>\n",
       "      <td>0.000000</td>\n",
       "      <td>0.000000</td>\n",
       "    </tr>\n",
       "  </tbody>\n",
       "</table>\n",
       "</div>"
      ],
      "text/plain": [
       "        db0       db1       db2       db3       db4       db5       db6  \\\n",
       "0  0.000002  0.000001  0.000021  0.000022  0.000339  0.000019  0.000022   \n",
       "1  0.000000  0.000000  0.000000  0.000000  0.000000  0.000000  0.000000   \n",
       "\n",
       "        db7       db8       db9      db10      db11      db12      db13  \\\n",
       "0  0.000009  0.000017  0.000084  0.000005  0.000007  0.000019  0.000008   \n",
       "1  0.000000  0.000000  0.000000  0.000000  0.000000  0.000000  0.000000   \n",
       "\n",
       "       db14      db15      db16      db17      db18      db19      db20  \\\n",
       "0  0.000101  0.000011  0.000088  0.000052  0.000003  0.000002  0.000002   \n",
       "1  0.000000  0.000000  0.000000  0.000000  0.000000  0.000000  0.000000   \n",
       "\n",
       "       db21      db22      db23      db24      db25     db26      db27  \\\n",
       "0  0.000041  0.000021  0.000027  0.000038  0.000149  0.00003  0.000022   \n",
       "1  0.000000  0.000000  0.000000  0.000000  0.000000  0.00000  0.000000   \n",
       "\n",
       "       db28      db29      db30     db31      db32      db33      db34  \\\n",
       "0  0.006871  0.000348  0.000155  0.00011  0.000022  0.000105  0.000246   \n",
       "1  0.000000  0.000000  0.000000  0.00000  0.000000  0.000000  0.000000   \n",
       "\n",
       "       db35      db36      db37     db38      db39      db40      db41  \\\n",
       "0  0.000039  0.000051  0.001706  0.00004  0.000025  0.000044  0.000017   \n",
       "1  0.000000  0.000000  0.000000  0.00000  0.000000  0.000000  0.000000   \n",
       "\n",
       "       db42     db43      db44      db45      db46      db47      db48  \\\n",
       "0  0.000015  0.00011  0.000532  0.000043  0.000069  0.000051  0.000016   \n",
       "1  0.000000  0.00000  0.000000  0.000000  0.000000  0.000000  0.000000   \n",
       "\n",
       "      db49      db50      db51      db52      db53      db54      db55  \\\n",
       "0  0.03528  0.000006  0.000152  0.000163  0.000016  0.000036  0.000051   \n",
       "1  0.00000  0.000000  0.000000  0.000000  0.000000  0.000000  0.000000   \n",
       "\n",
       "       db56      db57      db58      db59      db60      db61      db62  \\\n",
       "0  0.000016  0.000035  0.000003  0.000009  0.000005  0.000008  0.000011   \n",
       "1  0.000000  0.000000  0.000000  0.000000  0.000000  0.000000  0.000000   \n",
       "\n",
       "       db63          db64      db65      db66      db67      db68      db69  \\\n",
       "0  0.000378  7.255213e-07  0.000018  0.000872  0.947656  0.000081  0.000061   \n",
       "1  0.000000  0.000000e+00  0.000000  0.000000  0.000000  0.000000  0.000000   \n",
       "\n",
       "       db70      db71      db72      db73     db74      db75      db76  \\\n",
       "0  0.000077  0.000082  0.000049  0.000058  0.00001  0.000008  0.000068   \n",
       "1  0.000000  0.000000  0.000000  0.000000  0.00000  0.000000  0.000000   \n",
       "\n",
       "       db77      db78      db79      db80      db81      db82      db83  \\\n",
       "0  0.000004  0.000043  0.000018  0.000028  0.000022  0.000018  0.000064   \n",
       "1  0.000000  0.000000  0.000000  0.000000  0.000000  0.000000  0.000000   \n",
       "\n",
       "      db84      db85      db86      db87      db88      db89      db90  \\\n",
       "0  0.00001  0.000026  0.000032  0.000092  0.000043  0.000136  0.000063   \n",
       "1  0.00000  0.000000  0.000000  0.000000  0.000000  0.000000  0.000000   \n",
       "\n",
       "       db91      db92      db93      db94      db95      db96      db97  \\\n",
       "0  0.000636  0.000024  0.000048  0.000042  0.000041  0.000015  0.000016   \n",
       "1  0.000000  0.000000  0.000000  0.000000  0.000000  0.000000  0.000000   \n",
       "\n",
       "       db98      db99     db100     db101     db102     db103     db104  \\\n",
       "0  0.000007  0.000017  0.000007  0.000054  0.000009  0.000121  0.000118   \n",
       "1  0.000000  0.000000  0.000000  0.000000  0.000000  0.000000  0.000000   \n",
       "\n",
       "      db105     db106     db107     db108     db109     db110     db111  \\\n",
       "0  0.000018  0.000002  0.000011  0.000113  0.000042  0.000196  0.000014   \n",
       "1  0.000000  0.000000  0.000000  0.000000  0.000000  0.000000  0.000000   \n",
       "\n",
       "      db112     db113     db114     db115     db116     db117     db118  \\\n",
       "0  0.000127  0.000029  0.000567  0.000021  0.000042  0.000056  0.000008   \n",
       "1  0.000000  0.000000  0.000000  0.000000  0.000000  0.000000  0.000000   \n",
       "\n",
       "      db119  \n",
       "0  0.000011  \n",
       "1  0.000000  "
      ]
     },
     "execution_count": 19,
     "metadata": {},
     "output_type": "execute_result"
    }
   ],
   "source": [
    "df_dogbreed = pd.DataFrame(softmax(res_dogbreed))\n",
    "df_dogbreed[\"dog\"] = softmax(res_cat_dog)[:,1] > 0.5\n",
    "df_dogbreed.loc[df_dogbreed.dog==False, :120] = 0\n",
    "df_dogbreed = df_dogbreed.drop(\"dog\", axis=1)\n",
    "df_dogbreed.columns = [f\"db{i}\" for i in df_dogbreed.columns]\n",
    "\n",
    "print(df_dogbreed.shape)\n",
    "df_dogbreed.head(2)"
   ]
  },
  {
   "cell_type": "code",
   "execution_count": 20,
   "id": "924e1a92",
   "metadata": {
    "execution": {
     "iopub.execute_input": "2021-12-19T15:55:10.588516Z",
     "iopub.status.busy": "2021-12-19T15:55:10.584613Z",
     "iopub.status.idle": "2021-12-19T15:55:10.663228Z",
     "shell.execute_reply": "2021-12-19T15:55:10.663670Z",
     "shell.execute_reply.started": "2021-12-19T15:31:24.176677Z"
    },
    "papermill": {
     "duration": 0.261289,
     "end_time": "2021-12-19T15:55:10.663837",
     "exception": false,
     "start_time": "2021-12-19T15:55:10.402548",
     "status": "completed"
    },
    "tags": []
   },
   "outputs": [
    {
     "name": "stdout",
     "output_type": "stream",
     "text": [
      "(9860, 134)\n"
     ]
    },
    {
     "data": {
      "text/html": [
       "<div>\n",
       "<style scoped>\n",
       "    .dataframe tbody tr th:only-of-type {\n",
       "        vertical-align: middle;\n",
       "    }\n",
       "\n",
       "    .dataframe tbody tr th {\n",
       "        vertical-align: top;\n",
       "    }\n",
       "\n",
       "    .dataframe thead th {\n",
       "        text-align: right;\n",
       "    }\n",
       "</style>\n",
       "<table border=\"1\" class=\"dataframe\">\n",
       "  <thead>\n",
       "    <tr style=\"text-align: right;\">\n",
       "      <th></th>\n",
       "      <th>Subject Focus</th>\n",
       "      <th>Eyes</th>\n",
       "      <th>Face</th>\n",
       "      <th>Near</th>\n",
       "      <th>Action</th>\n",
       "      <th>Accessory</th>\n",
       "      <th>Group</th>\n",
       "      <th>Collage</th>\n",
       "      <th>Human</th>\n",
       "      <th>Occlusion</th>\n",
       "      <th>Info</th>\n",
       "      <th>Blur</th>\n",
       "      <th>cat</th>\n",
       "      <th>dog</th>\n",
       "      <th>db0</th>\n",
       "      <th>db1</th>\n",
       "      <th>db2</th>\n",
       "      <th>db3</th>\n",
       "      <th>db4</th>\n",
       "      <th>db5</th>\n",
       "      <th>db6</th>\n",
       "      <th>db7</th>\n",
       "      <th>db8</th>\n",
       "      <th>db9</th>\n",
       "      <th>db10</th>\n",
       "      <th>db11</th>\n",
       "      <th>db12</th>\n",
       "      <th>db13</th>\n",
       "      <th>db14</th>\n",
       "      <th>db15</th>\n",
       "      <th>db16</th>\n",
       "      <th>db17</th>\n",
       "      <th>db18</th>\n",
       "      <th>db19</th>\n",
       "      <th>db20</th>\n",
       "      <th>db21</th>\n",
       "      <th>db22</th>\n",
       "      <th>db23</th>\n",
       "      <th>db24</th>\n",
       "      <th>db25</th>\n",
       "      <th>db26</th>\n",
       "      <th>db27</th>\n",
       "      <th>db28</th>\n",
       "      <th>db29</th>\n",
       "      <th>db30</th>\n",
       "      <th>db31</th>\n",
       "      <th>db32</th>\n",
       "      <th>db33</th>\n",
       "      <th>db34</th>\n",
       "      <th>db35</th>\n",
       "      <th>db36</th>\n",
       "      <th>db37</th>\n",
       "      <th>db38</th>\n",
       "      <th>db39</th>\n",
       "      <th>db40</th>\n",
       "      <th>db41</th>\n",
       "      <th>db42</th>\n",
       "      <th>db43</th>\n",
       "      <th>db44</th>\n",
       "      <th>db45</th>\n",
       "      <th>db46</th>\n",
       "      <th>db47</th>\n",
       "      <th>db48</th>\n",
       "      <th>db49</th>\n",
       "      <th>db50</th>\n",
       "      <th>db51</th>\n",
       "      <th>db52</th>\n",
       "      <th>db53</th>\n",
       "      <th>db54</th>\n",
       "      <th>db55</th>\n",
       "      <th>db56</th>\n",
       "      <th>db57</th>\n",
       "      <th>db58</th>\n",
       "      <th>db59</th>\n",
       "      <th>db60</th>\n",
       "      <th>db61</th>\n",
       "      <th>db62</th>\n",
       "      <th>db63</th>\n",
       "      <th>db64</th>\n",
       "      <th>db65</th>\n",
       "      <th>db66</th>\n",
       "      <th>db67</th>\n",
       "      <th>db68</th>\n",
       "      <th>db69</th>\n",
       "      <th>db70</th>\n",
       "      <th>db71</th>\n",
       "      <th>db72</th>\n",
       "      <th>db73</th>\n",
       "      <th>db74</th>\n",
       "      <th>db75</th>\n",
       "      <th>db76</th>\n",
       "      <th>db77</th>\n",
       "      <th>db78</th>\n",
       "      <th>db79</th>\n",
       "      <th>db80</th>\n",
       "      <th>db81</th>\n",
       "      <th>db82</th>\n",
       "      <th>db83</th>\n",
       "      <th>db84</th>\n",
       "      <th>db85</th>\n",
       "      <th>db86</th>\n",
       "      <th>db87</th>\n",
       "      <th>db88</th>\n",
       "      <th>db89</th>\n",
       "      <th>db90</th>\n",
       "      <th>db91</th>\n",
       "      <th>db92</th>\n",
       "      <th>db93</th>\n",
       "      <th>db94</th>\n",
       "      <th>db95</th>\n",
       "      <th>db96</th>\n",
       "      <th>db97</th>\n",
       "      <th>db98</th>\n",
       "      <th>db99</th>\n",
       "      <th>db100</th>\n",
       "      <th>db101</th>\n",
       "      <th>db102</th>\n",
       "      <th>db103</th>\n",
       "      <th>db104</th>\n",
       "      <th>db105</th>\n",
       "      <th>db106</th>\n",
       "      <th>db107</th>\n",
       "      <th>db108</th>\n",
       "      <th>db109</th>\n",
       "      <th>db110</th>\n",
       "      <th>db111</th>\n",
       "      <th>db112</th>\n",
       "      <th>db113</th>\n",
       "      <th>db114</th>\n",
       "      <th>db115</th>\n",
       "      <th>db116</th>\n",
       "      <th>db117</th>\n",
       "      <th>db118</th>\n",
       "      <th>db119</th>\n",
       "    </tr>\n",
       "  </thead>\n",
       "  <tbody>\n",
       "    <tr>\n",
       "      <th>0</th>\n",
       "      <td>0</td>\n",
       "      <td>1</td>\n",
       "      <td>1</td>\n",
       "      <td>1</td>\n",
       "      <td>0</td>\n",
       "      <td>0</td>\n",
       "      <td>1</td>\n",
       "      <td>0</td>\n",
       "      <td>0</td>\n",
       "      <td>0</td>\n",
       "      <td>0</td>\n",
       "      <td>0</td>\n",
       "      <td>0.001196</td>\n",
       "      <td>0.998804</td>\n",
       "      <td>0.000002</td>\n",
       "      <td>0.000001</td>\n",
       "      <td>0.000021</td>\n",
       "      <td>0.000022</td>\n",
       "      <td>0.000339</td>\n",
       "      <td>0.000019</td>\n",
       "      <td>0.000022</td>\n",
       "      <td>0.000009</td>\n",
       "      <td>0.000017</td>\n",
       "      <td>0.000084</td>\n",
       "      <td>0.000005</td>\n",
       "      <td>0.000007</td>\n",
       "      <td>0.000019</td>\n",
       "      <td>0.000008</td>\n",
       "      <td>0.000101</td>\n",
       "      <td>0.000011</td>\n",
       "      <td>0.000088</td>\n",
       "      <td>0.000052</td>\n",
       "      <td>0.000003</td>\n",
       "      <td>0.000002</td>\n",
       "      <td>0.000002</td>\n",
       "      <td>0.000041</td>\n",
       "      <td>0.000021</td>\n",
       "      <td>0.000027</td>\n",
       "      <td>0.000038</td>\n",
       "      <td>0.000149</td>\n",
       "      <td>0.00003</td>\n",
       "      <td>0.000022</td>\n",
       "      <td>0.006871</td>\n",
       "      <td>0.000348</td>\n",
       "      <td>0.000155</td>\n",
       "      <td>0.00011</td>\n",
       "      <td>0.000022</td>\n",
       "      <td>0.000105</td>\n",
       "      <td>0.000246</td>\n",
       "      <td>0.000039</td>\n",
       "      <td>0.000051</td>\n",
       "      <td>0.001706</td>\n",
       "      <td>0.00004</td>\n",
       "      <td>0.000025</td>\n",
       "      <td>0.000044</td>\n",
       "      <td>0.000017</td>\n",
       "      <td>0.000015</td>\n",
       "      <td>0.00011</td>\n",
       "      <td>0.000532</td>\n",
       "      <td>0.000043</td>\n",
       "      <td>0.000069</td>\n",
       "      <td>0.000051</td>\n",
       "      <td>0.000016</td>\n",
       "      <td>0.03528</td>\n",
       "      <td>0.000006</td>\n",
       "      <td>0.000152</td>\n",
       "      <td>0.000163</td>\n",
       "      <td>0.000016</td>\n",
       "      <td>0.000036</td>\n",
       "      <td>0.000051</td>\n",
       "      <td>0.000016</td>\n",
       "      <td>0.000035</td>\n",
       "      <td>0.000003</td>\n",
       "      <td>0.000009</td>\n",
       "      <td>0.000005</td>\n",
       "      <td>0.000008</td>\n",
       "      <td>0.000011</td>\n",
       "      <td>0.000378</td>\n",
       "      <td>7.255213e-07</td>\n",
       "      <td>0.000018</td>\n",
       "      <td>0.000872</td>\n",
       "      <td>0.947656</td>\n",
       "      <td>0.000081</td>\n",
       "      <td>0.000061</td>\n",
       "      <td>0.000077</td>\n",
       "      <td>0.000082</td>\n",
       "      <td>0.000049</td>\n",
       "      <td>0.000058</td>\n",
       "      <td>0.00001</td>\n",
       "      <td>0.000008</td>\n",
       "      <td>0.000068</td>\n",
       "      <td>0.000004</td>\n",
       "      <td>0.000043</td>\n",
       "      <td>0.000018</td>\n",
       "      <td>0.000028</td>\n",
       "      <td>0.000022</td>\n",
       "      <td>0.000018</td>\n",
       "      <td>0.000064</td>\n",
       "      <td>0.00001</td>\n",
       "      <td>0.000026</td>\n",
       "      <td>0.000032</td>\n",
       "      <td>0.000092</td>\n",
       "      <td>0.000043</td>\n",
       "      <td>0.000136</td>\n",
       "      <td>0.000063</td>\n",
       "      <td>0.000636</td>\n",
       "      <td>0.000024</td>\n",
       "      <td>0.000048</td>\n",
       "      <td>0.000042</td>\n",
       "      <td>0.000041</td>\n",
       "      <td>0.000015</td>\n",
       "      <td>0.000016</td>\n",
       "      <td>0.000007</td>\n",
       "      <td>0.000017</td>\n",
       "      <td>0.000007</td>\n",
       "      <td>0.000054</td>\n",
       "      <td>0.000009</td>\n",
       "      <td>0.000121</td>\n",
       "      <td>0.000118</td>\n",
       "      <td>0.000018</td>\n",
       "      <td>0.000002</td>\n",
       "      <td>0.000011</td>\n",
       "      <td>0.000113</td>\n",
       "      <td>0.000042</td>\n",
       "      <td>0.000196</td>\n",
       "      <td>0.000014</td>\n",
       "      <td>0.000127</td>\n",
       "      <td>0.000029</td>\n",
       "      <td>0.000567</td>\n",
       "      <td>0.000021</td>\n",
       "      <td>0.000042</td>\n",
       "      <td>0.000056</td>\n",
       "      <td>0.000008</td>\n",
       "      <td>0.000011</td>\n",
       "    </tr>\n",
       "    <tr>\n",
       "      <th>1</th>\n",
       "      <td>0</td>\n",
       "      <td>1</td>\n",
       "      <td>1</td>\n",
       "      <td>0</td>\n",
       "      <td>0</td>\n",
       "      <td>0</td>\n",
       "      <td>0</td>\n",
       "      <td>0</td>\n",
       "      <td>0</td>\n",
       "      <td>0</td>\n",
       "      <td>0</td>\n",
       "      <td>0</td>\n",
       "      <td>0.999829</td>\n",
       "      <td>0.000171</td>\n",
       "      <td>0.000000</td>\n",
       "      <td>0.000000</td>\n",
       "      <td>0.000000</td>\n",
       "      <td>0.000000</td>\n",
       "      <td>0.000000</td>\n",
       "      <td>0.000000</td>\n",
       "      <td>0.000000</td>\n",
       "      <td>0.000000</td>\n",
       "      <td>0.000000</td>\n",
       "      <td>0.000000</td>\n",
       "      <td>0.000000</td>\n",
       "      <td>0.000000</td>\n",
       "      <td>0.000000</td>\n",
       "      <td>0.000000</td>\n",
       "      <td>0.000000</td>\n",
       "      <td>0.000000</td>\n",
       "      <td>0.000000</td>\n",
       "      <td>0.000000</td>\n",
       "      <td>0.000000</td>\n",
       "      <td>0.000000</td>\n",
       "      <td>0.000000</td>\n",
       "      <td>0.000000</td>\n",
       "      <td>0.000000</td>\n",
       "      <td>0.000000</td>\n",
       "      <td>0.000000</td>\n",
       "      <td>0.000000</td>\n",
       "      <td>0.00000</td>\n",
       "      <td>0.000000</td>\n",
       "      <td>0.000000</td>\n",
       "      <td>0.000000</td>\n",
       "      <td>0.000000</td>\n",
       "      <td>0.00000</td>\n",
       "      <td>0.000000</td>\n",
       "      <td>0.000000</td>\n",
       "      <td>0.000000</td>\n",
       "      <td>0.000000</td>\n",
       "      <td>0.000000</td>\n",
       "      <td>0.000000</td>\n",
       "      <td>0.00000</td>\n",
       "      <td>0.000000</td>\n",
       "      <td>0.000000</td>\n",
       "      <td>0.000000</td>\n",
       "      <td>0.000000</td>\n",
       "      <td>0.00000</td>\n",
       "      <td>0.000000</td>\n",
       "      <td>0.000000</td>\n",
       "      <td>0.000000</td>\n",
       "      <td>0.000000</td>\n",
       "      <td>0.000000</td>\n",
       "      <td>0.00000</td>\n",
       "      <td>0.000000</td>\n",
       "      <td>0.000000</td>\n",
       "      <td>0.000000</td>\n",
       "      <td>0.000000</td>\n",
       "      <td>0.000000</td>\n",
       "      <td>0.000000</td>\n",
       "      <td>0.000000</td>\n",
       "      <td>0.000000</td>\n",
       "      <td>0.000000</td>\n",
       "      <td>0.000000</td>\n",
       "      <td>0.000000</td>\n",
       "      <td>0.000000</td>\n",
       "      <td>0.000000</td>\n",
       "      <td>0.000000</td>\n",
       "      <td>0.000000e+00</td>\n",
       "      <td>0.000000</td>\n",
       "      <td>0.000000</td>\n",
       "      <td>0.000000</td>\n",
       "      <td>0.000000</td>\n",
       "      <td>0.000000</td>\n",
       "      <td>0.000000</td>\n",
       "      <td>0.000000</td>\n",
       "      <td>0.000000</td>\n",
       "      <td>0.000000</td>\n",
       "      <td>0.00000</td>\n",
       "      <td>0.000000</td>\n",
       "      <td>0.000000</td>\n",
       "      <td>0.000000</td>\n",
       "      <td>0.000000</td>\n",
       "      <td>0.000000</td>\n",
       "      <td>0.000000</td>\n",
       "      <td>0.000000</td>\n",
       "      <td>0.000000</td>\n",
       "      <td>0.000000</td>\n",
       "      <td>0.00000</td>\n",
       "      <td>0.000000</td>\n",
       "      <td>0.000000</td>\n",
       "      <td>0.000000</td>\n",
       "      <td>0.000000</td>\n",
       "      <td>0.000000</td>\n",
       "      <td>0.000000</td>\n",
       "      <td>0.000000</td>\n",
       "      <td>0.000000</td>\n",
       "      <td>0.000000</td>\n",
       "      <td>0.000000</td>\n",
       "      <td>0.000000</td>\n",
       "      <td>0.000000</td>\n",
       "      <td>0.000000</td>\n",
       "      <td>0.000000</td>\n",
       "      <td>0.000000</td>\n",
       "      <td>0.000000</td>\n",
       "      <td>0.000000</td>\n",
       "      <td>0.000000</td>\n",
       "      <td>0.000000</td>\n",
       "      <td>0.000000</td>\n",
       "      <td>0.000000</td>\n",
       "      <td>0.000000</td>\n",
       "      <td>0.000000</td>\n",
       "      <td>0.000000</td>\n",
       "      <td>0.000000</td>\n",
       "      <td>0.000000</td>\n",
       "      <td>0.000000</td>\n",
       "      <td>0.000000</td>\n",
       "      <td>0.000000</td>\n",
       "      <td>0.000000</td>\n",
       "      <td>0.000000</td>\n",
       "      <td>0.000000</td>\n",
       "      <td>0.000000</td>\n",
       "      <td>0.000000</td>\n",
       "      <td>0.000000</td>\n",
       "    </tr>\n",
       "  </tbody>\n",
       "</table>\n",
       "</div>"
      ],
      "text/plain": [
       "   Subject Focus  Eyes  Face  Near  Action  Accessory  Group  Collage  Human  \\\n",
       "0              0     1     1     1       0          0      1        0      0   \n",
       "1              0     1     1     0       0          0      0        0      0   \n",
       "\n",
       "   Occlusion  Info  Blur       cat       dog       db0       db1       db2  \\\n",
       "0          0     0     0  0.001196  0.998804  0.000002  0.000001  0.000021   \n",
       "1          0     0     0  0.999829  0.000171  0.000000  0.000000  0.000000   \n",
       "\n",
       "        db3       db4       db5       db6       db7       db8       db9  \\\n",
       "0  0.000022  0.000339  0.000019  0.000022  0.000009  0.000017  0.000084   \n",
       "1  0.000000  0.000000  0.000000  0.000000  0.000000  0.000000  0.000000   \n",
       "\n",
       "       db10      db11      db12      db13      db14      db15      db16  \\\n",
       "0  0.000005  0.000007  0.000019  0.000008  0.000101  0.000011  0.000088   \n",
       "1  0.000000  0.000000  0.000000  0.000000  0.000000  0.000000  0.000000   \n",
       "\n",
       "       db17      db18      db19      db20      db21      db22      db23  \\\n",
       "0  0.000052  0.000003  0.000002  0.000002  0.000041  0.000021  0.000027   \n",
       "1  0.000000  0.000000  0.000000  0.000000  0.000000  0.000000  0.000000   \n",
       "\n",
       "       db24      db25     db26      db27      db28      db29      db30  \\\n",
       "0  0.000038  0.000149  0.00003  0.000022  0.006871  0.000348  0.000155   \n",
       "1  0.000000  0.000000  0.00000  0.000000  0.000000  0.000000  0.000000   \n",
       "\n",
       "      db31      db32      db33      db34      db35      db36      db37  \\\n",
       "0  0.00011  0.000022  0.000105  0.000246  0.000039  0.000051  0.001706   \n",
       "1  0.00000  0.000000  0.000000  0.000000  0.000000  0.000000  0.000000   \n",
       "\n",
       "      db38      db39      db40      db41      db42     db43      db44  \\\n",
       "0  0.00004  0.000025  0.000044  0.000017  0.000015  0.00011  0.000532   \n",
       "1  0.00000  0.000000  0.000000  0.000000  0.000000  0.00000  0.000000   \n",
       "\n",
       "       db45      db46      db47      db48     db49      db50      db51  \\\n",
       "0  0.000043  0.000069  0.000051  0.000016  0.03528  0.000006  0.000152   \n",
       "1  0.000000  0.000000  0.000000  0.000000  0.00000  0.000000  0.000000   \n",
       "\n",
       "       db52      db53      db54      db55      db56      db57      db58  \\\n",
       "0  0.000163  0.000016  0.000036  0.000051  0.000016  0.000035  0.000003   \n",
       "1  0.000000  0.000000  0.000000  0.000000  0.000000  0.000000  0.000000   \n",
       "\n",
       "       db59      db60      db61      db62      db63          db64      db65  \\\n",
       "0  0.000009  0.000005  0.000008  0.000011  0.000378  7.255213e-07  0.000018   \n",
       "1  0.000000  0.000000  0.000000  0.000000  0.000000  0.000000e+00  0.000000   \n",
       "\n",
       "       db66      db67      db68      db69      db70      db71      db72  \\\n",
       "0  0.000872  0.947656  0.000081  0.000061  0.000077  0.000082  0.000049   \n",
       "1  0.000000  0.000000  0.000000  0.000000  0.000000  0.000000  0.000000   \n",
       "\n",
       "       db73     db74      db75      db76      db77      db78      db79  \\\n",
       "0  0.000058  0.00001  0.000008  0.000068  0.000004  0.000043  0.000018   \n",
       "1  0.000000  0.00000  0.000000  0.000000  0.000000  0.000000  0.000000   \n",
       "\n",
       "       db80      db81      db82      db83     db84      db85      db86  \\\n",
       "0  0.000028  0.000022  0.000018  0.000064  0.00001  0.000026  0.000032   \n",
       "1  0.000000  0.000000  0.000000  0.000000  0.00000  0.000000  0.000000   \n",
       "\n",
       "       db87      db88      db89      db90      db91      db92      db93  \\\n",
       "0  0.000092  0.000043  0.000136  0.000063  0.000636  0.000024  0.000048   \n",
       "1  0.000000  0.000000  0.000000  0.000000  0.000000  0.000000  0.000000   \n",
       "\n",
       "       db94      db95      db96      db97      db98      db99     db100  \\\n",
       "0  0.000042  0.000041  0.000015  0.000016  0.000007  0.000017  0.000007   \n",
       "1  0.000000  0.000000  0.000000  0.000000  0.000000  0.000000  0.000000   \n",
       "\n",
       "      db101     db102     db103     db104     db105     db106     db107  \\\n",
       "0  0.000054  0.000009  0.000121  0.000118  0.000018  0.000002  0.000011   \n",
       "1  0.000000  0.000000  0.000000  0.000000  0.000000  0.000000  0.000000   \n",
       "\n",
       "      db108     db109     db110     db111     db112     db113     db114  \\\n",
       "0  0.000113  0.000042  0.000196  0.000014  0.000127  0.000029  0.000567   \n",
       "1  0.000000  0.000000  0.000000  0.000000  0.000000  0.000000  0.000000   \n",
       "\n",
       "      db115     db116     db117     db118     db119  \n",
       "0  0.000021  0.000042  0.000056  0.000008  0.000011  \n",
       "1  0.000000  0.000000  0.000000  0.000000  0.000000  "
      ]
     },
     "execution_count": 20,
     "metadata": {},
     "output_type": "execute_result"
    }
   ],
   "source": [
    "df_meta = df_train[meta_features].join(df_dogbreed)\n",
    "\n",
    "print(df_meta.shape)\n",
    "df_meta.head(2)"
   ]
  },
  {
   "cell_type": "markdown",
   "id": "13a6d76d",
   "metadata": {
    "papermill": {
     "duration": 0.177278,
     "end_time": "2021-12-19T15:55:11.025820",
     "exception": false,
     "start_time": "2021-12-19T15:55:10.848542",
     "status": "completed"
    },
    "tags": []
   },
   "source": [
    "# Define model"
   ]
  },
  {
   "cell_type": "code",
   "execution_count": 21,
   "id": "b6e4668c",
   "metadata": {
    "execution": {
     "iopub.execute_input": "2021-12-19T15:55:11.404761Z",
     "iopub.status.busy": "2021-12-19T15:55:11.403805Z",
     "iopub.status.idle": "2021-12-19T15:55:11.405590Z",
     "shell.execute_reply": "2021-12-19T15:55:11.405979Z",
     "shell.execute_reply.started": "2021-12-19T15:31:24.260721Z"
    },
    "papermill": {
     "duration": 0.203713,
     "end_time": "2021-12-19T15:55:11.406128",
     "exception": false,
     "start_time": "2021-12-19T15:55:11.202415",
     "status": "completed"
    },
    "tags": []
   },
   "outputs": [],
   "source": [
    "class Model(nn.Module):\n",
    "    def __init__(self, model_name, pretrained=True):\n",
    "        super().__init__()\n",
    "        self.model = timm.create_model(model_name, pretrained=pretrained, in_chans=3)\n",
    "        self.n_features = self.model.classifier.in_features\n",
    "        self.model.classifier = nn.Linear(self.n_features, 1)\n",
    "\n",
    "    def forward(self, x):\n",
    "        output = self.model(x)\n",
    "        return output\n",
    "    \n",
    "class ModelwithMetadataFirst(nn.Module):\n",
    "    def __init__(self, model_name, size=CFG[\"size\"], pretrained=True):\n",
    "        super().__init__()\n",
    "        self.size  = size\n",
    "        self.model = timm.create_model(model_name, pretrained=pretrained, in_chans=4)\n",
    "        self.n_features = self.model.classifier.in_features\n",
    "        self.model.classifier = nn.Linear(self.n_features, 1)\n",
    "        self.linear = nn.Linear(14, size*size)\n",
    "\n",
    "    def forward(self, x1, x2):\n",
    "        x = self.linear(x2)\n",
    "        x = torch.reshape(x, (x2.shape[0], 1, self.size, self.size))\n",
    "        x = torch.cat((x1, x), dim=1)\n",
    "        output = self.model(x)\n",
    "        return output\n",
    "    \n",
    "# https://rwightman.github.io/pytorch-image-models/feature_extraction/\n",
    "class ModelwithMetadataLast(nn.Module):\n",
    "    def __init__(self, model_name, size=CFG[\"size\"], pretrained=True):\n",
    "        super().__init__()\n",
    "        self.size  = size\n",
    "        self.model = timm.create_model(model_name, pretrained=pretrained, in_chans=3)\n",
    "        self.n_features = self.model.classifier.in_features\n",
    "        self.model.reset_classifier(0)\n",
    "        self.linear1 = nn.Linear(14, self.n_features)\n",
    "        self.linear2 = nn.Linear(self.n_features, 256)\n",
    "        self.linear3 = nn.Linear(256, 1)\n",
    "        self.relu    = nn.ReLU()\n",
    "        self.dropout = nn.Dropout(0.3)\n",
    "\n",
    "    def forward(self, x1, x2):\n",
    "        x1 = self.model(x1)\n",
    "        x2 = self.linear1(x2)\n",
    "        x  = torch.add(x1, x2)\n",
    "        x  = self.relu(self.linear2(x))\n",
    "        x  = self.dropout(x)\n",
    "        output = self.linear3(x)\n",
    "        return output\n",
    "    \n",
    "class ModelwithMetadata(nn.Module):\n",
    "    def __init__(self, model_name, size=CFG[\"size\"], pretrained=True):\n",
    "        super().__init__()\n",
    "        self.size  = size\n",
    "        self.model = timm.create_model(model_name, pretrained=pretrained, in_chans=4)\n",
    "        self.n_features = self.model.classifier.in_features\n",
    "        # Exclude the top layer\n",
    "        self.model.reset_classifier(0)\n",
    "        self.linear1 = nn.Linear(134, size*size)\n",
    "        self.linear2 = nn.Linear(134, self.n_features)\n",
    "        self.linear3 = nn.Linear(self.n_features, 256)\n",
    "        self.linear4 = nn.Linear(256, 1)\n",
    "        self.relu    = nn.ReLU()\n",
    "        self.dropout = nn.Dropout(0.3)\n",
    "\n",
    "\n",
    "    def forward(self, x1, x2):\n",
    "        # Metadata first\n",
    "        x = self.linear1(x2)\n",
    "        x = torch.reshape(x, (x2.shape[0], 1, self.size, self.size))\n",
    "        x = torch.cat((x1, x), dim=1)\n",
    "        x = self.model(x)\n",
    "        # Metadata Last\n",
    "        x2 = self.linear2(x2)\n",
    "        x  = torch.add(x, x2)\n",
    "        x  = self.relu(self.linear3(x))\n",
    "        x  = self.dropout(x)\n",
    "        output = self.linear4(x)\n",
    "        return output\n",
    "    \n",
    "class SwinModelwithMetadata(nn.Module):\n",
    "    def __init__(self, model_name, size=CFG[\"size\"], pretrained=True):\n",
    "        super().__init__()\n",
    "        self.size  = size\n",
    "        self.model = timm.create_model(model_name, pretrained=pretrained, num_classes=0, in_chans=4)\n",
    "        num_features = self.model.num_features\n",
    "        self.linear1 = nn.Linear(134, size*size)\n",
    "        self.linear2 = nn.Linear(134, num_features)\n",
    "        self.linear3 = nn.Linear(num_features, 256)\n",
    "        self.linear4 = nn.Linear(256, 1)\n",
    "        self.relu    = nn.ReLU()\n",
    "        self.dropout = nn.Dropout(0.3)\n",
    "\n",
    "    def forward(self, x1, x2):\n",
    "        # Metadata first\n",
    "        x  = self.linear1(x2)\n",
    "        x  = torch.reshape(x, (x2.shape[0], 1, self.size, self.size))\n",
    "        x  = torch.cat((x1, x), dim=1)\n",
    "        x  = self.model(x)\n",
    "        # Metadata Last\n",
    "        x2 = self.linear2(x2)\n",
    "        x  = torch.add(x, x2)\n",
    "        x  = self.relu(self.linear3(x))\n",
    "        x  = self.dropout(x)\n",
    "        output = self.linear4(x)\n",
    "        return output"
   ]
  },
  {
   "cell_type": "code",
   "execution_count": 22,
   "id": "87e724bc",
   "metadata": {
    "execution": {
     "iopub.execute_input": "2021-12-19T15:55:11.771218Z",
     "iopub.status.busy": "2021-12-19T15:55:11.770331Z",
     "iopub.status.idle": "2021-12-19T15:55:11.772221Z",
     "shell.execute_reply": "2021-12-19T15:55:11.772748Z",
     "shell.execute_reply.started": "2021-12-19T15:31:24.299857Z"
    },
    "papermill": {
     "duration": 0.189511,
     "end_time": "2021-12-19T15:55:11.772883",
     "exception": false,
     "start_time": "2021-12-19T15:55:11.583372",
     "status": "completed"
    },
    "tags": []
   },
   "outputs": [],
   "source": [
    "class PetFinderDataset(Dataset):\n",
    "    def __init__(self, df_img, df_meta, transforms=None, train=True, output_meta=True, output_label=True):\n",
    "        super().__init__()\n",
    "        self.df_img  = df_img.reset_index(drop=True).copy()\n",
    "        self.df_meta = df_meta.reset_index(drop=True).copy()\n",
    "        self.transforms   = transforms\n",
    "        self.train        = train\n",
    "        self.output_meta  = output_meta\n",
    "        self.output_label = output_label\n",
    "        \n",
    "    def __len__(self):\n",
    "        return self.df_img.shape[0]\n",
    "    \n",
    "    def __getitem__(self, index: int):\n",
    "        img  = get_img(self.df_img.loc[index].path)\n",
    "        y    = torch.from_numpy(np.array(self.df_img.loc[index].Pawclass))\n",
    "        #y    = torch.from_numpy(np.array(self.df_img.loc[index].Pawpularity))\n",
    "        meta = torch.from_numpy(np.array(self.df_meta.loc[index], dtype=float))\n",
    "        if self.transforms:\n",
    "            if self.train:\n",
    "                img = self.transforms(image=img)['image']\n",
    "            else:\n",
    "                h, w, _ = img.shape\n",
    "                trans = self.transforms(h, w)\n",
    "                img   = trans(image=img)['image']\n",
    "        if self.output_label:\n",
    "            if self.output_meta:\n",
    "                return img, meta, y\n",
    "            else:\n",
    "                return img, y\n",
    "        if self.output_meta:\n",
    "            return img, meta\n",
    "        return img"
   ]
  },
  {
   "cell_type": "code",
   "execution_count": 23,
   "id": "3fe29fbc",
   "metadata": {
    "execution": {
     "iopub.execute_input": "2021-12-19T15:55:12.139601Z",
     "iopub.status.busy": "2021-12-19T15:55:12.138767Z",
     "iopub.status.idle": "2021-12-19T15:55:12.151960Z",
     "shell.execute_reply": "2021-12-19T15:55:12.151489Z",
     "shell.execute_reply.started": "2021-12-19T15:31:24.315841Z"
    },
    "papermill": {
     "duration": 0.193069,
     "end_time": "2021-12-19T15:55:12.152080",
     "exception": false,
     "start_time": "2021-12-19T15:55:11.959011",
     "status": "completed"
    },
    "tags": []
   },
   "outputs": [],
   "source": [
    "def get_train_transforms():\n",
    "    return Compose([\n",
    "        Resize(CFG['size'], CFG['size'], p=1.0),\n",
    "        HorizontalFlip(p=0.5),\n",
    "        HueSaturationValue(hue_shift_limit=0.2, sat_shift_limit=0.2, val_shift_limit=0.2, p=0.5),\n",
    "        RandomBrightnessContrast(brightness_limit=(-0.1,0.1), contrast_limit=(-0.1, 0.1), p=0.5),\n",
    "        Normalize(mean=[0.485, 0.456, 0.406], std=[0.229, 0.224, 0.225], max_pixel_value=255.0, p=1.0),\n",
    "        ToTensorV2(p=1.0)], p=1.0)\n",
    "  \n",
    "def get_valid_transforms(h, w):\n",
    "    return Compose([\n",
    "        Resize(CFG['size'], CFG['size'], p=1.0),\n",
    "        Normalize(mean=[0.485, 0.456, 0.406], std=[0.229, 0.224, 0.225], max_pixel_value=255.0, p=1.0),\n",
    "        ToTensorV2(p=1.0)], p=1.0)\n",
    "\n",
    "#https://www.kaggle.com/heyytanay/definitive-pytorch-trainer-mixup-kfolds-w-b\n",
    "def mixup_augmentation(x:torch.Tensor, y:torch.Tensor, alpha:float = 1.0):\n",
    "    \"\"\"\n",
    "    Function which performs Mixup augmentation\n",
    "    \"\"\"\n",
    "    assert alpha > 0, \"Alpha must be greater than 0\"\n",
    "    assert x.shape[0] > 1, \"Need more than 1 sample to apply mixup\"\n",
    "\n",
    "    lam = np.random.beta(alpha, alpha)\n",
    "    rand_idx = torch.randperm(x.shape[0])\n",
    "    mixed_x  = lam * x + (1 - lam) * x[rand_idx, :]\n",
    "    target_a, target_b = y, y[rand_idx]\n",
    "    return mixed_x, target_a, target_b, lam\n",
    "\n",
    "def prepare_dataloader(train, train_meta, valid, valid_meta):\n",
    "    train_ds = PetFinderDataset(train, train_meta, transforms=get_train_transforms())\n",
    "    valid_ds = PetFinderDataset(valid, valid_meta, transforms=get_valid_transforms, train=False)\n",
    "    train_loader = torch.utils.data.DataLoader(train_ds,\n",
    "                                               batch_size=CFG['batch_size'],\n",
    "                                               drop_last=False,\n",
    "                                               pin_memory=False,\n",
    "                                               shuffle=True,\n",
    "                                               num_workers=CFG['num_workers'])\n",
    "    val_loader = torch.utils.data.DataLoader(valid_ds,\n",
    "                                             batch_size=CFG['batch_size'],\n",
    "                                             pin_memory=False,\n",
    "                                             shuffle=False,\n",
    "                                             num_workers=CFG['num_workers'])\n",
    "    return train_loader, val_loader"
   ]
  },
  {
   "cell_type": "code",
   "execution_count": 24,
   "id": "87955c79",
   "metadata": {
    "execution": {
     "iopub.execute_input": "2021-12-19T15:55:12.512808Z",
     "iopub.status.busy": "2021-12-19T15:55:12.511931Z",
     "iopub.status.idle": "2021-12-19T15:55:12.531076Z",
     "shell.execute_reply": "2021-12-19T15:55:12.531525Z",
     "shell.execute_reply.started": "2021-12-19T15:31:24.340939Z"
    },
    "papermill": {
     "duration": 0.203098,
     "end_time": "2021-12-19T15:55:12.531662",
     "exception": false,
     "start_time": "2021-12-19T15:55:12.328564",
     "status": "completed"
    },
    "tags": []
   },
   "outputs": [],
   "source": [
    "def train_one_epoch(epoch, model, loss_fn, optimizer, train_loader, device, scheduler=None, schd_batch_update=False):\n",
    "    model.train()\n",
    "\n",
    "    t = time.time()\n",
    "    running_loss = None\n",
    "    mean_loss    = 0\n",
    "\n",
    "    pbar = tqdm(enumerate(train_loader), total=len(train_loader))\n",
    "    for step, (imgs, metas, targets) in pbar:\n",
    "        imgs    = imgs.to(device).float()\n",
    "        metas   = metas.to(device).float()\n",
    "        targets = targets.reshape(-1,1).to(device).float()\n",
    "\n",
    "        if torch.rand(1)[0] < CFG[\"mixup_ratio\"]:\n",
    "            mix_img, tar_a, tar_b, lam = mixup_augmentation(imgs, targets, alpha=0.5)\n",
    "            with autocast():\n",
    "                img_preds = model(mix_img, metas)\n",
    "                # Mixup loss calculation\n",
    "                loss_a = loss_fn(img_preds, tar_a)\n",
    "                loss_b = loss_fn(img_preds, tar_b)\n",
    "                loss = (loss_a * lam + (1 - lam) * loss_b) / CFG['accum_iter']\n",
    "        else:\n",
    "            with autocast():\n",
    "                img_preds = model(imgs, metas)\n",
    "                loss = loss_fn(img_preds, targets) / CFG['accum_iter']\n",
    "        scaler.scale(loss).backward()\n",
    "\n",
    "        if running_loss is None:\n",
    "            running_loss = loss.item()\n",
    "        else:\n",
    "            running_loss = running_loss * .99 + loss.item() * .01\n",
    "        mean_loss += loss.item()\n",
    "\n",
    "        if ((step + 1) %  CFG['accum_iter'] == 0) or ((step + 1) == len(train_loader)):\n",
    "            scaler.step(optimizer)\n",
    "            scaler.update()\n",
    "            optimizer.zero_grad() \n",
    "            if scheduler is not None and schd_batch_update:\n",
    "                scheduler.step()\n",
    "\n",
    "        if ((step + 1) % CFG['verbose_step'] == 0) or ((step + 1) == len(train_loader)):\n",
    "            description = f'epoch {epoch} loss: {running_loss:.4f}'\n",
    "            pbar.set_description(description)\n",
    "                \n",
    "    if scheduler is not None and not schd_batch_update:\n",
    "        scheduler.step()\n",
    "    return mean_loss/len(train_loader)\n",
    "        \n",
    "def valid_one_epoch(epoch, model, loss_fn, val_loader, device, scheduler=None, schd_loss_update=False):\n",
    "    model.eval()\n",
    "\n",
    "    t = time.time()\n",
    "    loss_sum   = 0\n",
    "    sample_num = 0\n",
    "    img_preds_all = []\n",
    "    img_truth_all = []\n",
    "    \n",
    "    pbar = tqdm(enumerate(val_loader), total=len(val_loader))\n",
    "    for step, (imgs, metas, targets) in pbar:\n",
    "        imgs    = imgs.to(device)\n",
    "        metas   = metas.to(device).float()\n",
    "        targets = targets.reshape(-1,1).to(device).float()\n",
    "        \n",
    "        img_preds = model(imgs, metas)\n",
    "        img_preds_all += [img_preds.detach().cpu().numpy()]\n",
    "        img_truth_all += [targets.detach().cpu().numpy()]\n",
    "        \n",
    "        loss = loss_fn(img_preds, targets)\n",
    "        loss_sum   += loss.item()*targets.shape[0]\n",
    "        sample_num += targets.shape[0]  \n",
    "\n",
    "        if ((step + 1) % CFG['verbose_step'] == 0) or ((step + 1) == len(val_loader)):\n",
    "            description = f'epoch {epoch} loss: {loss_sum/sample_num:.4f}'\n",
    "            pbar.set_description(description)\n",
    "            \n",
    "    img_preds_all = (sigmoid(np.concatenate(img_preds_all))*100).astype(int)\n",
    "    img_truth_all = (np.concatenate(img_truth_all)*100).astype(int)\n",
    "    #img_preds_all = np.concatenate(img_preds_all)\n",
    "    #img_truth_all = np.concatenate(img_truth_all)\n",
    "    rmse = np.sqrt(mean_squared_error(img_preds_all, img_truth_all))\n",
    "    print('validation rmse = {:.6f}'.format(rmse))\n",
    "    \n",
    "    if scheduler is not None:\n",
    "        if schd_loss_update:\n",
    "            scheduler.step(loss_sum/sample_num)\n",
    "        else:\n",
    "            scheduler.step()\n",
    "    return rmse, loss_sum/sample_num,  [img_preds_all, img_truth_all]"
   ]
  },
  {
   "cell_type": "code",
   "execution_count": 25,
   "id": "48d638c2",
   "metadata": {
    "execution": {
     "iopub.execute_input": "2021-12-19T15:55:12.894001Z",
     "iopub.status.busy": "2021-12-19T15:55:12.893116Z",
     "iopub.status.idle": "2021-12-19T15:55:12.895237Z",
     "shell.execute_reply": "2021-12-19T15:55:12.895607Z",
     "shell.execute_reply.started": "2021-12-19T15:31:24.367592Z"
    },
    "papermill": {
     "duration": 0.186248,
     "end_time": "2021-12-19T15:55:12.895775",
     "exception": false,
     "start_time": "2021-12-19T15:55:12.709527",
     "status": "completed"
    },
    "tags": []
   },
   "outputs": [],
   "source": [
    "def sgd_optimizer(model, lr, momentum, weight_decay):\n",
    "    params = []\n",
    "    for key, value in model.named_parameters():\n",
    "        if not value.requires_grad:\n",
    "            continue\n",
    "        apply_weight_decay = weight_decay\n",
    "        apply_lr = lr\n",
    "        if 'bias' in key or 'bn' in key:\n",
    "            apply_weight_decay = 0\n",
    "        if 'bias' in key:\n",
    "            apply_lr = 2 * lr       # Just a Caffe-style common practice. Made no difference.\n",
    "        params += [{'params': [value], 'lr': apply_lr, 'weight_decay': apply_weight_decay}]\n",
    "    optimizer = torch.optim.SGD(params, lr, momentum=momentum)\n",
    "    return optimizer\n",
    "\n",
    "class RMSELoss(nn.Module):\n",
    "    def __init__(self):\n",
    "        super().__init__()\n",
    "        self.mse = nn.MSELoss()\n",
    "        \n",
    "    def forward(self, yhat, y):\n",
    "        return torch.sqrt(self.mse(yhat, y))"
   ]
  },
  {
   "cell_type": "markdown",
   "id": "798e4d31",
   "metadata": {
    "papermill": {
     "duration": 0.176326,
     "end_time": "2021-12-19T15:55:13.249375",
     "exception": false,
     "start_time": "2021-12-19T15:55:13.073049",
     "status": "completed"
    },
    "tags": []
   },
   "source": [
    "# Run training"
   ]
  },
  {
   "cell_type": "code",
   "execution_count": 26,
   "id": "7df47acd",
   "metadata": {
    "execution": {
     "iopub.execute_input": "2021-12-19T15:55:13.619217Z",
     "iopub.status.busy": "2021-12-19T15:55:13.618369Z",
     "iopub.status.idle": "2021-12-19T20:02:50.257784Z",
     "shell.execute_reply": "2021-12-19T20:02:50.230552Z",
     "shell.execute_reply.started": "2021-12-19T15:31:24.382260Z"
    },
    "papermill": {
     "duration": 14856.831898,
     "end_time": "2021-12-19T20:02:50.257912",
     "exception": false,
     "start_time": "2021-12-19T15:55:13.426014",
     "status": "completed"
    },
    "tags": []
   },
   "outputs": [
    {
     "name": "stdout",
     "output_type": "stream",
     "text": [
      "Training with fold 0 started\n",
      "7395 2465\n"
     ]
    },
    {
     "name": "stderr",
     "output_type": "stream",
     "text": [
      "Downloading: \"https://github.com/SwinTransformer/storage/releases/download/v1.0.0/swin_large_patch4_window7_224_22k.pth\" to /root/.cache/torch/hub/checkpoints/swin_large_patch4_window7_224_22k.pth\n",
      "epoch 0 loss: 0.3350: 100%|██████████| 232/232 [05:23<00:00,  1.39s/it]\n",
      "epoch 0 loss: 0.6599: 100%|██████████| 78/78 [00:42<00:00,  1.83it/s]\n"
     ]
    },
    {
     "name": "stdout",
     "output_type": "stream",
     "text": [
      "validation rmse = 20.122808\n",
      "Best model will be saved to output path after completing this fold\n"
     ]
    },
    {
     "name": "stderr",
     "output_type": "stream",
     "text": [
      "epoch 1 loss: 0.3253: 100%|██████████| 232/232 [05:22<00:00,  1.39s/it]\n",
      "epoch 1 loss: 0.6500: 100%|██████████| 78/78 [00:43<00:00,  1.79it/s]\n"
     ]
    },
    {
     "name": "stdout",
     "output_type": "stream",
     "text": [
      "validation rmse = 18.894154\n",
      "Best model will be saved to output path after completing this fold\n"
     ]
    },
    {
     "name": "stderr",
     "output_type": "stream",
     "text": [
      "epoch 2 loss: 0.3237: 100%|██████████| 232/232 [05:23<00:00,  1.39s/it]\n",
      "epoch 2 loss: 0.6434: 100%|██████████| 78/78 [00:43<00:00,  1.81it/s]\n"
     ]
    },
    {
     "name": "stdout",
     "output_type": "stream",
     "text": [
      "validation rmse = 18.022073\n",
      "Best model will be saved to output path after completing this fold\n"
     ]
    },
    {
     "name": "stderr",
     "output_type": "stream",
     "text": [
      "epoch 3 loss: 0.3201: 100%|██████████| 232/232 [05:23<00:00,  1.39s/it]\n",
      "epoch 3 loss: 0.6417: 100%|██████████| 78/78 [00:44<00:00,  1.76it/s]\n"
     ]
    },
    {
     "name": "stdout",
     "output_type": "stream",
     "text": [
      "validation rmse = 17.798557\n",
      "Best model will be saved to output path after completing this fold\n"
     ]
    },
    {
     "name": "stderr",
     "output_type": "stream",
     "text": [
      "epoch 4 loss: 0.3173: 100%|██████████| 232/232 [05:22<00:00,  1.39s/it]\n",
      "epoch 4 loss: 0.6427: 100%|██████████| 78/78 [00:42<00:00,  1.83it/s]"
     ]
    },
    {
     "name": "stdout",
     "output_type": "stream",
     "text": [
      "validation rmse = 17.954811\n"
     ]
    },
    {
     "name": "stderr",
     "output_type": "stream",
     "text": [
      "\n",
      "epoch 5 loss: 0.3126: 100%|██████████| 232/232 [05:23<00:00,  1.39s/it]\n",
      "epoch 5 loss: 0.6431: 100%|██████████| 78/78 [00:43<00:00,  1.81it/s]"
     ]
    },
    {
     "name": "stdout",
     "output_type": "stream",
     "text": [
      "validation rmse = 17.960775\n"
     ]
    },
    {
     "name": "stderr",
     "output_type": "stream",
     "text": [
      "\n",
      "epoch 6 loss: 0.3120: 100%|██████████| 232/232 [05:23<00:00,  1.39s/it]\n",
      "epoch 6 loss: 0.6451: 100%|██████████| 78/78 [00:43<00:00,  1.80it/s]"
     ]
    },
    {
     "name": "stdout",
     "output_type": "stream",
     "text": [
      "validation rmse = 18.133615\n"
     ]
    },
    {
     "name": "stderr",
     "output_type": "stream",
     "text": [
      "\n",
      "epoch 7 loss: 0.3058: 100%|██████████| 232/232 [05:24<00:00,  1.40s/it]\n",
      "epoch 7 loss: 0.6474: 100%|██████████| 78/78 [00:43<00:00,  1.78it/s]"
     ]
    },
    {
     "name": "stdout",
     "output_type": "stream",
     "text": [
      "validation rmse = 18.461516\n"
     ]
    },
    {
     "name": "stderr",
     "output_type": "stream",
     "text": [
      "\n",
      "epoch 8 loss: 0.3010: 100%|██████████| 232/232 [05:25<00:00,  1.40s/it]\n",
      "epoch 8 loss: 0.6519: 100%|██████████| 78/78 [00:45<00:00,  1.72it/s]"
     ]
    },
    {
     "name": "stdout",
     "output_type": "stream",
     "text": [
      "validation rmse = 18.886476\n"
     ]
    },
    {
     "name": "stderr",
     "output_type": "stream",
     "text": [
      "\n",
      "epoch 9 loss: 0.3000: 100%|██████████| 232/232 [05:24<00:00,  1.40s/it]\n",
      "epoch 9 loss: 0.6511: 100%|██████████| 78/78 [00:44<00:00,  1.76it/s]\n"
     ]
    },
    {
     "name": "stdout",
     "output_type": "stream",
     "text": [
      "validation rmse = 18.806283\n",
      "Training with fold 1 started\n",
      "7395 2465\n"
     ]
    },
    {
     "name": "stderr",
     "output_type": "stream",
     "text": [
      "epoch 0 loss: 0.3370: 100%|██████████| 232/232 [05:25<00:00,  1.40s/it]\n",
      "epoch 0 loss: 0.6607: 100%|██████████| 78/78 [00:42<00:00,  1.82it/s]\n"
     ]
    },
    {
     "name": "stdout",
     "output_type": "stream",
     "text": [
      "validation rmse = 20.197996\n",
      "Best model will be saved to output path after completing this fold\n"
     ]
    },
    {
     "name": "stderr",
     "output_type": "stream",
     "text": [
      "epoch 1 loss: 0.3288: 100%|██████████| 232/232 [05:23<00:00,  1.40s/it]\n",
      "epoch 1 loss: 0.6505: 100%|██████████| 78/78 [00:43<00:00,  1.81it/s]\n"
     ]
    },
    {
     "name": "stdout",
     "output_type": "stream",
     "text": [
      "validation rmse = 18.975034\n",
      "Best model will be saved to output path after completing this fold\n"
     ]
    },
    {
     "name": "stderr",
     "output_type": "stream",
     "text": [
      "epoch 2 loss: 0.3223: 100%|██████████| 232/232 [05:23<00:00,  1.40s/it]\n",
      "epoch 2 loss: 0.6439: 100%|██████████| 78/78 [00:43<00:00,  1.78it/s]\n"
     ]
    },
    {
     "name": "stdout",
     "output_type": "stream",
     "text": [
      "validation rmse = 18.143568\n",
      "Best model will be saved to output path after completing this fold\n"
     ]
    },
    {
     "name": "stderr",
     "output_type": "stream",
     "text": [
      "epoch 3 loss: 0.3199: 100%|██████████| 232/232 [05:23<00:00,  1.39s/it]\n",
      "epoch 3 loss: 0.6418: 100%|██████████| 78/78 [00:42<00:00,  1.82it/s]\n"
     ]
    },
    {
     "name": "stdout",
     "output_type": "stream",
     "text": [
      "validation rmse = 17.882091\n",
      "Best model will be saved to output path after completing this fold\n"
     ]
    },
    {
     "name": "stderr",
     "output_type": "stream",
     "text": [
      "epoch 4 loss: 0.3170: 100%|██████████| 232/232 [05:23<00:00,  1.40s/it]\n",
      "epoch 4 loss: 0.6431: 100%|██████████| 78/78 [00:43<00:00,  1.79it/s]\n"
     ]
    },
    {
     "name": "stdout",
     "output_type": "stream",
     "text": [
      "validation rmse = 18.042389\n"
     ]
    },
    {
     "name": "stderr",
     "output_type": "stream",
     "text": [
      "epoch 5 loss: 0.3125: 100%|██████████| 232/232 [05:23<00:00,  1.39s/it]\n",
      "epoch 5 loss: 0.6428: 100%|██████████| 78/78 [00:43<00:00,  1.80it/s]"
     ]
    },
    {
     "name": "stdout",
     "output_type": "stream",
     "text": [
      "validation rmse = 17.976478\n"
     ]
    },
    {
     "name": "stderr",
     "output_type": "stream",
     "text": [
      "\n",
      "epoch 6 loss: 0.3108: 100%|██████████| 232/232 [05:24<00:00,  1.40s/it]\n",
      "epoch 6 loss: 0.6460: 100%|██████████| 78/78 [00:42<00:00,  1.83it/s]\n"
     ]
    },
    {
     "name": "stdout",
     "output_type": "stream",
     "text": [
      "validation rmse = 18.329251\n"
     ]
    },
    {
     "name": "stderr",
     "output_type": "stream",
     "text": [
      "epoch 7 loss: 0.3069: 100%|██████████| 232/232 [05:25<00:00,  1.40s/it]\n",
      "epoch 7 loss: 0.6460: 100%|██████████| 78/78 [00:44<00:00,  1.73it/s]"
     ]
    },
    {
     "name": "stdout",
     "output_type": "stream",
     "text": [
      "validation rmse = 18.316410\n"
     ]
    },
    {
     "name": "stderr",
     "output_type": "stream",
     "text": [
      "\n",
      "epoch 8 loss: 0.3029: 100%|██████████| 232/232 [05:23<00:00,  1.40s/it]\n",
      "epoch 8 loss: 0.6482: 100%|██████████| 78/78 [00:44<00:00,  1.76it/s]\n"
     ]
    },
    {
     "name": "stdout",
     "output_type": "stream",
     "text": [
      "validation rmse = 18.566923\n"
     ]
    },
    {
     "name": "stderr",
     "output_type": "stream",
     "text": [
      "epoch 9 loss: 0.3007: 100%|██████████| 232/232 [05:23<00:00,  1.40s/it]\n",
      "epoch 9 loss: 0.6490: 100%|██████████| 78/78 [00:42<00:00,  1.82it/s]\n"
     ]
    },
    {
     "name": "stdout",
     "output_type": "stream",
     "text": [
      "validation rmse = 18.676351\n",
      "Training with fold 2 started\n",
      "7395 2465\n"
     ]
    },
    {
     "name": "stderr",
     "output_type": "stream",
     "text": [
      "epoch 0 loss: 0.3338: 100%|██████████| 232/232 [05:24<00:00,  1.40s/it]\n",
      "epoch 0 loss: 0.6592: 100%|██████████| 78/78 [00:43<00:00,  1.81it/s]\n"
     ]
    },
    {
     "name": "stdout",
     "output_type": "stream",
     "text": [
      "validation rmse = 20.003489\n",
      "Best model will be saved to output path after completing this fold\n"
     ]
    },
    {
     "name": "stderr",
     "output_type": "stream",
     "text": [
      "epoch 1 loss: 0.3259: 100%|██████████| 232/232 [05:24<00:00,  1.40s/it]\n",
      "epoch 1 loss: 0.6488: 100%|██████████| 78/78 [00:42<00:00,  1.83it/s]\n"
     ]
    },
    {
     "name": "stdout",
     "output_type": "stream",
     "text": [
      "validation rmse = 18.752244\n",
      "Best model will be saved to output path after completing this fold\n"
     ]
    },
    {
     "name": "stderr",
     "output_type": "stream",
     "text": [
      "epoch 2 loss: 0.3220: 100%|██████████| 232/232 [05:24<00:00,  1.40s/it]\n",
      "epoch 2 loss: 0.6447: 100%|██████████| 78/78 [00:42<00:00,  1.83it/s]\n"
     ]
    },
    {
     "name": "stdout",
     "output_type": "stream",
     "text": [
      "validation rmse = 18.205955\n",
      "Best model will be saved to output path after completing this fold\n"
     ]
    },
    {
     "name": "stderr",
     "output_type": "stream",
     "text": [
      "epoch 3 loss: 0.3180: 100%|██████████| 232/232 [05:24<00:00,  1.40s/it]\n",
      "epoch 3 loss: 0.6415: 100%|██████████| 78/78 [00:46<00:00,  1.68it/s]\n"
     ]
    },
    {
     "name": "stdout",
     "output_type": "stream",
     "text": [
      "validation rmse = 17.761035\n",
      "Best model will be saved to output path after completing this fold\n"
     ]
    },
    {
     "name": "stderr",
     "output_type": "stream",
     "text": [
      "epoch 4 loss: 0.3163: 100%|██████████| 232/232 [05:24<00:00,  1.40s/it]\n",
      "epoch 4 loss: 0.6410: 100%|██████████| 78/78 [00:43<00:00,  1.80it/s]\n"
     ]
    },
    {
     "name": "stdout",
     "output_type": "stream",
     "text": [
      "validation rmse = 17.711183\n",
      "Best model will be saved to output path after completing this fold\n"
     ]
    },
    {
     "name": "stderr",
     "output_type": "stream",
     "text": [
      "epoch 5 loss: 0.3121: 100%|██████████| 232/232 [05:24<00:00,  1.40s/it]\n",
      "epoch 5 loss: 0.6428: 100%|██████████| 78/78 [00:41<00:00,  1.86it/s]"
     ]
    },
    {
     "name": "stdout",
     "output_type": "stream",
     "text": [
      "validation rmse = 17.931909\n"
     ]
    },
    {
     "name": "stderr",
     "output_type": "stream",
     "text": [
      "\n",
      "epoch 6 loss: 0.3087: 100%|██████████| 232/232 [05:24<00:00,  1.40s/it]\n",
      "epoch 6 loss: 0.6492: 100%|██████████| 78/78 [00:42<00:00,  1.86it/s]"
     ]
    },
    {
     "name": "stdout",
     "output_type": "stream",
     "text": [
      "validation rmse = 18.703364\n"
     ]
    },
    {
     "name": "stderr",
     "output_type": "stream",
     "text": [
      "\n",
      "epoch 7 loss: 0.3071: 100%|██████████| 232/232 [05:23<00:00,  1.39s/it]\n",
      "epoch 7 loss: 0.6463: 100%|██████████| 78/78 [00:41<00:00,  1.87it/s]"
     ]
    },
    {
     "name": "stdout",
     "output_type": "stream",
     "text": [
      "validation rmse = 18.294359\n"
     ]
    },
    {
     "name": "stderr",
     "output_type": "stream",
     "text": [
      "\n",
      "epoch 8 loss: 0.3017: 100%|██████████| 232/232 [05:23<00:00,  1.39s/it]\n",
      "epoch 8 loss: 0.6500: 100%|██████████| 78/78 [00:45<00:00,  1.71it/s]\n"
     ]
    },
    {
     "name": "stdout",
     "output_type": "stream",
     "text": [
      "validation rmse = 18.778381\n"
     ]
    },
    {
     "name": "stderr",
     "output_type": "stream",
     "text": [
      "epoch 9 loss: 0.2997: 100%|██████████| 232/232 [05:23<00:00,  1.39s/it]\n",
      "epoch 9 loss: 0.6514: 100%|██████████| 78/78 [00:41<00:00,  1.88it/s]\n"
     ]
    },
    {
     "name": "stdout",
     "output_type": "stream",
     "text": [
      "validation rmse = 18.883877\n",
      "Training with fold 3 started\n",
      "7395 2465\n"
     ]
    },
    {
     "name": "stderr",
     "output_type": "stream",
     "text": [
      "epoch 0 loss: 0.3333: 100%|██████████| 232/232 [05:23<00:00,  1.40s/it]\n",
      "epoch 0 loss: 0.6568: 100%|██████████| 78/78 [00:42<00:00,  1.84it/s]\n"
     ]
    },
    {
     "name": "stdout",
     "output_type": "stream",
     "text": [
      "validation rmse = 19.700866\n",
      "Best model will be saved to output path after completing this fold\n"
     ]
    },
    {
     "name": "stderr",
     "output_type": "stream",
     "text": [
      "epoch 1 loss: 0.3267: 100%|██████████| 232/232 [05:23<00:00,  1.40s/it]\n",
      "epoch 1 loss: 0.6478: 100%|██████████| 78/78 [00:42<00:00,  1.85it/s]\n"
     ]
    },
    {
     "name": "stdout",
     "output_type": "stream",
     "text": [
      "validation rmse = 18.572963\n",
      "Best model will be saved to output path after completing this fold\n"
     ]
    },
    {
     "name": "stderr",
     "output_type": "stream",
     "text": [
      "epoch 2 loss: 0.3221: 100%|██████████| 232/232 [05:23<00:00,  1.39s/it]\n",
      "epoch 2 loss: 0.6430: 100%|██████████| 78/78 [00:45<00:00,  1.70it/s]\n"
     ]
    },
    {
     "name": "stdout",
     "output_type": "stream",
     "text": [
      "validation rmse = 17.963982\n",
      "Best model will be saved to output path after completing this fold\n"
     ]
    },
    {
     "name": "stderr",
     "output_type": "stream",
     "text": [
      "epoch 3 loss: 0.3186: 100%|██████████| 232/232 [05:23<00:00,  1.39s/it]\n",
      "epoch 3 loss: 0.6429: 100%|██████████| 78/78 [00:42<00:00,  1.86it/s]"
     ]
    },
    {
     "name": "stdout",
     "output_type": "stream",
     "text": [
      "validation rmse = 17.968340\n"
     ]
    },
    {
     "name": "stderr",
     "output_type": "stream",
     "text": [
      "\n",
      "epoch 4 loss: 0.3146: 100%|██████████| 232/232 [05:23<00:00,  1.40s/it]\n",
      "epoch 4 loss: 0.6433: 100%|██████████| 78/78 [00:41<00:00,  1.86it/s]"
     ]
    },
    {
     "name": "stdout",
     "output_type": "stream",
     "text": [
      "validation rmse = 17.973149\n"
     ]
    },
    {
     "name": "stderr",
     "output_type": "stream",
     "text": [
      "\n",
      "epoch 5 loss: 0.3126: 100%|██████████| 232/232 [05:23<00:00,  1.40s/it]\n",
      "epoch 5 loss: 0.6460: 100%|██████████| 78/78 [00:45<00:00,  1.70it/s]"
     ]
    },
    {
     "name": "stdout",
     "output_type": "stream",
     "text": [
      "validation rmse = 18.275578\n"
     ]
    },
    {
     "name": "stderr",
     "output_type": "stream",
     "text": [
      "\n",
      "epoch 6 loss: 0.3090: 100%|██████████| 232/232 [05:23<00:00,  1.39s/it]\n",
      "epoch 6 loss: 0.6442: 100%|██████████| 78/78 [00:42<00:00,  1.82it/s]"
     ]
    },
    {
     "name": "stdout",
     "output_type": "stream",
     "text": [
      "validation rmse = 18.078228\n"
     ]
    },
    {
     "name": "stderr",
     "output_type": "stream",
     "text": [
      "\n",
      "epoch 7 loss: 0.3082: 100%|██████████| 232/232 [05:24<00:00,  1.40s/it]\n",
      "epoch 7 loss: 0.6468: 100%|██████████| 78/78 [00:41<00:00,  1.87it/s]\n"
     ]
    },
    {
     "name": "stdout",
     "output_type": "stream",
     "text": [
      "validation rmse = 18.378244\n"
     ]
    },
    {
     "name": "stderr",
     "output_type": "stream",
     "text": [
      "epoch 8 loss: 0.2991: 100%|██████████| 232/232 [05:23<00:00,  1.40s/it]\n",
      "epoch 8 loss: 0.6502: 100%|██████████| 78/78 [00:43<00:00,  1.78it/s]"
     ]
    },
    {
     "name": "stdout",
     "output_type": "stream",
     "text": [
      "validation rmse = 18.679381\n"
     ]
    },
    {
     "name": "stderr",
     "output_type": "stream",
     "text": [
      "\n",
      "epoch 9 loss: 0.2983: 100%|██████████| 232/232 [05:23<00:00,  1.39s/it]\n",
      "epoch 9 loss: 0.6557: 100%|██████████| 78/78 [00:42<00:00,  1.82it/s]\n"
     ]
    },
    {
     "name": "stdout",
     "output_type": "stream",
     "text": [
      "validation rmse = 19.299981\n"
     ]
    }
   ],
   "source": [
    "folds = StratifiedKFold(\n",
    "    n_splits=CFG['fold'],\n",
    "    shuffle=True,\n",
    "    random_state=CFG['seed']\n",
    ").split(np.arange(df_train.shape[0]), df_train.Pawpularity.values)\n",
    "    \n",
    "all_histories = {}\n",
    "for fold, (trn_idx, val_idx) in enumerate(folds):\n",
    "    print('Training with fold {} started'.format(fold))\n",
    "    print(len(trn_idx), len(val_idx))\n",
    "    \n",
    "    train      = df_train.iloc[trn_idx].reset_index(drop=True)\n",
    "    valid      = df_train.iloc[val_idx].reset_index(drop=True)\n",
    "    train_meta = df_meta.iloc[trn_idx].reset_index(drop=True)\n",
    "    valid_meta = df_meta.iloc[val_idx].reset_index(drop=True)\n",
    "    train_loader, val_loader = prepare_dataloader(train, train_meta, valid, valid_meta)\n",
    "\n",
    "    not_improved_cnt = 0\n",
    "    best_rmse  = 999\n",
    "    best_epoch = 0\n",
    "    histories  = {}\n",
    "    device     = torch.device(CFG['device'])\n",
    "    \n",
    "    if -1 < CFG[\"model\"].find(\"swin\"):\n",
    "        model = SwinModelwithMetadata(CFG[\"model\"], size=CFG['size'], pretrained=True)\n",
    "    else:\n",
    "        model = ModelwithMetadata(CFG[\"model\"], size=CFG['size'], pretrained=True)\n",
    "    if CFG['pretrain'] is not None:\n",
    "        model.load_state_dict(torch.load(\"../input/petfinder-cnn-models/\" + CFG['pretrain'] % fold))\n",
    "    model.to(device)\n",
    "    scaler    = GradScaler()\n",
    "    #optimizer = sgd_optimizer(model, CFG['lr'], CFG['momentum'], CFG['weight_decay'])\n",
    "    #scheduler = CosineAnnealingLR(optimizer=optimizer, T_max=CFG['T_0'])\n",
    "    optimizer = RAdam(model.parameters(), lr=CFG['lr'], weight_decay=CFG['weight_decay'])\n",
    "    scheduler = None\n",
    "    if CFG[\"loss\"] == \"binary\":\n",
    "        loss  = nn.BCEWithLogitsLoss().to(device)\n",
    "    else:\n",
    "        loss  = RMSELoss().to(device)\n",
    "\n",
    "    for epoch in range(CFG['epochs']):\n",
    "        train_loss = train_one_epoch(epoch, model, loss, optimizer, train_loader, device, scheduler=scheduler, schd_batch_update=False)\n",
    "\n",
    "        with torch.no_grad():\n",
    "            rmse, valid_loss, hist = valid_one_epoch(epoch, model, loss, val_loader, device, scheduler=None, schd_loss_update=False)\n",
    "        histories[epoch] = [train_loss, valid_loss, rmse, hist]\n",
    "\n",
    "        if rmse < best_rmse:\n",
    "            print('Best model will be saved to output path after completing this fold')\n",
    "            best_model = copy.deepcopy(model)\n",
    "            best_rmse  = rmse\n",
    "            best_epoch = epoch\n",
    "            not_improved_cnt = 0\n",
    "        elif CFG['early_stopping'] == not_improved_cnt:\n",
    "            print(\"Met early stopping.\")\n",
    "            break\n",
    "        else:\n",
    "            not_improved_cnt += 1\n",
    "\n",
    "    torch.save(best_model.state_dict(), f\"{CFG['output_path']}{CFG['save_name']}_{fold}.pt\")\n",
    "    all_histories[fold] = [best_epoch, histories]\n",
    "    \n",
    "    del model, optimizer, train_loader, val_loader, scaler\n",
    "    torch.cuda.empty_cache()\n",
    "    \n",
    "    if CFG[\"break_fold\"] == fold+1:\n",
    "        break"
   ]
  },
  {
   "cell_type": "code",
   "execution_count": 27,
   "id": "3ee6911f",
   "metadata": {
    "execution": {
     "iopub.execute_input": "2021-12-19T20:03:03.877098Z",
     "iopub.status.busy": "2021-12-19T20:03:03.867700Z",
     "iopub.status.idle": "2021-12-19T20:03:04.487854Z",
     "shell.execute_reply": "2021-12-19T20:03:04.487295Z",
     "shell.execute_reply.started": "2021-12-19T15:47:06.011426Z"
    },
    "papermill": {
     "duration": 7.245718,
     "end_time": "2021-12-19T20:03:04.487980",
     "exception": false,
     "start_time": "2021-12-19T20:02:57.242262",
     "status": "completed"
    },
    "tags": []
   },
   "outputs": [
    {
     "data": {
      "image/png": "[encoded data removed]",
      "text/plain": [
       "<Figure size 1008x720 with 4 Axes>"
      ]
     },
     "metadata": {
      "needs_background": "light"
     },
     "output_type": "display_data"
    }
   ],
   "source": [
    "c, r, cnt = 2, 2, 0\n",
    "fig, axes = plt.subplots(nrows=r, ncols=c, figsize=(14, 10))\n",
    "for i in range(r):\n",
    "    for j in range(c):\n",
    "        if cnt not in all_histories.keys():\n",
    "            continue\n",
    "        best_epoch, histories = all_histories[cnt]\n",
    "        rmse, (pred, gt) = histories[best_epoch][2:]\n",
    "        axes[i, j].scatter(x=pred, y=gt)\n",
    "        axes[i, j].set_xticks(np.arange(0,101,10))\n",
    "        axes[i, j].set_yticks(np.arange(0,101,10))\n",
    "        axes[i, j].set_title(f\"fold {cnt}: rmse {round(rmse,5)}\")\n",
    "        cnt += 1\n",
    "fig.show()"
   ]
  }
 ],
 "metadata": {
  "kernelspec": {
   "display_name": "Python 3",
   "language": "python",
   "name": "python3"
  },
  "language_info": {
   "codemirror_mode": {
    "name": "ipython",
    "version": 3
   },
   "file_extension": ".py",
   "mimetype": "text/x-python",
   "name": "python",
   "nbconvert_exporter": "python",
   "pygments_lexer": "ipython3",
   "version": "3.7.10"
  },
  "papermill": {
   "default_parameters": {},
   "duration": 15341.707902,
   "end_time": "2021-12-19T20:03:14.887534",
   "environment_variables": {},
   "exception": null,
   "input_path": "__notebook__.ipynb",
   "output_path": "__notebook__.ipynb",
   "parameters": {},
   "start_time": "2021-12-19T15:47:33.179632",
   "version": "2.3.3"
  }
 },
 "nbformat": 4,
 "nbformat_minor": 5
}
