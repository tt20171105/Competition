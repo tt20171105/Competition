{
 "cells": [
  {
   "cell_type": "code",
   "execution_count": 1,
   "id": "d82d81fa",
   "metadata": {
    "_cell_guid": "b1076dfc-b9ad-4769-8c92-a6c4dae69d19",
    "_uuid": "8f2839f25d086af736a60e9eeb907d3b93b6e0e5",
    "execution": {
     "iopub.execute_input": "2022-01-04T03:53:42.969363Z",
     "iopub.status.busy": "2022-01-04T03:53:42.968285Z",
     "iopub.status.idle": "2022-01-04T03:53:42.976359Z",
     "shell.execute_reply": "2022-01-04T03:53:42.975707Z",
     "shell.execute_reply.started": "2022-01-04T03:38:29.957817Z"
    },
    "papermill": {
     "duration": 0.038265,
     "end_time": "2022-01-04T03:53:42.976522",
     "exception": false,
     "start_time": "2022-01-04T03:53:42.938257",
     "status": "completed"
    },
    "tags": []
   },
   "outputs": [],
   "source": [
    "import sys\n",
    "sys.path.append('../input/timm-pytorch-image-models/pytorch-image-models-master')\n",
    "sys.path.append('../input/pytorch-optimizers/')"
   ]
  },
  {
   "cell_type": "code",
   "execution_count": 2,
   "id": "ce608014",
   "metadata": {
    "execution": {
     "iopub.execute_input": "2022-01-04T03:53:43.021541Z",
     "iopub.status.busy": "2022-01-04T03:53:43.020646Z",
     "iopub.status.idle": "2022-01-04T03:53:53.243959Z",
     "shell.execute_reply": "2022-01-04T03:53:53.243408Z",
     "shell.execute_reply.started": "2022-01-04T03:38:29.986660Z"
    },
    "papermill": {
     "duration": 10.250514,
     "end_time": "2022-01-04T03:53:53.244118",
     "exception": false,
     "start_time": "2022-01-04T03:53:42.993604",
     "status": "completed"
    },
    "tags": []
   },
   "outputs": [],
   "source": [
    "import os\n",
    "import gc\n",
    "import cv2\n",
    "import copy\n",
    "import time\n",
    "import yaml\n",
    "import random\n",
    "import shutil\n",
    "import warnings\n",
    "import subprocess\n",
    "import numpy as np\n",
    "import pandas as pd\n",
    "import matplotlib.pyplot as plt\n",
    "from glob import glob\n",
    "from tqdm import tqdm\n",
    "from PIL import Image, ImageDraw\n",
    "from shutil import copyfile\n",
    "from IPython.core.display import Video, display\n",
    "from sklearn.metrics import mean_squared_error\n",
    "from sklearn.model_selection import train_test_split, KFold, GroupKFold, StratifiedKFold\n",
    "\n",
    "import timm\n",
    "import torch\n",
    "import torch.nn.functional as F\n",
    "import torchvision\n",
    "from torch import nn\n",
    "from torch.cuda.amp import autocast, GradScaler\n",
    "from torch.utils.data import Dataset,DataLoader\n",
    "from torch.utils.data.sampler import SequentialSampler, RandomSampler\n",
    "from torch.optim.lr_scheduler import CosineAnnealingLR\n",
    "from torch.nn.modules.loss import _WeightedLoss\n",
    "from torchvision import models, transforms\n",
    "from torch_optimizer.radam import RAdam\n",
    "\n",
    "from albumentations.pytorch import ToTensorV2\n",
    "from albumentations import (\n",
    "    HorizontalFlip, VerticalFlip, IAAPerspective, ShiftScaleRotate, CLAHE, RandomRotate90,\n",
    "    Transpose, ShiftScaleRotate, Blur, OpticalDistortion, GridDistortion, HueSaturationValue,\n",
    "    IAAAdditiveGaussianNoise, GaussNoise, MotionBlur, MedianBlur, IAAPiecewiseAffine, RandomResizedCrop,\n",
    "    IAASharpen, IAAEmboss, RandomBrightnessContrast, Flip, OneOf, Compose, Normalize, Cutout, CoarseDropout,\n",
    "    ShiftScaleRotate, CenterCrop, Resize, Rotate, RandomRotate90, RGBShift, ChannelShuffle)\n",
    "\n",
    "warnings.simplefilter('ignore')\n",
    "pd.set_option(\"max_columns\", 150)\n",
    "pd.set_option('display.max_rows', 150)"
   ]
  },
  {
   "cell_type": "markdown",
   "id": "cd0a01f6",
   "metadata": {
    "papermill": {
     "duration": 0.015174,
     "end_time": "2022-01-04T03:53:53.275177",
     "exception": false,
     "start_time": "2022-01-04T03:53:53.260003",
     "status": "completed"
    },
    "tags": []
   },
   "source": [
    "# Configuration"
   ]
  },
  {
   "cell_type": "code",
   "execution_count": 3,
   "id": "74e8ebb4",
   "metadata": {
    "execution": {
     "iopub.execute_input": "2022-01-04T03:53:53.362732Z",
     "iopub.status.busy": "2022-01-04T03:53:53.357210Z",
     "iopub.status.idle": "2022-01-04T03:53:53.368553Z",
     "shell.execute_reply": "2022-01-04T03:53:53.367906Z",
     "shell.execute_reply.started": "2022-01-04T03:38:38.783835Z"
    },
    "papermill": {
     "duration": 0.077788,
     "end_time": "2022-01-04T03:53:53.368696",
     "exception": false,
     "start_time": "2022-01-04T03:53:53.290908",
     "status": "completed"
    },
    "tags": []
   },
   "outputs": [
    {
     "data": {
      "text/plain": [
       "{'save_prev': True,\n",
       " 'seed': 42,\n",
       " 'device': 'cuda:0',\n",
       " 'input_img': '../input/dog-breed-identification/train/',\n",
       " 'input_path': '../input/dog-breed-identification/labels.csv',\n",
       " 'output_path': './',\n",
       " 'save_name': 'dogbreed_swin_ce2',\n",
       " 'model': 'swin_large_patch4_window7_224_in22k',\n",
       " 'size': 224,\n",
       " 'batch_size': 32,\n",
       " 'epochs': 10,\n",
       " 'T_0': 20,\n",
       " 'lr': 0.001,\n",
       " 'momentum': 0.9,\n",
       " 'weight_decay': 0.0001,\n",
       " 'accum_iter': 1,\n",
       " 'early_stopping': 3,\n",
       " 'verbose_step': 1,\n",
       " 'num_workers': 4}"
      ]
     },
     "execution_count": 3,
     "metadata": {},
     "output_type": "execute_result"
    }
   ],
   "source": [
    "CFG = {\n",
    "    \"save_prev\"     : True,\n",
    "    \"seed\"          : 42,\n",
    "    'device'        : \"cuda:0\" if torch.cuda.is_available() else \"cpu\",\n",
    "    \"input_img\"     : '../input/dog-breed-identification/train/',\n",
    "    \"input_path\"    : '../input/dog-breed-identification/labels.csv',\n",
    "    \"output_path\"   : './',\n",
    "    \"save_name\"     : \"dogbreed_swin_ce2\",\n",
    "    \"model\"         : 'swin_large_patch4_window7_224_in22k',\n",
    "    \"size\"          : 224,\n",
    "    \"batch_size\"    : 32,\n",
    "    \"epochs\"        : 10,\n",
    "    'T_0'           : 20,\n",
    "    \"lr\"            : 0.001,\n",
    "    'momentum'      : 0.9,\n",
    "    'weight_decay'  : 1e-4,\n",
    "    \"accum_iter\"    : 1,\n",
    "    'early_stopping': 3,\n",
    "    'verbose_step'  : 1,\n",
    "    \"num_workers\"   : 4\n",
    "}\n",
    "\n",
    "CFG"
   ]
  },
  {
   "cell_type": "code",
   "execution_count": 4,
   "id": "d181790e",
   "metadata": {
    "execution": {
     "iopub.execute_input": "2022-01-04T03:53:53.412757Z",
     "iopub.status.busy": "2022-01-04T03:53:53.411971Z",
     "iopub.status.idle": "2022-01-04T03:53:53.423691Z",
     "shell.execute_reply": "2022-01-04T03:53:53.423106Z",
     "shell.execute_reply.started": "2022-01-04T03:38:38.857768Z"
    },
    "papermill": {
     "duration": 0.037825,
     "end_time": "2022-01-04T03:53:53.423829",
     "exception": false,
     "start_time": "2022-01-04T03:53:53.386004",
     "status": "completed"
    },
    "tags": []
   },
   "outputs": [],
   "source": [
    "def get_img(path):\n",
    "    im_bgr = cv2.imread(path)\n",
    "    im_rgb = im_bgr[:, :, ::-1]\n",
    "    return im_rgb\n",
    "\n",
    "def sigmoid(a):\n",
    "    return 1 / (1 + np.exp(-a))\n",
    "\n",
    "def seed_everything(seed = 42):\n",
    "    '''Sets the seed of the entire notebook so results are the same every time we run.\n",
    "    This is for REPRODUCIBILITY.'''\n",
    "    np.random.seed(seed)\n",
    "    random.seed(seed)\n",
    "    torch.manual_seed(seed)\n",
    "    torch.cuda.manual_seed(seed)\n",
    "    # When running on the CuDNN backend, two further options must be set\n",
    "    torch.backends.cudnn.deterministic = True\n",
    "    torch.backends.cudnn.benchmark = False\n",
    "    # Set a fixed value for the hash seed\n",
    "    os.environ['PYTHONHASHSEED'] = str(seed)\n",
    "    \n",
    "seed_everything(CFG[\"seed\"])"
   ]
  },
  {
   "cell_type": "code",
   "execution_count": 5,
   "id": "0df687c4",
   "metadata": {
    "execution": {
     "iopub.execute_input": "2022-01-04T03:53:53.463275Z",
     "iopub.status.busy": "2022-01-04T03:53:53.462519Z",
     "iopub.status.idle": "2022-01-04T03:54:03.351464Z",
     "shell.execute_reply": "2022-01-04T03:54:03.352089Z",
     "shell.execute_reply.started": "2022-01-04T03:38:38.881090Z"
    },
    "papermill": {
     "duration": 9.911547,
     "end_time": "2022-01-04T03:54:03.352276",
     "exception": false,
     "start_time": "2022-01-04T03:53:53.440729",
     "status": "completed"
    },
    "tags": []
   },
   "outputs": [],
   "source": [
    "if CFG['save_prev']:\n",
    "    !cp ../input/petfinder-dogbreed-cnn-models/dogbreed_swin_binary.pt ./dogbreed_swin_ce.pt"
   ]
  },
  {
   "cell_type": "markdown",
   "id": "38815c3d",
   "metadata": {
    "papermill": {
     "duration": 0.186527,
     "end_time": "2022-01-04T03:54:03.555468",
     "exception": false,
     "start_time": "2022-01-04T03:54:03.368941",
     "status": "completed"
    },
    "tags": []
   },
   "source": [
    "# Load data"
   ]
  },
  {
   "cell_type": "code",
   "execution_count": 6,
   "id": "1bcd20ae",
   "metadata": {
    "execution": {
     "iopub.execute_input": "2022-01-04T03:54:03.598616Z",
     "iopub.status.busy": "2022-01-04T03:54:03.597610Z",
     "iopub.status.idle": "2022-01-04T03:54:03.658310Z",
     "shell.execute_reply": "2022-01-04T03:54:03.658912Z",
     "shell.execute_reply.started": "2022-01-04T03:38:47.466931Z"
    },
    "papermill": {
     "duration": 0.086133,
     "end_time": "2022-01-04T03:54:03.659094",
     "exception": false,
     "start_time": "2022-01-04T03:54:03.572961",
     "status": "completed"
    },
    "tags": []
   },
   "outputs": [
    {
     "name": "stdout",
     "output_type": "stream",
     "text": [
      "(10222, 4)\n"
     ]
    },
    {
     "data": {
      "text/html": [
       "<div>\n",
       "<style scoped>\n",
       "    .dataframe tbody tr th:only-of-type {\n",
       "        vertical-align: middle;\n",
       "    }\n",
       "\n",
       "    .dataframe tbody tr th {\n",
       "        vertical-align: top;\n",
       "    }\n",
       "\n",
       "    .dataframe thead th {\n",
       "        text-align: right;\n",
       "    }\n",
       "</style>\n",
       "<table border=\"1\" class=\"dataframe\">\n",
       "  <thead>\n",
       "    <tr style=\"text-align: right;\">\n",
       "      <th></th>\n",
       "      <th>id</th>\n",
       "      <th>breed</th>\n",
       "      <th>target</th>\n",
       "      <th>path</th>\n",
       "    </tr>\n",
       "  </thead>\n",
       "  <tbody>\n",
       "    <tr>\n",
       "      <th>0</th>\n",
       "      <td>000bec180eb18c7604dcecc8fe0dba07</td>\n",
       "      <td>boston_bull</td>\n",
       "      <td>19</td>\n",
       "      <td>../input/dog-breed-identification/train/000bec...</td>\n",
       "    </tr>\n",
       "    <tr>\n",
       "      <th>1</th>\n",
       "      <td>001513dfcb2ffafc82cccf4d8bbaba97</td>\n",
       "      <td>dingo</td>\n",
       "      <td>37</td>\n",
       "      <td>../input/dog-breed-identification/train/001513...</td>\n",
       "    </tr>\n",
       "  </tbody>\n",
       "</table>\n",
       "</div>"
      ],
      "text/plain": [
       "                                 id        breed  target  \\\n",
       "0  000bec180eb18c7604dcecc8fe0dba07  boston_bull      19   \n",
       "1  001513dfcb2ffafc82cccf4d8bbaba97        dingo      37   \n",
       "\n",
       "                                                path  \n",
       "0  ../input/dog-breed-identification/train/000bec...  \n",
       "1  ../input/dog-breed-identification/train/001513...  "
      ]
     },
     "execution_count": 6,
     "metadata": {},
     "output_type": "execute_result"
    }
   ],
   "source": [
    "df_train  = pd.read_csv(CFG['input_path'])\n",
    "target, _ = pd.factorize(df_train['breed'], sort=True)\n",
    "df_train['target'] = target\n",
    "df_train[\"path\"]   = [f\"{CFG['input_img']}{i}.jpg\" for i in df_train.id]\n",
    "\n",
    "print(df_train.shape)\n",
    "df_train.head(2)"
   ]
  },
  {
   "cell_type": "markdown",
   "id": "6136fa5f",
   "metadata": {
    "papermill": {
     "duration": 0.018239,
     "end_time": "2022-01-04T03:54:03.695249",
     "exception": false,
     "start_time": "2022-01-04T03:54:03.677010",
     "status": "completed"
    },
    "tags": []
   },
   "source": [
    "# Define model"
   ]
  },
  {
   "cell_type": "code",
   "execution_count": 7,
   "id": "96b602f6",
   "metadata": {
    "execution": {
     "iopub.execute_input": "2022-01-04T03:54:03.737577Z",
     "iopub.status.busy": "2022-01-04T03:54:03.736561Z",
     "iopub.status.idle": "2022-01-04T03:54:03.739998Z",
     "shell.execute_reply": "2022-01-04T03:54:03.739293Z",
     "shell.execute_reply.started": "2022-01-04T03:38:47.525251Z"
    },
    "papermill": {
     "duration": 0.027447,
     "end_time": "2022-01-04T03:54:03.740148",
     "exception": false,
     "start_time": "2022-01-04T03:54:03.712701",
     "status": "completed"
    },
    "tags": []
   },
   "outputs": [],
   "source": [
    "class SwinModel(nn.Module):\n",
    "    def __init__(self, model_name, pretrained=True):\n",
    "        super().__init__()\n",
    "        self.model   = timm.create_model(model_name, pretrained=pretrained, num_classes=0, in_chans=3)\n",
    "        num_features = self.model.num_features\n",
    "        self.linear  = nn.Linear(num_features, 120)\n",
    "\n",
    "    def forward(self, x):\n",
    "        x = self.model(x)\n",
    "        output = self.linear(x)\n",
    "        return output"
   ]
  },
  {
   "cell_type": "code",
   "execution_count": 8,
   "id": "66aaa300",
   "metadata": {
    "execution": {
     "iopub.execute_input": "2022-01-04T03:54:03.784435Z",
     "iopub.status.busy": "2022-01-04T03:54:03.783596Z",
     "iopub.status.idle": "2022-01-04T03:54:03.787209Z",
     "shell.execute_reply": "2022-01-04T03:54:03.786658Z",
     "shell.execute_reply.started": "2022-01-04T03:38:47.534085Z"
    },
    "papermill": {
     "duration": 0.029512,
     "end_time": "2022-01-04T03:54:03.787390",
     "exception": false,
     "start_time": "2022-01-04T03:54:03.757878",
     "status": "completed"
    },
    "tags": []
   },
   "outputs": [],
   "source": [
    "class PetFinderDataset(Dataset):\n",
    "    def __init__(self, df, transforms=None, output_label=True):\n",
    "        super().__init__()\n",
    "        self.df = df.reset_index(drop=True).copy()\n",
    "        self.transforms   = transforms\n",
    "        self.train        = train\n",
    "        self.output_label = output_label\n",
    "        \n",
    "    def __len__(self):\n",
    "        return self.df.shape[0]\n",
    "    \n",
    "    def __getitem__(self, index: int):\n",
    "        img  = get_img(self.df.loc[index].path)\n",
    "        y    = torch.from_numpy(np.array(self.df.loc[index].target))\n",
    "        if self.transforms:\n",
    "            img = self.transforms(image=img)['image']\n",
    "        if self.output_label:\n",
    "            return img, y\n",
    "        return img"
   ]
  },
  {
   "cell_type": "code",
   "execution_count": 9,
   "id": "252ed7a4",
   "metadata": {
    "execution": {
     "iopub.execute_input": "2022-01-04T03:54:03.832697Z",
     "iopub.status.busy": "2022-01-04T03:54:03.831614Z",
     "iopub.status.idle": "2022-01-04T03:54:03.838307Z",
     "shell.execute_reply": "2022-01-04T03:54:03.839511Z",
     "shell.execute_reply.started": "2022-01-04T03:38:47.546342Z"
    },
    "papermill": {
     "duration": 0.035224,
     "end_time": "2022-01-04T03:54:03.839678",
     "exception": false,
     "start_time": "2022-01-04T03:54:03.804454",
     "status": "completed"
    },
    "tags": []
   },
   "outputs": [],
   "source": [
    "def get_train_transforms():\n",
    "    return Compose([\n",
    "        Resize(CFG['size'], CFG['size'], p=1.0),\n",
    "        HorizontalFlip(p=0.5),\n",
    "        HueSaturationValue(hue_shift_limit=0.2, sat_shift_limit=0.2, val_shift_limit=0.2, p=0.5),\n",
    "        RandomBrightnessContrast(brightness_limit=(-0.1,0.1), contrast_limit=(-0.1, 0.1), p=0.5),\n",
    "        Normalize(mean=[0.485, 0.456, 0.406], std=[0.229, 0.224, 0.225], max_pixel_value=255.0, p=1.0),\n",
    "        ToTensorV2(p=1.0)], p=1.0)\n",
    "  \n",
    "def get_valid_transforms():\n",
    "    return Compose([\n",
    "        Resize(CFG['size'], CFG['size'], p=1.0),\n",
    "        Normalize(mean=[0.485, 0.456, 0.406], std=[0.229, 0.224, 0.225], max_pixel_value=255.0, p=1.0),\n",
    "        ToTensorV2(p=1.0)], p=1.0)"
   ]
  },
  {
   "cell_type": "code",
   "execution_count": 10,
   "id": "2b8ac640",
   "metadata": {
    "execution": {
     "iopub.execute_input": "2022-01-04T03:54:03.883279Z",
     "iopub.status.busy": "2022-01-04T03:54:03.882181Z",
     "iopub.status.idle": "2022-01-04T03:54:03.885395Z",
     "shell.execute_reply": "2022-01-04T03:54:03.884831Z",
     "shell.execute_reply.started": "2022-01-04T03:38:47.557007Z"
    },
    "papermill": {
     "duration": 0.028019,
     "end_time": "2022-01-04T03:54:03.885539",
     "exception": false,
     "start_time": "2022-01-04T03:54:03.857520",
     "status": "completed"
    },
    "tags": []
   },
   "outputs": [],
   "source": [
    "def prepare_dataloader(train, valid):\n",
    "    train_ds = PetFinderDataset(train, transforms=get_train_transforms())\n",
    "    valid_ds = PetFinderDataset(valid, transforms=get_valid_transforms())\n",
    "    train_loader = torch.utils.data.DataLoader(train_ds,\n",
    "                                               batch_size=CFG['batch_size'],\n",
    "                                               drop_last=False,\n",
    "                                               pin_memory=False,\n",
    "                                               shuffle=True,\n",
    "                                               num_workers=CFG['num_workers'])\n",
    "    val_loader = torch.utils.data.DataLoader(valid_ds,\n",
    "                                             batch_size=CFG['batch_size'],\n",
    "                                             pin_memory=False,\n",
    "                                             shuffle=False,\n",
    "                                             num_workers=CFG['num_workers'])\n",
    "    return train_loader, val_loader"
   ]
  },
  {
   "cell_type": "code",
   "execution_count": 11,
   "id": "6c41b002",
   "metadata": {
    "execution": {
     "iopub.execute_input": "2022-01-04T03:54:03.942039Z",
     "iopub.status.busy": "2022-01-04T03:54:03.934224Z",
     "iopub.status.idle": "2022-01-04T03:54:03.944767Z",
     "shell.execute_reply": "2022-01-04T03:54:03.945338Z",
     "shell.execute_reply.started": "2022-01-04T03:38:47.568407Z"
    },
    "papermill": {
     "duration": 0.042492,
     "end_time": "2022-01-04T03:54:03.945495",
     "exception": false,
     "start_time": "2022-01-04T03:54:03.903003",
     "status": "completed"
    },
    "tags": []
   },
   "outputs": [],
   "source": [
    "def train_one_epoch(epoch, model, loss_fn, optimizer, train_loader, device, scheduler=None, schd_batch_update=False):\n",
    "    model.train()\n",
    "\n",
    "    t = time.time()\n",
    "    running_loss = None\n",
    "    mean_loss    = 0\n",
    "\n",
    "    pbar = tqdm(enumerate(train_loader), total=len(train_loader))\n",
    "    for step, (imgs, scores) in pbar:\n",
    "        imgs   = imgs.to(device).float()\n",
    "        scores = scores.to(device).long()\n",
    "\n",
    "        with autocast():\n",
    "            img_preds = model(imgs)\n",
    "            loss = loss_fn(img_preds, scores) / CFG['accum_iter']\n",
    "        scaler.scale(loss).backward()\n",
    "\n",
    "        if running_loss is None:\n",
    "            running_loss = loss.item()\n",
    "        else:\n",
    "            running_loss = running_loss * .99 + loss.item() * .01\n",
    "        mean_loss += loss.item()\n",
    "\n",
    "        if ((step + 1) %  CFG['accum_iter'] == 0) or ((step + 1) == len(train_loader)):\n",
    "            scaler.step(optimizer)\n",
    "            scaler.update()\n",
    "            optimizer.zero_grad() \n",
    "            if scheduler is not None and schd_batch_update:\n",
    "                scheduler.step()\n",
    "\n",
    "        if ((step + 1) % CFG['verbose_step'] == 0) or ((step + 1) == len(train_loader)):\n",
    "            description = f'epoch {epoch} loss: {running_loss:.4f}'\n",
    "            pbar.set_description(description)\n",
    "                \n",
    "    if scheduler is not None and not schd_batch_update:\n",
    "        scheduler.step()\n",
    "    return mean_loss/len(train_loader)\n",
    "        \n",
    "def valid_one_epoch(epoch, model, loss_fn, val_loader, device, scheduler=None, schd_loss_update=False):\n",
    "    model.eval()\n",
    "\n",
    "    t = time.time()\n",
    "    loss_sum   = 0\n",
    "    sample_num = 0\n",
    "    img_preds_all = []\n",
    "    img_truth_all = []\n",
    "    \n",
    "    pbar = tqdm(enumerate(val_loader), total=len(val_loader))\n",
    "    for step, (imgs, scores) in pbar:\n",
    "        imgs   = imgs.to(device)\n",
    "        scores = scores.to(device).long()\n",
    "        \n",
    "        img_preds = model(imgs)\n",
    "        img_preds_all += [np.argmax(img_preds.detach().cpu().numpy(), 1)]\n",
    "        img_truth_all += [scores.detach().cpu().numpy()]\n",
    "        \n",
    "        loss = loss_fn(img_preds, scores)\n",
    "        loss_sum   += loss.item()*scores.shape[0]\n",
    "        sample_num += scores.shape[0]  \n",
    "\n",
    "        if ((step + 1) % CFG['verbose_step'] == 0) or ((step + 1) == len(val_loader)):\n",
    "            description = f'epoch {epoch} loss: {loss_sum/sample_num:.4f}'\n",
    "            pbar.set_description(description)\n",
    "            \n",
    "    img_preds_all = np.concatenate(img_preds_all)\n",
    "    img_truth_all = np.concatenate(img_truth_all)\n",
    "    acc = np.mean(img_preds_all==img_truth_all)\n",
    "    print('validation acc = {:.6f}'.format(acc))    \n",
    "    if scheduler is not None:\n",
    "        if schd_loss_update:\n",
    "            scheduler.step(loss_sum/sample_num)\n",
    "        else:\n",
    "            scheduler.step()\n",
    "    return acc, loss_sum/sample_num,  [img_preds_all, img_truth_all]"
   ]
  },
  {
   "cell_type": "code",
   "execution_count": 12,
   "id": "9f0af4e0",
   "metadata": {
    "execution": {
     "iopub.execute_input": "2022-01-04T03:54:03.983707Z",
     "iopub.status.busy": "2022-01-04T03:54:03.982615Z",
     "iopub.status.idle": "2022-01-04T03:54:03.990035Z",
     "shell.execute_reply": "2022-01-04T03:54:03.990588Z",
     "shell.execute_reply.started": "2022-01-04T03:38:47.589479Z"
    },
    "papermill": {
     "duration": 0.027967,
     "end_time": "2022-01-04T03:54:03.990739",
     "exception": false,
     "start_time": "2022-01-04T03:54:03.962772",
     "status": "completed"
    },
    "tags": []
   },
   "outputs": [],
   "source": [
    "def sgd_optimizer(model, lr, momentum, weight_decay):\n",
    "    params = []\n",
    "    for key, value in model.named_parameters():\n",
    "        if not value.requires_grad:\n",
    "            continue\n",
    "        apply_weight_decay = weight_decay\n",
    "        apply_lr = lr\n",
    "        if 'bias' in key or 'bn' in key:\n",
    "            apply_weight_decay = 0\n",
    "        if 'bias' in key:\n",
    "            apply_lr = 2 * lr       # Just a Caffe-style common practice. Made no difference.\n",
    "        params += [{'params': [value], 'lr': apply_lr, 'weight_decay': apply_weight_decay}]\n",
    "    optimizer = torch.optim.SGD(params, lr, momentum=momentum)\n",
    "    return optimizer"
   ]
  },
  {
   "cell_type": "markdown",
   "id": "80fd38cf",
   "metadata": {
    "papermill": {
     "duration": 0.016946,
     "end_time": "2022-01-04T03:54:04.024533",
     "exception": false,
     "start_time": "2022-01-04T03:54:04.007587",
     "status": "completed"
    },
    "tags": []
   },
   "source": [
    "# Run training"
   ]
  },
  {
   "cell_type": "code",
   "execution_count": 13,
   "id": "ebdffe4f",
   "metadata": {
    "execution": {
     "iopub.execute_input": "2022-01-04T03:54:04.065641Z",
     "iopub.status.busy": "2022-01-04T03:54:04.064938Z",
     "iopub.status.idle": "2022-01-04T03:54:04.073463Z",
     "shell.execute_reply": "2022-01-04T03:54:04.074020Z",
     "shell.execute_reply.started": "2022-01-04T03:38:47.603429Z"
    },
    "papermill": {
     "duration": 0.033021,
     "end_time": "2022-01-04T03:54:04.074172",
     "exception": false,
     "start_time": "2022-01-04T03:54:04.041151",
     "status": "completed"
    },
    "tags": []
   },
   "outputs": [
    {
     "name": "stdout",
     "output_type": "stream",
     "text": [
      "(7155, 4) (3067, 4)\n"
     ]
    }
   ],
   "source": [
    "train, valid = train_test_split(df_train, test_size=0.3, random_state=CFG[\"seed\"])\n",
    "train = train.reset_index(drop=True)\n",
    "valid = valid.reset_index(drop=True)\n",
    "\n",
    "print(train.shape, valid.shape)"
   ]
  },
  {
   "cell_type": "code",
   "execution_count": 14,
   "id": "0fa4df81",
   "metadata": {
    "execution": {
     "iopub.execute_input": "2022-01-04T03:54:04.119317Z",
     "iopub.status.busy": "2022-01-04T03:54:04.116069Z",
     "iopub.status.idle": "2022-01-04T04:54:32.938997Z",
     "shell.execute_reply": "2022-01-04T04:54:32.937965Z",
     "shell.execute_reply.started": "2022-01-04T03:38:47.620900Z"
    },
    "papermill": {
     "duration": 3628.847925,
     "end_time": "2022-01-04T04:54:32.939169",
     "exception": false,
     "start_time": "2022-01-04T03:54:04.091244",
     "status": "completed"
    },
    "tags": []
   },
   "outputs": [
    {
     "name": "stderr",
     "output_type": "stream",
     "text": [
      "Downloading: \"https://github.com/SwinTransformer/storage/releases/download/v1.0.0/swin_large_patch4_window7_224_22k.pth\" to /root/.cache/torch/hub/checkpoints/swin_large_patch4_window7_224_22k.pth\n",
      "epoch 0 loss: 2.8556: 100%|██████████| 224/224 [05:18<00:00,  1.42s/it]\n",
      "epoch 0 loss: 0.9272: 100%|██████████| 96/96 [00:44<00:00,  2.14it/s]"
     ]
    },
    {
     "name": "stdout",
     "output_type": "stream",
     "text": [
      "validation acc = 0.783828\n",
      "Best model will be saved to output path after completing this fold\n"
     ]
    },
    {
     "name": "stderr",
     "output_type": "stream",
     "text": [
      "\n",
      "epoch 1 loss: 0.6702: 100%|██████████| 224/224 [05:12<00:00,  1.40s/it]\n",
      "epoch 1 loss: 0.4915: 100%|██████████| 96/96 [00:44<00:00,  2.16it/s]"
     ]
    },
    {
     "name": "stdout",
     "output_type": "stream",
     "text": [
      "validation acc = 0.845452\n",
      "Best model will be saved to output path after completing this fold\n"
     ]
    },
    {
     "name": "stderr",
     "output_type": "stream",
     "text": [
      "\n",
      "epoch 2 loss: 0.4622: 100%|██████████| 224/224 [05:13<00:00,  1.40s/it]\n",
      "epoch 2 loss: 0.4631: 100%|██████████| 96/96 [00:44<00:00,  2.15it/s]\n"
     ]
    },
    {
     "name": "stdout",
     "output_type": "stream",
     "text": [
      "validation acc = 0.850994\n",
      "Best model will be saved to output path after completing this fold\n"
     ]
    },
    {
     "name": "stderr",
     "output_type": "stream",
     "text": [
      "epoch 3 loss: 0.3838: 100%|██████████| 224/224 [05:13<00:00,  1.40s/it]\n",
      "epoch 3 loss: 0.4256: 100%|██████████| 96/96 [00:44<00:00,  2.15it/s]"
     ]
    },
    {
     "name": "stdout",
     "output_type": "stream",
     "text": [
      "validation acc = 0.865993\n",
      "Best model will be saved to output path after completing this fold\n"
     ]
    },
    {
     "name": "stderr",
     "output_type": "stream",
     "text": [
      "\n",
      "epoch 4 loss: 0.3569: 100%|██████████| 224/224 [05:12<00:00,  1.40s/it]\n",
      "epoch 4 loss: 0.4550: 100%|██████████| 96/96 [00:44<00:00,  2.15it/s]"
     ]
    },
    {
     "name": "stdout",
     "output_type": "stream",
     "text": [
      "validation acc = 0.852625\n"
     ]
    },
    {
     "name": "stderr",
     "output_type": "stream",
     "text": [
      "\n",
      "epoch 5 loss: 0.2681: 100%|██████████| 224/224 [05:12<00:00,  1.40s/it]\n",
      "epoch 5 loss: 0.4172: 100%|██████████| 96/96 [00:44<00:00,  2.17it/s]"
     ]
    },
    {
     "name": "stdout",
     "output_type": "stream",
     "text": [
      "validation acc = 0.868601\n",
      "Best model will be saved to output path after completing this fold\n"
     ]
    },
    {
     "name": "stderr",
     "output_type": "stream",
     "text": [
      "\n",
      "epoch 6 loss: 0.2291: 100%|██████████| 224/224 [05:12<00:00,  1.39s/it]\n",
      "epoch 6 loss: 0.4246: 100%|██████████| 96/96 [00:44<00:00,  2.14it/s]"
     ]
    },
    {
     "name": "stdout",
     "output_type": "stream",
     "text": [
      "validation acc = 0.864689\n"
     ]
    },
    {
     "name": "stderr",
     "output_type": "stream",
     "text": [
      "\n",
      "epoch 7 loss: 0.2030: 100%|██████████| 224/224 [05:12<00:00,  1.40s/it]\n",
      "epoch 7 loss: 0.4046: 100%|██████████| 96/96 [00:44<00:00,  2.16it/s]"
     ]
    },
    {
     "name": "stdout",
     "output_type": "stream",
     "text": [
      "validation acc = 0.868275\n"
     ]
    },
    {
     "name": "stderr",
     "output_type": "stream",
     "text": [
      "\n",
      "epoch 8 loss: 0.1931: 100%|██████████| 224/224 [05:13<00:00,  1.40s/it]\n",
      "epoch 8 loss: 0.4050: 100%|██████████| 96/96 [00:44<00:00,  2.16it/s]"
     ]
    },
    {
     "name": "stdout",
     "output_type": "stream",
     "text": [
      "validation acc = 0.872840\n",
      "Best model will be saved to output path after completing this fold\n"
     ]
    },
    {
     "name": "stderr",
     "output_type": "stream",
     "text": [
      "\n",
      "epoch 9 loss: 0.1525: 100%|██████████| 224/224 [05:13<00:00,  1.40s/it]\n",
      "epoch 9 loss: 0.4046: 100%|██████████| 96/96 [00:44<00:00,  2.15it/s]\n"
     ]
    },
    {
     "name": "stdout",
     "output_type": "stream",
     "text": [
      "validation acc = 0.872188\n"
     ]
    }
   ],
   "source": [
    "train_loader, val_loader = prepare_dataloader(train, valid)\n",
    "\n",
    "not_improved_cnt = 0\n",
    "best_acc   = 0\n",
    "best_epoch = 0\n",
    "histories  = {}\n",
    "\n",
    "device    = torch.device(CFG['device'])\n",
    "model     = SwinModel(CFG[\"model\"])\n",
    "model.to(device)\n",
    "scaler    = GradScaler()\n",
    "optimizer = sgd_optimizer(model, CFG['lr'], CFG['momentum'], CFG['weight_decay'])\n",
    "scheduler = CosineAnnealingLR(optimizer=optimizer, T_max=CFG['T_0'])\n",
    "#optimizer = RAdam(model.parameters(), lr=CFG['lr'], weight_decay=CFG['weight_decay'])\n",
    "#scheduler = None\n",
    "loss      = nn.CrossEntropyLoss().to(device)\n",
    "\n",
    "for epoch in range(CFG['epochs']):\n",
    "    train_loss = train_one_epoch(epoch, model, loss, optimizer, train_loader, device, scheduler=scheduler, schd_batch_update=False)\n",
    "\n",
    "    with torch.no_grad():\n",
    "        acc, valid_loss, hist = valid_one_epoch(epoch, model, loss, val_loader, device, scheduler=None, schd_loss_update=False)\n",
    "    histories[epoch] = [train_loss, valid_loss, acc, hist]\n",
    "        \n",
    "    if best_acc < acc:\n",
    "        print('Best model will be saved to output path after completing this fold')\n",
    "        best_model = copy.deepcopy(model)\n",
    "        best_acc   = acc\n",
    "        best_epoch = epoch\n",
    "        not_improved_cnt = 0\n",
    "    elif CFG['early_stopping'] == not_improved_cnt:\n",
    "        print(\"Met early stopping.\")\n",
    "        break\n",
    "    else:\n",
    "        not_improved_cnt += 1\n",
    "\n",
    "torch.save(best_model.state_dict(), f\"{CFG['output_path']}{CFG['save_name']}.pt\")\n",
    "\n",
    "del model, optimizer, train_loader, val_loader, scaler\n",
    "torch.cuda.empty_cache()"
   ]
  },
  {
   "cell_type": "code",
   "execution_count": 15,
   "id": "f488f731",
   "metadata": {
    "execution": {
     "iopub.execute_input": "2022-01-04T04:54:38.031372Z",
     "iopub.status.busy": "2022-01-04T04:54:38.030658Z",
     "iopub.status.idle": "2022-01-04T04:54:38.303515Z",
     "shell.execute_reply": "2022-01-04T04:54:38.302891Z",
     "shell.execute_reply.started": "2022-01-04T03:52:27.769960Z"
    },
    "papermill": {
     "duration": 3.228537,
     "end_time": "2022-01-04T04:54:38.303653",
     "exception": false,
     "start_time": "2022-01-04T04:54:35.075116",
     "status": "completed"
    },
    "tags": []
   },
   "outputs": [
    {
     "name": "stdout",
     "output_type": "stream",
     "text": [
      "Best accuracy was 0.8728399087055755\n"
     ]
    },
    {
     "data": {
      "text/plain": [
       "<matplotlib.collections.PathCollection at 0x7f7ca1fce950>"
      ]
     },
     "execution_count": 15,
     "metadata": {},
     "output_type": "execute_result"
    },
    {
     "data": {
      "image/png": "[encoded data removed]",
      "text/plain": [
       "<Figure size 432x288 with 1 Axes>"
      ]
     },
     "metadata": {
      "needs_background": "light"
     },
     "output_type": "display_data"
    }
   ],
   "source": [
    "print(f\"Best accuracy was {histories[best_epoch][2]}\")\n",
    "\n",
    "# Plot last epoch result\n",
    "plt.scatter(x=hist[0], y=hist[1])"
   ]
  }
 ],
 "metadata": {
  "kernelspec": {
   "display_name": "Python 3",
   "language": "python",
   "name": "python3"
  },
  "language_info": {
   "codemirror_mode": {
    "name": "ipython",
    "version": 3
   },
   "file_extension": ".py",
   "mimetype": "text/x-python",
   "name": "python",
   "nbconvert_exporter": "python",
   "pygments_lexer": "ipython3",
   "version": "3.7.10"
  },
  "papermill": {
   "default_parameters": {},
   "duration": 3670.179878,
   "end_time": "2022-01-04T04:54:44.183653",
   "environment_variables": {},
   "exception": null,
   "input_path": "__notebook__.ipynb",
   "output_path": "__notebook__.ipynb",
   "parameters": {},
   "start_time": "2022-01-04T03:53:34.003775",
   "version": "2.3.3"
  }
 },
 "nbformat": 4,
 "nbformat_minor": 5
}
