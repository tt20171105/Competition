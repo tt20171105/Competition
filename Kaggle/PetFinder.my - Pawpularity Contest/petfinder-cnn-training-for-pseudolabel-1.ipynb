{
 "cells": [
  {
   "cell_type": "code",
   "execution_count": 1,
   "id": "3677f925",
   "metadata": {
    "_cell_guid": "b1076dfc-b9ad-4769-8c92-a6c4dae69d19",
    "_uuid": "8f2839f25d086af736a60e9eeb907d3b93b6e0e5",
    "execution": {
     "iopub.execute_input": "2021-12-24T14:46:50.072526Z",
     "iopub.status.busy": "2021-12-24T14:46:50.071374Z",
     "iopub.status.idle": "2021-12-24T14:46:50.075188Z",
     "shell.execute_reply": "2021-12-24T14:46:50.074678Z",
     "shell.execute_reply.started": "2021-12-24T14:43:01.064951Z"
    },
    "papermill": {
     "duration": 0.030739,
     "end_time": "2021-12-24T14:46:50.075318",
     "exception": false,
     "start_time": "2021-12-24T14:46:50.044579",
     "status": "completed"
    },
    "tags": []
   },
   "outputs": [],
   "source": [
    "import sys\n",
    "sys.path.append('../input/timm-pytorch-image-models/pytorch-image-models-master')\n",
    "sys.path.append('../input/pytorch-optimizers/')"
   ]
  },
  {
   "cell_type": "code",
   "execution_count": 2,
   "id": "2d49f7d6",
   "metadata": {
    "execution": {
     "iopub.execute_input": "2021-12-24T14:46:50.113851Z",
     "iopub.status.busy": "2021-12-24T14:46:50.113261Z",
     "iopub.status.idle": "2021-12-24T14:47:00.266590Z",
     "shell.execute_reply": "2021-12-24T14:47:00.266106Z",
     "shell.execute_reply.started": "2021-12-24T14:43:01.093381Z"
    },
    "papermill": {
     "duration": 10.176278,
     "end_time": "2021-12-24T14:47:00.266783",
     "exception": false,
     "start_time": "2021-12-24T14:46:50.090505",
     "status": "completed"
    },
    "tags": []
   },
   "outputs": [],
   "source": [
    "import os\n",
    "import gc\n",
    "import cv2\n",
    "import copy\n",
    "import time\n",
    "import yaml\n",
    "import random\n",
    "import shutil\n",
    "import warnings\n",
    "import subprocess\n",
    "import numpy as np\n",
    "import pandas as pd\n",
    "import matplotlib.pyplot as plt\n",
    "from glob import glob\n",
    "from tqdm import tqdm\n",
    "from PIL import Image, ImageDraw\n",
    "from shutil import copyfile\n",
    "from IPython.core.display import Video, display\n",
    "from sklearn.metrics import mean_squared_error\n",
    "from sklearn.model_selection import train_test_split, KFold, GroupKFold, StratifiedKFold\n",
    "\n",
    "import timm\n",
    "import torch\n",
    "import torch.nn.functional as F\n",
    "import torchvision\n",
    "from torch import nn\n",
    "from torch.cuda.amp import autocast, GradScaler\n",
    "from torch.utils.data import Dataset,DataLoader\n",
    "from torch.utils.data.sampler import SequentialSampler, RandomSampler\n",
    "from torch.optim.lr_scheduler import CosineAnnealingLR\n",
    "from torch.nn.modules.loss import _WeightedLoss\n",
    "from torchvision import models, transforms\n",
    "from torch_optimizer.radam import RAdam\n",
    "\n",
    "from albumentations.pytorch import ToTensorV2\n",
    "from albumentations import (\n",
    "    HorizontalFlip, VerticalFlip, IAAPerspective, ShiftScaleRotate, CLAHE, RandomRotate90,\n",
    "    Transpose, ShiftScaleRotate, Blur, OpticalDistortion, GridDistortion, HueSaturationValue,\n",
    "    IAAAdditiveGaussianNoise, GaussNoise, MotionBlur, MedianBlur, IAAPiecewiseAffine, RandomResizedCrop,\n",
    "    IAASharpen, IAAEmboss, RandomBrightnessContrast, Flip, OneOf, Compose, Normalize, Cutout, CoarseDropout,\n",
    "    ShiftScaleRotate, CenterCrop, Resize, Rotate, RandomRotate90, RGBShift, ChannelShuffle)\n",
    "\n",
    "warnings.simplefilter('ignore')\n",
    "pd.set_option(\"max_columns\", 150)\n",
    "pd.set_option('display.max_rows', 150)"
   ]
  },
  {
   "cell_type": "code",
   "execution_count": 3,
   "id": "440bd694",
   "metadata": {
    "execution": {
     "iopub.execute_input": "2021-12-24T14:47:00.301221Z",
     "iopub.status.busy": "2021-12-24T14:47:00.300362Z",
     "iopub.status.idle": "2021-12-24T14:47:00.302180Z",
     "shell.execute_reply": "2021-12-24T14:47:00.302612Z",
     "shell.execute_reply.started": "2021-12-24T14:43:09.994325Z"
    },
    "papermill": {
     "duration": 0.021011,
     "end_time": "2021-12-24T14:47:00.302754",
     "exception": false,
     "start_time": "2021-12-24T14:47:00.281743",
     "status": "completed"
    },
    "tags": []
   },
   "outputs": [],
   "source": [
    "#timm.list_models(pretrained=True)"
   ]
  },
  {
   "cell_type": "markdown",
   "id": "9b7d42ec",
   "metadata": {
    "papermill": {
     "duration": 0.014308,
     "end_time": "2021-12-24T14:47:00.331319",
     "exception": false,
     "start_time": "2021-12-24T14:47:00.317011",
     "status": "completed"
    },
    "tags": []
   },
   "source": [
    "# Configuration"
   ]
  },
  {
   "cell_type": "code",
   "execution_count": 4,
   "id": "69591d0a",
   "metadata": {
    "execution": {
     "iopub.execute_input": "2021-12-24T14:47:00.419451Z",
     "iopub.status.busy": "2021-12-24T14:47:00.418652Z",
     "iopub.status.idle": "2021-12-24T14:47:00.422248Z",
     "shell.execute_reply": "2021-12-24T14:47:00.422680Z",
     "shell.execute_reply.started": "2021-12-24T14:43:58.610502Z"
    },
    "papermill": {
     "duration": 0.077569,
     "end_time": "2021-12-24T14:47:00.422865",
     "exception": false,
     "start_time": "2021-12-24T14:47:00.345296",
     "status": "completed"
    },
    "tags": []
   },
   "outputs": [
    {
     "data": {
      "text/plain": [
       "{'save_prev': [True, ['petfinder_*.pt']],\n",
       " 'seed': 42,\n",
       " 'device': 'cuda:0',\n",
       " 'input_img': '../input/petfinder-pawpularity-score/train/',\n",
       " 'input_path': '../input/petfinder-smogn-dataset/train_drop_duplicated.csv',\n",
       " 'output_path': './',\n",
       " 'db_model': 'swin_large_patch4_window7_224_in22k',\n",
       " 'db_size': 224,\n",
       " 'pretrain': '../input/petfinder-semisupervised-models/petfinder_efnet_binary_ss_type2_9.pt',\n",
       " 'save_name': 'petfinder_efnet_binary_p1_ss_type2',\n",
       " 'model': 'tf_efficientnetv2_s_in21k',\n",
       " 'loss': 'binary',\n",
       " 'size': 512,\n",
       " 'fold': 4,\n",
       " 'break_fold': 99,\n",
       " 'batch_size': 32,\n",
       " 'epochs': 3,\n",
       " 'mixup_ratio': 0,\n",
       " 'T_0': 20,\n",
       " 'lr': 2e-05,\n",
       " 'momentum': 0.9,\n",
       " 'weight_decay': 0.0001,\n",
       " 'accum_iter': 2,\n",
       " 'run_valid_in_training': 99,\n",
       " 'step_valid_in_training': 32,\n",
       " 'early_stopping': 10,\n",
       " 'verbose_step': 1,\n",
       " 'num_workers': 4}"
      ]
     },
     "execution_count": 4,
     "metadata": {},
     "output_type": "execute_result"
    }
   ],
   "source": [
    "CFG = {\n",
    "    \"save_prev\"   : [True, [\"petfinder_*.pt\", ]],\n",
    "    \"seed\"        : 42,\n",
    "    'device'      : \"cuda:0\" if torch.cuda.is_available() else \"cpu\",\n",
    "    \"input_img\"   : '../input/petfinder-pawpularity-score/train/',\n",
    "    \"input_path\"  : '../input/petfinder-smogn-dataset/train_drop_duplicated.csv',\n",
    "    \"output_path\" : './',\n",
    "    \"db_model\"    : 'swin_large_patch4_window7_224_in22k',\n",
    "    \"db_size\"     : 224,\n",
    "    \"pretrain\"    : \"../input/petfinder-semisupervised-models/petfinder_efnet_binary_ss_type2_9.pt\",\n",
    "    \"save_name\"   : \"petfinder_efnet_binary_p1_ss_type2\",\n",
    "    \"model\"       : \"tf_efficientnetv2_s_in21k\",\n",
    "    \"loss\"        : \"binary\",\n",
    "    \"size\"        : 512,\n",
    "    \"fold\"        : 4,\n",
    "    \"break_fold\"  : 99,\n",
    "    \"batch_size\"  : 32,\n",
    "    \"epochs\"      : 3,\n",
    "    \"mixup_ratio\" : 0,\n",
    "    'T_0'         : 20,\n",
    "    \"lr\"          : 2e-5,\n",
    "    'momentum'    : 0.9,\n",
    "    'weight_decay': 1e-4,\n",
    "    \"accum_iter\"  : 2,\n",
    "    \"run_valid_in_training\" : 99,  # Epoch starts 0.\n",
    "    \"step_valid_in_training\": 32,  # Run valid every 32 steps.\n",
    "    'early_stopping': 10,\n",
    "    'verbose_step'  : 1,\n",
    "    \"num_workers\"   : 4\n",
    "}\n",
    "\n",
    "CFG"
   ]
  },
  {
   "cell_type": "code",
   "execution_count": 5,
   "id": "ac4350bb",
   "metadata": {
    "execution": {
     "iopub.execute_input": "2021-12-24T14:47:00.460997Z",
     "iopub.status.busy": "2021-12-24T14:47:00.460434Z",
     "iopub.status.idle": "2021-12-24T14:47:00.471572Z",
     "shell.execute_reply": "2021-12-24T14:47:00.471145Z",
     "shell.execute_reply.started": "2021-12-24T14:43:10.058115Z"
    },
    "papermill": {
     "duration": 0.033772,
     "end_time": "2021-12-24T14:47:00.471692",
     "exception": false,
     "start_time": "2021-12-24T14:47:00.437920",
     "status": "completed"
    },
    "tags": []
   },
   "outputs": [],
   "source": [
    "def get_img(path):\n",
    "    im_bgr = cv2.imread(path)\n",
    "    im_rgb = im_bgr[:, :, ::-1]\n",
    "    return im_rgb\n",
    "\n",
    "def sigmoid(a):\n",
    "    return 1 / (1 + np.exp(-a))\n",
    "\n",
    "def softmax(x):\n",
    "    max = np.max(x,axis=1,keepdims=True)\n",
    "    e_x = np.exp(x - max)\n",
    "    sum = np.sum(e_x,axis=1,keepdims=True)\n",
    "    return e_x / sum \n",
    "\n",
    "def seed_everything(seed = 42):\n",
    "    '''Sets the seed of the entire notebook so results are the same every time we run.\n",
    "    This is for REPRODUCIBILITY.'''\n",
    "    np.random.seed(seed)\n",
    "    random.seed(seed)\n",
    "    torch.manual_seed(seed)\n",
    "    torch.cuda.manual_seed(seed)\n",
    "    # When running on the CuDNN backend, two further options must be set\n",
    "    torch.backends.cudnn.deterministic = True\n",
    "    torch.backends.cudnn.benchmark = False\n",
    "    # Set a fixed value for the hash seed\n",
    "    os.environ['PYTHONHASHSEED'] = str(seed)\n",
    "    \n",
    "seed_everything(CFG[\"seed\"])"
   ]
  },
  {
   "cell_type": "code",
   "execution_count": 6,
   "id": "a3f541f1",
   "metadata": {
    "execution": {
     "iopub.execute_input": "2021-12-24T14:47:00.503449Z",
     "iopub.status.busy": "2021-12-24T14:47:00.502667Z",
     "iopub.status.idle": "2021-12-24T14:47:07.625744Z",
     "shell.execute_reply": "2021-12-24T14:47:07.625256Z",
     "shell.execute_reply.started": "2021-12-24T14:43:10.072076Z"
    },
    "papermill": {
     "duration": 7.139828,
     "end_time": "2021-12-24T14:47:07.625880",
     "exception": false,
     "start_time": "2021-12-24T14:47:00.486052",
     "status": "completed"
    },
    "tags": []
   },
   "outputs": [],
   "source": [
    "if CFG['save_prev'][0]:\n",
    "    for file_pattern in CFG['save_prev'][1]:\n",
    "        for f in glob(f\"../input/petfinder-models-pseudolabel-1/{file_pattern}\"):\n",
    "            !cp {f} ./"
   ]
  },
  {
   "cell_type": "markdown",
   "id": "8603985b",
   "metadata": {
    "papermill": {
     "duration": 0.014156,
     "end_time": "2021-12-24T14:47:07.654659",
     "exception": false,
     "start_time": "2021-12-24T14:47:07.640503",
     "status": "completed"
    },
    "tags": []
   },
   "source": [
    "# Load data"
   ]
  },
  {
   "cell_type": "code",
   "execution_count": 7,
   "id": "32127b5a",
   "metadata": {
    "execution": {
     "iopub.execute_input": "2021-12-24T14:47:07.690108Z",
     "iopub.status.busy": "2021-12-24T14:47:07.689518Z",
     "iopub.status.idle": "2021-12-24T14:47:07.770384Z",
     "shell.execute_reply": "2021-12-24T14:47:07.769603Z",
     "shell.execute_reply.started": "2021-12-24T14:43:25.069969Z"
    },
    "papermill": {
     "duration": 0.10154,
     "end_time": "2021-12-24T14:47:07.770558",
     "exception": false,
     "start_time": "2021-12-24T14:47:07.669018",
     "status": "completed"
    },
    "tags": []
   },
   "outputs": [
    {
     "name": "stdout",
     "output_type": "stream",
     "text": [
      "['Subject Focus', 'Eyes', 'Face', 'Near', 'Action', 'Accessory', 'Group', 'Collage', 'Human', 'Occlusion', 'Info', 'Blur']\n",
      "(9860, 16)\n"
     ]
    },
    {
     "data": {
      "text/html": [
       "<div>\n",
       "<style scoped>\n",
       "    .dataframe tbody tr th:only-of-type {\n",
       "        vertical-align: middle;\n",
       "    }\n",
       "\n",
       "    .dataframe tbody tr th {\n",
       "        vertical-align: top;\n",
       "    }\n",
       "\n",
       "    .dataframe thead th {\n",
       "        text-align: right;\n",
       "    }\n",
       "</style>\n",
       "<table border=\"1\" class=\"dataframe\">\n",
       "  <thead>\n",
       "    <tr style=\"text-align: right;\">\n",
       "      <th></th>\n",
       "      <th>Id</th>\n",
       "      <th>Subject Focus</th>\n",
       "      <th>Eyes</th>\n",
       "      <th>Face</th>\n",
       "      <th>Near</th>\n",
       "      <th>Action</th>\n",
       "      <th>Accessory</th>\n",
       "      <th>Group</th>\n",
       "      <th>Collage</th>\n",
       "      <th>Human</th>\n",
       "      <th>Occlusion</th>\n",
       "      <th>Info</th>\n",
       "      <th>Blur</th>\n",
       "      <th>Pawpularity</th>\n",
       "      <th>path</th>\n",
       "      <th>Pawclass</th>\n",
       "    </tr>\n",
       "  </thead>\n",
       "  <tbody>\n",
       "    <tr>\n",
       "      <th>0</th>\n",
       "      <td>0007de18844b0dbbb5e1f607da0606e0</td>\n",
       "      <td>0</td>\n",
       "      <td>1</td>\n",
       "      <td>1</td>\n",
       "      <td>1</td>\n",
       "      <td>0</td>\n",
       "      <td>0</td>\n",
       "      <td>1</td>\n",
       "      <td>0</td>\n",
       "      <td>0</td>\n",
       "      <td>0</td>\n",
       "      <td>0</td>\n",
       "      <td>0</td>\n",
       "      <td>63</td>\n",
       "      <td>../input/petfinder-pawpularity-score/train/000...</td>\n",
       "      <td>0.63</td>\n",
       "    </tr>\n",
       "    <tr>\n",
       "      <th>1</th>\n",
       "      <td>0009c66b9439883ba2750fb825e1d7db</td>\n",
       "      <td>0</td>\n",
       "      <td>1</td>\n",
       "      <td>1</td>\n",
       "      <td>0</td>\n",
       "      <td>0</td>\n",
       "      <td>0</td>\n",
       "      <td>0</td>\n",
       "      <td>0</td>\n",
       "      <td>0</td>\n",
       "      <td>0</td>\n",
       "      <td>0</td>\n",
       "      <td>0</td>\n",
       "      <td>42</td>\n",
       "      <td>../input/petfinder-pawpularity-score/train/000...</td>\n",
       "      <td>0.42</td>\n",
       "    </tr>\n",
       "  </tbody>\n",
       "</table>\n",
       "</div>"
      ],
      "text/plain": [
       "                                 Id  Subject Focus  Eyes  Face  Near  Action  \\\n",
       "0  0007de18844b0dbbb5e1f607da0606e0              0     1     1     1       0   \n",
       "1  0009c66b9439883ba2750fb825e1d7db              0     1     1     0       0   \n",
       "\n",
       "   Accessory  Group  Collage  Human  Occlusion  Info  Blur  Pawpularity  \\\n",
       "0          0      1        0      0          0     0     0           63   \n",
       "1          0      0        0      0          0     0     0           42   \n",
       "\n",
       "                                                path  Pawclass  \n",
       "0  ../input/petfinder-pawpularity-score/train/000...      0.63  \n",
       "1  ../input/petfinder-pawpularity-score/train/000...      0.42  "
      ]
     },
     "execution_count": 7,
     "metadata": {},
     "output_type": "execute_result"
    }
   ],
   "source": [
    "df_train = pd.read_csv(CFG['input_path'])\n",
    "df_train[\"path\"] = [f\"{CFG['input_img']}{i}.jpg\" for i in df_train.Id]\n",
    "df_train[\"Pawclass\"] = df_train.Pawpularity / 100\n",
    "\n",
    "meta_features = [c for c in df_train.columns if c not in [\"Id\",\"path\", \"Pawpularity\",\"Pawclass\"]]\n",
    "\n",
    "print(meta_features)\n",
    "print(df_train.shape)\n",
    "df_train.head(2)"
   ]
  },
  {
   "cell_type": "code",
   "execution_count": 8,
   "id": "537f6886",
   "metadata": {
    "execution": {
     "iopub.execute_input": "2021-12-24T14:47:07.810058Z",
     "iopub.status.busy": "2021-12-24T14:47:07.809458Z",
     "iopub.status.idle": "2021-12-24T14:47:07.859883Z",
     "shell.execute_reply": "2021-12-24T14:47:07.859368Z",
     "shell.execute_reply.started": "2021-12-24T14:43:25.149082Z"
    },
    "papermill": {
     "duration": 0.074238,
     "end_time": "2021-12-24T14:47:07.860030",
     "exception": false,
     "start_time": "2021-12-24T14:47:07.785792",
     "status": "completed"
    },
    "tags": []
   },
   "outputs": [
    {
     "data": {
      "text/html": [
       "<div>\n",
       "<style scoped>\n",
       "    .dataframe tbody tr th:only-of-type {\n",
       "        vertical-align: middle;\n",
       "    }\n",
       "\n",
       "    .dataframe tbody tr th {\n",
       "        vertical-align: top;\n",
       "    }\n",
       "\n",
       "    .dataframe thead th {\n",
       "        text-align: right;\n",
       "    }\n",
       "</style>\n",
       "<table border=\"1\" class=\"dataframe\">\n",
       "  <thead>\n",
       "    <tr style=\"text-align: right;\">\n",
       "      <th></th>\n",
       "      <th>Subject Focus</th>\n",
       "      <th>Eyes</th>\n",
       "      <th>Face</th>\n",
       "      <th>Near</th>\n",
       "      <th>Action</th>\n",
       "      <th>Accessory</th>\n",
       "      <th>Group</th>\n",
       "      <th>Collage</th>\n",
       "      <th>Human</th>\n",
       "      <th>Occlusion</th>\n",
       "      <th>Info</th>\n",
       "      <th>Blur</th>\n",
       "      <th>Pawpularity</th>\n",
       "      <th>Pawclass</th>\n",
       "    </tr>\n",
       "  </thead>\n",
       "  <tbody>\n",
       "    <tr>\n",
       "      <th>count</th>\n",
       "      <td>9860.000000</td>\n",
       "      <td>9860.000000</td>\n",
       "      <td>9860.000000</td>\n",
       "      <td>9860.000000</td>\n",
       "      <td>9860.000000</td>\n",
       "      <td>9860.000000</td>\n",
       "      <td>9860.000000</td>\n",
       "      <td>9860.000000</td>\n",
       "      <td>9860.000000</td>\n",
       "      <td>9860.000000</td>\n",
       "      <td>9860.000000</td>\n",
       "      <td>9860.000000</td>\n",
       "      <td>9860.000000</td>\n",
       "      <td>9860.000000</td>\n",
       "    </tr>\n",
       "    <tr>\n",
       "      <th>mean</th>\n",
       "      <td>0.027586</td>\n",
       "      <td>0.772008</td>\n",
       "      <td>0.903651</td>\n",
       "      <td>0.861460</td>\n",
       "      <td>0.009838</td>\n",
       "      <td>0.067647</td>\n",
       "      <td>0.129209</td>\n",
       "      <td>0.048479</td>\n",
       "      <td>0.165619</td>\n",
       "      <td>0.171197</td>\n",
       "      <td>0.060446</td>\n",
       "      <td>0.070791</td>\n",
       "      <td>38.066227</td>\n",
       "      <td>0.380662</td>\n",
       "    </tr>\n",
       "    <tr>\n",
       "      <th>std</th>\n",
       "      <td>0.163792</td>\n",
       "      <td>0.419559</td>\n",
       "      <td>0.295084</td>\n",
       "      <td>0.345483</td>\n",
       "      <td>0.098701</td>\n",
       "      <td>0.251152</td>\n",
       "      <td>0.335448</td>\n",
       "      <td>0.214786</td>\n",
       "      <td>0.371757</td>\n",
       "      <td>0.376700</td>\n",
       "      <td>0.238324</td>\n",
       "      <td>0.256489</td>\n",
       "      <td>20.612391</td>\n",
       "      <td>0.206124</td>\n",
       "    </tr>\n",
       "    <tr>\n",
       "      <th>min</th>\n",
       "      <td>0.000000</td>\n",
       "      <td>0.000000</td>\n",
       "      <td>0.000000</td>\n",
       "      <td>0.000000</td>\n",
       "      <td>0.000000</td>\n",
       "      <td>0.000000</td>\n",
       "      <td>0.000000</td>\n",
       "      <td>0.000000</td>\n",
       "      <td>0.000000</td>\n",
       "      <td>0.000000</td>\n",
       "      <td>0.000000</td>\n",
       "      <td>0.000000</td>\n",
       "      <td>1.000000</td>\n",
       "      <td>0.010000</td>\n",
       "    </tr>\n",
       "    <tr>\n",
       "      <th>25%</th>\n",
       "      <td>0.000000</td>\n",
       "      <td>1.000000</td>\n",
       "      <td>1.000000</td>\n",
       "      <td>1.000000</td>\n",
       "      <td>0.000000</td>\n",
       "      <td>0.000000</td>\n",
       "      <td>0.000000</td>\n",
       "      <td>0.000000</td>\n",
       "      <td>0.000000</td>\n",
       "      <td>0.000000</td>\n",
       "      <td>0.000000</td>\n",
       "      <td>0.000000</td>\n",
       "      <td>25.000000</td>\n",
       "      <td>0.250000</td>\n",
       "    </tr>\n",
       "    <tr>\n",
       "      <th>50%</th>\n",
       "      <td>0.000000</td>\n",
       "      <td>1.000000</td>\n",
       "      <td>1.000000</td>\n",
       "      <td>1.000000</td>\n",
       "      <td>0.000000</td>\n",
       "      <td>0.000000</td>\n",
       "      <td>0.000000</td>\n",
       "      <td>0.000000</td>\n",
       "      <td>0.000000</td>\n",
       "      <td>0.000000</td>\n",
       "      <td>0.000000</td>\n",
       "      <td>0.000000</td>\n",
       "      <td>33.000000</td>\n",
       "      <td>0.330000</td>\n",
       "    </tr>\n",
       "    <tr>\n",
       "      <th>75%</th>\n",
       "      <td>0.000000</td>\n",
       "      <td>1.000000</td>\n",
       "      <td>1.000000</td>\n",
       "      <td>1.000000</td>\n",
       "      <td>0.000000</td>\n",
       "      <td>0.000000</td>\n",
       "      <td>0.000000</td>\n",
       "      <td>0.000000</td>\n",
       "      <td>0.000000</td>\n",
       "      <td>0.000000</td>\n",
       "      <td>0.000000</td>\n",
       "      <td>0.000000</td>\n",
       "      <td>46.000000</td>\n",
       "      <td>0.460000</td>\n",
       "    </tr>\n",
       "    <tr>\n",
       "      <th>max</th>\n",
       "      <td>1.000000</td>\n",
       "      <td>1.000000</td>\n",
       "      <td>1.000000</td>\n",
       "      <td>1.000000</td>\n",
       "      <td>1.000000</td>\n",
       "      <td>1.000000</td>\n",
       "      <td>1.000000</td>\n",
       "      <td>1.000000</td>\n",
       "      <td>1.000000</td>\n",
       "      <td>1.000000</td>\n",
       "      <td>1.000000</td>\n",
       "      <td>1.000000</td>\n",
       "      <td>100.000000</td>\n",
       "      <td>1.000000</td>\n",
       "    </tr>\n",
       "  </tbody>\n",
       "</table>\n",
       "</div>"
      ],
      "text/plain": [
       "       Subject Focus         Eyes         Face         Near       Action  \\\n",
       "count    9860.000000  9860.000000  9860.000000  9860.000000  9860.000000   \n",
       "mean        0.027586     0.772008     0.903651     0.861460     0.009838   \n",
       "std         0.163792     0.419559     0.295084     0.345483     0.098701   \n",
       "min         0.000000     0.000000     0.000000     0.000000     0.000000   \n",
       "25%         0.000000     1.000000     1.000000     1.000000     0.000000   \n",
       "50%         0.000000     1.000000     1.000000     1.000000     0.000000   \n",
       "75%         0.000000     1.000000     1.000000     1.000000     0.000000   \n",
       "max         1.000000     1.000000     1.000000     1.000000     1.000000   \n",
       "\n",
       "         Accessory        Group      Collage        Human    Occlusion  \\\n",
       "count  9860.000000  9860.000000  9860.000000  9860.000000  9860.000000   \n",
       "mean      0.067647     0.129209     0.048479     0.165619     0.171197   \n",
       "std       0.251152     0.335448     0.214786     0.371757     0.376700   \n",
       "min       0.000000     0.000000     0.000000     0.000000     0.000000   \n",
       "25%       0.000000     0.000000     0.000000     0.000000     0.000000   \n",
       "50%       0.000000     0.000000     0.000000     0.000000     0.000000   \n",
       "75%       0.000000     0.000000     0.000000     0.000000     0.000000   \n",
       "max       1.000000     1.000000     1.000000     1.000000     1.000000   \n",
       "\n",
       "              Info         Blur  Pawpularity     Pawclass  \n",
       "count  9860.000000  9860.000000  9860.000000  9860.000000  \n",
       "mean      0.060446     0.070791    38.066227     0.380662  \n",
       "std       0.238324     0.256489    20.612391     0.206124  \n",
       "min       0.000000     0.000000     1.000000     0.010000  \n",
       "25%       0.000000     0.000000    25.000000     0.250000  \n",
       "50%       0.000000     0.000000    33.000000     0.330000  \n",
       "75%       0.000000     0.000000    46.000000     0.460000  \n",
       "max       1.000000     1.000000   100.000000     1.000000  "
      ]
     },
     "execution_count": 8,
     "metadata": {},
     "output_type": "execute_result"
    }
   ],
   "source": [
    "df_train.describe()"
   ]
  },
  {
   "cell_type": "code",
   "execution_count": 9,
   "id": "5b4cf591",
   "metadata": {
    "execution": {
     "iopub.execute_input": "2021-12-24T14:47:07.896233Z",
     "iopub.status.busy": "2021-12-24T14:47:07.895618Z",
     "iopub.status.idle": "2021-12-24T14:47:08.319411Z",
     "shell.execute_reply": "2021-12-24T14:47:08.318671Z",
     "shell.execute_reply.started": "2021-12-24T14:43:25.203231Z"
    },
    "papermill": {
     "duration": 0.443989,
     "end_time": "2021-12-24T14:47:08.319546",
     "exception": false,
     "start_time": "2021-12-24T14:47:07.875557",
     "status": "completed"
    },
    "tags": []
   },
   "outputs": [
    {
     "data": {
      "text/plain": [
       "<AxesSubplot:>"
      ]
     },
     "execution_count": 9,
     "metadata": {},
     "output_type": "execute_result"
    },
    {
     "data": {
      "image/png": "[encoded data removed]",
      "text/plain": [
       "<Figure size 432x288 with 1 Axes>"
      ]
     },
     "metadata": {
      "needs_background": "light"
     },
     "output_type": "display_data"
    }
   ],
   "source": [
    "df_train.Pawpularity.hist(bins=100)"
   ]
  },
  {
   "cell_type": "markdown",
   "id": "54630b6e",
   "metadata": {
    "papermill": {
     "duration": 0.01856,
     "end_time": "2021-12-24T14:47:08.357303",
     "exception": false,
     "start_time": "2021-12-24T14:47:08.338743",
     "status": "completed"
    },
    "tags": []
   },
   "source": [
    "# Define model"
   ]
  },
  {
   "cell_type": "code",
   "execution_count": 10,
   "id": "f027b30c",
   "metadata": {
    "execution": {
     "iopub.execute_input": "2021-12-24T14:47:08.404164Z",
     "iopub.status.busy": "2021-12-24T14:47:08.403369Z",
     "iopub.status.idle": "2021-12-24T14:47:08.405626Z",
     "shell.execute_reply": "2021-12-24T14:47:08.406364Z",
     "shell.execute_reply.started": "2021-12-24T14:43:25.603977Z"
    },
    "papermill": {
     "duration": 0.030445,
     "end_time": "2021-12-24T14:47:08.406518",
     "exception": false,
     "start_time": "2021-12-24T14:47:08.376073",
     "status": "completed"
    },
    "tags": []
   },
   "outputs": [],
   "source": [
    "class Model(nn.Module):\n",
    "    def __init__(self, model_name, pretrained=True):\n",
    "        super().__init__()\n",
    "        self.model = timm.create_model(model_name, pretrained=pretrained, in_chans=3)\n",
    "        self.n_features = self.model.classifier.in_features\n",
    "        self.model.classifier = nn.Linear(self.n_features, 1)\n",
    "\n",
    "    def forward(self, x):\n",
    "        output = self.model(x)\n",
    "        return output\n",
    "\n",
    "class SwinModel(nn.Module):\n",
    "    def __init__(self, model_name, pretrained=True):\n",
    "        super().__init__()\n",
    "        self.model   = timm.create_model(model_name, pretrained=pretrained, num_classes=0, in_chans=3)\n",
    "        num_features = self.model.num_features\n",
    "        self.linear  = nn.Linear(num_features, 1)\n",
    "\n",
    "    def forward(self, x):\n",
    "        x = self.model(x)\n",
    "        output = self.linear(x)\n",
    "        return output"
   ]
  },
  {
   "cell_type": "code",
   "execution_count": 11,
   "id": "9f28acb6",
   "metadata": {
    "execution": {
     "iopub.execute_input": "2021-12-24T14:47:08.454913Z",
     "iopub.status.busy": "2021-12-24T14:47:08.454121Z",
     "iopub.status.idle": "2021-12-24T14:47:08.456641Z",
     "shell.execute_reply": "2021-12-24T14:47:08.457192Z",
     "shell.execute_reply.started": "2021-12-24T14:43:25.613883Z"
    },
    "papermill": {
     "duration": 0.032435,
     "end_time": "2021-12-24T14:47:08.457331",
     "exception": false,
     "start_time": "2021-12-24T14:47:08.424896",
     "status": "completed"
    },
    "tags": []
   },
   "outputs": [],
   "source": [
    "class PetFinderDataset(Dataset):\n",
    "    def __init__(self, df_img, df_meta, transforms=None, train=True, output_meta=True, output_label=True):\n",
    "        super().__init__()\n",
    "        self.df_img  = df_img.reset_index(drop=True).copy()\n",
    "        self.df_meta = df_meta.reset_index(drop=True).copy()\n",
    "        self.transforms   = transforms\n",
    "        self.train        = train\n",
    "        self.output_meta  = output_meta\n",
    "        self.output_label = output_label\n",
    "        \n",
    "    def __len__(self):\n",
    "        return self.df_img.shape[0]\n",
    "    \n",
    "    def __getitem__(self, index: int):\n",
    "        img = get_img(self.df_img.loc[index].path)\n",
    "        y   = torch.from_numpy(np.array(self.df_img.loc[index].Pawclass))  # Pawpularity\n",
    "        if self.output_meta:\n",
    "            meta = torch.from_numpy(np.array(self.df_meta.loc[index], dtype=float))\n",
    "        if self.transforms:\n",
    "            if self.train:\n",
    "                img = self.transforms(image=img)['image']\n",
    "            else:\n",
    "                h, w, _ = img.shape\n",
    "                trans = self.transforms(h, w)\n",
    "                img   = trans(image=img)['image']\n",
    "        if self.output_label:\n",
    "            if self.output_meta:\n",
    "                return img, meta, y\n",
    "            else:\n",
    "                return img, y\n",
    "        if self.output_meta:\n",
    "            return img, meta\n",
    "        return img"
   ]
  },
  {
   "cell_type": "code",
   "execution_count": 12,
   "id": "ab3b369c",
   "metadata": {
    "execution": {
     "iopub.execute_input": "2021-12-24T14:47:08.496716Z",
     "iopub.status.busy": "2021-12-24T14:47:08.495817Z",
     "iopub.status.idle": "2021-12-24T14:47:08.511150Z",
     "shell.execute_reply": "2021-12-24T14:47:08.510655Z",
     "shell.execute_reply.started": "2021-12-24T14:43:25.626943Z"
    },
    "papermill": {
     "duration": 0.035691,
     "end_time": "2021-12-24T14:47:08.511280",
     "exception": false,
     "start_time": "2021-12-24T14:47:08.475589",
     "status": "completed"
    },
    "tags": []
   },
   "outputs": [],
   "source": [
    "def get_train_transforms():\n",
    "    return Compose([\n",
    "        Resize(CFG['size'], CFG['size'], p=1.0),\n",
    "        HorizontalFlip(p=0.5),\n",
    "        HueSaturationValue(hue_shift_limit=0.2, sat_shift_limit=0.2, val_shift_limit=0.2, p=0.5),\n",
    "        RandomBrightnessContrast(brightness_limit=(-0.1,0.1), contrast_limit=(-0.1, 0.1), p=0.5),\n",
    "        Normalize(mean=[0.485, 0.456, 0.406], std=[0.229, 0.224, 0.225], max_pixel_value=255.0, p=1.0),\n",
    "        ToTensorV2(p=1.0)], p=1.0)\n",
    "  \n",
    "def get_valid_transforms(h, w):\n",
    "    return Compose([\n",
    "        Resize(CFG['size'], CFG['size'], p=1.0),\n",
    "        Normalize(mean=[0.485, 0.456, 0.406], std=[0.229, 0.224, 0.225], max_pixel_value=255.0, p=1.0),\n",
    "        ToTensorV2(p=1.0)], p=1.0)\n",
    "\n",
    "#https://www.kaggle.com/heyytanay/definitive-pytorch-trainer-mixup-kfolds-w-b\n",
    "def mixup_augmentation(x:torch.Tensor, y:torch.Tensor, alpha:float = 1.0):\n",
    "    \"\"\"\n",
    "    Function which performs Mixup augmentation\n",
    "    \"\"\"\n",
    "    assert alpha > 0, \"Alpha must be greater than 0\"\n",
    "    assert x.shape[0] > 1, \"Need more than 1 sample to apply mixup\"\n",
    "\n",
    "    lam = np.random.beta(alpha, alpha)\n",
    "    rand_idx = torch.randperm(x.shape[0])\n",
    "    mixed_x  = lam * x + (1 - lam) * x[rand_idx, :]\n",
    "    target_a, target_b = y, y[rand_idx]\n",
    "    return mixed_x, target_a, target_b, lam\n",
    "\n",
    "def prepare_dataloader(train, valid, train_meta=None, valid_meta=None):\n",
    "    if train_meta is None or valid_meta is None:\n",
    "        train_ds = PetFinderDataset(train, pd.DataFrame(), transforms=get_train_transforms(), output_meta=False)\n",
    "        valid_ds = PetFinderDataset(valid, pd.DataFrame(), transforms=get_valid_transforms, train=False, output_meta=False)\n",
    "    else:\n",
    "        train_ds = PetFinderDataset(train, train_meta, transforms=get_train_transforms())\n",
    "        valid_ds = PetFinderDataset(valid, valid_meta, transforms=get_valid_transforms, train=False)\n",
    "    train_loader = torch.utils.data.DataLoader(train_ds,\n",
    "                                               batch_size=CFG['batch_size'],\n",
    "                                               drop_last=False,\n",
    "                                               pin_memory=False,\n",
    "                                               shuffle=True,\n",
    "                                               num_workers=CFG['num_workers'])\n",
    "    val_loader = torch.utils.data.DataLoader(valid_ds,\n",
    "                                             batch_size=CFG['batch_size'],\n",
    "                                             pin_memory=False,\n",
    "                                             shuffle=False,\n",
    "                                             num_workers=CFG['num_workers'])\n",
    "    return train_loader, val_loader"
   ]
  },
  {
   "cell_type": "code",
   "execution_count": 13,
   "id": "fc09d5eb",
   "metadata": {
    "execution": {
     "iopub.execute_input": "2021-12-24T14:47:08.569248Z",
     "iopub.status.busy": "2021-12-24T14:47:08.568352Z",
     "iopub.status.idle": "2021-12-24T14:47:08.570082Z",
     "shell.execute_reply": "2021-12-24T14:47:08.570542Z",
     "shell.execute_reply.started": "2021-12-24T14:43:25.646328Z"
    },
    "papermill": {
     "duration": 0.04219,
     "end_time": "2021-12-24T14:47:08.570679",
     "exception": false,
     "start_time": "2021-12-24T14:47:08.528489",
     "status": "completed"
    },
    "tags": []
   },
   "outputs": [],
   "source": [
    "def train_one_epoch(epoch, model, loss_fn, optimizer, train_loader, val_loader, device,\n",
    "                    scheduler=None, schd_batch_update=False, best_rmse=999):\n",
    "    t = time.time()\n",
    "    running_loss = None\n",
    "    mean_loss    = 0\n",
    "    best_model   = None\n",
    "    best_hist    = None\n",
    "\n",
    "    pbar = tqdm(enumerate(train_loader), total=len(train_loader))\n",
    "    for step, (imgs, targets) in pbar:\n",
    "        model.train()\n",
    "\n",
    "        imgs    = imgs.to(device).float()\n",
    "        targets = targets.reshape(-1,1).to(device).float()\n",
    "\n",
    "        if torch.rand(1)[0] < CFG[\"mixup_ratio\"]:\n",
    "            mix_img, tar_a, tar_b, lam = mixup_augmentation(imgs, targets, alpha=0.5)\n",
    "            with autocast():\n",
    "                img_preds = model(mix_img)\n",
    "                # Mixup loss calculation\n",
    "                loss_a = loss_fn(img_preds, tar_a)\n",
    "                loss_b = loss_fn(img_preds, tar_b)\n",
    "                loss = (loss_a * lam + (1 - lam) * loss_b) / CFG['accum_iter']\n",
    "        else:\n",
    "            with autocast():\n",
    "                img_preds = model(imgs)\n",
    "                loss = loss_fn(img_preds, targets) / CFG['accum_iter']\n",
    "        scaler.scale(loss).backward()\n",
    "\n",
    "        if running_loss is None:\n",
    "            running_loss = loss.item()\n",
    "        else:\n",
    "            running_loss = running_loss * .99 + loss.item() * .01\n",
    "        mean_loss += loss.item()\n",
    "\n",
    "        if ((step + 1) %  CFG['accum_iter'] == 0) or ((step + 1) == len(train_loader)):\n",
    "            scaler.step(optimizer)\n",
    "            scaler.update()\n",
    "            optimizer.zero_grad() \n",
    "            if scheduler is not None and schd_batch_update:\n",
    "                scheduler.step()\n",
    "\n",
    "        if ((step + 1) % CFG['verbose_step'] == 0) or ((step + 1) == len(train_loader)):\n",
    "            description = f'epoch {epoch} loss: {running_loss:.4f}'\n",
    "            pbar.set_description(description)\n",
    "                \n",
    "        if CFG[\"run_valid_in_training\"] <= epoch and (step + 1) % CFG[\"step_valid_in_training\"] == 0:\n",
    "            with torch.no_grad():\n",
    "                valid_rmse, _, valid_hist = valid_one_epoch(epoch, model, loss_fn, val_loader, device)\n",
    "            if valid_rmse < best_rmse:\n",
    "                best_model = copy.deepcopy(model)\n",
    "                best_rmse  = valid_rmse\n",
    "                best_hist  = valid_hist\n",
    "                \n",
    "    if scheduler is not None and not schd_batch_update:\n",
    "        scheduler.step()\n",
    "        \n",
    "    return mean_loss/len(train_loader), best_rmse, best_model, best_hist\n",
    "        \n",
    "def valid_one_epoch(epoch, model, loss_fn, val_loader, device,\n",
    "                    scheduler=None, schd_loss_update=False):\n",
    "    model.eval()\n",
    "\n",
    "    t = time.time()\n",
    "    loss_sum   = 0\n",
    "    sample_num = 0\n",
    "    img_preds_all = []\n",
    "    img_truth_all = []\n",
    "    \n",
    "    for step, (imgs, targets) in enumerate(val_loader):\n",
    "        imgs    = imgs.to(device)\n",
    "        targets = targets.reshape(-1,1).to(device).float()\n",
    "        \n",
    "        img_preds = model(imgs)\n",
    "        img_preds_all += [img_preds.detach().cpu().numpy()]\n",
    "        img_truth_all += [targets.detach().cpu().numpy()]\n",
    "        \n",
    "        loss = loss_fn(img_preds, targets)\n",
    "        loss_sum   += loss.item()*targets.shape[0]\n",
    "        sample_num += targets.shape[0]  \n",
    "\n",
    "    if CFG[\"loss\"] == \"binary\":\n",
    "        img_preds_all = (sigmoid(np.concatenate(img_preds_all))*100).astype(int)\n",
    "        img_truth_all = (np.concatenate(img_truth_all)*100).astype(int)\n",
    "    else:\n",
    "        img_preds_all = np.concatenate(img_preds_all)\n",
    "        img_truth_all = np.concatenate(img_truth_all)\n",
    "    rmse = np.sqrt(mean_squared_error(img_preds_all, img_truth_all))\n",
    "    print('validation rmse = {:.6f}'.format(rmse))\n",
    "    \n",
    "    if scheduler is not None:\n",
    "        if schd_loss_update:\n",
    "            scheduler.step(loss_sum/sample_num)\n",
    "        else:\n",
    "            scheduler.step()\n",
    "            \n",
    "    return loss_sum/sample_num, rmse,  [img_preds_all, img_truth_all]"
   ]
  },
  {
   "cell_type": "code",
   "execution_count": 14,
   "id": "dd3d990f",
   "metadata": {
    "execution": {
     "iopub.execute_input": "2021-12-24T14:47:08.607458Z",
     "iopub.status.busy": "2021-12-24T14:47:08.606660Z",
     "iopub.status.idle": "2021-12-24T14:47:08.614183Z",
     "shell.execute_reply": "2021-12-24T14:47:08.613777Z",
     "shell.execute_reply.started": "2021-12-24T14:43:25.673774Z"
    },
    "papermill": {
     "duration": 0.026633,
     "end_time": "2021-12-24T14:47:08.614289",
     "exception": false,
     "start_time": "2021-12-24T14:47:08.587656",
     "status": "completed"
    },
    "tags": []
   },
   "outputs": [],
   "source": [
    "def sgd_optimizer(model, lr, momentum, weight_decay):\n",
    "    params = []\n",
    "    for key, value in model.named_parameters():\n",
    "        if not value.requires_grad:\n",
    "            continue\n",
    "        apply_weight_decay = weight_decay\n",
    "        apply_lr = lr\n",
    "        if 'bias' in key or 'bn' in key:\n",
    "            apply_weight_decay = 0\n",
    "        if 'bias' in key:\n",
    "            apply_lr = 2 * lr       # Just a Caffe-style common practice. Made no difference.\n",
    "        params += [{'params': [value], 'lr': apply_lr, 'weight_decay': apply_weight_decay}]\n",
    "    optimizer = torch.optim.SGD(params, lr, momentum=momentum)\n",
    "    return optimizer\n",
    "\n",
    "class RMSELoss(nn.Module):\n",
    "    def __init__(self):\n",
    "        super().__init__()\n",
    "        self.mse = nn.MSELoss()\n",
    "        \n",
    "    def forward(self, yhat, y):\n",
    "        return torch.sqrt(self.mse(yhat, y))"
   ]
  },
  {
   "cell_type": "markdown",
   "id": "fe86940e",
   "metadata": {
    "papermill": {
     "duration": 0.015752,
     "end_time": "2021-12-24T14:47:08.645875",
     "exception": false,
     "start_time": "2021-12-24T14:47:08.630123",
     "status": "completed"
    },
    "tags": []
   },
   "source": [
    "# Run training"
   ]
  },
  {
   "cell_type": "code",
   "execution_count": 15,
   "id": "7e125b6d",
   "metadata": {
    "execution": {
     "iopub.execute_input": "2021-12-24T14:47:08.696159Z",
     "iopub.status.busy": "2021-12-24T14:47:08.695557Z",
     "iopub.status.idle": "2021-12-24T15:59:38.239585Z",
     "shell.execute_reply": "2021-12-24T15:59:38.240286Z",
     "shell.execute_reply.started": "2021-12-24T14:44:01.371168Z"
    },
    "papermill": {
     "duration": 4349.578527,
     "end_time": "2021-12-24T15:59:38.240501",
     "exception": false,
     "start_time": "2021-12-24T14:47:08.661974",
     "status": "completed"
    },
    "tags": []
   },
   "outputs": [
    {
     "name": "stdout",
     "output_type": "stream",
     "text": [
      "Training with fold 0 started\n",
      "7395 2465\n"
     ]
    },
    {
     "name": "stderr",
     "output_type": "stream",
     "text": [
      "Downloading: \"https://github.com/rwightman/pytorch-image-models/releases/download/v0.1-effv2-weights/tf_efficientnetv2_s_21k-6337ad01.pth\" to /root/.cache/torch/hub/checkpoints/tf_efficientnetv2_s_21k-6337ad01.pth\n",
      "epoch 0 loss: 0.3269: 100%|██████████| 232/232 [05:08<00:00,  1.33s/it]\n"
     ]
    },
    {
     "name": "stdout",
     "output_type": "stream",
     "text": [
      "validation rmse = 18.959207\n",
      "Best model will be saved to output path after completing this fold\n"
     ]
    },
    {
     "name": "stderr",
     "output_type": "stream",
     "text": [
      "epoch 1 loss: 0.3238: 100%|██████████| 232/232 [04:57<00:00,  1.28s/it]\n"
     ]
    },
    {
     "name": "stdout",
     "output_type": "stream",
     "text": [
      "validation rmse = 18.515571\n",
      "Best model will be saved to output path after completing this fold\n"
     ]
    },
    {
     "name": "stderr",
     "output_type": "stream",
     "text": [
      "epoch 2 loss: 0.3224: 100%|██████████| 232/232 [05:02<00:00,  1.30s/it]\n"
     ]
    },
    {
     "name": "stdout",
     "output_type": "stream",
     "text": [
      "validation rmse = 18.195758\n",
      "Best model will be saved to output path after completing this fold\n",
      "Training with fold 1 started\n",
      "7395 2465\n"
     ]
    },
    {
     "name": "stderr",
     "output_type": "stream",
     "text": [
      "epoch 0 loss: 0.3264: 100%|██████████| 232/232 [05:01<00:00,  1.30s/it]\n"
     ]
    },
    {
     "name": "stdout",
     "output_type": "stream",
     "text": [
      "validation rmse = 18.932227\n",
      "Best model will be saved to output path after completing this fold\n"
     ]
    },
    {
     "name": "stderr",
     "output_type": "stream",
     "text": [
      "epoch 1 loss: 0.3248: 100%|██████████| 232/232 [05:02<00:00,  1.30s/it]\n"
     ]
    },
    {
     "name": "stdout",
     "output_type": "stream",
     "text": [
      "validation rmse = 18.416447\n",
      "Best model will be saved to output path after completing this fold\n"
     ]
    },
    {
     "name": "stderr",
     "output_type": "stream",
     "text": [
      "epoch 2 loss: 0.3236: 100%|██████████| 232/232 [05:02<00:00,  1.31s/it]\n"
     ]
    },
    {
     "name": "stdout",
     "output_type": "stream",
     "text": [
      "validation rmse = 18.170100\n",
      "Best model will be saved to output path after completing this fold\n",
      "Training with fold 2 started\n",
      "7395 2465\n"
     ]
    },
    {
     "name": "stderr",
     "output_type": "stream",
     "text": [
      "epoch 0 loss: 0.3264: 100%|██████████| 232/232 [05:00<00:00,  1.30s/it]\n"
     ]
    },
    {
     "name": "stdout",
     "output_type": "stream",
     "text": [
      "validation rmse = 18.955815\n",
      "Best model will be saved to output path after completing this fold\n"
     ]
    },
    {
     "name": "stderr",
     "output_type": "stream",
     "text": [
      "epoch 1 loss: 0.3240: 100%|██████████| 232/232 [05:03<00:00,  1.31s/it]\n"
     ]
    },
    {
     "name": "stdout",
     "output_type": "stream",
     "text": [
      "validation rmse = 18.522220\n",
      "Best model will be saved to output path after completing this fold\n"
     ]
    },
    {
     "name": "stderr",
     "output_type": "stream",
     "text": [
      "epoch 2 loss: 0.3212: 100%|██████████| 232/232 [05:02<00:00,  1.30s/it]\n"
     ]
    },
    {
     "name": "stdout",
     "output_type": "stream",
     "text": [
      "validation rmse = 18.270827\n",
      "Best model will be saved to output path after completing this fold\n",
      "Training with fold 3 started\n",
      "7395 2465\n"
     ]
    },
    {
     "name": "stderr",
     "output_type": "stream",
     "text": [
      "epoch 0 loss: 0.3254: 100%|██████████| 232/232 [05:02<00:00,  1.30s/it]\n"
     ]
    },
    {
     "name": "stdout",
     "output_type": "stream",
     "text": [
      "validation rmse = 19.108147\n",
      "Best model will be saved to output path after completing this fold\n"
     ]
    },
    {
     "name": "stderr",
     "output_type": "stream",
     "text": [
      "epoch 1 loss: 0.3232: 100%|██████████| 232/232 [05:04<00:00,  1.31s/it]\n"
     ]
    },
    {
     "name": "stdout",
     "output_type": "stream",
     "text": [
      "validation rmse = 18.622055\n",
      "Best model will be saved to output path after completing this fold\n"
     ]
    },
    {
     "name": "stderr",
     "output_type": "stream",
     "text": [
      "epoch 2 loss: 0.3215: 100%|██████████| 232/232 [05:04<00:00,  1.31s/it]\n"
     ]
    },
    {
     "name": "stdout",
     "output_type": "stream",
     "text": [
      "validation rmse = 18.356179\n",
      "Best model will be saved to output path after completing this fold\n"
     ]
    }
   ],
   "source": [
    "folds = StratifiedKFold(\n",
    "    n_splits=CFG['fold'],\n",
    "    shuffle=True,\n",
    "    random_state=CFG['seed']\n",
    ").split(np.arange(df_train.shape[0]), df_train.Pawpularity.values)\n",
    "    \n",
    "all_histories = {}\n",
    "for fold, (trn_idx, val_idx) in enumerate(folds):\n",
    "    print('Training with fold {} started'.format(fold))\n",
    "    print(len(trn_idx), len(val_idx))\n",
    "    \n",
    "    train      = df_train.iloc[trn_idx].reset_index(drop=True)\n",
    "    valid      = df_train.iloc[val_idx].reset_index(drop=True)\n",
    "    train_loader, val_loader = prepare_dataloader(train, valid)\n",
    "\n",
    "    not_improved_cnt = 0\n",
    "    best_rmse  = 999\n",
    "    best_epoch = 0\n",
    "    histories  = {}\n",
    "    device     = torch.device(CFG['device'])\n",
    "    \n",
    "    if -1 < CFG[\"model\"].find(\"swin\"):\n",
    "        model = SwinModel(CFG[\"model\"], pretrained=True)\n",
    "    else:\n",
    "        model = Model(CFG[\"model\"], pretrained=True)\n",
    "    if CFG['pretrain'] is not None:\n",
    "        pretrained_weights = CFG['pretrain'] % fold if -1 < CFG['pretrain'].find(\"%\") else CFG['pretrain']\n",
    "        model.load_state_dict(torch.load(pretrained_weights))\n",
    "    model.to(device)\n",
    "    scaler    = GradScaler()\n",
    "    #optimizer = sgd_optimizer(model, CFG['lr'], CFG['momentum'], CFG['weight_decay'])\n",
    "    #scheduler = CosineAnnealingLR(optimizer=optimizer, T_max=CFG['T_0'])\n",
    "    optimizer = RAdam(model.parameters(), lr=CFG['lr'], weight_decay=CFG['weight_decay'])\n",
    "    scheduler = None\n",
    "    if CFG[\"loss\"] == \"binary\":\n",
    "        loss_fn = nn.BCEWithLogitsLoss().to(device)\n",
    "    else:\n",
    "        loss_fn = RMSELoss().to(device)\n",
    "\n",
    "    for epoch in range(CFG['epochs']):\n",
    "        train_loss, train_best_rmse, train_best_model, train_best_hist = train_one_epoch(\n",
    "            epoch,\n",
    "            model,\n",
    "            loss_fn,\n",
    "            optimizer,\n",
    "            train_loader,\n",
    "            val_loader,\n",
    "            device,\n",
    "            scheduler=scheduler,\n",
    "            best_rmse=best_rmse\n",
    "        )\n",
    "        with torch.no_grad():\n",
    "            valid_loss, valid_rmse, valid_hist = valid_one_epoch(\n",
    "                epoch,\n",
    "                model,\n",
    "                loss_fn,\n",
    "                val_loader,\n",
    "                device\n",
    "            )\n",
    "        if valid_rmse < train_best_rmse:\n",
    "            histories[epoch] = [train_loss, valid_loss, valid_rmse, valid_hist]\n",
    "        else:\n",
    "            histories[epoch] = [train_loss, valid_loss, train_best_rmse, train_best_hist]\n",
    "\n",
    "        if valid_rmse < best_rmse or train_best_rmse < best_rmse:\n",
    "            print('Best model will be saved to output path after completing this fold')\n",
    "            if valid_rmse < train_best_rmse:\n",
    "                best_model = copy.deepcopy(model)\n",
    "                best_rmse  = valid_rmse\n",
    "            else:\n",
    "                best_model = copy.deepcopy(train_best_model)\n",
    "                best_rmse  = train_best_rmse\n",
    "            best_epoch = epoch\n",
    "            not_improved_cnt = 0\n",
    "        elif CFG['early_stopping'] == not_improved_cnt:\n",
    "            print(\"Met early stopping.\")\n",
    "            break\n",
    "        else:\n",
    "            not_improved_cnt += 1\n",
    "\n",
    "    torch.save(best_model.state_dict(), f\"{CFG['output_path']}{CFG['save_name']}_{fold}.pt\")\n",
    "    all_histories[fold] = [best_epoch, histories]\n",
    "    \n",
    "    del model, optimizer, train_loader, val_loader, scaler\n",
    "    torch.cuda.empty_cache()\n",
    "    \n",
    "    if CFG[\"break_fold\"] == fold+1:\n",
    "        break"
   ]
  },
  {
   "cell_type": "code",
   "execution_count": 16,
   "id": "a5bb31b9",
   "metadata": {
    "execution": {
     "iopub.execute_input": "2021-12-24T15:59:41.375809Z",
     "iopub.status.busy": "2021-12-24T15:59:41.368474Z",
     "iopub.status.idle": "2021-12-24T15:59:42.063486Z",
     "shell.execute_reply": "2021-12-24T15:59:42.063967Z",
     "shell.execute_reply.started": "2021-12-24T14:45:33.880609Z"
    },
    "papermill": {
     "duration": 2.264924,
     "end_time": "2021-12-24T15:59:42.064119",
     "exception": false,
     "start_time": "2021-12-24T15:59:39.799195",
     "status": "completed"
    },
    "tags": []
   },
   "outputs": [
    {
     "data": {
      "image/png": "[encoded data removed]",
      "text/plain": [
       "<Figure size 1008x720 with 4 Axes>"
      ]
     },
     "metadata": {
      "needs_background": "light"
     },
     "output_type": "display_data"
    }
   ],
   "source": [
    "c, r, cnt = 2, 2, 0\n",
    "fig, axes = plt.subplots(nrows=r, ncols=c, figsize=(14, 10))\n",
    "for i in range(r):\n",
    "    for j in range(c):\n",
    "        if cnt not in all_histories.keys():\n",
    "            continue\n",
    "        best_epoch, histories = all_histories[cnt]\n",
    "        rmse, (pred, gt) = histories[best_epoch][2:]\n",
    "        axes[i, j].scatter(x=pred, y=gt)\n",
    "        axes[i, j].set_xticks(np.arange(0,101,10))\n",
    "        axes[i, j].set_yticks(np.arange(0,101,10))\n",
    "        axes[i, j].set_title(f\"fold {cnt}: rmse {round(rmse,5)}\")\n",
    "        cnt += 1\n",
    "fig.show()"
   ]
  }
 ],
 "metadata": {
  "kernelspec": {
   "display_name": "Python 3",
   "language": "python",
   "name": "python3"
  },
  "language_info": {
   "codemirror_mode": {
    "name": "ipython",
    "version": 3
   },
   "file_extension": ".py",
   "mimetype": "text/x-python",
   "name": "python",
   "nbconvert_exporter": "python",
   "pygments_lexer": "ipython3",
   "version": "3.7.10"
  },
  "papermill": {
   "default_parameters": {},
   "duration": 4384.696882,
   "end_time": "2021-12-24T15:59:46.717637",
   "environment_variables": {},
   "exception": null,
   "input_path": "__notebook__.ipynb",
   "output_path": "__notebook__.ipynb",
   "parameters": {},
   "start_time": "2021-12-24T14:46:42.020755",
   "version": "2.3.3"
  }
 },
 "nbformat": 4,
 "nbformat_minor": 5
}
