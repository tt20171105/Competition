{
 "cells": [
  {
   "cell_type": "code",
   "execution_count": 1,
   "id": "738517aa",
   "metadata": {
    "execution": {
     "iopub.execute_input": "2021-11-01T04:01:51.095463Z",
     "iopub.status.busy": "2021-11-01T04:01:51.094184Z",
     "iopub.status.idle": "2021-11-01T04:01:51.096445Z",
     "shell.execute_reply": "2021-11-01T04:01:51.097043Z",
     "shell.execute_reply.started": "2021-11-01T02:37:24.397748Z"
    },
    "papermill": {
     "duration": 0.04509,
     "end_time": "2021-11-01T04:01:51.097325",
     "exception": false,
     "start_time": "2021-11-01T04:01:51.052235",
     "status": "completed"
    },
    "tags": []
   },
   "outputs": [],
   "source": [
    "import sys\n",
    "sys.path.append('../input/timm-pytorch-image-models/pytorch-image-models-master')\n",
    "sys.path.append('../input/pytorch-optimizers/')\n",
    "sys.path.append('../input/weightedboxfusion/')"
   ]
  },
  {
   "cell_type": "code",
   "execution_count": 2,
   "id": "97817d8e",
   "metadata": {
    "execution": {
     "iopub.execute_input": "2021-11-01T04:01:51.155523Z",
     "iopub.status.busy": "2021-11-01T04:01:51.154503Z",
     "iopub.status.idle": "2021-11-01T04:01:57.057340Z",
     "shell.execute_reply": "2021-11-01T04:01:57.056797Z",
     "shell.execute_reply.started": "2021-11-01T02:37:24.704787Z"
    },
    "papermill": {
     "duration": 5.934488,
     "end_time": "2021-11-01T04:01:57.057481",
     "exception": false,
     "start_time": "2021-11-01T04:01:51.122993",
     "status": "completed"
    },
    "tags": []
   },
   "outputs": [],
   "source": [
    "import os\n",
    "import gc\n",
    "import cv2\n",
    "import copy\n",
    "import time\n",
    "import yaml\n",
    "import random\n",
    "import shutil\n",
    "import warnings\n",
    "import subprocess\n",
    "import numpy as np\n",
    "import pandas as pd\n",
    "import matplotlib.pyplot as plt\n",
    "from glob import glob\n",
    "from tqdm import tqdm\n",
    "from PIL import Image, ImageDraw\n",
    "from shutil import copyfile\n",
    "from IPython.core.display import Video, display\n",
    "from sklearn.model_selection import train_test_split, KFold, GroupKFold, StratifiedKFold\n",
    "from ensemble_boxes import nms\n",
    "\n",
    "import timm\n",
    "import torch\n",
    "import torch.nn.functional as F\n",
    "import torchvision\n",
    "from torch import nn\n",
    "from torch.cuda.amp import autocast, GradScaler\n",
    "from torch.utils.data import Dataset,DataLoader\n",
    "from torch.utils.data.sampler import SequentialSampler, RandomSampler\n",
    "from torch.nn.modules.loss import _WeightedLoss\n",
    "from torchvision import models\n",
    "from torchvision import transforms\n",
    "from torch_optimizer.radam import RAdam\n",
    "\n",
    "from albumentations.pytorch import ToTensorV2\n",
    "from albumentations import (\n",
    "    HorizontalFlip, VerticalFlip, IAAPerspective, ShiftScaleRotate, CLAHE, RandomRotate90,\n",
    "    Transpose, ShiftScaleRotate, Blur, OpticalDistortion, GridDistortion, HueSaturationValue,\n",
    "    IAAAdditiveGaussianNoise, GaussNoise, MotionBlur, MedianBlur, IAAPiecewiseAffine, RandomResizedCrop,\n",
    "    IAASharpen, IAAEmboss, RandomBrightnessContrast, Flip, OneOf, Compose, Normalize, Cutout, CoarseDropout,\n",
    "    ShiftScaleRotate, CenterCrop, Resize, Rotate, RandomRotate90, RGBShift, ChannelShuffle)\n",
    "\n",
    "warnings.simplefilter('ignore')\n",
    "pd.set_option(\"max_columns\", 150)\n",
    "pd.set_option('display.max_rows', 150)"
   ]
  },
  {
   "cell_type": "markdown",
   "id": "f980edb2",
   "metadata": {
    "papermill": {
     "duration": 0.021014,
     "end_time": "2021-11-01T04:01:57.099093",
     "exception": false,
     "start_time": "2021-11-01T04:01:57.078079",
     "status": "completed"
    },
    "tags": []
   },
   "source": [
    "### Configuration"
   ]
  },
  {
   "cell_type": "code",
   "execution_count": 3,
   "id": "5025f822",
   "metadata": {
    "execution": {
     "iopub.execute_input": "2021-11-01T04:01:57.143913Z",
     "iopub.status.busy": "2021-11-01T04:01:57.142939Z",
     "iopub.status.idle": "2021-11-01T04:01:57.154958Z",
     "shell.execute_reply": "2021-11-01T04:01:57.155360Z",
     "shell.execute_reply.started": "2021-11-01T02:37:30.806025Z"
    },
    "papermill": {
     "duration": 0.036028,
     "end_time": "2021-11-01T04:01:57.155530",
     "exception": false,
     "start_time": "2021-11-01T04:01:57.119502",
     "status": "completed"
    },
    "tags": []
   },
   "outputs": [
    {
     "data": {
      "text/plain": [
       "{'seed': 42,\n",
       " 'make_dataset': False,\n",
       " 'save_zip': True,\n",
       " 'train_model': False,\n",
       " 'device': 'cuda:0',\n",
       " 'input_img': '../input/nfl-health-and-safety-helmet-assignment/images/',\n",
       " 'label_img': '../input/nfl-health-and-safety-helmet-assignment/image_labels.csv',\n",
       " 'input_video': '../input/nfl-health-and-safety-helmet-assignment/train/',\n",
       " 'label_video': '../input/nfl-health-and-safety-helmet-assignment/train_labels.csv',\n",
       " 'output_path': './train/',\n",
       " 'model': 'tf_efficientnetv2_s_in21k',\n",
       " 'size': 128,\n",
       " 'height': 4,\n",
       " 'width': 4,\n",
       " 'batch_size': 256,\n",
       " 'epochs': 5,\n",
       " 'lr': 0.001,\n",
       " 'weight_decay': 0.0001,\n",
       " 'accum_iter': 1,\n",
       " 'early_stopping': 10,\n",
       " 'verbose_step': 1,\n",
       " 'num_workers': 4}"
      ]
     },
     "execution_count": 3,
     "metadata": {},
     "output_type": "execute_result"
    }
   ],
   "source": [
    "CFG = {\n",
    "    \"seed\"        : 42,\n",
    "    \"make_dataset\": False,\n",
    "    \"save_zip\"    : True,\n",
    "    \"train_model\" : False,\n",
    "    'device'      : 'cuda:0',\n",
    "    \"input_img\"   : '../input/nfl-health-and-safety-helmet-assignment/images/',\n",
    "    \"label_img\"   : '../input/nfl-health-and-safety-helmet-assignment/image_labels.csv',\n",
    "    \"input_video\" : '../input/nfl-health-and-safety-helmet-assignment/train/',\n",
    "    \"label_video\" : '../input/nfl-health-and-safety-helmet-assignment/train_labels.csv',\n",
    "    \"output_path\" : './train/',\n",
    "    \"model\"       : \"tf_efficientnetv2_s_in21k\",\n",
    "    \"size\"        : 128,\n",
    "    \"height\"      : 4,\n",
    "    \"width\"       : 4,\n",
    "    \"batch_size\"  : 256,\n",
    "    \"epochs\"      : 5,\n",
    "    \"lr\"          : 0.001,\n",
    "    'weight_decay': 1e-4,\n",
    "    \"accum_iter\"  : 1,\n",
    "    'early_stopping': 10,\n",
    "    'verbose_step'  : 1,\n",
    "    \"num_workers\"   : 4\n",
    "}\n",
    "\n",
    "CFG"
   ]
  },
  {
   "cell_type": "code",
   "execution_count": 4,
   "id": "5bb3e40d",
   "metadata": {
    "execution": {
     "iopub.execute_input": "2021-11-01T04:01:57.200915Z",
     "iopub.status.busy": "2021-11-01T04:01:57.200203Z",
     "iopub.status.idle": "2021-11-01T04:01:57.209035Z",
     "shell.execute_reply": "2021-11-01T04:01:57.209542Z",
     "shell.execute_reply.started": "2021-11-01T02:37:30.817492Z"
    },
    "papermill": {
     "duration": 0.033056,
     "end_time": "2021-11-01T04:01:57.209738",
     "exception": false,
     "start_time": "2021-11-01T04:01:57.176682",
     "status": "completed"
    },
    "tags": []
   },
   "outputs": [],
   "source": [
    "def seed_everything(seed = 42):\n",
    "    '''Sets the seed of the entire notebook so results are the same every time we run.\n",
    "    This is for REPRODUCIBILITY.'''\n",
    "    np.random.seed(seed)\n",
    "    random.seed(seed)\n",
    "    torch.manual_seed(seed)\n",
    "    torch.cuda.manual_seed(seed)\n",
    "    # When running on the CuDNN backend, two further options must be set\n",
    "    torch.backends.cudnn.deterministic = True\n",
    "    torch.backends.cudnn.benchmark = False\n",
    "    # Set a fixed value for the hash seed\n",
    "    os.environ['PYTHONHASHSEED'] = str(seed)\n",
    "    \n",
    "seed_everything(CFG[\"seed\"])"
   ]
  },
  {
   "cell_type": "code",
   "execution_count": 5,
   "id": "e182ebb5",
   "metadata": {
    "execution": {
     "iopub.execute_input": "2021-11-01T04:01:57.257616Z",
     "iopub.status.busy": "2021-11-01T04:01:57.256985Z",
     "iopub.status.idle": "2021-11-01T04:01:57.259133Z",
     "shell.execute_reply": "2021-11-01T04:01:57.259670Z",
     "shell.execute_reply.started": "2021-11-01T02:39:30.564778Z"
    },
    "papermill": {
     "duration": 0.02855,
     "end_time": "2021-11-01T04:01:57.259835",
     "exception": false,
     "start_time": "2021-11-01T04:01:57.231285",
     "status": "completed"
    },
    "tags": []
   },
   "outputs": [],
   "source": [
    "def get_img(path):\n",
    "    im_bgr = cv2.imread(path)\n",
    "    im_rgb = im_bgr[:, :, ::-1]\n",
    "    return im_rgb"
   ]
  },
  {
   "cell_type": "markdown",
   "id": "8555df30",
   "metadata": {
    "papermill": {
     "duration": 0.021594,
     "end_time": "2021-11-01T04:01:57.302791",
     "exception": false,
     "start_time": "2021-11-01T04:01:57.281197",
     "status": "completed"
    },
    "tags": []
   },
   "source": [
    "# Load data and make training data"
   ]
  },
  {
   "cell_type": "code",
   "execution_count": 6,
   "id": "b9b84df5",
   "metadata": {
    "execution": {
     "iopub.execute_input": "2021-11-01T04:01:57.348743Z",
     "iopub.status.busy": "2021-11-01T04:01:57.348216Z",
     "iopub.status.idle": "2021-11-01T04:02:02.719163Z",
     "shell.execute_reply": "2021-11-01T04:02:02.718533Z",
     "shell.execute_reply.started": "2021-11-01T02:37:30.834994Z"
    },
    "papermill": {
     "duration": 5.394837,
     "end_time": "2021-11-01T04:02:02.719330",
     "exception": false,
     "start_time": "2021-11-01T04:01:57.324493",
     "status": "completed"
    },
    "tags": []
   },
   "outputs": [
    {
     "name": "stdout",
     "output_type": "stream",
     "text": [
      "(946783, 15) 52142\n"
     ]
    },
    {
     "data": {
      "text/html": [
       "<div>\n",
       "<style scoped>\n",
       "    .dataframe tbody tr th:only-of-type {\n",
       "        vertical-align: middle;\n",
       "    }\n",
       "\n",
       "    .dataframe tbody tr th {\n",
       "        vertical-align: top;\n",
       "    }\n",
       "\n",
       "    .dataframe thead th {\n",
       "        text-align: right;\n",
       "    }\n",
       "</style>\n",
       "<table border=\"1\" class=\"dataframe\">\n",
       "  <thead>\n",
       "    <tr style=\"text-align: right;\">\n",
       "      <th></th>\n",
       "      <th>video_frame</th>\n",
       "      <th>gameKey</th>\n",
       "      <th>playID</th>\n",
       "      <th>view</th>\n",
       "      <th>video</th>\n",
       "      <th>frame</th>\n",
       "      <th>label</th>\n",
       "      <th>left</th>\n",
       "      <th>width</th>\n",
       "      <th>top</th>\n",
       "      <th>height</th>\n",
       "      <th>impactType</th>\n",
       "      <th>isDefinitiveImpact</th>\n",
       "      <th>isSidelinePlayer</th>\n",
       "      <th>path</th>\n",
       "    </tr>\n",
       "  </thead>\n",
       "  <tbody>\n",
       "    <tr>\n",
       "      <th>0</th>\n",
       "      <td>57583_000082_Endzone_1</td>\n",
       "      <td>57583</td>\n",
       "      <td>82</td>\n",
       "      <td>Endzone</td>\n",
       "      <td>57583_000082_Endzone.mp4</td>\n",
       "      <td>1</td>\n",
       "      <td>H90</td>\n",
       "      <td>245</td>\n",
       "      <td>21</td>\n",
       "      <td>327</td>\n",
       "      <td>29</td>\n",
       "      <td>None</td>\n",
       "      <td>False</td>\n",
       "      <td>False</td>\n",
       "      <td>./train/57583_000082_Endzone/57583_000082_Endz...</td>\n",
       "    </tr>\n",
       "    <tr>\n",
       "      <th>1</th>\n",
       "      <td>57583_000082_Endzone_1</td>\n",
       "      <td>57583</td>\n",
       "      <td>82</td>\n",
       "      <td>Endzone</td>\n",
       "      <td>57583_000082_Endzone.mp4</td>\n",
       "      <td>1</td>\n",
       "      <td>V79</td>\n",
       "      <td>310</td>\n",
       "      <td>21</td>\n",
       "      <td>345</td>\n",
       "      <td>12</td>\n",
       "      <td>None</td>\n",
       "      <td>False</td>\n",
       "      <td>False</td>\n",
       "      <td>./train/57583_000082_Endzone/57583_000082_Endz...</td>\n",
       "    </tr>\n",
       "  </tbody>\n",
       "</table>\n",
       "</div>"
      ],
      "text/plain": [
       "              video_frame  gameKey  playID     view                     video  \\\n",
       "0  57583_000082_Endzone_1    57583      82  Endzone  57583_000082_Endzone.mp4   \n",
       "1  57583_000082_Endzone_1    57583      82  Endzone  57583_000082_Endzone.mp4   \n",
       "\n",
       "   frame label  left  width  top  height impactType  isDefinitiveImpact  \\\n",
       "0      1   H90   245     21  327      29       None               False   \n",
       "1      1   V79   310     21  345      12       None               False   \n",
       "\n",
       "   isSidelinePlayer                                               path  \n",
       "0             False  ./train/57583_000082_Endzone/57583_000082_Endz...  \n",
       "1             False  ./train/57583_000082_Endzone/57583_000082_Endz...  "
      ]
     },
     "execution_count": 6,
     "metadata": {},
     "output_type": "execute_result"
    }
   ],
   "source": [
    "# Load video label csv file\n",
    "df_video_images = pd.read_csv(CFG['label_video'])\n",
    "df_video_images[\"path\"] = CFG[\"output_path\"] + df_video_images.video.str.replace(\".mp4\",\"\") + \"/\" + df_video_images.video_frame + \".jpg\"\n",
    "df_video_images = df_video_images[df_video_images.isSidelinePlayer==False].reset_index(drop=True)\n",
    "\n",
    "print(df_video_images.shape, df_video_images.path.nunique())\n",
    "df_video_images.head(2)"
   ]
  },
  {
   "cell_type": "code",
   "execution_count": 7,
   "id": "5f4804b0",
   "metadata": {
    "execution": {
     "iopub.execute_input": "2021-11-01T04:02:02.769937Z",
     "iopub.status.busy": "2021-11-01T04:02:02.768980Z",
     "iopub.status.idle": "2021-11-01T04:08:47.986036Z",
     "shell.execute_reply": "2021-11-01T04:08:47.986642Z",
     "shell.execute_reply.started": "2021-11-01T02:37:35.198847Z"
    },
    "papermill": {
     "duration": 405.245756,
     "end_time": "2021-11-01T04:08:47.987561",
     "exception": false,
     "start_time": "2021-11-01T04:02:02.741805",
     "status": "completed"
    },
    "tags": []
   },
   "outputs": [
    {
     "name": "stderr",
     "output_type": "stream",
     "text": [
      "100%|██████████| 120/120 [06:44<00:00,  3.37s/it]\n"
     ]
    }
   ],
   "source": [
    "!rm -rf {CFG[\"output_path\"]}\n",
    "\n",
    "for f in tqdm(os.listdir(CFG['input_video'])):\n",
    "    in_path      = CFG[\"input_video\"] + f\n",
    "    out_img_path = CFG[\"output_path\"] + f[:-4]\n",
    "    image_name   = f[:-4]\n",
    "    extention    = \"jpg\"\n",
    "    # Make save directories\n",
    "    os.makedirs(out_img_path, exist_ok=True)\n",
    "    # Split into frames\n",
    "    cmd = 'ffmpeg -i \\\"{}\\\" -qscale:v 2 \\\"{}/{}_%d.{}\\\"'.format(in_path, out_img_path, image_name, extention)\n",
    "    subprocess.call(cmd, shell=True)"
   ]
  },
  {
   "cell_type": "code",
   "execution_count": 8,
   "id": "b19564d9",
   "metadata": {
    "execution": {
     "iopub.execute_input": "2021-11-01T04:08:48.120549Z",
     "iopub.status.busy": "2021-11-01T04:08:48.119530Z",
     "iopub.status.idle": "2021-11-01T04:08:48.907722Z",
     "shell.execute_reply": "2021-11-01T04:08:48.908204Z",
     "shell.execute_reply.started": "2021-11-01T02:37:41.110795Z"
    },
    "papermill": {
     "duration": 0.856543,
     "end_time": "2021-11-01T04:08:48.908366",
     "exception": false,
     "start_time": "2021-11-01T04:08:48.051823",
     "status": "completed"
    },
    "tags": []
   },
   "outputs": [
    {
     "name": "stdout",
     "output_type": "stream",
     "text": [
      "(235803, 5) 12991\n"
     ]
    },
    {
     "data": {
      "text/html": [
       "<div>\n",
       "<style scoped>\n",
       "    .dataframe tbody tr th:only-of-type {\n",
       "        vertical-align: middle;\n",
       "    }\n",
       "\n",
       "    .dataframe tbody tr th {\n",
       "        vertical-align: top;\n",
       "    }\n",
       "\n",
       "    .dataframe thead th {\n",
       "        text-align: right;\n",
       "    }\n",
       "</style>\n",
       "<table border=\"1\" class=\"dataframe\">\n",
       "  <thead>\n",
       "    <tr style=\"text-align: right;\">\n",
       "      <th></th>\n",
       "      <th>path</th>\n",
       "      <th>left</th>\n",
       "      <th>width</th>\n",
       "      <th>top</th>\n",
       "      <th>height</th>\n",
       "    </tr>\n",
       "  </thead>\n",
       "  <tbody>\n",
       "    <tr>\n",
       "      <th>0</th>\n",
       "      <td>./train/57583_000082_Endzone/57583_000082_Endz...</td>\n",
       "      <td>153</td>\n",
       "      <td>29</td>\n",
       "      <td>318</td>\n",
       "      <td>31</td>\n",
       "    </tr>\n",
       "    <tr>\n",
       "      <th>1</th>\n",
       "      <td>./train/57583_000082_Endzone/57583_000082_Endz...</td>\n",
       "      <td>197</td>\n",
       "      <td>23</td>\n",
       "      <td>315</td>\n",
       "      <td>21</td>\n",
       "    </tr>\n",
       "  </tbody>\n",
       "</table>\n",
       "</div>"
      ],
      "text/plain": [
       "                                                path  left  width  top  height\n",
       "0  ./train/57583_000082_Endzone/57583_000082_Endz...   153     29  318      31\n",
       "1  ./train/57583_000082_Endzone/57583_000082_Endz...   197     23  315      21"
      ]
     },
     "execution_count": 8,
     "metadata": {},
     "output_type": "execute_result"
    }
   ],
   "source": [
    "target_imgs = glob(CFG[\"output_path\"] + \"/*/*.jpg\")\n",
    "df_video_images = df_video_images[df_video_images.path.isin(target_imgs)]\n",
    "df_video_images = df_video_images[df_video_images.frame % 4 == 0].reset_index(drop=True)\n",
    "df_video_images = df_video_images[[\"path\",\"left\",\"width\",\"top\",\"height\"]]\n",
    "\n",
    "print(df_video_images.shape, df_video_images.path.nunique())\n",
    "df_video_images.head(2)"
   ]
  },
  {
   "cell_type": "code",
   "execution_count": 9,
   "id": "751eec6d",
   "metadata": {
    "execution": {
     "iopub.execute_input": "2021-11-01T04:08:49.036076Z",
     "iopub.status.busy": "2021-11-01T04:08:49.035389Z",
     "iopub.status.idle": "2021-11-01T04:08:49.554484Z",
     "shell.execute_reply": "2021-11-01T04:08:49.553336Z",
     "shell.execute_reply.started": "2021-11-01T02:37:43.457154Z"
    },
    "papermill": {
     "duration": 0.585414,
     "end_time": "2021-11-01T04:08:49.554681",
     "exception": false,
     "start_time": "2021-11-01T04:08:48.969267",
     "status": "completed"
    },
    "tags": []
   },
   "outputs": [
    {
     "name": "stdout",
     "output_type": "stream",
     "text": [
      "(89502, 5) 4965\n"
     ]
    },
    {
     "data": {
      "text/html": [
       "<div>\n",
       "<style scoped>\n",
       "    .dataframe tbody tr th:only-of-type {\n",
       "        vertical-align: middle;\n",
       "    }\n",
       "\n",
       "    .dataframe tbody tr th {\n",
       "        vertical-align: top;\n",
       "    }\n",
       "\n",
       "    .dataframe thead th {\n",
       "        text-align: right;\n",
       "    }\n",
       "</style>\n",
       "<table border=\"1\" class=\"dataframe\">\n",
       "  <thead>\n",
       "    <tr style=\"text-align: right;\">\n",
       "      <th></th>\n",
       "      <th>path</th>\n",
       "      <th>left</th>\n",
       "      <th>width</th>\n",
       "      <th>top</th>\n",
       "      <th>height</th>\n",
       "    </tr>\n",
       "  </thead>\n",
       "  <tbody>\n",
       "    <tr>\n",
       "      <th>0</th>\n",
       "      <td>../input/nfl-health-and-safety-helmet-assignme...</td>\n",
       "      <td>1099</td>\n",
       "      <td>16</td>\n",
       "      <td>456</td>\n",
       "      <td>15</td>\n",
       "    </tr>\n",
       "    <tr>\n",
       "      <th>1</th>\n",
       "      <td>../input/nfl-health-and-safety-helmet-assignme...</td>\n",
       "      <td>1117</td>\n",
       "      <td>15</td>\n",
       "      <td>478</td>\n",
       "      <td>16</td>\n",
       "    </tr>\n",
       "  </tbody>\n",
       "</table>\n",
       "</div>"
      ],
      "text/plain": [
       "                                                path  left  width  top  height\n",
       "0  ../input/nfl-health-and-safety-helmet-assignme...  1099     16  456      15\n",
       "1  ../input/nfl-health-and-safety-helmet-assignme...  1117     15  478      16"
      ]
     },
     "execution_count": 9,
     "metadata": {},
     "output_type": "execute_result"
    }
   ],
   "source": [
    "# Load image level csv file\n",
    "df_images = pd.read_csv(CFG['label_img'])\n",
    "df_images = df_images[df_images.label != \"Helmet-Sideline\"].reset_index(drop=True)\n",
    "df_images[\"path\"] = CFG['input_img'] + df_images.image\n",
    "\n",
    "paths = df_images.path.unique()\n",
    "random.shuffle(paths)\n",
    "df_images = df_images[df_images.path.isin(paths[:int(len(paths)/2)])]\n",
    "df_images = df_images[[\"path\",\"left\",\"width\",\"top\",\"height\"]]\n",
    "\n",
    "print(df_images.shape, df_images.path.nunique())\n",
    "df_images.head(2)"
   ]
  },
  {
   "cell_type": "code",
   "execution_count": 10,
   "id": "222f383b",
   "metadata": {
    "execution": {
     "iopub.execute_input": "2021-11-01T04:08:49.716958Z",
     "iopub.status.busy": "2021-11-01T04:08:49.716044Z",
     "iopub.status.idle": "2021-11-01T04:08:49.894832Z",
     "shell.execute_reply": "2021-11-01T04:08:49.894264Z",
     "shell.execute_reply.started": "2021-11-01T02:37:44.570007Z"
    },
    "papermill": {
     "duration": 0.263737,
     "end_time": "2021-11-01T04:08:49.894982",
     "exception": false,
     "start_time": "2021-11-01T04:08:49.631245",
     "status": "completed"
    },
    "tags": []
   },
   "outputs": [
    {
     "name": "stdout",
     "output_type": "stream",
     "text": [
      "(325305, 11) 17956\n"
     ]
    },
    {
     "data": {
      "text/html": [
       "<div>\n",
       "<style scoped>\n",
       "    .dataframe tbody tr th:only-of-type {\n",
       "        vertical-align: middle;\n",
       "    }\n",
       "\n",
       "    .dataframe tbody tr th {\n",
       "        vertical-align: top;\n",
       "    }\n",
       "\n",
       "    .dataframe thead th {\n",
       "        text-align: right;\n",
       "    }\n",
       "</style>\n",
       "<table border=\"1\" class=\"dataframe\">\n",
       "  <thead>\n",
       "    <tr style=\"text-align: right;\">\n",
       "      <th></th>\n",
       "      <th>path</th>\n",
       "      <th>left</th>\n",
       "      <th>width</th>\n",
       "      <th>top</th>\n",
       "      <th>height</th>\n",
       "      <th>right</th>\n",
       "      <th>bottom</th>\n",
       "      <th>x_center</th>\n",
       "      <th>y_center</th>\n",
       "      <th>label</th>\n",
       "      <th>label_id</th>\n",
       "    </tr>\n",
       "  </thead>\n",
       "  <tbody>\n",
       "    <tr>\n",
       "      <th>0</th>\n",
       "      <td>./train/57583_000082_Endzone/57583_000082_Endz...</td>\n",
       "      <td>153</td>\n",
       "      <td>29</td>\n",
       "      <td>318</td>\n",
       "      <td>31</td>\n",
       "      <td>182</td>\n",
       "      <td>349</td>\n",
       "      <td>167</td>\n",
       "      <td>333</td>\n",
       "      <td>Helmet</td>\n",
       "      <td>0</td>\n",
       "    </tr>\n",
       "    <tr>\n",
       "      <th>1</th>\n",
       "      <td>./train/57583_000082_Endzone/57583_000082_Endz...</td>\n",
       "      <td>197</td>\n",
       "      <td>23</td>\n",
       "      <td>315</td>\n",
       "      <td>21</td>\n",
       "      <td>220</td>\n",
       "      <td>336</td>\n",
       "      <td>208</td>\n",
       "      <td>325</td>\n",
       "      <td>Helmet</td>\n",
       "      <td>0</td>\n",
       "    </tr>\n",
       "    <tr>\n",
       "      <th>2</th>\n",
       "      <td>./train/57583_000082_Endzone/57583_000082_Endz...</td>\n",
       "      <td>359</td>\n",
       "      <td>15</td>\n",
       "      <td>0</td>\n",
       "      <td>19</td>\n",
       "      <td>374</td>\n",
       "      <td>19</td>\n",
       "      <td>366</td>\n",
       "      <td>9</td>\n",
       "      <td>Helmet</td>\n",
       "      <td>0</td>\n",
       "    </tr>\n",
       "    <tr>\n",
       "      <th>3</th>\n",
       "      <td>./train/57583_000082_Endzone/57583_000082_Endz...</td>\n",
       "      <td>440</td>\n",
       "      <td>23</td>\n",
       "      <td>296</td>\n",
       "      <td>29</td>\n",
       "      <td>463</td>\n",
       "      <td>325</td>\n",
       "      <td>451</td>\n",
       "      <td>310</td>\n",
       "      <td>Helmet</td>\n",
       "      <td>0</td>\n",
       "    </tr>\n",
       "    <tr>\n",
       "      <th>4</th>\n",
       "      <td>./train/57583_000082_Endzone/57583_000082_Endz...</td>\n",
       "      <td>467</td>\n",
       "      <td>23</td>\n",
       "      <td>294</td>\n",
       "      <td>22</td>\n",
       "      <td>490</td>\n",
       "      <td>316</td>\n",
       "      <td>478</td>\n",
       "      <td>305</td>\n",
       "      <td>Helmet</td>\n",
       "      <td>0</td>\n",
       "    </tr>\n",
       "  </tbody>\n",
       "</table>\n",
       "</div>"
      ],
      "text/plain": [
       "                                                path  left  width  top  \\\n",
       "0  ./train/57583_000082_Endzone/57583_000082_Endz...   153     29  318   \n",
       "1  ./train/57583_000082_Endzone/57583_000082_Endz...   197     23  315   \n",
       "2  ./train/57583_000082_Endzone/57583_000082_Endz...   359     15    0   \n",
       "3  ./train/57583_000082_Endzone/57583_000082_Endz...   440     23  296   \n",
       "4  ./train/57583_000082_Endzone/57583_000082_Endz...   467     23  294   \n",
       "\n",
       "   height  right  bottom  x_center  y_center   label  label_id  \n",
       "0      31    182     349       167       333  Helmet         0  \n",
       "1      21    220     336       208       325  Helmet         0  \n",
       "2      19    374      19       366         9  Helmet         0  \n",
       "3      29    463     325       451       310  Helmet         0  \n",
       "4      22    490     316       478       305  Helmet         0  "
      ]
     },
     "execution_count": 10,
     "metadata": {},
     "output_type": "execute_result"
    }
   ],
   "source": [
    "df_all_images = pd.concat([df_video_images, df_images]).reset_index(drop=True)\n",
    "df_all_images[\"right\"]    = df_all_images.left + df_all_images.width\n",
    "df_all_images[\"bottom\"]   = df_all_images.top  + df_all_images.height\n",
    "df_all_images[\"x_center\"] = df_all_images.left + (df_all_images.width  / 2).astype(int)\n",
    "df_all_images[\"y_center\"] = df_all_images.top  + (df_all_images.height / 2).astype(int)\n",
    "df_all_images[\"label\"]    = \"Helmet\"\n",
    "df_all_images[\"label_id\"] = 0\n",
    "\n",
    "print(df_all_images.shape, df_all_images.path.nunique())\n",
    "df_all_images.head()"
   ]
  },
  {
   "cell_type": "code",
   "execution_count": 11,
   "id": "3aca39a4",
   "metadata": {
    "execution": {
     "iopub.execute_input": "2021-11-01T04:08:50.031083Z",
     "iopub.status.busy": "2021-11-01T04:08:50.030353Z",
     "iopub.status.idle": "2021-11-01T04:08:50.032806Z",
     "shell.execute_reply": "2021-11-01T04:08:50.033437Z",
     "shell.execute_reply.started": "2021-11-01T02:37:45.816656Z"
    },
    "papermill": {
     "duration": 0.077284,
     "end_time": "2021-11-01T04:08:50.033640",
     "exception": false,
     "start_time": "2021-11-01T04:08:49.956356",
     "status": "completed"
    },
    "tags": []
   },
   "outputs": [],
   "source": [
    "def check(l, r, t, b):\n",
    "    if l < 0 or 1280 < r:\n",
    "        return False\n",
    "    if t < 0 or 720 < b:\n",
    "        return False\n",
    "    return True\n",
    "\n",
    "if CFG[\"make_dataset\"]:\n",
    "    train_bboxes = []\n",
    "    for f in tqdm(df_all_images.path.unique()):\n",
    "        df  = df_all_images[df_all_images.path==f]\n",
    "        df  = df.sample(int(df.shape[0]/4)).reset_index(drop=True)\n",
    "        for i, (l, w, t, h) in df[[\"left\",\"width\",\"top\",\"height\"]].iterrows():\n",
    "            r = l + w\n",
    "            b = t + h\n",
    "            # positive data\n",
    "            if check(l, r, t, b):\n",
    "                train_bboxes.append([f, l, r, t, b, 1])\n",
    "            # negative data\n",
    "            t_down,  b_down  = t + h, b + h\n",
    "            #t_up,    b_up    = t - h, b - h\n",
    "            l_left,  r_left  = l - int(w/2), r - int(w/2)\n",
    "            l_right, r_right = l + int(w/2), r + int(w/2)\n",
    "            if check(l, r, t_down, b_down):\n",
    "                train_bboxes.append([f, l, r, t_down, b_down, 0])\n",
    "            #if check(l, r, t_up,   b_up):\n",
    "            #    train_bboxes.append([f, l, r, t_up,   b_up,   0])\n",
    "            if check(l_left,  r_left,  t, b):\n",
    "                train_bboxes.append([f, l_left,  r_left,  t, b, 0])\n",
    "            if check(l_right, r_right, t, b):\n",
    "                train_bboxes.append([f, l_right, r_right, t, b, 0])"
   ]
  },
  {
   "cell_type": "code",
   "execution_count": 12,
   "id": "6c9811a6",
   "metadata": {
    "execution": {
     "iopub.execute_input": "2021-11-01T04:08:50.164269Z",
     "iopub.status.busy": "2021-11-01T04:08:50.163630Z",
     "iopub.status.idle": "2021-11-01T04:08:50.169900Z",
     "shell.execute_reply": "2021-11-01T04:08:50.170732Z",
     "shell.execute_reply.started": "2021-11-01T02:37:46.720485Z"
    },
    "papermill": {
     "duration": 0.073751,
     "end_time": "2021-11-01T04:08:50.170939",
     "exception": false,
     "start_time": "2021-11-01T04:08:50.097188",
     "status": "completed"
    },
    "tags": []
   },
   "outputs": [],
   "source": [
    "if CFG[\"make_dataset\"]:\n",
    "    df_train_bbox = pd.DataFrame(train_bboxes, columns=[\"path\",\"left\",\"right\",\"top\",\"bottom\",\"label\"])\n",
    "    df_train_bbox[\"conf\"] = 0.5\n",
    "    df_train_bbox.loc[df_train_bbox.label==1, \"conf\"] = 1\n",
    "    df_train_bbox[[\"left\",\"right\"]] /= 1280\n",
    "    df_train_bbox[[\"top\",\"bottom\"]] /= 720\n",
    "\n",
    "    print(df_train_bbox.shape)\n",
    "    df_train_bbox.head()"
   ]
  },
  {
   "cell_type": "code",
   "execution_count": 13,
   "id": "a9f8a2d2",
   "metadata": {
    "execution": {
     "iopub.execute_input": "2021-11-01T04:08:50.301141Z",
     "iopub.status.busy": "2021-11-01T04:08:50.300491Z",
     "iopub.status.idle": "2021-11-01T04:08:50.307925Z",
     "shell.execute_reply": "2021-11-01T04:08:50.308476Z",
     "shell.execute_reply.started": "2021-11-01T02:37:48.461652Z"
    },
    "papermill": {
     "duration": 0.074057,
     "end_time": "2021-11-01T04:08:50.308663",
     "exception": false,
     "start_time": "2021-11-01T04:08:50.234606",
     "status": "completed"
    },
    "tags": []
   },
   "outputs": [],
   "source": [
    "weights = None\n",
    "iou_thr = 0.3\n",
    "\n",
    "if CFG[\"make_dataset\"]:\n",
    "    df_train_bbox_removed = pd.DataFrame()\n",
    "    for p in tqdm(df_train_bbox.path.unique()):\n",
    "        df = df_train_bbox[df_train_bbox.path==p].copy()\n",
    "        boxes  = [np.array(df[[\"left\",\"top\",\"right\",\"bottom\"]]).tolist()]\n",
    "        scores = [list(np.array(df.conf))]\n",
    "        labels = [list(np.ones(df.shape[0]))]\n",
    "        boxes, scores, labels = nms(boxes, scores, labels, weights=weights, iou_thr=iou_thr)\n",
    "        df_nms = pd.DataFrame(np.hstack([boxes, scores.reshape(-1,1)]))\n",
    "        df_nms[\"path\"] = p\n",
    "        df_train_bbox_removed = df_train_bbox_removed.append(df_nms)"
   ]
  },
  {
   "cell_type": "code",
   "execution_count": 14,
   "id": "7e766b27",
   "metadata": {
    "execution": {
     "iopub.execute_input": "2021-11-01T04:08:50.438200Z",
     "iopub.status.busy": "2021-11-01T04:08:50.437572Z",
     "iopub.status.idle": "2021-11-01T04:08:51.771470Z",
     "shell.execute_reply": "2021-11-01T04:08:51.770823Z",
     "shell.execute_reply.started": "2021-11-01T02:37:50.305189Z"
    },
    "papermill": {
     "duration": 1.398922,
     "end_time": "2021-11-01T04:08:51.771664",
     "exception": false,
     "start_time": "2021-11-01T04:08:50.372742",
     "status": "completed"
    },
    "tags": []
   },
   "outputs": [],
   "source": [
    "if CFG[\"make_dataset\"]:\n",
    "    df_train = df_train_bbox_removed.reset_index(drop=True)\n",
    "    df_train.columns = [\"left\",\"top\",\"right\",\"bottom\",\"conf\",\"path\"]\n",
    "    df_train[[\"left\",\"right\"]] = (df_train[[\"left\",\"right\"]] * 1280).astype(int)\n",
    "    df_train[[\"top\",\"bottom\"]] = (df_train[[\"top\",\"bottom\"]] *  720).astype(int)\n",
    "    df_train[\"width\"]  = df_train.right  - df_train.left\n",
    "    df_train[\"height\"] = df_train.bottom - df_train.top\n",
    "    df_train = df_train[[\"path\",\"left\",\"right\",\"width\",\"top\",\"bottom\",\"height\",\"conf\"]]\n",
    "    df_train[\"label\"]  = 1\n",
    "    df_train.loc[df_train.conf==0.5, \"label\"] = 0\n",
    "\n",
    "    df_train.right  = df_train.left + df_train.width  + (df_train.width /2*(CFG[\"width\"]  -1)).astype(int)\n",
    "    df_train.bottom = df_train.top  + df_train.height + (df_train.height/2*(CFG[\"height\"] -1)).astype(int)\n",
    "    df_train.left   = df_train.left - (df_train.width /2*(CFG[\"width\"]  -1)).astype(int)\n",
    "    df_train.top    = df_train.top  - (df_train.height/2*(CFG[\"height\"] -1)).astype(int)\n",
    "\n",
    "    df_train = df_train[(0<=df_train.left)&(df_train.right<=1280)&(0<=df_train.top)&(df_train.bottom<=720)]\n",
    "    df_train.to_csv(\"train.csv\", index=False)\n",
    "else:\n",
    "    df_train = pd.read_csv(\"../input/nfl-helmet-assignment-cnn-models/train.csv\")\n",
    "    df_train.to_csv(\"train.csv\", index=False)"
   ]
  },
  {
   "cell_type": "code",
   "execution_count": 15,
   "id": "5e9299dc",
   "metadata": {
    "execution": {
     "iopub.execute_input": "2021-11-01T04:08:51.911395Z",
     "iopub.status.busy": "2021-11-01T04:08:51.910786Z",
     "iopub.status.idle": "2021-11-01T04:08:51.915514Z",
     "shell.execute_reply": "2021-11-01T04:08:51.915035Z",
     "shell.execute_reply.started": "2021-11-01T02:37:51.155516Z"
    },
    "papermill": {
     "duration": 0.080842,
     "end_time": "2021-11-01T04:08:51.915671",
     "exception": false,
     "start_time": "2021-11-01T04:08:51.834829",
     "status": "completed"
    },
    "tags": []
   },
   "outputs": [
    {
     "name": "stdout",
     "output_type": "stream",
     "text": [
      "(143023, 9)\n"
     ]
    },
    {
     "data": {
      "text/html": [
       "<div>\n",
       "<style scoped>\n",
       "    .dataframe tbody tr th:only-of-type {\n",
       "        vertical-align: middle;\n",
       "    }\n",
       "\n",
       "    .dataframe tbody tr th {\n",
       "        vertical-align: top;\n",
       "    }\n",
       "\n",
       "    .dataframe thead th {\n",
       "        text-align: right;\n",
       "    }\n",
       "</style>\n",
       "<table border=\"1\" class=\"dataframe\">\n",
       "  <thead>\n",
       "    <tr style=\"text-align: right;\">\n",
       "      <th></th>\n",
       "      <th>path</th>\n",
       "      <th>left</th>\n",
       "      <th>right</th>\n",
       "      <th>width</th>\n",
       "      <th>top</th>\n",
       "      <th>bottom</th>\n",
       "      <th>height</th>\n",
       "      <th>conf</th>\n",
       "      <th>label</th>\n",
       "    </tr>\n",
       "  </thead>\n",
       "  <tbody>\n",
       "    <tr>\n",
       "      <th>0</th>\n",
       "      <td>./train/57583_000082_Endzone/57583_000082_Endz...</td>\n",
       "      <td>163</td>\n",
       "      <td>254</td>\n",
       "      <td>23</td>\n",
       "      <td>284</td>\n",
       "      <td>367</td>\n",
       "      <td>21</td>\n",
       "      <td>1.0</td>\n",
       "      <td>1</td>\n",
       "    </tr>\n",
       "    <tr>\n",
       "      <th>1</th>\n",
       "      <td>./train/57583_000082_Endzone/57583_000082_Endz...</td>\n",
       "      <td>468</td>\n",
       "      <td>556</td>\n",
       "      <td>22</td>\n",
       "      <td>197</td>\n",
       "      <td>309</td>\n",
       "      <td>28</td>\n",
       "      <td>1.0</td>\n",
       "      <td>1</td>\n",
       "    </tr>\n",
       "  </tbody>\n",
       "</table>\n",
       "</div>"
      ],
      "text/plain": [
       "                                                path  left  right  width  top  \\\n",
       "0  ./train/57583_000082_Endzone/57583_000082_Endz...   163    254     23  284   \n",
       "1  ./train/57583_000082_Endzone/57583_000082_Endz...   468    556     22  197   \n",
       "\n",
       "   bottom  height  conf  label  \n",
       "0     367      21   1.0      1  \n",
       "1     309      28   1.0      1  "
      ]
     },
     "execution_count": 15,
     "metadata": {},
     "output_type": "execute_result"
    }
   ],
   "source": [
    "print(df_train.shape)\n",
    "df_train.head(2)"
   ]
  },
  {
   "cell_type": "code",
   "execution_count": 16,
   "id": "8b8ebe93",
   "metadata": {
    "execution": {
     "iopub.execute_input": "2021-11-01T04:08:52.079380Z",
     "iopub.status.busy": "2021-11-01T04:08:52.078757Z",
     "iopub.status.idle": "2021-11-01T04:15:04.115163Z",
     "shell.execute_reply": "2021-11-01T04:15:04.114508Z",
     "shell.execute_reply.started": "2021-11-01T03:00:32.054527Z"
    },
    "papermill": {
     "duration": 372.135728,
     "end_time": "2021-11-01T04:15:04.115329",
     "exception": false,
     "start_time": "2021-11-01T04:08:51.979601",
     "status": "completed"
    },
    "tags": []
   },
   "outputs": [
    {
     "name": "stderr",
     "output_type": "stream",
     "text": [
      "100%|██████████| 143023/143023 [05:50<00:00, 408.36it/s]\n"
     ]
    }
   ],
   "source": [
    "if CFG[\"save_zip\"]:\n",
    "    \n",
    "    df_train = df_train.sort_values(\"path\").reset_index(drop=True)\n",
    "    \n",
    "    !rm -rf ./label0\n",
    "    !rm -rf ./label1    \n",
    "    os.makedirs(\"./label0\", exist_ok=True)\n",
    "    os.makedirs(\"./label1\", exist_ok=True)\n",
    "    \n",
    "    p_old = None\n",
    "    for (p, l, r, w, t, b, h, c, label) in tqdm(np.array(df_train)):\n",
    "        if os.path.isfile(p):\n",
    "            filename = os.path.basename(p)\n",
    "            if p_old != p:\n",
    "                img   = get_img(p)\n",
    "                p_old = p\n",
    "            cut_img = img[t:b, l:r]\n",
    "            cv2.imwrite(f\"./label{label}/{filename}\", cut_img)\n",
    "\n",
    "    shutil.make_archive(\"label0\", 'zip', root_dir=\"./label0\")\n",
    "    shutil.make_archive(\"label1\", 'zip', root_dir=\"./label1\")\n",
    "    !rm -rf ./label0\n",
    "    !rm -rf ./label1"
   ]
  },
  {
   "cell_type": "markdown",
   "id": "56edb335",
   "metadata": {
    "papermill": {
     "duration": 0.975111,
     "end_time": "2021-11-01T04:15:06.095169",
     "exception": false,
     "start_time": "2021-11-01T04:15:05.120058",
     "status": "completed"
    },
    "tags": []
   },
   "source": [
    "# Define model functions"
   ]
  },
  {
   "cell_type": "code",
   "execution_count": 17,
   "id": "befa8973",
   "metadata": {
    "execution": {
     "iopub.execute_input": "2021-11-01T04:15:08.060342Z",
     "iopub.status.busy": "2021-11-01T04:15:08.059734Z",
     "iopub.status.idle": "2021-11-01T04:15:08.062021Z",
     "shell.execute_reply": "2021-11-01T04:15:08.062552Z",
     "shell.execute_reply.started": "2021-10-25T14:26:22.466464Z"
    },
    "papermill": {
     "duration": 1.014741,
     "end_time": "2021-11-01T04:15:08.062742",
     "exception": false,
     "start_time": "2021-11-01T04:15:07.048001",
     "status": "completed"
    },
    "tags": []
   },
   "outputs": [],
   "source": [
    "class Model(nn.Module):\n",
    "    def __init__(self, model_name, pretrained=True):\n",
    "        super(Model, self).__init__()\n",
    "        self.model = timm.create_model(model_name, pretrained=pretrained, in_chans=3)\n",
    "        self.n_features = self.model.classifier.in_features\n",
    "        self.model.classifier = nn.Linear(self.n_features, 1)\n",
    "\n",
    "    def forward(self, x):\n",
    "        output = self.model(x)\n",
    "        return output"
   ]
  },
  {
   "cell_type": "code",
   "execution_count": 18,
   "id": "bfc87d5f",
   "metadata": {
    "execution": {
     "iopub.execute_input": "2021-11-01T04:15:10.088051Z",
     "iopub.status.busy": "2021-11-01T04:15:10.087384Z",
     "iopub.status.idle": "2021-11-01T04:15:10.095452Z",
     "shell.execute_reply": "2021-11-01T04:15:10.096005Z",
     "shell.execute_reply.started": "2021-10-25T14:26:23.590606Z"
    },
    "papermill": {
     "duration": 0.997907,
     "end_time": "2021-11-01T04:15:10.096183",
     "exception": false,
     "start_time": "2021-11-01T04:15:09.098276",
     "status": "completed"
    },
    "tags": []
   },
   "outputs": [],
   "source": [
    "class NFLDataset(Dataset):\n",
    "    def __init__(self, df, transforms=None, output_label=True):\n",
    "        super().__init__()\n",
    "        self.df = df.reset_index(drop=True).copy()\n",
    "        self.transforms   = transforms\n",
    "        self.output_label = output_label\n",
    "        \n",
    "    def __len__(self):\n",
    "        return self.df.shape[0]\n",
    "    \n",
    "    def __getitem__(self, index: int):\n",
    "        left   = self.df.loc[index].left\n",
    "        right  = self.df.loc[index].right\n",
    "        top    = self.df.loc[index].top\n",
    "        bottom = self.df.loc[index].bottom\n",
    "        img    = get_img(self.df.loc[index].path)[top:bottom, left:right]\n",
    "        if self.transforms:\n",
    "            img = self.transforms(image=img)['image']\n",
    "        if self.output_label:\n",
    "            return img, torch.from_numpy(np.array(self.df.loc[index].label))\n",
    "        return img"
   ]
  },
  {
   "cell_type": "code",
   "execution_count": 19,
   "id": "19282f36",
   "metadata": {
    "execution": {
     "iopub.execute_input": "2021-11-01T04:15:12.046489Z",
     "iopub.status.busy": "2021-11-01T04:15:12.045809Z",
     "iopub.status.idle": "2021-11-01T04:15:12.054090Z",
     "shell.execute_reply": "2021-11-01T04:15:12.054660Z",
     "shell.execute_reply.started": "2021-10-25T14:26:24.614923Z"
    },
    "papermill": {
     "duration": 0.985156,
     "end_time": "2021-11-01T04:15:12.054826",
     "exception": false,
     "start_time": "2021-11-01T04:15:11.069670",
     "status": "completed"
    },
    "tags": []
   },
   "outputs": [],
   "source": [
    "def get_train_transforms():\n",
    "    return Compose([\n",
    "            Resize(CFG['size'], CFG['size']),\n",
    "            HorizontalFlip(p=0.5),\n",
    "            VerticalFlip(p=0.5),\n",
    "            RandomRotate90(p=0.5),\n",
    "            MotionBlur(p=0.5),\n",
    "            HueSaturationValue(hue_shift_limit=0.2, sat_shift_limit=0.2, val_shift_limit=0.2, p=0.5),\n",
    "            RGBShift(p=0.5),\n",
    "            ChannelShuffle(p=0.5),\n",
    "            RandomBrightnessContrast(brightness_limit=(-0.1,0.1), contrast_limit=(-0.1, 0.1), p=0.5),\n",
    "            Normalize(mean=[0.485, 0.456, 0.406], std=[0.229, 0.224, 0.225], max_pixel_value=255.0, p=1.0),\n",
    "            ToTensorV2(p=1.0)], p=1)\n",
    "  \n",
    "def get_valid_transforms():\n",
    "    return Compose([\n",
    "            Resize(CFG['size'], CFG['size']),\n",
    "            Normalize(mean=[0.485, 0.456, 0.406], std=[0.229, 0.224, 0.225], max_pixel_value=255.0, p=1.0),\n",
    "            ToTensorV2(p=1.0)], p=1)"
   ]
  },
  {
   "cell_type": "code",
   "execution_count": 20,
   "id": "41bcfb92",
   "metadata": {
    "execution": {
     "iopub.execute_input": "2021-11-01T04:15:14.001696Z",
     "iopub.status.busy": "2021-11-01T04:15:14.001058Z",
     "iopub.status.idle": "2021-11-01T04:15:14.007318Z",
     "shell.execute_reply": "2021-11-01T04:15:14.007903Z",
     "shell.execute_reply.started": "2021-10-25T14:26:25.741295Z"
    },
    "papermill": {
     "duration": 0.984036,
     "end_time": "2021-11-01T04:15:14.008068",
     "exception": false,
     "start_time": "2021-11-01T04:15:13.024032",
     "status": "completed"
    },
    "tags": []
   },
   "outputs": [],
   "source": [
    "def prepare_dataloader(train, valid):\n",
    "    train_ds = NFLDataset(train, transforms=get_train_transforms(), output_label=True)\n",
    "    valid_ds = NFLDataset(valid, transforms=get_valid_transforms(), output_label=True)\n",
    "    train_loader = torch.utils.data.DataLoader(train_ds,\n",
    "                                               batch_size=CFG['batch_size'],\n",
    "                                               drop_last=False,\n",
    "                                               pin_memory=False,\n",
    "                                               shuffle=True,\n",
    "                                               num_workers=CFG['num_workers'])\n",
    "    val_loader = torch.utils.data.DataLoader(valid_ds,\n",
    "                                             batch_size=CFG['batch_size'],\n",
    "                                             pin_memory=False,\n",
    "                                             shuffle=False,\n",
    "                                             num_workers=CFG['num_workers'])\n",
    "    return train_loader, val_loader"
   ]
  },
  {
   "cell_type": "code",
   "execution_count": 21,
   "id": "5a270d23",
   "metadata": {
    "execution": {
     "iopub.execute_input": "2021-11-01T04:15:16.048703Z",
     "iopub.status.busy": "2021-11-01T04:15:16.047659Z",
     "iopub.status.idle": "2021-11-01T04:15:16.050053Z",
     "shell.execute_reply": "2021-11-01T04:15:16.050485Z",
     "shell.execute_reply.started": "2021-10-25T14:26:26.765862Z"
    },
    "papermill": {
     "duration": 1.07393,
     "end_time": "2021-11-01T04:15:16.050687",
     "exception": false,
     "start_time": "2021-11-01T04:15:14.976757",
     "status": "completed"
    },
    "tags": []
   },
   "outputs": [],
   "source": [
    "def train_one_epoch(epoch, model, loss_fn, optimizer, train_loader, device, scheduler=None, schd_batch_update=False):\n",
    "    model.train()\n",
    "\n",
    "    t = time.time()\n",
    "    running_loss = None\n",
    "\n",
    "    pbar = tqdm(enumerate(train_loader), total=len(train_loader))\n",
    "    for step, (imgs, labels) in pbar:\n",
    "        imgs = imgs.to(device).float()\n",
    "        image_labels = labels.reshape(-1,1).to(device).float()\n",
    "\n",
    "        with autocast():\n",
    "            image_preds = model(imgs)\n",
    "            loss = loss_fn(image_preds, image_labels)\n",
    "            scaler.scale(loss).backward()\n",
    "\n",
    "            if running_loss is None:\n",
    "                running_loss = loss.item()\n",
    "            else:\n",
    "                running_loss = running_loss * .99 + loss.item() * .01\n",
    "\n",
    "            if ((step + 1) %  CFG['accum_iter'] == 0) or ((step + 1) == len(train_loader)):\n",
    "                # may unscale_ here if desired (e.g., to allow clipping unscaled gradients)\n",
    "                scaler.step(optimizer)\n",
    "                scaler.update()\n",
    "                optimizer.zero_grad() \n",
    "                if scheduler is not None and schd_batch_update:\n",
    "                    scheduler.step()\n",
    "\n",
    "            if ((step + 1) % CFG['verbose_step'] == 0) or ((step + 1) == len(train_loader)):\n",
    "                description = f'epoch {epoch} loss: {running_loss:.4f}'\n",
    "                pbar.set_description(description)\n",
    "                \n",
    "    if scheduler is not None and not schd_batch_update:\n",
    "        scheduler.step()\n",
    "        \n",
    "def valid_one_epoch(epoch, model, loss_fn, val_loader, device, scheduler=None, schd_loss_update=False):\n",
    "    model.eval()\n",
    "\n",
    "    t = time.time()\n",
    "    loss_sum   = 0\n",
    "    sample_num = 0\n",
    "    image_preds_all   = []\n",
    "    image_targets_all = []\n",
    "    \n",
    "    pbar = tqdm(enumerate(val_loader), total=len(val_loader))\n",
    "    for step, (imgs, labels) in pbar:\n",
    "        imgs = imgs.to(device)\n",
    "        image_labels = labels.reshape(-1,1).to(device).float()\n",
    "        \n",
    "        image_preds = model(imgs)\n",
    "        image_preds_all   += [np.where(image_preds.detach().cpu().numpy()>0, 1, 0).reshape(1,-1)[0]]\n",
    "        image_targets_all += [np.array(labels)]\n",
    "        \n",
    "        loss = loss_fn(image_preds, image_labels)\n",
    "        loss_sum   += loss.item()*image_labels.shape[0]\n",
    "        sample_num += image_labels.shape[0]  \n",
    "\n",
    "        if ((step + 1) % CFG['verbose_step'] == 0) or ((step + 1) == len(val_loader)):\n",
    "            description = f'epoch {epoch} loss: {loss_sum/sample_num:.4f}'\n",
    "            pbar.set_description(description)\n",
    "            \n",
    "    image_preds_all   = np.concatenate(image_preds_all)\n",
    "    image_targets_all = np.concatenate(image_targets_all)\n",
    "    acc = (image_preds_all==image_targets_all).mean()\n",
    "    print('validation multi-class accuracy = {:.4f}'.format(acc))\n",
    "    \n",
    "    if scheduler is not None:\n",
    "        if schd_loss_update:\n",
    "            scheduler.step(loss_sum/sample_num)\n",
    "        else:\n",
    "            scheduler.step()\n",
    "    return acc"
   ]
  },
  {
   "cell_type": "markdown",
   "id": "be4938f4",
   "metadata": {
    "papermill": {
     "duration": 0.981739,
     "end_time": "2021-11-01T04:15:18.011832",
     "exception": false,
     "start_time": "2021-11-01T04:15:17.030093",
     "status": "completed"
    },
    "tags": []
   },
   "source": [
    "# Run training"
   ]
  },
  {
   "cell_type": "code",
   "execution_count": 22,
   "id": "bf5b7b88",
   "metadata": {
    "execution": {
     "iopub.execute_input": "2021-11-01T04:15:19.975604Z",
     "iopub.status.busy": "2021-11-01T04:15:19.974940Z",
     "iopub.status.idle": "2021-11-01T04:15:20.048874Z",
     "shell.execute_reply": "2021-11-01T04:15:20.048197Z",
     "shell.execute_reply.started": "2021-10-25T14:26:28.505805Z"
    },
    "papermill": {
     "duration": 1.064599,
     "end_time": "2021-11-01T04:15:20.049030",
     "exception": false,
     "start_time": "2021-11-01T04:15:18.984431",
     "status": "completed"
    },
    "tags": []
   },
   "outputs": [
    {
     "name": "stdout",
     "output_type": "stream",
     "text": [
      "(143023, 9)\n",
      "0    71516\n",
      "1    71507\n",
      "Name: label, dtype: int64\n",
      "(143014, 9)\n"
     ]
    },
    {
     "data": {
      "text/html": [
       "<div>\n",
       "<style scoped>\n",
       "    .dataframe tbody tr th:only-of-type {\n",
       "        vertical-align: middle;\n",
       "    }\n",
       "\n",
       "    .dataframe tbody tr th {\n",
       "        vertical-align: top;\n",
       "    }\n",
       "\n",
       "    .dataframe thead th {\n",
       "        text-align: right;\n",
       "    }\n",
       "</style>\n",
       "<table border=\"1\" class=\"dataframe\">\n",
       "  <thead>\n",
       "    <tr style=\"text-align: right;\">\n",
       "      <th></th>\n",
       "      <th>path</th>\n",
       "      <th>left</th>\n",
       "      <th>right</th>\n",
       "      <th>width</th>\n",
       "      <th>top</th>\n",
       "      <th>bottom</th>\n",
       "      <th>height</th>\n",
       "      <th>conf</th>\n",
       "      <th>label</th>\n",
       "    </tr>\n",
       "  </thead>\n",
       "  <tbody>\n",
       "    <tr>\n",
       "      <th>0</th>\n",
       "      <td>./train/58048_000086_Sideline/58048_000086_Sid...</td>\n",
       "      <td>544</td>\n",
       "      <td>603</td>\n",
       "      <td>15</td>\n",
       "      <td>241</td>\n",
       "      <td>305</td>\n",
       "      <td>16</td>\n",
       "      <td>0.5</td>\n",
       "      <td>0</td>\n",
       "    </tr>\n",
       "    <tr>\n",
       "      <th>1</th>\n",
       "      <td>../input/nfl-health-and-safety-helmet-assignme...</td>\n",
       "      <td>846</td>\n",
       "      <td>897</td>\n",
       "      <td>13</td>\n",
       "      <td>81</td>\n",
       "      <td>169</td>\n",
       "      <td>22</td>\n",
       "      <td>0.5</td>\n",
       "      <td>0</td>\n",
       "    </tr>\n",
       "  </tbody>\n",
       "</table>\n",
       "</div>"
      ],
      "text/plain": [
       "                                                path  left  right  width  top  \\\n",
       "0  ./train/58048_000086_Sideline/58048_000086_Sid...   544    603     15  241   \n",
       "1  ../input/nfl-health-and-safety-helmet-assignme...   846    897     13   81   \n",
       "\n",
       "   bottom  height  conf  label  \n",
       "0     305      16   0.5      0  \n",
       "1     169      22   0.5      0  "
      ]
     },
     "execution_count": 22,
     "metadata": {},
     "output_type": "execute_result"
    }
   ],
   "source": [
    "print(df_train.shape)\n",
    "print(df_train.label.value_counts())\n",
    "\n",
    "df_train_label_0 = df_train[df_train.label==0].reset_index(drop=True)\n",
    "df_train_label_1 = df_train[df_train.label==1].reset_index(drop=True)\n",
    "df_train_label_0_sampled = df_train_label_0.sample(df_train_label_1.shape[0])\n",
    "\n",
    "df_train = pd.concat([df_train_label_0_sampled, df_train_label_1]).reset_index(drop=True)\n",
    "\n",
    "print(df_train.shape)\n",
    "df_train.head(2)"
   ]
  },
  {
   "cell_type": "code",
   "execution_count": 23,
   "id": "89dc0157",
   "metadata": {
    "execution": {
     "iopub.execute_input": "2021-11-01T04:15:22.022796Z",
     "iopub.status.busy": "2021-11-01T04:15:22.021843Z",
     "iopub.status.idle": "2021-11-01T04:15:22.032776Z",
     "shell.execute_reply": "2021-11-01T04:15:22.033327Z",
     "shell.execute_reply.started": "2021-10-25T14:44:00.57502Z"
    },
    "papermill": {
     "duration": 0.993305,
     "end_time": "2021-11-01T04:15:22.033501",
     "exception": false,
     "start_time": "2021-11-01T04:15:21.040196",
     "status": "completed"
    },
    "tags": []
   },
   "outputs": [],
   "source": [
    "if CFG[\"train_model\"]:\n",
    "    train, valid = train_test_split(df_train, test_size=0.3, random_state=CFG[\"seed\"])\n",
    "    train = train.reset_index(drop=True)\n",
    "    valid = valid.reset_index(drop=True)\n",
    "    print(train.shape, valid.shape)\n",
    "    train_loader, val_loader = prepare_dataloader(train, valid)\n",
    "\n",
    "    not_improved_cnt = 0\n",
    "    best_acc = 0\n",
    "    device   = torch.device(CFG['device'])\n",
    "    model    = Model(CFG[\"model\"])\n",
    "    model.to(device)\n",
    "    scaler    = GradScaler()\n",
    "    optimizer = RAdam(model.parameters(), lr=CFG['lr'], weight_decay=CFG['weight_decay'])\n",
    "    scheduler = None\n",
    "    loss      = nn.BCEWithLogitsLoss().to(device)\n",
    "\n",
    "    for epoch in range(CFG['epochs']):\n",
    "        train_one_epoch(epoch, model, loss, optimizer, train_loader, device, scheduler=scheduler, schd_batch_update=False)\n",
    "\n",
    "        with torch.no_grad():\n",
    "            acc = valid_one_epoch(epoch, model, loss, val_loader, device, scheduler=None, schd_loss_update=False)\n",
    "\n",
    "        if best_acc < acc:\n",
    "            print('Best model will be saved to output path after completing this fold')\n",
    "            best_model = copy.deepcopy(model)\n",
    "            best_acc   = acc\n",
    "            not_improved_cnt = 0\n",
    "        elif CFG['early_stopping'] == not_improved_cnt:\n",
    "            print(\"Met early stopping.\")\n",
    "            break\n",
    "        else:\n",
    "            not_improved_cnt += 1  \n",
    "\n",
    "    torch.save(best_model.state_dict(), f'helmet_cnn.pt')\n",
    "\n",
    "    del model, optimizer, train_loader, val_loader, scaler\n",
    "    torch.cuda.empty_cache()"
   ]
  },
  {
   "cell_type": "code",
   "execution_count": 24,
   "id": "3af1ce80",
   "metadata": {
    "execution": {
     "iopub.execute_input": "2021-11-01T04:15:23.999108Z",
     "iopub.status.busy": "2021-11-01T04:15:23.998127Z",
     "iopub.status.idle": "2021-11-01T04:15:26.881168Z",
     "shell.execute_reply": "2021-11-01T04:15:26.880399Z",
     "shell.execute_reply.started": "2021-10-25T13:21:12.49755Z"
    },
    "papermill": {
     "duration": 3.867317,
     "end_time": "2021-11-01T04:15:26.881320",
     "exception": false,
     "start_time": "2021-11-01T04:15:23.014003",
     "status": "completed"
    },
    "tags": []
   },
   "outputs": [],
   "source": [
    "!rm -rf ./train"
   ]
  }
 ],
 "metadata": {
  "kernelspec": {
   "display_name": "Python 3",
   "language": "python",
   "name": "python3"
  },
  "language_info": {
   "codemirror_mode": {
    "name": "ipython",
    "version": 3
   },
   "file_extension": ".py",
   "mimetype": "text/x-python",
   "name": "python",
   "nbconvert_exporter": "python",
   "pygments_lexer": "ipython3",
   "version": "3.7.10"
  },
  "papermill": {
   "default_parameters": {},
   "duration": 826.405701,
   "end_time": "2021-11-01T04:15:29.868970",
   "environment_variables": {},
   "exception": null,
   "input_path": "__notebook__.ipynb",
   "output_path": "__notebook__.ipynb",
   "parameters": {},
   "start_time": "2021-11-01T04:01:43.463269",
   "version": "2.3.3"
  }
 },
 "nbformat": 4,
 "nbformat_minor": 5
}
