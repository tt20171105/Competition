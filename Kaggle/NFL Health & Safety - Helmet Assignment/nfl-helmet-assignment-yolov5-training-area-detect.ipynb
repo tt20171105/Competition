{
 "cells": [
  {
   "cell_type": "code",
   "execution_count": 1,
   "id": "da4eb272",
   "metadata": {
    "execution": {
     "iopub.execute_input": "2021-10-18T16:12:51.162067Z",
     "iopub.status.busy": "2021-10-18T16:12:51.153341Z",
     "iopub.status.idle": "2021-10-18T16:13:01.224772Z",
     "shell.execute_reply": "2021-10-18T16:13:01.224007Z",
     "shell.execute_reply.started": "2021-10-18T16:06:59.094390Z"
    },
    "papermill": {
     "duration": 10.097782,
     "end_time": "2021-10-18T16:13:01.224944",
     "exception": false,
     "start_time": "2021-10-18T16:12:51.127162",
     "status": "completed"
    },
    "tags": []
   },
   "outputs": [
    {
     "name": "stdout",
     "output_type": "stream",
     "text": [
      "Cloning into 'yolov5'...\r\n",
      "remote: Enumerating objects: 9839, done.\u001b[K\r\n",
      "remote: Counting objects: 100% (11/11), done.\u001b[K\r\n",
      "remote: Compressing objects: 100% (8/8), done.\u001b[K\r\n",
      "remote: Total 9839 (delta 3), reused 5 (delta 3), pack-reused 9828\u001b[K\r\n",
      "Receiving objects: 100% (9839/9839), 10.03 MiB | 27.69 MiB/s, done.\r\n",
      "Resolving deltas: 100% (6847/6847), done.\r\n",
      "/kaggle/working/yolov5\n",
      "\u001b[33mWARNING: Running pip as root will break packages and permissions. You should install packages reliably by using venv: https://pip.pypa.io/warnings/venv\u001b[0m\r\n",
      "Note: you may need to restart the kernel to use updated packages.\n",
      "/kaggle/working\n"
     ]
    }
   ],
   "source": [
    "# Download YOLOv5\n",
    "!git clone https://github.com/ultralytics/yolov5  # clone repo\n",
    "%cd yolov5\n",
    "# Install dependencies\n",
    "%pip install -qr requirements.txt  # install dependencies\n",
    "%cd ../"
   ]
  },
  {
   "cell_type": "code",
   "execution_count": 2,
   "id": "ca481520",
   "metadata": {
    "execution": {
     "iopub.execute_input": "2021-10-18T16:13:01.267962Z",
     "iopub.status.busy": "2021-10-18T16:13:01.267207Z",
     "iopub.status.idle": "2021-10-18T16:13:03.571817Z",
     "shell.execute_reply": "2021-10-18T16:13:03.571101Z",
     "shell.execute_reply.started": "2021-10-18T16:07:09.687432Z"
    },
    "papermill": {
     "duration": 2.328122,
     "end_time": "2021-10-18T16:13:03.571958",
     "exception": false,
     "start_time": "2021-10-18T16:13:01.243836",
     "status": "completed"
    },
    "tags": []
   },
   "outputs": [],
   "source": [
    "import os\n",
    "import gc\n",
    "import cv2\n",
    "import yaml\n",
    "import torch\n",
    "import random\n",
    "import shutil\n",
    "import warnings\n",
    "import subprocess\n",
    "import numpy as np\n",
    "import pandas as pd\n",
    "import matplotlib.pyplot as plt\n",
    "from tqdm import tqdm\n",
    "from PIL import Image, ImageDraw\n",
    "from shutil import copyfile\n",
    "from IPython.core.display import Video, display\n",
    "from sklearn.model_selection import train_test_split, KFold, GroupKFold, StratifiedKFold\n",
    "\n",
    "warnings.simplefilter('ignore')\n",
    "pd.set_option(\"max_columns\", 150)\n",
    "pd.set_option('display.max_rows', 150)\n",
    "# turn off W&B syncing if you don't need\n",
    "os.environ['WANDB_MODE'] = 'offline'"
   ]
  },
  {
   "cell_type": "markdown",
   "id": "7ab47c17",
   "metadata": {
    "papermill": {
     "duration": 0.017501,
     "end_time": "2021-10-18T16:13:03.608430",
     "exception": false,
     "start_time": "2021-10-18T16:13:03.590929",
     "status": "completed"
    },
    "tags": []
   },
   "source": [
    "### Configuration"
   ]
  },
  {
   "cell_type": "code",
   "execution_count": 3,
   "id": "bae56049",
   "metadata": {
    "execution": {
     "iopub.execute_input": "2021-10-18T16:13:03.650440Z",
     "iopub.status.busy": "2021-10-18T16:13:03.649857Z",
     "iopub.status.idle": "2021-10-18T16:13:03.654854Z",
     "shell.execute_reply": "2021-10-18T16:13:03.654451Z",
     "shell.execute_reply.started": "2021-10-18T16:07:11.848600Z"
    },
    "papermill": {
     "duration": 0.029048,
     "end_time": "2021-10-18T16:13:03.654959",
     "exception": false,
     "start_time": "2021-10-18T16:13:03.625911",
     "status": "completed"
    },
    "tags": []
   },
   "outputs": [
    {
     "data": {
      "text/plain": [
       "{'seed': 42,\n",
       " 'model': 'yolov5s',\n",
       " 'input_path': '../input/nfl-health-and-safety-helmet-assignment/images/',\n",
       " 'output_path': './nfl/',\n",
       " 'batch_size': 24,\n",
       " 'epochs': 5,\n",
       " 'size': 800,\n",
       " 'fold_num': 3}"
      ]
     },
     "execution_count": 3,
     "metadata": {},
     "output_type": "execute_result"
    }
   ],
   "source": [
    "CFG = {\n",
    "    \"seed\"       : 42,\n",
    "    \"model\"      : \"yolov5s\",\n",
    "    \"input_path\" : '../input/nfl-health-and-safety-helmet-assignment/images/',\n",
    "    \"output_path\": './nfl/',\n",
    "    \"batch_size\" : 24,\n",
    "    \"epochs\"     : 5,\n",
    "    \"size\"       : 800,\n",
    "    \"fold_num\"   : 3\n",
    "}\n",
    "\n",
    "CFG"
   ]
  },
  {
   "cell_type": "code",
   "execution_count": 4,
   "id": "d4e39f02",
   "metadata": {
    "execution": {
     "iopub.execute_input": "2021-10-18T16:13:03.696264Z",
     "iopub.status.busy": "2021-10-18T16:13:03.695630Z",
     "iopub.status.idle": "2021-10-18T16:13:03.701186Z",
     "shell.execute_reply": "2021-10-18T16:13:03.700792Z",
     "shell.execute_reply.started": "2021-10-18T16:07:11.860563Z"
    },
    "papermill": {
     "duration": 0.028473,
     "end_time": "2021-10-18T16:13:03.701321",
     "exception": false,
     "start_time": "2021-10-18T16:13:03.672848",
     "status": "completed"
    },
    "tags": []
   },
   "outputs": [],
   "source": [
    "def seed_everything(seed = 42):\n",
    "    '''Sets the seed of the entire notebook so results are the same every time we run.\n",
    "    This is for REPRODUCIBILITY.'''\n",
    "    np.random.seed(seed)\n",
    "    random.seed(seed)\n",
    "    torch.manual_seed(seed)\n",
    "    torch.cuda.manual_seed(seed)\n",
    "    # When running on the CuDNN backend, two further options must be set\n",
    "    torch.backends.cudnn.deterministic = True\n",
    "    torch.backends.cudnn.benchmark = False\n",
    "    # Set a fixed value for the hash seed\n",
    "    os.environ['PYTHONHASHSEED'] = str(seed)\n",
    "    \n",
    "seed_everything(CFG[\"seed\"])"
   ]
  },
  {
   "cell_type": "markdown",
   "id": "62e3de6a",
   "metadata": {
    "papermill": {
     "duration": 0.017552,
     "end_time": "2021-10-18T16:13:03.736782",
     "exception": false,
     "start_time": "2021-10-18T16:13:03.719230",
     "status": "completed"
    },
    "tags": []
   },
   "source": [
    "### Load data"
   ]
  },
  {
   "cell_type": "code",
   "execution_count": 5,
   "id": "9d051047",
   "metadata": {
    "execution": {
     "iopub.execute_input": "2021-10-18T16:13:03.778115Z",
     "iopub.status.busy": "2021-10-18T16:13:03.777565Z",
     "iopub.status.idle": "2021-10-18T16:13:04.292378Z",
     "shell.execute_reply": "2021-10-18T16:13:04.292931Z",
     "shell.execute_reply.started": "2021-10-18T16:07:11.876023Z"
    },
    "papermill": {
     "duration": 0.53872,
     "end_time": "2021-10-18T16:13:04.293118",
     "exception": false,
     "start_time": "2021-10-18T16:13:03.754398",
     "status": "completed"
    },
    "tags": []
   },
   "outputs": [
    {
     "name": "stdout",
     "output_type": "stream",
     "text": [
      "Helmet              129764\n",
      "Helmet-Blurred       33544\n",
      "Helmet-Partial        8814\n",
      "Helmet-Difficult      6577\n",
      "Name: label, dtype: int64\n",
      "(178699, 9)\n"
     ]
    },
    {
     "data": {
      "text/html": [
       "<div>\n",
       "<style scoped>\n",
       "    .dataframe tbody tr th:only-of-type {\n",
       "        vertical-align: middle;\n",
       "    }\n",
       "\n",
       "    .dataframe tbody tr th {\n",
       "        vertical-align: top;\n",
       "    }\n",
       "\n",
       "    .dataframe thead th {\n",
       "        text-align: right;\n",
       "    }\n",
       "</style>\n",
       "<table border=\"1\" class=\"dataframe\">\n",
       "  <thead>\n",
       "    <tr style=\"text-align: right;\">\n",
       "      <th></th>\n",
       "      <th>image</th>\n",
       "      <th>label</th>\n",
       "      <th>left</th>\n",
       "      <th>width</th>\n",
       "      <th>top</th>\n",
       "      <th>height</th>\n",
       "      <th>right</th>\n",
       "      <th>bottom</th>\n",
       "      <th>video_frame</th>\n",
       "    </tr>\n",
       "  </thead>\n",
       "  <tbody>\n",
       "    <tr>\n",
       "      <th>0</th>\n",
       "      <td>57503_000116_Endzone_frame443.jpg</td>\n",
       "      <td>Helmet</td>\n",
       "      <td>1099</td>\n",
       "      <td>16</td>\n",
       "      <td>456</td>\n",
       "      <td>15</td>\n",
       "      <td>1115</td>\n",
       "      <td>471</td>\n",
       "      <td>57503_000116_Endzone</td>\n",
       "    </tr>\n",
       "    <tr>\n",
       "      <th>1</th>\n",
       "      <td>57503_000116_Endzone_frame443.jpg</td>\n",
       "      <td>Helmet</td>\n",
       "      <td>1117</td>\n",
       "      <td>15</td>\n",
       "      <td>478</td>\n",
       "      <td>16</td>\n",
       "      <td>1132</td>\n",
       "      <td>494</td>\n",
       "      <td>57503_000116_Endzone</td>\n",
       "    </tr>\n",
       "    <tr>\n",
       "      <th>2</th>\n",
       "      <td>57503_000116_Endzone_frame443.jpg</td>\n",
       "      <td>Helmet</td>\n",
       "      <td>828</td>\n",
       "      <td>16</td>\n",
       "      <td>511</td>\n",
       "      <td>15</td>\n",
       "      <td>844</td>\n",
       "      <td>526</td>\n",
       "      <td>57503_000116_Endzone</td>\n",
       "    </tr>\n",
       "    <tr>\n",
       "      <th>3</th>\n",
       "      <td>57503_000116_Endzone_frame443.jpg</td>\n",
       "      <td>Helmet</td>\n",
       "      <td>746</td>\n",
       "      <td>16</td>\n",
       "      <td>519</td>\n",
       "      <td>16</td>\n",
       "      <td>762</td>\n",
       "      <td>535</td>\n",
       "      <td>57503_000116_Endzone</td>\n",
       "    </tr>\n",
       "    <tr>\n",
       "      <th>4</th>\n",
       "      <td>57503_000116_Endzone_frame443.jpg</td>\n",
       "      <td>Helmet</td>\n",
       "      <td>678</td>\n",
       "      <td>17</td>\n",
       "      <td>554</td>\n",
       "      <td>17</td>\n",
       "      <td>695</td>\n",
       "      <td>571</td>\n",
       "      <td>57503_000116_Endzone</td>\n",
       "    </tr>\n",
       "  </tbody>\n",
       "</table>\n",
       "</div>"
      ],
      "text/plain": [
       "                               image   label  left  width  top  height  right  \\\n",
       "0  57503_000116_Endzone_frame443.jpg  Helmet  1099     16  456      15   1115   \n",
       "1  57503_000116_Endzone_frame443.jpg  Helmet  1117     15  478      16   1132   \n",
       "2  57503_000116_Endzone_frame443.jpg  Helmet   828     16  511      15    844   \n",
       "3  57503_000116_Endzone_frame443.jpg  Helmet   746     16  519      16    762   \n",
       "4  57503_000116_Endzone_frame443.jpg  Helmet   678     17  554      17    695   \n",
       "\n",
       "   bottom           video_frame  \n",
       "0     471  57503_000116_Endzone  \n",
       "1     494  57503_000116_Endzone  \n",
       "2     526  57503_000116_Endzone  \n",
       "3     535  57503_000116_Endzone  \n",
       "4     571  57503_000116_Endzone  "
      ]
     },
     "execution_count": 5,
     "metadata": {},
     "output_type": "execute_result"
    }
   ],
   "source": [
    "# Load image level csv file\n",
    "df_train = pd.read_csv('../input/nfl-health-and-safety-helmet-assignment/image_labels.csv')\n",
    "df_train = df_train[df_train.label != \"Helmet-Sideline\"].reset_index(drop=True)\n",
    "print(df_train.label.value_counts())\n",
    "\n",
    "df_train[\"right\"]       = df_train.left + df_train.width\n",
    "df_train[\"bottom\"]      = df_train.top  + df_train.height\n",
    "df_train[\"video_frame\"] = df_train.image.apply(lambda x: \"_\".join(x.split(\"_\")[:3]))\n",
    "\n",
    "print(df_train.shape)\n",
    "df_train.head()"
   ]
  },
  {
   "cell_type": "code",
   "execution_count": 6,
   "id": "01c77422",
   "metadata": {
    "execution": {
     "iopub.execute_input": "2021-10-18T16:13:04.344548Z",
     "iopub.status.busy": "2021-10-18T16:13:04.343601Z",
     "iopub.status.idle": "2021-10-18T16:13:06.272863Z",
     "shell.execute_reply": "2021-10-18T16:13:06.272164Z",
     "shell.execute_reply.started": "2021-10-18T16:07:12.402421Z"
    },
    "papermill": {
     "duration": 1.961212,
     "end_time": "2021-10-18T16:13:06.273012",
     "exception": false,
     "start_time": "2021-10-18T16:13:04.311800",
     "status": "completed"
    },
    "tags": []
   },
   "outputs": [
    {
     "name": "stdout",
     "output_type": "stream",
     "text": [
      "(9930, 12)\n"
     ]
    },
    {
     "data": {
      "text/html": [
       "<div>\n",
       "<style scoped>\n",
       "    .dataframe tbody tr th:only-of-type {\n",
       "        vertical-align: middle;\n",
       "    }\n",
       "\n",
       "    .dataframe tbody tr th {\n",
       "        vertical-align: top;\n",
       "    }\n",
       "\n",
       "    .dataframe thead th {\n",
       "        text-align: right;\n",
       "    }\n",
       "</style>\n",
       "<table border=\"1\" class=\"dataframe\">\n",
       "  <thead>\n",
       "    <tr style=\"text-align: right;\">\n",
       "      <th></th>\n",
       "      <th>image</th>\n",
       "      <th>video_frame</th>\n",
       "      <th>left</th>\n",
       "      <th>top</th>\n",
       "      <th>right</th>\n",
       "      <th>bottom</th>\n",
       "      <th>width</th>\n",
       "      <th>height</th>\n",
       "      <th>x_center</th>\n",
       "      <th>y_center</th>\n",
       "      <th>label</th>\n",
       "      <th>label_id</th>\n",
       "    </tr>\n",
       "  </thead>\n",
       "  <tbody>\n",
       "    <tr>\n",
       "      <th>0</th>\n",
       "      <td>57502_000480_Endzone_frame0495.jpg</td>\n",
       "      <td>57502_000480_Endzone</td>\n",
       "      <td>153</td>\n",
       "      <td>89</td>\n",
       "      <td>1135</td>\n",
       "      <td>521</td>\n",
       "      <td>0.767188</td>\n",
       "      <td>0.600000</td>\n",
       "      <td>0.503125</td>\n",
       "      <td>0.423611</td>\n",
       "      <td>DetectArea</td>\n",
       "      <td>0</td>\n",
       "    </tr>\n",
       "    <tr>\n",
       "      <th>1</th>\n",
       "      <td>57502_001570_Sideline_frame1395.jpg</td>\n",
       "      <td>57502_001570_Sideline</td>\n",
       "      <td>62</td>\n",
       "      <td>137</td>\n",
       "      <td>979</td>\n",
       "      <td>532</td>\n",
       "      <td>0.716406</td>\n",
       "      <td>0.548611</td>\n",
       "      <td>0.406250</td>\n",
       "      <td>0.463889</td>\n",
       "      <td>DetectArea</td>\n",
       "      <td>0</td>\n",
       "    </tr>\n",
       "  </tbody>\n",
       "</table>\n",
       "</div>"
      ],
      "text/plain": [
       "                                 image            video_frame  left  top  \\\n",
       "0   57502_000480_Endzone_frame0495.jpg   57502_000480_Endzone   153   89   \n",
       "1  57502_001570_Sideline_frame1395.jpg  57502_001570_Sideline    62  137   \n",
       "\n",
       "   right  bottom     width    height  x_center  y_center       label  label_id  \n",
       "0   1135     521  0.767188  0.600000  0.503125  0.423611  DetectArea         0  \n",
       "1    979     532  0.716406  0.548611  0.406250  0.463889  DetectArea         0  "
      ]
     },
     "execution_count": 6,
     "metadata": {},
     "output_type": "execute_result"
    }
   ],
   "source": [
    "df_min_area    = df_train.groupby([\"image\",\"video_frame\"], as_index=False)[[\"left\",\"top\"]].min()\n",
    "df_max_area    = df_train.groupby([\"image\",\"video_frame\"], as_index=False)[[\"right\",\"bottom\",\"width\",\"height\"]].max()\n",
    "df_area_detect = df_min_area.merge(df_max_area, on=[\"image\",\"video_frame\"])\n",
    "df_area_detect.left   = df_area_detect.apply(lambda x: x.left   - x.width  if x.width  < x.left else 0, axis=1)\n",
    "df_area_detect.right  = df_area_detect.apply(lambda x: x.right  + x.width  if x.right  + x.width < 1280 else 1280, axis=1)\n",
    "df_area_detect.top    = df_area_detect.apply(lambda x: x.top    - x.height if x.height < x.top  else 0, axis=1)\n",
    "df_area_detect.bottom = df_area_detect.apply(lambda x: x.bottom + x.height if x.bottom + x.height < 720 else 720,  axis=1)\n",
    "\n",
    "df_area_detect.width  = df_area_detect.right  - df_area_detect.left\n",
    "df_area_detect.height = df_area_detect.bottom - df_area_detect.top\n",
    "df_area_detect[\"x_center\"] = df_area_detect.left + (df_area_detect.width  / 2).astype(int)\n",
    "df_area_detect[\"y_center\"] = df_area_detect.top  + (df_area_detect.height / 2).astype(int)\n",
    "df_area_detect.width    /= 1280\n",
    "df_area_detect.height   /= 720\n",
    "df_area_detect.x_center /= 1280\n",
    "df_area_detect.y_center /= 720\n",
    "\n",
    "df_area_detect[\"label\"]    = \"DetectArea\"\n",
    "df_area_detect[\"label_id\"] = 0\n",
    "df_train = df_area_detect.copy()\n",
    "\n",
    "print(df_train.shape)\n",
    "df_train.head(2)"
   ]
  },
  {
   "cell_type": "code",
   "execution_count": 7,
   "id": "66baa9f7",
   "metadata": {
    "execution": {
     "iopub.execute_input": "2021-10-18T16:13:06.325644Z",
     "iopub.status.busy": "2021-10-18T16:13:06.324890Z",
     "iopub.status.idle": "2021-10-18T16:13:06.388702Z",
     "shell.execute_reply": "2021-10-18T16:13:06.389292Z",
     "shell.execute_reply.started": "2021-10-18T16:07:14.142776Z"
    },
    "papermill": {
     "duration": 0.09707,
     "end_time": "2021-10-18T16:13:06.389470",
     "exception": false,
     "start_time": "2021-10-18T16:13:06.292400",
     "status": "completed"
    },
    "tags": []
   },
   "outputs": [
    {
     "name": "stdout",
     "output_type": "stream",
     "text": [
      "Fold 0 train: 6620, val: 3310\n",
      "Fold 1 train: 6620, val: 3310\n",
      "Fold 2 train: 6620, val: 3310\n"
     ]
    },
    {
     "data": {
      "text/html": [
       "<div>\n",
       "<style scoped>\n",
       "    .dataframe tbody tr th:only-of-type {\n",
       "        vertical-align: middle;\n",
       "    }\n",
       "\n",
       "    .dataframe tbody tr th {\n",
       "        vertical-align: top;\n",
       "    }\n",
       "\n",
       "    .dataframe thead th {\n",
       "        text-align: right;\n",
       "    }\n",
       "</style>\n",
       "<table border=\"1\" class=\"dataframe\">\n",
       "  <thead>\n",
       "    <tr style=\"text-align: right;\">\n",
       "      <th></th>\n",
       "      <th>image</th>\n",
       "      <th>video_frame</th>\n",
       "      <th>left</th>\n",
       "      <th>top</th>\n",
       "      <th>right</th>\n",
       "      <th>bottom</th>\n",
       "      <th>width</th>\n",
       "      <th>height</th>\n",
       "      <th>x_center</th>\n",
       "      <th>y_center</th>\n",
       "      <th>label</th>\n",
       "      <th>label_id</th>\n",
       "      <th>fold0</th>\n",
       "      <th>fold1</th>\n",
       "      <th>fold2</th>\n",
       "    </tr>\n",
       "  </thead>\n",
       "  <tbody>\n",
       "    <tr>\n",
       "      <th>0</th>\n",
       "      <td>57502_000480_Endzone_frame0495.jpg</td>\n",
       "      <td>57502_000480_Endzone</td>\n",
       "      <td>153</td>\n",
       "      <td>89</td>\n",
       "      <td>1135</td>\n",
       "      <td>521</td>\n",
       "      <td>0.767188</td>\n",
       "      <td>0.600000</td>\n",
       "      <td>0.503125</td>\n",
       "      <td>0.423611</td>\n",
       "      <td>DetectArea</td>\n",
       "      <td>0</td>\n",
       "      <td>1</td>\n",
       "      <td>1</td>\n",
       "      <td>0</td>\n",
       "    </tr>\n",
       "    <tr>\n",
       "      <th>1</th>\n",
       "      <td>57502_001570_Sideline_frame1395.jpg</td>\n",
       "      <td>57502_001570_Sideline</td>\n",
       "      <td>62</td>\n",
       "      <td>137</td>\n",
       "      <td>979</td>\n",
       "      <td>532</td>\n",
       "      <td>0.716406</td>\n",
       "      <td>0.548611</td>\n",
       "      <td>0.406250</td>\n",
       "      <td>0.463889</td>\n",
       "      <td>DetectArea</td>\n",
       "      <td>0</td>\n",
       "      <td>0</td>\n",
       "      <td>1</td>\n",
       "      <td>1</td>\n",
       "    </tr>\n",
       "    <tr>\n",
       "      <th>2</th>\n",
       "      <td>57502_002557_Sideline_frame0746.jpg</td>\n",
       "      <td>57502_002557_Sideline</td>\n",
       "      <td>112</td>\n",
       "      <td>140</td>\n",
       "      <td>1152</td>\n",
       "      <td>720</td>\n",
       "      <td>0.812500</td>\n",
       "      <td>0.805556</td>\n",
       "      <td>0.493750</td>\n",
       "      <td>0.597222</td>\n",
       "      <td>DetectArea</td>\n",
       "      <td>0</td>\n",
       "      <td>1</td>\n",
       "      <td>1</td>\n",
       "      <td>0</td>\n",
       "    </tr>\n",
       "    <tr>\n",
       "      <th>3</th>\n",
       "      <td>57502_002958_Endzone_frame0584.jpg</td>\n",
       "      <td>57502_002958_Endzone</td>\n",
       "      <td>311</td>\n",
       "      <td>208</td>\n",
       "      <td>1280</td>\n",
       "      <td>444</td>\n",
       "      <td>0.757031</td>\n",
       "      <td>0.327778</td>\n",
       "      <td>0.621094</td>\n",
       "      <td>0.452778</td>\n",
       "      <td>DetectArea</td>\n",
       "      <td>0</td>\n",
       "      <td>1</td>\n",
       "      <td>0</td>\n",
       "      <td>1</td>\n",
       "    </tr>\n",
       "    <tr>\n",
       "      <th>4</th>\n",
       "      <td>57502_003762_Endzone_frame1071.jpg</td>\n",
       "      <td>57502_003762_Endzone</td>\n",
       "      <td>75</td>\n",
       "      <td>0</td>\n",
       "      <td>1275</td>\n",
       "      <td>493</td>\n",
       "      <td>0.937500</td>\n",
       "      <td>0.684722</td>\n",
       "      <td>0.527344</td>\n",
       "      <td>0.341667</td>\n",
       "      <td>DetectArea</td>\n",
       "      <td>0</td>\n",
       "      <td>0</td>\n",
       "      <td>1</td>\n",
       "      <td>1</td>\n",
       "    </tr>\n",
       "  </tbody>\n",
       "</table>\n",
       "</div>"
      ],
      "text/plain": [
       "                                 image            video_frame  left  top  \\\n",
       "0   57502_000480_Endzone_frame0495.jpg   57502_000480_Endzone   153   89   \n",
       "1  57502_001570_Sideline_frame1395.jpg  57502_001570_Sideline    62  137   \n",
       "2  57502_002557_Sideline_frame0746.jpg  57502_002557_Sideline   112  140   \n",
       "3   57502_002958_Endzone_frame0584.jpg   57502_002958_Endzone   311  208   \n",
       "4   57502_003762_Endzone_frame1071.jpg   57502_003762_Endzone    75    0   \n",
       "\n",
       "   right  bottom     width    height  x_center  y_center       label  \\\n",
       "0   1135     521  0.767188  0.600000  0.503125  0.423611  DetectArea   \n",
       "1    979     532  0.716406  0.548611  0.406250  0.463889  DetectArea   \n",
       "2   1152     720  0.812500  0.805556  0.493750  0.597222  DetectArea   \n",
       "3   1280     444  0.757031  0.327778  0.621094  0.452778  DetectArea   \n",
       "4   1275     493  0.937500  0.684722  0.527344  0.341667  DetectArea   \n",
       "\n",
       "   label_id  fold0  fold1  fold2  \n",
       "0         0      1      1      0  \n",
       "1         0      0      1      1  \n",
       "2         0      1      1      0  \n",
       "3         0      1      0      1  \n",
       "4         0      0      1      1  "
      ]
     },
     "execution_count": 7,
     "metadata": {},
     "output_type": "execute_result"
    }
   ],
   "source": [
    "kf = GroupKFold(n_splits=CFG[\"fold_num\"])\n",
    "for i, (tr_idx, va_idx) in enumerate(kf.split(df_train, None, df_train.video_frame)):\n",
    "    df_train[f\"fold{i}\"] = 0\n",
    "    df_train.loc[tr_idx, f\"fold{i}\"] = 1\n",
    "    _sum = df_train[f\"fold{i}\"].sum()\n",
    "    print(f\"Fold {i} train: {_sum}, val: {df_train.shape[0] - _sum}\")\n",
    "    \n",
    "df_train.head()"
   ]
  },
  {
   "cell_type": "markdown",
   "id": "860dbb90",
   "metadata": {
    "papermill": {
     "duration": 0.019593,
     "end_time": "2021-10-18T16:13:06.429697",
     "exception": false,
     "start_time": "2021-10-18T16:13:06.410104",
     "status": "completed"
    },
    "tags": []
   },
   "source": [
    "### Make YOLO configuration files"
   ]
  },
  {
   "cell_type": "code",
   "execution_count": 8,
   "id": "f98a02c6",
   "metadata": {
    "execution": {
     "iopub.execute_input": "2021-10-18T16:13:06.478159Z",
     "iopub.status.busy": "2021-10-18T16:13:06.477033Z",
     "iopub.status.idle": "2021-10-18T16:13:06.480255Z",
     "shell.execute_reply": "2021-10-18T16:13:06.480681Z",
     "shell.execute_reply.started": "2021-10-18T16:07:14.226841Z"
    },
    "papermill": {
     "duration": 0.031349,
     "end_time": "2021-10-18T16:13:06.480801",
     "exception": false,
     "start_time": "2021-10-18T16:13:06.449452",
     "status": "completed"
    },
    "tags": []
   },
   "outputs": [],
   "source": [
    "def create_file(df, fold, input_path, output_path):\n",
    "    \n",
    "    def make(_df, tr_val):\n",
    "        for img_name in tqdm(_df.image.unique()):\n",
    "            df_this_frame = _df[_df['image']==img_name]\n",
    "            shutil.copy(f'{input_path}{img_name}',\n",
    "                        f'{output_path}images/{tr_val}/{fold}/{img_name}')\n",
    "            # Crop the side that there are no helmets\n",
    "            with open(f'{output_path}labels/{tr_val}/{fold}/{img_name[:-4]}.txt', 'w+') as f:\n",
    "                row = df_this_frame[['label_id','x_center','y_center','width','height']]\n",
    "                row = row.values.astype('str')\n",
    "                for box in range(len(row)):\n",
    "                    text = ' '.join(row[box])\n",
    "                    f.write(text)\n",
    "                    f.write('\\n')\n",
    "        \n",
    "    os.makedirs(f'{output_path}labels/train/{fold}/', exist_ok=True)\n",
    "    os.makedirs(f'{output_path}images/train/{fold}/', exist_ok=True)\n",
    "    os.makedirs(f'{output_path}labels/val/{fold}/',   exist_ok=True)\n",
    "    os.makedirs(f'{output_path}images/val/{fold}/',   exist_ok=True)\n",
    "    \n",
    "    train_df = df[df[f'fold{fold}']==1].reset_index(drop=True)\n",
    "    val_df   = df[df[f'fold{fold}']==0].reset_index(drop=True)\n",
    "    make(train_df, \"train\")\n",
    "    make(val_df,   \"val\")"
   ]
  },
  {
   "cell_type": "code",
   "execution_count": 9,
   "id": "a88a8117",
   "metadata": {
    "execution": {
     "iopub.execute_input": "2021-10-18T16:13:06.526267Z",
     "iopub.status.busy": "2021-10-18T16:13:06.525657Z",
     "iopub.status.idle": "2021-10-18T16:13:06.528157Z",
     "shell.execute_reply": "2021-10-18T16:13:06.528560Z",
     "shell.execute_reply.started": "2021-10-18T16:07:14.237666Z"
    },
    "papermill": {
     "duration": 0.027775,
     "end_time": "2021-10-18T16:13:06.528685",
     "exception": false,
     "start_time": "2021-10-18T16:13:06.500910",
     "status": "completed"
    },
    "tags": []
   },
   "outputs": [],
   "source": [
    "class_names = list(df_train.label.unique())\n",
    "\n",
    "def make_training_yaml(fold):\n",
    "    with open(f\"./yolov5_{fold}.yaml\", \"w+\") as yf:\n",
    "        yaml.dump({\n",
    "            \"train\": f\"{CFG['output_path']}images/train/{fold}/\",\n",
    "            \"val\"  : f\"{CFG['output_path']}images/val/{fold}/\",\n",
    "            \"nc\"   : 1,\n",
    "            \"names\": class_names\n",
    "        }, yf, default_flow_style=False)"
   ]
  },
  {
   "cell_type": "code",
   "execution_count": 10,
   "id": "e615b048",
   "metadata": {
    "execution": {
     "iopub.execute_input": "2021-10-18T16:13:06.580473Z",
     "iopub.status.busy": "2021-10-18T16:13:06.574700Z",
     "iopub.status.idle": "2021-10-18T16:13:07.930358Z",
     "shell.execute_reply": "2021-10-18T16:13:07.929681Z",
     "shell.execute_reply.started": "2021-10-18T16:07:14.248881Z"
    },
    "papermill": {
     "duration": 1.382134,
     "end_time": "2021-10-18T16:13:07.930519",
     "exception": false,
     "start_time": "2021-10-18T16:13:06.548385",
     "status": "completed"
    },
    "tags": []
   },
   "outputs": [],
   "source": [
    "!cp ./yolov5/models/{CFG['model']}.yaml ./{CFG['model']}.yaml\n",
    "\n",
    "with open(f\"./{CFG['model']}.yaml\", \"r+\") as yf:\n",
    "    opened_yf = yaml.load(yf)\n",
    "    !rm -rf ./{CFG['model']}.yaml\n",
    "    opened_yf[\"nc\"] = 1\n",
    "    with open(f\"./{CFG['model']}.yaml\", \"w\") as yf2:\n",
    "        yaml.dump(opened_yf, yf2, default_flow_style=False)"
   ]
  },
  {
   "cell_type": "code",
   "execution_count": 11,
   "id": "9cd95070",
   "metadata": {
    "execution": {
     "iopub.execute_input": "2021-10-18T16:13:07.984050Z",
     "iopub.status.busy": "2021-10-18T16:13:07.978738Z",
     "iopub.status.idle": "2021-10-18T16:13:08.646477Z",
     "shell.execute_reply": "2021-10-18T16:13:08.645952Z",
     "shell.execute_reply.started": "2021-10-18T16:07:15.639737Z"
    },
    "papermill": {
     "duration": 0.692797,
     "end_time": "2021-10-18T16:13:08.646610",
     "exception": false,
     "start_time": "2021-10-18T16:13:07.953813",
     "status": "completed"
    },
    "tags": []
   },
   "outputs": [
    {
     "name": "stdout",
     "output_type": "stream",
     "text": [
      "# YOLOv5 🚀 by Ultralytics, GPL-3.0 license\r\n",
      "# Hyperparameters for COCO training from scratch\r\n",
      "# python train.py --batch 40 --cfg yolov5m.yaml --weights '' --data coco.yaml --img 640 --epochs 300\r\n",
      "# See tutorials for hyperparameter evolution https://github.com/ultralytics/yolov5#tutorials\r\n",
      "\r\n",
      "lr0: 0.01  # initial learning rate (SGD=1E-2, Adam=1E-3)\r\n",
      "lrf: 0.1  # final OneCycleLR learning rate (lr0 * lrf)\r\n",
      "momentum: 0.937  # SGD momentum/Adam beta1\r\n",
      "weight_decay: 0.0005  # optimizer weight decay 5e-4\r\n",
      "warmup_epochs: 3.0  # warmup epochs (fractions ok)\r\n",
      "warmup_momentum: 0.8  # warmup initial momentum\r\n",
      "warmup_bias_lr: 0.1  # warmup initial bias lr\r\n",
      "box: 0.05  # box loss gain\r\n",
      "cls: 0.5  # cls loss gain\r\n",
      "cls_pw: 1.0  # cls BCELoss positive_weight\r\n",
      "obj: 1.0  # obj loss gain (scale with pixels)\r\n",
      "obj_pw: 1.0  # obj BCELoss positive_weight\r\n",
      "iou_t: 0.20  # IoU training threshold\r\n",
      "anchor_t: 4.0  # anchor-multiple threshold\r\n",
      "# anchors: 3  # anchors per output layer (0 to ignore)\r\n",
      "fl_gamma: 0.0  # focal loss gamma (efficientDet default gamma=1.5)\r\n",
      "hsv_h: 0.015  # image HSV-Hue augmentation (fraction)\r\n",
      "hsv_s: 0.7  # image HSV-Saturation augmentation (fraction)\r\n",
      "hsv_v: 0.4  # image HSV-Value augmentation (fraction)\r\n",
      "degrees: 0.0  # image rotation (+/- deg)\r\n",
      "translate: 0.1  # image translation (+/- fraction)\r\n",
      "scale: 0.5  # image scale (+/- gain)\r\n",
      "shear: 0.0  # image shear (+/- deg)\r\n",
      "perspective: 0.0  # image perspective (+/- fraction), range 0-0.001\r\n",
      "flipud: 0.0  # image flip up-down (probability)\r\n",
      "fliplr: 0.5  # image flip left-right (probability)\r\n",
      "mosaic: 1.0  # image mosaic (probability)\r\n",
      "mixup: 0.0  # image mixup (probability)\r\n",
      "copy_paste: 0.0  # segment copy-paste (probability)\r\n"
     ]
    }
   ],
   "source": [
    "!cat ./yolov5/data/hyps/hyp.scratch.yaml"
   ]
  },
  {
   "cell_type": "markdown",
   "id": "f43d3dee",
   "metadata": {
    "papermill": {
     "duration": 0.020227,
     "end_time": "2021-10-18T16:13:08.688028",
     "exception": false,
     "start_time": "2021-10-18T16:13:08.667801",
     "status": "completed"
    },
    "tags": []
   },
   "source": [
    "### Run YOLO training"
   ]
  },
  {
   "cell_type": "code",
   "execution_count": 12,
   "id": "203e60f0",
   "metadata": {
    "execution": {
     "iopub.execute_input": "2021-10-18T16:13:08.752451Z",
     "iopub.status.busy": "2021-10-18T16:13:08.751698Z",
     "iopub.status.idle": "2021-10-18T19:35:53.526015Z",
     "shell.execute_reply": "2021-10-18T19:35:53.526453Z"
    },
    "papermill": {
     "duration": 12164.818454,
     "end_time": "2021-10-18T19:35:53.526640",
     "exception": false,
     "start_time": "2021-10-18T16:13:08.708186",
     "status": "completed"
    },
    "tags": []
   },
   "outputs": [
    {
     "name": "stderr",
     "output_type": "stream",
     "text": [
      "  0%|          | 0/6620 [00:00<?, ?it/s]"
     ]
    },
    {
     "name": "stdout",
     "output_type": "stream",
     "text": [
      "Making a yaml file for training and validation data...\n"
     ]
    },
    {
     "name": "stderr",
     "output_type": "stream",
     "text": [
      "100%|██████████| 6620/6620 [01:05<00:00, 100.83it/s]\n",
      "100%|██████████| 3310/3310 [00:31<00:00, 106.53it/s]\n"
     ]
    },
    {
     "name": "stdout",
     "output_type": "stream",
     "text": [
      "Making a yaml file for configuration of YOLOv5...\n",
      "Running YOLOv5 training...\n",
      "Downloading https://ultralytics.com/assets/Arial.ttf to /root/.config/Ultralytics/Arial.ttf...\r\n",
      "\u001b[34m\u001b[1mtrain: \u001b[0mweights=yolov5s.pt, cfg=./yolov5s.yaml, data=./yolov5_0.yaml, hyp=./yolov5/data/hyps/hyp.scratch.yaml, epochs=5, batch_size=24, imgsz=800, rect=False, resume=False, nosave=False, noval=False, noautoanchor=False, evolve=None, bucket=, cache=None, image_weights=False, device=, multi_scale=False, single_cls=False, adam=False, sync_bn=False, workers=8, project=yolov5/runs/train, name=exp, exist_ok=False, quad=False, linear_lr=False, label_smoothing=0.0, patience=100, freeze=0, save_period=-1, local_rank=-1, entity=None, upload_dataset=False, bbox_interval=-1, artifact_alias=latest\r\n",
      "\u001b[34m\u001b[1mgithub: \u001b[0mskipping check (not a git repository), for updates see https://github.com/ultralytics/yolov5\r\n",
      "2021-10-18 16:14:52.104143: I tensorflow/stream_executor/platform/default/dso_loader.cc:49] Successfully opened dynamic library libcudart.so.11.0\r\n",
      "2021-10-18 16:14:56.792611: I tensorflow/stream_executor/platform/default/dso_loader.cc:49] Successfully opened dynamic library libcudart.so.11.0\r\n",
      "\u001b[34m\u001b[1mwandb\u001b[0m: W&B syncing is set to `offline` in this directory.  Run `wandb online` or set WANDB_MODE=online to enable cloud syncing.\r\n",
      "\r\n",
      "\r\n",
      "\r\n",
      "\r\n",
      "CondaEnvException: Unable to determine environment\r\n",
      "\r\n",
      "Please re-run this command with one of the following options:\r\n",
      "\r\n",
      "* Provide an environment name via --name or -n\r\n",
      "* Re-run this command inside an activated conda environment.\r\n",
      "\r\n",
      "\r\n",
      "\r\n",
      "\r\n",
      "\r\n",
      "\r\n",
      "\r\n",
      "\r\n",
      "\r\n",
      "\r\n",
      "\r\n",
      "\r\n",
      "\r\n",
      "\r\n",
      "\r\n",
      "\r\n",
      "\r\n",
      "\r\n",
      "\r\n",
      "\r\n",
      "\r\n",
      "\r\n",
      "\r\n",
      "\r\n",
      "\r\n",
      "\r\n",
      "\u001b[34m\u001b[1mwandb\u001b[0m: Waiting for W&B process to finish, PID 160\r\n",
      "\u001b[34m\u001b[1mwandb\u001b[0m: Program ended successfully.\r\n",
      "\u001b[34m\u001b[1mwandb\u001b[0m: Find user logs for this run at: /kaggle/working/wandb/offline-run-20211018_161455-10t86jlw/logs/debug.log\r\n",
      "\u001b[34m\u001b[1mwandb\u001b[0m: Find internal logs for this run at: /kaggle/working/wandb/offline-run-20211018_161455-10t86jlw/logs/debug-internal.log\r\n",
      "\u001b[34m\u001b[1mwandb\u001b[0m: Run summary:\r\n",
      "\u001b[34m\u001b[1mwandb\u001b[0m:                 train/box_loss 0.03066\r\n",
      "\u001b[34m\u001b[1mwandb\u001b[0m:                 train/obj_loss 0.01656\r\n",
      "\u001b[34m\u001b[1mwandb\u001b[0m:                 train/cls_loss 0.0\r\n",
      "\u001b[34m\u001b[1mwandb\u001b[0m:              metrics/precision 0.81925\r\n",
      "\u001b[34m\u001b[1mwandb\u001b[0m:                 metrics/recall 0.83667\r\n",
      "\u001b[34m\u001b[1mwandb\u001b[0m:                metrics/mAP_0.5 0.86738\r\n",
      "\u001b[34m\u001b[1mwandb\u001b[0m:           metrics/mAP_0.5:0.95 0.40163\r\n",
      "\u001b[34m\u001b[1mwandb\u001b[0m:                   val/box_loss 0.02737\r\n",
      "\u001b[34m\u001b[1mwandb\u001b[0m:                   val/obj_loss 0.00826\r\n",
      "\u001b[34m\u001b[1mwandb\u001b[0m:                   val/cls_loss 0.0\r\n",
      "\u001b[34m\u001b[1mwandb\u001b[0m:                          x/lr0 0.00411\r\n",
      "\u001b[34m\u001b[1mwandb\u001b[0m:                          x/lr1 0.00411\r\n",
      "\u001b[34m\u001b[1mwandb\u001b[0m:                          x/lr2 0.00411\r\n",
      "\u001b[34m\u001b[1mwandb\u001b[0m:                       _runtime 3954\r\n",
      "\u001b[34m\u001b[1mwandb\u001b[0m:                     _timestamp 1634577649\r\n",
      "\u001b[34m\u001b[1mwandb\u001b[0m:                          _step 5\r\n",
      "\u001b[34m\u001b[1mwandb\u001b[0m: Run history:\r\n",
      "\u001b[34m\u001b[1mwandb\u001b[0m:         train/box_loss █▄▃▂▁\r\n",
      "\u001b[34m\u001b[1mwandb\u001b[0m:         train/obj_loss █▃▂▁▁\r\n",
      "\u001b[34m\u001b[1mwandb\u001b[0m:         train/cls_loss ▁▁▁▁▁\r\n",
      "\u001b[34m\u001b[1mwandb\u001b[0m:      metrics/precision ▁▂▂▇█\r\n",
      "\u001b[34m\u001b[1mwandb\u001b[0m:         metrics/recall ▁▄▁██\r\n",
      "\u001b[34m\u001b[1mwandb\u001b[0m:        metrics/mAP_0.5 ▁▃▂▇█\r\n",
      "\u001b[34m\u001b[1mwandb\u001b[0m:   metrics/mAP_0.5:0.95 ▁▃▃▇█\r\n",
      "\u001b[34m\u001b[1mwandb\u001b[0m:           val/box_loss █▄▂▁▁\r\n",
      "\u001b[34m\u001b[1mwandb\u001b[0m:           val/obj_loss ▆▅█▁▂\r\n",
      "\u001b[34m\u001b[1mwandb\u001b[0m:           val/cls_loss ▁▁▁▁▁\r\n",
      "\u001b[34m\u001b[1mwandb\u001b[0m:                  x/lr0 ▁▆█▄▄\r\n",
      "\u001b[34m\u001b[1mwandb\u001b[0m:                  x/lr1 ▁▆█▄▄\r\n",
      "\u001b[34m\u001b[1mwandb\u001b[0m:                  x/lr2 █▆▃▁▁\r\n",
      "\u001b[34m\u001b[1mwandb\u001b[0m:               _runtime ▁▃▄▆██\r\n",
      "\u001b[34m\u001b[1mwandb\u001b[0m:             _timestamp ▁▃▄▆██\r\n",
      "\u001b[34m\u001b[1mwandb\u001b[0m:                  _step ▁▂▄▅▇█\r\n",
      "\u001b[34m\u001b[1mwandb\u001b[0m: \r\n",
      "\u001b[34m\u001b[1mwandb\u001b[0m: You can sync this run to the cloud by running:\r\n",
      "\u001b[34m\u001b[1mwandb\u001b[0m: \u001b[33mwandb sync /kaggle/working/wandb/offline-run-20211018_161455-10t86jlw\u001b[0m\r\n"
     ]
    },
    {
     "name": "stderr",
     "output_type": "stream",
     "text": [
      "  0%|          | 0/6620 [00:00<?, ?it/s]"
     ]
    },
    {
     "name": "stdout",
     "output_type": "stream",
     "text": [
      "Done\n",
      "Making a yaml file for training and validation data...\n"
     ]
    },
    {
     "name": "stderr",
     "output_type": "stream",
     "text": [
      "100%|██████████| 6620/6620 [00:36<00:00, 179.68it/s]\n",
      "100%|██████████| 3310/3310 [00:22<00:00, 147.31it/s]\n"
     ]
    },
    {
     "name": "stdout",
     "output_type": "stream",
     "text": [
      "Making a yaml file for configuration of YOLOv5...\n",
      "Running YOLOv5 training...\n",
      "\u001b[34m\u001b[1mtrain: \u001b[0mweights=yolov5s.pt, cfg=./yolov5s.yaml, data=./yolov5_1.yaml, hyp=./yolov5/data/hyps/hyp.scratch.yaml, epochs=5, batch_size=24, imgsz=800, rect=False, resume=False, nosave=False, noval=False, noautoanchor=False, evolve=None, bucket=, cache=None, image_weights=False, device=, multi_scale=False, single_cls=False, adam=False, sync_bn=False, workers=8, project=yolov5/runs/train, name=exp, exist_ok=False, quad=False, linear_lr=False, label_smoothing=0.0, patience=100, freeze=0, save_period=-1, local_rank=-1, entity=None, upload_dataset=False, bbox_interval=-1, artifact_alias=latest\r\n",
      "\u001b[34m\u001b[1mgithub: \u001b[0mskipping check (not a git repository), for updates see https://github.com/ultralytics/yolov5\r\n",
      "2021-10-18 17:22:02.751399: I tensorflow/stream_executor/platform/default/dso_loader.cc:49] Successfully opened dynamic library libcudart.so.11.0\r\n",
      "2021-10-18 17:22:05.358051: I tensorflow/stream_executor/platform/default/dso_loader.cc:49] Successfully opened dynamic library libcudart.so.11.0\r\n",
      "\u001b[34m\u001b[1mwandb\u001b[0m: W&B syncing is set to `offline` in this directory.  Run `wandb online` or set WANDB_MODE=online to enable cloud syncing.\r\n",
      "\r\n",
      "CondaEnvException: Unable to determine environment\r\n",
      "\r\n",
      "Please re-run this command with one of the following options:\r\n",
      "\r\n",
      "* Provide an environment name via --name or -n\r\n",
      "* Re-run this command inside an activated conda environment.\r\n",
      "\r\n",
      "\r\n",
      "\r\n",
      "\r\n",
      "\r\n",
      "\r\n",
      "\r\n",
      "\r\n",
      "\r\n",
      "\r\n",
      "\r\n",
      "\r\n",
      "\r\n",
      "\r\n",
      "\r\n",
      "\r\n",
      "\r\n",
      "\r\n",
      "\r\n",
      "\r\n",
      "\r\n",
      "\r\n",
      "\r\n",
      "\r\n",
      "\r\n",
      "\r\n",
      "\u001b[34m\u001b[1mwandb\u001b[0m: Waiting for W&B process to finish, PID 2798\r\n",
      "\u001b[34m\u001b[1mwandb\u001b[0m: Program ended successfully.\r\n",
      "\u001b[34m\u001b[1mwandb\u001b[0m: Find user logs for this run at: /kaggle/working/wandb/offline-run-20211018_172204-3cl72ji9/logs/debug.log\r\n",
      "\u001b[34m\u001b[1mwandb\u001b[0m: Find internal logs for this run at: /kaggle/working/wandb/offline-run-20211018_172204-3cl72ji9/logs/debug-internal.log\r\n",
      "\u001b[34m\u001b[1mwandb\u001b[0m: Run summary:\r\n",
      "\u001b[34m\u001b[1mwandb\u001b[0m:                 train/box_loss 0.03129\r\n",
      "\u001b[34m\u001b[1mwandb\u001b[0m:                 train/obj_loss 0.0166\r\n",
      "\u001b[34m\u001b[1mwandb\u001b[0m:                 train/cls_loss 0.0\r\n",
      "\u001b[34m\u001b[1mwandb\u001b[0m:              metrics/precision 0.79978\r\n",
      "\u001b[34m\u001b[1mwandb\u001b[0m:                 metrics/recall 0.80011\r\n",
      "\u001b[34m\u001b[1mwandb\u001b[0m:                metrics/mAP_0.5 0.8403\r\n",
      "\u001b[34m\u001b[1mwandb\u001b[0m:           metrics/mAP_0.5:0.95 0.37273\r\n",
      "\u001b[34m\u001b[1mwandb\u001b[0m:                   val/box_loss 0.02289\r\n",
      "\u001b[34m\u001b[1mwandb\u001b[0m:                   val/obj_loss 0.0084\r\n",
      "\u001b[34m\u001b[1mwandb\u001b[0m:                   val/cls_loss 0.0\r\n",
      "\u001b[34m\u001b[1mwandb\u001b[0m:                          x/lr0 0.00411\r\n",
      "\u001b[34m\u001b[1mwandb\u001b[0m:                          x/lr1 0.00411\r\n",
      "\u001b[34m\u001b[1mwandb\u001b[0m:                          x/lr2 0.00411\r\n",
      "\u001b[34m\u001b[1mwandb\u001b[0m:                       _runtime 3965\r\n",
      "\u001b[34m\u001b[1mwandb\u001b[0m:                     _timestamp 1634581689\r\n",
      "\u001b[34m\u001b[1mwandb\u001b[0m:                          _step 5\r\n",
      "\u001b[34m\u001b[1mwandb\u001b[0m: Run history:\r\n",
      "\u001b[34m\u001b[1mwandb\u001b[0m:         train/box_loss █▃▂▂▁\r\n",
      "\u001b[34m\u001b[1mwandb\u001b[0m:         train/obj_loss █▃▂▁▁\r\n",
      "\u001b[34m\u001b[1mwandb\u001b[0m:         train/cls_loss ▁▁▁▁▁\r\n",
      "\u001b[34m\u001b[1mwandb\u001b[0m:      metrics/precision ▁▅▇▆█\r\n",
      "\u001b[34m\u001b[1mwandb\u001b[0m:         metrics/recall ▁▄▇▇█\r\n",
      "\u001b[34m\u001b[1mwandb\u001b[0m:        metrics/mAP_0.5 ▁▅▇▇█\r\n",
      "\u001b[34m\u001b[1mwandb\u001b[0m:   metrics/mAP_0.5:0.95 ▁▄▆▆█\r\n",
      "\u001b[34m\u001b[1mwandb\u001b[0m:           val/box_loss █▄▄▁▁\r\n",
      "\u001b[34m\u001b[1mwandb\u001b[0m:           val/obj_loss █▃▃▂▁\r\n",
      "\u001b[34m\u001b[1mwandb\u001b[0m:           val/cls_loss ▁▁▁▁▁\r\n",
      "\u001b[34m\u001b[1mwandb\u001b[0m:                  x/lr0 ▁▆█▄▄\r\n",
      "\u001b[34m\u001b[1mwandb\u001b[0m:                  x/lr1 ▁▆█▄▄\r\n",
      "\u001b[34m\u001b[1mwandb\u001b[0m:                  x/lr2 █▆▃▁▁\r\n",
      "\u001b[34m\u001b[1mwandb\u001b[0m:               _runtime ▁▃▄▆██\r\n",
      "\u001b[34m\u001b[1mwandb\u001b[0m:             _timestamp ▁▃▄▆██\r\n",
      "\u001b[34m\u001b[1mwandb\u001b[0m:                  _step ▁▂▄▅▇█\r\n",
      "\u001b[34m\u001b[1mwandb\u001b[0m: \r\n",
      "\u001b[34m\u001b[1mwandb\u001b[0m: You can sync this run to the cloud by running:\r\n",
      "\u001b[34m\u001b[1mwandb\u001b[0m: \u001b[33mwandb sync /kaggle/working/wandb/offline-run-20211018_172204-3cl72ji9\u001b[0m\r\n"
     ]
    },
    {
     "name": "stderr",
     "output_type": "stream",
     "text": [
      "  0%|          | 0/6620 [00:00<?, ?it/s]"
     ]
    },
    {
     "name": "stdout",
     "output_type": "stream",
     "text": [
      "Done\n",
      "Making a yaml file for training and validation data...\n"
     ]
    },
    {
     "name": "stderr",
     "output_type": "stream",
     "text": [
      "100%|██████████| 6620/6620 [00:28<00:00, 232.44it/s]\n",
      "100%|██████████| 3310/3310 [00:19<00:00, 170.97it/s]\n"
     ]
    },
    {
     "name": "stdout",
     "output_type": "stream",
     "text": [
      "Making a yaml file for configuration of YOLOv5...\n",
      "Running YOLOv5 training...\n",
      "\u001b[34m\u001b[1mtrain: \u001b[0mweights=yolov5s.pt, cfg=./yolov5s.yaml, data=./yolov5_2.yaml, hyp=./yolov5/data/hyps/hyp.scratch.yaml, epochs=5, batch_size=24, imgsz=800, rect=False, resume=False, nosave=False, noval=False, noautoanchor=False, evolve=None, bucket=, cache=None, image_weights=False, device=, multi_scale=False, single_cls=False, adam=False, sync_bn=False, workers=8, project=yolov5/runs/train, name=exp, exist_ok=False, quad=False, linear_lr=False, label_smoothing=0.0, patience=100, freeze=0, save_period=-1, local_rank=-1, entity=None, upload_dataset=False, bbox_interval=-1, artifact_alias=latest\r\n",
      "\u001b[34m\u001b[1mgithub: \u001b[0mskipping check (not a git repository), for updates see https://github.com/ultralytics/yolov5\r\n",
      "2021-10-18 18:29:10.467738: I tensorflow/stream_executor/platform/default/dso_loader.cc:49] Successfully opened dynamic library libcudart.so.11.0\r\n",
      "2021-10-18 18:29:13.041127: I tensorflow/stream_executor/platform/default/dso_loader.cc:49] Successfully opened dynamic library libcudart.so.11.0\r\n",
      "\u001b[34m\u001b[1mwandb\u001b[0m: W&B syncing is set to `offline` in this directory.  Run `wandb online` or set WANDB_MODE=online to enable cloud syncing.\r\n",
      "\r\n",
      "CondaEnvException: Unable to determine environment\r\n",
      "\r\n",
      "Please re-run this command with one of the following options:\r\n",
      "\r\n",
      "* Provide an environment name via --name or -n\r\n",
      "* Re-run this command inside an activated conda environment.\r\n",
      "\r\n",
      "\r\n",
      "\r\n",
      "\r\n",
      "\r\n",
      "\r\n",
      "\r\n",
      "\r\n",
      "\r\n",
      "\r\n",
      "\r\n",
      "\r\n",
      "\r\n",
      "\r\n",
      "\r\n",
      "\r\n",
      "\r\n",
      "\r\n",
      "\r\n",
      "\r\n",
      "\r\n",
      "\r\n",
      "\r\n",
      "\r\n",
      "\r\n",
      "\r\n",
      "\u001b[34m\u001b[1mwandb\u001b[0m: Waiting for W&B process to finish, PID 5478\r\n",
      "\u001b[34m\u001b[1mwandb\u001b[0m: Program ended successfully.\r\n",
      "\u001b[34m\u001b[1mwandb\u001b[0m: Find user logs for this run at: /kaggle/working/wandb/offline-run-20211018_182911-2m0whr4q/logs/debug.log\r\n",
      "\u001b[34m\u001b[1mwandb\u001b[0m: Find internal logs for this run at: /kaggle/working/wandb/offline-run-20211018_182911-2m0whr4q/logs/debug-internal.log\r\n",
      "\u001b[34m\u001b[1mwandb\u001b[0m: Run summary:\r\n",
      "\u001b[34m\u001b[1mwandb\u001b[0m:                 train/box_loss 0.03136\r\n",
      "\u001b[34m\u001b[1mwandb\u001b[0m:                 train/obj_loss 0.01656\r\n",
      "\u001b[34m\u001b[1mwandb\u001b[0m:                 train/cls_loss 0.0\r\n",
      "\u001b[34m\u001b[1mwandb\u001b[0m:              metrics/precision 0.77407\r\n",
      "\u001b[34m\u001b[1mwandb\u001b[0m:                 metrics/recall 0.80429\r\n",
      "\u001b[34m\u001b[1mwandb\u001b[0m:                metrics/mAP_0.5 0.81573\r\n",
      "\u001b[34m\u001b[1mwandb\u001b[0m:           metrics/mAP_0.5:0.95 0.37003\r\n",
      "\u001b[34m\u001b[1mwandb\u001b[0m:                   val/box_loss 0.0278\r\n",
      "\u001b[34m\u001b[1mwandb\u001b[0m:                   val/obj_loss 0.00802\r\n",
      "\u001b[34m\u001b[1mwandb\u001b[0m:                   val/cls_loss 0.0\r\n",
      "\u001b[34m\u001b[1mwandb\u001b[0m:                          x/lr0 0.00411\r\n",
      "\u001b[34m\u001b[1mwandb\u001b[0m:                          x/lr1 0.00411\r\n",
      "\u001b[34m\u001b[1mwandb\u001b[0m:                          x/lr2 0.00411\r\n",
      "\u001b[34m\u001b[1mwandb\u001b[0m:                       _runtime 3993\r\n",
      "\u001b[34m\u001b[1mwandb\u001b[0m:                     _timestamp 1634585745\r\n",
      "\u001b[34m\u001b[1mwandb\u001b[0m:                          _step 5\r\n",
      "\u001b[34m\u001b[1mwandb\u001b[0m: Run history:\r\n",
      "\u001b[34m\u001b[1mwandb\u001b[0m:         train/box_loss █▄▂▁▁\r\n",
      "\u001b[34m\u001b[1mwandb\u001b[0m:         train/obj_loss █▃▂▁▁\r\n",
      "\u001b[34m\u001b[1mwandb\u001b[0m:         train/cls_loss ▁▁▁▁▁\r\n",
      "\u001b[34m\u001b[1mwandb\u001b[0m:      metrics/precision ▁▆▇▇█\r\n",
      "\u001b[34m\u001b[1mwandb\u001b[0m:         metrics/recall ▁▅█▇█\r\n",
      "\u001b[34m\u001b[1mwandb\u001b[0m:        metrics/mAP_0.5 ▁▅█▇█\r\n",
      "\u001b[34m\u001b[1mwandb\u001b[0m:   metrics/mAP_0.5:0.95 ▁▄▇▇█\r\n",
      "\u001b[34m\u001b[1mwandb\u001b[0m:           val/box_loss █▄▂▂▁\r\n",
      "\u001b[34m\u001b[1mwandb\u001b[0m:           val/obj_loss █▄▂▂▁\r\n",
      "\u001b[34m\u001b[1mwandb\u001b[0m:           val/cls_loss ▁▁▁▁▁\r\n",
      "\u001b[34m\u001b[1mwandb\u001b[0m:                  x/lr0 ▁▆█▄▄\r\n",
      "\u001b[34m\u001b[1mwandb\u001b[0m:                  x/lr1 ▁▆█▄▄\r\n",
      "\u001b[34m\u001b[1mwandb\u001b[0m:                  x/lr2 █▆▃▁▁\r\n",
      "\u001b[34m\u001b[1mwandb\u001b[0m:               _runtime ▁▃▄▆██\r\n",
      "\u001b[34m\u001b[1mwandb\u001b[0m:             _timestamp ▁▃▄▆██\r\n",
      "\u001b[34m\u001b[1mwandb\u001b[0m:                  _step ▁▂▄▅▇█\r\n",
      "\u001b[34m\u001b[1mwandb\u001b[0m: \r\n",
      "\u001b[34m\u001b[1mwandb\u001b[0m: You can sync this run to the cloud by running:\r\n",
      "\u001b[34m\u001b[1mwandb\u001b[0m: \u001b[33mwandb sync /kaggle/working/wandb/offline-run-20211018_182911-2m0whr4q\u001b[0m\r\n",
      "Done\n"
     ]
    }
   ],
   "source": [
    "!rm -rf ./nfl\n",
    "!rm -rf ./yolov5/runs\n",
    "!rm -rf ./runs*\n",
    "\n",
    "for i in range(CFG[\"fold_num\"]):\n",
    "    print(\"Making a yaml file for training and validation data...\")\n",
    "    create_file(df_train, i, CFG['input_path'], CFG['output_path'])\n",
    "    print(\"Making a yaml file for configuration of YOLOv5...\")\n",
    "    make_training_yaml(i)\n",
    "\n",
    "    print(\"Running YOLOv5 training...\")\n",
    "    !python ./yolov5/train.py \\\n",
    "        --img     {CFG[\"size\"]} \\\n",
    "        --weights {CFG[\"model\"]}.pt \\\n",
    "        --batch   {CFG[\"batch_size\"]} \\\n",
    "        --epochs  {CFG[\"epochs\"]} \\\n",
    "        --hyp     ./yolov5/data/hyps/hyp.scratch.yaml \\\n",
    "        --data    ./yolov5_{i}.yaml \\\n",
    "        --cfg     ./{CFG[\"model\"]}.yaml\n",
    "    \n",
    "    !rm -rf ./nfl/images/train/{i}\n",
    "    !rm -rf ./wandb/\n",
    "    !mv ./yolov5/runs ./runs_{i}\n",
    "    print(\"Done\")"
   ]
  },
  {
   "cell_type": "code",
   "execution_count": 13,
   "id": "213ad607",
   "metadata": {
    "execution": {
     "iopub.execute_input": "2021-10-18T19:35:57.534548Z",
     "iopub.status.busy": "2021-10-18T19:35:57.533667Z",
     "iopub.status.idle": "2021-10-18T19:36:03.823452Z",
     "shell.execute_reply": "2021-10-18T19:36:03.822582Z",
     "shell.execute_reply.started": "2021-10-14T13:36:01.244564Z"
    },
    "papermill": {
     "duration": 8.326607,
     "end_time": "2021-10-18T19:36:03.823595",
     "exception": false,
     "start_time": "2021-10-18T19:35:55.496988",
     "status": "completed"
    },
    "tags": []
   },
   "outputs": [],
   "source": [
    "for i in range(CFG[\"fold_num\"]):\n",
    "    !mkdir result_{i}\n",
    "    !cp ./runs_{i}/train/exp/results*  ./result_{i}/\n",
    "    !cp ./runs_{i}/train/exp/weights/* ./result_{i}/"
   ]
  },
  {
   "cell_type": "code",
   "execution_count": 14,
   "id": "87ebe38b",
   "metadata": {
    "execution": {
     "iopub.execute_input": "2021-10-18T19:36:07.805183Z",
     "iopub.status.busy": "2021-10-18T19:36:07.804423Z",
     "iopub.status.idle": "2021-10-18T19:36:11.932433Z",
     "shell.execute_reply": "2021-10-18T19:36:11.931836Z",
     "shell.execute_reply.started": "2021-10-14T13:36:14.556391Z"
    },
    "papermill": {
     "duration": 6.139647,
     "end_time": "2021-10-18T19:36:11.932585",
     "exception": false,
     "start_time": "2021-10-18T19:36:05.792938",
     "status": "completed"
    },
    "tags": []
   },
   "outputs": [],
   "source": [
    "!rm -rf yolov5_* {CFG[\"model\"]}*\n",
    "!rm -rf ./yolov5\n",
    "!rm -rf ./nfl/\n",
    "!rm -rf ./runs_*"
   ]
  }
 ],
 "metadata": {
  "kernelspec": {
   "display_name": "Python 3",
   "language": "python",
   "name": "python3"
  },
  "language_info": {
   "codemirror_mode": {
    "name": "ipython",
    "version": 3
   },
   "file_extension": ".py",
   "mimetype": "text/x-python",
   "name": "python",
   "nbconvert_exporter": "python",
   "pygments_lexer": "ipython3",
   "version": "3.7.10"
  },
  "papermill": {
   "default_parameters": {},
   "duration": 12211.175405,
   "end_time": "2021-10-18T19:36:15.820965",
   "environment_variables": {},
   "exception": null,
   "input_path": "__notebook__.ipynb",
   "output_path": "__notebook__.ipynb",
   "parameters": {},
   "start_time": "2021-10-18T16:12:44.645560",
   "version": "2.3.3"
  }
 },
 "nbformat": 4,
 "nbformat_minor": 5
}
