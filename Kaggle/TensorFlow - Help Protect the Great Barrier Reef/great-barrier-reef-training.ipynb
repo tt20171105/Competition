{
 "cells": [
  {
   "cell_type": "code",
   "execution_count": 1,
   "id": "d38ce5f5",
   "metadata": {
    "execution": {
     "iopub.execute_input": "2022-02-09T14:49:28.118330Z",
     "iopub.status.busy": "2022-02-09T14:49:28.115968Z",
     "iopub.status.idle": "2022-02-09T14:49:28.140663Z",
     "shell.execute_reply": "2022-02-09T14:49:28.142855Z",
     "shell.execute_reply.started": "2022-02-09T14:15:54.656503Z"
    },
    "papermill": {
     "duration": 0.06321,
     "end_time": "2022-02-09T14:49:28.143317",
     "exception": false,
     "start_time": "2022-02-09T14:49:28.080107",
     "status": "completed"
    },
    "tags": []
   },
   "outputs": [],
   "source": [
    "import sys\n",
    "sys.path.append('../input/timm-pytorch-image-models/pytorch-image-models-master')"
   ]
  },
  {
   "cell_type": "code",
   "execution_count": 2,
   "id": "9f2150d5",
   "metadata": {
    "execution": {
     "iopub.execute_input": "2022-02-09T14:49:28.212208Z",
     "iopub.status.busy": "2022-02-09T14:49:28.209235Z",
     "iopub.status.idle": "2022-02-09T14:49:33.411823Z",
     "shell.execute_reply": "2022-02-09T14:49:33.411143Z",
     "shell.execute_reply.started": "2022-02-09T14:15:54.962742Z"
    },
    "papermill": {
     "duration": 5.242811,
     "end_time": "2022-02-09T14:49:33.412003",
     "exception": false,
     "start_time": "2022-02-09T14:49:28.169192",
     "status": "completed"
    },
    "tags": []
   },
   "outputs": [],
   "source": [
    "import os\n",
    "import gc\n",
    "import cv2\n",
    "import copy\n",
    "import time\n",
    "import yaml\n",
    "import random\n",
    "import shutil\n",
    "import warnings\n",
    "import subprocess\n",
    "import numpy as np\n",
    "import pandas as pd\n",
    "import matplotlib.pyplot as plt\n",
    "from glob import glob as glob_file\n",
    "from tqdm import tqdm\n",
    "from PIL import Image, ImageDraw\n",
    "from shutil import copyfile\n",
    "from IPython.core.display import Video, display\n",
    "from sklearn.metrics import mean_squared_error\n",
    "from sklearn.model_selection import train_test_split, KFold, GroupKFold, StratifiedKFold\n",
    "\n",
    "import timm\n",
    "import torch\n",
    "from fastai.vision.all import *\n",
    "\n",
    "warnings.simplefilter('ignore')\n",
    "pd.set_option(\"max_columns\", 150)\n",
    "pd.set_option('display.max_rows', 150)"
   ]
  },
  {
   "cell_type": "code",
   "execution_count": 3,
   "id": "f6385efc",
   "metadata": {
    "execution": {
     "iopub.execute_input": "2022-02-09T14:49:33.445454Z",
     "iopub.status.busy": "2022-02-09T14:49:33.443989Z",
     "iopub.status.idle": "2022-02-09T14:49:33.447810Z",
     "shell.execute_reply": "2022-02-09T14:49:33.447197Z",
     "shell.execute_reply.started": "2022-02-09T14:16:00.474374Z"
    },
    "papermill": {
     "duration": 0.022606,
     "end_time": "2022-02-09T14:49:33.447967",
     "exception": false,
     "start_time": "2022-02-09T14:49:33.425361",
     "status": "completed"
    },
    "tags": []
   },
   "outputs": [],
   "source": [
    "#timm.list_models()"
   ]
  },
  {
   "cell_type": "markdown",
   "id": "25c69ba2",
   "metadata": {
    "papermill": {
     "duration": 0.012515,
     "end_time": "2022-02-09T14:49:33.473388",
     "exception": false,
     "start_time": "2022-02-09T14:49:33.460873",
     "status": "completed"
    },
    "tags": []
   },
   "source": [
    "# Configurations"
   ]
  },
  {
   "cell_type": "code",
   "execution_count": 4,
   "id": "e8d48866",
   "metadata": {
    "execution": {
     "iopub.execute_input": "2022-02-09T14:49:33.514687Z",
     "iopub.status.busy": "2022-02-09T14:49:33.512216Z",
     "iopub.status.idle": "2022-02-09T14:49:33.518354Z",
     "shell.execute_reply": "2022-02-09T14:49:33.517701Z",
     "shell.execute_reply.started": "2022-02-09T14:21:17.952017Z"
    },
    "papermill": {
     "duration": 0.032219,
     "end_time": "2022-02-09T14:49:33.518501",
     "exception": false,
     "start_time": "2022-02-09T14:49:33.486282",
     "status": "completed"
    },
    "tags": []
   },
   "outputs": [
    {
     "data": {
      "text/plain": [
       "{'save_prev': [True, ['petfinder_*.pth']],\n",
       " 'seed': 42,\n",
       " 'device': 'cuda:0',\n",
       " 'input_img': '../input/tensorflow-great-barrier-reef/train_images/',\n",
       " 'input_path': '../input/tensorflow-great-barrier-reef/train.csv',\n",
       " 'output_path': './',\n",
       " 'save_name': 'gbr_swin_binary_fastai',\n",
       " 'model': 'swin_large_patch4_window7_224_in22k',\n",
       " 'loss': 'binary',\n",
       " 'size': 224,\n",
       " 'batch_size': 32,\n",
       " 'n': 6000,\n",
       " 'epochs': 10,\n",
       " 'lr': 0.0002,\n",
       " 'early_stopping': 3,\n",
       " 'num_workers': 4}"
      ]
     },
     "execution_count": 4,
     "metadata": {},
     "output_type": "execute_result"
    }
   ],
   "source": [
    "CFG = {\n",
    "    \"save_prev\"     : [True, [\"petfinder_*.pth\"]],\n",
    "    \"seed\"          : 42,\n",
    "    'device'        : \"cuda:0\" if torch.cuda.is_available() else \"cpu\",\n",
    "    \"input_img\"     : '../input/tensorflow-great-barrier-reef/train_images/',\n",
    "    \"input_path\"    : '../input/tensorflow-great-barrier-reef/train.csv',\n",
    "    \"output_path\"   : './',\n",
    "    \"save_name\"     : \"gbr_swin_binary_fastai\",\n",
    "    \"model\"         : \"swin_large_patch4_window7_224_in22k\",\n",
    "    \"loss\"          : \"binary\",\n",
    "    \"size\"          : 224,\n",
    "    \"batch_size\"    : 32,\n",
    "    \"n\"             : 6000,\n",
    "    \"epochs\"        : 10,\n",
    "    \"lr\"            : 0.0002,\n",
    "    'early_stopping': 3,\n",
    "    \"num_workers\"   : 4\n",
    "}\n",
    "\n",
    "CFG"
   ]
  },
  {
   "cell_type": "code",
   "execution_count": 5,
   "id": "0011ea2f",
   "metadata": {
    "execution": {
     "iopub.execute_input": "2022-02-09T14:49:33.556093Z",
     "iopub.status.busy": "2022-02-09T14:49:33.554879Z",
     "iopub.status.idle": "2022-02-09T14:49:33.557644Z",
     "shell.execute_reply": "2022-02-09T14:49:33.558307Z",
     "shell.execute_reply.started": "2022-02-09T14:16:00.507945Z"
    },
    "papermill": {
     "duration": 0.025954,
     "end_time": "2022-02-09T14:49:33.558486",
     "exception": false,
     "start_time": "2022-02-09T14:49:33.532532",
     "status": "completed"
    },
    "tags": []
   },
   "outputs": [],
   "source": [
    "def get_img(path):\n",
    "    im_bgr = cv2.imread(path)\n",
    "    im_rgb = im_bgr[:, :, ::-1]\n",
    "    return im_rgb\n",
    "\n",
    "def seed_everything(seed = 42):\n",
    "    '''Sets the seed of the entire notebook so results are the same every time we run.\n",
    "    This is for REPRODUCIBILITY.'''\n",
    "    np.random.seed(seed)\n",
    "    random.seed(seed)\n",
    "    torch.manual_seed(seed)\n",
    "    torch.cuda.manual_seed(seed)\n",
    "    # When running on the CuDNN backend, two further options must be set\n",
    "    torch.backends.cudnn.deterministic = True\n",
    "    torch.backends.cudnn.benchmark = False\n",
    "    # Set a fixed value for the hash seed\n",
    "    os.environ['PYTHONHASHSEED'] = str(seed)\n",
    "    \n",
    "seed_everything(CFG[\"seed\"])"
   ]
  },
  {
   "cell_type": "markdown",
   "id": "50e4ec35",
   "metadata": {
    "papermill": {
     "duration": 0.013677,
     "end_time": "2022-02-09T14:49:33.586181",
     "exception": false,
     "start_time": "2022-02-09T14:49:33.572504",
     "status": "completed"
    },
    "tags": []
   },
   "source": [
    "# Load data"
   ]
  },
  {
   "cell_type": "code",
   "execution_count": 6,
   "id": "e70a2668",
   "metadata": {
    "execution": {
     "iopub.execute_input": "2022-02-09T14:49:33.620773Z",
     "iopub.status.busy": "2022-02-09T14:49:33.619678Z",
     "iopub.status.idle": "2022-02-09T14:49:33.780863Z",
     "shell.execute_reply": "2022-02-09T14:49:33.781412Z",
     "shell.execute_reply.started": "2022-02-09T14:16:00.522921Z"
    },
    "papermill": {
     "duration": 0.182175,
     "end_time": "2022-02-09T14:49:33.781608",
     "exception": false,
     "start_time": "2022-02-09T14:49:33.599433",
     "status": "completed"
    },
    "tags": []
   },
   "outputs": [
    {
     "name": "stdout",
     "output_type": "stream",
     "text": [
      "(23501, 8)\n",
      "0    18582\n",
      "1     4919\n",
      "Name: label, dtype: int64\n"
     ]
    },
    {
     "data": {
      "text/html": [
       "<div>\n",
       "<style scoped>\n",
       "    .dataframe tbody tr th:only-of-type {\n",
       "        vertical-align: middle;\n",
       "    }\n",
       "\n",
       "    .dataframe tbody tr th {\n",
       "        vertical-align: top;\n",
       "    }\n",
       "\n",
       "    .dataframe thead th {\n",
       "        text-align: right;\n",
       "    }\n",
       "</style>\n",
       "<table border=\"1\" class=\"dataframe\">\n",
       "  <thead>\n",
       "    <tr style=\"text-align: right;\">\n",
       "      <th></th>\n",
       "      <th>video_id</th>\n",
       "      <th>sequence</th>\n",
       "      <th>video_frame</th>\n",
       "      <th>sequence_frame</th>\n",
       "      <th>image_id</th>\n",
       "      <th>annotations</th>\n",
       "      <th>path</th>\n",
       "      <th>label</th>\n",
       "    </tr>\n",
       "  </thead>\n",
       "  <tbody>\n",
       "    <tr>\n",
       "      <th>0</th>\n",
       "      <td>0</td>\n",
       "      <td>40258</td>\n",
       "      <td>0</td>\n",
       "      <td>0</td>\n",
       "      <td>0-0</td>\n",
       "      <td>[]</td>\n",
       "      <td>../input/tensorflow-great-barrier-reef/train_images/video_0/0.jpg</td>\n",
       "      <td>0</td>\n",
       "    </tr>\n",
       "    <tr>\n",
       "      <th>1</th>\n",
       "      <td>0</td>\n",
       "      <td>40258</td>\n",
       "      <td>1</td>\n",
       "      <td>1</td>\n",
       "      <td>0-1</td>\n",
       "      <td>[]</td>\n",
       "      <td>../input/tensorflow-great-barrier-reef/train_images/video_0/1.jpg</td>\n",
       "      <td>0</td>\n",
       "    </tr>\n",
       "    <tr>\n",
       "      <th>2</th>\n",
       "      <td>0</td>\n",
       "      <td>40258</td>\n",
       "      <td>2</td>\n",
       "      <td>2</td>\n",
       "      <td>0-2</td>\n",
       "      <td>[]</td>\n",
       "      <td>../input/tensorflow-great-barrier-reef/train_images/video_0/2.jpg</td>\n",
       "      <td>0</td>\n",
       "    </tr>\n",
       "    <tr>\n",
       "      <th>3</th>\n",
       "      <td>0</td>\n",
       "      <td>40258</td>\n",
       "      <td>3</td>\n",
       "      <td>3</td>\n",
       "      <td>0-3</td>\n",
       "      <td>[]</td>\n",
       "      <td>../input/tensorflow-great-barrier-reef/train_images/video_0/3.jpg</td>\n",
       "      <td>0</td>\n",
       "    </tr>\n",
       "    <tr>\n",
       "      <th>4</th>\n",
       "      <td>0</td>\n",
       "      <td>40258</td>\n",
       "      <td>4</td>\n",
       "      <td>4</td>\n",
       "      <td>0-4</td>\n",
       "      <td>[]</td>\n",
       "      <td>../input/tensorflow-great-barrier-reef/train_images/video_0/4.jpg</td>\n",
       "      <td>0</td>\n",
       "    </tr>\n",
       "  </tbody>\n",
       "</table>\n",
       "</div>"
      ],
      "text/plain": [
       "   video_id  sequence  video_frame  sequence_frame image_id annotations  \\\n",
       "0         0     40258            0               0      0-0          []   \n",
       "1         0     40258            1               1      0-1          []   \n",
       "2         0     40258            2               2      0-2          []   \n",
       "3         0     40258            3               3      0-3          []   \n",
       "4         0     40258            4               4      0-4          []   \n",
       "\n",
       "                                                                path  label  \n",
       "0  ../input/tensorflow-great-barrier-reef/train_images/video_0/0.jpg      0  \n",
       "1  ../input/tensorflow-great-barrier-reef/train_images/video_0/1.jpg      0  \n",
       "2  ../input/tensorflow-great-barrier-reef/train_images/video_0/2.jpg      0  \n",
       "3  ../input/tensorflow-great-barrier-reef/train_images/video_0/3.jpg      0  \n",
       "4  ../input/tensorflow-great-barrier-reef/train_images/video_0/4.jpg      0  "
      ]
     },
     "execution_count": 6,
     "metadata": {},
     "output_type": "execute_result"
    }
   ],
   "source": [
    "df = pd.read_csv(CFG[\"input_path\"])\n",
    "df[\"path\"]  = CFG['input_img'] + \"video_\" + df.video_id.astype(str) + \"/\" + df.video_frame.astype(str) + \".jpg\"\n",
    "df[\"label\"] = df.annotations.apply(lambda x: x != \"[]\").astype(int)\n",
    "\n",
    "print(df.shape)\n",
    "print(df.label.value_counts())\n",
    "df.head()"
   ]
  },
  {
   "cell_type": "code",
   "execution_count": 7,
   "id": "8b376a59",
   "metadata": {
    "execution": {
     "iopub.execute_input": "2022-02-09T14:49:33.820719Z",
     "iopub.status.busy": "2022-02-09T14:49:33.819594Z",
     "iopub.status.idle": "2022-02-09T14:49:33.822167Z",
     "shell.execute_reply": "2022-02-09T14:49:33.822828Z",
     "shell.execute_reply.started": "2022-02-09T14:16:00.708804Z"
    },
    "papermill": {
     "duration": 0.026835,
     "end_time": "2022-02-09T14:49:33.823014",
     "exception": false,
     "start_time": "2022-02-09T14:49:33.796179",
     "status": "completed"
    },
    "tags": []
   },
   "outputs": [],
   "source": [
    "def prepare_dataloader(df):\n",
    "    df = df.copy()\n",
    "    \n",
    "    dataloader = ImageDataLoaders.from_df(\n",
    "        df,\n",
    "        valid_col='is_valid',\n",
    "        seed=CFG[\"seed\"],\n",
    "        fn_col='path',\n",
    "        label_col=\"label\",\n",
    "        y_block=RegressionBlock,\n",
    "        bs=CFG['batch_size'],\n",
    "        n=CFG['n'],\n",
    "        shuffle=True,\n",
    "        num_workers=CFG['num_workers'],\n",
    "        item_tfms=Resize(CFG['size']),\n",
    "        batch_tfms=setup_aug_tfms([Brightness(), Contrast(), Hue(), Saturation(), Flip()])\n",
    "    )\n",
    "    return dataloader\n",
    "\n",
    "def gbr_accuracy(input, target):\n",
    "    return ((F.sigmoid(input.flatten()) > 0.5) == target).float().mean()"
   ]
  },
  {
   "cell_type": "code",
   "execution_count": 8,
   "id": "8f0ce1f5",
   "metadata": {
    "execution": {
     "iopub.execute_input": "2022-02-09T14:49:33.861959Z",
     "iopub.status.busy": "2022-02-09T14:49:33.860751Z",
     "iopub.status.idle": "2022-02-09T14:49:33.863277Z",
     "shell.execute_reply": "2022-02-09T14:49:33.863866Z",
     "shell.execute_reply.started": "2022-02-09T14:16:00.720699Z"
    },
    "papermill": {
     "duration": 0.026769,
     "end_time": "2022-02-09T14:49:33.864057",
     "exception": false,
     "start_time": "2022-02-09T14:49:33.837288",
     "status": "completed"
    },
    "tags": []
   },
   "outputs": [],
   "source": [
    "class TransformerModel(nn.Module):\n",
    "    def __init__(self, model_name, pretrained=True):\n",
    "        super().__init__()\n",
    "        self.model   = timm.create_model(model_name, pretrained=pretrained, num_classes=0, in_chans=3)\n",
    "        num_features = self.model.num_features\n",
    "        self.linear  = nn.Linear(num_features, 1)\n",
    "\n",
    "    def forward(self, x):\n",
    "        x = self.model(x)\n",
    "        output = self.linear(x)\n",
    "        return output\n",
    "\n",
    "def get_learner(df):\n",
    "    dataloader = prepare_dataloader(df)\n",
    "    model   = TransformerModel(CFG[\"model\"], pretrained=True)\n",
    "    learner = Learner(\n",
    "        dataloader,\n",
    "        model,\n",
    "        loss_func=BCEWithLogitsLossFlat(),\n",
    "        metrics=AccumMetric(gbr_accuracy)).to_fp16()\n",
    "    return learner"
   ]
  },
  {
   "cell_type": "code",
   "execution_count": 9,
   "id": "7eea1302",
   "metadata": {
    "execution": {
     "iopub.execute_input": "2022-02-09T14:49:33.897205Z",
     "iopub.status.busy": "2022-02-09T14:49:33.896096Z",
     "iopub.status.idle": "2022-02-09T14:49:33.917670Z",
     "shell.execute_reply": "2022-02-09T14:49:33.917019Z",
     "shell.execute_reply.started": "2022-02-09T14:16:00.735036Z"
    },
    "papermill": {
     "duration": 0.03911,
     "end_time": "2022-02-09T14:49:33.917839",
     "exception": false,
     "start_time": "2022-02-09T14:49:33.878729",
     "status": "completed"
    },
    "tags": []
   },
   "outputs": [],
   "source": [
    "valid_idx = []\n",
    "for v in df.video_id.unique():\n",
    "    df_this_video = df[df.video_id == v].copy()\n",
    "    n_half = int(df_this_video.shape[0]/3)\n",
    "    valid_idx += list(df_this_video.tail(n_half).index)\n",
    "\n",
    "df[\"is_valid\"] = 0\n",
    "df.loc[valid_idx, \"is_valid\"] = 1"
   ]
  },
  {
   "cell_type": "code",
   "execution_count": 10,
   "id": "1b2d9732",
   "metadata": {
    "execution": {
     "iopub.execute_input": "2022-02-09T14:49:33.952436Z",
     "iopub.status.busy": "2022-02-09T14:49:33.951460Z",
     "iopub.status.idle": "2022-02-09T14:49:33.963731Z",
     "shell.execute_reply": "2022-02-09T14:49:33.963061Z",
     "shell.execute_reply.started": "2022-02-09T14:16:00.766965Z"
    },
    "papermill": {
     "duration": 0.031703,
     "end_time": "2022-02-09T14:49:33.963899",
     "exception": false,
     "start_time": "2022-02-09T14:49:33.932196",
     "status": "completed"
    },
    "tags": []
   },
   "outputs": [
    {
     "data": {
      "text/plain": [
       "is_valid  label\n",
       "0         0        12403\n",
       "          1         3265\n",
       "1         0         6179\n",
       "          1         1654\n",
       "Name: label, dtype: int64"
      ]
     },
     "execution_count": 10,
     "metadata": {},
     "output_type": "execute_result"
    }
   ],
   "source": [
    "df.groupby([\"is_valid\",\"label\"]).label.count()"
   ]
  },
  {
   "cell_type": "code",
   "execution_count": 11,
   "id": "adec678d",
   "metadata": {
    "execution": {
     "iopub.execute_input": "2022-02-09T14:49:33.998561Z",
     "iopub.status.busy": "2022-02-09T14:49:33.997411Z",
     "iopub.status.idle": "2022-02-09T14:49:34.000579Z",
     "shell.execute_reply": "2022-02-09T14:49:34.000035Z",
     "shell.execute_reply.started": "2022-02-09T14:16:01.923105Z"
    },
    "papermill": {
     "duration": 0.022412,
     "end_time": "2022-02-09T14:49:34.000724",
     "exception": false,
     "start_time": "2022-02-09T14:49:33.978312",
     "status": "completed"
    },
    "tags": []
   },
   "outputs": [],
   "source": [
    "#get_learner(df).lr_find(end_lr=3e-2)\n",
    "#SuggestedLRs(valley=0.00024877983378246427)"
   ]
  },
  {
   "cell_type": "code",
   "execution_count": 12,
   "id": "845f24c5",
   "metadata": {
    "execution": {
     "iopub.execute_input": "2022-02-09T14:49:34.041332Z",
     "iopub.status.busy": "2022-02-09T14:49:34.040017Z",
     "iopub.status.idle": "2022-02-09T15:26:28.550982Z",
     "shell.execute_reply": "2022-02-09T15:26:28.551499Z"
    },
    "papermill": {
     "duration": 2214.535953,
     "end_time": "2022-02-09T15:26:28.551723",
     "exception": false,
     "start_time": "2022-02-09T14:49:34.015770",
     "status": "completed"
    },
    "tags": []
   },
   "outputs": [
    {
     "name": "stderr",
     "output_type": "stream",
     "text": [
      "Downloading: \"https://github.com/SwinTransformer/storage/releases/download/v1.0.0/swin_large_patch4_window7_224_22k.pth\" to /root/.cache/torch/hub/checkpoints/swin_large_patch4_window7_224_22k.pth\n"
     ]
    },
    {
     "data": {
      "text/html": [
       "<table border=\"1\" class=\"dataframe\">\n",
       "  <thead>\n",
       "    <tr style=\"text-align: left;\">\n",
       "      <th>epoch</th>\n",
       "      <th>train_loss</th>\n",
       "      <th>valid_loss</th>\n",
       "      <th>gbr_accuracy</th>\n",
       "      <th>time</th>\n",
       "    </tr>\n",
       "  </thead>\n",
       "  <tbody>\n",
       "    <tr>\n",
       "      <td>0</td>\n",
       "      <td>0.455363</td>\n",
       "      <td>0.610386</td>\n",
       "      <td>0.778629</td>\n",
       "      <td>09:16</td>\n",
       "    </tr>\n",
       "    <tr>\n",
       "      <td>1</td>\n",
       "      <td>0.286974</td>\n",
       "      <td>1.082221</td>\n",
       "      <td>0.554194</td>\n",
       "      <td>08:59</td>\n",
       "    </tr>\n",
       "    <tr>\n",
       "      <td>2</td>\n",
       "      <td>0.179076</td>\n",
       "      <td>1.217251</td>\n",
       "      <td>0.758458</td>\n",
       "      <td>08:49</td>\n",
       "    </tr>\n",
       "    <tr>\n",
       "      <td>3</td>\n",
       "      <td>0.101776</td>\n",
       "      <td>1.577968</td>\n",
       "      <td>0.610877</td>\n",
       "      <td>08:48</td>\n",
       "    </tr>\n",
       "  </tbody>\n",
       "</table>"
      ],
      "text/plain": [
       "<IPython.core.display.HTML object>"
      ]
     },
     "metadata": {},
     "output_type": "display_data"
    },
    {
     "name": "stdout",
     "output_type": "stream",
     "text": [
      "Better model found at epoch 0 with valid_loss value: 0.6103855967521667.\n",
      "No improvement since epoch 0: early stopping\n"
     ]
    }
   ],
   "source": [
    "all_preds = []\n",
    "\n",
    "learn = get_learner(df)\n",
    "learn.fit_one_cycle(\n",
    "    CFG[\"epochs\"],\n",
    "    CFG[\"lr\"],\n",
    "    cbs=[SaveModelCallback(),\n",
    "         EarlyStoppingCallback(monitor='valid_loss',\n",
    "                               patience=CFG['early_stopping'])]\n",
    ")\n",
    "shutil.move(\"./models/model.pth\", f\"{CFG['output_path']}{CFG['save_name']}.pth\")\n",
    "\n",
    "del learn\n",
    "torch.cuda.empty_cache()\n",
    "gc.collect()\n",
    "    \n",
    "!rm -rf ./models"
   ]
  }
 ],
 "metadata": {
  "kernelspec": {
   "display_name": "Python 3",
   "language": "python",
   "name": "python3"
  },
  "language_info": {
   "codemirror_mode": {
    "name": "ipython",
    "version": 3
   },
   "file_extension": ".py",
   "mimetype": "text/x-python",
   "name": "python",
   "nbconvert_exporter": "python",
   "pygments_lexer": "ipython3",
   "version": "3.7.12"
  },
  "papermill": {
   "default_parameters": {},
   "duration": 2232.883232,
   "end_time": "2022-02-09T15:26:30.826902",
   "environment_variables": {},
   "exception": null,
   "input_path": "__notebook__.ipynb",
   "output_path": "__notebook__.ipynb",
   "parameters": {},
   "start_time": "2022-02-09T14:49:17.943670",
   "version": "2.3.3"
  }
 },
 "nbformat": 4,
 "nbformat_minor": 5
}
