{
 "cells": [
  {
   "cell_type": "code",
   "execution_count": 1,
   "id": "afb93d5e",
   "metadata": {
    "execution": {
     "iopub.execute_input": "2022-02-13T14:21:55.577198Z",
     "iopub.status.busy": "2022-02-13T14:21:55.576129Z",
     "iopub.status.idle": "2022-02-13T14:21:57.132940Z",
     "shell.execute_reply": "2022-02-13T14:21:57.131894Z",
     "shell.execute_reply.started": "2022-02-05T08:20:48.013505Z"
    },
    "papermill": {
     "duration": 1.58737,
     "end_time": "2022-02-13T14:21:57.133120",
     "exception": false,
     "start_time": "2022-02-13T14:21:55.545750",
     "status": "completed"
    },
    "tags": []
   },
   "outputs": [],
   "source": [
    "!mkdir -p /root/.config/Ultralytics\n",
    "!cp /kaggle/input/yolov5-font/Arial.ttf /root/.config/Ultralytics/"
   ]
  },
  {
   "cell_type": "code",
   "execution_count": 2,
   "id": "9715c54c",
   "metadata": {
    "execution": {
     "iopub.execute_input": "2022-02-13T14:21:57.201312Z",
     "iopub.status.busy": "2022-02-13T14:21:57.200298Z",
     "iopub.status.idle": "2022-02-13T14:23:24.186303Z",
     "shell.execute_reply": "2022-02-13T14:23:24.185577Z",
     "shell.execute_reply.started": "2022-02-05T08:20:49.403973Z"
    },
    "papermill": {
     "duration": 87.035421,
     "end_time": "2022-02-13T14:23:24.186542",
     "exception": false,
     "start_time": "2022-02-13T14:21:57.151121",
     "status": "completed"
    },
    "tags": []
   },
   "outputs": [
    {
     "name": "stdout",
     "output_type": "stream",
     "text": [
      "/kaggle/input/norfair031py3\n",
      "Looking in links: ./\r\n",
      "Processing ./commonmark-0.9.1-py2.py3-none-any.whl\r\n",
      "Installing collected packages: commonmark\r\n",
      "Successfully installed commonmark-0.9.1\r\n",
      "\u001b[33mWARNING: Running pip as the 'root' user can result in broken permissions and conflicting behaviour with the system package manager. It is recommended to use a virtual environment instead: https://pip.pypa.io/warnings/venv\u001b[0m\r\n",
      "Processing ./rich-9.13.0-py3-none-any.whl\r\n",
      "Requirement already satisfied: commonmark<0.10.0,>=0.9.0 in /opt/conda/lib/python3.7/site-packages (from rich==9.13.0) (0.9.1)\r\n",
      "Requirement already satisfied: typing-extensions<4.0.0,>=3.7.4 in /opt/conda/lib/python3.7/site-packages (from rich==9.13.0) (3.10.0.2)\r\n",
      "Requirement already satisfied: colorama<0.5.0,>=0.4.0 in /opt/conda/lib/python3.7/site-packages (from rich==9.13.0) (0.4.4)\r\n",
      "Requirement already satisfied: pygments<3.0.0,>=2.6.0 in /opt/conda/lib/python3.7/site-packages (from rich==9.13.0) (2.10.0)\r\n",
      "Installing collected packages: rich\r\n",
      "Successfully installed rich-9.13.0\r\n",
      "\u001b[33mWARNING: Running pip as the 'root' user can result in broken permissions and conflicting behaviour with the system package manager. It is recommended to use a virtual environment instead: https://pip.pypa.io/warnings/venv\u001b[0m\r\n",
      "/kaggle/working/tmp/filterpy-1.4.5\n",
      "Processing /kaggle/working/tmp/filterpy-1.4.5\r\n",
      "  Preparing metadata (setup.py) ... \u001b[?25l-\b \bdone\r\n",
      "\u001b[?25hRequirement already satisfied: numpy in /opt/conda/lib/python3.7/site-packages (from filterpy==1.4.5) (1.19.5)\r\n",
      "Requirement already satisfied: scipy in /opt/conda/lib/python3.7/site-packages (from filterpy==1.4.5) (1.7.2)\r\n",
      "Requirement already satisfied: matplotlib in /opt/conda/lib/python3.7/site-packages (from filterpy==1.4.5) (3.5.0)\r\n",
      "Requirement already satisfied: kiwisolver>=1.0.1 in /opt/conda/lib/python3.7/site-packages (from matplotlib->filterpy==1.4.5) (1.3.2)\r\n",
      "Requirement already satisfied: python-dateutil>=2.7 in /opt/conda/lib/python3.7/site-packages (from matplotlib->filterpy==1.4.5) (2.8.0)\r\n",
      "Requirement already satisfied: cycler>=0.10 in /opt/conda/lib/python3.7/site-packages (from matplotlib->filterpy==1.4.5) (0.11.0)\r\n",
      "Requirement already satisfied: pyparsing>=2.2.1 in /opt/conda/lib/python3.7/site-packages (from matplotlib->filterpy==1.4.5) (3.0.6)\r\n",
      "Requirement already satisfied: pillow>=6.2.0 in /opt/conda/lib/python3.7/site-packages (from matplotlib->filterpy==1.4.5) (8.2.0)\r\n",
      "Requirement already satisfied: fonttools>=4.22.0 in /opt/conda/lib/python3.7/site-packages (from matplotlib->filterpy==1.4.5) (4.28.2)\r\n",
      "Requirement already satisfied: setuptools-scm>=4 in /opt/conda/lib/python3.7/site-packages (from matplotlib->filterpy==1.4.5) (6.3.2)\r\n",
      "Requirement already satisfied: packaging>=20.0 in /opt/conda/lib/python3.7/site-packages (from matplotlib->filterpy==1.4.5) (21.0)\r\n",
      "Requirement already satisfied: six>=1.5 in /opt/conda/lib/python3.7/site-packages (from python-dateutil>=2.7->matplotlib->filterpy==1.4.5) (1.16.0)\r\n",
      "Requirement already satisfied: setuptools in /opt/conda/lib/python3.7/site-packages (from setuptools-scm>=4->matplotlib->filterpy==1.4.5) (59.1.1)\r\n",
      "Requirement already satisfied: tomli>=1.0.0 in /opt/conda/lib/python3.7/site-packages (from setuptools-scm>=4->matplotlib->filterpy==1.4.5) (1.2.2)\r\n",
      "Building wheels for collected packages: filterpy\r\n",
      "  Building wheel for filterpy (setup.py) ... \u001b[?25l-\b \b\\\b \b|\b \bdone\r\n",
      "\u001b[?25h  Created wheel for filterpy: filename=filterpy-1.4.5-py3-none-any.whl size=110474 sha256=766647f57a9d5e99d95ee4187b1d14bf992eb59d4feabe5474a092432c14df82\r\n",
      "  Stored in directory: /root/.cache/pip/wheels/0e/ba/6d/20557ee403bc0c849d9fe3b358ded9918d7d2b0c5b0253fc99\r\n",
      "Successfully built filterpy\r\n",
      "Installing collected packages: filterpy\r\n",
      "Successfully installed filterpy-1.4.5\r\n",
      "\u001b[33mWARNING: Running pip as the 'root' user can result in broken permissions and conflicting behaviour with the system package manager. It is recommended to use a virtual environment instead: https://pip.pypa.io/warnings/venv\u001b[0m\r\n",
      "/kaggle/input/norfair031py3\n",
      "Looking in links: ./\r\n",
      "Processing ./norfair-0.3.1-py3-none-any.whl\r\n",
      "Requirement already satisfied: rich<10.0.0,>=9.10.0 in /opt/conda/lib/python3.7/site-packages (from norfair==0.3.1) (9.13.0)\r\n",
      "Requirement already satisfied: filterpy<2.0.0,>=1.4.5 in /opt/conda/lib/python3.7/site-packages (from norfair==0.3.1) (1.4.5)\r\n",
      "Requirement already satisfied: matplotlib in /opt/conda/lib/python3.7/site-packages (from filterpy<2.0.0,>=1.4.5->norfair==0.3.1) (3.5.0)\r\n",
      "Requirement already satisfied: numpy in /opt/conda/lib/python3.7/site-packages (from filterpy<2.0.0,>=1.4.5->norfair==0.3.1) (1.19.5)\r\n",
      "Requirement already satisfied: scipy in /opt/conda/lib/python3.7/site-packages (from filterpy<2.0.0,>=1.4.5->norfair==0.3.1) (1.7.2)\r\n",
      "Requirement already satisfied: pygments<3.0.0,>=2.6.0 in /opt/conda/lib/python3.7/site-packages (from rich<10.0.0,>=9.10.0->norfair==0.3.1) (2.10.0)\r\n",
      "Requirement already satisfied: commonmark<0.10.0,>=0.9.0 in /opt/conda/lib/python3.7/site-packages (from rich<10.0.0,>=9.10.0->norfair==0.3.1) (0.9.1)\r\n",
      "Requirement already satisfied: typing-extensions<4.0.0,>=3.7.4 in /opt/conda/lib/python3.7/site-packages (from rich<10.0.0,>=9.10.0->norfair==0.3.1) (3.10.0.2)\r\n",
      "Requirement already satisfied: colorama<0.5.0,>=0.4.0 in /opt/conda/lib/python3.7/site-packages (from rich<10.0.0,>=9.10.0->norfair==0.3.1) (0.4.4)\r\n",
      "Requirement already satisfied: python-dateutil>=2.7 in /opt/conda/lib/python3.7/site-packages (from matplotlib->filterpy<2.0.0,>=1.4.5->norfair==0.3.1) (2.8.0)\r\n",
      "Requirement already satisfied: packaging>=20.0 in /opt/conda/lib/python3.7/site-packages (from matplotlib->filterpy<2.0.0,>=1.4.5->norfair==0.3.1) (21.0)\r\n",
      "Requirement already satisfied: cycler>=0.10 in /opt/conda/lib/python3.7/site-packages (from matplotlib->filterpy<2.0.0,>=1.4.5->norfair==0.3.1) (0.11.0)\r\n",
      "Requirement already satisfied: setuptools-scm>=4 in /opt/conda/lib/python3.7/site-packages (from matplotlib->filterpy<2.0.0,>=1.4.5->norfair==0.3.1) (6.3.2)\r\n",
      "Requirement already satisfied: kiwisolver>=1.0.1 in /opt/conda/lib/python3.7/site-packages (from matplotlib->filterpy<2.0.0,>=1.4.5->norfair==0.3.1) (1.3.2)\r\n",
      "Requirement already satisfied: pyparsing>=2.2.1 in /opt/conda/lib/python3.7/site-packages (from matplotlib->filterpy<2.0.0,>=1.4.5->norfair==0.3.1) (3.0.6)\r\n",
      "Requirement already satisfied: pillow>=6.2.0 in /opt/conda/lib/python3.7/site-packages (from matplotlib->filterpy<2.0.0,>=1.4.5->norfair==0.3.1) (8.2.0)\r\n",
      "Requirement already satisfied: fonttools>=4.22.0 in /opt/conda/lib/python3.7/site-packages (from matplotlib->filterpy<2.0.0,>=1.4.5->norfair==0.3.1) (4.28.2)\r\n",
      "Requirement already satisfied: six>=1.5 in /opt/conda/lib/python3.7/site-packages (from python-dateutil>=2.7->matplotlib->filterpy<2.0.0,>=1.4.5->norfair==0.3.1) (1.16.0)\r\n",
      "Requirement already satisfied: tomli>=1.0.0 in /opt/conda/lib/python3.7/site-packages (from setuptools-scm>=4->matplotlib->filterpy<2.0.0,>=1.4.5->norfair==0.3.1) (1.2.2)\r\n",
      "Requirement already satisfied: setuptools in /opt/conda/lib/python3.7/site-packages (from setuptools-scm>=4->matplotlib->filterpy<2.0.0,>=1.4.5->norfair==0.3.1) (59.1.1)\r\n",
      "Installing collected packages: norfair\r\n",
      "Successfully installed norfair-0.3.1\r\n",
      "\u001b[33mWARNING: Running pip as the 'root' user can result in broken permissions and conflicting behaviour with the system package manager. It is recommended to use a virtual environment instead: https://pip.pypa.io/warnings/venv\u001b[0m\r\n"
     ]
    }
   ],
   "source": [
    "%cd /kaggle/input/norfair031py3/\n",
    "!pip install commonmark-0.9.1-py2.py3-none-any.whl -f ./ --no-index\n",
    "!pip install rich-9.13.0-py3-none-any.whl\n",
    "\n",
    "!mkdir /kaggle/working/tmp\n",
    "!cp -r /kaggle/input/norfair031py3/filterpy-1.4.5/filterpy-1.4.5/ /kaggle/working/tmp/\n",
    "%cd /kaggle/working/tmp/filterpy-1.4.5/\n",
    "!pip install .\n",
    "!rm -rf /kaggle/working/tmp\n",
    "\n",
    "# norfair\n",
    "%cd /kaggle/input/norfair031py3/\n",
    "!pip install norfair-0.3.1-py3-none-any.whl -f ./ --no-index"
   ]
  },
  {
   "cell_type": "code",
   "execution_count": 3,
   "id": "b6b66ecd",
   "metadata": {
    "execution": {
     "iopub.execute_input": "2022-02-13T14:23:24.253690Z",
     "iopub.status.busy": "2022-02-13T14:23:24.252599Z",
     "iopub.status.idle": "2022-02-13T14:23:24.257224Z",
     "shell.execute_reply": "2022-02-13T14:23:24.257802Z",
     "shell.execute_reply.started": "2022-02-05T08:22:03.709157Z"
    },
    "papermill": {
     "duration": 0.041947,
     "end_time": "2022-02-13T14:23:24.257982",
     "exception": false,
     "start_time": "2022-02-13T14:23:24.216035",
     "status": "completed"
    },
    "tags": []
   },
   "outputs": [
    {
     "name": "stdout",
     "output_type": "stream",
     "text": [
      "/kaggle/working\n"
     ]
    }
   ],
   "source": [
    "%cd /kaggle/working/"
   ]
  },
  {
   "cell_type": "code",
   "execution_count": 4,
   "id": "ce6a81ca",
   "metadata": {
    "execution": {
     "iopub.execute_input": "2022-02-13T14:23:24.327304Z",
     "iopub.status.busy": "2022-02-13T14:23:24.326530Z",
     "iopub.status.idle": "2022-02-13T14:23:29.538556Z",
     "shell.execute_reply": "2022-02-13T14:23:29.537537Z",
     "shell.execute_reply.started": "2022-02-05T08:22:03.720723Z"
    },
    "papermill": {
     "duration": 5.250596,
     "end_time": "2022-02-13T14:23:29.538720",
     "exception": false,
     "start_time": "2022-02-13T14:23:24.288124",
     "status": "completed"
    },
    "tags": []
   },
   "outputs": [],
   "source": [
    "import sys\n",
    "sys.path.append('../input/tensorflow-great-barrier-reef')\n",
    "sys.path.append('../input/ensemble-boxes-104/ensemble_boxes-1.0.4')\n",
    "\n",
    "import os\n",
    "import cv2\n",
    "import ast\n",
    "import glob\n",
    "import torch\n",
    "import random\n",
    "import shutil\n",
    "import numpy as np\n",
    "import pandas as pd\n",
    "import albumentations as albu\n",
    "import matplotlib.pyplot as plt\n",
    "from PIL import Image, ImageDraw\n",
    "from ensemble_boxes import *\n",
    "from tqdm.notebook import tqdm\n",
    "from norfair import Detection, Tracker\n",
    "from scipy.spatial.distance import cdist\n",
    "\n",
    "pd.set_option('display.max_columns', 50)"
   ]
  },
  {
   "cell_type": "markdown",
   "id": "b74254be",
   "metadata": {
    "papermill": {
     "duration": 0.026781,
     "end_time": "2022-02-13T14:23:29.591914",
     "exception": false,
     "start_time": "2022-02-13T14:23:29.565133",
     "status": "completed"
    },
    "tags": []
   },
   "source": [
    "# Configurations"
   ]
  },
  {
   "cell_type": "code",
   "execution_count": 5,
   "id": "72e8145e",
   "metadata": {
    "execution": {
     "iopub.execute_input": "2022-02-13T14:23:29.653106Z",
     "iopub.status.busy": "2022-02-13T14:23:29.651945Z",
     "iopub.status.idle": "2022-02-13T14:23:29.654979Z",
     "shell.execute_reply": "2022-02-13T14:23:29.654259Z",
     "shell.execute_reply.started": "2022-02-05T08:22:03.731452Z"
    },
    "papermill": {
     "duration": 0.036248,
     "end_time": "2022-02-13T14:23:29.655128",
     "exception": false,
     "start_time": "2022-02-13T14:23:29.618880",
     "status": "completed"
    },
    "tags": []
   },
   "outputs": [],
   "source": [
    "SUBMIT   = True\n",
    "IMG_SIZE = 3600\n",
    "CONF     = 0.50\n",
    "IOU      = 0.50\n",
    "IOU_WBF  = 0.50\n",
    "AUGMENT  = False\n",
    "FDA_aug  = False"
   ]
  },
  {
   "cell_type": "code",
   "execution_count": 6,
   "id": "93f6160c",
   "metadata": {
    "execution": {
     "iopub.execute_input": "2022-02-13T14:23:29.723109Z",
     "iopub.status.busy": "2022-02-13T14:23:29.717923Z",
     "iopub.status.idle": "2022-02-13T14:23:29.734641Z",
     "shell.execute_reply": "2022-02-13T14:23:29.734047Z",
     "shell.execute_reply.started": "2022-02-05T08:22:03.742839Z"
    },
    "papermill": {
     "duration": 0.052793,
     "end_time": "2022-02-13T14:23:29.734800",
     "exception": false,
     "start_time": "2022-02-13T14:23:29.682007",
     "status": "completed"
    },
    "tags": []
   },
   "outputs": [],
   "source": [
    "def voc2yolo(bboxes, image_height=720, image_width=1280):\n",
    "    \"\"\"\n",
    "    voc  => [x1, y1, x2, y1]\n",
    "    yolo => [xmid, ymid, w, h] (normalized)\n",
    "    \"\"\"\n",
    "    bboxes = bboxes.copy().astype(float) # otherwise all value will be 0 as voc_pascal dtype is np.int\n",
    "    \n",
    "    bboxes[..., [0, 2]] = bboxes[..., [0, 2]]/ image_width\n",
    "    bboxes[..., [1, 3]] = bboxes[..., [1, 3]]/ image_height\n",
    "    \n",
    "    w = bboxes[..., 2] - bboxes[..., 0]\n",
    "    h = bboxes[..., 3] - bboxes[..., 1]\n",
    "    \n",
    "    bboxes[..., 0] = bboxes[..., 0] + w/2\n",
    "    bboxes[..., 1] = bboxes[..., 1] + h/2\n",
    "    bboxes[..., 2] = w\n",
    "    bboxes[..., 3] = h\n",
    "    \n",
    "    return bboxes\n",
    "\n",
    "def yolo2voc(bboxes, image_height=720, image_width=1280):\n",
    "    \"\"\"\n",
    "    yolo => [xmid, ymid, w, h] (normalized)\n",
    "    voc  => [x1, y1, x2, y1]\n",
    "    \"\"\" \n",
    "    bboxes = bboxes.copy().astype(float) # otherwise all value will be 0 as voc_pascal dtype is np.int\n",
    "    \n",
    "    bboxes[..., [0, 2]] = bboxes[..., [0, 2]]* image_width\n",
    "    bboxes[..., [1, 3]] = bboxes[..., [1, 3]]* image_height\n",
    "    \n",
    "    bboxes[..., [0, 1]] = bboxes[..., [0, 1]] - bboxes[..., [2, 3]]/2\n",
    "    bboxes[..., [2, 3]] = bboxes[..., [0, 1]] + bboxes[..., [2, 3]]\n",
    "    \n",
    "    return bboxes\n",
    "\n",
    "def coco2yolo(bboxes, image_height=720, image_width=1280):\n",
    "    \"\"\"\n",
    "    coco => [xmin, ymin, w, h]\n",
    "    yolo => [xmid, ymid, w, h] (normalized)\n",
    "    \"\"\"\n",
    "    \n",
    "    bboxes = bboxes.copy().astype(float) # otherwise all value will be 0 as voc_pascal dtype is np.int\n",
    "    \n",
    "    # normolizinig\n",
    "    bboxes[..., [0, 2]]= bboxes[..., [0, 2]]/ image_width\n",
    "    bboxes[..., [1, 3]]= bboxes[..., [1, 3]]/ image_height\n",
    "    \n",
    "    # converstion (xmin, ymin) => (xmid, ymid)\n",
    "    bboxes[..., [0, 1]] = bboxes[..., [0, 1]] + bboxes[..., [2, 3]]/2\n",
    "    \n",
    "    return bboxes\n",
    "\n",
    "def yolo2coco(bboxes, image_height=720, image_width=1280):\n",
    "    \"\"\"\n",
    "    yolo => [xmid, ymid, w, h] (normalized)\n",
    "    coco => [xmin, ymin, w, h]\n",
    "    \"\"\" \n",
    "    bboxes = bboxes.copy().astype(float) # otherwise all value will be 0 as voc_pascal dtype is np.int\n",
    "    \n",
    "    # denormalizing\n",
    "    bboxes[..., [0, 2]]= bboxes[..., [0, 2]]* image_width\n",
    "    bboxes[..., [1, 3]]= bboxes[..., [1, 3]]* image_height\n",
    "    \n",
    "    # converstion (xmid, ymid) => (xmin, ymin) \n",
    "    bboxes[..., [0, 1]] = bboxes[..., [0, 1]] - bboxes[..., [2, 3]]/2\n",
    "    \n",
    "    return bboxes\n",
    "\n",
    "def voc2coco(bboxes, image_height=720, image_width=1280):\n",
    "    bboxes  = voc2yolo(bboxes, image_height, image_width)\n",
    "    bboxes  = yolo2coco(bboxes, image_height, image_width)\n",
    "    return bboxes\n",
    "\n",
    "def load_image(image_path):\n",
    "    return cv2.cvtColor(cv2.imread(image_path), cv2.COLOR_BGR2RGB)"
   ]
  },
  {
   "cell_type": "code",
   "execution_count": 7,
   "id": "2d36fba4",
   "metadata": {
    "execution": {
     "iopub.execute_input": "2022-02-13T14:23:29.799108Z",
     "iopub.status.busy": "2022-02-13T14:23:29.797944Z",
     "iopub.status.idle": "2022-02-13T14:23:29.800439Z",
     "shell.execute_reply": "2022-02-13T14:23:29.800990Z",
     "shell.execute_reply.started": "2022-02-05T08:22:03.765403Z"
    },
    "papermill": {
     "duration": 0.040207,
     "end_time": "2022-02-13T14:23:29.801201",
     "exception": false,
     "start_time": "2022-02-13T14:23:29.760994",
     "status": "completed"
    },
    "tags": []
   },
   "outputs": [],
   "source": [
    "def predict(model, img, size=768, augment=False):\n",
    "    height, width = img.shape[:2]\n",
    "    results = model(img, size=size, augment=augment)  # custom inference size\n",
    "    preds   = results.pandas().xyxy[0]\n",
    "    bboxes  = preds[['xmin','ymin','xmax','ymax']].values\n",
    "    if len(bboxes):\n",
    "        bboxes = voc2coco(bboxes, height, width).astype(int)\n",
    "        confs  = preds.confidence.values\n",
    "        return bboxes, confs\n",
    "    else:\n",
    "        return [],[]\n",
    "    \n",
    "def format_prediction(bboxes, confs):\n",
    "    annot = ''\n",
    "    if len(bboxes)>0:\n",
    "        for idx in range(len(bboxes)):\n",
    "            xmin, ymin, w, h = bboxes[idx]\n",
    "            conf             = confs[idx]\n",
    "            annot += f'{conf} {xmin} {ymin} {w} {h}'\n",
    "            annot +=' '\n",
    "        annot = annot.strip(' ')\n",
    "    return annot"
   ]
  },
  {
   "cell_type": "code",
   "execution_count": 8,
   "id": "4032c75b",
   "metadata": {
    "execution": {
     "iopub.execute_input": "2022-02-13T14:23:29.865277Z",
     "iopub.status.busy": "2022-02-13T14:23:29.864166Z",
     "iopub.status.idle": "2022-02-13T14:23:29.867663Z",
     "shell.execute_reply": "2022-02-13T14:23:29.867073Z",
     "shell.execute_reply.started": "2022-02-05T08:22:03.778318Z"
    },
    "papermill": {
     "duration": 0.039606,
     "end_time": "2022-02-13T14:23:29.867851",
     "exception": false,
     "start_time": "2022-02-13T14:23:29.828245",
     "status": "completed"
    },
    "tags": []
   },
   "outputs": [],
   "source": [
    "##############################################################\n",
    "#                      Tracking helpers                      #\n",
    "##############################################################\n",
    "# Helper to convert bbox in format [x_min, y_min, x_max, y_max, score] to norfair.Detection class\n",
    "def to_norfair(detects, frame_id):\n",
    "    result = []\n",
    "    for x_min, y_min, x_max, y_max, score in detects:\n",
    "        xc, yc = (x_min + x_max) / 2, (y_min + y_max) / 2\n",
    "        w, h = x_max - x_min, y_max - y_min\n",
    "        result.append(Detection(points=np.array([xc, yc]), scores=np.array([score]), data=np.array([w, h, frame_id])))\n",
    "        \n",
    "    return result\n",
    "\n",
    "# Euclidean distance function to match detections on this frame with tracked_objects from previous frames\n",
    "def euclidean_distance(detection, tracked_object):\n",
    "    return np.linalg.norm(detection.points - tracked_object.estimate)"
   ]
  },
  {
   "cell_type": "code",
   "execution_count": 9,
   "id": "8b6134ba",
   "metadata": {
    "execution": {
     "iopub.execute_input": "2022-02-13T14:23:29.935041Z",
     "iopub.status.busy": "2022-02-13T14:23:29.933551Z",
     "iopub.status.idle": "2022-02-13T14:23:29.936274Z",
     "shell.execute_reply": "2022-02-13T14:23:29.936883Z",
     "shell.execute_reply.started": "2022-02-05T08:22:03.788564Z"
    },
    "papermill": {
     "duration": 0.042635,
     "end_time": "2022-02-13T14:23:29.937081",
     "exception": false,
     "start_time": "2022-02-13T14:23:29.894446",
     "status": "completed"
    },
    "tags": []
   },
   "outputs": [],
   "source": [
    "def tracking_function(tracker, frame_id, bboxes, scores):\n",
    "    \n",
    "    detects = []\n",
    "    predictions = []\n",
    "    \n",
    "    if len(scores)>0:\n",
    "        for i in range(len(bboxes)):\n",
    "            box = bboxes[i]\n",
    "            score = scores[i]\n",
    "            x_min = int(box[0])\n",
    "            y_min = int(box[1])\n",
    "            bbox_width  = int(box[2])\n",
    "            bbox_height = int(box[3])\n",
    "            detects.append([x_min, y_min, x_min+bbox_width, y_min+bbox_height, score])\n",
    "            predictions.append('{:.2f} {} {} {} {}'.format(score, x_min, y_min, bbox_width, bbox_height))\n",
    "            \n",
    "    # Update tracks using detects from current frame\n",
    "    tracked_objects = tracker.update(detections=to_norfair(detects, frame_id))\n",
    "    for tobj in tracked_objects:\n",
    "        bbox_width, bbox_height, last_detected_frame_id = tobj.last_detection.data\n",
    "        if last_detected_frame_id == frame_id:  # Skip objects that were detected on current frame\n",
    "            continue\n",
    "        # Add objects that have no detections on current frame to predictions\n",
    "        xc, yc = tobj.estimate[0]\n",
    "        x_min, y_min = int(round(xc - bbox_width / 2)), int(round(yc - bbox_height / 2))\n",
    "        score = tobj.last_detection.scores[0]\n",
    "\n",
    "        predictions.append('{:.2f} {} {} {} {}'.format(score, x_min, y_min, bbox_width, bbox_height))\n",
    "        \n",
    "    return predictions"
   ]
  },
  {
   "cell_type": "code",
   "execution_count": 10,
   "id": "b4c28448",
   "metadata": {
    "execution": {
     "iopub.execute_input": "2022-02-13T14:23:30.002196Z",
     "iopub.status.busy": "2022-02-13T14:23:30.000962Z",
     "iopub.status.idle": "2022-02-13T14:23:30.003318Z",
     "shell.execute_reply": "2022-02-13T14:23:30.003926Z",
     "shell.execute_reply.started": "2022-02-05T08:22:03.804574Z"
    },
    "papermill": {
     "duration": 0.040177,
     "end_time": "2022-02-13T14:23:30.004106",
     "exception": false,
     "start_time": "2022-02-13T14:23:29.963929",
     "status": "completed"
    },
    "tags": []
   },
   "outputs": [],
   "source": [
    "def show_image(img, boxes):\n",
    "    img_pil = Image.fromarray(img.copy())\n",
    "    for box in boxes:\n",
    "        draw = ImageDraw.Draw(img_pil)\n",
    "        x0, y0, x1, y1 = (box[0], box[1], box[0]+box[2], box[1]+box[3])\n",
    "        draw.rectangle( (x0, y0, x1, y1), outline=180, width=3)\n",
    "    return img_pil\n",
    "\n",
    "def run_wbf(bboxes, confs, image_size, classs=None, iou_thr=0.50, skip_box_thr=0.0001, weights=None):\n",
    "    boxes  = [bbox/(image_size-1) for bbox in bboxes]\n",
    "    scores = [conf for conf in confs]    \n",
    "    labels = [np.ones(conf.shape[0]) for conf in confs]\n",
    "    boxes, scores, _ = weighted_boxes_fusion(boxes, scores, labels, weights=weights, iou_thr=iou_thr, skip_box_thr=skip_box_thr)\n",
    "    boxes  = boxes*(image_size-1)\n",
    "    return boxes, scores"
   ]
  },
  {
   "cell_type": "markdown",
   "id": "28b7ab1b",
   "metadata": {
    "papermill": {
     "duration": 0.026837,
     "end_time": "2022-02-13T14:23:30.058652",
     "exception": false,
     "start_time": "2022-02-13T14:23:30.031815",
     "status": "completed"
    },
    "tags": []
   },
   "source": [
    "# Inference"
   ]
  },
  {
   "cell_type": "code",
   "execution_count": 11,
   "id": "3da50aa5",
   "metadata": {
    "execution": {
     "iopub.execute_input": "2022-02-13T14:23:30.120667Z",
     "iopub.status.busy": "2022-02-13T14:23:30.119726Z",
     "iopub.status.idle": "2022-02-13T14:23:30.143609Z",
     "shell.execute_reply": "2022-02-13T14:23:30.142984Z",
     "shell.execute_reply.started": "2022-02-05T08:22:03.863171Z"
    },
    "papermill": {
     "duration": 0.056865,
     "end_time": "2022-02-13T14:23:30.143760",
     "exception": false,
     "start_time": "2022-02-13T14:23:30.086895",
     "status": "completed"
    },
    "tags": []
   },
   "outputs": [],
   "source": [
    "import greatbarrierreef\n",
    "env = greatbarrierreef.make_env()# initialize the environment\n",
    "iter_test = env.iter_test()      # an iterator which loops over the test set and sample submission"
   ]
  },
  {
   "cell_type": "code",
   "execution_count": 12,
   "id": "7dc33667",
   "metadata": {
    "execution": {
     "iopub.execute_input": "2022-02-13T14:23:30.205771Z",
     "iopub.status.busy": "2022-02-13T14:23:30.204913Z",
     "iopub.status.idle": "2022-02-13T14:23:43.503073Z",
     "shell.execute_reply": "2022-02-13T14:23:43.503709Z",
     "shell.execute_reply.started": "2022-02-05T08:13:14.379104Z"
    },
    "papermill": {
     "duration": 13.333205,
     "end_time": "2022-02-13T14:23:43.503908",
     "exception": false,
     "start_time": "2022-02-13T14:23:30.170703",
     "status": "completed"
    },
    "tags": []
   },
   "outputs": [
    {
     "name": "stderr",
     "output_type": "stream",
     "text": [
      "YOLOv5 🚀 2022-2-5 torch 1.9.1 CUDA:0 (Tesla P100-PCIE-16GB, 16281MiB)\n",
      "\n",
      "Fusing layers... \n",
      "Model Summary: 280 layers, 12308200 parameters, 0 gradients\n",
      "Adding AutoShape... \n",
      "YOLOv5 🚀 2022-2-5 torch 1.9.1 CUDA:0 (Tesla P100-PCIE-16GB, 16281MiB)\n",
      "\n",
      "Fusing layers... \n",
      "Model Summary: 280 layers, 12308200 parameters, 0 gradients\n",
      "Adding AutoShape... \n",
      "YOLOv5 🚀 2022-2-5 torch 1.9.1 CUDA:0 (Tesla P100-PCIE-16GB, 16281MiB)\n",
      "\n",
      "Fusing layers... \n",
      "Model Summary: 378 layers, 35254692 parameters, 0 gradients\n",
      "Adding AutoShape... \n",
      "YOLOv5 🚀 2022-2-5 torch 1.9.1 CUDA:0 (Tesla P100-PCIE-16GB, 16281MiB)\n",
      "\n",
      "Fusing layers... \n",
      "Model Summary: 280 layers, 12308200 parameters, 0 gradients\n",
      "Adding AutoShape... \n",
      "YOLOv5 🚀 2022-2-5 torch 1.9.1 CUDA:0 (Tesla P100-PCIE-16GB, 16281MiB)\n",
      "\n",
      "Fusing layers... \n",
      "Model Summary: 280 layers, 12308200 parameters, 0 gradients\n",
      "Adding AutoShape... \n"
     ]
    }
   ],
   "source": [
    "def load_model(weight_path, conf=None, iou=None):\n",
    "    model = torch.hub.load('../input/yolov5-lib-ds', \n",
    "                           'custom', \n",
    "                           path=weight_path,\n",
    "                           source='local',\n",
    "                           force_reload=True)\n",
    "    if conf is not None:\n",
    "        model.conf = conf\n",
    "    if iou is not None:\n",
    "        model.iou  = iou\n",
    "    return model\n",
    "\n",
    "model1 = load_model('../input/reef-baseline-fold12/l6_3600_uflip_vm5_f12_up/f1/best.pt', CONF, IOU)\n",
    "model2 = load_model('../input/reef-baseline-fold12/l6_3600_uflip_vm5_f12_up/f2/best.pt', CONF, IOU)\n",
    "model3 = load_model('../input/yolov5-1920-4/best.pt', CONF, IOU)\n",
    "model4 = load_model('../input/yolos-video-fold/yolov5s6_3000_b6_uflip_split91_f1_v12.pt', CONF, IOU)\n",
    "model5 = load_model('../input/yolov5s6/f2_sub2.pt', CONF, IOU)"
   ]
  },
  {
   "cell_type": "code",
   "execution_count": 13,
   "id": "eda33aff",
   "metadata": {
    "execution": {
     "iopub.execute_input": "2022-02-13T14:23:43.579822Z",
     "iopub.status.busy": "2022-02-13T14:23:43.578840Z",
     "iopub.status.idle": "2022-02-13T14:23:43.719578Z",
     "shell.execute_reply": "2022-02-13T14:23:43.720201Z",
     "shell.execute_reply.started": "2022-02-05T08:27:31.648112Z"
    },
    "papermill": {
     "duration": 0.182714,
     "end_time": "2022-02-13T14:23:43.720445",
     "exception": false,
     "start_time": "2022-02-13T14:23:43.537731",
     "status": "completed"
    },
    "tags": []
   },
   "outputs": [],
   "source": [
    "df = pd.read_csv(f'../input/tensorflow-great-barrier-reef/train.csv')\n",
    "df[\"image_path\"] = \"../input/tensorflow-great-barrier-reef/train_images/video_\" + df.video_id.astype(str) + \"/\" + df.video_frame.astype(str) + \".jpg\"\n",
    "FDA_reference = df[df['annotations']!='[]']\n",
    "FDA_trans     = albu.FDA(FDA_reference['image_path'].values)"
   ]
  },
  {
   "cell_type": "code",
   "execution_count": 14,
   "id": "81138a1c",
   "metadata": {
    "execution": {
     "iopub.execute_input": "2022-02-13T14:23:43.805293Z",
     "iopub.status.busy": "2022-02-13T14:23:43.803946Z",
     "iopub.status.idle": "2022-02-13T14:23:43.806346Z",
     "shell.execute_reply": "2022-02-13T14:23:43.806915Z",
     "shell.execute_reply.started": "2022-02-05T08:13:14.384354Z"
    },
    "papermill": {
     "duration": 0.051923,
     "end_time": "2022-02-13T14:23:43.807118",
     "exception": false,
     "start_time": "2022-02-13T14:23:43.755195",
     "status": "completed"
    },
    "tags": []
   },
   "outputs": [],
   "source": [
    "if not SUBMIT:\n",
    "    tracker = Tracker(\n",
    "        distance_function=euclidean_distance, \n",
    "        distance_threshold=30,\n",
    "        hit_inertia_min=3,\n",
    "        hit_inertia_max=6,\n",
    "        initialization_delay=1,\n",
    "    )\n",
    "    \n",
    "    filename = [f.replace(\".jpg\",\"\").zfill(5) for f in os.listdir(\"../input/tensorflow-great-barrier-reef/train_images/video_0/\")]\n",
    "    filename = sorted(filename)\n",
    "    filename = [str(int(f)) + \".jpg\" for f in filename]\n",
    "\n",
    "    n = 1000\n",
    "    frame_id = 0\n",
    "    for idx, (f) in tqdm(enumerate(filename), total=len(filename)):\n",
    "        img = cv2.imread(INPUT_PATH + f)[:, :, [2, 1, 0]]\n",
    "        bboxes1, confs1  = predict(model1, img, size=IMG_SIZE, augment=AUGMENT)\n",
    "        bboxes2, confs2  = predict(model2, img, size=IMG_SIZE, augment=AUGMENT)\n",
    "\n",
    "        if 0 < len(bboxes1) and 0 < len(bboxes2):\n",
    "            bboxes1[:, 2] = bboxes1[:, 2] + bboxes1[:, 0]\n",
    "            bboxes1[:, 3] = bboxes1[:, 3] + bboxes1[:, 1]\n",
    "            bboxes2[:, 2] = bboxes2[:, 2] + bboxes2[:, 0]\n",
    "            bboxes2[:, 3] = bboxes2[:, 3] + bboxes2[:, 1]\n",
    "            boxes_list    = [bboxes1, bboxes2]\n",
    "            scores_list   = [confs1,  confs2]\n",
    "            bboxes, confs = run_wbf(boxes_list, scores_list, IMG_SIZE, None, 0.5, 0.0001, None)\n",
    "            bboxes[:, 2]  = bboxes[:, 2] - bboxes[:, 0]\n",
    "            bboxes[:, 3]  = bboxes[:, 3] - bboxes[:, 1]\n",
    "        else:\n",
    "            bboxes = bboxes1\n",
    "            confs  = confs1\n",
    "\n",
    "        predictions    = tracking_function(tracker, frame_id, bboxes, confs)\n",
    "        prediction_str = ' '.join(predictions)\n",
    "        frame_id += 1\n",
    "\n",
    "        if idx == n:\n",
    "            break"
   ]
  },
  {
   "cell_type": "code",
   "execution_count": 15,
   "id": "8b9e0cfc",
   "metadata": {
    "execution": {
     "iopub.execute_input": "2022-02-13T14:23:43.898298Z",
     "iopub.status.busy": "2022-02-13T14:23:43.896973Z",
     "iopub.status.idle": "2022-02-13T14:23:50.660509Z",
     "shell.execute_reply": "2022-02-13T14:23:50.659904Z",
     "shell.execute_reply.started": "2022-02-05T08:13:14.397092Z"
    },
    "papermill": {
     "duration": 6.819087,
     "end_time": "2022-02-13T14:23:50.660684",
     "exception": false,
     "start_time": "2022-02-13T14:23:43.841597",
     "status": "completed"
    },
    "tags": []
   },
   "outputs": [
    {
     "data": {
      "application/vnd.jupyter.widget-view+json": {
       "model_id": "d4f26dd20cb54631a856cded1c3b23ec",
       "version_major": 2,
       "version_minor": 0
      },
      "text/plain": [
       "0it [00:00, ?it/s]"
      ]
     },
     "metadata": {},
     "output_type": "display_data"
    },
    {
     "name": "stdout",
     "output_type": "stream",
     "text": [
      "This version of the API is not optimized and should not be used to estimate the runtime of your code on the hidden test set.\n"
     ]
    }
   ],
   "source": [
    "if SUBMIT:\n",
    "    tracker = Tracker(\n",
    "        distance_function=euclidean_distance, \n",
    "        distance_threshold=30,\n",
    "        hit_inertia_min=3,\n",
    "        hit_inertia_max=6,\n",
    "        initialization_delay=1,\n",
    "    )\n",
    "\n",
    "    frame_id   = 0\n",
    "    for idx, (img, pred_df) in enumerate(tqdm(iter_test)):\n",
    "        if FDA_aug:\n",
    "            img = FDA_trans(image=img)['image']\n",
    "        bboxes1, bboxes2, bboxes3, bboxes4, bboxes5 = [], [], [], [], []\n",
    "        confs1,  confs2,  confs3,  confs4,  confs5  = [], [], [], [], []\n",
    "        bboxes1, confs1  = predict(model1, img, size=IMG_SIZE, augment=AUGMENT)\n",
    "        #bboxes2, confs2  = predict(model2, img, size=IMG_SIZE, augment=AUGMENT)\n",
    "        bboxes3, confs3  = predict(model3, img, size=IMG_SIZE, augment=AUGMENT)\n",
    "        #bboxes4, confs4  = predict(model4, img, size=IMG_SIZE, augment=AUGMENT)\n",
    "        bboxes5, confs5  = predict(model5, img, size=IMG_SIZE, augment=AUGMENT)\n",
    "\n",
    "        boxes_list  = []\n",
    "        scores_list = []\n",
    "        if 0 < len(bboxes1):\n",
    "            bboxes1[:, 2] = bboxes1[:, 2] + bboxes1[:, 0]\n",
    "            bboxes1[:, 3] = bboxes1[:, 3] + bboxes1[:, 1]\n",
    "            boxes_list.append(bboxes1)\n",
    "            scores_list.append(confs1)\n",
    "        if 0 < len(bboxes2):\n",
    "            bboxes2[:, 2] = bboxes2[:, 2] + bboxes2[:, 0]\n",
    "            bboxes2[:, 3] = bboxes2[:, 3] + bboxes2[:, 1]\n",
    "            boxes_list.append(bboxes2)\n",
    "            scores_list.append(confs2)\n",
    "        if 0 < len(bboxes3):\n",
    "            bboxes3[:, 2] = bboxes3[:, 2] + bboxes3[:, 0]\n",
    "            bboxes3[:, 3] = bboxes3[:, 3] + bboxes3[:, 1]\n",
    "            boxes_list.append(bboxes3)\n",
    "            scores_list.append(confs3)\n",
    "        if 0 < len(bboxes4):\n",
    "            bboxes4[:, 2] = bboxes4[:, 2] + bboxes4[:, 0]\n",
    "            bboxes4[:, 3] = bboxes4[:, 3] + bboxes4[:, 1]\n",
    "            boxes_list.append(bboxes4)\n",
    "            scores_list.append(confs4)\n",
    "        if 0 < len(bboxes5):\n",
    "            bboxes5[:, 2] = bboxes5[:, 2] + bboxes5[:, 0]\n",
    "            bboxes5[:, 3] = bboxes5[:, 3] + bboxes5[:, 1]\n",
    "            boxes_list.append(bboxes5)\n",
    "            scores_list.append(confs5)\n",
    "\n",
    "        if 0 < len(boxes_list):\n",
    "            bboxes, confs = run_wbf(boxes_list, scores_list, IMG_SIZE, None, IOU_WBF, 0.0001, None)\n",
    "            bboxes[:, 2]  = bboxes[:, 2] - bboxes[:, 0]\n",
    "            bboxes[:, 3]  = bboxes[:, 3] - bboxes[:, 1]\n",
    "        else:\n",
    "            bboxes = bboxes1\n",
    "            confs  = confs1\n",
    "\n",
    "        predictions    = tracking_function(tracker, frame_id, bboxes, confs)\n",
    "        prediction_str = ' '.join(predictions)\n",
    "        pred_df['annotations'] = prediction_str\n",
    "        env.predict(pred_df)\n",
    "        frame_id += 1"
   ]
  },
  {
   "cell_type": "code",
   "execution_count": 16,
   "id": "775fd67d",
   "metadata": {
    "execution": {
     "iopub.execute_input": "2022-02-13T14:23:50.734651Z",
     "iopub.status.busy": "2022-02-13T14:23:50.733591Z",
     "iopub.status.idle": "2022-02-13T14:23:50.750448Z",
     "shell.execute_reply": "2022-02-13T14:23:50.751008Z",
     "shell.execute_reply.started": "2022-02-05T08:13:14.398579Z"
    },
    "papermill": {
     "duration": 0.056451,
     "end_time": "2022-02-13T14:23:50.751187",
     "exception": false,
     "start_time": "2022-02-13T14:23:50.694736",
     "status": "completed"
    },
    "tags": []
   },
   "outputs": [
    {
     "data": {
      "text/html": [
       "<div>\n",
       "<style scoped>\n",
       "    .dataframe tbody tr th:only-of-type {\n",
       "        vertical-align: middle;\n",
       "    }\n",
       "\n",
       "    .dataframe tbody tr th {\n",
       "        vertical-align: top;\n",
       "    }\n",
       "\n",
       "    .dataframe thead th {\n",
       "        text-align: right;\n",
       "    }\n",
       "</style>\n",
       "<table border=\"1\" class=\"dataframe\">\n",
       "  <thead>\n",
       "    <tr style=\"text-align: right;\">\n",
       "      <th></th>\n",
       "      <th>index</th>\n",
       "      <th>annotations</th>\n",
       "    </tr>\n",
       "  </thead>\n",
       "  <tbody>\n",
       "    <tr>\n",
       "      <th>0</th>\n",
       "      <td>0</td>\n",
       "      <td>NaN</td>\n",
       "    </tr>\n",
       "    <tr>\n",
       "      <th>1</th>\n",
       "      <td>1</td>\n",
       "      <td>NaN</td>\n",
       "    </tr>\n",
       "    <tr>\n",
       "      <th>2</th>\n",
       "      <td>2</td>\n",
       "      <td>NaN</td>\n",
       "    </tr>\n",
       "  </tbody>\n",
       "</table>\n",
       "</div>"
      ],
      "text/plain": [
       "   index  annotations\n",
       "0      0          NaN\n",
       "1      1          NaN\n",
       "2      2          NaN"
      ]
     },
     "execution_count": 16,
     "metadata": {},
     "output_type": "execute_result"
    }
   ],
   "source": [
    "sub_df = pd.read_csv('submission.csv')\n",
    "sub_df.head()"
   ]
  }
 ],
 "metadata": {
  "kernelspec": {
   "display_name": "Python 3",
   "language": "python",
   "name": "python3"
  },
  "language_info": {
   "codemirror_mode": {
    "name": "ipython",
    "version": 3
   },
   "file_extension": ".py",
   "mimetype": "text/x-python",
   "name": "python",
   "nbconvert_exporter": "python",
   "pygments_lexer": "ipython3",
   "version": "3.7.12"
  },
  "papermill": {
   "default_parameters": {},
   "duration": 128.820009,
   "end_time": "2022-02-13T14:23:53.772609",
   "environment_variables": {},
   "exception": null,
   "input_path": "__notebook__.ipynb",
   "output_path": "__notebook__.ipynb",
   "parameters": {},
   "start_time": "2022-02-13T14:21:44.952600",
   "version": "2.3.3"
  },
  "widgets": {
   "application/vnd.jupyter.widget-state+json": {
    "state": {
     "1cd51528915e4f26bb60af2b01c511a8": {
      "model_module": "@jupyter-widgets/controls",
      "model_module_version": "1.5.0",
      "model_name": "ProgressStyleModel",
      "state": {
       "_model_module": "@jupyter-widgets/controls",
       "_model_module_version": "1.5.0",
       "_model_name": "ProgressStyleModel",
       "_view_count": null,
       "_view_module": "@jupyter-widgets/base",
       "_view_module_version": "1.2.0",
       "_view_name": "StyleView",
       "bar_color": null,
       "description_width": ""
      }
     },
     "20555b37da154861849b5fdcbd7ae111": {
      "model_module": "@jupyter-widgets/base",
      "model_module_version": "1.2.0",
      "model_name": "LayoutModel",
      "state": {
       "_model_module": "@jupyter-widgets/base",
       "_model_module_version": "1.2.0",
       "_model_name": "LayoutModel",
       "_view_count": null,
       "_view_module": "@jupyter-widgets/base",
       "_view_module_version": "1.2.0",
       "_view_name": "LayoutView",
       "align_content": null,
       "align_items": null,
       "align_self": null,
       "border": null,
       "bottom": null,
       "display": null,
       "flex": null,
       "flex_flow": null,
       "grid_area": null,
       "grid_auto_columns": null,
       "grid_auto_flow": null,
       "grid_auto_rows": null,
       "grid_column": null,
       "grid_gap": null,
       "grid_row": null,
       "grid_template_areas": null,
       "grid_template_columns": null,
       "grid_template_rows": null,
       "height": null,
       "justify_content": null,
       "justify_items": null,
       "left": null,
       "margin": null,
       "max_height": null,
       "max_width": null,
       "min_height": null,
       "min_width": null,
       "object_fit": null,
       "object_position": null,
       "order": null,
       "overflow": null,
       "overflow_x": null,
       "overflow_y": null,
       "padding": null,
       "right": null,
       "top": null,
       "visibility": null,
       "width": null
      }
     },
     "39701a7d61344e2dbb87df8479026ae7": {
      "model_module": "@jupyter-widgets/controls",
      "model_module_version": "1.5.0",
      "model_name": "HTMLModel",
      "state": {
       "_dom_classes": [],
       "_model_module": "@jupyter-widgets/controls",
       "_model_module_version": "1.5.0",
       "_model_name": "HTMLModel",
       "_view_count": null,
       "_view_module": "@jupyter-widgets/controls",
       "_view_module_version": "1.5.0",
       "_view_name": "HTMLView",
       "description": "",
       "description_tooltip": null,
       "layout": "IPY_MODEL_49d2278719564ac8bcc35367e8d5b42d",
       "placeholder": "​",
       "style": "IPY_MODEL_f2dba85587b447a5aeff49de511a68d3",
       "value": " 3/? [00:06&lt;00:00,  1.67s/it]"
      }
     },
     "3a0a94ae82a44f189efd338ba02d001d": {
      "model_module": "@jupyter-widgets/base",
      "model_module_version": "1.2.0",
      "model_name": "LayoutModel",
      "state": {
       "_model_module": "@jupyter-widgets/base",
       "_model_module_version": "1.2.0",
       "_model_name": "LayoutModel",
       "_view_count": null,
       "_view_module": "@jupyter-widgets/base",
       "_view_module_version": "1.2.0",
       "_view_name": "LayoutView",
       "align_content": null,
       "align_items": null,
       "align_self": null,
       "border": null,
       "bottom": null,
       "display": null,
       "flex": null,
       "flex_flow": null,
       "grid_area": null,
       "grid_auto_columns": null,
       "grid_auto_flow": null,
       "grid_auto_rows": null,
       "grid_column": null,
       "grid_gap": null,
       "grid_row": null,
       "grid_template_areas": null,
       "grid_template_columns": null,
       "grid_template_rows": null,
       "height": null,
       "justify_content": null,
       "justify_items": null,
       "left": null,
       "margin": null,
       "max_height": null,
       "max_width": null,
       "min_height": null,
       "min_width": null,
       "object_fit": null,
       "object_position": null,
       "order": null,
       "overflow": null,
       "overflow_x": null,
       "overflow_y": null,
       "padding": null,
       "right": null,
       "top": null,
       "visibility": null,
       "width": "20px"
      }
     },
     "49d2278719564ac8bcc35367e8d5b42d": {
      "model_module": "@jupyter-widgets/base",
      "model_module_version": "1.2.0",
      "model_name": "LayoutModel",
      "state": {
       "_model_module": "@jupyter-widgets/base",
       "_model_module_version": "1.2.0",
       "_model_name": "LayoutModel",
       "_view_count": null,
       "_view_module": "@jupyter-widgets/base",
       "_view_module_version": "1.2.0",
       "_view_name": "LayoutView",
       "align_content": null,
       "align_items": null,
       "align_self": null,
       "border": null,
       "bottom": null,
       "display": null,
       "flex": null,
       "flex_flow": null,
       "grid_area": null,
       "grid_auto_columns": null,
       "grid_auto_flow": null,
       "grid_auto_rows": null,
       "grid_column": null,
       "grid_gap": null,
       "grid_row": null,
       "grid_template_areas": null,
       "grid_template_columns": null,
       "grid_template_rows": null,
       "height": null,
       "justify_content": null,
       "justify_items": null,
       "left": null,
       "margin": null,
       "max_height": null,
       "max_width": null,
       "min_height": null,
       "min_width": null,
       "object_fit": null,
       "object_position": null,
       "order": null,
       "overflow": null,
       "overflow_x": null,
       "overflow_y": null,
       "padding": null,
       "right": null,
       "top": null,
       "visibility": null,
       "width": null
      }
     },
     "4cb840e1a2714a04aaf27ed01501d79d": {
      "model_module": "@jupyter-widgets/base",
      "model_module_version": "1.2.0",
      "model_name": "LayoutModel",
      "state": {
       "_model_module": "@jupyter-widgets/base",
       "_model_module_version": "1.2.0",
       "_model_name": "LayoutModel",
       "_view_count": null,
       "_view_module": "@jupyter-widgets/base",
       "_view_module_version": "1.2.0",
       "_view_name": "LayoutView",
       "align_content": null,
       "align_items": null,
       "align_self": null,
       "border": null,
       "bottom": null,
       "display": null,
       "flex": null,
       "flex_flow": null,
       "grid_area": null,
       "grid_auto_columns": null,
       "grid_auto_flow": null,
       "grid_auto_rows": null,
       "grid_column": null,
       "grid_gap": null,
       "grid_row": null,
       "grid_template_areas": null,
       "grid_template_columns": null,
       "grid_template_rows": null,
       "height": null,
       "justify_content": null,
       "justify_items": null,
       "left": null,
       "margin": null,
       "max_height": null,
       "max_width": null,
       "min_height": null,
       "min_width": null,
       "object_fit": null,
       "object_position": null,
       "order": null,
       "overflow": null,
       "overflow_x": null,
       "overflow_y": null,
       "padding": null,
       "right": null,
       "top": null,
       "visibility": null,
       "width": null
      }
     },
     "6ba9a71fa07643e39aecfcc01744a0ee": {
      "model_module": "@jupyter-widgets/controls",
      "model_module_version": "1.5.0",
      "model_name": "HTMLModel",
      "state": {
       "_dom_classes": [],
       "_model_module": "@jupyter-widgets/controls",
       "_model_module_version": "1.5.0",
       "_model_name": "HTMLModel",
       "_view_count": null,
       "_view_module": "@jupyter-widgets/controls",
       "_view_module_version": "1.5.0",
       "_view_name": "HTMLView",
       "description": "",
       "description_tooltip": null,
       "layout": "IPY_MODEL_4cb840e1a2714a04aaf27ed01501d79d",
       "placeholder": "​",
       "style": "IPY_MODEL_84865eb536f84ce9a68f570a8c7e9957",
       "value": ""
      }
     },
     "84865eb536f84ce9a68f570a8c7e9957": {
      "model_module": "@jupyter-widgets/controls",
      "model_module_version": "1.5.0",
      "model_name": "DescriptionStyleModel",
      "state": {
       "_model_module": "@jupyter-widgets/controls",
       "_model_module_version": "1.5.0",
       "_model_name": "DescriptionStyleModel",
       "_view_count": null,
       "_view_module": "@jupyter-widgets/base",
       "_view_module_version": "1.2.0",
       "_view_name": "StyleView",
       "description_width": ""
      }
     },
     "a9106edaa32e43bfad1831ef773a7320": {
      "model_module": "@jupyter-widgets/controls",
      "model_module_version": "1.5.0",
      "model_name": "FloatProgressModel",
      "state": {
       "_dom_classes": [],
       "_model_module": "@jupyter-widgets/controls",
       "_model_module_version": "1.5.0",
       "_model_name": "FloatProgressModel",
       "_view_count": null,
       "_view_module": "@jupyter-widgets/controls",
       "_view_module_version": "1.5.0",
       "_view_name": "ProgressView",
       "bar_style": "success",
       "description": "",
       "description_tooltip": null,
       "layout": "IPY_MODEL_3a0a94ae82a44f189efd338ba02d001d",
       "max": 1.0,
       "min": 0.0,
       "orientation": "horizontal",
       "style": "IPY_MODEL_1cd51528915e4f26bb60af2b01c511a8",
       "value": 1.0
      }
     },
     "d4f26dd20cb54631a856cded1c3b23ec": {
      "model_module": "@jupyter-widgets/controls",
      "model_module_version": "1.5.0",
      "model_name": "HBoxModel",
      "state": {
       "_dom_classes": [],
       "_model_module": "@jupyter-widgets/controls",
       "_model_module_version": "1.5.0",
       "_model_name": "HBoxModel",
       "_view_count": null,
       "_view_module": "@jupyter-widgets/controls",
       "_view_module_version": "1.5.0",
       "_view_name": "HBoxView",
       "box_style": "",
       "children": [
        "IPY_MODEL_6ba9a71fa07643e39aecfcc01744a0ee",
        "IPY_MODEL_a9106edaa32e43bfad1831ef773a7320",
        "IPY_MODEL_39701a7d61344e2dbb87df8479026ae7"
       ],
       "layout": "IPY_MODEL_20555b37da154861849b5fdcbd7ae111"
      }
     },
     "f2dba85587b447a5aeff49de511a68d3": {
      "model_module": "@jupyter-widgets/controls",
      "model_module_version": "1.5.0",
      "model_name": "DescriptionStyleModel",
      "state": {
       "_model_module": "@jupyter-widgets/controls",
       "_model_module_version": "1.5.0",
       "_model_name": "DescriptionStyleModel",
       "_view_count": null,
       "_view_module": "@jupyter-widgets/base",
       "_view_module_version": "1.2.0",
       "_view_name": "StyleView",
       "description_width": ""
      }
     }
    },
    "version_major": 2,
    "version_minor": 0
   }
  }
 },
 "nbformat": 4,
 "nbformat_minor": 5
}
